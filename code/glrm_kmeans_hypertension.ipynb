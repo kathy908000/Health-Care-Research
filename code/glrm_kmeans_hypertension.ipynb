{
 "cells": [
  {
   "cell_type": "code",
   "execution_count": 6,
   "metadata": {},
   "outputs": [],
   "source": [
    "using LowRankModels\n",
    "using CSV\n",
    "using DataFrames\n",
    "using Pkg\n",
    "using StatsBase\n",
    "using Random, SparseArrays\n",
    "#using DataArrays"
   ]
  },
  {
   "cell_type": "code",
   "execution_count": 8,
   "metadata": {},
   "outputs": [
    {
     "data": {
      "text/html": [
       "<table class=\"data-frame\"><thead><tr><th></th><th>003</th><th>004</th><th>005</th><th>007</th><th>008</th><th>009</th><th>010</th><th>011</th><th>012</th><th>013</th><th>014</th><th>015</th></tr><tr><th></th><th>Int64</th><th>Int64</th><th>Int64</th><th>Int64</th><th>Int64</th><th>Int64</th><th>Int64</th><th>Int64</th><th>Int64</th><th>Int64</th><th>Int64</th><th>Int64</th></tr></thead><tbody><p>18,031 rows × 1,090 columns (omitted printing of 1078 columns)</p><tr><th>1</th><td>0</td><td>0</td><td>0</td><td>0</td><td>0</td><td>0</td><td>0</td><td>0</td><td>0</td><td>0</td><td>0</td><td>0</td></tr><tr><th>2</th><td>0</td><td>0</td><td>0</td><td>0</td><td>0</td><td>0</td><td>0</td><td>0</td><td>0</td><td>0</td><td>0</td><td>0</td></tr><tr><th>3</th><td>0</td><td>0</td><td>0</td><td>0</td><td>0</td><td>0</td><td>0</td><td>0</td><td>0</td><td>0</td><td>0</td><td>0</td></tr><tr><th>4</th><td>0</td><td>0</td><td>0</td><td>0</td><td>0</td><td>0</td><td>0</td><td>0</td><td>0</td><td>0</td><td>0</td><td>0</td></tr><tr><th>5</th><td>0</td><td>0</td><td>0</td><td>0</td><td>0</td><td>0</td><td>0</td><td>0</td><td>0</td><td>0</td><td>0</td><td>0</td></tr><tr><th>6</th><td>0</td><td>0</td><td>0</td><td>0</td><td>0</td><td>0</td><td>0</td><td>0</td><td>0</td><td>0</td><td>0</td><td>0</td></tr><tr><th>7</th><td>0</td><td>0</td><td>0</td><td>0</td><td>0</td><td>0</td><td>0</td><td>0</td><td>0</td><td>0</td><td>0</td><td>0</td></tr><tr><th>8</th><td>0</td><td>0</td><td>0</td><td>0</td><td>0</td><td>0</td><td>0</td><td>0</td><td>0</td><td>0</td><td>0</td><td>0</td></tr><tr><th>9</th><td>0</td><td>0</td><td>0</td><td>0</td><td>0</td><td>0</td><td>0</td><td>0</td><td>0</td><td>0</td><td>0</td><td>0</td></tr><tr><th>10</th><td>0</td><td>0</td><td>0</td><td>0</td><td>0</td><td>0</td><td>0</td><td>0</td><td>0</td><td>0</td><td>0</td><td>0</td></tr><tr><th>11</th><td>0</td><td>0</td><td>0</td><td>0</td><td>0</td><td>0</td><td>0</td><td>0</td><td>0</td><td>0</td><td>0</td><td>0</td></tr><tr><th>12</th><td>0</td><td>0</td><td>0</td><td>0</td><td>0</td><td>0</td><td>0</td><td>0</td><td>0</td><td>0</td><td>0</td><td>0</td></tr><tr><th>13</th><td>0</td><td>0</td><td>0</td><td>0</td><td>0</td><td>0</td><td>0</td><td>0</td><td>0</td><td>0</td><td>0</td><td>0</td></tr><tr><th>14</th><td>0</td><td>0</td><td>0</td><td>0</td><td>0</td><td>0</td><td>0</td><td>0</td><td>0</td><td>0</td><td>0</td><td>0</td></tr><tr><th>15</th><td>0</td><td>0</td><td>0</td><td>0</td><td>0</td><td>0</td><td>0</td><td>0</td><td>0</td><td>0</td><td>0</td><td>0</td></tr><tr><th>16</th><td>0</td><td>0</td><td>0</td><td>0</td><td>0</td><td>0</td><td>0</td><td>0</td><td>0</td><td>0</td><td>0</td><td>0</td></tr><tr><th>17</th><td>0</td><td>0</td><td>0</td><td>0</td><td>0</td><td>0</td><td>0</td><td>0</td><td>0</td><td>0</td><td>0</td><td>0</td></tr><tr><th>18</th><td>0</td><td>0</td><td>0</td><td>0</td><td>0</td><td>0</td><td>0</td><td>0</td><td>0</td><td>0</td><td>0</td><td>0</td></tr><tr><th>19</th><td>0</td><td>0</td><td>0</td><td>0</td><td>0</td><td>0</td><td>0</td><td>0</td><td>0</td><td>0</td><td>0</td><td>0</td></tr><tr><th>20</th><td>0</td><td>0</td><td>0</td><td>0</td><td>0</td><td>0</td><td>0</td><td>0</td><td>0</td><td>0</td><td>0</td><td>0</td></tr><tr><th>21</th><td>0</td><td>0</td><td>0</td><td>0</td><td>0</td><td>0</td><td>0</td><td>0</td><td>0</td><td>0</td><td>0</td><td>0</td></tr><tr><th>22</th><td>0</td><td>0</td><td>0</td><td>0</td><td>0</td><td>0</td><td>0</td><td>0</td><td>0</td><td>0</td><td>0</td><td>0</td></tr><tr><th>23</th><td>0</td><td>0</td><td>0</td><td>0</td><td>0</td><td>0</td><td>0</td><td>0</td><td>0</td><td>0</td><td>0</td><td>0</td></tr><tr><th>24</th><td>0</td><td>0</td><td>0</td><td>0</td><td>0</td><td>0</td><td>0</td><td>0</td><td>0</td><td>0</td><td>0</td><td>0</td></tr><tr><th>25</th><td>0</td><td>0</td><td>0</td><td>0</td><td>0</td><td>0</td><td>0</td><td>0</td><td>0</td><td>0</td><td>0</td><td>0</td></tr><tr><th>26</th><td>0</td><td>0</td><td>0</td><td>0</td><td>0</td><td>0</td><td>0</td><td>0</td><td>0</td><td>0</td><td>0</td><td>0</td></tr><tr><th>27</th><td>0</td><td>0</td><td>0</td><td>0</td><td>0</td><td>0</td><td>0</td><td>0</td><td>0</td><td>0</td><td>0</td><td>0</td></tr><tr><th>28</th><td>0</td><td>0</td><td>0</td><td>0</td><td>0</td><td>0</td><td>0</td><td>0</td><td>0</td><td>0</td><td>0</td><td>0</td></tr><tr><th>29</th><td>0</td><td>0</td><td>0</td><td>0</td><td>0</td><td>0</td><td>0</td><td>0</td><td>0</td><td>0</td><td>0</td><td>0</td></tr><tr><th>30</th><td>0</td><td>0</td><td>0</td><td>0</td><td>0</td><td>0</td><td>0</td><td>0</td><td>0</td><td>0</td><td>0</td><td>0</td></tr><tr><th>&vellip;</th><td>&vellip;</td><td>&vellip;</td><td>&vellip;</td><td>&vellip;</td><td>&vellip;</td><td>&vellip;</td><td>&vellip;</td><td>&vellip;</td><td>&vellip;</td><td>&vellip;</td><td>&vellip;</td><td>&vellip;</td></tr></tbody></table>"
      ],
      "text/latex": [
       "\\begin{tabular}{r|ccccccccccccc}\n",
       "\t& 003 & 004 & 005 & 007 & 008 & 009 & 010 & 011 & 012 & 013 & 014 & 015 & \\\\\n",
       "\t\\hline\n",
       "\t& Int64 & Int64 & Int64 & Int64 & Int64 & Int64 & Int64 & Int64 & Int64 & Int64 & Int64 & Int64 & \\\\\n",
       "\t\\hline\n",
       "\t1 & 0 & 0 & 0 & 0 & 0 & 0 & 0 & 0 & 0 & 0 & 0 & 0 & $\\dots$ \\\\\n",
       "\t2 & 0 & 0 & 0 & 0 & 0 & 0 & 0 & 0 & 0 & 0 & 0 & 0 & $\\dots$ \\\\\n",
       "\t3 & 0 & 0 & 0 & 0 & 0 & 0 & 0 & 0 & 0 & 0 & 0 & 0 & $\\dots$ \\\\\n",
       "\t4 & 0 & 0 & 0 & 0 & 0 & 0 & 0 & 0 & 0 & 0 & 0 & 0 & $\\dots$ \\\\\n",
       "\t5 & 0 & 0 & 0 & 0 & 0 & 0 & 0 & 0 & 0 & 0 & 0 & 0 & $\\dots$ \\\\\n",
       "\t6 & 0 & 0 & 0 & 0 & 0 & 0 & 0 & 0 & 0 & 0 & 0 & 0 & $\\dots$ \\\\\n",
       "\t7 & 0 & 0 & 0 & 0 & 0 & 0 & 0 & 0 & 0 & 0 & 0 & 0 & $\\dots$ \\\\\n",
       "\t8 & 0 & 0 & 0 & 0 & 0 & 0 & 0 & 0 & 0 & 0 & 0 & 0 & $\\dots$ \\\\\n",
       "\t9 & 0 & 0 & 0 & 0 & 0 & 0 & 0 & 0 & 0 & 0 & 0 & 0 & $\\dots$ \\\\\n",
       "\t10 & 0 & 0 & 0 & 0 & 0 & 0 & 0 & 0 & 0 & 0 & 0 & 0 & $\\dots$ \\\\\n",
       "\t11 & 0 & 0 & 0 & 0 & 0 & 0 & 0 & 0 & 0 & 0 & 0 & 0 & $\\dots$ \\\\\n",
       "\t12 & 0 & 0 & 0 & 0 & 0 & 0 & 0 & 0 & 0 & 0 & 0 & 0 & $\\dots$ \\\\\n",
       "\t13 & 0 & 0 & 0 & 0 & 0 & 0 & 0 & 0 & 0 & 0 & 0 & 0 & $\\dots$ \\\\\n",
       "\t14 & 0 & 0 & 0 & 0 & 0 & 0 & 0 & 0 & 0 & 0 & 0 & 0 & $\\dots$ \\\\\n",
       "\t15 & 0 & 0 & 0 & 0 & 0 & 0 & 0 & 0 & 0 & 0 & 0 & 0 & $\\dots$ \\\\\n",
       "\t16 & 0 & 0 & 0 & 0 & 0 & 0 & 0 & 0 & 0 & 0 & 0 & 0 & $\\dots$ \\\\\n",
       "\t17 & 0 & 0 & 0 & 0 & 0 & 0 & 0 & 0 & 0 & 0 & 0 & 0 & $\\dots$ \\\\\n",
       "\t18 & 0 & 0 & 0 & 0 & 0 & 0 & 0 & 0 & 0 & 0 & 0 & 0 & $\\dots$ \\\\\n",
       "\t19 & 0 & 0 & 0 & 0 & 0 & 0 & 0 & 0 & 0 & 0 & 0 & 0 & $\\dots$ \\\\\n",
       "\t20 & 0 & 0 & 0 & 0 & 0 & 0 & 0 & 0 & 0 & 0 & 0 & 0 & $\\dots$ \\\\\n",
       "\t21 & 0 & 0 & 0 & 0 & 0 & 0 & 0 & 0 & 0 & 0 & 0 & 0 & $\\dots$ \\\\\n",
       "\t22 & 0 & 0 & 0 & 0 & 0 & 0 & 0 & 0 & 0 & 0 & 0 & 0 & $\\dots$ \\\\\n",
       "\t23 & 0 & 0 & 0 & 0 & 0 & 0 & 0 & 0 & 0 & 0 & 0 & 0 & $\\dots$ \\\\\n",
       "\t24 & 0 & 0 & 0 & 0 & 0 & 0 & 0 & 0 & 0 & 0 & 0 & 0 & $\\dots$ \\\\\n",
       "\t25 & 0 & 0 & 0 & 0 & 0 & 0 & 0 & 0 & 0 & 0 & 0 & 0 & $\\dots$ \\\\\n",
       "\t26 & 0 & 0 & 0 & 0 & 0 & 0 & 0 & 0 & 0 & 0 & 0 & 0 & $\\dots$ \\\\\n",
       "\t27 & 0 & 0 & 0 & 0 & 0 & 0 & 0 & 0 & 0 & 0 & 0 & 0 & $\\dots$ \\\\\n",
       "\t28 & 0 & 0 & 0 & 0 & 0 & 0 & 0 & 0 & 0 & 0 & 0 & 0 & $\\dots$ \\\\\n",
       "\t29 & 0 & 0 & 0 & 0 & 0 & 0 & 0 & 0 & 0 & 0 & 0 & 0 & $\\dots$ \\\\\n",
       "\t30 & 0 & 0 & 0 & 0 & 0 & 0 & 0 & 0 & 0 & 0 & 0 & 0 & $\\dots$ \\\\\n",
       "\t$\\dots$ & $\\dots$ & $\\dots$ & $\\dots$ & $\\dots$ & $\\dots$ & $\\dots$ & $\\dots$ & $\\dots$ & $\\dots$ & $\\dots$ & $\\dots$ & $\\dots$ &  \\\\\n",
       "\\end{tabular}\n"
      ],
      "text/plain": [
       "18031×1090 DataFrame. Omitted printing of 1082 columns\n",
       "│ Row   │ 003   │ 004   │ 005   │ 007   │ 008   │ 009   │ 010   │ 011   │\n",
       "│       │ \u001b[90mInt64\u001b[39m │ \u001b[90mInt64\u001b[39m │ \u001b[90mInt64\u001b[39m │ \u001b[90mInt64\u001b[39m │ \u001b[90mInt64\u001b[39m │ \u001b[90mInt64\u001b[39m │ \u001b[90mInt64\u001b[39m │ \u001b[90mInt64\u001b[39m │\n",
       "├───────┼───────┼───────┼───────┼───────┼───────┼───────┼───────┼───────┤\n",
       "│ 1     │ 0     │ 0     │ 0     │ 0     │ 0     │ 0     │ 0     │ 0     │\n",
       "│ 2     │ 0     │ 0     │ 0     │ 0     │ 0     │ 0     │ 0     │ 0     │\n",
       "│ 3     │ 0     │ 0     │ 0     │ 0     │ 0     │ 0     │ 0     │ 0     │\n",
       "│ 4     │ 0     │ 0     │ 0     │ 0     │ 0     │ 0     │ 0     │ 0     │\n",
       "│ 5     │ 0     │ 0     │ 0     │ 0     │ 0     │ 0     │ 0     │ 0     │\n",
       "│ 6     │ 0     │ 0     │ 0     │ 0     │ 0     │ 0     │ 0     │ 0     │\n",
       "│ 7     │ 0     │ 0     │ 0     │ 0     │ 0     │ 0     │ 0     │ 0     │\n",
       "│ 8     │ 0     │ 0     │ 0     │ 0     │ 0     │ 0     │ 0     │ 0     │\n",
       "│ 9     │ 0     │ 0     │ 0     │ 0     │ 0     │ 0     │ 0     │ 0     │\n",
       "│ 10    │ 0     │ 0     │ 0     │ 0     │ 0     │ 0     │ 0     │ 0     │\n",
       "⋮\n",
       "│ 18021 │ 0     │ 0     │ 0     │ 0     │ 0     │ 0     │ 0     │ 0     │\n",
       "│ 18022 │ 0     │ 0     │ 0     │ 0     │ 0     │ 0     │ 0     │ 0     │\n",
       "│ 18023 │ 0     │ 0     │ 0     │ 0     │ 0     │ 0     │ 0     │ 0     │\n",
       "│ 18024 │ 0     │ 0     │ 0     │ 0     │ 0     │ 0     │ 0     │ 0     │\n",
       "│ 18025 │ 0     │ 0     │ 0     │ 0     │ 0     │ 0     │ 0     │ 0     │\n",
       "│ 18026 │ 0     │ 0     │ 0     │ 0     │ 0     │ 0     │ 0     │ 0     │\n",
       "│ 18027 │ 0     │ 0     │ 0     │ 0     │ 0     │ 0     │ 0     │ 0     │\n",
       "│ 18028 │ 0     │ 0     │ 0     │ 0     │ 0     │ 0     │ 0     │ 0     │\n",
       "│ 18029 │ 0     │ 0     │ 0     │ 0     │ 0     │ 0     │ 0     │ 0     │\n",
       "│ 18030 │ 0     │ 0     │ 0     │ 0     │ 0     │ 0     │ 0     │ 0     │\n",
       "│ 18031 │ 0     │ 0     │ 0     │ 0     │ 0     │ 0     │ 0     │ 0     │"
      ]
     },
     "execution_count": 8,
     "metadata": {},
     "output_type": "execute_result"
    }
   ],
   "source": [
    "imp = CSV.read(\"../data/Random_Forest_Importance.csv\")\n",
    "impp = CSV.read(\"../data/Positive_Random_Forest_Importance.csv\")\n",
    "\n",
    "hyper = CSV.read(\"../data/Hypertension_Matrix.csv\")\n",
    "hyper = select!(hyper, Not(:Column1))\n",
    "hyper = select!(hyper, Not(:SUBJECT_ID )) \n",
    "hyper"
   ]
  },
  {
   "cell_type": "code",
   "execution_count": 10,
   "metadata": {},
   "outputs": [
    {
     "name": "stdout",
     "output_type": "stream",
     "text": [
      ":003, :004, :005, :007, :008, :009, :010, :011, :012, :013, :014, :015, :018, :023, :027, :031, :032, :033, :034, :035, :036, :038, :039, :040, :041, :042, :046, :047, :048, :049, :052, :053, :054, :057, :058, :070, :075, :077, :078, :079, :088, :091, :093, :094, :097, :099, :110, :111, :112, :115, :117, :121, :122, :123, :127, :130, :131, :132, :133, :135, :136, :137, :138, :139, :140, :141, :142, :143, :144, :145, :146, :147, :148, :149, :150, :151, :152, :153, :154, :155, :156, :157, :158, :159, :160, :161, :162, :163, :164, :170, :171, :172, :173, :174, :175, :176, :179, :180, :182, :183, :184, :185, :187, :188, :189, :191, :192, :193, :194, :195, :196, :197, :198, :199, :200, :201, :202, :203, :204, :205, :206, :207, :208, :209, :210, :211, :212, :213, :214, :215, :216, :217, :218, :220, :221, :223, :225, :226, :227, :228, :229, :230, :232, :233, :235, :236, :237, :238, :239, :240, :241, :242, :244, :245, :246, :249, :250, :251, :252, :253, :254, :255, :256, :257, :258, :259, :260, :261, :262, :263, :265, :266, :267, :268, :269, :270, :271, :272, :273, :274, :275, :276, :277, :278, :279, :280, :281, :282, :283, :284, :285, :286, :287, :288, :289, :290, :291, :292, :293, :294, :295, :296, :297, :298, :299, :300, :301, :302, :303, :304, :305, :306, :307, :308, :309, :310, :311, :312, :314, :315, :317, :318, :319, :320, :321, :322, :323, :324, :325, :326, :327, :330, :331, :332, :333, :334, :335, :336, :337, :338, :339, :340, :341, :342, :343, :344, :345, :346, :347, :348, :349, :350, :351, :352, :353, :354, :355, :356, :357, :358, :359, :360, :361, :362, :363, :364, :365, :366, :367, :368, :369, :370, :371, :372, :373, :374, :375, :376, :377, :378, :379, :380, :382, :383, :384, :385, :386, :388, :389, :391, :393, :394, :395, :396, :397, :398, :401, :402, :403, :404, :405, :410, :411, :412, :413, :414, :415, :416, :417, :420, :421, :422, :423, :424, :425, :426, :427, :428, :429, :430, :431, :432, :433, :434, :435, :436, :437, :438, :440, :441, :442, :443, :444, :445, :446, :447, :448, :449, :451, :452, :453, :454, :455, :456, :457, :458, :459, :461, :462, :463, :464, :465, :466, :470, :471, :472, :473, :474, :475, :477, :478, :480, :481, :482, :483, :484, :485, :486, :487, :488, :490, :491, :492, :493, :494, :495, :496, :500, :501, :502, :506, :507, :508, :510, :511, :512, :513, :514, :515, :516, :517, :518, :519, :520, :521, :522, :523, :524, :525, :526, :527, :528, :529, :530, :531, :532, :533, :534, :535, :536, :537, :539, :540, :541, :542, :543, :550, :551, :552, :553, :555, :556, :557, :558, :560, :562, :564, :565, :566, :567, :568, :569, :570, :571, :572, :573, :574, :575, :576, :577, :578, :579, :580, :581, :582, :583, :584, :585, :586, :587, :588, :589, :590, :591, :592, :593, :594, :595, :596, :597, :598, :599, :600, :601, :602, :603, :604, :605, :607, :608, :610, :611, :614, :615, :616, :617, :618, :619, :620, :621, :622, :623, :624, :625, :626, :627, :633, :639, :642, :644, :646, :647, :648, :649, :652, :654, :656, :664, :665, :666, :669, :670, :674, :677, :680, :681, :682, :683, :684, :685, :686, :690, :691, :692, :693, :694, :695, :696, :697, :698, :700, :701, :702, :703, :704, :705, :706, :707, :708, :709, :710, :711, :712, :713, :714, :715, :716, :717, :718, :719, :720, :721, :722, :723, :724, :725, :726, :727, :728, :729, :730, :731, :732, :733, :734, :735, :736, :737, :738, :741, :742, :744, :745, :746, :747, :748, :750, :751, :752, :753, :754, :755, :756, :757, :758, :759, :760, :761, :764, :765, :769, :770, :771, :772, :774, :775, :776, :777, :778, :779, :780, :781, :782, :783, :784, :785, :786, :787, :788, :789, :790, :791, :792, :793, :794, :795, :796, :799, :800, :801, :802, :803, :804, :805, :806, :807, :808, :810, :811, :812, :813, :814, :815, :816, :817, :819, :820, :821, :822, :823, :824, :825, :826, :830, :831, :832, :833, :834, :835, :836, :837, :838, :839, :840, :841, :842, :844, :845, :846, :847, :848, :850, :851, :852, :853, :854, :860, :861, :862, :863, :864, :865, :866, :867, :868, :869, :870, :872, :873, :874, :875, :876, :877, :878, :879, :880, :881, :882, :883, :884, :885, :886, :887, :890, :891, :892, :893, :896, :897, :900, :901, :902, :903, :904, :905, :906, :907, :908, :909, :910, :911, :912, :913, :914, :915, :916, :917, :918, :919, :920, :921, :922, :923, :924, :927, :928, :930, :933, :934, :935, :936, :937, :939, :941, :942, :943, :944, :945, :946, :948, :950, :951, :952, :953, :955, :956, :958, :959, :960, :961, :962, :963, :964, :965, :966, :967, :968, :969, :970, :971, :972, :974, :975, :976, :977, :980, :982, :985, :987, :988, :989, :990, :991, :992, :994, :995, :996, :997, :998, :999, :E000, :E001, :E003, :E006, :E007, :E016, :E029, :E811, :E812, :E813, :E814, :E815, :E816, :E817, :E818, :E819, :E820, :E821, :E823, :E824, :E825, :E826, :E834, :E838, :E840, :E848, :E849, :E850, :E851, :E852, :E853, :E854, :E855, :E858, :E860, :E862, :E863, :E865, :E866, :E869, :E870, :E871, :E874, :E876, :E878, :E879, :E880, :E881, :E882, :E884, :E885, :E887, :E888, :E890, :E891, :E899, :E900, :E901, :E906, :E910, :E911, :E912, :E915, :E916, :E917, :E918, :E919, :E920, :E922, :E924, :E926, :E927, :E928, :E929, :E930, :E931, :E932, :E933, :E934, :E935, :E936, :E937, :E938, :E939, :E940, :E941, :E942, :E943, :E944, :E945, :E946, :E947, :E950, :E953, :E955, :E956, :E957, :E958, :E960, :E962, :E965, :E966, :E967, :E968, :E969, :E976, :E980, :E988, :E989, :E999, :V01, :V02, :V03, :V04, :V05, :V06, :V07, :V08, :V09, :V10, :V11, :V12, :V13, :V14, :V15, :V16, :V17, :V18, :V19, :V25, :V26, :V27, :V29, :V30, :V31, :V40, :V42, :V43, :V44, :V45, :V46, :V48, :V49, :V50, :V53, :V54, :V55, :V56, :V58, :V59, :V60, :V61, :V62, :V63, :V64, :V65, :V66, :V68, :V69, :V70, :V71, :V72, :V74, :V76, :V81, :V83, :V84, :V85, :V86, :V87, :V88, :V90, :GENDER_M, :GENDER_F, :INSURANCE_Medicaid, :INSURANCE_Medicare, :INSURANCE_Private, :INSURANCE_Government, :INSURANCE_Self Pay, :LANGUAGE_nan, :LANGUAGE_ENGL, :LANGUAGE_CANT, :LANGUAGE_GREE, :LANGUAGE_CAMB, :LANGUAGE_RUSS, :LANGUAGE_CAPE, :LANGUAGE_PORT, :LANGUAGE_SPAN, :LANGUAGE_*MAN, :LANGUAGE_VIET, :LANGUAGE_ITAL, :LANGUAGE_HAIT, :LANGUAGE_PTUN, :LANGUAGE_ARAB, :LANGUAGE_POLI, :LANGUAGE_FREN, :LANGUAGE_*URD, :LANGUAGE_AMER, :LANGUAGE_MAND, :LANGUAGE_*BEN, :LANGUAGE_ALBA, :LANGUAGE_ETHI, :LANGUAGE_*TOY, :LANGUAGE_*HUN, :LANGUAGE_HIND, :LANGUAGE_*IBO, :LANGUAGE_THAI, :LANGUAGE_PERS, :LANGUAGE_*CHI, :LANGUAGE_*SPA, :LANGUAGE_*FUL, :LANGUAGE_*LEB, :LANGUAGE_KORE, :LANGUAGE_*CAN, :LANGUAGE_*CDI, :LANGUAGE_TURK, :LANGUAGE_LAOT, :LANGUAGE_*YID, :LANGUAGE_*ARM, :LANGUAGE_TAGA, :LANGUAGE_*AMH, :LANGUAGE_BENG, :LANGUAGE_* FU, :LANGUAGE_*BUR, :LANGUAGE_*TOI, :LANGUAGE_*GUJ, :LANGUAGE_*KHM, :LANGUAGE_SERB, :LANGUAGE_*NEP, :LANGUAGE_*CRE, :LANGUAGE_*TEL, :LANGUAGE_SOMA, :LANGUAGE_JAPA, :LANGUAGE_*DUT, :LANGUAGE_*TAM, :LANGUAGE_**SH, :RELIGION_UNOBTAINABLE, :RELIGION_JEWISH, :RELIGION_OTHER, :RELIGION_CATHOLIC, :RELIGION_NOT SPECIFIED, :RELIGION_PROTESTANT QUAKER, :RELIGION_EPISCOPALIAN, :RELIGION_CHRISTIAN SCIENTIST, :RELIGION_METHODIST, :RELIGION_GREEK ORTHODOX, :RELIGION_JEHOVAH'S WITNESS, :RELIGION_BUDDHIST, :RELIGION_BAPTIST, :RELIGION_nan, :RELIGION_HINDU, :RELIGION_MUSLIM, :RELIGION_7TH DAY ADVENTIST, :RELIGION_ROMANIAN EAST. ORTH, :RELIGION_UNITARIAN-UNIVERSALIST, :RELIGION_HEBREW, :MARITAL_STATUS_nan, :MARITAL_STATUS_MARRIED, :MARITAL_STATUS_WIDOWED, :MARITAL_STATUS_DIVORCED, :MARITAL_STATUS_SINGLE, :MARITAL_STATUS_SEPARATED, :MARITAL_STATUS_UNKNOWN (DEFAULT), :MARITAL_STATUS_LIFE PARTNER, :ETHNICITY_UNKNOWN/NOT SPECIFIED, :ETHNICITY_WHITE, :ETHNICITY_ASIAN, :ETHNICITY_PATIENT DECLINED TO ANSWER, :ETHNICITY_BLACK/AFRICAN AMERICAN, :ETHNICITY_HISPANIC OR LATINO, :ETHNICITY_OTHER, :ETHNICITY_MULTI RACE ETHNICITY, :ETHNICITY_WHITE - RUSSIAN, :ETHNICITY_ASIAN - CHINESE, :ETHNICITY_BLACK/CAPE VERDEAN, :ETHNICITY_ASIAN - ASIAN INDIAN, :ETHNICITY_HISPANIC/LATINO - PUERTO RICAN, :ETHNICITY_ASIAN - CAMBODIAN, :ETHNICITY_HISPANIC/LATINO - SALVADORAN, :ETHNICITY_UNABLE TO OBTAIN, :ETHNICITY_WHITE - EASTERN EUROPEAN, :ETHNICITY_WHITE - OTHER EUROPEAN, :ETHNICITY_PORTUGUESE, :ETHNICITY_HISPANIC/LATINO - DOMINICAN, :ETHNICITY_ASIAN - VIETNAMESE, :ETHNICITY_HISPANIC/LATINO - CENTRAL AMERICAN (OTHER), :ETHNICITY_AMERICAN INDIAN/ALASKA NATIVE, :ETHNICITY_ASIAN - THAI, :ETHNICITY_NATIVE HAWAIIAN OR OTHER PACIFIC ISLANDER, :ETHNICITY_MIDDLE EASTERN, :ETHNICITY_BLACK/AFRICAN, :ETHNICITY_BLACK/HAITIAN, :ETHNICITY_ASIAN - OTHER, :ETHNICITY_HISPANIC/LATINO - GUATEMALAN, :ETHNICITY_WHITE - BRAZILIAN, :ETHNICITY_HISPANIC/LATINO - COLOMBIAN, :ETHNICITY_HISPANIC/LATINO - CUBAN, :ETHNICITY_SOUTH AMERICAN, :ETHNICITY_ASIAN - FILIPINO, :ETHNICITY_ASIAN - JAPANESE, :ETHNICITY_HISPANIC/LATINO - MEXICAN, :ETHNICITY_ASIAN - KOREAN, :ETHNICITY_CARIBBEAN ISLAND, :ETHNICITY_HISPANIC/LATINO - HONDURAN, :ABOVE_90_0, :ABOVE_90_1, :ORDINAL_AGE_5, :ORDINAL_AGE_8, :ORDINAL_AGE_4, :ORDINAL_AGE_6, :ORDINAL_AGE_10, :ORDINAL_AGE_7, :ORDINAL_AGE_9, :ORDINAL_AGE_3, :ORDINAL_AGE_1, :ORDINAL_AGE_2, :DEAD_1, :DEAD_0, :ADMISSSIONS, :LOS, "
     ]
    }
   ],
   "source": [
    "#column names\n",
    "\n",
    "for name in names(hyper)\n",
    "    print(\":\", name, \", \")\n",
    "end\n",
    "\n",
    "#describe(df3)"
   ]
  },
  {
   "cell_type": "code",
   "execution_count": 5,
   "metadata": {},
   "outputs": [
    {
     "data": {
      "text/html": [
       "<table class=\"data-frame\"><thead><tr><th></th><th>LOS</th><th>HOSPITALIZATION</th><th>ORDINAL_AGE</th><th>ELECTIVE</th><th>EMERGENCY</th><th>NEWBORN</th><th>URGENT</th><th>Government</th></tr><tr><th></th><th>Float64</th><th>Int64</th><th>Int64</th><th>Int64</th><th>Int64</th><th>Int64</th><th>Int64</th><th>Int64</th></tr></thead><tbody><p>10,310 rows × 920 columns (omitted printing of 912 columns)</p><tr><th>1</th><td>3.666</td><td>1</td><td>4</td><td>0</td><td>1</td><td>0</td><td>0</td><td>0</td></tr><tr><th>2</th><td>1.2885</td><td>1</td><td>6</td><td>0</td><td>1</td><td>0</td><td>0</td><td>0</td></tr><tr><th>3</th><td>1.0508</td><td>1</td><td>8</td><td>1</td><td>0</td><td>0</td><td>0</td><td>0</td></tr><tr><th>4</th><td>14.2664</td><td>2</td><td>9</td><td>0</td><td>1</td><td>0</td><td>0</td><td>0</td></tr><tr><th>5</th><td>0.5124</td><td>1</td><td>4</td><td>0</td><td>1</td><td>0</td><td>0</td><td>0</td></tr><tr><th>6</th><td>3.5466</td><td>1</td><td>6</td><td>0</td><td>1</td><td>0</td><td>0</td><td>0</td></tr><tr><th>7</th><td>1.1224</td><td>1</td><td>8</td><td>1</td><td>0</td><td>0</td><td>0</td><td>0</td></tr><tr><th>8</th><td>5.3757</td><td>1</td><td>7</td><td>1</td><td>0</td><td>0</td><td>0</td><td>0</td></tr><tr><th>9</th><td>1.1397</td><td>1</td><td>7</td><td>0</td><td>1</td><td>0</td><td>0</td><td>0</td></tr><tr><th>10</th><td>1.9138</td><td>1</td><td>7</td><td>0</td><td>1</td><td>0</td><td>0</td><td>0</td></tr><tr><th>11</th><td>2.2017</td><td>1</td><td>9</td><td>0</td><td>1</td><td>0</td><td>0</td><td>0</td></tr><tr><th>12</th><td>1.2469</td><td>1</td><td>8</td><td>1</td><td>0</td><td>0</td><td>0</td><td>0</td></tr><tr><th>13</th><td>2.3141</td><td>1</td><td>7</td><td>0</td><td>0</td><td>0</td><td>1</td><td>0</td></tr><tr><th>14</th><td>14.5181</td><td>2</td><td>5</td><td>0</td><td>1</td><td>0</td><td>0</td><td>0</td></tr><tr><th>15</th><td>1.4941</td><td>1</td><td>6</td><td>0</td><td>1</td><td>0</td><td>0</td><td>1</td></tr><tr><th>16</th><td>17.4592</td><td>2</td><td>7</td><td>0</td><td>1</td><td>0</td><td>0</td><td>0</td></tr><tr><th>17</th><td>1.346</td><td>2</td><td>6</td><td>1</td><td>1</td><td>0</td><td>0</td><td>0</td></tr><tr><th>18</th><td>5.1326</td><td>1</td><td>8</td><td>0</td><td>1</td><td>0</td><td>0</td><td>0</td></tr><tr><th>19</th><td>3.4765</td><td>1</td><td>9</td><td>0</td><td>1</td><td>0</td><td>0</td><td>0</td></tr><tr><th>20</th><td>6.1813</td><td>2</td><td>9</td><td>0</td><td>1</td><td>0</td><td>0</td><td>0</td></tr><tr><th>21</th><td>1.3722</td><td>1</td><td>7</td><td>1</td><td>0</td><td>0</td><td>0</td><td>0</td></tr><tr><th>22</th><td>5.0941</td><td>2</td><td>6</td><td>0</td><td>1</td><td>0</td><td>0</td><td>0</td></tr><tr><th>23</th><td>3.7078</td><td>1</td><td>8</td><td>0</td><td>1</td><td>0</td><td>0</td><td>0</td></tr><tr><th>24</th><td>26.919</td><td>7</td><td>6</td><td>0</td><td>1</td><td>0</td><td>0</td><td>0</td></tr><tr><th>25</th><td>10.1558</td><td>2</td><td>8</td><td>0</td><td>1</td><td>0</td><td>0</td><td>0</td></tr><tr><th>26</th><td>1.084</td><td>1</td><td>7</td><td>1</td><td>0</td><td>0</td><td>0</td><td>0</td></tr><tr><th>27</th><td>7.1739</td><td>2</td><td>5</td><td>0</td><td>1</td><td>0</td><td>1</td><td>1</td></tr><tr><th>28</th><td>2.9076</td><td>1</td><td>8</td><td>0</td><td>0</td><td>0</td><td>1</td><td>0</td></tr><tr><th>29</th><td>8.3211</td><td>2</td><td>8</td><td>0</td><td>1</td><td>0</td><td>0</td><td>0</td></tr><tr><th>30</th><td>1.0253</td><td>1</td><td>6</td><td>0</td><td>1</td><td>0</td><td>0</td><td>0</td></tr><tr><th>&vellip;</th><td>&vellip;</td><td>&vellip;</td><td>&vellip;</td><td>&vellip;</td><td>&vellip;</td><td>&vellip;</td><td>&vellip;</td><td>&vellip;</td></tr></tbody></table>"
      ],
      "text/latex": [
       "\\begin{tabular}{r|ccccccccc}\n",
       "\t& LOS & HOSPITALIZATION & ORDINAL\\_AGE & ELECTIVE & EMERGENCY & NEWBORN & URGENT & Government & \\\\\n",
       "\t\\hline\n",
       "\t& Float64 & Int64 & Int64 & Int64 & Int64 & Int64 & Int64 & Int64 & \\\\\n",
       "\t\\hline\n",
       "\t1 & 3.666 & 1 & 4 & 0 & 1 & 0 & 0 & 0 & $\\dots$ \\\\\n",
       "\t2 & 1.2885 & 1 & 6 & 0 & 1 & 0 & 0 & 0 & $\\dots$ \\\\\n",
       "\t3 & 1.0508 & 1 & 8 & 1 & 0 & 0 & 0 & 0 & $\\dots$ \\\\\n",
       "\t4 & 14.2664 & 2 & 9 & 0 & 1 & 0 & 0 & 0 & $\\dots$ \\\\\n",
       "\t5 & 0.5124 & 1 & 4 & 0 & 1 & 0 & 0 & 0 & $\\dots$ \\\\\n",
       "\t6 & 3.5466 & 1 & 6 & 0 & 1 & 0 & 0 & 0 & $\\dots$ \\\\\n",
       "\t7 & 1.1224 & 1 & 8 & 1 & 0 & 0 & 0 & 0 & $\\dots$ \\\\\n",
       "\t8 & 5.3757 & 1 & 7 & 1 & 0 & 0 & 0 & 0 & $\\dots$ \\\\\n",
       "\t9 & 1.1397 & 1 & 7 & 0 & 1 & 0 & 0 & 0 & $\\dots$ \\\\\n",
       "\t10 & 1.9138 & 1 & 7 & 0 & 1 & 0 & 0 & 0 & $\\dots$ \\\\\n",
       "\t11 & 2.2017 & 1 & 9 & 0 & 1 & 0 & 0 & 0 & $\\dots$ \\\\\n",
       "\t12 & 1.2469 & 1 & 8 & 1 & 0 & 0 & 0 & 0 & $\\dots$ \\\\\n",
       "\t13 & 2.3141 & 1 & 7 & 0 & 0 & 0 & 1 & 0 & $\\dots$ \\\\\n",
       "\t14 & 14.5181 & 2 & 5 & 0 & 1 & 0 & 0 & 0 & $\\dots$ \\\\\n",
       "\t15 & 1.4941 & 1 & 6 & 0 & 1 & 0 & 0 & 1 & $\\dots$ \\\\\n",
       "\t16 & 17.4592 & 2 & 7 & 0 & 1 & 0 & 0 & 0 & $\\dots$ \\\\\n",
       "\t17 & 1.346 & 2 & 6 & 1 & 1 & 0 & 0 & 0 & $\\dots$ \\\\\n",
       "\t18 & 5.1326 & 1 & 8 & 0 & 1 & 0 & 0 & 0 & $\\dots$ \\\\\n",
       "\t19 & 3.4765 & 1 & 9 & 0 & 1 & 0 & 0 & 0 & $\\dots$ \\\\\n",
       "\t20 & 6.1813 & 2 & 9 & 0 & 1 & 0 & 0 & 0 & $\\dots$ \\\\\n",
       "\t21 & 1.3722 & 1 & 7 & 1 & 0 & 0 & 0 & 0 & $\\dots$ \\\\\n",
       "\t22 & 5.0941 & 2 & 6 & 0 & 1 & 0 & 0 & 0 & $\\dots$ \\\\\n",
       "\t23 & 3.7078 & 1 & 8 & 0 & 1 & 0 & 0 & 0 & $\\dots$ \\\\\n",
       "\t24 & 26.919 & 7 & 6 & 0 & 1 & 0 & 0 & 0 & $\\dots$ \\\\\n",
       "\t25 & 10.1558 & 2 & 8 & 0 & 1 & 0 & 0 & 0 & $\\dots$ \\\\\n",
       "\t26 & 1.084 & 1 & 7 & 1 & 0 & 0 & 0 & 0 & $\\dots$ \\\\\n",
       "\t27 & 7.1739 & 2 & 5 & 0 & 1 & 0 & 1 & 1 & $\\dots$ \\\\\n",
       "\t28 & 2.9076 & 1 & 8 & 0 & 0 & 0 & 1 & 0 & $\\dots$ \\\\\n",
       "\t29 & 8.3211 & 2 & 8 & 0 & 1 & 0 & 0 & 0 & $\\dots$ \\\\\n",
       "\t30 & 1.0253 & 1 & 6 & 0 & 1 & 0 & 0 & 0 & $\\dots$ \\\\\n",
       "\t$\\dots$ & $\\dots$ & $\\dots$ & $\\dots$ & $\\dots$ & $\\dots$ & $\\dots$ & $\\dots$ & $\\dots$ &  \\\\\n",
       "\\end{tabular}\n"
      ],
      "text/plain": [
       "10310×920 DataFrame. Omitted printing of 915 columns\n",
       "│ Row   │ LOS     │ HOSPITALIZATION │ ORDINAL_AGE │ ELECTIVE │ EMERGENCY │\n",
       "│       │ \u001b[90mFloat64\u001b[39m │ \u001b[90mInt64\u001b[39m           │ \u001b[90mInt64\u001b[39m       │ \u001b[90mInt64\u001b[39m    │ \u001b[90mInt64\u001b[39m     │\n",
       "├───────┼─────────┼─────────────────┼─────────────┼──────────┼───────────┤\n",
       "│ 1     │ 3.666   │ 1               │ 4           │ 0        │ 1         │\n",
       "│ 2     │ 1.2885  │ 1               │ 6           │ 0        │ 1         │\n",
       "│ 3     │ 1.0508  │ 1               │ 8           │ 1        │ 0         │\n",
       "│ 4     │ 14.2664 │ 2               │ 9           │ 0        │ 1         │\n",
       "│ 5     │ 0.5124  │ 1               │ 4           │ 0        │ 1         │\n",
       "│ 6     │ 3.5466  │ 1               │ 6           │ 0        │ 1         │\n",
       "│ 7     │ 1.1224  │ 1               │ 8           │ 1        │ 0         │\n",
       "│ 8     │ 5.3757  │ 1               │ 7           │ 1        │ 0         │\n",
       "│ 9     │ 1.1397  │ 1               │ 7           │ 0        │ 1         │\n",
       "│ 10    │ 1.9138  │ 1               │ 7           │ 0        │ 1         │\n",
       "⋮\n",
       "│ 10300 │ 9.1439  │ 1               │ 9           │ 0        │ 1         │\n",
       "│ 10301 │ 6.1242  │ 1               │ 7           │ 0        │ 1         │\n",
       "│ 10302 │ 1.0388  │ 1               │ 6           │ 0        │ 1         │\n",
       "│ 10303 │ 3.1669  │ 1               │ 8           │ 0        │ 1         │\n",
       "│ 10304 │ 0.9902  │ 1               │ 3           │ 0        │ 1         │\n",
       "│ 10305 │ 7.2813  │ 1               │ 9           │ 0        │ 1         │\n",
       "│ 10306 │ 5.6719  │ 1               │ 7           │ 0        │ 1         │\n",
       "│ 10307 │ 2.8684  │ 1               │ 7           │ 0        │ 0         │\n",
       "│ 10308 │ 3.1426  │ 1               │ 5           │ 1        │ 0         │\n",
       "│ 10309 │ 2.1615  │ 1               │ 9           │ 1        │ 0         │\n",
       "│ 10310 │ 1.1242  │ 1               │ 7           │ 1        │ 0         │"
      ]
     },
     "execution_count": 5,
     "metadata": {},
     "output_type": "execute_result"
    }
   ],
   "source": [
    "#drop columns\n",
    "#df3 = select!(df3, Not(:Column1))\n",
    "df3 = CSV.read(\"../data/Diabetes_Numerical.csv\")\n",
    "df3 = select!(df3, Not(:SUBJECT_ID )) \n",
    "df3"
   ]
  },
  {
   "cell_type": "code",
   "execution_count": 9,
   "metadata": {},
   "outputs": [
    {
     "data": {
      "text/html": [
       "<table class=\"data-frame\"><thead><tr><th></th><th>LOS</th><th>HOSPITALIZATION</th><th>ORDINAL_AGE</th><th>ELECTIVE</th><th>EMERGENCY</th><th>NEWBORN</th><th>URGENT</th><th>Government</th></tr><tr><th></th><th>Float64</th><th>Int64</th><th>Int64</th><th>Int64</th><th>Int64</th><th>Int64</th><th>Int64</th><th>Int64</th></tr></thead><tbody><p>7,901 rows × 922 columns (omitted printing of 914 columns)</p><tr><th>1</th><td>14.2664</td><td>2</td><td>9</td><td>0</td><td>1</td><td>0</td><td>0</td><td>0</td></tr><tr><th>2</th><td>5.3757</td><td>1</td><td>7</td><td>1</td><td>0</td><td>0</td><td>0</td><td>0</td></tr><tr><th>3</th><td>1.9138</td><td>1</td><td>7</td><td>0</td><td>1</td><td>0</td><td>0</td><td>0</td></tr><tr><th>4</th><td>2.2017</td><td>1</td><td>9</td><td>0</td><td>1</td><td>0</td><td>0</td><td>0</td></tr><tr><th>5</th><td>1.2469</td><td>1</td><td>8</td><td>1</td><td>0</td><td>0</td><td>0</td><td>0</td></tr><tr><th>6</th><td>5.1326</td><td>1</td><td>8</td><td>0</td><td>1</td><td>0</td><td>0</td><td>0</td></tr><tr><th>7</th><td>6.1813</td><td>2</td><td>9</td><td>0</td><td>1</td><td>0</td><td>0</td><td>0</td></tr><tr><th>8</th><td>3.7078</td><td>1</td><td>8</td><td>0</td><td>1</td><td>0</td><td>0</td><td>0</td></tr><tr><th>9</th><td>26.919</td><td>7</td><td>6</td><td>0</td><td>1</td><td>0</td><td>0</td><td>0</td></tr><tr><th>10</th><td>10.1558</td><td>2</td><td>8</td><td>0</td><td>1</td><td>0</td><td>0</td><td>0</td></tr><tr><th>11</th><td>7.1739</td><td>2</td><td>5</td><td>0</td><td>1</td><td>0</td><td>1</td><td>1</td></tr><tr><th>12</th><td>8.3211</td><td>2</td><td>8</td><td>0</td><td>1</td><td>0</td><td>0</td><td>0</td></tr><tr><th>13</th><td>1.0253</td><td>1</td><td>6</td><td>0</td><td>1</td><td>0</td><td>0</td><td>0</td></tr><tr><th>14</th><td>1.1046</td><td>1</td><td>8</td><td>0</td><td>1</td><td>0</td><td>0</td><td>0</td></tr><tr><th>15</th><td>14.5304</td><td>2</td><td>6</td><td>0</td><td>1</td><td>0</td><td>0</td><td>0</td></tr><tr><th>16</th><td>1.0838</td><td>1</td><td>8</td><td>1</td><td>0</td><td>0</td><td>0</td><td>0</td></tr><tr><th>17</th><td>1.1789</td><td>1</td><td>7</td><td>1</td><td>0</td><td>0</td><td>0</td><td>0</td></tr><tr><th>18</th><td>14.6206</td><td>3</td><td>9</td><td>0</td><td>1</td><td>0</td><td>0</td><td>0</td></tr><tr><th>19</th><td>2.06</td><td>1</td><td>5</td><td>0</td><td>1</td><td>0</td><td>0</td><td>0</td></tr><tr><th>20</th><td>56.6779</td><td>2</td><td>9</td><td>0</td><td>1</td><td>0</td><td>0</td><td>0</td></tr><tr><th>21</th><td>17.9036</td><td>4</td><td>8</td><td>0</td><td>1</td><td>0</td><td>0</td><td>0</td></tr><tr><th>22</th><td>1.3873</td><td>1</td><td>7</td><td>0</td><td>1</td><td>0</td><td>0</td><td>0</td></tr><tr><th>23</th><td>22.6098</td><td>4</td><td>6</td><td>0</td><td>1</td><td>0</td><td>0</td><td>0</td></tr><tr><th>24</th><td>3.4836</td><td>1</td><td>6</td><td>0</td><td>1</td><td>0</td><td>0</td><td>0</td></tr><tr><th>25</th><td>3.8119</td><td>1</td><td>10</td><td>0</td><td>1</td><td>0</td><td>0</td><td>0</td></tr><tr><th>26</th><td>0.9677</td><td>2</td><td>8</td><td>0</td><td>1</td><td>0</td><td>0</td><td>0</td></tr><tr><th>27</th><td>11.2628</td><td>5</td><td>7</td><td>0</td><td>1</td><td>0</td><td>1</td><td>0</td></tr><tr><th>28</th><td>94.8967</td><td>5</td><td>7</td><td>0</td><td>1</td><td>0</td><td>0</td><td>0</td></tr><tr><th>29</th><td>2.4403</td><td>1</td><td>6</td><td>0</td><td>1</td><td>0</td><td>0</td><td>0</td></tr><tr><th>30</th><td>1.1198</td><td>1</td><td>6</td><td>0</td><td>1</td><td>0</td><td>0</td><td>0</td></tr><tr><th>&vellip;</th><td>&vellip;</td><td>&vellip;</td><td>&vellip;</td><td>&vellip;</td><td>&vellip;</td><td>&vellip;</td><td>&vellip;</td><td>&vellip;</td></tr></tbody></table>"
      ],
      "text/latex": [
       "\\begin{tabular}{r|ccccccccc}\n",
       "\t& LOS & HOSPITALIZATION & ORDINAL\\_AGE & ELECTIVE & EMERGENCY & NEWBORN & URGENT & Government & \\\\\n",
       "\t\\hline\n",
       "\t& Float64 & Int64 & Int64 & Int64 & Int64 & Int64 & Int64 & Int64 & \\\\\n",
       "\t\\hline\n",
       "\t1 & 14.2664 & 2 & 9 & 0 & 1 & 0 & 0 & 0 & $\\dots$ \\\\\n",
       "\t2 & 5.3757 & 1 & 7 & 1 & 0 & 0 & 0 & 0 & $\\dots$ \\\\\n",
       "\t3 & 1.9138 & 1 & 7 & 0 & 1 & 0 & 0 & 0 & $\\dots$ \\\\\n",
       "\t4 & 2.2017 & 1 & 9 & 0 & 1 & 0 & 0 & 0 & $\\dots$ \\\\\n",
       "\t5 & 1.2469 & 1 & 8 & 1 & 0 & 0 & 0 & 0 & $\\dots$ \\\\\n",
       "\t6 & 5.1326 & 1 & 8 & 0 & 1 & 0 & 0 & 0 & $\\dots$ \\\\\n",
       "\t7 & 6.1813 & 2 & 9 & 0 & 1 & 0 & 0 & 0 & $\\dots$ \\\\\n",
       "\t8 & 3.7078 & 1 & 8 & 0 & 1 & 0 & 0 & 0 & $\\dots$ \\\\\n",
       "\t9 & 26.919 & 7 & 6 & 0 & 1 & 0 & 0 & 0 & $\\dots$ \\\\\n",
       "\t10 & 10.1558 & 2 & 8 & 0 & 1 & 0 & 0 & 0 & $\\dots$ \\\\\n",
       "\t11 & 7.1739 & 2 & 5 & 0 & 1 & 0 & 1 & 1 & $\\dots$ \\\\\n",
       "\t12 & 8.3211 & 2 & 8 & 0 & 1 & 0 & 0 & 0 & $\\dots$ \\\\\n",
       "\t13 & 1.0253 & 1 & 6 & 0 & 1 & 0 & 0 & 0 & $\\dots$ \\\\\n",
       "\t14 & 1.1046 & 1 & 8 & 0 & 1 & 0 & 0 & 0 & $\\dots$ \\\\\n",
       "\t15 & 14.5304 & 2 & 6 & 0 & 1 & 0 & 0 & 0 & $\\dots$ \\\\\n",
       "\t16 & 1.0838 & 1 & 8 & 1 & 0 & 0 & 0 & 0 & $\\dots$ \\\\\n",
       "\t17 & 1.1789 & 1 & 7 & 1 & 0 & 0 & 0 & 0 & $\\dots$ \\\\\n",
       "\t18 & 14.6206 & 3 & 9 & 0 & 1 & 0 & 0 & 0 & $\\dots$ \\\\\n",
       "\t19 & 2.06 & 1 & 5 & 0 & 1 & 0 & 0 & 0 & $\\dots$ \\\\\n",
       "\t20 & 56.6779 & 2 & 9 & 0 & 1 & 0 & 0 & 0 & $\\dots$ \\\\\n",
       "\t21 & 17.9036 & 4 & 8 & 0 & 1 & 0 & 0 & 0 & $\\dots$ \\\\\n",
       "\t22 & 1.3873 & 1 & 7 & 0 & 1 & 0 & 0 & 0 & $\\dots$ \\\\\n",
       "\t23 & 22.6098 & 4 & 6 & 0 & 1 & 0 & 0 & 0 & $\\dots$ \\\\\n",
       "\t24 & 3.4836 & 1 & 6 & 0 & 1 & 0 & 0 & 0 & $\\dots$ \\\\\n",
       "\t25 & 3.8119 & 1 & 10 & 0 & 1 & 0 & 0 & 0 & $\\dots$ \\\\\n",
       "\t26 & 0.9677 & 2 & 8 & 0 & 1 & 0 & 0 & 0 & $\\dots$ \\\\\n",
       "\t27 & 11.2628 & 5 & 7 & 0 & 1 & 0 & 1 & 0 & $\\dots$ \\\\\n",
       "\t28 & 94.8967 & 5 & 7 & 0 & 1 & 0 & 0 & 0 & $\\dots$ \\\\\n",
       "\t29 & 2.4403 & 1 & 6 & 0 & 1 & 0 & 0 & 0 & $\\dots$ \\\\\n",
       "\t30 & 1.1198 & 1 & 6 & 0 & 1 & 0 & 0 & 0 & $\\dots$ \\\\\n",
       "\t$\\dots$ & $\\dots$ & $\\dots$ & $\\dots$ & $\\dots$ & $\\dots$ & $\\dots$ & $\\dots$ & $\\dots$ &  \\\\\n",
       "\\end{tabular}\n"
      ],
      "text/plain": [
       "7901×922 DataFrame. Omitted printing of 917 columns\n",
       "│ Row  │ LOS     │ HOSPITALIZATION │ ORDINAL_AGE │ ELECTIVE │ EMERGENCY │\n",
       "│      │ \u001b[90mFloat64\u001b[39m │ \u001b[90mInt64\u001b[39m           │ \u001b[90mInt64\u001b[39m       │ \u001b[90mInt64\u001b[39m    │ \u001b[90mInt64\u001b[39m     │\n",
       "├──────┼─────────┼─────────────────┼─────────────┼──────────┼───────────┤\n",
       "│ 1    │ 14.2664 │ 2               │ 9           │ 0        │ 1         │\n",
       "│ 2    │ 5.3757  │ 1               │ 7           │ 1        │ 0         │\n",
       "│ 3    │ 1.9138  │ 1               │ 7           │ 0        │ 1         │\n",
       "│ 4    │ 2.2017  │ 1               │ 9           │ 0        │ 1         │\n",
       "│ 5    │ 1.2469  │ 1               │ 8           │ 1        │ 0         │\n",
       "│ 6    │ 5.1326  │ 1               │ 8           │ 0        │ 1         │\n",
       "│ 7    │ 6.1813  │ 2               │ 9           │ 0        │ 1         │\n",
       "│ 8    │ 3.7078  │ 1               │ 8           │ 0        │ 1         │\n",
       "│ 9    │ 26.919  │ 7               │ 6           │ 0        │ 1         │\n",
       "│ 10   │ 10.1558 │ 2               │ 8           │ 0        │ 1         │\n",
       "⋮\n",
       "│ 7891 │ 9.1439  │ 1               │ 9           │ 0        │ 1         │\n",
       "│ 7892 │ 6.1242  │ 1               │ 7           │ 0        │ 1         │\n",
       "│ 7893 │ 1.0388  │ 1               │ 6           │ 0        │ 1         │\n",
       "│ 7894 │ 3.1669  │ 1               │ 8           │ 0        │ 1         │\n",
       "│ 7895 │ 0.9902  │ 1               │ 3           │ 0        │ 1         │\n",
       "│ 7896 │ 7.2813  │ 1               │ 9           │ 0        │ 1         │\n",
       "│ 7897 │ 5.6719  │ 1               │ 7           │ 0        │ 1         │\n",
       "│ 7898 │ 2.8684  │ 1               │ 7           │ 0        │ 0         │\n",
       "│ 7899 │ 3.1426  │ 1               │ 5           │ 1        │ 0         │\n",
       "│ 7900 │ 2.1615  │ 1               │ 9           │ 1        │ 0         │\n",
       "│ 7901 │ 1.1242  │ 1               │ 7           │ 1        │ 0         │"
      ]
     },
     "execution_count": 9,
     "metadata": {},
     "output_type": "execute_result"
    }
   ],
   "source": [
    "diabetesdrg = CSV.read(\"../data/diabetesdrg.csv\")\n",
    "diabetesdrg = select!(diabetesdrg, Not(:SUBJECT_ID )) \n",
    "diabetesdrg"
   ]
  },
  {
   "cell_type": "markdown",
   "metadata": {},
   "source": [
    "# hyper simple kmeans with init"
   ]
  },
  {
   "cell_type": "code",
   "execution_count": 15,
   "metadata": {},
   "outputs": [
    {
     "ename": "TypeError",
     "evalue": "TypeError: non-boolean (Missing) used in boolean context",
     "output_type": "error",
     "traceback": [
      "TypeError: non-boolean (Missing) used in boolean context",
      "",
      "Stacktrace:",
      " [1] GLRM(::DataFrame, ::Array{Loss,1}, ::Array{Regularizer,1}, ::Array{Regularizer,1}, ::Int64; X::Array{Float64,2}, Y::Array{Float64,2}, obs::Nothing, observed_features::Array{UnitRange{Int64},1}, observed_examples::Array{UnitRange{Int64},1}, offset::Bool, scale::Bool, checknan::Bool, sparse_na::Bool) at /Users/kathy908000/.julia/packages/LowRankModels/uhtB9/src/glrm.jl:66",
      " [2] GLRM(::DataFrame, ::QuadLoss, ::UnitOneSparseConstraint, ::ZeroReg, ::Int64; kwargs::Base.Iterators.Pairs{Symbol,Bool,Tuple{Symbol},NamedTuple{(:sparse_na,),Tuple{Bool}}}) at /Users/kathy908000/.julia/packages/LowRankModels/uhtB9/src/utilities/conveniencemethods.jl:48",
      " [3] top-level scope at In[15]:6"
     ]
    }
   ],
   "source": [
    "k = 5\n",
    "A= hyper\n",
    "losses = QuadLoss() # minimize squared distance to cluster centroids\n",
    "rx = UnitOneSparseConstraint() # each row is assigned to exactly one cluster\n",
    "ry = ZeroReg() # no regularization on the cluster centroids\n",
    "glrm = GLRM(A,losses,rx,ry,k) #, sparse_na=false"
   ]
  },
  {
   "cell_type": "code",
   "execution_count": 12,
   "metadata": {},
   "outputs": [
    {
     "ename": "UndefVarError",
     "evalue": "UndefVarError: glrm not defined",
     "output_type": "error",
     "traceback": [
      "UndefVarError: glrm not defined",
      "",
      "Stacktrace:",
      " [1] top-level scope at In[12]:1"
     ]
    }
   ],
   "source": [
    "init_kmeanspp!(glrm)"
   ]
  },
  {
   "cell_type": "markdown",
   "metadata": {},
   "source": [
    "# GLRM k-means loss function with positive weight hypertension"
   ]
  },
  {
   "cell_type": "code",
   "execution_count": null,
   "metadata": {},
   "outputs": [],
   "source": []
  }
 ],
 "metadata": {
  "kernelspec": {
   "display_name": "Julia 1.4.2",
   "language": "julia",
   "name": "julia-1.4"
  },
  "language_info": {
   "file_extension": ".jl",
   "mimetype": "application/julia",
   "name": "julia",
   "version": "1.4.2"
  }
 },
 "nbformat": 4,
 "nbformat_minor": 2
}
