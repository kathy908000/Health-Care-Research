{
 "cells": [
  {
   "cell_type": "code",
   "execution_count": 19,
   "metadata": {},
   "outputs": [
    {
     "name": "stderr",
     "output_type": "stream",
     "text": [
      "\u001b[32m\u001b[1m   Updating\u001b[22m\u001b[39m registry at `~/.julia/registries/General`\n",
      "┌ Warning: Some registries failed to update:\n",
      "│     — `~/.julia/registries/General` — registry dirty\n",
      "└ @ Pkg.Types /Users/julia/buildbot/worker/package_macos64/build/usr/share/julia/stdlib/v1.4/Pkg/src/Types.jl:1131\n",
      "\u001b[32m\u001b[1m   Updating\u001b[22m\u001b[39m `~/.julia/environments/v1.4/Project.toml`\n",
      "\u001b[90m [no changes]\u001b[39m\n",
      "\u001b[32m\u001b[1m   Updating\u001b[22m\u001b[39m `~/.julia/environments/v1.4/Manifest.toml`\n",
      "\u001b[90m [no changes]\u001b[39m\n"
     ]
    }
   ],
   "source": [
    "using Pkg\n",
    "Pkg.update(\"LowRankModels\")"
   ]
  },
  {
   "cell_type": "code",
   "execution_count": 20,
   "metadata": {},
   "outputs": [],
   "source": [
    "using LowRankModels\n",
    "using CSV\n",
    "using DataFrames\n",
    "using Pkg\n",
    "using StatsBase\n",
    "using Random\n",
    "using SparseArrays"
   ]
  },
  {
   "cell_type": "code",
   "execution_count": 23,
   "metadata": {
    "scrolled": true
   },
   "outputs": [
    {
     "data": {
      "text/latex": [
       "\\texttt{CSV.read(source; copycols::Bool=false, kwargs...)} => \\texttt{DataFrame}\n",
       "\n",
       "Parses a delimited file into a \\texttt{DataFrame}. \\texttt{copycols} determines whether a copy of columns should be made when creating the DataFrame; by default, no copy is made, and the DataFrame is built with immutable, read-only \\texttt{CSV.Column} vectors. If mutable operations are needed on the DataFrame columns, set \\texttt{copycols=true}.\n",
       "\n",
       "\\texttt{CSV.read} supports the same keyword arguments as \\href{@ref}{\\texttt{CSV.File}}.\n",
       "\n"
      ],
      "text/markdown": [
       "`CSV.read(source; copycols::Bool=false, kwargs...)` => `DataFrame`\n",
       "\n",
       "Parses a delimited file into a `DataFrame`. `copycols` determines whether a copy of columns should be made when creating the DataFrame; by default, no copy is made, and the DataFrame is built with immutable, read-only `CSV.Column` vectors. If mutable operations are needed on the DataFrame columns, set `copycols=true`.\n",
       "\n",
       "`CSV.read` supports the same keyword arguments as [`CSV.File`](@ref).\n"
      ],
      "text/plain": [
       "  \u001b[36mCSV.read(source; copycols::Bool=false, kwargs...)\u001b[39m => \u001b[36mDataFrame\u001b[39m\n",
       "\n",
       "  Parses a delimited file into a \u001b[36mDataFrame\u001b[39m. \u001b[36mcopycols\u001b[39m determines whether a copy\n",
       "  of columns should be made when creating the DataFrame; by default, no copy\n",
       "  is made, and the DataFrame is built with immutable, read-only \u001b[36mCSV.Column\u001b[39m\n",
       "  vectors. If mutable operations are needed on the DataFrame columns, set\n",
       "  \u001b[36mcopycols=true\u001b[39m.\n",
       "\n",
       "  \u001b[36mCSV.read\u001b[39m supports the same keyword arguments as \u001b[36mCSV.File\u001b[39m."
      ]
     },
     "execution_count": 23,
     "metadata": {},
     "output_type": "execute_result"
    }
   ],
   "source": [
    "?CSV.read"
   ]
  },
  {
   "cell_type": "code",
   "execution_count": 2,
   "metadata": {},
   "outputs": [
    {
     "data": {
      "text/html": [
       "<table class=\"data-frame\"><thead><tr><th></th><th>SUBJECT_ID</th><th>003</th><th>004</th><th>005</th><th>007</th><th>008</th><th>009</th><th>010</th><th>011</th><th>012</th><th>013</th></tr><tr><th></th><th>Int64</th><th>Int64</th><th>Int64</th><th>Int64</th><th>Int64</th><th>Int64</th><th>Int64</th><th>Int64</th><th>Int64</th><th>Int64</th><th>Int64</th></tr></thead><tbody><p>18,031 rows × 1,001 columns (omitted printing of 990 columns)</p><tr><th>1</th><td>9</td><td>0</td><td>0</td><td>0</td><td>0</td><td>0</td><td>0</td><td>0</td><td>0</td><td>0</td><td>0</td></tr><tr><th>2</th><td>12</td><td>0</td><td>0</td><td>0</td><td>0</td><td>0</td><td>0</td><td>0</td><td>0</td><td>0</td><td>0</td></tr><tr><th>3</th><td>13</td><td>0</td><td>0</td><td>0</td><td>0</td><td>0</td><td>0</td><td>0</td><td>0</td><td>0</td><td>0</td></tr><tr><th>4</th><td>18</td><td>0</td><td>0</td><td>0</td><td>0</td><td>0</td><td>0</td><td>0</td><td>0</td><td>0</td><td>0</td></tr><tr><th>5</th><td>19</td><td>0</td><td>0</td><td>0</td><td>0</td><td>0</td><td>0</td><td>0</td><td>0</td><td>0</td><td>0</td></tr><tr><th>6</th><td>20</td><td>0</td><td>0</td><td>0</td><td>0</td><td>0</td><td>0</td><td>0</td><td>0</td><td>0</td><td>0</td></tr><tr><th>7</th><td>22</td><td>0</td><td>0</td><td>0</td><td>0</td><td>0</td><td>0</td><td>0</td><td>0</td><td>0</td><td>0</td></tr><tr><th>8</th><td>23</td><td>0</td><td>0</td><td>0</td><td>0</td><td>0</td><td>0</td><td>0</td><td>0</td><td>0</td><td>0</td></tr><tr><th>9</th><td>25</td><td>0</td><td>0</td><td>0</td><td>0</td><td>0</td><td>0</td><td>0</td><td>0</td><td>0</td><td>0</td></tr><tr><th>10</th><td>30</td><td>0</td><td>0</td><td>0</td><td>0</td><td>0</td><td>0</td><td>0</td><td>0</td><td>0</td><td>0</td></tr><tr><th>11</th><td>31</td><td>0</td><td>0</td><td>0</td><td>0</td><td>0</td><td>0</td><td>0</td><td>0</td><td>0</td><td>0</td></tr><tr><th>12</th><td>32</td><td>0</td><td>0</td><td>0</td><td>0</td><td>0</td><td>0</td><td>0</td><td>0</td><td>0</td><td>0</td></tr><tr><th>13</th><td>35</td><td>0</td><td>0</td><td>0</td><td>0</td><td>0</td><td>0</td><td>0</td><td>0</td><td>0</td><td>0</td></tr><tr><th>14</th><td>36</td><td>0</td><td>0</td><td>0</td><td>0</td><td>0</td><td>0</td><td>0</td><td>0</td><td>0</td><td>0</td></tr><tr><th>15</th><td>41</td><td>0</td><td>0</td><td>0</td><td>0</td><td>0</td><td>0</td><td>0</td><td>0</td><td>0</td><td>0</td></tr><tr><th>16</th><td>42</td><td>0</td><td>0</td><td>0</td><td>0</td><td>0</td><td>0</td><td>0</td><td>0</td><td>0</td><td>0</td></tr><tr><th>17</th><td>44</td><td>0</td><td>0</td><td>0</td><td>0</td><td>0</td><td>0</td><td>0</td><td>0</td><td>0</td><td>0</td></tr><tr><th>18</th><td>53</td><td>0</td><td>0</td><td>0</td><td>0</td><td>0</td><td>0</td><td>0</td><td>0</td><td>0</td><td>0</td></tr><tr><th>19</th><td>55</td><td>0</td><td>0</td><td>0</td><td>0</td><td>0</td><td>0</td><td>0</td><td>0</td><td>0</td><td>0</td></tr><tr><th>20</th><td>56</td><td>0</td><td>0</td><td>0</td><td>0</td><td>0</td><td>0</td><td>0</td><td>0</td><td>0</td><td>0</td></tr><tr><th>21</th><td>67</td><td>0</td><td>0</td><td>0</td><td>0</td><td>0</td><td>0</td><td>0</td><td>0</td><td>0</td><td>0</td></tr><tr><th>22</th><td>73</td><td>0</td><td>0</td><td>0</td><td>0</td><td>0</td><td>0</td><td>0</td><td>0</td><td>0</td><td>0</td></tr><tr><th>23</th><td>75</td><td>0</td><td>0</td><td>0</td><td>0</td><td>0</td><td>0</td><td>0</td><td>0</td><td>0</td><td>0</td></tr><tr><th>24</th><td>81</td><td>0</td><td>0</td><td>0</td><td>0</td><td>0</td><td>0</td><td>0</td><td>0</td><td>0</td><td>0</td></tr><tr><th>25</th><td>94</td><td>0</td><td>0</td><td>0</td><td>0</td><td>0</td><td>0</td><td>0</td><td>0</td><td>0</td><td>0</td></tr><tr><th>26</th><td>97</td><td>0</td><td>0</td><td>0</td><td>0</td><td>0</td><td>0</td><td>0</td><td>0</td><td>0</td><td>0</td></tr><tr><th>27</th><td>99</td><td>0</td><td>0</td><td>0</td><td>0</td><td>0</td><td>0</td><td>0</td><td>0</td><td>0</td><td>0</td></tr><tr><th>28</th><td>103</td><td>0</td><td>0</td><td>0</td><td>0</td><td>0</td><td>0</td><td>0</td><td>0</td><td>0</td><td>0</td></tr><tr><th>29</th><td>106</td><td>0</td><td>0</td><td>0</td><td>0</td><td>0</td><td>0</td><td>0</td><td>0</td><td>0</td><td>0</td></tr><tr><th>30</th><td>108</td><td>0</td><td>0</td><td>0</td><td>0</td><td>0</td><td>0</td><td>0</td><td>0</td><td>0</td><td>0</td></tr><tr><th>&vellip;</th><td>&vellip;</td><td>&vellip;</td><td>&vellip;</td><td>&vellip;</td><td>&vellip;</td><td>&vellip;</td><td>&vellip;</td><td>&vellip;</td><td>&vellip;</td><td>&vellip;</td><td>&vellip;</td></tr></tbody></table>"
      ],
      "text/latex": [
       "\\begin{tabular}{r|cccccccccccc}\n",
       "\t& SUBJECT\\_ID & 003 & 004 & 005 & 007 & 008 & 009 & 010 & 011 & 012 & 013 & \\\\\n",
       "\t\\hline\n",
       "\t& Int64 & Int64 & Int64 & Int64 & Int64 & Int64 & Int64 & Int64 & Int64 & Int64 & Int64 & \\\\\n",
       "\t\\hline\n",
       "\t1 & 9 & 0 & 0 & 0 & 0 & 0 & 0 & 0 & 0 & 0 & 0 & $\\dots$ \\\\\n",
       "\t2 & 12 & 0 & 0 & 0 & 0 & 0 & 0 & 0 & 0 & 0 & 0 & $\\dots$ \\\\\n",
       "\t3 & 13 & 0 & 0 & 0 & 0 & 0 & 0 & 0 & 0 & 0 & 0 & $\\dots$ \\\\\n",
       "\t4 & 18 & 0 & 0 & 0 & 0 & 0 & 0 & 0 & 0 & 0 & 0 & $\\dots$ \\\\\n",
       "\t5 & 19 & 0 & 0 & 0 & 0 & 0 & 0 & 0 & 0 & 0 & 0 & $\\dots$ \\\\\n",
       "\t6 & 20 & 0 & 0 & 0 & 0 & 0 & 0 & 0 & 0 & 0 & 0 & $\\dots$ \\\\\n",
       "\t7 & 22 & 0 & 0 & 0 & 0 & 0 & 0 & 0 & 0 & 0 & 0 & $\\dots$ \\\\\n",
       "\t8 & 23 & 0 & 0 & 0 & 0 & 0 & 0 & 0 & 0 & 0 & 0 & $\\dots$ \\\\\n",
       "\t9 & 25 & 0 & 0 & 0 & 0 & 0 & 0 & 0 & 0 & 0 & 0 & $\\dots$ \\\\\n",
       "\t10 & 30 & 0 & 0 & 0 & 0 & 0 & 0 & 0 & 0 & 0 & 0 & $\\dots$ \\\\\n",
       "\t11 & 31 & 0 & 0 & 0 & 0 & 0 & 0 & 0 & 0 & 0 & 0 & $\\dots$ \\\\\n",
       "\t12 & 32 & 0 & 0 & 0 & 0 & 0 & 0 & 0 & 0 & 0 & 0 & $\\dots$ \\\\\n",
       "\t13 & 35 & 0 & 0 & 0 & 0 & 0 & 0 & 0 & 0 & 0 & 0 & $\\dots$ \\\\\n",
       "\t14 & 36 & 0 & 0 & 0 & 0 & 0 & 0 & 0 & 0 & 0 & 0 & $\\dots$ \\\\\n",
       "\t15 & 41 & 0 & 0 & 0 & 0 & 0 & 0 & 0 & 0 & 0 & 0 & $\\dots$ \\\\\n",
       "\t16 & 42 & 0 & 0 & 0 & 0 & 0 & 0 & 0 & 0 & 0 & 0 & $\\dots$ \\\\\n",
       "\t17 & 44 & 0 & 0 & 0 & 0 & 0 & 0 & 0 & 0 & 0 & 0 & $\\dots$ \\\\\n",
       "\t18 & 53 & 0 & 0 & 0 & 0 & 0 & 0 & 0 & 0 & 0 & 0 & $\\dots$ \\\\\n",
       "\t19 & 55 & 0 & 0 & 0 & 0 & 0 & 0 & 0 & 0 & 0 & 0 & $\\dots$ \\\\\n",
       "\t20 & 56 & 0 & 0 & 0 & 0 & 0 & 0 & 0 & 0 & 0 & 0 & $\\dots$ \\\\\n",
       "\t21 & 67 & 0 & 0 & 0 & 0 & 0 & 0 & 0 & 0 & 0 & 0 & $\\dots$ \\\\\n",
       "\t22 & 73 & 0 & 0 & 0 & 0 & 0 & 0 & 0 & 0 & 0 & 0 & $\\dots$ \\\\\n",
       "\t23 & 75 & 0 & 0 & 0 & 0 & 0 & 0 & 0 & 0 & 0 & 0 & $\\dots$ \\\\\n",
       "\t24 & 81 & 0 & 0 & 0 & 0 & 0 & 0 & 0 & 0 & 0 & 0 & $\\dots$ \\\\\n",
       "\t25 & 94 & 0 & 0 & 0 & 0 & 0 & 0 & 0 & 0 & 0 & 0 & $\\dots$ \\\\\n",
       "\t26 & 97 & 0 & 0 & 0 & 0 & 0 & 0 & 0 & 0 & 0 & 0 & $\\dots$ \\\\\n",
       "\t27 & 99 & 0 & 0 & 0 & 0 & 0 & 0 & 0 & 0 & 0 & 0 & $\\dots$ \\\\\n",
       "\t28 & 103 & 0 & 0 & 0 & 0 & 0 & 0 & 0 & 0 & 0 & 0 & $\\dots$ \\\\\n",
       "\t29 & 106 & 0 & 0 & 0 & 0 & 0 & 0 & 0 & 0 & 0 & 0 & $\\dots$ \\\\\n",
       "\t30 & 108 & 0 & 0 & 0 & 0 & 0 & 0 & 0 & 0 & 0 & 0 & $\\dots$ \\\\\n",
       "\t$\\dots$ & $\\dots$ & $\\dots$ & $\\dots$ & $\\dots$ & $\\dots$ & $\\dots$ & $\\dots$ & $\\dots$ & $\\dots$ & $\\dots$ & $\\dots$ &  \\\\\n",
       "\\end{tabular}\n"
      ],
      "text/plain": [
       "18031×1001 DataFrame. Omitted printing of 993 columns\n",
       "│ Row   │ SUBJECT_ID │ 003   │ 004   │ 005   │ 007   │ 008   │ 009   │ 010   │\n",
       "│       │ \u001b[90mInt64\u001b[39m      │ \u001b[90mInt64\u001b[39m │ \u001b[90mInt64\u001b[39m │ \u001b[90mInt64\u001b[39m │ \u001b[90mInt64\u001b[39m │ \u001b[90mInt64\u001b[39m │ \u001b[90mInt64\u001b[39m │ \u001b[90mInt64\u001b[39m │\n",
       "├───────┼────────────┼───────┼───────┼───────┼───────┼───────┼───────┼───────┤\n",
       "│ 1     │ 9          │ 0     │ 0     │ 0     │ 0     │ 0     │ 0     │ 0     │\n",
       "│ 2     │ 12         │ 0     │ 0     │ 0     │ 0     │ 0     │ 0     │ 0     │\n",
       "│ 3     │ 13         │ 0     │ 0     │ 0     │ 0     │ 0     │ 0     │ 0     │\n",
       "│ 4     │ 18         │ 0     │ 0     │ 0     │ 0     │ 0     │ 0     │ 0     │\n",
       "│ 5     │ 19         │ 0     │ 0     │ 0     │ 0     │ 0     │ 0     │ 0     │\n",
       "│ 6     │ 20         │ 0     │ 0     │ 0     │ 0     │ 0     │ 0     │ 0     │\n",
       "│ 7     │ 22         │ 0     │ 0     │ 0     │ 0     │ 0     │ 0     │ 0     │\n",
       "│ 8     │ 23         │ 0     │ 0     │ 0     │ 0     │ 0     │ 0     │ 0     │\n",
       "│ 9     │ 25         │ 0     │ 0     │ 0     │ 0     │ 0     │ 0     │ 0     │\n",
       "│ 10    │ 30         │ 0     │ 0     │ 0     │ 0     │ 0     │ 0     │ 0     │\n",
       "⋮\n",
       "│ 18021 │ 99903      │ 0     │ 0     │ 0     │ 0     │ 0     │ 0     │ 0     │\n",
       "│ 18022 │ 99913      │ 0     │ 0     │ 0     │ 0     │ 0     │ 0     │ 0     │\n",
       "│ 18023 │ 99937      │ 0     │ 0     │ 0     │ 0     │ 0     │ 0     │ 0     │\n",
       "│ 18024 │ 99938      │ 0     │ 0     │ 0     │ 0     │ 0     │ 0     │ 0     │\n",
       "│ 18025 │ 99955      │ 0     │ 0     │ 0     │ 0     │ 0     │ 0     │ 0     │\n",
       "│ 18026 │ 99957      │ 0     │ 0     │ 0     │ 0     │ 0     │ 0     │ 0     │\n",
       "│ 18027 │ 99965      │ 0     │ 0     │ 0     │ 0     │ 0     │ 0     │ 0     │\n",
       "│ 18028 │ 99966      │ 0     │ 0     │ 0     │ 0     │ 0     │ 0     │ 0     │\n",
       "│ 18029 │ 99983      │ 0     │ 0     │ 0     │ 0     │ 0     │ 0     │ 0     │\n",
       "│ 18030 │ 99992      │ 0     │ 0     │ 0     │ 0     │ 0     │ 0     │ 0     │\n",
       "│ 18031 │ 99999      │ 0     │ 0     │ 0     │ 0     │ 0     │ 0     │ 0     │"
      ]
     },
     "execution_count": 2,
     "metadata": {},
     "output_type": "execute_result"
    }
   ],
   "source": [
    "hyper3 = CSV.read(\"../data/Hypertension_Numerical3.csv\")"
   ]
  },
  {
   "cell_type": "code",
   "execution_count": 3,
   "metadata": {},
   "outputs": [
    {
     "data": {
      "text/html": [
       "<table class=\"data-frame\"><thead><tr><th></th><th>003</th><th>004</th><th>005</th><th>007</th><th>008</th><th>009</th><th>010</th><th>011</th><th>012</th><th>013</th><th>014</th><th>015</th></tr><tr><th></th><th>Int64</th><th>Int64</th><th>Int64</th><th>Int64</th><th>Int64</th><th>Int64</th><th>Int64</th><th>Int64</th><th>Int64</th><th>Int64</th><th>Int64</th><th>Int64</th></tr></thead><tbody><p>18,031 rows × 1,000 columns (omitted printing of 988 columns)</p><tr><th>1</th><td>0</td><td>0</td><td>0</td><td>0</td><td>0</td><td>0</td><td>0</td><td>0</td><td>0</td><td>0</td><td>0</td><td>0</td></tr><tr><th>2</th><td>0</td><td>0</td><td>0</td><td>0</td><td>0</td><td>0</td><td>0</td><td>0</td><td>0</td><td>0</td><td>0</td><td>0</td></tr><tr><th>3</th><td>0</td><td>0</td><td>0</td><td>0</td><td>0</td><td>0</td><td>0</td><td>0</td><td>0</td><td>0</td><td>0</td><td>0</td></tr><tr><th>4</th><td>0</td><td>0</td><td>0</td><td>0</td><td>0</td><td>0</td><td>0</td><td>0</td><td>0</td><td>0</td><td>0</td><td>0</td></tr><tr><th>5</th><td>0</td><td>0</td><td>0</td><td>0</td><td>0</td><td>0</td><td>0</td><td>0</td><td>0</td><td>0</td><td>0</td><td>0</td></tr><tr><th>6</th><td>0</td><td>0</td><td>0</td><td>0</td><td>0</td><td>0</td><td>0</td><td>0</td><td>0</td><td>0</td><td>0</td><td>0</td></tr><tr><th>7</th><td>0</td><td>0</td><td>0</td><td>0</td><td>0</td><td>0</td><td>0</td><td>0</td><td>0</td><td>0</td><td>0</td><td>0</td></tr><tr><th>8</th><td>0</td><td>0</td><td>0</td><td>0</td><td>0</td><td>0</td><td>0</td><td>0</td><td>0</td><td>0</td><td>0</td><td>0</td></tr><tr><th>9</th><td>0</td><td>0</td><td>0</td><td>0</td><td>0</td><td>0</td><td>0</td><td>0</td><td>0</td><td>0</td><td>0</td><td>0</td></tr><tr><th>10</th><td>0</td><td>0</td><td>0</td><td>0</td><td>0</td><td>0</td><td>0</td><td>0</td><td>0</td><td>0</td><td>0</td><td>0</td></tr><tr><th>11</th><td>0</td><td>0</td><td>0</td><td>0</td><td>0</td><td>0</td><td>0</td><td>0</td><td>0</td><td>0</td><td>0</td><td>0</td></tr><tr><th>12</th><td>0</td><td>0</td><td>0</td><td>0</td><td>0</td><td>0</td><td>0</td><td>0</td><td>0</td><td>0</td><td>0</td><td>0</td></tr><tr><th>13</th><td>0</td><td>0</td><td>0</td><td>0</td><td>0</td><td>0</td><td>0</td><td>0</td><td>0</td><td>0</td><td>0</td><td>0</td></tr><tr><th>14</th><td>0</td><td>0</td><td>0</td><td>0</td><td>0</td><td>0</td><td>0</td><td>0</td><td>0</td><td>0</td><td>0</td><td>0</td></tr><tr><th>15</th><td>0</td><td>0</td><td>0</td><td>0</td><td>0</td><td>0</td><td>0</td><td>0</td><td>0</td><td>0</td><td>0</td><td>0</td></tr><tr><th>16</th><td>0</td><td>0</td><td>0</td><td>0</td><td>0</td><td>0</td><td>0</td><td>0</td><td>0</td><td>0</td><td>0</td><td>0</td></tr><tr><th>17</th><td>0</td><td>0</td><td>0</td><td>0</td><td>0</td><td>0</td><td>0</td><td>0</td><td>0</td><td>0</td><td>0</td><td>0</td></tr><tr><th>18</th><td>0</td><td>0</td><td>0</td><td>0</td><td>0</td><td>0</td><td>0</td><td>0</td><td>0</td><td>0</td><td>0</td><td>0</td></tr><tr><th>19</th><td>0</td><td>0</td><td>0</td><td>0</td><td>0</td><td>0</td><td>0</td><td>0</td><td>0</td><td>0</td><td>0</td><td>0</td></tr><tr><th>20</th><td>0</td><td>0</td><td>0</td><td>0</td><td>0</td><td>0</td><td>0</td><td>0</td><td>0</td><td>0</td><td>0</td><td>0</td></tr><tr><th>21</th><td>0</td><td>0</td><td>0</td><td>0</td><td>0</td><td>0</td><td>0</td><td>0</td><td>0</td><td>0</td><td>0</td><td>0</td></tr><tr><th>22</th><td>0</td><td>0</td><td>0</td><td>0</td><td>0</td><td>0</td><td>0</td><td>0</td><td>0</td><td>0</td><td>0</td><td>0</td></tr><tr><th>23</th><td>0</td><td>0</td><td>0</td><td>0</td><td>0</td><td>0</td><td>0</td><td>0</td><td>0</td><td>0</td><td>0</td><td>0</td></tr><tr><th>24</th><td>0</td><td>0</td><td>0</td><td>0</td><td>0</td><td>0</td><td>0</td><td>0</td><td>0</td><td>0</td><td>0</td><td>0</td></tr><tr><th>25</th><td>0</td><td>0</td><td>0</td><td>0</td><td>0</td><td>0</td><td>0</td><td>0</td><td>0</td><td>0</td><td>0</td><td>0</td></tr><tr><th>26</th><td>0</td><td>0</td><td>0</td><td>0</td><td>0</td><td>0</td><td>0</td><td>0</td><td>0</td><td>0</td><td>0</td><td>0</td></tr><tr><th>27</th><td>0</td><td>0</td><td>0</td><td>0</td><td>0</td><td>0</td><td>0</td><td>0</td><td>0</td><td>0</td><td>0</td><td>0</td></tr><tr><th>28</th><td>0</td><td>0</td><td>0</td><td>0</td><td>0</td><td>0</td><td>0</td><td>0</td><td>0</td><td>0</td><td>0</td><td>0</td></tr><tr><th>29</th><td>0</td><td>0</td><td>0</td><td>0</td><td>0</td><td>0</td><td>0</td><td>0</td><td>0</td><td>0</td><td>0</td><td>0</td></tr><tr><th>30</th><td>0</td><td>0</td><td>0</td><td>0</td><td>0</td><td>0</td><td>0</td><td>0</td><td>0</td><td>0</td><td>0</td><td>0</td></tr><tr><th>&vellip;</th><td>&vellip;</td><td>&vellip;</td><td>&vellip;</td><td>&vellip;</td><td>&vellip;</td><td>&vellip;</td><td>&vellip;</td><td>&vellip;</td><td>&vellip;</td><td>&vellip;</td><td>&vellip;</td><td>&vellip;</td></tr></tbody></table>"
      ],
      "text/latex": [
       "\\begin{tabular}{r|ccccccccccccc}\n",
       "\t& 003 & 004 & 005 & 007 & 008 & 009 & 010 & 011 & 012 & 013 & 014 & 015 & \\\\\n",
       "\t\\hline\n",
       "\t& Int64 & Int64 & Int64 & Int64 & Int64 & Int64 & Int64 & Int64 & Int64 & Int64 & Int64 & Int64 & \\\\\n",
       "\t\\hline\n",
       "\t1 & 0 & 0 & 0 & 0 & 0 & 0 & 0 & 0 & 0 & 0 & 0 & 0 & $\\dots$ \\\\\n",
       "\t2 & 0 & 0 & 0 & 0 & 0 & 0 & 0 & 0 & 0 & 0 & 0 & 0 & $\\dots$ \\\\\n",
       "\t3 & 0 & 0 & 0 & 0 & 0 & 0 & 0 & 0 & 0 & 0 & 0 & 0 & $\\dots$ \\\\\n",
       "\t4 & 0 & 0 & 0 & 0 & 0 & 0 & 0 & 0 & 0 & 0 & 0 & 0 & $\\dots$ \\\\\n",
       "\t5 & 0 & 0 & 0 & 0 & 0 & 0 & 0 & 0 & 0 & 0 & 0 & 0 & $\\dots$ \\\\\n",
       "\t6 & 0 & 0 & 0 & 0 & 0 & 0 & 0 & 0 & 0 & 0 & 0 & 0 & $\\dots$ \\\\\n",
       "\t7 & 0 & 0 & 0 & 0 & 0 & 0 & 0 & 0 & 0 & 0 & 0 & 0 & $\\dots$ \\\\\n",
       "\t8 & 0 & 0 & 0 & 0 & 0 & 0 & 0 & 0 & 0 & 0 & 0 & 0 & $\\dots$ \\\\\n",
       "\t9 & 0 & 0 & 0 & 0 & 0 & 0 & 0 & 0 & 0 & 0 & 0 & 0 & $\\dots$ \\\\\n",
       "\t10 & 0 & 0 & 0 & 0 & 0 & 0 & 0 & 0 & 0 & 0 & 0 & 0 & $\\dots$ \\\\\n",
       "\t11 & 0 & 0 & 0 & 0 & 0 & 0 & 0 & 0 & 0 & 0 & 0 & 0 & $\\dots$ \\\\\n",
       "\t12 & 0 & 0 & 0 & 0 & 0 & 0 & 0 & 0 & 0 & 0 & 0 & 0 & $\\dots$ \\\\\n",
       "\t13 & 0 & 0 & 0 & 0 & 0 & 0 & 0 & 0 & 0 & 0 & 0 & 0 & $\\dots$ \\\\\n",
       "\t14 & 0 & 0 & 0 & 0 & 0 & 0 & 0 & 0 & 0 & 0 & 0 & 0 & $\\dots$ \\\\\n",
       "\t15 & 0 & 0 & 0 & 0 & 0 & 0 & 0 & 0 & 0 & 0 & 0 & 0 & $\\dots$ \\\\\n",
       "\t16 & 0 & 0 & 0 & 0 & 0 & 0 & 0 & 0 & 0 & 0 & 0 & 0 & $\\dots$ \\\\\n",
       "\t17 & 0 & 0 & 0 & 0 & 0 & 0 & 0 & 0 & 0 & 0 & 0 & 0 & $\\dots$ \\\\\n",
       "\t18 & 0 & 0 & 0 & 0 & 0 & 0 & 0 & 0 & 0 & 0 & 0 & 0 & $\\dots$ \\\\\n",
       "\t19 & 0 & 0 & 0 & 0 & 0 & 0 & 0 & 0 & 0 & 0 & 0 & 0 & $\\dots$ \\\\\n",
       "\t20 & 0 & 0 & 0 & 0 & 0 & 0 & 0 & 0 & 0 & 0 & 0 & 0 & $\\dots$ \\\\\n",
       "\t21 & 0 & 0 & 0 & 0 & 0 & 0 & 0 & 0 & 0 & 0 & 0 & 0 & $\\dots$ \\\\\n",
       "\t22 & 0 & 0 & 0 & 0 & 0 & 0 & 0 & 0 & 0 & 0 & 0 & 0 & $\\dots$ \\\\\n",
       "\t23 & 0 & 0 & 0 & 0 & 0 & 0 & 0 & 0 & 0 & 0 & 0 & 0 & $\\dots$ \\\\\n",
       "\t24 & 0 & 0 & 0 & 0 & 0 & 0 & 0 & 0 & 0 & 0 & 0 & 0 & $\\dots$ \\\\\n",
       "\t25 & 0 & 0 & 0 & 0 & 0 & 0 & 0 & 0 & 0 & 0 & 0 & 0 & $\\dots$ \\\\\n",
       "\t26 & 0 & 0 & 0 & 0 & 0 & 0 & 0 & 0 & 0 & 0 & 0 & 0 & $\\dots$ \\\\\n",
       "\t27 & 0 & 0 & 0 & 0 & 0 & 0 & 0 & 0 & 0 & 0 & 0 & 0 & $\\dots$ \\\\\n",
       "\t28 & 0 & 0 & 0 & 0 & 0 & 0 & 0 & 0 & 0 & 0 & 0 & 0 & $\\dots$ \\\\\n",
       "\t29 & 0 & 0 & 0 & 0 & 0 & 0 & 0 & 0 & 0 & 0 & 0 & 0 & $\\dots$ \\\\\n",
       "\t30 & 0 & 0 & 0 & 0 & 0 & 0 & 0 & 0 & 0 & 0 & 0 & 0 & $\\dots$ \\\\\n",
       "\t$\\dots$ & $\\dots$ & $\\dots$ & $\\dots$ & $\\dots$ & $\\dots$ & $\\dots$ & $\\dots$ & $\\dots$ & $\\dots$ & $\\dots$ & $\\dots$ & $\\dots$ &  \\\\\n",
       "\\end{tabular}\n"
      ],
      "text/plain": [
       "18031×1000 DataFrame. Omitted printing of 992 columns\n",
       "│ Row   │ 003   │ 004   │ 005   │ 007   │ 008   │ 009   │ 010   │ 011   │\n",
       "│       │ \u001b[90mInt64\u001b[39m │ \u001b[90mInt64\u001b[39m │ \u001b[90mInt64\u001b[39m │ \u001b[90mInt64\u001b[39m │ \u001b[90mInt64\u001b[39m │ \u001b[90mInt64\u001b[39m │ \u001b[90mInt64\u001b[39m │ \u001b[90mInt64\u001b[39m │\n",
       "├───────┼───────┼───────┼───────┼───────┼───────┼───────┼───────┼───────┤\n",
       "│ 1     │ 0     │ 0     │ 0     │ 0     │ 0     │ 0     │ 0     │ 0     │\n",
       "│ 2     │ 0     │ 0     │ 0     │ 0     │ 0     │ 0     │ 0     │ 0     │\n",
       "│ 3     │ 0     │ 0     │ 0     │ 0     │ 0     │ 0     │ 0     │ 0     │\n",
       "│ 4     │ 0     │ 0     │ 0     │ 0     │ 0     │ 0     │ 0     │ 0     │\n",
       "│ 5     │ 0     │ 0     │ 0     │ 0     │ 0     │ 0     │ 0     │ 0     │\n",
       "│ 6     │ 0     │ 0     │ 0     │ 0     │ 0     │ 0     │ 0     │ 0     │\n",
       "│ 7     │ 0     │ 0     │ 0     │ 0     │ 0     │ 0     │ 0     │ 0     │\n",
       "│ 8     │ 0     │ 0     │ 0     │ 0     │ 0     │ 0     │ 0     │ 0     │\n",
       "│ 9     │ 0     │ 0     │ 0     │ 0     │ 0     │ 0     │ 0     │ 0     │\n",
       "│ 10    │ 0     │ 0     │ 0     │ 0     │ 0     │ 0     │ 0     │ 0     │\n",
       "⋮\n",
       "│ 18021 │ 0     │ 0     │ 0     │ 0     │ 0     │ 0     │ 0     │ 0     │\n",
       "│ 18022 │ 0     │ 0     │ 0     │ 0     │ 0     │ 0     │ 0     │ 0     │\n",
       "│ 18023 │ 0     │ 0     │ 0     │ 0     │ 0     │ 0     │ 0     │ 0     │\n",
       "│ 18024 │ 0     │ 0     │ 0     │ 0     │ 0     │ 0     │ 0     │ 0     │\n",
       "│ 18025 │ 0     │ 0     │ 0     │ 0     │ 0     │ 0     │ 0     │ 0     │\n",
       "│ 18026 │ 0     │ 0     │ 0     │ 0     │ 0     │ 0     │ 0     │ 0     │\n",
       "│ 18027 │ 0     │ 0     │ 0     │ 0     │ 0     │ 0     │ 0     │ 0     │\n",
       "│ 18028 │ 0     │ 0     │ 0     │ 0     │ 0     │ 0     │ 0     │ 0     │\n",
       "│ 18029 │ 0     │ 0     │ 0     │ 0     │ 0     │ 0     │ 0     │ 0     │\n",
       "│ 18030 │ 0     │ 0     │ 0     │ 0     │ 0     │ 0     │ 0     │ 0     │\n",
       "│ 18031 │ 0     │ 0     │ 0     │ 0     │ 0     │ 0     │ 0     │ 0     │"
      ]
     },
     "execution_count": 3,
     "metadata": {},
     "output_type": "execute_result"
    }
   ],
   "source": [
    "hyper3 = select!(hyper3, Not(:SUBJECT_ID )) "
   ]
  },
  {
   "cell_type": "code",
   "execution_count": 22,
   "metadata": {},
   "outputs": [
    {
     "data": {
      "text/html": [
       "<table class=\"data-frame\"><thead><tr><th></th><th>Column1</th><th>Unnamed: 0</th><th>SUBJECT_ID</th><th>003</th><th>004</th><th>005</th><th>007</th><th>008</th><th>009</th><th>010</th></tr><tr><th></th><th>Int64</th><th>Int64</th><th>Int64</th><th>Int64</th><th>Int64</th><th>Int64</th><th>Int64</th><th>Int64</th><th>Int64</th><th>Int64</th></tr></thead><tbody><p>18,031 rows × 1,081 columns (omitted printing of 1071 columns)</p><tr><th>1</th><td>0</td><td>0</td><td>9</td><td>0</td><td>0</td><td>0</td><td>0</td><td>0</td><td>0</td><td>0</td></tr><tr><th>2</th><td>1</td><td>1</td><td>12</td><td>0</td><td>0</td><td>0</td><td>0</td><td>0</td><td>0</td><td>0</td></tr><tr><th>3</th><td>2</td><td>2</td><td>13</td><td>0</td><td>0</td><td>0</td><td>0</td><td>0</td><td>0</td><td>0</td></tr><tr><th>4</th><td>3</td><td>3</td><td>18</td><td>0</td><td>0</td><td>0</td><td>0</td><td>0</td><td>0</td><td>0</td></tr><tr><th>5</th><td>4</td><td>4</td><td>19</td><td>0</td><td>0</td><td>0</td><td>0</td><td>0</td><td>0</td><td>0</td></tr><tr><th>6</th><td>5</td><td>5</td><td>20</td><td>0</td><td>0</td><td>0</td><td>0</td><td>0</td><td>0</td><td>0</td></tr><tr><th>7</th><td>6</td><td>6</td><td>22</td><td>0</td><td>0</td><td>0</td><td>0</td><td>0</td><td>0</td><td>0</td></tr><tr><th>8</th><td>7</td><td>7</td><td>23</td><td>0</td><td>0</td><td>0</td><td>0</td><td>0</td><td>0</td><td>0</td></tr><tr><th>9</th><td>8</td><td>8</td><td>25</td><td>0</td><td>0</td><td>0</td><td>0</td><td>0</td><td>0</td><td>0</td></tr><tr><th>10</th><td>9</td><td>9</td><td>30</td><td>0</td><td>0</td><td>0</td><td>0</td><td>0</td><td>0</td><td>0</td></tr><tr><th>11</th><td>10</td><td>10</td><td>31</td><td>0</td><td>0</td><td>0</td><td>0</td><td>0</td><td>0</td><td>0</td></tr><tr><th>12</th><td>11</td><td>11</td><td>32</td><td>0</td><td>0</td><td>0</td><td>0</td><td>0</td><td>0</td><td>0</td></tr><tr><th>13</th><td>12</td><td>12</td><td>35</td><td>0</td><td>0</td><td>0</td><td>0</td><td>0</td><td>0</td><td>0</td></tr><tr><th>14</th><td>13</td><td>13</td><td>36</td><td>0</td><td>0</td><td>0</td><td>0</td><td>0</td><td>0</td><td>0</td></tr><tr><th>15</th><td>14</td><td>14</td><td>41</td><td>0</td><td>0</td><td>0</td><td>0</td><td>0</td><td>0</td><td>0</td></tr><tr><th>16</th><td>15</td><td>15</td><td>42</td><td>0</td><td>0</td><td>0</td><td>0</td><td>0</td><td>0</td><td>0</td></tr><tr><th>17</th><td>16</td><td>16</td><td>44</td><td>0</td><td>0</td><td>0</td><td>0</td><td>0</td><td>0</td><td>0</td></tr><tr><th>18</th><td>17</td><td>17</td><td>53</td><td>0</td><td>0</td><td>0</td><td>0</td><td>0</td><td>0</td><td>0</td></tr><tr><th>19</th><td>18</td><td>18</td><td>55</td><td>0</td><td>0</td><td>0</td><td>0</td><td>0</td><td>0</td><td>0</td></tr><tr><th>20</th><td>19</td><td>19</td><td>56</td><td>0</td><td>0</td><td>0</td><td>0</td><td>0</td><td>0</td><td>0</td></tr><tr><th>21</th><td>20</td><td>20</td><td>67</td><td>0</td><td>0</td><td>0</td><td>0</td><td>0</td><td>0</td><td>0</td></tr><tr><th>22</th><td>21</td><td>21</td><td>73</td><td>0</td><td>0</td><td>0</td><td>0</td><td>0</td><td>0</td><td>0</td></tr><tr><th>23</th><td>22</td><td>22</td><td>75</td><td>0</td><td>0</td><td>0</td><td>0</td><td>0</td><td>0</td><td>0</td></tr><tr><th>24</th><td>23</td><td>23</td><td>81</td><td>0</td><td>0</td><td>0</td><td>0</td><td>0</td><td>0</td><td>0</td></tr><tr><th>25</th><td>24</td><td>24</td><td>94</td><td>0</td><td>0</td><td>0</td><td>0</td><td>0</td><td>0</td><td>0</td></tr><tr><th>26</th><td>25</td><td>25</td><td>97</td><td>0</td><td>0</td><td>0</td><td>0</td><td>0</td><td>0</td><td>0</td></tr><tr><th>27</th><td>26</td><td>26</td><td>99</td><td>0</td><td>0</td><td>0</td><td>0</td><td>0</td><td>0</td><td>0</td></tr><tr><th>28</th><td>27</td><td>27</td><td>103</td><td>0</td><td>0</td><td>0</td><td>0</td><td>0</td><td>0</td><td>0</td></tr><tr><th>29</th><td>28</td><td>28</td><td>106</td><td>0</td><td>0</td><td>0</td><td>0</td><td>0</td><td>0</td><td>0</td></tr><tr><th>30</th><td>29</td><td>29</td><td>108</td><td>0</td><td>0</td><td>0</td><td>0</td><td>0</td><td>0</td><td>0</td></tr><tr><th>&vellip;</th><td>&vellip;</td><td>&vellip;</td><td>&vellip;</td><td>&vellip;</td><td>&vellip;</td><td>&vellip;</td><td>&vellip;</td><td>&vellip;</td><td>&vellip;</td><td>&vellip;</td></tr></tbody></table>"
      ],
      "text/latex": [
       "\\begin{tabular}{r|ccccccccccc}\n",
       "\t& Column1 & Unnamed: 0 & SUBJECT\\_ID & 003 & 004 & 005 & 007 & 008 & 009 & 010 & \\\\\n",
       "\t\\hline\n",
       "\t& Int64 & Int64 & Int64 & Int64 & Int64 & Int64 & Int64 & Int64 & Int64 & Int64 & \\\\\n",
       "\t\\hline\n",
       "\t1 & 0 & 0 & 9 & 0 & 0 & 0 & 0 & 0 & 0 & 0 & $\\dots$ \\\\\n",
       "\t2 & 1 & 1 & 12 & 0 & 0 & 0 & 0 & 0 & 0 & 0 & $\\dots$ \\\\\n",
       "\t3 & 2 & 2 & 13 & 0 & 0 & 0 & 0 & 0 & 0 & 0 & $\\dots$ \\\\\n",
       "\t4 & 3 & 3 & 18 & 0 & 0 & 0 & 0 & 0 & 0 & 0 & $\\dots$ \\\\\n",
       "\t5 & 4 & 4 & 19 & 0 & 0 & 0 & 0 & 0 & 0 & 0 & $\\dots$ \\\\\n",
       "\t6 & 5 & 5 & 20 & 0 & 0 & 0 & 0 & 0 & 0 & 0 & $\\dots$ \\\\\n",
       "\t7 & 6 & 6 & 22 & 0 & 0 & 0 & 0 & 0 & 0 & 0 & $\\dots$ \\\\\n",
       "\t8 & 7 & 7 & 23 & 0 & 0 & 0 & 0 & 0 & 0 & 0 & $\\dots$ \\\\\n",
       "\t9 & 8 & 8 & 25 & 0 & 0 & 0 & 0 & 0 & 0 & 0 & $\\dots$ \\\\\n",
       "\t10 & 9 & 9 & 30 & 0 & 0 & 0 & 0 & 0 & 0 & 0 & $\\dots$ \\\\\n",
       "\t11 & 10 & 10 & 31 & 0 & 0 & 0 & 0 & 0 & 0 & 0 & $\\dots$ \\\\\n",
       "\t12 & 11 & 11 & 32 & 0 & 0 & 0 & 0 & 0 & 0 & 0 & $\\dots$ \\\\\n",
       "\t13 & 12 & 12 & 35 & 0 & 0 & 0 & 0 & 0 & 0 & 0 & $\\dots$ \\\\\n",
       "\t14 & 13 & 13 & 36 & 0 & 0 & 0 & 0 & 0 & 0 & 0 & $\\dots$ \\\\\n",
       "\t15 & 14 & 14 & 41 & 0 & 0 & 0 & 0 & 0 & 0 & 0 & $\\dots$ \\\\\n",
       "\t16 & 15 & 15 & 42 & 0 & 0 & 0 & 0 & 0 & 0 & 0 & $\\dots$ \\\\\n",
       "\t17 & 16 & 16 & 44 & 0 & 0 & 0 & 0 & 0 & 0 & 0 & $\\dots$ \\\\\n",
       "\t18 & 17 & 17 & 53 & 0 & 0 & 0 & 0 & 0 & 0 & 0 & $\\dots$ \\\\\n",
       "\t19 & 18 & 18 & 55 & 0 & 0 & 0 & 0 & 0 & 0 & 0 & $\\dots$ \\\\\n",
       "\t20 & 19 & 19 & 56 & 0 & 0 & 0 & 0 & 0 & 0 & 0 & $\\dots$ \\\\\n",
       "\t21 & 20 & 20 & 67 & 0 & 0 & 0 & 0 & 0 & 0 & 0 & $\\dots$ \\\\\n",
       "\t22 & 21 & 21 & 73 & 0 & 0 & 0 & 0 & 0 & 0 & 0 & $\\dots$ \\\\\n",
       "\t23 & 22 & 22 & 75 & 0 & 0 & 0 & 0 & 0 & 0 & 0 & $\\dots$ \\\\\n",
       "\t24 & 23 & 23 & 81 & 0 & 0 & 0 & 0 & 0 & 0 & 0 & $\\dots$ \\\\\n",
       "\t25 & 24 & 24 & 94 & 0 & 0 & 0 & 0 & 0 & 0 & 0 & $\\dots$ \\\\\n",
       "\t26 & 25 & 25 & 97 & 0 & 0 & 0 & 0 & 0 & 0 & 0 & $\\dots$ \\\\\n",
       "\t27 & 26 & 26 & 99 & 0 & 0 & 0 & 0 & 0 & 0 & 0 & $\\dots$ \\\\\n",
       "\t28 & 27 & 27 & 103 & 0 & 0 & 0 & 0 & 0 & 0 & 0 & $\\dots$ \\\\\n",
       "\t29 & 28 & 28 & 106 & 0 & 0 & 0 & 0 & 0 & 0 & 0 & $\\dots$ \\\\\n",
       "\t30 & 29 & 29 & 108 & 0 & 0 & 0 & 0 & 0 & 0 & 0 & $\\dots$ \\\\\n",
       "\t$\\dots$ & $\\dots$ & $\\dots$ & $\\dots$ & $\\dots$ & $\\dots$ & $\\dots$ & $\\dots$ & $\\dots$ & $\\dots$ & $\\dots$ &  \\\\\n",
       "\\end{tabular}\n"
      ],
      "text/plain": [
       "18031×1081 DataFrame. Omitted printing of 1074 columns\n",
       "│ Row   │ Column1 │ Unnamed: 0 │ SUBJECT_ID │ 003   │ 004   │ 005   │ 007   │\n",
       "│       │ \u001b[90mInt64\u001b[39m   │ \u001b[90mInt64\u001b[39m      │ \u001b[90mInt64\u001b[39m      │ \u001b[90mInt64\u001b[39m │ \u001b[90mInt64\u001b[39m │ \u001b[90mInt64\u001b[39m │ \u001b[90mInt64\u001b[39m │\n",
       "├───────┼─────────┼────────────┼────────────┼───────┼───────┼───────┼───────┤\n",
       "│ 1     │ 0       │ 0          │ 9          │ 0     │ 0     │ 0     │ 0     │\n",
       "│ 2     │ 1       │ 1          │ 12         │ 0     │ 0     │ 0     │ 0     │\n",
       "│ 3     │ 2       │ 2          │ 13         │ 0     │ 0     │ 0     │ 0     │\n",
       "│ 4     │ 3       │ 3          │ 18         │ 0     │ 0     │ 0     │ 0     │\n",
       "│ 5     │ 4       │ 4          │ 19         │ 0     │ 0     │ 0     │ 0     │\n",
       "│ 6     │ 5       │ 5          │ 20         │ 0     │ 0     │ 0     │ 0     │\n",
       "│ 7     │ 6       │ 6          │ 22         │ 0     │ 0     │ 0     │ 0     │\n",
       "│ 8     │ 7       │ 7          │ 23         │ 0     │ 0     │ 0     │ 0     │\n",
       "│ 9     │ 8       │ 8          │ 25         │ 0     │ 0     │ 0     │ 0     │\n",
       "│ 10    │ 9       │ 9          │ 30         │ 0     │ 0     │ 0     │ 0     │\n",
       "⋮\n",
       "│ 18021 │ 18020   │ 18020      │ 99903      │ 0     │ 0     │ 0     │ 0     │\n",
       "│ 18022 │ 18021   │ 18021      │ 99913      │ 0     │ 0     │ 0     │ 0     │\n",
       "│ 18023 │ 18022   │ 18022      │ 99937      │ 0     │ 0     │ 0     │ 0     │\n",
       "│ 18024 │ 18023   │ 18023      │ 99938      │ 0     │ 0     │ 0     │ 0     │\n",
       "│ 18025 │ 18024   │ 18024      │ 99955      │ 0     │ 0     │ 0     │ 0     │\n",
       "│ 18026 │ 18025   │ 18025      │ 99957      │ 0     │ 0     │ 0     │ 0     │\n",
       "│ 18027 │ 18026   │ 18026      │ 99965      │ 0     │ 0     │ 0     │ 0     │\n",
       "│ 18028 │ 18027   │ 18027      │ 99966      │ 0     │ 0     │ 0     │ 0     │\n",
       "│ 18029 │ 18028   │ 18028      │ 99983      │ 0     │ 0     │ 0     │ 0     │\n",
       "│ 18030 │ 18029   │ 18029      │ 99992      │ 0     │ 0     │ 0     │ 0     │\n",
       "│ 18031 │ 18030   │ 18030      │ 99999      │ 0     │ 0     │ 0     │ 0     │"
      ]
     },
     "execution_count": 22,
     "metadata": {},
     "output_type": "execute_result"
    }
   ],
   "source": [
    "hyper = CSV.read(\"../data/Hypertension_Numerical_Final.csv\")"
   ]
  },
  {
   "cell_type": "code",
   "execution_count": 27,
   "metadata": {},
   "outputs": [],
   "source": [
    "imp = CSV.read(\"../data/Random_Forest_Importance.csv\")\n",
    "impp = CSV.read(\"../data/Positive_Random_Forest_Importance.csv\")\n",
    "\n",
    "#hyper = CSV.read(\"../data/Hypertension_Numerical_Final.csv\"; null=\"NaN\")\n",
    "#hyper = CSV.read(\"../data/Hypertension_Numerical_Final.csv\"; missingstring=\"NaN\")\n",
    "hyper = CSV.read(\"../data/Hypertension_Numerical_Final.csv\")\n",
    "hyper = select!(hyper, Not(:Column1))\n",
    "hyper = select!(hyper, Not(:SUBJECT_ID )) \n",
    "#hyper = select!(hyper, Not(:Unnamed:0))\n",
    "hyper = hyper[:, 2:end]\n",
    "\n",
    "    \n",
    "#acs = CSV.read(\"acs_2013_cleaned_trunc.csv\"; limit=10000, missingstring=\"NA\");\n",
    "\n"
   ]
  },
  {
   "cell_type": "code",
   "execution_count": 3,
   "metadata": {},
   "outputs": [
    {
     "data": {
      "text/html": [
       "<table class=\"data-frame\"><thead><tr><th></th><th>LANGUAGE_*NEP</th><th>LANGUAGE_*CRE</th><th>LANGUAGE_*TEL</th><th>LANGUAGE_SOMA</th><th>LANGUAGE_JAPA</th><th>LANGUAGE_*DUT</th></tr><tr><th></th><th>Float64⍰</th><th>Float64⍰</th><th>Float64⍰</th><th>Float64⍰</th><th>Float64⍰</th><th>Float64⍰</th></tr></thead><tbody><p>100 rows × 11 columns (omitted printing of 5 columns)</p><tr><th>1</th><td>missing</td><td>missing</td><td>missing</td><td>missing</td><td>missing</td><td>missing</td></tr><tr><th>2</th><td>missing</td><td>missing</td><td>missing</td><td>missing</td><td>missing</td><td>missing</td></tr><tr><th>3</th><td>missing</td><td>missing</td><td>missing</td><td>missing</td><td>missing</td><td>missing</td></tr><tr><th>4</th><td>missing</td><td>missing</td><td>missing</td><td>missing</td><td>missing</td><td>missing</td></tr><tr><th>5</th><td>missing</td><td>missing</td><td>missing</td><td>missing</td><td>missing</td><td>missing</td></tr><tr><th>6</th><td>missing</td><td>missing</td><td>missing</td><td>missing</td><td>missing</td><td>missing</td></tr><tr><th>7</th><td>missing</td><td>missing</td><td>missing</td><td>missing</td><td>missing</td><td>missing</td></tr><tr><th>8</th><td>missing</td><td>missing</td><td>missing</td><td>missing</td><td>missing</td><td>missing</td></tr><tr><th>9</th><td>missing</td><td>missing</td><td>missing</td><td>missing</td><td>missing</td><td>missing</td></tr><tr><th>10</th><td>missing</td><td>missing</td><td>missing</td><td>missing</td><td>missing</td><td>missing</td></tr><tr><th>11</th><td>missing</td><td>missing</td><td>missing</td><td>missing</td><td>missing</td><td>missing</td></tr><tr><th>12</th><td>missing</td><td>missing</td><td>missing</td><td>missing</td><td>missing</td><td>missing</td></tr><tr><th>13</th><td>missing</td><td>missing</td><td>missing</td><td>missing</td><td>missing</td><td>missing</td></tr><tr><th>14</th><td>0.0</td><td>0.0</td><td>0.0</td><td>0.0</td><td>0.0</td><td>0.0</td></tr><tr><th>15</th><td>missing</td><td>missing</td><td>missing</td><td>missing</td><td>missing</td><td>missing</td></tr><tr><th>16</th><td>missing</td><td>missing</td><td>missing</td><td>missing</td><td>missing</td><td>missing</td></tr><tr><th>17</th><td>0.0</td><td>0.0</td><td>0.0</td><td>0.0</td><td>0.0</td><td>0.0</td></tr><tr><th>18</th><td>0.0</td><td>0.0</td><td>0.0</td><td>0.0</td><td>0.0</td><td>0.0</td></tr><tr><th>19</th><td>0.0</td><td>0.0</td><td>0.0</td><td>0.0</td><td>0.0</td><td>0.0</td></tr><tr><th>20</th><td>missing</td><td>missing</td><td>missing</td><td>missing</td><td>missing</td><td>missing</td></tr><tr><th>21</th><td>missing</td><td>missing</td><td>missing</td><td>missing</td><td>missing</td><td>missing</td></tr><tr><th>22</th><td>missing</td><td>missing</td><td>missing</td><td>missing</td><td>missing</td><td>missing</td></tr><tr><th>23</th><td>missing</td><td>missing</td><td>missing</td><td>missing</td><td>missing</td><td>missing</td></tr><tr><th>24</th><td>missing</td><td>missing</td><td>missing</td><td>missing</td><td>missing</td><td>missing</td></tr><tr><th>25</th><td>0.0</td><td>0.0</td><td>0.0</td><td>0.0</td><td>0.0</td><td>0.0</td></tr><tr><th>26</th><td>0.0</td><td>0.0</td><td>0.0</td><td>0.0</td><td>0.0</td><td>0.0</td></tr><tr><th>27</th><td>missing</td><td>missing</td><td>missing</td><td>missing</td><td>missing</td><td>missing</td></tr><tr><th>28</th><td>missing</td><td>missing</td><td>missing</td><td>missing</td><td>missing</td><td>missing</td></tr><tr><th>29</th><td>missing</td><td>missing</td><td>missing</td><td>missing</td><td>missing</td><td>missing</td></tr><tr><th>30</th><td>missing</td><td>missing</td><td>missing</td><td>missing</td><td>missing</td><td>missing</td></tr><tr><th>&vellip;</th><td>&vellip;</td><td>&vellip;</td><td>&vellip;</td><td>&vellip;</td><td>&vellip;</td><td>&vellip;</td></tr></tbody></table>"
      ],
      "text/latex": [
       "\\begin{tabular}{r|ccccccc}\n",
       "\t& LANGUAGE\\_*NEP & LANGUAGE\\_*CRE & LANGUAGE\\_*TEL & LANGUAGE\\_SOMA & LANGUAGE\\_JAPA & LANGUAGE\\_*DUT & \\\\\n",
       "\t\\hline\n",
       "\t& Float64⍰ & Float64⍰ & Float64⍰ & Float64⍰ & Float64⍰ & Float64⍰ & \\\\\n",
       "\t\\hline\n",
       "\t1 &  &  &  &  &  &  & $\\dots$ \\\\\n",
       "\t2 &  &  &  &  &  &  & $\\dots$ \\\\\n",
       "\t3 &  &  &  &  &  &  & $\\dots$ \\\\\n",
       "\t4 &  &  &  &  &  &  & $\\dots$ \\\\\n",
       "\t5 &  &  &  &  &  &  & $\\dots$ \\\\\n",
       "\t6 &  &  &  &  &  &  & $\\dots$ \\\\\n",
       "\t7 &  &  &  &  &  &  & $\\dots$ \\\\\n",
       "\t8 &  &  &  &  &  &  & $\\dots$ \\\\\n",
       "\t9 &  &  &  &  &  &  & $\\dots$ \\\\\n",
       "\t10 &  &  &  &  &  &  & $\\dots$ \\\\\n",
       "\t11 &  &  &  &  &  &  & $\\dots$ \\\\\n",
       "\t12 &  &  &  &  &  &  & $\\dots$ \\\\\n",
       "\t13 &  &  &  &  &  &  & $\\dots$ \\\\\n",
       "\t14 & 0.0 & 0.0 & 0.0 & 0.0 & 0.0 & 0.0 & $\\dots$ \\\\\n",
       "\t15 &  &  &  &  &  &  & $\\dots$ \\\\\n",
       "\t16 &  &  &  &  &  &  & $\\dots$ \\\\\n",
       "\t17 & 0.0 & 0.0 & 0.0 & 0.0 & 0.0 & 0.0 & $\\dots$ \\\\\n",
       "\t18 & 0.0 & 0.0 & 0.0 & 0.0 & 0.0 & 0.0 & $\\dots$ \\\\\n",
       "\t19 & 0.0 & 0.0 & 0.0 & 0.0 & 0.0 & 0.0 & $\\dots$ \\\\\n",
       "\t20 &  &  &  &  &  &  & $\\dots$ \\\\\n",
       "\t21 &  &  &  &  &  &  & $\\dots$ \\\\\n",
       "\t22 &  &  &  &  &  &  & $\\dots$ \\\\\n",
       "\t23 &  &  &  &  &  &  & $\\dots$ \\\\\n",
       "\t24 &  &  &  &  &  &  & $\\dots$ \\\\\n",
       "\t25 & 0.0 & 0.0 & 0.0 & 0.0 & 0.0 & 0.0 & $\\dots$ \\\\\n",
       "\t26 & 0.0 & 0.0 & 0.0 & 0.0 & 0.0 & 0.0 & $\\dots$ \\\\\n",
       "\t27 &  &  &  &  &  &  & $\\dots$ \\\\\n",
       "\t28 &  &  &  &  &  &  & $\\dots$ \\\\\n",
       "\t29 &  &  &  &  &  &  & $\\dots$ \\\\\n",
       "\t30 &  &  &  &  &  &  & $\\dots$ \\\\\n",
       "\t$\\dots$ & $\\dots$ & $\\dots$ & $\\dots$ & $\\dots$ & $\\dots$ & $\\dots$ &  \\\\\n",
       "\\end{tabular}\n"
      ],
      "text/plain": [
       "100×11 DataFrame. Omitted printing of 7 columns\n",
       "│ Row │ LANGUAGE_*NEP │ LANGUAGE_*CRE │ LANGUAGE_*TEL │ LANGUAGE_SOMA │\n",
       "│     │ \u001b[90mFloat64⍰\u001b[39m      │ \u001b[90mFloat64⍰\u001b[39m      │ \u001b[90mFloat64⍰\u001b[39m      │ \u001b[90mFloat64⍰\u001b[39m      │\n",
       "├─────┼───────────────┼───────────────┼───────────────┼───────────────┤\n",
       "│ 1   │ \u001b[90mmissing\u001b[39m       │ \u001b[90mmissing\u001b[39m       │ \u001b[90mmissing\u001b[39m       │ \u001b[90mmissing\u001b[39m       │\n",
       "│ 2   │ \u001b[90mmissing\u001b[39m       │ \u001b[90mmissing\u001b[39m       │ \u001b[90mmissing\u001b[39m       │ \u001b[90mmissing\u001b[39m       │\n",
       "│ 3   │ \u001b[90mmissing\u001b[39m       │ \u001b[90mmissing\u001b[39m       │ \u001b[90mmissing\u001b[39m       │ \u001b[90mmissing\u001b[39m       │\n",
       "│ 4   │ \u001b[90mmissing\u001b[39m       │ \u001b[90mmissing\u001b[39m       │ \u001b[90mmissing\u001b[39m       │ \u001b[90mmissing\u001b[39m       │\n",
       "│ 5   │ \u001b[90mmissing\u001b[39m       │ \u001b[90mmissing\u001b[39m       │ \u001b[90mmissing\u001b[39m       │ \u001b[90mmissing\u001b[39m       │\n",
       "│ 6   │ \u001b[90mmissing\u001b[39m       │ \u001b[90mmissing\u001b[39m       │ \u001b[90mmissing\u001b[39m       │ \u001b[90mmissing\u001b[39m       │\n",
       "│ 7   │ \u001b[90mmissing\u001b[39m       │ \u001b[90mmissing\u001b[39m       │ \u001b[90mmissing\u001b[39m       │ \u001b[90mmissing\u001b[39m       │\n",
       "│ 8   │ \u001b[90mmissing\u001b[39m       │ \u001b[90mmissing\u001b[39m       │ \u001b[90mmissing\u001b[39m       │ \u001b[90mmissing\u001b[39m       │\n",
       "│ 9   │ \u001b[90mmissing\u001b[39m       │ \u001b[90mmissing\u001b[39m       │ \u001b[90mmissing\u001b[39m       │ \u001b[90mmissing\u001b[39m       │\n",
       "│ 10  │ \u001b[90mmissing\u001b[39m       │ \u001b[90mmissing\u001b[39m       │ \u001b[90mmissing\u001b[39m       │ \u001b[90mmissing\u001b[39m       │\n",
       "⋮\n",
       "│ 90  │ \u001b[90mmissing\u001b[39m       │ \u001b[90mmissing\u001b[39m       │ \u001b[90mmissing\u001b[39m       │ \u001b[90mmissing\u001b[39m       │\n",
       "│ 91  │ \u001b[90mmissing\u001b[39m       │ \u001b[90mmissing\u001b[39m       │ \u001b[90mmissing\u001b[39m       │ \u001b[90mmissing\u001b[39m       │\n",
       "│ 92  │ \u001b[90mmissing\u001b[39m       │ \u001b[90mmissing\u001b[39m       │ \u001b[90mmissing\u001b[39m       │ \u001b[90mmissing\u001b[39m       │\n",
       "│ 93  │ 0.0           │ 0.0           │ 0.0           │ 0.0           │\n",
       "│ 94  │ \u001b[90mmissing\u001b[39m       │ \u001b[90mmissing\u001b[39m       │ \u001b[90mmissing\u001b[39m       │ \u001b[90mmissing\u001b[39m       │\n",
       "│ 95  │ 0.0           │ 0.0           │ 0.0           │ 0.0           │\n",
       "│ 96  │ \u001b[90mmissing\u001b[39m       │ \u001b[90mmissing\u001b[39m       │ \u001b[90mmissing\u001b[39m       │ \u001b[90mmissing\u001b[39m       │\n",
       "│ 97  │ \u001b[90mmissing\u001b[39m       │ \u001b[90mmissing\u001b[39m       │ \u001b[90mmissing\u001b[39m       │ \u001b[90mmissing\u001b[39m       │\n",
       "│ 98  │ 0.0           │ 0.0           │ 0.0           │ 0.0           │\n",
       "│ 99  │ 0.0           │ 0.0           │ 0.0           │ 0.0           │\n",
       "│ 100 │ 0.0           │ 0.0           │ 0.0           │ 0.0           │"
      ]
     },
     "execution_count": 3,
     "metadata": {},
     "output_type": "execute_result"
    }
   ],
   "source": [
    "hyper[1:100, 1000:1010]"
   ]
  },
  {
   "cell_type": "code",
   "execution_count": 70,
   "metadata": {},
   "outputs": [
    {
     "name": "stdout",
     "output_type": "stream",
     "text": [
      ":003, :004, :005, :007, :008, :009, :010, :011, :012, :013, :014, :015, :018, :023, :027, :031, :032, :033, :034, :035, :036, :038, :039, :040, :041, :042, :046, :047, :048, :049, :052, :053, :054, :057, :058, :070, :075, :077, :078, :079, :088, :091, :093, :094, :097, :099, :110, :111, :112, :115, :117, :121, :122, :123, :127, :130, :131, :132, :133, :135, :136, :137, :138, :139, :140, :141, :142, :143, :144, :145, :146, :147, :148, :149, :150, :151, :152, :153, :154, :155, :156, :157, :158, :159, :160, :161, :162, :163, :164, :170, :171, :172, :173, :174, :175, :176, :179, :180, :182, :183, :184, :185, :187, :188, :189, :191, :192, :193, :194, :195, :196, :197, :198, :199, :200, :201, :202, :203, :204, :205, :206, :207, :208, :209, :210, :211, :212, :213, :214, :215, :216, :217, :218, :220, :221, :223, :225, :226, :227, :228, :229, :230, :232, :233, :235, :236, :237, :238, :239, :240, :241, :242, :244, :245, :246, :249, :250, :251, :252, :253, :254, :255, :256, :257, :258, :259, :260, :261, :262, :263, :265, :266, :267, :268, :269, :270, :271, :272, :273, :274, :275, :276, :277, :278, :279, :280, :281, :282, :283, :284, :285, :286, :287, :288, :289, :290, :291, :292, :293, :294, :295, :296, :297, :298, :299, :300, :301, :302, :303, :304, :305, :306, :307, :308, :309, :310, :311, :312, :314, :315, :317, :318, :319, :320, :321, :322, :323, :324, :325, :326, :327, :330, :331, :332, :333, :334, :335, :336, :337, :338, :339, :340, :341, :342, :343, :344, :345, :346, :347, :348, :349, :350, :351, :352, :353, :354, :355, :356, :357, :358, :359, :360, :361, :362, :363, :364, :365, :366, :367, :368, :369, :370, :371, :372, :373, :374, :375, :376, :377, :378, :379, :380, :382, :383, :384, :385, :386, :388, :389, :391, :393, :394, :395, :396, :397, :398, :401, :402, :403, :404, :405, :410, :411, :412, :413, :414, :415, :416, :417, :420, :421, :422, :423, :424, :425, :426, :427, :428, :429, :430, :431, :432, :433, :434, :435, :436, :437, :438, :440, :441, :442, :443, :444, :445, :446, :447, :448, :449, :451, :452, :453, :454, :455, :456, :457, :458, :459, :461, :462, :463, :464, :465, :466, :470, :471, :472, :473, :474, :475, :477, :478, :480, :481, :482, :483, :484, :485, :486, :487, :488, :490, :491, :492, :493, :494, :495, :496, :500, :501, :502, :506, :507, :508, :510, :511, :512, :513, :514, :515, :516, :517, :518, :519, :520, :521, :522, :523, :524, :525, :526, :527, :528, :529, :530, :531, :532, :533, :534, :535, :536, :537, :539, :540, :541, :542, :543, :550, :551, :552, :553, :555, :556, :557, :558, :560, :562, :564, :565, :566, :567, :568, :569, :570, :571, :572, :573, :574, :575, :576, :577, :578, :579, :580, :581, :582, :583, :584, :585, :586, :587, :588, :589, :590, :591, :592, :593, :594, :595, :596, :597, :598, :599, :600, :601, :602, :603, :604, :605, :607, :608, :610, :611, :614, :615, :616, :617, :618, :619, :620, :621, :622, :623, :624, :625, :626, :627, :633, :639, :642, :644, :646, :647, :648, :649, :652, :654, :656, :664, :665, :666, :669, :670, :674, :677, :680, :681, :682, :683, :684, :685, :686, :690, :691, :692, :693, :694, :695, :696, :697, :698, :700, :701, :702, :703, :704, :705, :706, :707, :708, :709, :710, :711, :712, :713, :714, :715, :716, :717, :718, :719, :720, :721, :722, :723, :724, :725, :726, :727, :728, :729, :730, :731, :732, :733, :734, :735, :736, :737, :738, :741, :742, :744, :745, :746, :747, :748, :750, :751, :752, :753, :754, :755, :756, :757, :758, :759, :760, :761, :764, :765, :769, :770, :771, :772, :774, :775, :776, :777, :778, :779, :780, :781, :782, :783, :784, :785, :786, :787, :788, :789, :790, :791, :792, :793, :794, :795, :796, :799, :800, :801, :802, :803, :804, :805, :806, :807, :808, :810, :811, :812, :813, :814, :815, :816, :817, :819, :820, :821, :822, :823, :824, :825, :826, :830, :831, :832, :833, :834, :835, :836, :837, :838, :839, :840, :841, :842, :844, :845, :846, :847, :848, :850, :851, :852, :853, :854, :860, :861, :862, :863, :864, :865, :866, :867, :868, :869, :870, :872, :873, :874, :875, :876, :877, :878, :879, :880, :881, :882, :883, :884, :885, :886, :887, :890, :891, :892, :893, :896, :897, :900, :901, :902, :903, :904, :905, :906, :907, :908, :909, :910, :911, :912, :913, :914, :915, :916, :917, :918, :919, :920, :921, :922, :923, :924, :927, :928, :930, :933, :934, :935, :936, :937, :939, :941, :942, :943, :944, :945, :946, :948, :950, :951, :952, :953, :955, :956, :958, :959, :960, :961, :962, :963, :964, :965, :966, :967, :968, :969, :970, :971, :972, :974, :975, :976, :977, :980, :982, :985, :987, :988, :989, :990, :991, :992, :994, :995, :996, :997, :998, :999, :E000, :E001, :E003, :E006, :E007, :E016, :E029, :E811, :E812, :E813, :E814, :E815, :E816, :E817, :E818, :E819, :E820, :E821, :E823, :E824, :E825, :E826, :E834, :E838, :E840, :E848, :E849, :E850, :E851, :E852, :E853, :E854, :E855, :E858, :E860, :E862, :E863, :E865, :E866, :E869, :E870, :E871, :E874, :E876, :E878, :E879, :E880, :E881, :E882, :E884, :E885, :E887, :E888, :E890, :E891, :E899, :E900, :E901, :E906, :E910, :E911, :E912, :E915, :E916, :E917, :E918, :E919, :E920, :E922, :E924, :E926, :E927, :E928, :E929, :E930, :E931, :E932, :E933, :E934, :E935, :E936, :E937, :E938, :E939, :E940, :E941, :E942, :E943, :E944, :E945, :E946, :E947, :E950, :E953, :E955, :E956, :E957, :E958, :E960, :E962, :E965, :E966, :E967, :E968, :E969, :E976, :E980, :E988, :E989, :E999, :V01, :V02, :V03, :V04, :V05, :V06, :V07, :V08, :V09, :V10, :V11, :V12, :V13, :V14, :V15, :V16, :V17, :V18, :V19, :V25, :V26, :V27, :V29, :V30, :V31, :V40, :V42, :V43, :V44, :V45, :V46, :V48, :V49, :V50, :V53, :V54, :V55, :V56, :V58, :V59, :V60, :V61, :V62, :V63, :V64, :V65, :V66, :V68, :V69, :V70, :V71, :V72, :V74, :V76, :V81, :V83, :V84, :V85, :V86, :V87, :V88, :V90, :GENDER_M, :INSURANCE_Medicaid, :INSURANCE_Medicare, :INSURANCE_Private, :INSURANCE_Government, :INSURANCE_Self Pay, :MARITAL_STATUS_nan, :MARITAL_STATUS_MARRIED, :MARITAL_STATUS_WIDOWED, :MARITAL_STATUS_DIVORCED, :MARITAL_STATUS_SINGLE, :MARITAL_STATUS_SEPARATED, :MARITAL_STATUS_UNKNOWN (DEFAULT), :MARITAL_STATUS_LIFE PARTNER, :ETHNICITY_UNKNOWN/NOT SPECIFIED, :ETHNICITY_WHITE, :ETHNICITY_ASIAN, :ETHNICITY_PATIENT DECLINED TO ANSWER, :ETHNICITY_BLACK/AFRICAN AMERICAN, :ETHNICITY_HISPANIC OR LATINO, :ETHNICITY_OTHER, :ETHNICITY_MULTI RACE ETHNICITY, :ETHNICITY_WHITE - RUSSIAN, :ETHNICITY_ASIAN - CHINESE, :ETHNICITY_BLACK/CAPE VERDEAN, :ETHNICITY_ASIAN - ASIAN INDIAN, :ETHNICITY_HISPANIC/LATINO - PUERTO RICAN, :ETHNICITY_ASIAN - CAMBODIAN, :ETHNICITY_HISPANIC/LATINO - SALVADORAN, :ETHNICITY_UNABLE TO OBTAIN, :ETHNICITY_WHITE - EASTERN EUROPEAN, :ETHNICITY_WHITE - OTHER EUROPEAN, :ETHNICITY_PORTUGUESE, :ETHNICITY_HISPANIC/LATINO - DOMINICAN, :ETHNICITY_ASIAN - VIETNAMESE, :ETHNICITY_HISPANIC/LATINO - CENTRAL AMERICAN (OTHER), :ETHNICITY_AMERICAN INDIAN/ALASKA NATIVE, :ETHNICITY_ASIAN - THAI, :ETHNICITY_NATIVE HAWAIIAN OR OTHER PACIFIC ISLANDER, :ETHNICITY_MIDDLE EASTERN, :ETHNICITY_BLACK/AFRICAN, :ETHNICITY_BLACK/HAITIAN, :ETHNICITY_ASIAN - OTHER, :ETHNICITY_HISPANIC/LATINO - GUATEMALAN, :ETHNICITY_WHITE - BRAZILIAN, :ETHNICITY_HISPANIC/LATINO - COLOMBIAN, :ETHNICITY_HISPANIC/LATINO - CUBAN, :ETHNICITY_SOUTH AMERICAN, :ETHNICITY_ASIAN - FILIPINO, :ETHNICITY_ASIAN - JAPANESE, :ETHNICITY_HISPANIC/LATINO - MEXICAN, :ETHNICITY_ASIAN - KOREAN, :ETHNICITY_CARIBBEAN ISLAND, :ETHNICITY_HISPANIC/LATINO - HONDURAN, :DEAD_1, :ADMISSSIONS, :LOS, :ORDINAL_AGE, "
     ]
    }
   ],
   "source": [
    "#column names\n",
    "\n",
    "for name in names(hyper3)\n",
    "    print(\":\", name, \", \")\n",
    "end\n",
    "\n",
    "#describe(df3)"
   ]
  },
  {
   "cell_type": "code",
   "execution_count": 4,
   "metadata": {},
   "outputs": [
    {
     "data": {
      "text/html": [
       "<table class=\"data-frame\"><thead><tr><th></th><th>LOS</th><th>HOSPITALIZATION</th><th>ORDINAL_AGE</th><th>ELECTIVE</th><th>EMERGENCY</th><th>NEWBORN</th><th>URGENT</th><th>Government</th></tr><tr><th></th><th>Float64</th><th>Int64</th><th>Int64</th><th>Int64</th><th>Int64</th><th>Int64</th><th>Int64</th><th>Int64</th></tr></thead><tbody><p>10,310 rows × 920 columns (omitted printing of 912 columns)</p><tr><th>1</th><td>3.666</td><td>1</td><td>4</td><td>0</td><td>1</td><td>0</td><td>0</td><td>0</td></tr><tr><th>2</th><td>1.2885</td><td>1</td><td>6</td><td>0</td><td>1</td><td>0</td><td>0</td><td>0</td></tr><tr><th>3</th><td>1.0508</td><td>1</td><td>8</td><td>1</td><td>0</td><td>0</td><td>0</td><td>0</td></tr><tr><th>4</th><td>14.2664</td><td>2</td><td>9</td><td>0</td><td>1</td><td>0</td><td>0</td><td>0</td></tr><tr><th>5</th><td>0.5124</td><td>1</td><td>4</td><td>0</td><td>1</td><td>0</td><td>0</td><td>0</td></tr><tr><th>6</th><td>3.5466</td><td>1</td><td>6</td><td>0</td><td>1</td><td>0</td><td>0</td><td>0</td></tr><tr><th>7</th><td>1.1224</td><td>1</td><td>8</td><td>1</td><td>0</td><td>0</td><td>0</td><td>0</td></tr><tr><th>8</th><td>5.3757</td><td>1</td><td>7</td><td>1</td><td>0</td><td>0</td><td>0</td><td>0</td></tr><tr><th>9</th><td>1.1397</td><td>1</td><td>7</td><td>0</td><td>1</td><td>0</td><td>0</td><td>0</td></tr><tr><th>10</th><td>1.9138</td><td>1</td><td>7</td><td>0</td><td>1</td><td>0</td><td>0</td><td>0</td></tr><tr><th>11</th><td>2.2017</td><td>1</td><td>9</td><td>0</td><td>1</td><td>0</td><td>0</td><td>0</td></tr><tr><th>12</th><td>1.2469</td><td>1</td><td>8</td><td>1</td><td>0</td><td>0</td><td>0</td><td>0</td></tr><tr><th>13</th><td>2.3141</td><td>1</td><td>7</td><td>0</td><td>0</td><td>0</td><td>1</td><td>0</td></tr><tr><th>14</th><td>14.5181</td><td>2</td><td>5</td><td>0</td><td>1</td><td>0</td><td>0</td><td>0</td></tr><tr><th>15</th><td>1.4941</td><td>1</td><td>6</td><td>0</td><td>1</td><td>0</td><td>0</td><td>1</td></tr><tr><th>16</th><td>17.4592</td><td>2</td><td>7</td><td>0</td><td>1</td><td>0</td><td>0</td><td>0</td></tr><tr><th>17</th><td>1.346</td><td>2</td><td>6</td><td>1</td><td>1</td><td>0</td><td>0</td><td>0</td></tr><tr><th>18</th><td>5.1326</td><td>1</td><td>8</td><td>0</td><td>1</td><td>0</td><td>0</td><td>0</td></tr><tr><th>19</th><td>3.4765</td><td>1</td><td>9</td><td>0</td><td>1</td><td>0</td><td>0</td><td>0</td></tr><tr><th>20</th><td>6.1813</td><td>2</td><td>9</td><td>0</td><td>1</td><td>0</td><td>0</td><td>0</td></tr><tr><th>21</th><td>1.3722</td><td>1</td><td>7</td><td>1</td><td>0</td><td>0</td><td>0</td><td>0</td></tr><tr><th>22</th><td>5.0941</td><td>2</td><td>6</td><td>0</td><td>1</td><td>0</td><td>0</td><td>0</td></tr><tr><th>23</th><td>3.7078</td><td>1</td><td>8</td><td>0</td><td>1</td><td>0</td><td>0</td><td>0</td></tr><tr><th>24</th><td>26.919</td><td>7</td><td>6</td><td>0</td><td>1</td><td>0</td><td>0</td><td>0</td></tr><tr><th>25</th><td>10.1558</td><td>2</td><td>8</td><td>0</td><td>1</td><td>0</td><td>0</td><td>0</td></tr><tr><th>26</th><td>1.084</td><td>1</td><td>7</td><td>1</td><td>0</td><td>0</td><td>0</td><td>0</td></tr><tr><th>27</th><td>7.1739</td><td>2</td><td>5</td><td>0</td><td>1</td><td>0</td><td>1</td><td>1</td></tr><tr><th>28</th><td>2.9076</td><td>1</td><td>8</td><td>0</td><td>0</td><td>0</td><td>1</td><td>0</td></tr><tr><th>29</th><td>8.3211</td><td>2</td><td>8</td><td>0</td><td>1</td><td>0</td><td>0</td><td>0</td></tr><tr><th>30</th><td>1.0253</td><td>1</td><td>6</td><td>0</td><td>1</td><td>0</td><td>0</td><td>0</td></tr><tr><th>&vellip;</th><td>&vellip;</td><td>&vellip;</td><td>&vellip;</td><td>&vellip;</td><td>&vellip;</td><td>&vellip;</td><td>&vellip;</td><td>&vellip;</td></tr></tbody></table>"
      ],
      "text/latex": [
       "\\begin{tabular}{r|ccccccccc}\n",
       "\t& LOS & HOSPITALIZATION & ORDINAL\\_AGE & ELECTIVE & EMERGENCY & NEWBORN & URGENT & Government & \\\\\n",
       "\t\\hline\n",
       "\t& Float64 & Int64 & Int64 & Int64 & Int64 & Int64 & Int64 & Int64 & \\\\\n",
       "\t\\hline\n",
       "\t1 & 3.666 & 1 & 4 & 0 & 1 & 0 & 0 & 0 & $\\dots$ \\\\\n",
       "\t2 & 1.2885 & 1 & 6 & 0 & 1 & 0 & 0 & 0 & $\\dots$ \\\\\n",
       "\t3 & 1.0508 & 1 & 8 & 1 & 0 & 0 & 0 & 0 & $\\dots$ \\\\\n",
       "\t4 & 14.2664 & 2 & 9 & 0 & 1 & 0 & 0 & 0 & $\\dots$ \\\\\n",
       "\t5 & 0.5124 & 1 & 4 & 0 & 1 & 0 & 0 & 0 & $\\dots$ \\\\\n",
       "\t6 & 3.5466 & 1 & 6 & 0 & 1 & 0 & 0 & 0 & $\\dots$ \\\\\n",
       "\t7 & 1.1224 & 1 & 8 & 1 & 0 & 0 & 0 & 0 & $\\dots$ \\\\\n",
       "\t8 & 5.3757 & 1 & 7 & 1 & 0 & 0 & 0 & 0 & $\\dots$ \\\\\n",
       "\t9 & 1.1397 & 1 & 7 & 0 & 1 & 0 & 0 & 0 & $\\dots$ \\\\\n",
       "\t10 & 1.9138 & 1 & 7 & 0 & 1 & 0 & 0 & 0 & $\\dots$ \\\\\n",
       "\t11 & 2.2017 & 1 & 9 & 0 & 1 & 0 & 0 & 0 & $\\dots$ \\\\\n",
       "\t12 & 1.2469 & 1 & 8 & 1 & 0 & 0 & 0 & 0 & $\\dots$ \\\\\n",
       "\t13 & 2.3141 & 1 & 7 & 0 & 0 & 0 & 1 & 0 & $\\dots$ \\\\\n",
       "\t14 & 14.5181 & 2 & 5 & 0 & 1 & 0 & 0 & 0 & $\\dots$ \\\\\n",
       "\t15 & 1.4941 & 1 & 6 & 0 & 1 & 0 & 0 & 1 & $\\dots$ \\\\\n",
       "\t16 & 17.4592 & 2 & 7 & 0 & 1 & 0 & 0 & 0 & $\\dots$ \\\\\n",
       "\t17 & 1.346 & 2 & 6 & 1 & 1 & 0 & 0 & 0 & $\\dots$ \\\\\n",
       "\t18 & 5.1326 & 1 & 8 & 0 & 1 & 0 & 0 & 0 & $\\dots$ \\\\\n",
       "\t19 & 3.4765 & 1 & 9 & 0 & 1 & 0 & 0 & 0 & $\\dots$ \\\\\n",
       "\t20 & 6.1813 & 2 & 9 & 0 & 1 & 0 & 0 & 0 & $\\dots$ \\\\\n",
       "\t21 & 1.3722 & 1 & 7 & 1 & 0 & 0 & 0 & 0 & $\\dots$ \\\\\n",
       "\t22 & 5.0941 & 2 & 6 & 0 & 1 & 0 & 0 & 0 & $\\dots$ \\\\\n",
       "\t23 & 3.7078 & 1 & 8 & 0 & 1 & 0 & 0 & 0 & $\\dots$ \\\\\n",
       "\t24 & 26.919 & 7 & 6 & 0 & 1 & 0 & 0 & 0 & $\\dots$ \\\\\n",
       "\t25 & 10.1558 & 2 & 8 & 0 & 1 & 0 & 0 & 0 & $\\dots$ \\\\\n",
       "\t26 & 1.084 & 1 & 7 & 1 & 0 & 0 & 0 & 0 & $\\dots$ \\\\\n",
       "\t27 & 7.1739 & 2 & 5 & 0 & 1 & 0 & 1 & 1 & $\\dots$ \\\\\n",
       "\t28 & 2.9076 & 1 & 8 & 0 & 0 & 0 & 1 & 0 & $\\dots$ \\\\\n",
       "\t29 & 8.3211 & 2 & 8 & 0 & 1 & 0 & 0 & 0 & $\\dots$ \\\\\n",
       "\t30 & 1.0253 & 1 & 6 & 0 & 1 & 0 & 0 & 0 & $\\dots$ \\\\\n",
       "\t$\\dots$ & $\\dots$ & $\\dots$ & $\\dots$ & $\\dots$ & $\\dots$ & $\\dots$ & $\\dots$ & $\\dots$ &  \\\\\n",
       "\\end{tabular}\n"
      ],
      "text/plain": [
       "10310×920 DataFrame. Omitted printing of 915 columns\n",
       "│ Row   │ LOS     │ HOSPITALIZATION │ ORDINAL_AGE │ ELECTIVE │ EMERGENCY │\n",
       "│       │ \u001b[90mFloat64\u001b[39m │ \u001b[90mInt64\u001b[39m           │ \u001b[90mInt64\u001b[39m       │ \u001b[90mInt64\u001b[39m    │ \u001b[90mInt64\u001b[39m     │\n",
       "├───────┼─────────┼─────────────────┼─────────────┼──────────┼───────────┤\n",
       "│ 1     │ 3.666   │ 1               │ 4           │ 0        │ 1         │\n",
       "│ 2     │ 1.2885  │ 1               │ 6           │ 0        │ 1         │\n",
       "│ 3     │ 1.0508  │ 1               │ 8           │ 1        │ 0         │\n",
       "│ 4     │ 14.2664 │ 2               │ 9           │ 0        │ 1         │\n",
       "│ 5     │ 0.5124  │ 1               │ 4           │ 0        │ 1         │\n",
       "│ 6     │ 3.5466  │ 1               │ 6           │ 0        │ 1         │\n",
       "│ 7     │ 1.1224  │ 1               │ 8           │ 1        │ 0         │\n",
       "│ 8     │ 5.3757  │ 1               │ 7           │ 1        │ 0         │\n",
       "│ 9     │ 1.1397  │ 1               │ 7           │ 0        │ 1         │\n",
       "│ 10    │ 1.9138  │ 1               │ 7           │ 0        │ 1         │\n",
       "⋮\n",
       "│ 10300 │ 9.1439  │ 1               │ 9           │ 0        │ 1         │\n",
       "│ 10301 │ 6.1242  │ 1               │ 7           │ 0        │ 1         │\n",
       "│ 10302 │ 1.0388  │ 1               │ 6           │ 0        │ 1         │\n",
       "│ 10303 │ 3.1669  │ 1               │ 8           │ 0        │ 1         │\n",
       "│ 10304 │ 0.9902  │ 1               │ 3           │ 0        │ 1         │\n",
       "│ 10305 │ 7.2813  │ 1               │ 9           │ 0        │ 1         │\n",
       "│ 10306 │ 5.6719  │ 1               │ 7           │ 0        │ 1         │\n",
       "│ 10307 │ 2.8684  │ 1               │ 7           │ 0        │ 0         │\n",
       "│ 10308 │ 3.1426  │ 1               │ 5           │ 1        │ 0         │\n",
       "│ 10309 │ 2.1615  │ 1               │ 9           │ 1        │ 0         │\n",
       "│ 10310 │ 1.1242  │ 1               │ 7           │ 1        │ 0         │"
      ]
     },
     "execution_count": 4,
     "metadata": {},
     "output_type": "execute_result"
    }
   ],
   "source": [
    "#drop columns\n",
    "#df3 = select!(df3, Not(:Column1))\n",
    "df3 = CSV.read(\"../data/Diabetes_Numerical.csv\")\n",
    "df3 = select!(df3, Not(:SUBJECT_ID )) \n",
    "df3"
   ]
  },
  {
   "cell_type": "code",
   "execution_count": 5,
   "metadata": {
    "scrolled": false
   },
   "outputs": [
    {
     "data": {
      "text/html": [
       "<table class=\"data-frame\"><thead><tr><th></th><th>LOS</th><th>HOSPITALIZATION</th><th>ORDINAL_AGE</th><th>ELECTIVE</th><th>EMERGENCY</th><th>NEWBORN</th><th>URGENT</th><th>Government</th></tr><tr><th></th><th>Float64</th><th>Int64</th><th>Int64</th><th>Int64</th><th>Int64</th><th>Int64</th><th>Int64</th><th>Int64</th></tr></thead><tbody><p>7,901 rows × 922 columns (omitted printing of 914 columns)</p><tr><th>1</th><td>14.2664</td><td>2</td><td>9</td><td>0</td><td>1</td><td>0</td><td>0</td><td>0</td></tr><tr><th>2</th><td>5.3757</td><td>1</td><td>7</td><td>1</td><td>0</td><td>0</td><td>0</td><td>0</td></tr><tr><th>3</th><td>1.9138</td><td>1</td><td>7</td><td>0</td><td>1</td><td>0</td><td>0</td><td>0</td></tr><tr><th>4</th><td>2.2017</td><td>1</td><td>9</td><td>0</td><td>1</td><td>0</td><td>0</td><td>0</td></tr><tr><th>5</th><td>1.2469</td><td>1</td><td>8</td><td>1</td><td>0</td><td>0</td><td>0</td><td>0</td></tr><tr><th>6</th><td>5.1326</td><td>1</td><td>8</td><td>0</td><td>1</td><td>0</td><td>0</td><td>0</td></tr><tr><th>7</th><td>6.1813</td><td>2</td><td>9</td><td>0</td><td>1</td><td>0</td><td>0</td><td>0</td></tr><tr><th>8</th><td>3.7078</td><td>1</td><td>8</td><td>0</td><td>1</td><td>0</td><td>0</td><td>0</td></tr><tr><th>9</th><td>26.919</td><td>7</td><td>6</td><td>0</td><td>1</td><td>0</td><td>0</td><td>0</td></tr><tr><th>10</th><td>10.1558</td><td>2</td><td>8</td><td>0</td><td>1</td><td>0</td><td>0</td><td>0</td></tr><tr><th>11</th><td>7.1739</td><td>2</td><td>5</td><td>0</td><td>1</td><td>0</td><td>1</td><td>1</td></tr><tr><th>12</th><td>8.3211</td><td>2</td><td>8</td><td>0</td><td>1</td><td>0</td><td>0</td><td>0</td></tr><tr><th>13</th><td>1.0253</td><td>1</td><td>6</td><td>0</td><td>1</td><td>0</td><td>0</td><td>0</td></tr><tr><th>14</th><td>1.1046</td><td>1</td><td>8</td><td>0</td><td>1</td><td>0</td><td>0</td><td>0</td></tr><tr><th>15</th><td>14.5304</td><td>2</td><td>6</td><td>0</td><td>1</td><td>0</td><td>0</td><td>0</td></tr><tr><th>16</th><td>1.0838</td><td>1</td><td>8</td><td>1</td><td>0</td><td>0</td><td>0</td><td>0</td></tr><tr><th>17</th><td>1.1789</td><td>1</td><td>7</td><td>1</td><td>0</td><td>0</td><td>0</td><td>0</td></tr><tr><th>18</th><td>14.6206</td><td>3</td><td>9</td><td>0</td><td>1</td><td>0</td><td>0</td><td>0</td></tr><tr><th>19</th><td>2.06</td><td>1</td><td>5</td><td>0</td><td>1</td><td>0</td><td>0</td><td>0</td></tr><tr><th>20</th><td>56.6779</td><td>2</td><td>9</td><td>0</td><td>1</td><td>0</td><td>0</td><td>0</td></tr><tr><th>21</th><td>17.9036</td><td>4</td><td>8</td><td>0</td><td>1</td><td>0</td><td>0</td><td>0</td></tr><tr><th>22</th><td>1.3873</td><td>1</td><td>7</td><td>0</td><td>1</td><td>0</td><td>0</td><td>0</td></tr><tr><th>23</th><td>22.6098</td><td>4</td><td>6</td><td>0</td><td>1</td><td>0</td><td>0</td><td>0</td></tr><tr><th>24</th><td>3.4836</td><td>1</td><td>6</td><td>0</td><td>1</td><td>0</td><td>0</td><td>0</td></tr><tr><th>25</th><td>3.8119</td><td>1</td><td>10</td><td>0</td><td>1</td><td>0</td><td>0</td><td>0</td></tr><tr><th>26</th><td>0.9677</td><td>2</td><td>8</td><td>0</td><td>1</td><td>0</td><td>0</td><td>0</td></tr><tr><th>27</th><td>11.2628</td><td>5</td><td>7</td><td>0</td><td>1</td><td>0</td><td>1</td><td>0</td></tr><tr><th>28</th><td>94.8967</td><td>5</td><td>7</td><td>0</td><td>1</td><td>0</td><td>0</td><td>0</td></tr><tr><th>29</th><td>2.4403</td><td>1</td><td>6</td><td>0</td><td>1</td><td>0</td><td>0</td><td>0</td></tr><tr><th>30</th><td>1.1198</td><td>1</td><td>6</td><td>0</td><td>1</td><td>0</td><td>0</td><td>0</td></tr><tr><th>&vellip;</th><td>&vellip;</td><td>&vellip;</td><td>&vellip;</td><td>&vellip;</td><td>&vellip;</td><td>&vellip;</td><td>&vellip;</td><td>&vellip;</td></tr></tbody></table>"
      ],
      "text/latex": [
       "\\begin{tabular}{r|ccccccccc}\n",
       "\t& LOS & HOSPITALIZATION & ORDINAL\\_AGE & ELECTIVE & EMERGENCY & NEWBORN & URGENT & Government & \\\\\n",
       "\t\\hline\n",
       "\t& Float64 & Int64 & Int64 & Int64 & Int64 & Int64 & Int64 & Int64 & \\\\\n",
       "\t\\hline\n",
       "\t1 & 14.2664 & 2 & 9 & 0 & 1 & 0 & 0 & 0 & $\\dots$ \\\\\n",
       "\t2 & 5.3757 & 1 & 7 & 1 & 0 & 0 & 0 & 0 & $\\dots$ \\\\\n",
       "\t3 & 1.9138 & 1 & 7 & 0 & 1 & 0 & 0 & 0 & $\\dots$ \\\\\n",
       "\t4 & 2.2017 & 1 & 9 & 0 & 1 & 0 & 0 & 0 & $\\dots$ \\\\\n",
       "\t5 & 1.2469 & 1 & 8 & 1 & 0 & 0 & 0 & 0 & $\\dots$ \\\\\n",
       "\t6 & 5.1326 & 1 & 8 & 0 & 1 & 0 & 0 & 0 & $\\dots$ \\\\\n",
       "\t7 & 6.1813 & 2 & 9 & 0 & 1 & 0 & 0 & 0 & $\\dots$ \\\\\n",
       "\t8 & 3.7078 & 1 & 8 & 0 & 1 & 0 & 0 & 0 & $\\dots$ \\\\\n",
       "\t9 & 26.919 & 7 & 6 & 0 & 1 & 0 & 0 & 0 & $\\dots$ \\\\\n",
       "\t10 & 10.1558 & 2 & 8 & 0 & 1 & 0 & 0 & 0 & $\\dots$ \\\\\n",
       "\t11 & 7.1739 & 2 & 5 & 0 & 1 & 0 & 1 & 1 & $\\dots$ \\\\\n",
       "\t12 & 8.3211 & 2 & 8 & 0 & 1 & 0 & 0 & 0 & $\\dots$ \\\\\n",
       "\t13 & 1.0253 & 1 & 6 & 0 & 1 & 0 & 0 & 0 & $\\dots$ \\\\\n",
       "\t14 & 1.1046 & 1 & 8 & 0 & 1 & 0 & 0 & 0 & $\\dots$ \\\\\n",
       "\t15 & 14.5304 & 2 & 6 & 0 & 1 & 0 & 0 & 0 & $\\dots$ \\\\\n",
       "\t16 & 1.0838 & 1 & 8 & 1 & 0 & 0 & 0 & 0 & $\\dots$ \\\\\n",
       "\t17 & 1.1789 & 1 & 7 & 1 & 0 & 0 & 0 & 0 & $\\dots$ \\\\\n",
       "\t18 & 14.6206 & 3 & 9 & 0 & 1 & 0 & 0 & 0 & $\\dots$ \\\\\n",
       "\t19 & 2.06 & 1 & 5 & 0 & 1 & 0 & 0 & 0 & $\\dots$ \\\\\n",
       "\t20 & 56.6779 & 2 & 9 & 0 & 1 & 0 & 0 & 0 & $\\dots$ \\\\\n",
       "\t21 & 17.9036 & 4 & 8 & 0 & 1 & 0 & 0 & 0 & $\\dots$ \\\\\n",
       "\t22 & 1.3873 & 1 & 7 & 0 & 1 & 0 & 0 & 0 & $\\dots$ \\\\\n",
       "\t23 & 22.6098 & 4 & 6 & 0 & 1 & 0 & 0 & 0 & $\\dots$ \\\\\n",
       "\t24 & 3.4836 & 1 & 6 & 0 & 1 & 0 & 0 & 0 & $\\dots$ \\\\\n",
       "\t25 & 3.8119 & 1 & 10 & 0 & 1 & 0 & 0 & 0 & $\\dots$ \\\\\n",
       "\t26 & 0.9677 & 2 & 8 & 0 & 1 & 0 & 0 & 0 & $\\dots$ \\\\\n",
       "\t27 & 11.2628 & 5 & 7 & 0 & 1 & 0 & 1 & 0 & $\\dots$ \\\\\n",
       "\t28 & 94.8967 & 5 & 7 & 0 & 1 & 0 & 0 & 0 & $\\dots$ \\\\\n",
       "\t29 & 2.4403 & 1 & 6 & 0 & 1 & 0 & 0 & 0 & $\\dots$ \\\\\n",
       "\t30 & 1.1198 & 1 & 6 & 0 & 1 & 0 & 0 & 0 & $\\dots$ \\\\\n",
       "\t$\\dots$ & $\\dots$ & $\\dots$ & $\\dots$ & $\\dots$ & $\\dots$ & $\\dots$ & $\\dots$ & $\\dots$ &  \\\\\n",
       "\\end{tabular}\n"
      ],
      "text/plain": [
       "7901×922 DataFrame. Omitted printing of 917 columns\n",
       "│ Row  │ LOS     │ HOSPITALIZATION │ ORDINAL_AGE │ ELECTIVE │ EMERGENCY │\n",
       "│      │ \u001b[90mFloat64\u001b[39m │ \u001b[90mInt64\u001b[39m           │ \u001b[90mInt64\u001b[39m       │ \u001b[90mInt64\u001b[39m    │ \u001b[90mInt64\u001b[39m     │\n",
       "├──────┼─────────┼─────────────────┼─────────────┼──────────┼───────────┤\n",
       "│ 1    │ 14.2664 │ 2               │ 9           │ 0        │ 1         │\n",
       "│ 2    │ 5.3757  │ 1               │ 7           │ 1        │ 0         │\n",
       "│ 3    │ 1.9138  │ 1               │ 7           │ 0        │ 1         │\n",
       "│ 4    │ 2.2017  │ 1               │ 9           │ 0        │ 1         │\n",
       "│ 5    │ 1.2469  │ 1               │ 8           │ 1        │ 0         │\n",
       "│ 6    │ 5.1326  │ 1               │ 8           │ 0        │ 1         │\n",
       "│ 7    │ 6.1813  │ 2               │ 9           │ 0        │ 1         │\n",
       "│ 8    │ 3.7078  │ 1               │ 8           │ 0        │ 1         │\n",
       "│ 9    │ 26.919  │ 7               │ 6           │ 0        │ 1         │\n",
       "│ 10   │ 10.1558 │ 2               │ 8           │ 0        │ 1         │\n",
       "⋮\n",
       "│ 7891 │ 9.1439  │ 1               │ 9           │ 0        │ 1         │\n",
       "│ 7892 │ 6.1242  │ 1               │ 7           │ 0        │ 1         │\n",
       "│ 7893 │ 1.0388  │ 1               │ 6           │ 0        │ 1         │\n",
       "│ 7894 │ 3.1669  │ 1               │ 8           │ 0        │ 1         │\n",
       "│ 7895 │ 0.9902  │ 1               │ 3           │ 0        │ 1         │\n",
       "│ 7896 │ 7.2813  │ 1               │ 9           │ 0        │ 1         │\n",
       "│ 7897 │ 5.6719  │ 1               │ 7           │ 0        │ 1         │\n",
       "│ 7898 │ 2.8684  │ 1               │ 7           │ 0        │ 0         │\n",
       "│ 7899 │ 3.1426  │ 1               │ 5           │ 1        │ 0         │\n",
       "│ 7900 │ 2.1615  │ 1               │ 9           │ 1        │ 0         │\n",
       "│ 7901 │ 1.1242  │ 1               │ 7           │ 1        │ 0         │"
      ]
     },
     "execution_count": 5,
     "metadata": {},
     "output_type": "execute_result"
    }
   ],
   "source": [
    "diabetesdrg = CSV.read(\"../data/diabetesdrg.csv\")\n",
    "diabetesdrg = select!(diabetesdrg, Not(:SUBJECT_ID )) \n",
    "diabetesdrg"
   ]
  },
  {
   "cell_type": "code",
   "execution_count": 49,
   "metadata": {},
   "outputs": [],
   "source": [
    "#hypertension drop missing/nan "
   ]
  },
  {
   "cell_type": "code",
   "execution_count": 50,
   "metadata": {},
   "outputs": [
    {
     "data": {
      "text/html": [
       "<table class=\"data-frame\"><thead><tr><th></th><th>Unnamed: 0</th><th>003</th><th>004</th><th>005</th><th>007</th><th>008</th><th>009</th><th>010</th><th>011</th><th>012</th><th>013</th></tr><tr><th></th><th>Int64</th><th>Int64</th><th>Int64</th><th>Int64</th><th>Int64</th><th>Int64</th><th>Int64</th><th>Int64</th><th>Int64</th><th>Int64</th><th>Int64</th></tr></thead><tbody><p>11,494 rows × 1,079 columns (omitted printing of 1068 columns)</p><tr><th>1</th><td>13</td><td>0</td><td>0</td><td>0</td><td>0</td><td>0</td><td>0</td><td>0</td><td>0</td><td>0</td><td>0</td></tr><tr><th>2</th><td>16</td><td>0</td><td>0</td><td>0</td><td>0</td><td>0</td><td>0</td><td>0</td><td>0</td><td>0</td><td>0</td></tr><tr><th>3</th><td>17</td><td>0</td><td>0</td><td>0</td><td>0</td><td>0</td><td>0</td><td>0</td><td>0</td><td>0</td><td>0</td></tr><tr><th>4</th><td>18</td><td>0</td><td>0</td><td>0</td><td>0</td><td>0</td><td>0</td><td>0</td><td>0</td><td>0</td><td>0</td></tr><tr><th>5</th><td>24</td><td>0</td><td>0</td><td>0</td><td>0</td><td>0</td><td>0</td><td>0</td><td>0</td><td>0</td><td>0</td></tr><tr><th>6</th><td>25</td><td>0</td><td>0</td><td>0</td><td>0</td><td>0</td><td>0</td><td>0</td><td>0</td><td>0</td><td>0</td></tr><tr><th>7</th><td>30</td><td>0</td><td>0</td><td>0</td><td>0</td><td>0</td><td>0</td><td>0</td><td>0</td><td>0</td><td>0</td></tr><tr><th>8</th><td>31</td><td>0</td><td>0</td><td>0</td><td>0</td><td>0</td><td>0</td><td>0</td><td>0</td><td>0</td><td>0</td></tr><tr><th>9</th><td>35</td><td>0</td><td>0</td><td>0</td><td>0</td><td>0</td><td>0</td><td>0</td><td>0</td><td>0</td><td>0</td></tr><tr><th>10</th><td>40</td><td>0</td><td>0</td><td>0</td><td>0</td><td>0</td><td>0</td><td>0</td><td>0</td><td>0</td><td>0</td></tr><tr><th>11</th><td>41</td><td>0</td><td>0</td><td>0</td><td>0</td><td>0</td><td>0</td><td>0</td><td>0</td><td>0</td><td>0</td></tr><tr><th>12</th><td>42</td><td>0</td><td>0</td><td>0</td><td>0</td><td>0</td><td>0</td><td>0</td><td>0</td><td>0</td><td>0</td></tr><tr><th>13</th><td>46</td><td>0</td><td>0</td><td>0</td><td>0</td><td>0</td><td>0</td><td>0</td><td>0</td><td>0</td><td>0</td></tr><tr><th>14</th><td>58</td><td>0</td><td>0</td><td>0</td><td>0</td><td>0</td><td>0</td><td>0</td><td>0</td><td>0</td><td>0</td></tr><tr><th>15</th><td>59</td><td>0</td><td>0</td><td>0</td><td>0</td><td>0</td><td>0</td><td>0</td><td>0</td><td>0</td><td>0</td></tr><tr><th>16</th><td>63</td><td>0</td><td>0</td><td>0</td><td>0</td><td>0</td><td>0</td><td>0</td><td>0</td><td>0</td><td>0</td></tr><tr><th>17</th><td>64</td><td>0</td><td>0</td><td>0</td><td>0</td><td>0</td><td>0</td><td>0</td><td>0</td><td>0</td><td>0</td></tr><tr><th>18</th><td>65</td><td>0</td><td>0</td><td>0</td><td>0</td><td>0</td><td>0</td><td>0</td><td>0</td><td>0</td><td>0</td></tr><tr><th>19</th><td>68</td><td>0</td><td>0</td><td>0</td><td>0</td><td>0</td><td>0</td><td>0</td><td>0</td><td>0</td><td>0</td></tr><tr><th>20</th><td>71</td><td>0</td><td>0</td><td>0</td><td>0</td><td>0</td><td>0</td><td>0</td><td>0</td><td>0</td><td>0</td></tr><tr><th>21</th><td>75</td><td>0</td><td>0</td><td>0</td><td>0</td><td>1</td><td>0</td><td>0</td><td>0</td><td>0</td><td>0</td></tr><tr><th>22</th><td>76</td><td>0</td><td>0</td><td>0</td><td>0</td><td>0</td><td>0</td><td>0</td><td>0</td><td>0</td><td>0</td></tr><tr><th>23</th><td>79</td><td>0</td><td>0</td><td>0</td><td>0</td><td>1</td><td>0</td><td>0</td><td>0</td><td>0</td><td>0</td></tr><tr><th>24</th><td>81</td><td>0</td><td>0</td><td>0</td><td>0</td><td>0</td><td>0</td><td>0</td><td>0</td><td>0</td><td>0</td></tr><tr><th>25</th><td>82</td><td>0</td><td>0</td><td>0</td><td>0</td><td>0</td><td>0</td><td>0</td><td>0</td><td>0</td><td>0</td></tr><tr><th>26</th><td>85</td><td>0</td><td>0</td><td>0</td><td>0</td><td>0</td><td>0</td><td>0</td><td>0</td><td>0</td><td>0</td></tr><tr><th>27</th><td>86</td><td>0</td><td>0</td><td>0</td><td>0</td><td>0</td><td>0</td><td>0</td><td>0</td><td>0</td><td>0</td></tr><tr><th>28</th><td>92</td><td>0</td><td>0</td><td>0</td><td>0</td><td>0</td><td>0</td><td>0</td><td>0</td><td>0</td><td>0</td></tr><tr><th>29</th><td>94</td><td>0</td><td>0</td><td>0</td><td>0</td><td>0</td><td>0</td><td>0</td><td>0</td><td>0</td><td>0</td></tr><tr><th>30</th><td>97</td><td>0</td><td>0</td><td>0</td><td>0</td><td>0</td><td>0</td><td>0</td><td>0</td><td>0</td><td>0</td></tr><tr><th>&vellip;</th><td>&vellip;</td><td>&vellip;</td><td>&vellip;</td><td>&vellip;</td><td>&vellip;</td><td>&vellip;</td><td>&vellip;</td><td>&vellip;</td><td>&vellip;</td><td>&vellip;</td><td>&vellip;</td></tr></tbody></table>"
      ],
      "text/latex": [
       "\\begin{tabular}{r|cccccccccccc}\n",
       "\t& Unnamed: 0 & 003 & 004 & 005 & 007 & 008 & 009 & 010 & 011 & 012 & 013 & \\\\\n",
       "\t\\hline\n",
       "\t& Int64 & Int64 & Int64 & Int64 & Int64 & Int64 & Int64 & Int64 & Int64 & Int64 & Int64 & \\\\\n",
       "\t\\hline\n",
       "\t1 & 13 & 0 & 0 & 0 & 0 & 0 & 0 & 0 & 0 & 0 & 0 & $\\dots$ \\\\\n",
       "\t2 & 16 & 0 & 0 & 0 & 0 & 0 & 0 & 0 & 0 & 0 & 0 & $\\dots$ \\\\\n",
       "\t3 & 17 & 0 & 0 & 0 & 0 & 0 & 0 & 0 & 0 & 0 & 0 & $\\dots$ \\\\\n",
       "\t4 & 18 & 0 & 0 & 0 & 0 & 0 & 0 & 0 & 0 & 0 & 0 & $\\dots$ \\\\\n",
       "\t5 & 24 & 0 & 0 & 0 & 0 & 0 & 0 & 0 & 0 & 0 & 0 & $\\dots$ \\\\\n",
       "\t6 & 25 & 0 & 0 & 0 & 0 & 0 & 0 & 0 & 0 & 0 & 0 & $\\dots$ \\\\\n",
       "\t7 & 30 & 0 & 0 & 0 & 0 & 0 & 0 & 0 & 0 & 0 & 0 & $\\dots$ \\\\\n",
       "\t8 & 31 & 0 & 0 & 0 & 0 & 0 & 0 & 0 & 0 & 0 & 0 & $\\dots$ \\\\\n",
       "\t9 & 35 & 0 & 0 & 0 & 0 & 0 & 0 & 0 & 0 & 0 & 0 & $\\dots$ \\\\\n",
       "\t10 & 40 & 0 & 0 & 0 & 0 & 0 & 0 & 0 & 0 & 0 & 0 & $\\dots$ \\\\\n",
       "\t11 & 41 & 0 & 0 & 0 & 0 & 0 & 0 & 0 & 0 & 0 & 0 & $\\dots$ \\\\\n",
       "\t12 & 42 & 0 & 0 & 0 & 0 & 0 & 0 & 0 & 0 & 0 & 0 & $\\dots$ \\\\\n",
       "\t13 & 46 & 0 & 0 & 0 & 0 & 0 & 0 & 0 & 0 & 0 & 0 & $\\dots$ \\\\\n",
       "\t14 & 58 & 0 & 0 & 0 & 0 & 0 & 0 & 0 & 0 & 0 & 0 & $\\dots$ \\\\\n",
       "\t15 & 59 & 0 & 0 & 0 & 0 & 0 & 0 & 0 & 0 & 0 & 0 & $\\dots$ \\\\\n",
       "\t16 & 63 & 0 & 0 & 0 & 0 & 0 & 0 & 0 & 0 & 0 & 0 & $\\dots$ \\\\\n",
       "\t17 & 64 & 0 & 0 & 0 & 0 & 0 & 0 & 0 & 0 & 0 & 0 & $\\dots$ \\\\\n",
       "\t18 & 65 & 0 & 0 & 0 & 0 & 0 & 0 & 0 & 0 & 0 & 0 & $\\dots$ \\\\\n",
       "\t19 & 68 & 0 & 0 & 0 & 0 & 0 & 0 & 0 & 0 & 0 & 0 & $\\dots$ \\\\\n",
       "\t20 & 71 & 0 & 0 & 0 & 0 & 0 & 0 & 0 & 0 & 0 & 0 & $\\dots$ \\\\\n",
       "\t21 & 75 & 0 & 0 & 0 & 0 & 1 & 0 & 0 & 0 & 0 & 0 & $\\dots$ \\\\\n",
       "\t22 & 76 & 0 & 0 & 0 & 0 & 0 & 0 & 0 & 0 & 0 & 0 & $\\dots$ \\\\\n",
       "\t23 & 79 & 0 & 0 & 0 & 0 & 1 & 0 & 0 & 0 & 0 & 0 & $\\dots$ \\\\\n",
       "\t24 & 81 & 0 & 0 & 0 & 0 & 0 & 0 & 0 & 0 & 0 & 0 & $\\dots$ \\\\\n",
       "\t25 & 82 & 0 & 0 & 0 & 0 & 0 & 0 & 0 & 0 & 0 & 0 & $\\dots$ \\\\\n",
       "\t26 & 85 & 0 & 0 & 0 & 0 & 0 & 0 & 0 & 0 & 0 & 0 & $\\dots$ \\\\\n",
       "\t27 & 86 & 0 & 0 & 0 & 0 & 0 & 0 & 0 & 0 & 0 & 0 & $\\dots$ \\\\\n",
       "\t28 & 92 & 0 & 0 & 0 & 0 & 0 & 0 & 0 & 0 & 0 & 0 & $\\dots$ \\\\\n",
       "\t29 & 94 & 0 & 0 & 0 & 0 & 0 & 0 & 0 & 0 & 0 & 0 & $\\dots$ \\\\\n",
       "\t30 & 97 & 0 & 0 & 0 & 0 & 0 & 0 & 0 & 0 & 0 & 0 & $\\dots$ \\\\\n",
       "\t$\\dots$ & $\\dots$ & $\\dots$ & $\\dots$ & $\\dots$ & $\\dots$ & $\\dots$ & $\\dots$ & $\\dots$ & $\\dots$ & $\\dots$ & $\\dots$ &  \\\\\n",
       "\\end{tabular}\n"
      ],
      "text/plain": [
       "11494×1079 DataFrame. Omitted printing of 1071 columns\n",
       "│ Row   │ Unnamed: 0 │ 003   │ 004   │ 005   │ 007   │ 008   │ 009   │ 010   │\n",
       "│       │ \u001b[90mInt64\u001b[39m      │ \u001b[90mInt64\u001b[39m │ \u001b[90mInt64\u001b[39m │ \u001b[90mInt64\u001b[39m │ \u001b[90mInt64\u001b[39m │ \u001b[90mInt64\u001b[39m │ \u001b[90mInt64\u001b[39m │ \u001b[90mInt64\u001b[39m │\n",
       "├───────┼────────────┼───────┼───────┼───────┼───────┼───────┼───────┼───────┤\n",
       "│ 1     │ 13         │ 0     │ 0     │ 0     │ 0     │ 0     │ 0     │ 0     │\n",
       "│ 2     │ 16         │ 0     │ 0     │ 0     │ 0     │ 0     │ 0     │ 0     │\n",
       "│ 3     │ 17         │ 0     │ 0     │ 0     │ 0     │ 0     │ 0     │ 0     │\n",
       "│ 4     │ 18         │ 0     │ 0     │ 0     │ 0     │ 0     │ 0     │ 0     │\n",
       "│ 5     │ 24         │ 0     │ 0     │ 0     │ 0     │ 0     │ 0     │ 0     │\n",
       "│ 6     │ 25         │ 0     │ 0     │ 0     │ 0     │ 0     │ 0     │ 0     │\n",
       "│ 7     │ 30         │ 0     │ 0     │ 0     │ 0     │ 0     │ 0     │ 0     │\n",
       "│ 8     │ 31         │ 0     │ 0     │ 0     │ 0     │ 0     │ 0     │ 0     │\n",
       "│ 9     │ 35         │ 0     │ 0     │ 0     │ 0     │ 0     │ 0     │ 0     │\n",
       "│ 10    │ 40         │ 0     │ 0     │ 0     │ 0     │ 0     │ 0     │ 0     │\n",
       "⋮\n",
       "│ 11484 │ 18020      │ 0     │ 0     │ 0     │ 0     │ 0     │ 0     │ 0     │\n",
       "│ 11485 │ 18021      │ 0     │ 0     │ 0     │ 0     │ 0     │ 0     │ 0     │\n",
       "│ 11486 │ 18022      │ 0     │ 0     │ 0     │ 0     │ 0     │ 0     │ 0     │\n",
       "│ 11487 │ 18023      │ 0     │ 0     │ 0     │ 0     │ 0     │ 0     │ 0     │\n",
       "│ 11488 │ 18024      │ 0     │ 0     │ 0     │ 0     │ 0     │ 0     │ 0     │\n",
       "│ 11489 │ 18025      │ 0     │ 0     │ 0     │ 0     │ 0     │ 0     │ 0     │\n",
       "│ 11490 │ 18026      │ 0     │ 0     │ 0     │ 0     │ 0     │ 0     │ 0     │\n",
       "│ 11491 │ 18027      │ 0     │ 0     │ 0     │ 0     │ 0     │ 0     │ 0     │\n",
       "│ 11492 │ 18028      │ 0     │ 0     │ 0     │ 0     │ 0     │ 0     │ 0     │\n",
       "│ 11493 │ 18029      │ 0     │ 0     │ 0     │ 0     │ 0     │ 0     │ 0     │\n",
       "│ 11494 │ 18030      │ 0     │ 0     │ 0     │ 0     │ 0     │ 0     │ 0     │"
      ]
     },
     "execution_count": 50,
     "metadata": {},
     "output_type": "execute_result"
    }
   ],
   "source": [
    "hypernomissing = dropmissing(hyper);"
   ]
  },
  {
   "cell_type": "code",
   "execution_count": 17,
   "metadata": {
    "scrolled": false
   },
   "outputs": [
    {
     "data": {
      "text/plain": [
       "\"../data/hypertension_nomissing\""
      ]
     },
     "execution_count": 17,
     "metadata": {},
     "output_type": "execute_result"
    }
   ],
   "source": [
    "#CSV.write(\"../data/hypertension_nomissing\", hypernomissing)  "
   ]
  },
  {
   "cell_type": "markdown",
   "metadata": {},
   "source": [
    "# kmeans with missing and diff loss function "
   ]
  },
  {
   "cell_type": "code",
   "execution_count": 12,
   "metadata": {},
   "outputs": [
    {
     "data": {
      "text/plain": [
       "1000-element Array{Loss,1}:\n",
       " LogisticLoss(1.0, BoolDomain())\n",
       " LogisticLoss(1.0, BoolDomain())\n",
       " LogisticLoss(1.0, BoolDomain())\n",
       " LogisticLoss(1.0, BoolDomain())\n",
       " LogisticLoss(1.0, BoolDomain())\n",
       " LogisticLoss(1.0, BoolDomain())\n",
       " LogisticLoss(1.0, BoolDomain())\n",
       " LogisticLoss(1.0, BoolDomain())\n",
       " LogisticLoss(1.0, BoolDomain())\n",
       " LogisticLoss(1.0, BoolDomain())\n",
       " LogisticLoss(1.0, BoolDomain())\n",
       " LogisticLoss(1.0, BoolDomain())\n",
       " LogisticLoss(1.0, BoolDomain())\n",
       " ⋮\n",
       " LogisticLoss(1.0, BoolDomain())\n",
       " LogisticLoss(1.0, BoolDomain())\n",
       " LogisticLoss(1.0, BoolDomain())\n",
       " LogisticLoss(1.0, BoolDomain())\n",
       " LogisticLoss(1.0, BoolDomain())\n",
       " LogisticLoss(1.0, BoolDomain())\n",
       " LogisticLoss(1.0, BoolDomain())\n",
       " LogisticLoss(1.0, BoolDomain())\n",
       " LogisticLoss(1.0, BoolDomain())\n",
       " QuadLoss(1.0, RealDomain())\n",
       " QuadLoss(1.0, RealDomain())\n",
       " MultinomialOrdinalLoss(10, 1.0, OrdinalDomain(1, 10))"
      ]
     },
     "execution_count": 12,
     "metadata": {},
     "output_type": "execute_result"
    }
   ],
   "source": [
    "#loss function array\n",
    "\n",
    "\n",
    "\n",
    "loss1 = fill(LogisticLoss(), 997)\n",
    "loss2= fill(QuadLoss(),2)\n",
    "loss3 = fill(MultinomialOrdinalLoss(), 1)\n",
    "\n",
    "#loss1 = fill(HingeLoss(), 997)\n",
    "#loss2 = fill(HuberLoss(),2)\n",
    "#loss3 = fill(OrdinalHingeLoss(), 1)\n",
    "lossarr = [loss1; loss2; loss3]\n",
    "lossarr\n",
    "\n",
    "\n",
    " #LogisticLoss(1.0, BoolDomain())\n",
    " #QuadLoss(0.5931858778716796, RealDomain())\n",
    "# QuadLoss(0.00558307770359294, RealDomain())\n",
    " #MultinomialOrdinalLoss(10, 1.0, OrdinalDomain(1, 10))\n",
    "\n",
    "#hyper3\n",
    "#type1 = fill(:bool, 997)\n",
    "#type2 = fill(:real, 2)\n",
    "#type3 = fill(:ord, 1)\n",
    "\n",
    "#datatypes = [type1; type2; type3]\n",
    "#datatypes "
   ]
  },
  {
   "cell_type": "code",
   "execution_count": 14,
   "metadata": {},
   "outputs": [
    {
     "ename": "MethodError",
     "evalue": "MethodError: no method matching GLRM(::DataFrame, ::Array{Loss,1}, ::UnitOneSparseConstraint, ::ZeroReg, ::Int64, ::Array{Symbol,1})\nClosest candidates are:\n  GLRM(::Any, ::Any, ::Any, ::Any, ::Any, ::Any, !Matched::Any, !Matched::Any, !Matched::Any) at /Users/kathy908000/.julia/packages/LowRankModels/u9DCY/src/glrm.jl:13\n  GLRM(::Any, ::Array, ::Regularizer, ::Regularizer, ::Int64; kwargs...) at /Users/kathy908000/.julia/packages/LowRankModels/u9DCY/src/utilities/conveniencemethods.jl:44\n  GLRM(::Any, ::Array, ::Regularizer, !Matched::Array, ::Int64; kwargs...) at /Users/kathy908000/.julia/packages/LowRankModels/u9DCY/src/utilities/conveniencemethods.jl:40\n  ...",
     "output_type": "error",
     "traceback": [
      "MethodError: no method matching GLRM(::DataFrame, ::Array{Loss,1}, ::UnitOneSparseConstraint, ::ZeroReg, ::Int64, ::Array{Symbol,1})\nClosest candidates are:\n  GLRM(::Any, ::Any, ::Any, ::Any, ::Any, ::Any, !Matched::Any, !Matched::Any, !Matched::Any) at /Users/kathy908000/.julia/packages/LowRankModels/u9DCY/src/glrm.jl:13\n  GLRM(::Any, ::Array, ::Regularizer, ::Regularizer, ::Int64; kwargs...) at /Users/kathy908000/.julia/packages/LowRankModels/u9DCY/src/utilities/conveniencemethods.jl:44\n  GLRM(::Any, ::Array, ::Regularizer, !Matched::Array, ::Int64; kwargs...) at /Users/kathy908000/.julia/packages/LowRankModels/u9DCY/src/utilities/conveniencemethods.jl:40\n  ...",
      "",
      "Stacktrace:",
      " [1] top-level scope at In[14]:6"
     ]
    }
   ],
   "source": [
    "k = 4\n",
    "losses = lossarr\n",
    "A = hyper3\n",
    "rx = UnitOneSparseConstraint()\n",
    "ry = ZeroReg()\n",
    "glrm = GLRM(A,losses,rx,ry,k, datatypes)\n",
    "#params = ProxGradParams(inner_iter_Y=40)"
   ]
  },
  {
   "cell_type": "code",
   "execution_count": null,
   "metadata": {},
   "outputs": [],
   "source": []
  },
  {
   "cell_type": "markdown",
   "metadata": {},
   "source": [
    "# kmeans with missing"
   ]
  },
  {
   "cell_type": "code",
   "execution_count": null,
   "metadata": {},
   "outputs": [],
   "source": [
    "function kmeans_missing(kval, datatypes, matrix)\n",
    "    k = kval\n",
    "    dtype = datatypes\n",
    "    A = matrix\n",
    "    #losses = QuadLoss() \n",
    "    #rx = UnitOneSparseConstraint()\n",
    "    #ry = ZeroReg()\n",
    "    \n",
    "    \n",
    "    glrm = GLRM(A, k, dtype) #glrm = GLRM(A, k, dtype)\n",
    "    X,Y = fit!(glrm)\n",
    " \n",
    "    \n",
    "    #X,Y,ch = fit!(glrm, params) # objective value\n",
    "    println(\"X: \")\n",
    "    println(X)\n",
    "    println(\"Y: \")\n",
    "    println(Y)\n",
    "    \n",
    "    imputey = impute(losses, Y) \n",
    "    imputey  = convert(DataFrame, imputey) \n",
    "    CSV.write(string(\"../data/iyhyper1000_\", k,\".csv\" ), imputey)\n",
    "    #CSV.read(string(\"../data/iywp\", k,\".csv\" ), imputey)\n",
    "    \n",
    "    X= convert(DataFrame, X) \n",
    "    CSV.write(string(\"../data/Xhyper1000_\", k,\".csv\" ), X)  \n",
    "    #CSV.read(string(\"../data/Xwp\", k,\".csv\" ), X)\n",
    "end"
   ]
  },
  {
   "cell_type": "code",
   "execution_count": 6,
   "metadata": {},
   "outputs": [
    {
     "data": {
      "text/plain": [
       "ZeroReg()"
      ]
     },
     "execution_count": 6,
     "metadata": {},
     "output_type": "execute_result"
    }
   ],
   "source": [
    "rx = UnitOneSparseConstraint() # each row is assigned to exactly one cluster\n",
    "ry = ZeroReg() # no regularization on the cluster centroids\n"
   ]
  },
  {
   "cell_type": "code",
   "execution_count": 9,
   "metadata": {
    "scrolled": true
   },
   "outputs": [
    {
     "ename": "MethodError",
     "evalue": "MethodError: no method matching GLRM(::DataFrame, ::Array{Symbol,1}, ::UnitOneSparseConstraint, ::Int64)\nClosest candidates are:\n  GLRM(::Any, ::Any, ::Any, ::Any, !Matched::Any, !Matched::Any, !Matched::Any, !Matched::Any, !Matched::Any) at /Users/kathy908000/.julia/packages/LowRankModels/u9DCY/src/glrm.jl:13\n  GLRM(::Any, ::Array, ::Regularizer, !Matched::Array, !Matched::Int64; kwargs...) at /Users/kathy908000/.julia/packages/LowRankModels/u9DCY/src/utilities/conveniencemethods.jl:40\n  GLRM(::Any, ::Array, ::Regularizer, !Matched::Regularizer, !Matched::Int64; kwargs...) at /Users/kathy908000/.julia/packages/LowRankModels/u9DCY/src/utilities/conveniencemethods.jl:44\n  ...",
     "output_type": "error",
     "traceback": [
      "MethodError: no method matching GLRM(::DataFrame, ::Array{Symbol,1}, ::UnitOneSparseConstraint, ::Int64)\nClosest candidates are:\n  GLRM(::Any, ::Any, ::Any, ::Any, !Matched::Any, !Matched::Any, !Matched::Any, !Matched::Any, !Matched::Any) at /Users/kathy908000/.julia/packages/LowRankModels/u9DCY/src/glrm.jl:13\n  GLRM(::Any, ::Array, ::Regularizer, !Matched::Array, !Matched::Int64; kwargs...) at /Users/kathy908000/.julia/packages/LowRankModels/u9DCY/src/utilities/conveniencemethods.jl:40\n  GLRM(::Any, ::Array, ::Regularizer, !Matched::Regularizer, !Matched::Int64; kwargs...) at /Users/kathy908000/.julia/packages/LowRankModels/u9DCY/src/utilities/conveniencemethods.jl:44\n  ...",
      "",
      "Stacktrace:",
      " [1] top-level scope at In[9]:1"
     ]
    }
   ],
   "source": [
    "glrm = GLRM(hyper3,datatypes, rx, 5, )"
   ]
  },
  {
   "cell_type": "code",
   "execution_count": null,
   "metadata": {},
   "outputs": [],
   "source": []
  },
  {
   "cell_type": "code",
   "execution_count": null,
   "metadata": {},
   "outputs": [],
   "source": []
  },
  {
   "cell_type": "code",
   "execution_count": 21,
   "metadata": {
    "scrolled": false
   },
   "outputs": [
    {
     "data": {
      "text/plain": [
       "1000-element Array{Symbol,1}:\n",
       " :bool\n",
       " :bool\n",
       " :bool\n",
       " :bool\n",
       " :bool\n",
       " :bool\n",
       " :bool\n",
       " :bool\n",
       " :bool\n",
       " :bool\n",
       " :bool\n",
       " :bool\n",
       " :bool\n",
       " ⋮\n",
       " :bool\n",
       " :bool\n",
       " :bool\n",
       " :bool\n",
       " :bool\n",
       " :bool\n",
       " :bool\n",
       " :bool\n",
       " :bool\n",
       " :real\n",
       " :real\n",
       " :ord"
      ]
     },
     "execution_count": 21,
     "metadata": {},
     "output_type": "execute_result"
    }
   ],
   "source": [
    "#hyper3\n",
    "type1 = fill(:bool, 997)\n",
    "type2 = fill(:real, 2)\n",
    "type3 = fill(:ord, 1)\n",
    "\n",
    "datatypes = [type1; type2; type3]\n",
    "datatypes "
   ]
  },
  {
   "cell_type": "code",
   "execution_count": 17,
   "metadata": {
    "scrolled": true
   },
   "outputs": [
    {
     "data": {
      "text/plain": [
       "GLRM(18031×1000 DataFrame. Omitted printing of 993 columns\n",
       "│ Row   │ 003    │ 004    │ 005    │ 007    │ 008    │ 009    │ 010    │\n",
       "│       │ \u001b[90mInt64⍰\u001b[39m │ \u001b[90mInt64⍰\u001b[39m │ \u001b[90mInt64⍰\u001b[39m │ \u001b[90mInt64⍰\u001b[39m │ \u001b[90mInt64⍰\u001b[39m │ \u001b[90mInt64⍰\u001b[39m │ \u001b[90mInt64⍰\u001b[39m │\n",
       "├───────┼────────┼────────┼────────┼────────┼────────┼────────┼────────┤\n",
       "│ 1     │ -1     │ -1     │ -1     │ -1     │ -1     │ -1     │ -1     │\n",
       "│ 2     │ -1     │ -1     │ -1     │ -1     │ -1     │ -1     │ -1     │\n",
       "│ 3     │ -1     │ -1     │ -1     │ -1     │ -1     │ -1     │ -1     │\n",
       "│ 4     │ -1     │ -1     │ -1     │ -1     │ -1     │ -1     │ -1     │\n",
       "│ 5     │ -1     │ -1     │ -1     │ -1     │ -1     │ -1     │ -1     │\n",
       "│ 6     │ -1     │ -1     │ -1     │ -1     │ -1     │ -1     │ -1     │\n",
       "│ 7     │ -1     │ -1     │ -1     │ -1     │ -1     │ -1     │ -1     │\n",
       "│ 8     │ -1     │ -1     │ -1     │ -1     │ -1     │ -1     │ -1     │\n",
       "│ 9     │ -1     │ -1     │ -1     │ -1     │ -1     │ -1     │ -1     │\n",
       "│ 10    │ -1     │ -1     │ -1     │ -1     │ -1     │ -1     │ -1     │\n",
       "⋮\n",
       "│ 18021 │ -1     │ -1     │ -1     │ -1     │ -1     │ -1     │ -1     │\n",
       "│ 18022 │ -1     │ -1     │ -1     │ -1     │ -1     │ -1     │ -1     │\n",
       "│ 18023 │ -1     │ -1     │ -1     │ -1     │ -1     │ -1     │ -1     │\n",
       "│ 18024 │ -1     │ -1     │ -1     │ -1     │ -1     │ -1     │ -1     │\n",
       "│ 18025 │ -1     │ -1     │ -1     │ -1     │ -1     │ -1     │ -1     │\n",
       "│ 18026 │ -1     │ -1     │ -1     │ -1     │ -1     │ -1     │ -1     │\n",
       "│ 18027 │ -1     │ -1     │ -1     │ -1     │ -1     │ -1     │ -1     │\n",
       "│ 18028 │ -1     │ -1     │ -1     │ -1     │ -1     │ -1     │ -1     │\n",
       "│ 18029 │ -1     │ -1     │ -1     │ -1     │ -1     │ -1     │ -1     │\n",
       "│ 18030 │ -1     │ -1     │ -1     │ -1     │ -1     │ -1     │ -1     │\n",
       "│ 18031 │ -1     │ -1     │ -1     │ -1     │ -1     │ -1     │ -1     │, Loss[LogisticLoss(1.0, BoolDomain()), LogisticLoss(1.0, BoolDomain()), LogisticLoss(1.0, BoolDomain()), LogisticLoss(1.0, BoolDomain()), LogisticLoss(1.0, BoolDomain()), LogisticLoss(1.0, BoolDomain()), LogisticLoss(1.0, BoolDomain()), LogisticLoss(1.0, BoolDomain()), LogisticLoss(1.0, BoolDomain()), LogisticLoss(1.0, BoolDomain())  …  LogisticLoss(1.0, BoolDomain()), LogisticLoss(1.0, BoolDomain()), LogisticLoss(1.0, BoolDomain()), LogisticLoss(1.0, BoolDomain()), LogisticLoss(1.0, BoolDomain()), LogisticLoss(1.0, BoolDomain()), LogisticLoss(1.0, BoolDomain()), QuadLoss(0.5931858778716796, RealDomain()), QuadLoss(0.00558307770359294, RealDomain()), MultinomialOrdinalLoss(10, 1.0, OrdinalDomain(1, 10))], Regularizer[lastentry1(QuadReg(0.01)), lastentry1(QuadReg(0.01)), lastentry1(QuadReg(0.01)), lastentry1(QuadReg(0.01)), lastentry1(QuadReg(0.01)), lastentry1(QuadReg(0.01)), lastentry1(QuadReg(0.01)), lastentry1(QuadReg(0.01)), lastentry1(QuadReg(0.01)), lastentry1(QuadReg(0.01))  …  lastentry1(QuadReg(0.01)), lastentry1(QuadReg(0.01)), lastentry1(QuadReg(0.01)), lastentry1(QuadReg(0.01)), lastentry1(QuadReg(0.01)), lastentry1(QuadReg(0.01)), lastentry1(QuadReg(0.01)), lastentry1(QuadReg(0.01)), lastentry1(QuadReg(0.01)), lastentry1(QuadReg(0.01))], Regularizer[lastentry_unpenalized(QuadReg(0.01)), lastentry_unpenalized(QuadReg(0.01)), lastentry_unpenalized(QuadReg(0.01)), lastentry_unpenalized(QuadReg(0.01)), lastentry_unpenalized(QuadReg(0.01)), lastentry_unpenalized(QuadReg(0.01)), lastentry_unpenalized(QuadReg(0.01)), lastentry_unpenalized(QuadReg(0.01)), lastentry_unpenalized(QuadReg(0.01)), lastentry_unpenalized(QuadReg(0.01))  …  lastentry_unpenalized(QuadReg(0.01)), lastentry_unpenalized(QuadReg(0.01)), lastentry_unpenalized(QuadReg(0.01)), lastentry_unpenalized(QuadReg(0.01)), lastentry_unpenalized(QuadReg(0.01)), lastentry_unpenalized(QuadReg(0.01)), lastentry_unpenalized(QuadReg(0.01)), lastentry_unpenalized(QuadReg(0.01)), lastentry_unpenalized(QuadReg(0.01)), OrdinalReg(QuadReg(0.01))], 4, [[1, 2, 3, 4, 5, 6, 7, 8, 9, 10  …  991, 992, 993, 994, 995, 996, 997, 998, 999, 1000], [1, 2, 3, 4, 5, 6, 7, 8, 9, 10  …  991, 992, 993, 994, 995, 996, 997, 998, 999, 1000], [1, 2, 3, 4, 5, 6, 7, 8, 9, 10  …  991, 992, 993, 994, 995, 996, 997, 998, 999, 1000], [1, 2, 3, 4, 5, 6, 7, 8, 9, 10  …  991, 992, 993, 994, 995, 996, 997, 998, 999, 1000], [1, 2, 3, 4, 5, 6, 7, 8, 9, 10  …  991, 992, 993, 994, 995, 996, 997, 998, 999, 1000], [1, 2, 3, 4, 5, 6, 7, 8, 9, 10  …  991, 992, 993, 994, 995, 996, 997, 998, 999, 1000], [1, 2, 3, 4, 5, 6, 7, 8, 9, 10  …  991, 992, 993, 994, 995, 996, 997, 998, 999, 1000], [1, 2, 3, 4, 5, 6, 7, 8, 9, 10  …  991, 992, 993, 994, 995, 996, 997, 998, 999, 1000], [1, 2, 3, 4, 5, 6, 7, 8, 9, 10  …  991, 992, 993, 994, 995, 996, 997, 998, 999, 1000], [1, 2, 3, 4, 5, 6, 7, 8, 9, 10  …  991, 992, 993, 994, 995, 996, 997, 998, 999, 1000]  …  [1, 2, 3, 4, 5, 6, 7, 8, 9, 10  …  991, 992, 993, 994, 995, 996, 997, 998, 999, 1000], [1, 2, 3, 4, 5, 6, 7, 8, 9, 10  …  991, 992, 993, 994, 995, 996, 997, 998, 999, 1000], [1, 2, 3, 4, 5, 6, 7, 8, 9, 10  …  991, 992, 993, 994, 995, 996, 997, 998, 999, 1000], [1, 2, 3, 4, 5, 6, 7, 8, 9, 10  …  991, 992, 993, 994, 995, 996, 997, 998, 999, 1000], [1, 2, 3, 4, 5, 6, 7, 8, 9, 10  …  991, 992, 993, 994, 995, 996, 997, 998, 999, 1000], [1, 2, 3, 4, 5, 6, 7, 8, 9, 10  …  991, 992, 993, 994, 995, 996, 997, 998, 999, 1000], [1, 2, 3, 4, 5, 6, 7, 8, 9, 10  …  991, 992, 993, 994, 995, 996, 997, 998, 999, 1000], [1, 2, 3, 4, 5, 6, 7, 8, 9, 10  …  991, 992, 993, 994, 995, 996, 997, 998, 999, 1000], [1, 2, 3, 4, 5, 6, 7, 8, 9, 10  …  991, 992, 993, 994, 995, 996, 997, 998, 999, 1000], [1, 2, 3, 4, 5, 6, 7, 8, 9, 10  …  991, 992, 993, 994, 995, 996, 997, 998, 999, 1000]], [[1, 2, 3, 4, 5, 6, 7, 8, 9, 10  …  18022, 18023, 18024, 18025, 18026, 18027, 18028, 18029, 18030, 18031], [1, 2, 3, 4, 5, 6, 7, 8, 9, 10  …  18022, 18023, 18024, 18025, 18026, 18027, 18028, 18029, 18030, 18031], [1, 2, 3, 4, 5, 6, 7, 8, 9, 10  …  18022, 18023, 18024, 18025, 18026, 18027, 18028, 18029, 18030, 18031], [1, 2, 3, 4, 5, 6, 7, 8, 9, 10  …  18022, 18023, 18024, 18025, 18026, 18027, 18028, 18029, 18030, 18031], [1, 2, 3, 4, 5, 6, 7, 8, 9, 10  …  18022, 18023, 18024, 18025, 18026, 18027, 18028, 18029, 18030, 18031], [1, 2, 3, 4, 5, 6, 7, 8, 9, 10  …  18022, 18023, 18024, 18025, 18026, 18027, 18028, 18029, 18030, 18031], [1, 2, 3, 4, 5, 6, 7, 8, 9, 10  …  18022, 18023, 18024, 18025, 18026, 18027, 18028, 18029, 18030, 18031], [1, 2, 3, 4, 5, 6, 7, 8, 9, 10  …  18022, 18023, 18024, 18025, 18026, 18027, 18028, 18029, 18030, 18031], [1, 2, 3, 4, 5, 6, 7, 8, 9, 10  …  18022, 18023, 18024, 18025, 18026, 18027, 18028, 18029, 18030, 18031], [1, 2, 3, 4, 5, 6, 7, 8, 9, 10  …  18022, 18023, 18024, 18025, 18026, 18027, 18028, 18029, 18030, 18031]  …  [1, 2, 3, 4, 5, 6, 7, 8, 9, 10  …  18022, 18023, 18024, 18025, 18026, 18027, 18028, 18029, 18030, 18031], [1, 2, 3, 4, 5, 6, 7, 8, 9, 10  …  18022, 18023, 18024, 18025, 18026, 18027, 18028, 18029, 18030, 18031], [1, 2, 3, 4, 5, 6, 7, 8, 9, 10  …  18022, 18023, 18024, 18025, 18026, 18027, 18028, 18029, 18030, 18031], [1, 2, 3, 4, 5, 6, 7, 8, 9, 10  …  18022, 18023, 18024, 18025, 18026, 18027, 18028, 18029, 18030, 18031], [1, 2, 3, 4, 5, 6, 7, 8, 9, 10  …  18022, 18023, 18024, 18025, 18026, 18027, 18028, 18029, 18030, 18031], [1, 2, 3, 4, 5, 6, 7, 8, 9, 10  …  18022, 18023, 18024, 18025, 18026, 18027, 18028, 18029, 18030, 18031], [1, 2, 3, 4, 5, 6, 7, 8, 9, 10  …  18022, 18023, 18024, 18025, 18026, 18027, 18028, 18029, 18030, 18031], [1, 2, 3, 4, 5, 6, 7, 8, 9, 10  …  18022, 18023, 18024, 18025, 18026, 18027, 18028, 18029, 18030, 18031], [1, 2, 3, 4, 5, 6, 7, 8, 9, 10  …  18022, 18023, 18024, 18025, 18026, 18027, 18028, 18029, 18030, 18031], [1, 2, 3, 4, 5, 6, 7, 8, 9, 10  …  18022, 18023, 18024, 18025, 18026, 18027, 18028, 18029, 18030, 18031]], [0.42095407234241217 -1.0687881441579827 … -0.5203803220863076 1.255025795266216; 0.40743990357129495 -0.08390405959978449 … 1.1326326888988036 0.9985831199337011; -0.6627295297414566 -0.09762920266344946 … 0.182424606918894 0.9088847330617729; -0.05920750251267403 -0.4555078200396682 … -0.6535419661314356 0.13485939607549205], [0.37944898397159493 0.30787808652993703 … -0.5740063631363912 -0.8204580601201107; -0.20273253925644305 -0.4274777084892324 … -0.25964221985394265 -0.7346402878081543; 1.5895985263041925 0.4286489476291425 … 0.8353520003465541 0.6421140400408786; 1.5002010456132844 1.0178468472230842 … -0.25340883390814706 -0.382208121304444])"
      ]
     },
     "execution_count": 17,
     "metadata": {},
     "output_type": "execute_result"
    }
   ],
   "source": [
    "glrm = GLRM(hyper3, 4, datatypes)\n"
   ]
  },
  {
   "cell_type": "code",
   "execution_count": 22,
   "metadata": {},
   "outputs": [
    {
     "ename": "ArgumentError",
     "evalue": "ArgumentError: indexed assignment with a single value to many locations is not supported; perhaps use broadcasting `.=` instead?",
     "output_type": "error",
     "traceback": [
      "ArgumentError: indexed assignment with a single value to many locations is not supported; perhaps use broadcasting `.=` instead?",
      "",
      "Stacktrace:",
      " [1] setindex_shape_check(::DataFrameRow{DataFrame,DataFrames.SubIndex{DataFrames.Index,Array{Int64,1},Array{Int64,1}}}, ::Int64, ::Int64) at ./indices.jl:258",
      " [2] macro expansion at ./multidimensional.jl:779 [inlined]",
      " [3] _unsafe_setindex!(::IndexLinear, ::Array{Float64,2}, ::DataFrameRow{DataFrame,DataFrames.SubIndex{DataFrames.Index,Array{Int64,1},Array{Int64,1}}}, ::Int64, ::Array{Int64,1}) at ./multidimensional.jl:774",
      " [4] _setindex! at ./multidimensional.jl:769 [inlined]",
      " [5] setindex!(::Array{Float64,2}, ::DataFrameRow{DataFrame,DataFrames.SubIndex{DataFrames.Index,Array{Int64,1},Array{Int64,1}}}, ::Int64, ::Array{Int64,1}) at ./abstractarray.jl:1073",
      " [6] init_kmeanspp!(::GLRM) at /Users/kathy908000/.julia/packages/LowRankModels/u9DCY/src/initialize.jl:16",
      " [7] top-level scope at In[22]:1"
     ]
    }
   ],
   "source": [
    "init_kmeanspp!(glrm)"
   ]
  },
  {
   "cell_type": "code",
   "execution_count": null,
   "metadata": {},
   "outputs": [],
   "source": [
    "X,Y = fit!(glrm)"
   ]
  },
  {
   "cell_type": "code",
   "execution_count": null,
   "metadata": {},
   "outputs": [],
   "source": []
  },
  {
   "cell_type": "code",
   "execution_count": 72,
   "metadata": {},
   "outputs": [
    {
     "name": "stdout",
     "output_type": "stream",
     "text": [
      "Fitting GLRM\n",
      "Iteration 10: objective value = 1.4423328751680832e6\n",
      "Iteration 20: objective value = 1.090672820476106e6\n",
      "Iteration 30: objective value = 1.0224715145880778e6\n",
      "Iteration 40: objective value = 992715.2887772032\n",
      "Iteration 50: objective value = 970741.0634551218\n",
      "Iteration 60: objective value = 955025.5131044376\n",
      "Iteration 70: objective value = 942574.4394025189\n",
      "Iteration 80: objective value = 924490.9047382579\n",
      "Iteration 90: objective value = 901964.5313988443\n",
      "Iteration 100: objective value = 887323.6163199737\n"
     ]
    },
    {
     "data": {
      "text/plain": [
       "([2.2984877031249997 2.732110354938506 … 2.145314276270429 3.11351432025778; 1.0712070459884329 1.4799865786519106 … 1.0117180771566923 0.18377600795781956; 1.0 1.0 … 1.0 1.0], [-2.8291917992544717 -2.9011332272534744 … 0.7077449040385319 0.7077449040385319; -0.5342427093305877 -0.6942132977699582 … 0.35907028608101055 0.35907028608101055; -3.174680698105203 -3.104647938958043 … -6.985253846036765 -8.409338264339196], ConvergenceHistory(\"ProxGradGLRM\", [Inf, 1.2102652331053529e7, 7.607770103932156e6, 5.106238487843879e6, 3.6848536389623643e6, 2.8360183967868113e6, 2.299271968511863e6, 1.951019566905971e6, 1.7161566188644392e6, 1.5559582794308327e6  …  900137.9267870655, 898495.9069981336, 896823.3847742953, 895398.675686225, 893829.9014297891, 892517.1296034803, 890912.5479079694, 889868.5215635498, 888092.1132100114, 887323.6163199737], Float64[], [0.0, 0.0, 0.0, 0.0, 0.0, 0.0, 0.0, 0.0, 0.0, 0.0  …  0.0, 0.0, 0.0, 0.0, 0.0, 0.0, 0.0, 0.0, 0.0, 0.0], [0.0, 0.0, 0.0, 0.0, 0.0, 0.0, 0.0, 0.0, 0.0, 0.0  …  0.0, 0.0, 0.0, 0.0, 0.0, 0.0, 0.0, 0.0, 0.0, 0.0], [0.0, 40.941110134124756, 76.16077923774719, 110.65587735176086, 144.3474884033203, 176.71245551109314, 213.0693073272705, 251.56407141685486, 287.59992837905884, 320.16590428352356  …  2996.591829776764, 3028.167406797409, 3059.3550159931183, 3092.5982279777527, 3123.85432100296, 3155.788885831833, 3187.023870944977, 3219.6016747951508, 3251.2351937294006, 3284.709958791733], [0.0, 0.0, 0.0, 0.0, 0.0, 0.0, 0.0, 0.0, 0.0, 0.0  …  0.0, 0.0, 0.0, 0.0, 0.0, 0.0, 0.0, 0.0, 0.0, 0.0], 0))"
      ]
     },
     "execution_count": 72,
     "metadata": {},
     "output_type": "execute_result"
    }
   ],
   "source": [
    "glrm = GLRM(hyper3, 3, datatypes)\n",
    "X,Y = fit!(glrm)"
   ]
  },
  {
   "cell_type": "code",
   "execution_count": 73,
   "metadata": {},
   "outputs": [
    {
     "data": {
      "text/plain": [
       "3×18031 Array{Float64,2}:\n",
       " 2.29849  2.73211   3.01428   …  2.92537  3.74584  2.14531  3.11351\n",
       " 1.07121  1.47999  -0.374593     1.12592  2.58763  1.01172  0.183776\n",
       " 1.0      1.0       1.0          1.0      1.0      1.0      1.0"
      ]
     },
     "execution_count": 73,
     "metadata": {},
     "output_type": "execute_result"
    }
   ],
   "source": [
    "X"
   ]
  },
  {
   "cell_type": "code",
   "execution_count": 74,
   "metadata": {},
   "outputs": [
    {
     "data": {
      "text/plain": [
       "\"../data/Xhyper1000_3.csv\""
      ]
     },
     "execution_count": 74,
     "metadata": {},
     "output_type": "execute_result"
    }
   ],
   "source": [
    "X= convert(DataFrame, X) \n",
    "CSV.write(\"../data/Xhyper1000_3.csv\", X)  "
   ]
  },
  {
   "cell_type": "code",
   "execution_count": null,
   "metadata": {},
   "outputs": [],
   "source": []
  },
  {
   "cell_type": "code",
   "execution_count": null,
   "metadata": {},
   "outputs": [],
   "source": []
  },
  {
   "cell_type": "code",
   "execution_count": 52,
   "metadata": {},
   "outputs": [
    {
     "data": {
      "text/plain": [
       "1078-element Array{Symbol,1}:\n",
       " :bool\n",
       " :bool\n",
       " :bool\n",
       " :bool\n",
       " :bool\n",
       " :bool\n",
       " :bool\n",
       " :bool\n",
       " :bool\n",
       " :bool\n",
       " :bool\n",
       " :bool\n",
       " :bool\n",
       " ⋮\n",
       " :bool\n",
       " :bool\n",
       " :bool\n",
       " :bool\n",
       " :bool\n",
       " :bool\n",
       " :bool\n",
       " :bool\n",
       " :bool\n",
       " :real\n",
       " :real\n",
       " :ord"
      ]
     },
     "execution_count": 52,
     "metadata": {},
     "output_type": "execute_result"
    }
   ],
   "source": [
    "type1 = fill(:bool,1075)\n",
    "type2 = fill(:real, 2)\n",
    "type3 = fill(:ord, 1)\n",
    "\n",
    "datatypes = [type1; type2; type3]\n",
    "datatypes "
   ]
  },
  {
   "cell_type": "code",
   "execution_count": 53,
   "metadata": {},
   "outputs": [
    {
     "ename": "MethodError",
     "evalue": "MethodError: no method matching GLRM(::DataFrame, ::UnitOneSparseConstraint, ::ZeroReg, ::Int64, ::Array{Symbol,1})\nClosest candidates are:\n  GLRM(::Any, ::Any, ::Any, ::Any, ::Any, !Matched::Any, !Matched::Any, !Matched::Any, !Matched::Any) at /Users/kathy908000/.julia/packages/LowRankModels/u9DCY/src/glrm.jl:13\n  GLRM(!Matched::AbstractArray, !Matched::Array{Tuple{Int64,Int64},1}, ::Any...; kwargs...) at deprecated.jl:65\n  GLRM(::Any, !Matched::Loss, ::Regularizer, !Matched::Array, !Matched::Int64; kwargs...) at /Users/kathy908000/.julia/packages/LowRankModels/u9DCY/src/utilities/conveniencemethods.jl:34\n  ...",
     "output_type": "error",
     "traceback": [
      "MethodError: no method matching GLRM(::DataFrame, ::UnitOneSparseConstraint, ::ZeroReg, ::Int64, ::Array{Symbol,1})\nClosest candidates are:\n  GLRM(::Any, ::Any, ::Any, ::Any, ::Any, !Matched::Any, !Matched::Any, !Matched::Any, !Matched::Any) at /Users/kathy908000/.julia/packages/LowRankModels/u9DCY/src/glrm.jl:13\n  GLRM(!Matched::AbstractArray, !Matched::Array{Tuple{Int64,Int64},1}, ::Any...; kwargs...) at deprecated.jl:65\n  GLRM(::Any, !Matched::Loss, ::Regularizer, !Matched::Array, !Matched::Int64; kwargs...) at /Users/kathy908000/.julia/packages/LowRankModels/u9DCY/src/utilities/conveniencemethods.jl:34\n  ...",
      "",
      "Stacktrace:",
      " [1] top-level scope at In[53]:5"
     ]
    }
   ],
   "source": [
    "k = 5\n",
    "A = hyper\n",
    "rx = UnitOneSparseConstraint()\n",
    "ry = ZeroReg()\n",
    "\n",
    "\n",
    "glrm = GLRM(A,rx,ry,k, datatypes)"
   ]
  },
  {
   "cell_type": "code",
   "execution_count": 47,
   "metadata": {},
   "outputs": [
    {
     "name": "stdout",
     "output_type": "stream",
     "text": [
      "Fitting GLRM\n"
     ]
    },
    {
     "ename": "InterruptException",
     "evalue": "InterruptException:",
     "output_type": "error",
     "traceback": [
      "InterruptException:",
      "",
      "Stacktrace:",
      " [1] row_objective(::GLRM, ::Int64, ::SubArray{Float64,1,Array{Float64,2},Tuple{Base.Slice{Base.OneTo{Int64}},Int64},true}, ::Array{Float64,2}; yidxs::Array{Union{UnitRange{Int64}, Int64},1}, include_regularization::Bool) at /Users/kathy908000/.julia/packages/LowRankModels/u9DCY/src/evaluate_fit.jl:31",
      " [2] row_objective at /Users/kathy908000/.julia/packages/LowRankModels/u9DCY/src/evaluate_fit.jl:27 [inlined] (repeats 2 times)",
      " [3] fit!(::GLRM, ::ProxGradParams; ch::ConvergenceHistory, verbose::Bool, kwargs::Base.Iterators.Pairs{Union{},Union{},Tuple{},NamedTuple{(),Tuple{}}}) at /Users/kathy908000/.julia/packages/LowRankModels/u9DCY/src/algorithms/proxgrad.jl:143",
      " [4] fit! at /Users/kathy908000/.julia/packages/LowRankModels/u9DCY/src/algorithms/proxgrad.jl:39 [inlined]",
      " [5] #fit!#63 at /Users/kathy908000/.julia/packages/LowRankModels/u9DCY/src/fit.jl:18 [inlined]",
      " [6] fit!(::GLRM) at /Users/kathy908000/.julia/packages/LowRankModels/u9DCY/src/fit.jl:9",
      " [7] top-level scope at In[47]:1"
     ]
    }
   ],
   "source": [
    "X,Y,ch = fit!(glrm)"
   ]
  },
  {
   "cell_type": "markdown",
   "metadata": {},
   "source": [
    "# GLRM K-means with missing value demo"
   ]
  },
  {
   "cell_type": "markdown",
   "metadata": {},
   "source": [
    "# Example: dense matrix, incomplete observations"
   ]
  },
  {
   "cell_type": "code",
   "execution_count": 42,
   "metadata": {},
   "outputs": [
    {
     "data": {
      "text/plain": [
       "1078-element Array{Symbol,1}:\n",
       " :bool\n",
       " :bool\n",
       " :bool\n",
       " :bool\n",
       " :bool\n",
       " :bool\n",
       " :bool\n",
       " :bool\n",
       " :bool\n",
       " :bool\n",
       " :bool\n",
       " :bool\n",
       " :bool\n",
       " ⋮\n",
       " :bool\n",
       " :bool\n",
       " :bool\n",
       " :bool\n",
       " :bool\n",
       " :bool\n",
       " :bool\n",
       " :bool\n",
       " :bool\n",
       " :real\n",
       " :real\n",
       " :ord"
      ]
     },
     "execution_count": 42,
     "metadata": {},
     "output_type": "execute_result"
    }
   ],
   "source": [
    "#loss function array\n",
    "type1 = fill(:bool,1075)\n",
    "type2 = fill(:real, 2)\n",
    "type3 = fill(:ord, 1)\n",
    "\n",
    "datatypes = [type1; type2; type3]\n",
    "datatypes "
   ]
  },
  {
   "cell_type": "code",
   "execution_count": 43,
   "metadata": {
    "scrolled": true
   },
   "outputs": [
    {
     "name": "stdout",
     "output_type": "stream",
     "text": [
      "Fitting GLRM\n",
      "Iteration 10: objective value = 1.748316442586786e6\n",
      "Iteration 20: objective value = 1.1704163716553897e6\n",
      "Iteration 30: objective value = 1.073083248349734e6\n",
      "Iteration 40: objective value = 1.0359055994547114e6\n",
      "Iteration 50: objective value = 1.0087176189331699e6\n",
      "Iteration 60: objective value = 988927.0112901898\n",
      "Iteration 70: objective value = 971861.1055569039\n",
      "Iteration 80: objective value = 958028.9976945964\n",
      "Iteration 90: objective value = 951520.8752463565\n",
      "Iteration 100: objective value = 948146.5601757909\n"
     ]
    },
    {
     "data": {
      "text/plain": [
       "([-2.4815536641766975 -2.7292299449035826 … -2.0427492453280878 -2.6175764747426697; -2.6507342724705616 -0.9720400323455315 … -1.0322396047962574 -0.0885004392256654; 1.0 1.0 … 1.0 1.0], [2.385895616311236 2.6629923931992003 … -0.622305911054302 -0.622305911054302; 0.05721180901943806 0.2857088543417427 … 0.07536790756669882 0.07536790756669882; -4.2986935152479795 -3.9754056383816656 … -3.8721876302828906 -4.954596534102345], ConvergenceHistory(\"ProxGradGLRM\", [Inf, 1.440183300656452e7, 9.024589846724097e6, 6.129514742130843e6, 4.520070156007493e6, 3.5510771201766115e6, 2.904793618489226e6, 2.4662739025093773e6, 2.152408034863755e6, 1.92156349641896e6  …  951085.8643942885, 950688.2751756485, 950308.0346059985, 949958.4504653285, 949616.9226843466, 949298.8192015626, 948991.3612304298, 948695.9275780651, 948407.7097680378, 948146.5601757909], Float64[], [0.0, 0.0, 0.0, 0.0, 0.0, 0.0, 0.0, 0.0, 0.0, 0.0  …  0.0, 0.0, 0.0, 0.0, 0.0, 0.0, 0.0, 0.0, 0.0, 0.0], [0.0, 0.0, 0.0, 0.0, 0.0, 0.0, 0.0, 0.0, 0.0, 0.0  …  0.0, 0.0, 0.0, 0.0, 0.0, 0.0, 0.0, 0.0, 0.0, 0.0], [0.0, 38.32273197174072, 73.53547215461731, 125.83114910125732, 175.6122591495514, 217.74063515663147, 264.5425763130188, 309.16378712654114, 346.12245321273804, 400.3077802658081  …  3129.8874459266663, 3163.346153974533, 3195.503783941269, 3227.0554399490356, 3259.1246309280396, 3307.56556892395, 5479.869350910187, 7581.989984035492, 7705.437226057053, 7743.28893995285], [0.0, 0.0, 0.0, 0.0, 0.0, 0.0, 0.0, 0.0, 0.0, 0.0  …  0.0, 0.0, 0.0, 0.0, 0.0, 0.0, 0.0, 0.0, 0.0, 0.0], 0))"
      ]
     },
     "execution_count": 43,
     "metadata": {},
     "output_type": "execute_result"
    }
   ],
   "source": [
    "glrm = GLRM(hyper, 3, datatypes)\n",
    "X,Y = fit!(glrm)"
   ]
  },
  {
   "cell_type": "code",
   "execution_count": 50,
   "metadata": {
    "scrolled": true
   },
   "outputs": [
    {
     "data": {
      "text/plain": [
       "1078-element Array{Loss,1}:\n",
       " LogisticLoss(1.0, BoolDomain())\n",
       " LogisticLoss(1.0, BoolDomain())\n",
       " LogisticLoss(1.0, BoolDomain())\n",
       " LogisticLoss(1.0, BoolDomain())\n",
       " LogisticLoss(1.0, BoolDomain())\n",
       " LogisticLoss(1.0, BoolDomain())\n",
       " LogisticLoss(1.0, BoolDomain())\n",
       " LogisticLoss(1.0, BoolDomain())\n",
       " LogisticLoss(1.0, BoolDomain())\n",
       " LogisticLoss(1.0, BoolDomain())\n",
       " LogisticLoss(1.0, BoolDomain())\n",
       " LogisticLoss(1.0, BoolDomain())\n",
       " LogisticLoss(1.0, BoolDomain())\n",
       " ⋮\n",
       " LogisticLoss(1.0, BoolDomain())\n",
       " LogisticLoss(1.0, BoolDomain())\n",
       " LogisticLoss(1.0, BoolDomain())\n",
       " LogisticLoss(1.0, BoolDomain())\n",
       " LogisticLoss(1.0, BoolDomain())\n",
       " LogisticLoss(1.0, BoolDomain())\n",
       " LogisticLoss(1.0, BoolDomain())\n",
       " LogisticLoss(1.0, BoolDomain())\n",
       " LogisticLoss(1.0, BoolDomain())\n",
       " QuadLoss(0.5931858778716796, RealDomain())\n",
       " QuadLoss(0.00558307770359294, RealDomain())\n",
       " MultinomialOrdinalLoss(10, 1.0, OrdinalDomain(1, 10))"
      ]
     },
     "execution_count": 50,
     "metadata": {},
     "output_type": "execute_result"
    }
   ],
   "source": [
    "\n",
    "glrm.losses"
   ]
  },
  {
   "cell_type": "code",
   "execution_count": 57,
   "metadata": {
    "scrolled": false
   },
   "outputs": [
    {
     "data": {
      "text/plain": [
       "3×18031 Array{Float64,2}:\n",
       " -2.48959  -2.72931   -1.81573   -2.29821  …  -4.34365  -2.04275  -2.61758\n",
       " -2.64412  -0.972098  -0.416553   2.43827     -1.79098  -1.03224  -0.0885004\n",
       "  1.0       1.0        1.0        1.0          1.0       1.0       1.0"
      ]
     },
     "execution_count": 57,
     "metadata": {},
     "output_type": "execute_result"
    }
   ],
   "source": [
    "X"
   ]
  },
  {
   "cell_type": "code",
   "execution_count": 63,
   "metadata": {
    "scrolled": true
   },
   "outputs": [
    {
     "data": {
      "text/html": [
       "<table class=\"data-frame\"><thead><tr><th></th><th>x1</th><th>x2</th><th>x3</th><th>x4</th><th>x5</th><th>x6</th><th>x7</th><th>x8</th></tr><tr><th></th><th>Float64</th><th>Float64</th><th>Float64</th><th>Float64</th><th>Float64</th><th>Float64</th><th>Float64</th><th>Float64</th></tr></thead><tbody><p>3 rows × 18,031 columns (omitted printing of 18023 columns)</p><tr><th>1</th><td>-2.48959</td><td>-2.72931</td><td>-1.81573</td><td>-2.29821</td><td>-2.35013</td><td>-5.56071</td><td>-2.33839</td><td>-3.68041</td></tr><tr><th>2</th><td>-2.64412</td><td>-0.972098</td><td>-0.416553</td><td>2.43827</td><td>-0.396004</td><td>-3.39747</td><td>3.46544</td><td>-1.24371</td></tr><tr><th>3</th><td>1.0</td><td>1.0</td><td>1.0</td><td>1.0</td><td>1.0</td><td>1.0</td><td>1.0</td><td>1.0</td></tr></tbody></table>"
      ],
      "text/latex": [
       "\\begin{tabular}{r|ccccccccc}\n",
       "\t& x1 & x2 & x3 & x4 & x5 & x6 & x7 & x8 & \\\\\n",
       "\t\\hline\n",
       "\t& Float64 & Float64 & Float64 & Float64 & Float64 & Float64 & Float64 & Float64 & \\\\\n",
       "\t\\hline\n",
       "\t1 & -2.48959 & -2.72931 & -1.81573 & -2.29821 & -2.35013 & -5.56071 & -2.33839 & -3.68041 & $\\dots$ \\\\\n",
       "\t2 & -2.64412 & -0.972098 & -0.416553 & 2.43827 & -0.396004 & -3.39747 & 3.46544 & -1.24371 & $\\dots$ \\\\\n",
       "\t3 & 1.0 & 1.0 & 1.0 & 1.0 & 1.0 & 1.0 & 1.0 & 1.0 & $\\dots$ \\\\\n",
       "\\end{tabular}\n"
      ],
      "text/plain": [
       "3×18031 DataFrame. Omitted printing of 18025 columns\n",
       "│ Row │ x1       │ x2        │ x3        │ x4       │ x5        │ x6       │\n",
       "│     │ \u001b[90mFloat64\u001b[39m  │ \u001b[90mFloat64\u001b[39m   │ \u001b[90mFloat64\u001b[39m   │ \u001b[90mFloat64\u001b[39m  │ \u001b[90mFloat64\u001b[39m   │ \u001b[90mFloat64\u001b[39m  │\n",
       "├─────┼──────────┼───────────┼───────────┼──────────┼───────────┼──────────┤\n",
       "│ 1   │ -2.48959 │ -2.72931  │ -1.81573  │ -2.29821 │ -2.35013  │ -5.56071 │\n",
       "│ 2   │ -2.64412 │ -0.972098 │ -0.416553 │ 2.43827  │ -0.396004 │ -3.39747 │\n",
       "│ 3   │ 1.0      │ 1.0       │ 1.0       │ 1.0      │ 1.0       │ 1.0      │"
      ]
     },
     "execution_count": 63,
     "metadata": {},
     "output_type": "execute_result"
    }
   ],
   "source": [
    "X"
   ]
  },
  {
   "cell_type": "code",
   "execution_count": 65,
   "metadata": {},
   "outputs": [
    {
     "data": {
      "text/html": [
       "<table class=\"data-frame\"><thead><tr><th></th><th>x1</th><th>x2</th><th>x3</th><th>x4</th><th>x5</th><th>x6</th><th>x7</th><th>x8</th></tr><tr><th></th><th>Float64</th><th>Float64</th><th>Float64</th><th>Float64</th><th>Float64</th><th>Float64</th><th>Float64</th><th>Float64</th></tr></thead><tbody><p>3 rows × 18,031 columns (omitted printing of 18023 columns)</p><tr><th>1</th><td>-2.48959</td><td>-2.72931</td><td>-1.81573</td><td>-2.29821</td><td>-2.35013</td><td>-5.56071</td><td>-2.33839</td><td>-3.68041</td></tr><tr><th>2</th><td>-2.64412</td><td>-0.972098</td><td>-0.416553</td><td>2.43827</td><td>-0.396004</td><td>-3.39747</td><td>3.46544</td><td>-1.24371</td></tr><tr><th>3</th><td>1.0</td><td>1.0</td><td>1.0</td><td>1.0</td><td>1.0</td><td>1.0</td><td>1.0</td><td>1.0</td></tr></tbody></table>"
      ],
      "text/latex": [
       "\\begin{tabular}{r|ccccccccc}\n",
       "\t& x1 & x2 & x3 & x4 & x5 & x6 & x7 & x8 & \\\\\n",
       "\t\\hline\n",
       "\t& Float64 & Float64 & Float64 & Float64 & Float64 & Float64 & Float64 & Float64 & \\\\\n",
       "\t\\hline\n",
       "\t1 & -2.48959 & -2.72931 & -1.81573 & -2.29821 & -2.35013 & -5.56071 & -2.33839 & -3.68041 & $\\dots$ \\\\\n",
       "\t2 & -2.64412 & -0.972098 & -0.416553 & 2.43827 & -0.396004 & -3.39747 & 3.46544 & -1.24371 & $\\dots$ \\\\\n",
       "\t3 & 1.0 & 1.0 & 1.0 & 1.0 & 1.0 & 1.0 & 1.0 & 1.0 & $\\dots$ \\\\\n",
       "\\end{tabular}\n"
      ],
      "text/plain": [
       "3×18031 DataFrame. Omitted printing of 18025 columns\n",
       "│ Row │ x1       │ x2        │ x3        │ x4       │ x5        │ x6       │\n",
       "│     │ \u001b[90mFloat64\u001b[39m  │ \u001b[90mFloat64\u001b[39m   │ \u001b[90mFloat64\u001b[39m   │ \u001b[90mFloat64\u001b[39m  │ \u001b[90mFloat64\u001b[39m   │ \u001b[90mFloat64\u001b[39m  │\n",
       "├─────┼──────────┼───────────┼───────────┼──────────┼───────────┼──────────┤\n",
       "│ 1   │ -2.48959 │ -2.72931  │ -1.81573  │ -2.29821 │ -2.35013  │ -5.56071 │\n",
       "│ 2   │ -2.64412 │ -0.972098 │ -0.416553 │ 2.43827  │ -0.396004 │ -3.39747 │\n",
       "│ 3   │ 1.0      │ 1.0       │ 1.0       │ 1.0      │ 1.0       │ 1.0      │"
      ]
     },
     "execution_count": 65,
     "metadata": {},
     "output_type": "execute_result"
    }
   ],
   "source": [
    "X= convert(DataFrame, X)"
   ]
  },
  {
   "cell_type": "code",
   "execution_count": 66,
   "metadata": {},
   "outputs": [
    {
     "data": {
      "text/plain": [
       "\"../data/Xhyper1077_3.csv\""
      ]
     },
     "execution_count": 66,
     "metadata": {},
     "output_type": "execute_result"
    }
   ],
   "source": [
    "X= convert(DataFrame, X) \n",
    "CSV.write(\"../data/Xhyper1077_3.csv\", X)  "
   ]
  },
  {
   "cell_type": "code",
   "execution_count": 51,
   "metadata": {},
   "outputs": [
    {
     "ename": "ArgumentError",
     "evalue": "ArgumentError: indexed assignment with a single value to many locations is not supported; perhaps use broadcasting `.=` instead?",
     "output_type": "error",
     "traceback": [
      "ArgumentError: indexed assignment with a single value to many locations is not supported; perhaps use broadcasting `.=` instead?",
      "",
      "Stacktrace:",
      " [1] setindex_shape_check(::DataFrameRow{DataFrame,DataFrames.SubIndex{DataFrames.Index,Array{Int64,1},Array{Int64,1}}}, ::Int64, ::Int64) at ./indices.jl:258",
      " [2] macro expansion at ./multidimensional.jl:779 [inlined]",
      " [3] _unsafe_setindex!(::IndexLinear, ::Array{Float64,2}, ::DataFrameRow{DataFrame,DataFrames.SubIndex{DataFrames.Index,Array{Int64,1},Array{Int64,1}}}, ::Int64, ::Array{Int64,1}) at ./multidimensional.jl:774",
      " [4] _setindex! at ./multidimensional.jl:769 [inlined]",
      " [5] setindex!(::Array{Float64,2}, ::DataFrameRow{DataFrame,DataFrames.SubIndex{DataFrames.Index,Array{Int64,1},Array{Int64,1}}}, ::Int64, ::Array{Int64,1}) at ./abstractarray.jl:1073",
      " [6] init_kmeanspp!(::GLRM) at /Users/kathy908000/.julia/packages/LowRankModels/u9DCY/src/initialize.jl:16",
      " [7] top-level scope at In[51]:1"
     ]
    }
   ],
   "source": [
    "init_kmeanspp!(glrm)"
   ]
  },
  {
   "cell_type": "code",
   "execution_count": null,
   "metadata": {},
   "outputs": [],
   "source": []
  },
  {
   "cell_type": "code",
   "execution_count": null,
   "metadata": {},
   "outputs": [],
   "source": []
  },
  {
   "cell_type": "code",
   "execution_count": null,
   "metadata": {},
   "outputs": [],
   "source": []
  },
  {
   "cell_type": "code",
   "execution_count": 17,
   "metadata": {},
   "outputs": [
    {
     "data": {
      "text/plain": [
       "20×10 Array{Float64,2}:\n",
       " 0.218096   0.561862  0.30483    …  0.42303    0.420537   0.0755765\n",
       " 0.273109   0.689542  0.428352      0.433354   0.45087    0.139864\n",
       " 0.155775   0.371969  0.315144      0.100796   0.142131   0.148458\n",
       " 0.228931   0.550202  0.451367      0.172473   0.228007   0.206757\n",
       " 0.084913   0.226983  0.0913601     0.221171   0.208109   0.00292832\n",
       " 0.271867   0.719838  0.315401   …  0.66081    0.629121   0.0315768\n",
       " 0.0527966  0.134688  0.0782013     0.0932953  0.0946429  0.0225707\n",
       " 0.382783   0.982035  0.548606      0.714361   0.716004   0.145831\n",
       " 0.232488   0.565952  0.434468      0.224574   0.270389   0.18678\n",
       " 0.376886   0.942294  0.621876      0.53445    0.572235   0.222838\n",
       " 0.377935   0.948181  0.61277    …  0.558336   0.59143    0.212949\n",
       " 0.274985   0.68219   0.471433      0.353369   0.38877    0.179751\n",
       " 0.23371    0.586555  0.378224      0.346725   0.366878   0.131001\n",
       " 0.112192   0.278506  0.191752      0.145391   0.159573   0.0727654\n",
       " 0.457128   1.15812   0.703795      0.752579   0.776067   0.221324\n",
       " 0.261734   0.667714  0.387632   …  0.462592   0.469254   0.111851\n",
       " 0.154057   0.370839  0.3018        0.120081   0.156593   0.13725\n",
       " 0.335948   0.859402  0.489704      0.609961   0.615042   0.135962\n",
       " 0.333409   0.800912  0.658639      0.248536   0.329982   0.302358\n",
       " 0.467054   1.1575    0.804622      0.59211    0.653967   0.309091"
      ]
     },
     "execution_count": 17,
     "metadata": {},
     "output_type": "execute_result"
    }
   ],
   "source": [
    "A = rand(m,2)*rand(2,n)  "
   ]
  },
  {
   "cell_type": "code",
   "execution_count": 14,
   "metadata": {},
   "outputs": [
    {
     "ename": "TypeError",
     "evalue": "TypeError: non-boolean (Missing) used in boolean context",
     "output_type": "error",
     "traceback": [
      "TypeError: non-boolean (Missing) used in boolean context",
      "",
      "Stacktrace:",
      " [1] GLRM(::DataFrame, ::Array{Loss,1}, ::Array{Regularizer,1}, ::Array{Regularizer,1}, ::Int64; X::Array{Float64,2}, Y::Array{Float64,2}, obs::Nothing, observed_features::Array{UnitRange{Int64},1}, observed_examples::Array{UnitRange{Int64},1}, offset::Bool, scale::Bool, checknan::Bool, sparse_na::Bool) at /Users/kathy908000/.julia/packages/LowRankModels/u9DCY/src/glrm.jl:66",
      " [2] GLRM(::DataFrame, ::Array{Loss,1}, ::Array{Regularizer,1}, ::Array{Regularizer,1}, ::Int64) at /Users/kathy908000/.julia/packages/LowRankModels/u9DCY/src/glrm.jl:38",
      " [3] GLRM(::DataFrame, ::QuadLoss, ::NonNegConstraint, ::NonNegConstraint, ::Int64; kwargs::Base.Iterators.Pairs{Union{},Union{},Tuple{},NamedTuple{(),Tuple{}}}) at /Users/kathy908000/.julia/packages/LowRankModels/u9DCY/src/utilities/conveniencemethods.jl:48",
      " [4] GLRM(::DataFrame, ::QuadLoss, ::NonNegConstraint, ::NonNegConstraint, ::Int64) at /Users/kathy908000/.julia/packages/LowRankModels/u9DCY/src/utilities/conveniencemethods.jl:48",
      " [5] top-level scope at In[14]:12"
     ]
    }
   ],
   "source": [
    "Random.seed!(1)\n",
    "\n",
    "# generate data\n",
    "m,n = 20,10\n",
    "A = hyper         # data matrix \n",
    "\n",
    "# look for a nonnegative factorization with rank 5\n",
    "loss = QuadLoss()           # quadratic loss\n",
    "nonneg = NonNegConstraint() # require nonnegative factors\n",
    "k = 5\n",
    "Ω = [(rand(1:m), rand(1:n)) for iobs in 1:100] # observe 50 random entries, with replacement\n",
    "glrm = GLRM(A, loss, nonneg, nonneg, k);"
   ]
  },
  {
   "cell_type": "code",
   "execution_count": 15,
   "metadata": {},
   "outputs": [
    {
     "name": "stdout",
     "output_type": "stream",
     "text": [
      "Fitting GLRM\n",
      "Iteration 10: objective value = 15.248369773204756\n"
     ]
    }
   ],
   "source": [
    "X,Y,ch = fit!(glrm);"
   ]
  },
  {
   "cell_type": "markdown",
   "metadata": {},
   "source": [
    "# Example: sparse matrix, structural zeros are unobserved"
   ]
  },
  {
   "cell_type": "code",
   "execution_count": 40,
   "metadata": {},
   "outputs": [
    {
     "name": "stdout",
     "output_type": "stream",
     "text": [
      ":003, :004, :005, :007, :008, :009, :010, :011, :012, :013, :014, :015, :018, :023, :027, :031, :032, :033, :034, :035, :036, :038, :039, :040, :041, :042, :046, :047, :048, :049, :052, :053, :054, :057, :058, :070, :075, :077, :078, :079, :088, :091, :093, :094, :097, :099, :110, :111, :112, :115, :117, :121, :122, :123, :127, :130, :131, :132, :133, :135, :136, :137, :138, :139, :140, :141, :142, :143, :144, :145, :146, :147, :148, :149, :150, :151, :152, :153, :154, :155, :156, :157, :158, :159, :160, :161, :162, :163, :164, :170, :171, :172, :173, :174, :175, :176, :179, :180, :182, :183, :184, :185, :187, :188, :189, :191, :192, :193, :194, :195, :196, :197, :198, :199, :200, :201, :202, :203, :204, :205, :206, :207, :208, :209, :210, :211, :212, :213, :214, :215, :216, :217, :218, :220, :221, :223, :225, :226, :227, :228, :229, :230, :232, :233, :235, :236, :237, :238, :239, :240, :241, :242, :244, :245, :246, :249, :250, :251, :252, :253, :254, :255, :256, :257, :258, :259, :260, :261, :262, :263, :265, :266, :267, :268, :269, :270, :271, :272, :273, :274, :275, :276, :277, :278, :279, :280, :281, :282, :283, :284, :285, :286, :287, :288, :289, :290, :291, :292, :293, :294, :295, :296, :297, :298, :299, :300, :301, :302, :303, :304, :305, :306, :307, :308, :309, :310, :311, :312, :314, :315, :317, :318, :319, :320, :321, :322, :323, :324, :325, :326, :327, :330, :331, :332, :333, :334, :335, :336, :337, :338, :339, :340, :341, :342, :343, :344, :345, :346, :347, :348, :349, :350, :351, :352, :353, :354, :355, :356, :357, :358, :359, :360, :361, :362, :363, :364, :365, :366, :367, :368, :369, :370, :371, :372, :373, :374, :375, :376, :377, :378, :379, :380, :382, :383, :384, :385, :386, :388, :389, :391, :393, :394, :395, :396, :397, :398, :401, :402, :403, :404, :405, :410, :411, :412, :413, :414, :415, :416, :417, :420, :421, :422, :423, :424, :425, :426, :427, :428, :429, :430, :431, :432, :433, :434, :435, :436, :437, :438, :440, :441, :442, :443, :444, :445, :446, :447, :448, :449, :451, :452, :453, :454, :455, :456, :457, :458, :459, :461, :462, :463, :464, :465, :466, :470, :471, :472, :473, :474, :475, :477, :478, :480, :481, :482, :483, :484, :485, :486, :487, :488, :490, :491, :492, :493, :494, :495, :496, :500, :501, :502, :506, :507, :508, :510, :511, :512, :513, :514, :515, :516, :517, :518, :519, :520, :521, :522, :523, :524, :525, :526, :527, :528, :529, :530, :531, :532, :533, :534, :535, :536, :537, :539, :540, :541, :542, :543, :550, :551, :552, :553, :555, :556, :557, :558, :560, :562, :564, :565, :566, :567, :568, :569, :570, :571, :572, :573, :574, :575, :576, :577, :578, :579, :580, :581, :582, :583, :584, :585, :586, :587, :588, :589, :590, :591, :592, :593, :594, :595, :596, :597, :598, :599, :600, :601, :602, :603, :604, :605, :607, :608, :610, :611, :614, :615, :616, :617, :618, :619, :620, :621, :622, :623, :624, :625, :626, :627, :633, :639, :642, :644, :646, :647, :648, :649, :652, :654, :656, :664, :665, :666, :669, :670, :674, :677, :680, :681, :682, :683, :684, :685, :686, :690, :691, :692, :693, :694, :695, :696, :697, :698, :700, :701, :702, :703, :704, :705, :706, :707, :708, :709, :710, :711, :712, :713, :714, :715, :716, :717, :718, :719, :720, :721, :722, :723, :724, :725, :726, :727, :728, :729, :730, :731, :732, :733, :734, :735, :736, :737, :738, :741, :742, :744, :745, :746, :747, :748, :750, :751, :752, :753, :754, :755, :756, :757, :758, :759, :760, :761, :764, :765, :769, :770, :771, :772, :774, :775, :776, :777, :778, :779, :780, :781, :782, :783, :784, :785, :786, :787, :788, :789, :790, :791, :792, :793, :794, :795, :796, :799, :800, :801, :802, :803, :804, :805, :806, :807, :808, :810, :811, :812, :813, :814, :815, :816, :817, :819, :820, :821, :822, :823, :824, :825, :826, :830, :831, :832, :833, :834, :835, :836, :837, :838, :839, :840, :841, :842, :844, :845, :846, :847, :848, :850, :851, :852, :853, :854, :860, :861, :862, :863, :864, :865, :866, :867, :868, :869, :870, :872, :873, :874, :875, :876, :877, :878, :879, :880, :881, :882, :883, :884, :885, :886, :887, :890, :891, :892, :893, :896, :897, :900, :901, :902, :903, :904, :905, :906, :907, :908, :909, :910, :911, :912, :913, :914, :915, :916, :917, :918, :919, :920, :921, :922, :923, :924, :927, :928, :930, :933, :934, :935, :936, :937, :939, :941, :942, :943, :944, :945, :946, :948, :950, :951, :952, :953, :955, :956, :958, :959, :960, :961, :962, :963, :964, :965, :966, :967, :968, :969, :970, :971, :972, :974, :975, :976, :977, :980, :982, :985, :987, :988, :989, :990, :991, :992, :994, :995, :996, :997, :998, :999, :E000, :E001, :E003, :E006, :E007, :E016, :E029, :E811, :E812, :E813, :E814, :E815, :E816, :E817, :E818, :E819, :E820, :E821, :E823, :E824, :E825, :E826, :E834, :E838, :E840, :E848, :E849, :E850, :E851, :E852, :E853, :E854, :E855, :E858, :E860, :E862, :E863, :E865, :E866, :E869, :E870, :E871, :E874, :E876, :E878, :E879, :E880, :E881, :E882, :E884, :E885, :E887, :E888, :E890, :E891, :E899, :E900, :E901, :E906, :E910, :E911, :E912, :E915, :E916, :E917, :E918, :E919, :E920, :E922, :E924, :E926, :E927, :E928, :E929, :E930, :E931, :E932, :E933, :E934, :E935, :E936, :E937, :E938, :E939, :E940, :E941, :E942, :E943, :E944, :E945, :E946, :E947, :E950, :E953, :E955, :E956, :E957, :E958, :E960, :E962, :E965, :E966, :E967, :E968, :E969, :E976, :E980, :E988, :E989, :E999, :V01, :V02, :V03, :V04, :V05, :V06, :V07, :V08, :V09, :V10, :V11, :V12, :V13, :V14, :V15, :V16, :V17, :V18, :V19, :V25, :V26, :V27, :V29, :V30, :V31, :V40, :V42, :V43, :V44, :V45, :V46, :V48, :V49, :V50, :V53, :V54, :V55, :V56, :V58, :V59, :V60, :V61, :V62, :V63, :V64, :V65, :V66, :V68, :V69, :V70, :V71, :V72, :V74, :V76, :V81, :V83, :V84, :V85, :V86, :V87, :V88, :V90, :GENDER_M, :GENDER_F, :INSURANCE_Medicaid, :INSURANCE_Medicare, :INSURANCE_Private, :INSURANCE_Government, :INSURANCE_Self Pay, :LANGUAGE_nan, :LANGUAGE_ENGL, :LANGUAGE_CANT, :LANGUAGE_GREE, :LANGUAGE_CAMB, :LANGUAGE_RUSS, :LANGUAGE_CAPE, :LANGUAGE_PORT, :LANGUAGE_SPAN, :LANGUAGE_*MAN, :LANGUAGE_VIET, :LANGUAGE_ITAL, :LANGUAGE_HAIT, :LANGUAGE_PTUN, :LANGUAGE_ARAB, :LANGUAGE_POLI, :LANGUAGE_FREN, :LANGUAGE_*URD, :LANGUAGE_AMER, :LANGUAGE_MAND, :LANGUAGE_*BEN, :LANGUAGE_ALBA, :LANGUAGE_ETHI, :LANGUAGE_*TOY, :LANGUAGE_*HUN, :LANGUAGE_HIND, :LANGUAGE_*IBO, :LANGUAGE_THAI, :LANGUAGE_PERS, :LANGUAGE_*CHI, :LANGUAGE_*SPA, :LANGUAGE_*FUL, :LANGUAGE_*LEB, :LANGUAGE_KORE, :LANGUAGE_*CAN, :LANGUAGE_*CDI, :LANGUAGE_TURK, :LANGUAGE_LAOT, :LANGUAGE_*YID, :LANGUAGE_*ARM, :LANGUAGE_TAGA, :LANGUAGE_*AMH, :LANGUAGE_BENG, :LANGUAGE_* FU, :LANGUAGE_*BUR, :LANGUAGE_*TOI, :LANGUAGE_*GUJ, :LANGUAGE_*KHM, :LANGUAGE_SERB, :LANGUAGE_*NEP, :LANGUAGE_*CRE, :LANGUAGE_*TEL, :LANGUAGE_SOMA, :LANGUAGE_JAPA, :LANGUAGE_*DUT, :LANGUAGE_*TAM, :LANGUAGE_**SH, :RELIGION_UNOBTAINABLE, :RELIGION_JEWISH, :RELIGION_OTHER, :RELIGION_CATHOLIC, :RELIGION_NOT SPECIFIED, :RELIGION_PROTESTANT QUAKER, :RELIGION_EPISCOPALIAN, :RELIGION_CHRISTIAN SCIENTIST, :RELIGION_METHODIST, :RELIGION_GREEK ORTHODOX, :RELIGION_JEHOVAH'S WITNESS, :RELIGION_BUDDHIST, :RELIGION_BAPTIST, :RELIGION_nan, :RELIGION_HINDU, :RELIGION_MUSLIM, :RELIGION_7TH DAY ADVENTIST, :RELIGION_ROMANIAN EAST. ORTH, :RELIGION_UNITARIAN-UNIVERSALIST, :RELIGION_HEBREW, :MARITAL_STATUS_nan, :MARITAL_STATUS_MARRIED, :MARITAL_STATUS_WIDOWED, :MARITAL_STATUS_DIVORCED, :MARITAL_STATUS_SINGLE, :MARITAL_STATUS_SEPARATED, :MARITAL_STATUS_UNKNOWN (DEFAULT), :MARITAL_STATUS_LIFE PARTNER, :ETHNICITY_UNKNOWN/NOT SPECIFIED, :ETHNICITY_WHITE, :ETHNICITY_ASIAN, :ETHNICITY_PATIENT DECLINED TO ANSWER, :ETHNICITY_BLACK/AFRICAN AMERICAN, :ETHNICITY_HISPANIC OR LATINO, :ETHNICITY_OTHER, :ETHNICITY_MULTI RACE ETHNICITY, :ETHNICITY_WHITE - RUSSIAN, :ETHNICITY_ASIAN - CHINESE, :ETHNICITY_BLACK/CAPE VERDEAN, :ETHNICITY_ASIAN - ASIAN INDIAN, :ETHNICITY_HISPANIC/LATINO - PUERTO RICAN, :ETHNICITY_ASIAN - CAMBODIAN, :ETHNICITY_HISPANIC/LATINO - SALVADORAN, :ETHNICITY_UNABLE TO OBTAIN, :ETHNICITY_WHITE - EASTERN EUROPEAN, :ETHNICITY_WHITE - OTHER EUROPEAN, :ETHNICITY_PORTUGUESE, :ETHNICITY_HISPANIC/LATINO - DOMINICAN, :ETHNICITY_ASIAN - VIETNAMESE, :ETHNICITY_HISPANIC/LATINO - CENTRAL AMERICAN (OTHER), :ETHNICITY_AMERICAN INDIAN/ALASKA NATIVE, :ETHNICITY_ASIAN - THAI, :ETHNICITY_NATIVE HAWAIIAN OR OTHER PACIFIC ISLANDER, :ETHNICITY_MIDDLE EASTERN, :ETHNICITY_BLACK/AFRICAN, :ETHNICITY_BLACK/HAITIAN, :ETHNICITY_ASIAN - OTHER, :ETHNICITY_HISPANIC/LATINO - GUATEMALAN, :ETHNICITY_WHITE - BRAZILIAN, :ETHNICITY_HISPANIC/LATINO - COLOMBIAN, :ETHNICITY_HISPANIC/LATINO - CUBAN, :ETHNICITY_SOUTH AMERICAN, :ETHNICITY_ASIAN - FILIPINO, :ETHNICITY_ASIAN - JAPANESE, :ETHNICITY_HISPANIC/LATINO - MEXICAN, :ETHNICITY_ASIAN - KOREAN, :ETHNICITY_CARIBBEAN ISLAND, :ETHNICITY_HISPANIC/LATINO - HONDURAN, :DEAD_1, :ADMISSSIONS, :LOS, :ORDINAL_AGE, "
     ]
    }
   ],
   "source": [
    "for name in names(hyper)\n",
    "    print(\":\", name, \", \")\n",
    "end\n"
   ]
  },
  {
   "cell_type": "code",
   "execution_count": 34,
   "metadata": {},
   "outputs": [
    {
     "data": {
      "text/html": [
       "<table class=\"data-frame\"><thead><tr><th></th><th>003</th><th>004</th><th>005</th><th>007</th><th>008</th><th>009</th><th>010</th><th>011</th><th>012</th><th>013</th><th>014</th><th>015</th></tr><tr><th></th><th>Int64</th><th>Int64</th><th>Int64</th><th>Int64</th><th>Int64</th><th>Int64</th><th>Int64</th><th>Int64</th><th>Int64</th><th>Int64</th><th>Int64</th><th>Int64</th></tr></thead><tbody><p>5 rows × 1,078 columns (omitted printing of 1066 columns)</p><tr><th>1</th><td>0</td><td>0</td><td>0</td><td>0</td><td>0</td><td>0</td><td>0</td><td>0</td><td>0</td><td>0</td><td>0</td><td>0</td></tr><tr><th>2</th><td>0</td><td>0</td><td>0</td><td>0</td><td>0</td><td>0</td><td>0</td><td>0</td><td>0</td><td>0</td><td>0</td><td>0</td></tr><tr><th>3</th><td>0</td><td>0</td><td>0</td><td>0</td><td>0</td><td>0</td><td>0</td><td>0</td><td>0</td><td>0</td><td>0</td><td>0</td></tr><tr><th>4</th><td>0</td><td>0</td><td>0</td><td>0</td><td>0</td><td>0</td><td>0</td><td>0</td><td>0</td><td>0</td><td>0</td><td>0</td></tr><tr><th>5</th><td>0</td><td>0</td><td>0</td><td>0</td><td>0</td><td>0</td><td>0</td><td>0</td><td>0</td><td>0</td><td>0</td><td>0</td></tr></tbody></table>"
      ],
      "text/latex": [
       "\\begin{tabular}{r|ccccccccccccc}\n",
       "\t& 003 & 004 & 005 & 007 & 008 & 009 & 010 & 011 & 012 & 013 & 014 & 015 & \\\\\n",
       "\t\\hline\n",
       "\t& Int64 & Int64 & Int64 & Int64 & Int64 & Int64 & Int64 & Int64 & Int64 & Int64 & Int64 & Int64 & \\\\\n",
       "\t\\hline\n",
       "\t1 & 0 & 0 & 0 & 0 & 0 & 0 & 0 & 0 & 0 & 0 & 0 & 0 & $\\dots$ \\\\\n",
       "\t2 & 0 & 0 & 0 & 0 & 0 & 0 & 0 & 0 & 0 & 0 & 0 & 0 & $\\dots$ \\\\\n",
       "\t3 & 0 & 0 & 0 & 0 & 0 & 0 & 0 & 0 & 0 & 0 & 0 & 0 & $\\dots$ \\\\\n",
       "\t4 & 0 & 0 & 0 & 0 & 0 & 0 & 0 & 0 & 0 & 0 & 0 & 0 & $\\dots$ \\\\\n",
       "\t5 & 0 & 0 & 0 & 0 & 0 & 0 & 0 & 0 & 0 & 0 & 0 & 0 & $\\dots$ \\\\\n",
       "\\end{tabular}\n"
      ],
      "text/plain": [
       "5×1078 DataFrame. Omitted printing of 1069 columns\n",
       "│ Row │ 003   │ 004   │ 005   │ 007   │ 008   │ 009   │ 010   │ 011   │ 012   │\n",
       "│     │ \u001b[90mInt64\u001b[39m │ \u001b[90mInt64\u001b[39m │ \u001b[90mInt64\u001b[39m │ \u001b[90mInt64\u001b[39m │ \u001b[90mInt64\u001b[39m │ \u001b[90mInt64\u001b[39m │ \u001b[90mInt64\u001b[39m │ \u001b[90mInt64\u001b[39m │ \u001b[90mInt64\u001b[39m │\n",
       "├─────┼───────┼───────┼───────┼───────┼───────┼───────┼───────┼───────┼───────┤\n",
       "│ 1   │ 0     │ 0     │ 0     │ 0     │ 0     │ 0     │ 0     │ 0     │ 0     │\n",
       "│ 2   │ 0     │ 0     │ 0     │ 0     │ 0     │ 0     │ 0     │ 0     │ 0     │\n",
       "│ 3   │ 0     │ 0     │ 0     │ 0     │ 0     │ 0     │ 0     │ 0     │ 0     │\n",
       "│ 4   │ 0     │ 0     │ 0     │ 0     │ 0     │ 0     │ 0     │ 0     │ 0     │\n",
       "│ 5   │ 0     │ 0     │ 0     │ 0     │ 0     │ 0     │ 0     │ 0     │ 0     │"
      ]
     },
     "execution_count": 34,
     "metadata": {},
     "output_type": "execute_result"
    }
   ],
   "source": [
    "df = hyper[sample(axes(hyper, 2), 5; replace = false, ordered = true), :]"
   ]
  },
  {
   "cell_type": "code",
   "execution_count": 35,
   "metadata": {},
   "outputs": [
    {
     "data": {
      "text/html": [
       "<table class=\"data-frame\"><thead><tr><th></th><th>003</th><th>004</th><th>005</th><th>007</th><th>008</th></tr><tr><th></th><th>Int64</th><th>Int64</th><th>Int64</th><th>Int64</th><th>Int64</th></tr></thead><tbody><p>18,031 rows × 5 columns</p><tr><th>1</th><td>0</td><td>0</td><td>0</td><td>0</td><td>0</td></tr><tr><th>2</th><td>0</td><td>0</td><td>0</td><td>0</td><td>0</td></tr><tr><th>3</th><td>0</td><td>0</td><td>0</td><td>0</td><td>0</td></tr><tr><th>4</th><td>0</td><td>0</td><td>0</td><td>0</td><td>0</td></tr><tr><th>5</th><td>0</td><td>0</td><td>0</td><td>0</td><td>0</td></tr><tr><th>6</th><td>0</td><td>0</td><td>0</td><td>0</td><td>0</td></tr><tr><th>7</th><td>0</td><td>0</td><td>0</td><td>0</td><td>0</td></tr><tr><th>8</th><td>0</td><td>0</td><td>0</td><td>0</td><td>0</td></tr><tr><th>9</th><td>0</td><td>0</td><td>0</td><td>0</td><td>0</td></tr><tr><th>10</th><td>0</td><td>0</td><td>0</td><td>0</td><td>0</td></tr><tr><th>11</th><td>0</td><td>0</td><td>0</td><td>0</td><td>0</td></tr><tr><th>12</th><td>0</td><td>0</td><td>0</td><td>0</td><td>0</td></tr><tr><th>13</th><td>0</td><td>0</td><td>0</td><td>0</td><td>0</td></tr><tr><th>14</th><td>0</td><td>0</td><td>0</td><td>0</td><td>0</td></tr><tr><th>15</th><td>0</td><td>0</td><td>0</td><td>0</td><td>0</td></tr><tr><th>16</th><td>0</td><td>0</td><td>0</td><td>0</td><td>0</td></tr><tr><th>17</th><td>0</td><td>0</td><td>0</td><td>0</td><td>0</td></tr><tr><th>18</th><td>0</td><td>0</td><td>0</td><td>0</td><td>0</td></tr><tr><th>19</th><td>0</td><td>0</td><td>0</td><td>0</td><td>0</td></tr><tr><th>20</th><td>0</td><td>0</td><td>0</td><td>0</td><td>0</td></tr><tr><th>21</th><td>0</td><td>0</td><td>0</td><td>0</td><td>0</td></tr><tr><th>22</th><td>0</td><td>0</td><td>0</td><td>0</td><td>0</td></tr><tr><th>23</th><td>0</td><td>0</td><td>0</td><td>0</td><td>0</td></tr><tr><th>24</th><td>0</td><td>0</td><td>0</td><td>0</td><td>0</td></tr><tr><th>25</th><td>0</td><td>0</td><td>0</td><td>0</td><td>0</td></tr><tr><th>26</th><td>0</td><td>0</td><td>0</td><td>0</td><td>0</td></tr><tr><th>27</th><td>0</td><td>0</td><td>0</td><td>0</td><td>0</td></tr><tr><th>28</th><td>0</td><td>0</td><td>0</td><td>0</td><td>0</td></tr><tr><th>29</th><td>0</td><td>0</td><td>0</td><td>0</td><td>0</td></tr><tr><th>30</th><td>0</td><td>0</td><td>0</td><td>0</td><td>0</td></tr><tr><th>&vellip;</th><td>&vellip;</td><td>&vellip;</td><td>&vellip;</td><td>&vellip;</td><td>&vellip;</td></tr></tbody></table>"
      ],
      "text/latex": [
       "\\begin{tabular}{r|ccccc}\n",
       "\t& 003 & 004 & 005 & 007 & 008\\\\\n",
       "\t\\hline\n",
       "\t& Int64 & Int64 & Int64 & Int64 & Int64\\\\\n",
       "\t\\hline\n",
       "\t1 & 0 & 0 & 0 & 0 & 0 \\\\\n",
       "\t2 & 0 & 0 & 0 & 0 & 0 \\\\\n",
       "\t3 & 0 & 0 & 0 & 0 & 0 \\\\\n",
       "\t4 & 0 & 0 & 0 & 0 & 0 \\\\\n",
       "\t5 & 0 & 0 & 0 & 0 & 0 \\\\\n",
       "\t6 & 0 & 0 & 0 & 0 & 0 \\\\\n",
       "\t7 & 0 & 0 & 0 & 0 & 0 \\\\\n",
       "\t8 & 0 & 0 & 0 & 0 & 0 \\\\\n",
       "\t9 & 0 & 0 & 0 & 0 & 0 \\\\\n",
       "\t10 & 0 & 0 & 0 & 0 & 0 \\\\\n",
       "\t11 & 0 & 0 & 0 & 0 & 0 \\\\\n",
       "\t12 & 0 & 0 & 0 & 0 & 0 \\\\\n",
       "\t13 & 0 & 0 & 0 & 0 & 0 \\\\\n",
       "\t14 & 0 & 0 & 0 & 0 & 0 \\\\\n",
       "\t15 & 0 & 0 & 0 & 0 & 0 \\\\\n",
       "\t16 & 0 & 0 & 0 & 0 & 0 \\\\\n",
       "\t17 & 0 & 0 & 0 & 0 & 0 \\\\\n",
       "\t18 & 0 & 0 & 0 & 0 & 0 \\\\\n",
       "\t19 & 0 & 0 & 0 & 0 & 0 \\\\\n",
       "\t20 & 0 & 0 & 0 & 0 & 0 \\\\\n",
       "\t21 & 0 & 0 & 0 & 0 & 0 \\\\\n",
       "\t22 & 0 & 0 & 0 & 0 & 0 \\\\\n",
       "\t23 & 0 & 0 & 0 & 0 & 0 \\\\\n",
       "\t24 & 0 & 0 & 0 & 0 & 0 \\\\\n",
       "\t25 & 0 & 0 & 0 & 0 & 0 \\\\\n",
       "\t26 & 0 & 0 & 0 & 0 & 0 \\\\\n",
       "\t27 & 0 & 0 & 0 & 0 & 0 \\\\\n",
       "\t28 & 0 & 0 & 0 & 0 & 0 \\\\\n",
       "\t29 & 0 & 0 & 0 & 0 & 0 \\\\\n",
       "\t30 & 0 & 0 & 0 & 0 & 0 \\\\\n",
       "\t$\\dots$ & $\\dots$ & $\\dots$ & $\\dots$ & $\\dots$ & $\\dots$ \\\\\n",
       "\\end{tabular}\n"
      ],
      "text/plain": [
       "18031×5 DataFrame\n",
       "│ Row   │ 003   │ 004   │ 005   │ 007   │ 008   │\n",
       "│       │ \u001b[90mInt64\u001b[39m │ \u001b[90mInt64\u001b[39m │ \u001b[90mInt64\u001b[39m │ \u001b[90mInt64\u001b[39m │ \u001b[90mInt64\u001b[39m │\n",
       "├───────┼───────┼───────┼───────┼───────┼───────┤\n",
       "│ 1     │ 0     │ 0     │ 0     │ 0     │ 0     │\n",
       "│ 2     │ 0     │ 0     │ 0     │ 0     │ 0     │\n",
       "│ 3     │ 0     │ 0     │ 0     │ 0     │ 0     │\n",
       "│ 4     │ 0     │ 0     │ 0     │ 0     │ 0     │\n",
       "│ 5     │ 0     │ 0     │ 0     │ 0     │ 0     │\n",
       "│ 6     │ 0     │ 0     │ 0     │ 0     │ 0     │\n",
       "│ 7     │ 0     │ 0     │ 0     │ 0     │ 0     │\n",
       "│ 8     │ 0     │ 0     │ 0     │ 0     │ 0     │\n",
       "│ 9     │ 0     │ 0     │ 0     │ 0     │ 0     │\n",
       "│ 10    │ 0     │ 0     │ 0     │ 0     │ 0     │\n",
       "⋮\n",
       "│ 18021 │ 0     │ 0     │ 0     │ 0     │ 0     │\n",
       "│ 18022 │ 0     │ 0     │ 0     │ 0     │ 0     │\n",
       "│ 18023 │ 0     │ 0     │ 0     │ 0     │ 0     │\n",
       "│ 18024 │ 0     │ 0     │ 0     │ 0     │ 0     │\n",
       "│ 18025 │ 0     │ 0     │ 0     │ 0     │ 0     │\n",
       "│ 18026 │ 0     │ 0     │ 0     │ 0     │ 0     │\n",
       "│ 18027 │ 0     │ 0     │ 0     │ 0     │ 0     │\n",
       "│ 18028 │ 0     │ 0     │ 0     │ 0     │ 0     │\n",
       "│ 18029 │ 0     │ 0     │ 0     │ 0     │ 0     │\n",
       "│ 18030 │ 0     │ 0     │ 0     │ 0     │ 0     │\n",
       "│ 18031 │ 0     │ 0     │ 0     │ 0     │ 0     │"
      ]
     },
     "execution_count": 35,
     "metadata": {},
     "output_type": "execute_result"
    }
   ],
   "source": [
    "df = hyper[:, 1:5]"
   ]
  },
  {
   "cell_type": "code",
   "execution_count": 36,
   "metadata": {},
   "outputs": [
    {
     "data": {
      "text/plain": [
       "5-element Array{Symbol,1}:\n",
       " :bool\n",
       " :bool\n",
       " :bool\n",
       " :bool\n",
       " :bool"
      ]
     },
     "execution_count": 36,
     "metadata": {},
     "output_type": "execute_result"
    }
   ],
   "source": [
    "# help out by telling GLRM the correct data types\n",
    "datatypes = [:bool, :bool, :bool, :bool, :bool]"
   ]
  },
  {
   "cell_type": "code",
   "execution_count": 38,
   "metadata": {},
   "outputs": [
    {
     "data": {
      "text/plain": [
       "GLRM(18031×5 DataFrame\n",
       "│ Row   │ 003    │ 004    │ 005    │ 007    │ 008    │\n",
       "│       │ \u001b[90mInt64⍰\u001b[39m │ \u001b[90mInt64⍰\u001b[39m │ \u001b[90mInt64⍰\u001b[39m │ \u001b[90mInt64⍰\u001b[39m │ \u001b[90mInt64⍰\u001b[39m │\n",
       "├───────┼────────┼────────┼────────┼────────┼────────┤\n",
       "│ 1     │ -1     │ -1     │ -1     │ -1     │ -1     │\n",
       "│ 2     │ -1     │ -1     │ -1     │ -1     │ -1     │\n",
       "│ 3     │ -1     │ -1     │ -1     │ -1     │ -1     │\n",
       "│ 4     │ -1     │ -1     │ -1     │ -1     │ -1     │\n",
       "│ 5     │ -1     │ -1     │ -1     │ -1     │ -1     │\n",
       "│ 6     │ -1     │ -1     │ -1     │ -1     │ -1     │\n",
       "│ 7     │ -1     │ -1     │ -1     │ -1     │ -1     │\n",
       "│ 8     │ -1     │ -1     │ -1     │ -1     │ -1     │\n",
       "│ 9     │ -1     │ -1     │ -1     │ -1     │ -1     │\n",
       "│ 10    │ -1     │ -1     │ -1     │ -1     │ -1     │\n",
       "⋮\n",
       "│ 18021 │ -1     │ -1     │ -1     │ -1     │ -1     │\n",
       "│ 18022 │ -1     │ -1     │ -1     │ -1     │ -1     │\n",
       "│ 18023 │ -1     │ -1     │ -1     │ -1     │ -1     │\n",
       "│ 18024 │ -1     │ -1     │ -1     │ -1     │ -1     │\n",
       "│ 18025 │ -1     │ -1     │ -1     │ -1     │ -1     │\n",
       "│ 18026 │ -1     │ -1     │ -1     │ -1     │ -1     │\n",
       "│ 18027 │ -1     │ -1     │ -1     │ -1     │ -1     │\n",
       "│ 18028 │ -1     │ -1     │ -1     │ -1     │ -1     │\n",
       "│ 18029 │ -1     │ -1     │ -1     │ -1     │ -1     │\n",
       "│ 18030 │ -1     │ -1     │ -1     │ -1     │ -1     │\n",
       "│ 18031 │ -1     │ -1     │ -1     │ -1     │ -1     │, Loss[LogisticLoss(1.0, BoolDomain()), LogisticLoss(1.0, BoolDomain()), LogisticLoss(1.0, BoolDomain()), LogisticLoss(1.0, BoolDomain()), LogisticLoss(1.0, BoolDomain())], Regularizer[lastentry1(QuadReg(0.01)), lastentry1(QuadReg(0.01)), lastentry1(QuadReg(0.01)), lastentry1(QuadReg(0.01)), lastentry1(QuadReg(0.01)), lastentry1(QuadReg(0.01)), lastentry1(QuadReg(0.01)), lastentry1(QuadReg(0.01)), lastentry1(QuadReg(0.01)), lastentry1(QuadReg(0.01))  …  lastentry1(QuadReg(0.01)), lastentry1(QuadReg(0.01)), lastentry1(QuadReg(0.01)), lastentry1(QuadReg(0.01)), lastentry1(QuadReg(0.01)), lastentry1(QuadReg(0.01)), lastentry1(QuadReg(0.01)), lastentry1(QuadReg(0.01)), lastentry1(QuadReg(0.01)), lastentry1(QuadReg(0.01))], Regularizer[lastentry_unpenalized(QuadReg(0.01)), lastentry_unpenalized(QuadReg(0.01)), lastentry_unpenalized(QuadReg(0.01)), lastentry_unpenalized(QuadReg(0.01)), lastentry_unpenalized(QuadReg(0.01))], 3, [[1, 2, 3, 4, 5], [1, 2, 3, 4, 5], [1, 2, 3, 4, 5], [1, 2, 3, 4, 5], [1, 2, 3, 4, 5], [1, 2, 3, 4, 5], [1, 2, 3, 4, 5], [1, 2, 3, 4, 5], [1, 2, 3, 4, 5], [1, 2, 3, 4, 5]  …  [1, 2, 3, 4, 5], [1, 2, 3, 4, 5], [1, 2, 3, 4, 5], [1, 2, 3, 4, 5], [1, 2, 3, 4, 5], [1, 2, 3, 4, 5], [1, 2, 3, 4, 5], [1, 2, 3, 4, 5], [1, 2, 3, 4, 5], [1, 2, 3, 4, 5]], [[1, 2, 3, 4, 5, 6, 7, 8, 9, 10  …  18022, 18023, 18024, 18025, 18026, 18027, 18028, 18029, 18030, 18031], [1, 2, 3, 4, 5, 6, 7, 8, 9, 10  …  18022, 18023, 18024, 18025, 18026, 18027, 18028, 18029, 18030, 18031], [1, 2, 3, 4, 5, 6, 7, 8, 9, 10  …  18022, 18023, 18024, 18025, 18026, 18027, 18028, 18029, 18030, 18031], [1, 2, 3, 4, 5, 6, 7, 8, 9, 10  …  18022, 18023, 18024, 18025, 18026, 18027, 18028, 18029, 18030, 18031], [1, 2, 3, 4, 5, 6, 7, 8, 9, 10  …  18022, 18023, 18024, 18025, 18026, 18027, 18028, 18029, 18030, 18031]], [-0.45602911690262077 0.23387958627863226 … -1.244282800635368 0.3473587744848394; 0.21535909567812736 1.0415876898391674 … -0.22810037261547397 -0.7764505112990646; -1.224537481865118 -0.3139945266137997 … 0.33297651812960755 -0.07136809982977736], [-1.0683063895970266 -0.060748686799446346 … 0.11343950417578781 -0.2876178625203128; 0.9681069343087898 0.7276602796509907 … -0.43442416261636696 -0.06416025182927589; 0.7009964709286038 -0.11275371106870372 … -0.2929014395842038 -0.6930091448475895])"
      ]
     },
     "execution_count": 38,
     "metadata": {},
     "output_type": "execute_result"
    }
   ],
   "source": [
    "glrm = GLRM(df, 3, datatypes)"
   ]
  },
  {
   "cell_type": "code",
   "execution_count": 39,
   "metadata": {},
   "outputs": [
    {
     "name": "stdout",
     "output_type": "stream",
     "text": [
      "Fitting GLRM\n",
      "Iteration 10: objective value = 7232.510998624525\n",
      "Iteration 20: objective value = 2426.7188811543124\n",
      "Iteration 30: objective value = 865.8144617076207\n",
      "Iteration 40: objective value = 360.59764881047647\n",
      "Iteration 50: objective value = 214.99697465926252\n",
      "Iteration 60: objective value = 162.38623757483947\n",
      "Iteration 70: objective value = 131.98472621470606\n",
      "Iteration 80: objective value = 105.04864134457658\n",
      "Iteration 90: objective value = 81.12195507260711\n",
      "Iteration 100: objective value = 61.65519172281969\n"
     ]
    },
    {
     "data": {
      "text/plain": [
       "([0.460438789602206 0.4604410241639779 … 0.4604372039095485 0.46043818572803336; -0.27515144051514223 -0.2751452599547951 … -0.2751558265262776 -0.27515311081043253; 1.0 1.0 … 1.0 1.0], [-2.010603371750985 -2.0313084359254256 … -2.202106190763786 -6.802000100298388; 3.180340133794725 2.758588658802075 … 2.377792741935168 0.28069150177220126; -5.854884166417302 -6.04522369168754 … -6.178404821322838 -4.0122267917013135], ConvergenceHistory(\"ProxGradGLRM\", [Inf, 52340.218553693274, 36109.951112004106, 26237.976518343494, 20081.96638855877, 16012.527715607677, 13162.86031032246, 11071.658264734018, 9479.988603853493, 8233.05642319518  …  78.7015639337137, 76.8901344665096, 74.54689997613693, 72.94194286949991, 70.51826663683255, 68.98604752332162, 66.65377342366833, 65.16947368548631, 63.01296023398969, 61.65519172281969], Float64[], [0.0, 0.0, 0.0, 0.0, 0.0, 0.0, 0.0, 0.0, 0.0, 0.0  …  0.0, 0.0, 0.0, 0.0, 0.0, 0.0, 0.0, 0.0, 0.0, 0.0], [0.0, 0.0, 0.0, 0.0, 0.0, 0.0, 0.0, 0.0, 0.0, 0.0  …  0.0, 0.0, 0.0, 0.0, 0.0, 0.0, 0.0, 0.0, 0.0, 0.0], [0.0, 0.5476250648498535, 0.7632801532745361, 0.9426052570343018, 1.146010160446167, 1.3341350555419922, 1.5198330879211426, 1.7117688655853271, 1.8793318271636963, 2.061990976333618  …  17.635363817214966, 17.821271896362305, 18.015870094299316, 18.2225239276886, 18.435434818267822, 18.626643896102905, 18.84011197090149, 19.045642137527466, 19.26945996284485, 19.48585605621338], [0.0, 0.0, 0.0, 0.0, 0.0, 0.0, 0.0, 0.0, 0.0, 0.0  …  0.0, 0.0, 0.0, 0.0, 0.0, 0.0, 0.0, 0.0, 0.0, 0.0], 0))"
      ]
     },
     "execution_count": 39,
     "metadata": {},
     "output_type": "execute_result"
    }
   ],
   "source": [
    "X,Y = fit!(glrm)"
   ]
  },
  {
   "cell_type": "markdown",
   "metadata": {},
   "source": [
    "# Example: fit a DataFrame, \"missing\" values are unobserved"
   ]
  },
  {
   "cell_type": "code",
   "execution_count": null,
   "metadata": {},
   "outputs": [],
   "source": [
    "# we'll just fit four of the columns, to try out all four datatypes\n",
    "dd = DataFrame([df[:,s] for s in [:TOD, :Vigorous, :Wakeful, :Alert, :Aroused, :Active]])\n",
    "dd[!,end] = (dd[:,end].==1)\n",
    "dd"
   ]
  },
  {
   "cell_type": "code",
   "execution_count": null,
   "metadata": {},
   "outputs": [],
   "source": [
    "glrm = GLRM(dd, 3, datatypes)\n",
    "#init_svd!(glrm)\n",
    "X,Y = fit!(glrm)"
   ]
  },
  {
   "cell_type": "code",
   "execution_count": null,
   "metadata": {},
   "outputs": [],
   "source": []
  },
  {
   "cell_type": "code",
   "execution_count": null,
   "metadata": {},
   "outputs": [],
   "source": []
  },
  {
   "cell_type": "markdown",
   "metadata": {},
   "source": [
    "# Hypertension K-means with quadloss"
   ]
  },
  {
   "cell_type": "code",
   "execution_count": 30,
   "metadata": {},
   "outputs": [
    {
     "data": {
      "text/plain": [
       "kmeans_quadloss (generic function with 1 method)"
      ]
     },
     "execution_count": 30,
     "metadata": {},
     "output_type": "execute_result"
    }
   ],
   "source": [
    "# minimize_{X<=0} ||A - XY||^2\n",
    "function kmeans_quadloss(kval, matrix)\n",
    "    k = kval\n",
    "    A = matrix\n",
    "    loss = QuadLoss()\n",
    "    rx = UnitOneSparseConstraint()\n",
    "    ry = ZeroReg()\n",
    "    glrm = GLRM(A,loss,rx,ry,k)\n",
    "    \n",
    "    X,Y,ch = fit!(glrm)\n",
    "    \n",
    "    X= convert(DataFrame, X) \n",
    "    CSV.write(string(\"../data/Xhyperquad\", k,\".csv\" ), X)  \n",
    "    #CSV.read(string(\"../data/Xwp\", k,\".csv\" ), X)\n",
    "    \n",
    "    #imputey = impute(loss, Y) \n",
    "    #imputey  = convert(DataFrame, imputey) \n",
    "    #CSV.write(string(\"../data/iyquad\", k,\".csv\" ), imputey)\n",
    "    #CSV.read(string(\"../data/iywp\", k,\".csv\" ), imputey)\n",
    "    return A,X,Y,ch\n",
    "end"
   ]
  },
  {
   "cell_type": "code",
   "execution_count": 31,
   "metadata": {},
   "outputs": [
    {
     "ename": "TypeError",
     "evalue": "TypeError: non-boolean (Missing) used in boolean context",
     "output_type": "error",
     "traceback": [
      "TypeError: non-boolean (Missing) used in boolean context",
      "",
      "Stacktrace:",
      " [1] GLRM(::DataFrame, ::Array{Loss,1}, ::Array{Regularizer,1}, ::Array{Regularizer,1}, ::Int64; X::Array{Float64,2}, Y::Array{Float64,2}, obs::Nothing, observed_features::Array{UnitRange{Int64},1}, observed_examples::Array{UnitRange{Int64},1}, offset::Bool, scale::Bool, checknan::Bool, sparse_na::Bool) at /Users/kathy908000/.julia/packages/LowRankModels/u9DCY/src/glrm.jl:66",
      " [2] GLRM(::DataFrame, ::Array{Loss,1}, ::Array{Regularizer,1}, ::Array{Regularizer,1}, ::Int64) at /Users/kathy908000/.julia/packages/LowRankModels/u9DCY/src/glrm.jl:38",
      " [3] GLRM(::DataFrame, ::QuadLoss, ::UnitOneSparseConstraint, ::ZeroReg, ::Int64; kwargs::Base.Iterators.Pairs{Union{},Union{},Tuple{},NamedTuple{(),Tuple{}}}) at /Users/kathy908000/.julia/packages/LowRankModels/u9DCY/src/utilities/conveniencemethods.jl:48",
      " [4] GLRM at /Users/kathy908000/.julia/packages/LowRankModels/u9DCY/src/utilities/conveniencemethods.jl:48 [inlined]",
      " [5] kmeans_quadloss(::Int64, ::DataFrame) at ./In[30]:8",
      " [6] top-level scope at In[31]:1"
     ]
    }
   ],
   "source": [
    "kmeans_quadloss(3, hyper)\n",
    "\n",
    "#check isNaN is false\n",
    "#obs = list of observed data index: obs = nothing,  # [(i₁,j₁), (i₂,j₂), ... (iₒ,jₒ)]\n",
    "#glrm.jl line 32 60\n",
    "#if isnan(A[i,j])   #Should be \n",
    "#   error(\"Observed value in entry ($i, $j) is NaN.\")\n",
    "\n",
    "#if data value missing not in list of observations\n",
    "#pull request in glrm constructor\n",
    "\n",
    "\n",
    "#kmeans init error\n",
    "#Pkg.checkout(\"lowrankmodel\".master)\n",
    "# to get lastest version from github\n",
    "\n",
    "#can be same topic as research \n",
    "\n",
    "#aparna: random forest features\n",
    "brian and miaoloan: spare tree ensemble\n",
    "using treee based mdoel to make intrepretable clusters\n",
    "greedy method\n",
    "mean distance between every pairs of node in the tree\n"
   ]
  },
  {
   "cell_type": "code",
   "execution_count": 9,
   "metadata": {},
   "outputs": [
    {
     "name": "stdout",
     "output_type": "stream",
     "text": [
      "Fitting GLRM\n",
      "Iteration 10: objective value = 1.1012286879725552e6\n"
     ]
    },
    {
     "data": {
      "text/plain": [
       "(11494×1090 DataFrame. Omitted printing of 1082 columns\n",
       "│ Row   │ 003   │ 004   │ 005   │ 007   │ 008   │ 009   │ 010   │ 011   │\n",
       "│       │ \u001b[90mInt64\u001b[39m │ \u001b[90mInt64\u001b[39m │ \u001b[90mInt64\u001b[39m │ \u001b[90mInt64\u001b[39m │ \u001b[90mInt64\u001b[39m │ \u001b[90mInt64\u001b[39m │ \u001b[90mInt64\u001b[39m │ \u001b[90mInt64\u001b[39m │\n",
       "├───────┼───────┼───────┼───────┼───────┼───────┼───────┼───────┼───────┤\n",
       "│ 1     │ 0     │ 0     │ 0     │ 0     │ 0     │ 0     │ 0     │ 0     │\n",
       "│ 2     │ 0     │ 0     │ 0     │ 0     │ 0     │ 0     │ 0     │ 0     │\n",
       "│ 3     │ 0     │ 0     │ 0     │ 0     │ 0     │ 0     │ 0     │ 0     │\n",
       "│ 4     │ 0     │ 0     │ 0     │ 0     │ 0     │ 0     │ 0     │ 0     │\n",
       "│ 5     │ 0     │ 0     │ 0     │ 0     │ 0     │ 0     │ 0     │ 0     │\n",
       "│ 6     │ 0     │ 0     │ 0     │ 0     │ 0     │ 0     │ 0     │ 0     │\n",
       "│ 7     │ 0     │ 0     │ 0     │ 0     │ 0     │ 0     │ 0     │ 0     │\n",
       "│ 8     │ 0     │ 0     │ 0     │ 0     │ 0     │ 0     │ 0     │ 0     │\n",
       "│ 9     │ 0     │ 0     │ 0     │ 0     │ 0     │ 0     │ 0     │ 0     │\n",
       "│ 10    │ 0     │ 0     │ 0     │ 0     │ 0     │ 0     │ 0     │ 0     │\n",
       "⋮\n",
       "│ 11484 │ 0     │ 0     │ 0     │ 0     │ 0     │ 0     │ 0     │ 0     │\n",
       "│ 11485 │ 0     │ 0     │ 0     │ 0     │ 0     │ 0     │ 0     │ 0     │\n",
       "│ 11486 │ 0     │ 0     │ 0     │ 0     │ 0     │ 0     │ 0     │ 0     │\n",
       "│ 11487 │ 0     │ 0     │ 0     │ 0     │ 0     │ 0     │ 0     │ 0     │\n",
       "│ 11488 │ 0     │ 0     │ 0     │ 0     │ 0     │ 0     │ 0     │ 0     │\n",
       "│ 11489 │ 0     │ 0     │ 0     │ 0     │ 0     │ 0     │ 0     │ 0     │\n",
       "│ 11490 │ 0     │ 0     │ 0     │ 0     │ 0     │ 0     │ 0     │ 0     │\n",
       "│ 11491 │ 0     │ 0     │ 0     │ 0     │ 0     │ 0     │ 0     │ 0     │\n",
       "│ 11492 │ 0     │ 0     │ 0     │ 0     │ 0     │ 0     │ 0     │ 0     │\n",
       "│ 11493 │ 0     │ 0     │ 0     │ 0     │ 0     │ 0     │ 0     │ 0     │\n",
       "│ 11494 │ 0     │ 0     │ 0     │ 0     │ 0     │ 0     │ 0     │ 0     │, 4×11494 DataFrame. Omitted printing of 11487 columns\n",
       "│ Row │ x1      │ x2      │ x3      │ x4      │ x5      │ x6      │ x7      │\n",
       "│     │ \u001b[90mFloat64\u001b[39m │ \u001b[90mFloat64\u001b[39m │ \u001b[90mFloat64\u001b[39m │ \u001b[90mFloat64\u001b[39m │ \u001b[90mFloat64\u001b[39m │ \u001b[90mFloat64\u001b[39m │ \u001b[90mFloat64\u001b[39m │\n",
       "├─────┼─────────┼─────────┼─────────┼─────────┼─────────┼─────────┼─────────┤\n",
       "│ 1   │ 0.0     │ 0.0     │ 1.0     │ 0.0     │ 1.0     │ 0.0     │ 0.0     │\n",
       "│ 2   │ 0.0     │ 1.0     │ 0.0     │ 0.0     │ 0.0     │ 0.0     │ 1.0     │\n",
       "│ 3   │ 1.0     │ 0.0     │ 0.0     │ 1.0     │ 0.0     │ 0.0     │ 0.0     │\n",
       "│ 4   │ 0.0     │ 0.0     │ 0.0     │ 0.0     │ 0.0     │ 1.0     │ 0.0     │, [-1.2867627533121596e-6 0.0003376368478867324 … 1.2692362802452268 5.8746478199019725; 0.00031902622660039576 -2.0186212181694177e-6 … 1.2707864286487078 6.030913798145365; 4.549472669157342e-5 7.244289242407795e-5 … 1.2591218526919064 5.156778961321355; 0.0003460369758961125 -4.205960615156699e-6 … 1.2894804119296872 5.5460299047005694], ConvergenceHistory(\"ProxGradGLRM\", [Inf, 4.366875154791744e6, 1.85485760707813e6, 1.2637891157223613e6, 1.1340900788600058e6, 1.107455588462307e6, 1.1023283534634209e6, 1.101406996956047e6, 1.1012544381390228e6, 1.101231665971994e6, 1.1012286879725552e6, 1.1012283578508548e6], Float64[], [0.0, 0.0, 0.0, 0.0, 0.0, 0.0, 0.0, 0.0, 0.0, 0.0, 0.0, 0.0], [0.0, 0.0, 0.0, 0.0, 0.0, 0.0, 0.0, 0.0, 0.0, 0.0, 0.0, 0.0], [0.0, 16.357474088668823, 74.90491914749146, 91.37745213508606, 107.7851071357727, 124.28943514823914, 140.37826204299927, 155.87133693695068, 174.5386140346527, 191.6267900466919, 207.89266204833984, 224.60255002975464], [0.0, 0.0, 0.0, 0.0, 0.0, 0.0, 0.0, 0.0, 0.0, 0.0, 0.0, 0.0], 0))"
      ]
     },
     "execution_count": 9,
     "metadata": {},
     "output_type": "execute_result"
    }
   ],
   "source": [
    "kmeans_quadloss(4, hypernomissing)"
   ]
  },
  {
   "cell_type": "code",
   "execution_count": null,
   "metadata": {},
   "outputs": [],
   "source": []
  },
  {
   "cell_type": "code",
   "execution_count": null,
   "metadata": {},
   "outputs": [],
   "source": []
  },
  {
   "cell_type": "markdown",
   "metadata": {},
   "source": [
    "# K-means different loss functions and proximal gradient descent ( i = 40)"
   ]
  },
  {
   "cell_type": "code",
   "execution_count": null,
   "metadata": {},
   "outputs": [],
   "source": [
    "function kmeans_proxgrad(kval, lossarr, matrix)\n",
    "    k = kval\n",
    "    losses = lossarr\n",
    "    A = matrix\n",
    "    rx = UnitOneSparseConstraint()\n",
    "    ry = ZeroReg()\n",
    "    glrm = GLRM(A,losses,rx,ry,k)\n",
    "    params = ProxGradParams(inner_iter_Y=40)\n",
    "\n",
    "    \n",
    "    X,Y,ch = fit!(glrm, params) # objective value\n",
    "    println(\"X: \")\n",
    "    println(X)\n",
    "    println(\"Y: \")\n",
    "    println(Y)\n",
    "    \n",
    "    imputey = impute(losses, Y) \n",
    "    imputey  = convert(DataFrame, imputey) \n",
    "    CSV.write(string(\"../data/iyproxgrad\", k,\".csv\" ), imputey)\n",
    "    #CSV.read(string(\"../data/iywp\", k,\".csv\" ), imputey)\n",
    "    \n",
    "    X= convert(DataFrame, X) \n",
    "    CSV.write(string(\"../data/Xproxgrad\", k,\".csv\" ), X)  \n",
    "    #CSV.read(string(\"../data/Xwp\", k,\".csv\" ), X)\n",
    "end   "
   ]
  },
  {
   "cell_type": "code",
   "execution_count": null,
   "metadata": {},
   "outputs": [],
   "source": [
    "#loss function array\n",
    "loss1 = fill(HuberLoss(),2)\n",
    "loss2 = fill(HingeLoss(), 917)\n",
    "loss3 = fill(OrdinalHingeLoss(), 1)\n",
    "lossarr = [loss1; loss3; loss2]\n",
    "lossarr"
   ]
  },
  {
   "cell_type": "code",
   "execution_count": null,
   "metadata": {},
   "outputs": [],
   "source": []
  },
  {
   "cell_type": "markdown",
   "metadata": {},
   "source": [
    "# hyper simple kmeans with init"
   ]
  },
  {
   "cell_type": "code",
   "execution_count": null,
   "metadata": {},
   "outputs": [],
   "source": []
  },
  {
   "cell_type": "code",
   "execution_count": 15,
   "metadata": {},
   "outputs": [
    {
     "ename": "TypeError",
     "evalue": "TypeError: non-boolean (Missing) used in boolean context",
     "output_type": "error",
     "traceback": [
      "TypeError: non-boolean (Missing) used in boolean context",
      "",
      "Stacktrace:",
      " [1] GLRM(::DataFrame, ::Array{Loss,1}, ::Array{Regularizer,1}, ::Array{Regularizer,1}, ::Int64; X::Array{Float64,2}, Y::Array{Float64,2}, obs::Nothing, observed_features::Array{UnitRange{Int64},1}, observed_examples::Array{UnitRange{Int64},1}, offset::Bool, scale::Bool, checknan::Bool, sparse_na::Bool) at /Users/kathy908000/.julia/packages/LowRankModels/uhtB9/src/glrm.jl:66",
      " [2] GLRM(::DataFrame, ::QuadLoss, ::UnitOneSparseConstraint, ::ZeroReg, ::Int64; kwargs::Base.Iterators.Pairs{Symbol,Bool,Tuple{Symbol},NamedTuple{(:sparse_na,),Tuple{Bool}}}) at /Users/kathy908000/.julia/packages/LowRankModels/uhtB9/src/utilities/conveniencemethods.jl:48",
      " [3] top-level scope at In[15]:6"
     ]
    }
   ],
   "source": [
    "k = 5\n",
    "A= hyper\n",
    "losses = QuadLoss() # minimize squared distance to cluster centroids\n",
    "rx = UnitOneSparseConstraint() # each row is assigned to exactly one cluster\n",
    "ry = ZeroReg() # no regularization on the cluster centroids\n",
    "glrm = GLRM(A,losses,rx,ry,k) #, sparse_na=false"
   ]
  },
  {
   "cell_type": "code",
   "execution_count": 12,
   "metadata": {},
   "outputs": [
    {
     "ename": "UndefVarError",
     "evalue": "UndefVarError: glrm not defined",
     "output_type": "error",
     "traceback": [
      "UndefVarError: glrm not defined",
      "",
      "Stacktrace:",
      " [1] top-level scope at In[12]:1"
     ]
    }
   ],
   "source": [
    "init_kmeanspp!(glrm)"
   ]
  },
  {
   "cell_type": "markdown",
   "metadata": {},
   "source": [
    "# GLRM k-means loss function with positive weight hypertension"
   ]
  },
  {
   "cell_type": "code",
   "execution_count": null,
   "metadata": {},
   "outputs": [],
   "source": []
  }
 ],
 "metadata": {
  "kernelspec": {
   "display_name": "Julia 1.4.2",
   "language": "julia",
   "name": "julia-1.4"
  },
  "language_info": {
   "file_extension": ".jl",
   "mimetype": "application/julia",
   "name": "julia",
   "version": "1.4.2"
  }
 },
 "nbformat": 4,
 "nbformat_minor": 2
}
