{
 "cells": [
  {
   "cell_type": "code",
   "execution_count": 1,
   "metadata": {
    "scrolled": true
   },
   "outputs": [
    {
     "name": "stderr",
     "output_type": "stream",
     "text": [
      "┌ Info: Precompiling LowRankModels [15d4e49f-4837-5ea3-a885-5b28bfa376dc]\n",
      "└ @ Base loading.jl:1260\n"
     ]
    }
   ],
   "source": [
    "using LowRankModels\n",
    "using CSV\n",
    "using DataFrames\n",
    "using Pkg"
   ]
  },
  {
   "cell_type": "code",
   "execution_count": 35,
   "metadata": {},
   "outputs": [],
   "source": [
    "#Pkg.add(\"CSV\")"
   ]
  },
  {
   "cell_type": "code",
   "execution_count": 6,
   "metadata": {},
   "outputs": [
    {
     "name": "stdout",
     "output_type": "stream",
     "text": [
      "thread = 1 warning: only found 876 / 3314 columns on data row: 54. Filling remaining columns with `missing`\n"
     ]
    },
    {
     "data": {
      "text/html": [
       "<table class=\"data-frame\"><thead><tr><th></th><th>SUBJECT_ID</th><th>LOS</th><th>HOSPITALIZATION</th><th>ELECTIVE</th><th>EMERGENCY</th><th>NEWBORN</th><th>URGENT</th><th>Government</th></tr><tr><th></th><th>Int64</th><th>Float64</th><th>Int64</th><th>Int64</th><th>Int64</th><th>Int64</th><th>Int64</th><th>Int64</th></tr></thead><tbody><p>54 rows × 3,314 columns (omitted printing of 3306 columns)</p><tr><th>1</th><td>21280</td><td>207.131</td><td>8</td><td>0</td><td>1</td><td>0</td><td>0</td><td>0</td></tr><tr><th>2</th><td>19911</td><td>152.732</td><td>3</td><td>0</td><td>1</td><td>0</td><td>0</td><td>0</td></tr><tr><th>3</th><td>78076</td><td>134.16</td><td>5</td><td>1</td><td>1</td><td>0</td><td>0</td><td>0</td></tr><tr><th>4</th><td>22818</td><td>130.3</td><td>2</td><td>0</td><td>1</td><td>0</td><td>0</td><td>0</td></tr><tr><th>5</th><td>26519</td><td>128.96</td><td>4</td><td>0</td><td>1</td><td>0</td><td>0</td><td>0</td></tr><tr><th>6</th><td>2187</td><td>123.024</td><td>7</td><td>0</td><td>1</td><td>0</td><td>1</td><td>0</td></tr><tr><th>7</th><td>27427</td><td>118.817</td><td>5</td><td>0</td><td>1</td><td>0</td><td>0</td><td>0</td></tr><tr><th>8</th><td>2990</td><td>117.026</td><td>4</td><td>0</td><td>1</td><td>0</td><td>1</td><td>0</td></tr><tr><th>9</th><td>15716</td><td>112.922</td><td>5</td><td>0</td><td>1</td><td>0</td><td>0</td><td>0</td></tr><tr><th>10</th><td>3133</td><td>109.724</td><td>4</td><td>0</td><td>1</td><td>0</td><td>0</td><td>0</td></tr><tr><th>11</th><td>17488</td><td>109.338</td><td>2</td><td>0</td><td>1</td><td>0</td><td>0</td><td>0</td></tr><tr><th>12</th><td>18992</td><td>104.248</td><td>1</td><td>0</td><td>1</td><td>0</td><td>0</td><td>0</td></tr><tr><th>13</th><td>13033</td><td>98.2137</td><td>42</td><td>0</td><td>1</td><td>0</td><td>0</td><td>0</td></tr><tr><th>14</th><td>3386</td><td>97.9432</td><td>6</td><td>0</td><td>1</td><td>0</td><td>0</td><td>0</td></tr><tr><th>15</th><td>3868</td><td>95.7718</td><td>4</td><td>0</td><td>1</td><td>0</td><td>1</td><td>0</td></tr><tr><th>16</th><td>20181</td><td>95.6999</td><td>6</td><td>1</td><td>1</td><td>0</td><td>0</td><td>0</td></tr><tr><th>17</th><td>357</td><td>94.8967</td><td>5</td><td>0</td><td>1</td><td>0</td><td>0</td><td>0</td></tr><tr><th>18</th><td>29483</td><td>94.5503</td><td>5</td><td>0</td><td>1</td><td>0</td><td>0</td><td>0</td></tr><tr><th>19</th><td>69745</td><td>90.9013</td><td>4</td><td>0</td><td>1</td><td>0</td><td>0</td><td>0</td></tr><tr><th>20</th><td>49555</td><td>88.909</td><td>2</td><td>0</td><td>1</td><td>0</td><td>0</td><td>0</td></tr><tr><th>21</th><td>29035</td><td>88.3775</td><td>13</td><td>1</td><td>1</td><td>0</td><td>0</td><td>0</td></tr><tr><th>22</th><td>11318</td><td>87.1071</td><td>19</td><td>1</td><td>1</td><td>0</td><td>0</td><td>0</td></tr><tr><th>23</th><td>48872</td><td>86.9965</td><td>4</td><td>1</td><td>1</td><td>0</td><td>0</td><td>0</td></tr><tr><th>24</th><td>18982</td><td>84.9361</td><td>9</td><td>0</td><td>1</td><td>0</td><td>0</td><td>0</td></tr><tr><th>25</th><td>31260</td><td>83.8053</td><td>10</td><td>0</td><td>1</td><td>0</td><td>0</td><td>0</td></tr><tr><th>26</th><td>6145</td><td>82.618</td><td>2</td><td>1</td><td>1</td><td>0</td><td>0</td><td>0</td></tr><tr><th>27</th><td>26139</td><td>82.5228</td><td>5</td><td>0</td><td>1</td><td>0</td><td>0</td><td>0</td></tr><tr><th>28</th><td>12408</td><td>81.9177</td><td>2</td><td>0</td><td>1</td><td>0</td><td>0</td><td>0</td></tr><tr><th>29</th><td>27661</td><td>81.7402</td><td>4</td><td>0</td><td>1</td><td>0</td><td>0</td><td>0</td></tr><tr><th>30</th><td>7391</td><td>81.1493</td><td>4</td><td>1</td><td>1</td><td>0</td><td>0</td><td>0</td></tr><tr><th>&vellip;</th><td>&vellip;</td><td>&vellip;</td><td>&vellip;</td><td>&vellip;</td><td>&vellip;</td><td>&vellip;</td><td>&vellip;</td><td>&vellip;</td></tr></tbody></table>"
      ],
      "text/latex": [
       "\\begin{tabular}{r|ccccccccc}\n",
       "\t& SUBJECT\\_ID & LOS & HOSPITALIZATION & ELECTIVE & EMERGENCY & NEWBORN & URGENT & Government & \\\\\n",
       "\t\\hline\n",
       "\t& Int64 & Float64 & Int64 & Int64 & Int64 & Int64 & Int64 & Int64 & \\\\\n",
       "\t\\hline\n",
       "\t1 & 21280 & 207.131 & 8 & 0 & 1 & 0 & 0 & 0 & $\\dots$ \\\\\n",
       "\t2 & 19911 & 152.732 & 3 & 0 & 1 & 0 & 0 & 0 & $\\dots$ \\\\\n",
       "\t3 & 78076 & 134.16 & 5 & 1 & 1 & 0 & 0 & 0 & $\\dots$ \\\\\n",
       "\t4 & 22818 & 130.3 & 2 & 0 & 1 & 0 & 0 & 0 & $\\dots$ \\\\\n",
       "\t5 & 26519 & 128.96 & 4 & 0 & 1 & 0 & 0 & 0 & $\\dots$ \\\\\n",
       "\t6 & 2187 & 123.024 & 7 & 0 & 1 & 0 & 1 & 0 & $\\dots$ \\\\\n",
       "\t7 & 27427 & 118.817 & 5 & 0 & 1 & 0 & 0 & 0 & $\\dots$ \\\\\n",
       "\t8 & 2990 & 117.026 & 4 & 0 & 1 & 0 & 1 & 0 & $\\dots$ \\\\\n",
       "\t9 & 15716 & 112.922 & 5 & 0 & 1 & 0 & 0 & 0 & $\\dots$ \\\\\n",
       "\t10 & 3133 & 109.724 & 4 & 0 & 1 & 0 & 0 & 0 & $\\dots$ \\\\\n",
       "\t11 & 17488 & 109.338 & 2 & 0 & 1 & 0 & 0 & 0 & $\\dots$ \\\\\n",
       "\t12 & 18992 & 104.248 & 1 & 0 & 1 & 0 & 0 & 0 & $\\dots$ \\\\\n",
       "\t13 & 13033 & 98.2137 & 42 & 0 & 1 & 0 & 0 & 0 & $\\dots$ \\\\\n",
       "\t14 & 3386 & 97.9432 & 6 & 0 & 1 & 0 & 0 & 0 & $\\dots$ \\\\\n",
       "\t15 & 3868 & 95.7718 & 4 & 0 & 1 & 0 & 1 & 0 & $\\dots$ \\\\\n",
       "\t16 & 20181 & 95.6999 & 6 & 1 & 1 & 0 & 0 & 0 & $\\dots$ \\\\\n",
       "\t17 & 357 & 94.8967 & 5 & 0 & 1 & 0 & 0 & 0 & $\\dots$ \\\\\n",
       "\t18 & 29483 & 94.5503 & 5 & 0 & 1 & 0 & 0 & 0 & $\\dots$ \\\\\n",
       "\t19 & 69745 & 90.9013 & 4 & 0 & 1 & 0 & 0 & 0 & $\\dots$ \\\\\n",
       "\t20 & 49555 & 88.909 & 2 & 0 & 1 & 0 & 0 & 0 & $\\dots$ \\\\\n",
       "\t21 & 29035 & 88.3775 & 13 & 1 & 1 & 0 & 0 & 0 & $\\dots$ \\\\\n",
       "\t22 & 11318 & 87.1071 & 19 & 1 & 1 & 0 & 0 & 0 & $\\dots$ \\\\\n",
       "\t23 & 48872 & 86.9965 & 4 & 1 & 1 & 0 & 0 & 0 & $\\dots$ \\\\\n",
       "\t24 & 18982 & 84.9361 & 9 & 0 & 1 & 0 & 0 & 0 & $\\dots$ \\\\\n",
       "\t25 & 31260 & 83.8053 & 10 & 0 & 1 & 0 & 0 & 0 & $\\dots$ \\\\\n",
       "\t26 & 6145 & 82.618 & 2 & 1 & 1 & 0 & 0 & 0 & $\\dots$ \\\\\n",
       "\t27 & 26139 & 82.5228 & 5 & 0 & 1 & 0 & 0 & 0 & $\\dots$ \\\\\n",
       "\t28 & 12408 & 81.9177 & 2 & 0 & 1 & 0 & 0 & 0 & $\\dots$ \\\\\n",
       "\t29 & 27661 & 81.7402 & 4 & 0 & 1 & 0 & 0 & 0 & $\\dots$ \\\\\n",
       "\t30 & 7391 & 81.1493 & 4 & 1 & 1 & 0 & 0 & 0 & $\\dots$ \\\\\n",
       "\t$\\dots$ & $\\dots$ & $\\dots$ & $\\dots$ & $\\dots$ & $\\dots$ & $\\dots$ & $\\dots$ & $\\dots$ &  \\\\\n",
       "\\end{tabular}\n"
      ],
      "text/plain": [
       "54×3314 DataFrame. Omitted printing of 3309 columns\n",
       "│ Row │ SUBJECT_ID │ LOS     │ HOSPITALIZATION │ ELECTIVE │ EMERGENCY │\n",
       "│     │ \u001b[90mInt64\u001b[39m      │ \u001b[90mFloat64\u001b[39m │ \u001b[90mInt64\u001b[39m           │ \u001b[90mInt64\u001b[39m    │ \u001b[90mInt64\u001b[39m     │\n",
       "├─────┼────────────┼─────────┼─────────────────┼──────────┼───────────┤\n",
       "│ 1   │ 21280      │ 207.131 │ 8               │ 0        │ 1         │\n",
       "│ 2   │ 19911      │ 152.732 │ 3               │ 0        │ 1         │\n",
       "│ 3   │ 78076      │ 134.16  │ 5               │ 1        │ 1         │\n",
       "│ 4   │ 22818      │ 130.3   │ 2               │ 0        │ 1         │\n",
       "│ 5   │ 26519      │ 128.96  │ 4               │ 0        │ 1         │\n",
       "│ 6   │ 2187       │ 123.024 │ 7               │ 0        │ 1         │\n",
       "│ 7   │ 27427      │ 118.817 │ 5               │ 0        │ 1         │\n",
       "│ 8   │ 2990       │ 117.026 │ 4               │ 0        │ 1         │\n",
       "│ 9   │ 15716      │ 112.922 │ 5               │ 0        │ 1         │\n",
       "│ 10  │ 3133       │ 109.724 │ 4               │ 0        │ 1         │\n",
       "⋮\n",
       "│ 44  │ 8868       │ 68.9517 │ 1               │ 0        │ 1         │\n",
       "│ 45  │ 15769      │ 68.2428 │ 3               │ 1        │ 1         │\n",
       "│ 46  │ 15472      │ 67.9927 │ 12              │ 0        │ 1         │\n",
       "│ 47  │ 17497      │ 67.4594 │ 2               │ 0        │ 1         │\n",
       "│ 48  │ 65582      │ 67.2222 │ 5               │ 0        │ 1         │\n",
       "│ 49  │ 20643      │ 67.1683 │ 24              │ 0        │ 1         │\n",
       "│ 50  │ 13806      │ 67.0588 │ 3               │ 0        │ 1         │\n",
       "│ 51  │ 26688      │ 66.9522 │ 4               │ 0        │ 1         │\n",
       "│ 52  │ 711        │ 66.7403 │ 5               │ 0        │ 1         │\n",
       "│ 53  │ 8472       │ 66.4994 │ 3               │ 0        │ 1         │\n",
       "│ 54  │ 46205      │ 66.4248 │ 2               │ 0        │ 1         │"
      ]
     },
     "execution_count": 6,
     "metadata": {},
     "output_type": "execute_result"
    }
   ],
   "source": [
    "df = CSV.read(\"/Users/rayeliu/Desktop/mimic3-research/data/diabetes_matrix.csv\")"
   ]
  },
  {
   "cell_type": "code",
   "execution_count": 37,
   "metadata": {
    "scrolled": true
   },
   "outputs": [],
   "source": [
    "#df = DataFrame()\n",
    "#df = CSV.read(\"diabetesmatrix.csv\")"
   ]
  },
  {
   "cell_type": "code",
   "execution_count": 38,
   "metadata": {},
   "outputs": [],
   "source": [
    "#CSV.read(\"C:Users\\\\kathy908000\\\\github\\\\Health-Care-Research\\\\diabetesmatrix.csv\")\n",
    "#CSV.read(\"Users\\\\kathy908000\\\\github\\\\Health-Care-Research\\\\diabetesmatrix.csv\")"
   ]
  },
  {
   "cell_type": "markdown",
   "metadata": {},
   "source": [
    "# Fitting DataFrames"
   ]
  },
  {
   "cell_type": "code",
   "execution_count": 42,
   "metadata": {},
   "outputs": [],
   "source": [
    "#github example\n",
    "#import Pkg; Pkg.add(\"RDatasets\")"
   ]
  },
  {
   "cell_type": "code",
   "execution_count": 43,
   "metadata": {},
   "outputs": [
    {
     "data": {
      "text/html": [
       "<table class=\"data-frame\"><thead><tr><th></th><th>Active</th><th>Afraid</th><th>Alert</th><th>Angry</th><th>Anxious</th><th>Aroused</th><th>Ashamed</th><th>Astonished</th><th>AtEase</th><th>AtRest</th></tr><tr><th></th><th>Int32⍰</th><th>Int32⍰</th><th>Int32⍰</th><th>Int32⍰</th><th>Int32⍰</th><th>Int32⍰</th><th>Int32⍰</th><th>Int32⍰</th><th>Int32⍰</th><th>Int32⍰</th></tr></thead><tbody><p>3,896 rows × 92 columns (omitted printing of 82 columns)</p><tr><th>1</th><td>1</td><td>1</td><td>1</td><td>0</td><td>1</td><td>1</td><td>0</td><td>0</td><td>1</td><td>1</td></tr><tr><th>2</th><td>1</td><td>0</td><td>1</td><td>0</td><td>0</td><td>0</td><td>0</td><td>0</td><td>1</td><td>1</td></tr><tr><th>3</th><td>1</td><td>0</td><td>0</td><td>0</td><td>0</td><td>0</td><td>0</td><td>0</td><td>2</td><td>2</td></tr><tr><th>4</th><td>1</td><td>0</td><td>1</td><td>0</td><td>1</td><td>1</td><td>1</td><td>0</td><td>1</td><td>2</td></tr><tr><th>5</th><td>2</td><td>0</td><td>1</td><td>0</td><td>missing</td><td>2</td><td>0</td><td>3</td><td>3</td><td>1</td></tr><tr><th>6</th><td>2</td><td>0</td><td>1</td><td>0</td><td>missing</td><td>1</td><td>0</td><td>0</td><td>1</td><td>1</td></tr><tr><th>7</th><td>0</td><td>0</td><td>1</td><td>0</td><td>missing</td><td>0</td><td>0</td><td>0</td><td>1</td><td>1</td></tr><tr><th>8</th><td>0</td><td>0</td><td>0</td><td>0</td><td>missing</td><td>0</td><td>0</td><td>0</td><td>0</td><td>1</td></tr><tr><th>9</th><td>1</td><td>0</td><td>0</td><td>0</td><td>missing</td><td>1</td><td>0</td><td>0</td><td>2</td><td>0</td></tr><tr><th>10</th><td>0</td><td>0</td><td>2</td><td>0</td><td>missing</td><td>0</td><td>0</td><td>0</td><td>1</td><td>0</td></tr><tr><th>11</th><td>0</td><td>0</td><td>0</td><td>0</td><td>missing</td><td>0</td><td>0</td><td>0</td><td>2</td><td>0</td></tr><tr><th>12</th><td>1</td><td>0</td><td>1</td><td>0</td><td>missing</td><td>0</td><td>0</td><td>0</td><td>0</td><td>0</td></tr><tr><th>13</th><td>0</td><td>0</td><td>0</td><td>0</td><td>missing</td><td>0</td><td>0</td><td>0</td><td>0</td><td>0</td></tr><tr><th>14</th><td>2</td><td>0</td><td>1</td><td>0</td><td>missing</td><td>1</td><td>0</td><td>0</td><td>1</td><td>1</td></tr><tr><th>15</th><td>0</td><td>0</td><td>2</td><td>0</td><td>missing</td><td>0</td><td>0</td><td>0</td><td>3</td><td>3</td></tr><tr><th>16</th><td>0</td><td>0</td><td>0</td><td>0</td><td>missing</td><td>0</td><td>0</td><td>0</td><td>1</td><td>1</td></tr><tr><th>17</th><td>0</td><td>0</td><td>1</td><td>0</td><td>missing</td><td>1</td><td>0</td><td>0</td><td>1</td><td>1</td></tr><tr><th>18</th><td>3</td><td>0</td><td>2</td><td>0</td><td>missing</td><td>0</td><td>0</td><td>0</td><td>3</td><td>1</td></tr><tr><th>19</th><td>0</td><td>0</td><td>0</td><td>1</td><td>missing</td><td>0</td><td>0</td><td>0</td><td>0</td><td>0</td></tr><tr><th>20</th><td>0</td><td>0</td><td>1</td><td>0</td><td>missing</td><td>0</td><td>0</td><td>0</td><td>2</td><td>0</td></tr><tr><th>21</th><td>0</td><td>0</td><td>0</td><td>0</td><td>missing</td><td>0</td><td>0</td><td>0</td><td>1</td><td>0</td></tr><tr><th>22</th><td>0</td><td>0</td><td>0</td><td>0</td><td>missing</td><td>0</td><td>0</td><td>0</td><td>0</td><td>0</td></tr><tr><th>23</th><td>0</td><td>0</td><td>0</td><td>0</td><td>missing</td><td>1</td><td>0</td><td>0</td><td>2</td><td>2</td></tr><tr><th>24</th><td>2</td><td>0</td><td>2</td><td>0</td><td>missing</td><td>1</td><td>1</td><td>2</td><td>1</td><td>1</td></tr><tr><th>25</th><td>0</td><td>0</td><td>2</td><td>0</td><td>missing</td><td>0</td><td>0</td><td>0</td><td>2</td><td>1</td></tr><tr><th>26</th><td>0</td><td>0</td><td>0</td><td>0</td><td>missing</td><td>0</td><td>0</td><td>0</td><td>2</td><td>0</td></tr><tr><th>27</th><td>0</td><td>0</td><td>0</td><td>0</td><td>missing</td><td>0</td><td>1</td><td>0</td><td>1</td><td>3</td></tr><tr><th>28</th><td>2</td><td>0</td><td>2</td><td>0</td><td>missing</td><td>3</td><td>0</td><td>3</td><td>2</td><td>2</td></tr><tr><th>29</th><td>0</td><td>1</td><td>1</td><td>1</td><td>missing</td><td>0</td><td>1</td><td>0</td><td>1</td><td>0</td></tr><tr><th>30</th><td>0</td><td>0</td><td>0</td><td>0</td><td>missing</td><td>0</td><td>0</td><td>0</td><td>1</td><td>1</td></tr><tr><th>&vellip;</th><td>&vellip;</td><td>&vellip;</td><td>&vellip;</td><td>&vellip;</td><td>&vellip;</td><td>&vellip;</td><td>&vellip;</td><td>&vellip;</td><td>&vellip;</td><td>&vellip;</td></tr></tbody></table>"
      ],
      "text/latex": [
       "\\begin{tabular}{r|ccccccccccc}\n",
       "\t& Active & Afraid & Alert & Angry & Anxious & Aroused & Ashamed & Astonished & AtEase & AtRest & \\\\\n",
       "\t\\hline\n",
       "\t& Int32⍰ & Int32⍰ & Int32⍰ & Int32⍰ & Int32⍰ & Int32⍰ & Int32⍰ & Int32⍰ & Int32⍰ & Int32⍰ & \\\\\n",
       "\t\\hline\n",
       "\t1 & 1 & 1 & 1 & 0 & 1 & 1 & 0 & 0 & 1 & 1 & $\\dots$ \\\\\n",
       "\t2 & 1 & 0 & 1 & 0 & 0 & 0 & 0 & 0 & 1 & 1 & $\\dots$ \\\\\n",
       "\t3 & 1 & 0 & 0 & 0 & 0 & 0 & 0 & 0 & 2 & 2 & $\\dots$ \\\\\n",
       "\t4 & 1 & 0 & 1 & 0 & 1 & 1 & 1 & 0 & 1 & 2 & $\\dots$ \\\\\n",
       "\t5 & 2 & 0 & 1 & 0 &  & 2 & 0 & 3 & 3 & 1 & $\\dots$ \\\\\n",
       "\t6 & 2 & 0 & 1 & 0 &  & 1 & 0 & 0 & 1 & 1 & $\\dots$ \\\\\n",
       "\t7 & 0 & 0 & 1 & 0 &  & 0 & 0 & 0 & 1 & 1 & $\\dots$ \\\\\n",
       "\t8 & 0 & 0 & 0 & 0 &  & 0 & 0 & 0 & 0 & 1 & $\\dots$ \\\\\n",
       "\t9 & 1 & 0 & 0 & 0 &  & 1 & 0 & 0 & 2 & 0 & $\\dots$ \\\\\n",
       "\t10 & 0 & 0 & 2 & 0 &  & 0 & 0 & 0 & 1 & 0 & $\\dots$ \\\\\n",
       "\t11 & 0 & 0 & 0 & 0 &  & 0 & 0 & 0 & 2 & 0 & $\\dots$ \\\\\n",
       "\t12 & 1 & 0 & 1 & 0 &  & 0 & 0 & 0 & 0 & 0 & $\\dots$ \\\\\n",
       "\t13 & 0 & 0 & 0 & 0 &  & 0 & 0 & 0 & 0 & 0 & $\\dots$ \\\\\n",
       "\t14 & 2 & 0 & 1 & 0 &  & 1 & 0 & 0 & 1 & 1 & $\\dots$ \\\\\n",
       "\t15 & 0 & 0 & 2 & 0 &  & 0 & 0 & 0 & 3 & 3 & $\\dots$ \\\\\n",
       "\t16 & 0 & 0 & 0 & 0 &  & 0 & 0 & 0 & 1 & 1 & $\\dots$ \\\\\n",
       "\t17 & 0 & 0 & 1 & 0 &  & 1 & 0 & 0 & 1 & 1 & $\\dots$ \\\\\n",
       "\t18 & 3 & 0 & 2 & 0 &  & 0 & 0 & 0 & 3 & 1 & $\\dots$ \\\\\n",
       "\t19 & 0 & 0 & 0 & 1 &  & 0 & 0 & 0 & 0 & 0 & $\\dots$ \\\\\n",
       "\t20 & 0 & 0 & 1 & 0 &  & 0 & 0 & 0 & 2 & 0 & $\\dots$ \\\\\n",
       "\t21 & 0 & 0 & 0 & 0 &  & 0 & 0 & 0 & 1 & 0 & $\\dots$ \\\\\n",
       "\t22 & 0 & 0 & 0 & 0 &  & 0 & 0 & 0 & 0 & 0 & $\\dots$ \\\\\n",
       "\t23 & 0 & 0 & 0 & 0 &  & 1 & 0 & 0 & 2 & 2 & $\\dots$ \\\\\n",
       "\t24 & 2 & 0 & 2 & 0 &  & 1 & 1 & 2 & 1 & 1 & $\\dots$ \\\\\n",
       "\t25 & 0 & 0 & 2 & 0 &  & 0 & 0 & 0 & 2 & 1 & $\\dots$ \\\\\n",
       "\t26 & 0 & 0 & 0 & 0 &  & 0 & 0 & 0 & 2 & 0 & $\\dots$ \\\\\n",
       "\t27 & 0 & 0 & 0 & 0 &  & 0 & 1 & 0 & 1 & 3 & $\\dots$ \\\\\n",
       "\t28 & 2 & 0 & 2 & 0 &  & 3 & 0 & 3 & 2 & 2 & $\\dots$ \\\\\n",
       "\t29 & 0 & 1 & 1 & 1 &  & 0 & 1 & 0 & 1 & 0 & $\\dots$ \\\\\n",
       "\t30 & 0 & 0 & 0 & 0 &  & 0 & 0 & 0 & 1 & 1 & $\\dots$ \\\\\n",
       "\t$\\dots$ & $\\dots$ & $\\dots$ & $\\dots$ & $\\dots$ & $\\dots$ & $\\dots$ & $\\dots$ & $\\dots$ & $\\dots$ & $\\dots$ &  \\\\\n",
       "\\end{tabular}\n"
      ],
      "text/plain": [
       "3896×92 DataFrame. Omitted printing of 85 columns\n",
       "│ Row  │ Active  │ Afraid │ Alert  │ Angry  │ Anxious │ Aroused │ Ashamed │\n",
       "│      │ \u001b[90mInt32⍰\u001b[39m  │ \u001b[90mInt32⍰\u001b[39m │ \u001b[90mInt32⍰\u001b[39m │ \u001b[90mInt32⍰\u001b[39m │ \u001b[90mInt32⍰\u001b[39m  │ \u001b[90mInt32⍰\u001b[39m  │ \u001b[90mInt32⍰\u001b[39m  │\n",
       "├──────┼─────────┼────────┼────────┼────────┼─────────┼─────────┼─────────┤\n",
       "│ 1    │ 1       │ 1      │ 1      │ 0      │ 1       │ 1       │ 0       │\n",
       "│ 2    │ 1       │ 0      │ 1      │ 0      │ 0       │ 0       │ 0       │\n",
       "│ 3    │ 1       │ 0      │ 0      │ 0      │ 0       │ 0       │ 0       │\n",
       "│ 4    │ 1       │ 0      │ 1      │ 0      │ 1       │ 1       │ 1       │\n",
       "│ 5    │ 2       │ 0      │ 1      │ 0      │ \u001b[90mmissing\u001b[39m │ 2       │ 0       │\n",
       "│ 6    │ 2       │ 0      │ 1      │ 0      │ \u001b[90mmissing\u001b[39m │ 1       │ 0       │\n",
       "│ 7    │ 0       │ 0      │ 1      │ 0      │ \u001b[90mmissing\u001b[39m │ 0       │ 0       │\n",
       "│ 8    │ 0       │ 0      │ 0      │ 0      │ \u001b[90mmissing\u001b[39m │ 0       │ 0       │\n",
       "│ 9    │ 1       │ 0      │ 0      │ 0      │ \u001b[90mmissing\u001b[39m │ 1       │ 0       │\n",
       "│ 10   │ 0       │ 0      │ 2      │ 0      │ \u001b[90mmissing\u001b[39m │ 0       │ 0       │\n",
       "⋮\n",
       "│ 3886 │ 0       │ 0      │ 2      │ 0      │ 2       │ 0       │ 0       │\n",
       "│ 3887 │ 1       │ 0      │ 1      │ 1      │ 0       │ 0       │ 0       │\n",
       "│ 3888 │ \u001b[90mmissing\u001b[39m │ 0      │ 3      │ 0      │ 0       │ 2       │ 0       │\n",
       "│ 3889 │ 0       │ 0      │ 2      │ 0      │ 0       │ 0       │ 0       │\n",
       "│ 3890 │ 3       │ 0      │ 3      │ 0      │ 1       │ 2       │ 0       │\n",
       "│ 3891 │ 2       │ 0      │ 0      │ 0      │ 1       │ 0       │ 0       │\n",
       "│ 3892 │ 1       │ 0      │ 1      │ 0      │ 0       │ 0       │ 0       │\n",
       "│ 3893 │ 1       │ 0      │ 2      │ 0      │ 1       │ 0       │ 0       │\n",
       "│ 3894 │ 2       │ 0      │ 1      │ 0      │ 2       │ 1       │ 0       │\n",
       "│ 3895 │ 3       │ 0      │ 2      │ 0      │ 1       │ 3       │ 0       │\n",
       "│ 3896 │ 2       │ 0      │ 3      │ 0      │ 3       │ 2       │ 0       │"
      ]
     },
     "execution_count": 43,
     "metadata": {},
     "output_type": "execute_result"
    }
   ],
   "source": [
    "import RDatasets\n",
    "df = RDatasets.dataset(\"psych\", \"msq\")"
   ]
  },
  {
   "cell_type": "code",
   "execution_count": 44,
   "metadata": {},
   "outputs": [
    {
     "data": {
      "text/plain": [
       "(GLRM(3896×90 DataFrame. Omitted printing of 85 columns\n",
       "│ Row  │ Extraversion │ Neuroticism │ Lie      │ Sociability │ Impulsivity │\n",
       "│      │ \u001b[90mFloat64⍰\u001b[39m     │ \u001b[90mFloat64⍰\u001b[39m    │ \u001b[90mFloat64⍰\u001b[39m │ \u001b[90mFloat64⍰\u001b[39m    │ \u001b[90mFloat64⍰\u001b[39m    │\n",
       "├──────┼──────────────┼─────────────┼──────────┼─────────────┼─────────────┤\n",
       "│ 1    │ 9.0          │ 20.0        │ 1.0      │ 3.0         │ 4.0         │\n",
       "│ 2    │ 18.0         │ 8.0         │ 1.0      │ 11.0        │ 6.0         │\n",
       "│ 3    │ 15.0         │ 11.0        │ 3.0      │ 8.0         │ 5.0         │\n",
       "│ 4    │ 20.0         │ 20.0        │ 1.0      │ 12.0        │ 7.0         │\n",
       "│ 5    │ 13.0         │ 15.0        │ 4.0      │ 5.0         │ 7.0         │\n",
       "│ 6    │ 19.0         │ 15.0        │ 2.0      │ 10.0        │ 7.0         │\n",
       "│ 7    │ 11.0         │ 17.0        │ 4.0      │ 6.0         │ 4.0         │\n",
       "│ 8    │ 11.0         │ 4.0         │ 4.0      │ 8.0         │ 3.0         │\n",
       "│ 9    │ 11.0         │ 10.0        │ 0.0      │ 5.0         │ 5.0         │\n",
       "│ 10   │ 15.0         │ 11.0        │ 2.0      │ 9.0         │ 5.0         │\n",
       "⋮\n",
       "│ 3886 │ 16.0         │ 11.0        │ 1.0      │ 9.0         │ 5.0         │\n",
       "│ 3887 │ 16.0         │ 14.0        │ 4.0      │ 9.0         │ 4.0         │\n",
       "│ 3888 │ 16.0         │ 5.0         │ 1.0      │ 9.0         │ 4.0         │\n",
       "│ 3889 │ 12.0         │ 10.0        │ 2.0      │ 6.0         │ 4.0         │\n",
       "│ 3890 │ 12.0         │ 5.0         │ 2.0      │ 9.0         │ 2.0         │\n",
       "│ 3891 │ 11.0         │ 5.0         │ 6.0      │ 7.0         │ 3.0         │\n",
       "│ 3892 │ 14.0         │ 15.0        │ 2.0      │ 9.0         │ 5.0         │\n",
       "│ 3893 │ 11.0         │ 16.0        │ 3.0      │ 8.0         │ 2.0         │\n",
       "│ 3894 │ 15.0         │ 11.0        │ 3.0      │ 8.0         │ 6.0         │\n",
       "│ 3895 │ 9.0          │ 4.0         │ 1.0      │ 6.0         │ 1.0         │\n",
       "│ 3896 │ 11.0         │ 7.0         │ 3.0      │ 5.0         │ 4.0         │, Loss[HuberLoss(0.15203745827763837, RealDomain(), 1.0), HuberLoss(0.12367431624635414, RealDomain(), 1.0), HuberLoss(0.42804450782584197, RealDomain(), 1.0), HuberLoss(0.22371621971348218, RealDomain(), 1.0), HuberLoss(0.32713156912147096, RealDomain(), 1.0), HuberLoss(0.0039014745490872794, RealDomain(), 1.0), HuberLoss(0.1317569995813003, RealDomain(), 1.0), HuberLoss(0.13174602208191863, RealDomain(), 1.0), HuberLoss(0.06408056996387268, RealDomain(), 1.0), MultinomialOrdinalLoss(3, 1.0, OrdinalDomain(1, 3))  …  MultinomialOrdinalLoss(3, 1.0, OrdinalDomain(1, 3)), MultinomialOrdinalLoss(3, 1.0, OrdinalDomain(1, 3)), MultinomialOrdinalLoss(3, 1.0, OrdinalDomain(1, 3)), MultinomialOrdinalLoss(3, 1.0, OrdinalDomain(1, 3)), MultinomialOrdinalLoss(30, 1.0, OrdinalDomain(1, 30)), MultinomialOrdinalLoss(33, 1.0, OrdinalDomain(1, 33)), MultinomialOrdinalLoss(30, 1.0, OrdinalDomain(1, 30)), MultinomialOrdinalLoss(28, 1.0, OrdinalDomain(1, 28)), MultinomialOrdinalLoss(23, 1.0, OrdinalDomain(1, 23)), MultinomialOrdinalLoss(5, 1.0, OrdinalDomain(1, 5))], Regularizer[lastentry1(QuadReg(0.01)), lastentry1(QuadReg(0.01)), lastentry1(QuadReg(0.01)), lastentry1(QuadReg(0.01)), lastentry1(QuadReg(0.01)), lastentry1(QuadReg(0.01)), lastentry1(QuadReg(0.01)), lastentry1(QuadReg(0.01)), lastentry1(QuadReg(0.01)), lastentry1(QuadReg(0.01))  …  lastentry1(QuadReg(0.01)), lastentry1(QuadReg(0.01)), lastentry1(QuadReg(0.01)), lastentry1(QuadReg(0.01)), lastentry1(QuadReg(0.01)), lastentry1(QuadReg(0.01)), lastentry1(QuadReg(0.01)), lastentry1(QuadReg(0.01)), lastentry1(QuadReg(0.01)), lastentry1(QuadReg(0.01))], Regularizer[lastentry_unpenalized(QuadReg(0.01)), lastentry_unpenalized(QuadReg(0.01)), lastentry_unpenalized(QuadReg(0.01)), lastentry_unpenalized(QuadReg(0.01)), lastentry_unpenalized(QuadReg(0.01)), lastentry_unpenalized(QuadReg(0.01)), lastentry_unpenalized(QuadReg(0.01)), lastentry_unpenalized(QuadReg(0.01)), lastentry_unpenalized(QuadReg(0.01)), OrdinalReg(QuadReg(0.01))  …  OrdinalReg(QuadReg(0.01)), OrdinalReg(QuadReg(0.01)), OrdinalReg(QuadReg(0.01)), OrdinalReg(QuadReg(0.01)), OrdinalReg(QuadReg(0.01)), OrdinalReg(QuadReg(0.01)), OrdinalReg(QuadReg(0.01)), OrdinalReg(QuadReg(0.01)), OrdinalReg(QuadReg(0.01)), OrdinalReg(QuadReg(0.01))], 2, [[1, 2, 3, 4, 5, 6, 7, 8, 10, 11  …  78, 79, 80, 81, 85, 86, 87, 88, 89, 90], [1, 2, 3, 4, 5, 6, 7, 8, 10, 11  …  78, 79, 80, 81, 85, 86, 87, 88, 89, 90], [1, 2, 3, 4, 5, 6, 7, 8, 10, 11  …  78, 79, 80, 81, 85, 86, 87, 88, 89, 90], [1, 2, 3, 4, 5, 6, 10, 11, 12, 13  …  73, 74, 75, 76, 77, 78, 79, 80, 81, 90], [1, 2, 3, 4, 5, 6, 7, 8, 9, 10  …  81, 82, 83, 84, 85, 86, 87, 88, 89, 90], [1, 2, 3, 4, 5, 6, 7, 8, 9, 10  …  81, 82, 83, 84, 85, 86, 87, 88, 89, 90], [1, 2, 3, 4, 5, 6, 7, 8, 9, 10  …  81, 82, 83, 84, 85, 86, 87, 88, 89, 90], [1, 2, 3, 4, 5, 6, 7, 8, 9, 10  …  81, 82, 83, 84, 85, 86, 87, 88, 89, 90], [1, 2, 3, 4, 5, 6, 7, 8, 9, 10  …  81, 82, 83, 84, 85, 86, 87, 88, 89, 90], [1, 2, 3, 4, 5, 6, 7, 8, 9, 10  …  81, 82, 83, 84, 85, 86, 87, 88, 89, 90]  …  [1, 2, 3, 4, 5, 6, 7, 8, 10, 11  …  73, 74, 75, 76, 77, 78, 79, 80, 81, 90], [1, 2, 3, 4, 5, 6, 7, 8, 11, 12  …  73, 74, 75, 76, 77, 78, 79, 80, 81, 90], [1, 2, 3, 4, 5, 6, 7, 8, 10, 11  …  73, 74, 75, 76, 77, 78, 79, 80, 81, 90], [1, 2, 3, 4, 5, 6, 7, 8, 10, 11  …  73, 74, 75, 76, 77, 78, 79, 80, 81, 90], [1, 2, 3, 4, 5, 6, 7, 8, 10, 11  …  72, 74, 75, 76, 77, 78, 79, 80, 81, 90], [1, 2, 3, 4, 5, 6, 7, 8, 10, 11  …  73, 74, 75, 76, 77, 78, 79, 80, 81, 90], [1, 2, 3, 4, 5, 6, 7, 8, 10, 11  …  73, 74, 75, 76, 77, 78, 79, 80, 81, 90], [1, 2, 3, 4, 5, 6, 7, 8, 10, 11  …  73, 74, 75, 76, 77, 78, 79, 80, 81, 90], [1, 2, 3, 4, 5, 6, 7, 8, 10, 11  …  73, 74, 75, 76, 77, 78, 79, 80, 81, 90], [1, 2, 3, 4, 5, 6, 7, 8, 10, 11  …  73, 74, 75, 76, 77, 78, 79, 80, 81, 90]], [[1, 2, 3, 4, 5, 6, 7, 8, 9, 10  …  3887, 3888, 3889, 3890, 3891, 3892, 3893, 3894, 3895, 3896], [1, 2, 3, 4, 5, 6, 7, 8, 9, 10  …  3887, 3888, 3889, 3890, 3891, 3892, 3893, 3894, 3895, 3896], [1, 2, 3, 4, 5, 6, 7, 8, 9, 10  …  3887, 3888, 3889, 3890, 3891, 3892, 3893, 3894, 3895, 3896], [1, 2, 3, 4, 5, 6, 7, 8, 9, 10  …  3887, 3888, 3889, 3890, 3891, 3892, 3893, 3894, 3895, 3896], [1, 2, 3, 4, 5, 6, 7, 8, 9, 10  …  3887, 3888, 3889, 3890, 3891, 3892, 3893, 3894, 3895, 3896], [1, 2, 3, 4, 5, 6, 7, 8, 9, 10  …  3887, 3888, 3889, 3890, 3891, 3892, 3893, 3894, 3895, 3896], [1, 2, 3, 5, 6, 7, 8, 9, 10, 11  …  3887, 3888, 3889, 3890, 3891, 3892, 3893, 3894, 3895, 3896], [1, 2, 3, 5, 6, 7, 8, 9, 10, 11  …  3887, 3888, 3889, 3890, 3891, 3892, 3893, 3894, 3895, 3896], [5, 6, 7, 8, 9, 10, 11, 12, 13, 14  …  2789, 2790, 2791, 2792, 2793, 2794, 2795, 2796, 2797, 2798], [1, 2, 3, 4, 5, 6, 7, 8, 9, 10  …  3886, 3887, 3889, 3890, 3891, 3892, 3893, 3894, 3895, 3896]  …  [1, 2, 3, 4, 5, 6, 7, 8, 9, 10  …  3887, 3888, 3889, 3890, 3891, 3892, 3893, 3894, 3895, 3896], [5, 6, 7, 8, 9, 10, 11, 12, 13, 14  …  3408, 3409, 3410, 3411, 3412, 3413, 3414, 3415, 3416, 3417], [5, 6, 7, 8, 9, 10, 11, 12, 13, 14  …  3408, 3409, 3410, 3411, 3412, 3413, 3414, 3415, 3416, 3417], [5, 6, 7, 8, 9, 10, 11, 12, 13, 14  …  3408, 3409, 3410, 3411, 3412, 3413, 3414, 3415, 3416, 3417], [1, 2, 3, 5, 6, 7, 8, 9, 10, 11  …  3746, 3747, 3748, 3749, 3750, 3751, 3752, 3753, 3754, 3756], [1, 2, 3, 5, 6, 7, 8, 9, 10, 11  …  3747, 3748, 3749, 3750, 3751, 3752, 3753, 3754, 3755, 3756], [1, 2, 3, 5, 6, 7, 8, 9, 10, 11  …  3746, 3747, 3748, 3750, 3751, 3752, 3753, 3754, 3755, 3756], [1, 2, 3, 5, 6, 7, 8, 9, 10, 11  …  3747, 3748, 3749, 3750, 3751, 3752, 3753, 3754, 3755, 3756], [1, 2, 3, 5, 6, 7, 8, 9, 10, 11  …  2789, 2790, 2791, 2792, 2793, 2794, 2795, 2796, 2797, 2798], [1, 2, 3, 4, 5, 6, 7, 8, 9, 10  …  3887, 3888, 3889, 3890, 3891, 3892, 3893, 3894, 3895, 3896]], [-0.28479747956626744 0.8594169877566468 … 1.8857313175486556 -0.9723980463327718; -0.010356991635627621 0.041871934678068254 … 0.5272103994641177 1.0992395973025382], [-0.723242371567998 2.0338218881910497 … 1.6334680535292443 -1.7202136776722117; -0.05706747382837223 -0.8929419946536473 … 0.535426348955735 -0.11901856456693669]), [:Extraversion, :Neuroticism, :Lie, :Sociability, :Impulsivity, :ID, :MSQTime, :TOD, :TOD24, :Active  …  :WideAwake, :Alone, :Kindly, :Scornful, :EA, :TA, :PA, :NegAff, :MSQRound, :Condition])"
      ]
     },
     "execution_count": 44,
     "metadata": {},
     "output_type": "execute_result"
    }
   ],
   "source": [
    "glrm, labels = GLRM(df, k)"
   ]
  },
  {
   "cell_type": "code",
   "execution_count": 45,
   "metadata": {},
   "outputs": [
    {
     "name": "stdout",
     "output_type": "stream",
     "text": [
      "Fitting GLRM\n"
     ]
    },
    {
     "ename": "MethodError",
     "evalue": "MethodError: no method matching evaluate(::MultinomialOrdinalLoss, ::Array{Float64,1}, ::Int32)\nClosest candidates are:\n  evaluate(::MultinomialOrdinalLoss, ::Array{Float64,1}, !Matched::Int64) at /Users/kathy908000/.julia/packages/LowRankModels/u9DCY/src/losses.jl:597\n  evaluate(::Loss, ::Array{Float64,1}, !Matched::AbstractArray{T,1} where T) at /Users/kathy908000/.julia/packages/LowRankModels/u9DCY/src/losses.jl:640\n  evaluate(!Matched::MultinomialLoss, ::Array{Float64,1}, !Matched::Int64) at /Users/kathy908000/.julia/packages/LowRankModels/u9DCY/src/losses.jl:373\n  ...",
     "output_type": "error",
     "traceback": [
      "MethodError: no method matching evaluate(::MultinomialOrdinalLoss, ::Array{Float64,1}, ::Int32)\nClosest candidates are:\n  evaluate(::MultinomialOrdinalLoss, ::Array{Float64,1}, !Matched::Int64) at /Users/kathy908000/.julia/packages/LowRankModels/u9DCY/src/losses.jl:597\n  evaluate(::Loss, ::Array{Float64,1}, !Matched::AbstractArray{T,1} where T) at /Users/kathy908000/.julia/packages/LowRankModels/u9DCY/src/losses.jl:640\n  evaluate(!Matched::MultinomialLoss, ::Array{Float64,1}, !Matched::Int64) at /Users/kathy908000/.julia/packages/LowRankModels/u9DCY/src/losses.jl:373\n  ...",
      "",
      "Stacktrace:",
      " [1] objective(::GLRM, ::Array{Float64,2}, ::Array{Float64,2}, ::Array{Float64,2}; yidxs::Array{Union{UnitRange{Int64}, Int64},1}, include_regularization::Bool) at /Users/kathy908000/.julia/packages/LowRankModels/u9DCY/src/evaluate_fit.jl:15",
      " [2] fit!(::GLRM, ::ProxGradParams; ch::ConvergenceHistory, verbose::Bool, kwargs::Base.Iterators.Pairs{Union{},Union{},Tuple{},NamedTuple{(),Tuple{}}}) at /Users/kathy908000/.julia/packages/LowRankModels/u9DCY/src/algorithms/proxgrad.jl:76",
      " [3] fit! at /Users/kathy908000/.julia/packages/LowRankModels/u9DCY/src/algorithms/proxgrad.jl:39 [inlined]",
      " [4] #fit!#63 at /Users/kathy908000/.julia/packages/LowRankModels/u9DCY/src/fit.jl:18 [inlined]",
      " [5] fit!(::GLRM) at /Users/kathy908000/.julia/packages/LowRankModels/u9DCY/src/fit.jl:9",
      " [6] top-level scope at In[45]:1"
     ]
    }
   ],
   "source": [
    "X, Y, ch = fit!(glrm)"
   ]
  },
  {
   "cell_type": "markdown",
   "metadata": {},
   "source": [
    "# Fitting Diabetes Matrix"
   ]
  },
  {
   "cell_type": "code",
   "execution_count": null,
   "metadata": {},
   "outputs": [],
   "source": [
    "#Attempt1"
   ]
  },
  {
   "cell_type": "code",
   "execution_count": 54,
   "metadata": {},
   "outputs": [
    {
     "name": "stdout",
     "output_type": "stream",
     "text": [
      "Fitting GLRM\n"
     ]
    },
    {
     "ename": "MethodError",
     "evalue": "MethodError: no method matching evaluate(::MultinomialOrdinalLoss, ::Array{Float64,1}, ::Int32)\nClosest candidates are:\n  evaluate(::MultinomialOrdinalLoss, ::Array{Float64,1}, !Matched::Int64) at /Users/kathy908000/.julia/packages/LowRankModels/u9DCY/src/losses.jl:597\n  evaluate(::Loss, ::Array{Float64,1}, !Matched::AbstractArray{T,1} where T) at /Users/kathy908000/.julia/packages/LowRankModels/u9DCY/src/losses.jl:640\n  evaluate(!Matched::MultinomialLoss, ::Array{Float64,1}, !Matched::Int64) at /Users/kathy908000/.julia/packages/LowRankModels/u9DCY/src/losses.jl:373\n  ...",
     "output_type": "error",
     "traceback": [
      "MethodError: no method matching evaluate(::MultinomialOrdinalLoss, ::Array{Float64,1}, ::Int32)\nClosest candidates are:\n  evaluate(::MultinomialOrdinalLoss, ::Array{Float64,1}, !Matched::Int64) at /Users/kathy908000/.julia/packages/LowRankModels/u9DCY/src/losses.jl:597\n  evaluate(::Loss, ::Array{Float64,1}, !Matched::AbstractArray{T,1} where T) at /Users/kathy908000/.julia/packages/LowRankModels/u9DCY/src/losses.jl:640\n  evaluate(!Matched::MultinomialLoss, ::Array{Float64,1}, !Matched::Int64) at /Users/kathy908000/.julia/packages/LowRankModels/u9DCY/src/losses.jl:373\n  ...",
      "",
      "Stacktrace:",
      " [1] objective(::GLRM, ::Array{Float64,2}, ::Array{Float64,2}, ::Array{Float64,2}; yidxs::Array{Union{UnitRange{Int64}, Int64},1}, include_regularization::Bool) at /Users/kathy908000/.julia/packages/LowRankModels/u9DCY/src/evaluate_fit.jl:15",
      " [2] fit!(::GLRM, ::ProxGradParams; ch::ConvergenceHistory, verbose::Bool, kwargs::Base.Iterators.Pairs{Union{},Union{},Tuple{},NamedTuple{(),Tuple{}}}) at /Users/kathy908000/.julia/packages/LowRankModels/u9DCY/src/algorithms/proxgrad.jl:76",
      " [3] fit! at /Users/kathy908000/.julia/packages/LowRankModels/u9DCY/src/algorithms/proxgrad.jl:39 [inlined]",
      " [4] #fit!#63 at /Users/kathy908000/.julia/packages/LowRankModels/u9DCY/src/fit.jl:18 [inlined]",
      " [5] fit!(::GLRM) at /Users/kathy908000/.julia/packages/LowRankModels/u9DCY/src/fit.jl:9",
      " [6] top-level scope at In[54]:3"
     ]
    }
   ],
   "source": [
    "k=2\n",
    "glrm, labels = GLRM(df, k)\n",
    "X, Y, ch = fit!(glrm)"
   ]
  },
  {
   "cell_type": "code",
   "execution_count": null,
   "metadata": {},
   "outputs": [],
   "source": []
  },
  {
   "cell_type": "code",
   "execution_count": null,
   "metadata": {},
   "outputs": [],
   "source": [
    "#Attempt2"
   ]
  },
  {
   "cell_type": "code",
   "execution_count": 55,
   "metadata": {},
   "outputs": [
    {
     "data": {
      "text/plain": [
       "2"
      ]
     },
     "execution_count": 55,
     "metadata": {},
     "output_type": "execute_result"
    }
   ],
   "source": [
    "k=2\n"
   ]
  },
  {
   "cell_type": "code",
   "execution_count": 56,
   "metadata": {},
   "outputs": [
    {
     "ename": "LoadError",
     "evalue": "syntax: incomplete: premature end of input",
     "output_type": "error",
     "traceback": [
      "syntax: incomplete: premature end of input",
      ""
     ]
    }
   ],
   "source": [
    "probabilistic_losses = Dict{Symbol, Any}(\n",
    "    :real        => HingeLoss,\n",
    "    :bool        => HingeLoss,\n",
    "    :ord         => HingeLoss,\n",
    "    :cat         => HingeLoss"
   ]
  },
  {
   "cell_type": "code",
   "execution_count": 57,
   "metadata": {},
   "outputs": [
    {
     "ename": "LoadError",
     "evalue": "syntax: incomplete: premature end of input",
     "output_type": "error",
     "traceback": [
      "syntax: incomplete: premature end of input",
      ""
     ]
    }
   ],
   "source": [
    "function GLRM(df::DataFrame, k::Int, datatypes::Array{Symbol,1};\n",
    "              loss_map = probabilistic_losses,\n",
    "              rx = QuadReg(.01), ry = QuadReg(.01),\n",
    "              offset = true, scale = false, prob_scale = true,\n",
    "              transform_data_to_numbers = true, NaNs_to_NAs = true)"
   ]
  },
  {
   "cell_type": "code",
   "execution_count": 58,
   "metadata": {},
   "outputs": [
    {
     "data": {
      "text/plain": [
       "(GLRM(3896×90 DataFrame. Omitted printing of 85 columns\n",
       "│ Row  │ Extraversion │ Neuroticism │ Lie      │ Sociability │ Impulsivity │\n",
       "│      │ \u001b[90mFloat64⍰\u001b[39m     │ \u001b[90mFloat64⍰\u001b[39m    │ \u001b[90mFloat64⍰\u001b[39m │ \u001b[90mFloat64⍰\u001b[39m    │ \u001b[90mFloat64⍰\u001b[39m    │\n",
       "├──────┼──────────────┼─────────────┼──────────┼─────────────┼─────────────┤\n",
       "│ 1    │ 9.0          │ 20.0        │ 1.0      │ 3.0         │ 4.0         │\n",
       "│ 2    │ 18.0         │ 8.0         │ 1.0      │ 11.0        │ 6.0         │\n",
       "│ 3    │ 15.0         │ 11.0        │ 3.0      │ 8.0         │ 5.0         │\n",
       "│ 4    │ 20.0         │ 20.0        │ 1.0      │ 12.0        │ 7.0         │\n",
       "│ 5    │ 13.0         │ 15.0        │ 4.0      │ 5.0         │ 7.0         │\n",
       "│ 6    │ 19.0         │ 15.0        │ 2.0      │ 10.0        │ 7.0         │\n",
       "│ 7    │ 11.0         │ 17.0        │ 4.0      │ 6.0         │ 4.0         │\n",
       "│ 8    │ 11.0         │ 4.0         │ 4.0      │ 8.0         │ 3.0         │\n",
       "│ 9    │ 11.0         │ 10.0        │ 0.0      │ 5.0         │ 5.0         │\n",
       "│ 10   │ 15.0         │ 11.0        │ 2.0      │ 9.0         │ 5.0         │\n",
       "⋮\n",
       "│ 3886 │ 16.0         │ 11.0        │ 1.0      │ 9.0         │ 5.0         │\n",
       "│ 3887 │ 16.0         │ 14.0        │ 4.0      │ 9.0         │ 4.0         │\n",
       "│ 3888 │ 16.0         │ 5.0         │ 1.0      │ 9.0         │ 4.0         │\n",
       "│ 3889 │ 12.0         │ 10.0        │ 2.0      │ 6.0         │ 4.0         │\n",
       "│ 3890 │ 12.0         │ 5.0         │ 2.0      │ 9.0         │ 2.0         │\n",
       "│ 3891 │ 11.0         │ 5.0         │ 6.0      │ 7.0         │ 3.0         │\n",
       "│ 3892 │ 14.0         │ 15.0        │ 2.0      │ 9.0         │ 5.0         │\n",
       "│ 3893 │ 11.0         │ 16.0        │ 3.0      │ 8.0         │ 2.0         │\n",
       "│ 3894 │ 15.0         │ 11.0        │ 3.0      │ 8.0         │ 6.0         │\n",
       "│ 3895 │ 9.0          │ 4.0         │ 1.0      │ 6.0         │ 1.0         │\n",
       "│ 3896 │ 11.0         │ 7.0         │ 3.0      │ 5.0         │ 4.0         │, Loss[HuberLoss(0.15203745827763837, RealDomain(), 1.0), HuberLoss(0.12367431624635414, RealDomain(), 1.0), HuberLoss(0.42804450782584197, RealDomain(), 1.0), HuberLoss(0.22371621971348218, RealDomain(), 1.0), HuberLoss(0.32713156912147096, RealDomain(), 1.0), HuberLoss(0.0039014745490872794, RealDomain(), 1.0), HuberLoss(0.1317569995813003, RealDomain(), 1.0), HuberLoss(0.13174602208191863, RealDomain(), 1.0), HuberLoss(0.06408056996387268, RealDomain(), 1.0), MultinomialOrdinalLoss(3, 1.0, OrdinalDomain(1, 3))  …  MultinomialOrdinalLoss(3, 1.0, OrdinalDomain(1, 3)), MultinomialOrdinalLoss(3, 1.0, OrdinalDomain(1, 3)), MultinomialOrdinalLoss(3, 1.0, OrdinalDomain(1, 3)), MultinomialOrdinalLoss(3, 1.0, OrdinalDomain(1, 3)), MultinomialOrdinalLoss(30, 1.0, OrdinalDomain(1, 30)), MultinomialOrdinalLoss(33, 1.0, OrdinalDomain(1, 33)), MultinomialOrdinalLoss(30, 1.0, OrdinalDomain(1, 30)), MultinomialOrdinalLoss(28, 1.0, OrdinalDomain(1, 28)), MultinomialOrdinalLoss(23, 1.0, OrdinalDomain(1, 23)), MultinomialOrdinalLoss(5, 1.0, OrdinalDomain(1, 5))], Regularizer[lastentry1(QuadReg(0.01)), lastentry1(QuadReg(0.01)), lastentry1(QuadReg(0.01)), lastentry1(QuadReg(0.01)), lastentry1(QuadReg(0.01)), lastentry1(QuadReg(0.01)), lastentry1(QuadReg(0.01)), lastentry1(QuadReg(0.01)), lastentry1(QuadReg(0.01)), lastentry1(QuadReg(0.01))  …  lastentry1(QuadReg(0.01)), lastentry1(QuadReg(0.01)), lastentry1(QuadReg(0.01)), lastentry1(QuadReg(0.01)), lastentry1(QuadReg(0.01)), lastentry1(QuadReg(0.01)), lastentry1(QuadReg(0.01)), lastentry1(QuadReg(0.01)), lastentry1(QuadReg(0.01)), lastentry1(QuadReg(0.01))], Regularizer[lastentry_unpenalized(QuadReg(0.01)), lastentry_unpenalized(QuadReg(0.01)), lastentry_unpenalized(QuadReg(0.01)), lastentry_unpenalized(QuadReg(0.01)), lastentry_unpenalized(QuadReg(0.01)), lastentry_unpenalized(QuadReg(0.01)), lastentry_unpenalized(QuadReg(0.01)), lastentry_unpenalized(QuadReg(0.01)), lastentry_unpenalized(QuadReg(0.01)), OrdinalReg(QuadReg(0.01))  …  OrdinalReg(QuadReg(0.01)), OrdinalReg(QuadReg(0.01)), OrdinalReg(QuadReg(0.01)), OrdinalReg(QuadReg(0.01)), OrdinalReg(QuadReg(0.01)), OrdinalReg(QuadReg(0.01)), OrdinalReg(QuadReg(0.01)), OrdinalReg(QuadReg(0.01)), OrdinalReg(QuadReg(0.01)), OrdinalReg(QuadReg(0.01))], 2, [[1, 2, 3, 4, 5, 6, 7, 8, 10, 11  …  78, 79, 80, 81, 85, 86, 87, 88, 89, 90], [1, 2, 3, 4, 5, 6, 7, 8, 10, 11  …  78, 79, 80, 81, 85, 86, 87, 88, 89, 90], [1, 2, 3, 4, 5, 6, 7, 8, 10, 11  …  78, 79, 80, 81, 85, 86, 87, 88, 89, 90], [1, 2, 3, 4, 5, 6, 10, 11, 12, 13  …  73, 74, 75, 76, 77, 78, 79, 80, 81, 90], [1, 2, 3, 4, 5, 6, 7, 8, 9, 10  …  81, 82, 83, 84, 85, 86, 87, 88, 89, 90], [1, 2, 3, 4, 5, 6, 7, 8, 9, 10  …  81, 82, 83, 84, 85, 86, 87, 88, 89, 90], [1, 2, 3, 4, 5, 6, 7, 8, 9, 10  …  81, 82, 83, 84, 85, 86, 87, 88, 89, 90], [1, 2, 3, 4, 5, 6, 7, 8, 9, 10  …  81, 82, 83, 84, 85, 86, 87, 88, 89, 90], [1, 2, 3, 4, 5, 6, 7, 8, 9, 10  …  81, 82, 83, 84, 85, 86, 87, 88, 89, 90], [1, 2, 3, 4, 5, 6, 7, 8, 9, 10  …  81, 82, 83, 84, 85, 86, 87, 88, 89, 90]  …  [1, 2, 3, 4, 5, 6, 7, 8, 10, 11  …  73, 74, 75, 76, 77, 78, 79, 80, 81, 90], [1, 2, 3, 4, 5, 6, 7, 8, 11, 12  …  73, 74, 75, 76, 77, 78, 79, 80, 81, 90], [1, 2, 3, 4, 5, 6, 7, 8, 10, 11  …  73, 74, 75, 76, 77, 78, 79, 80, 81, 90], [1, 2, 3, 4, 5, 6, 7, 8, 10, 11  …  73, 74, 75, 76, 77, 78, 79, 80, 81, 90], [1, 2, 3, 4, 5, 6, 7, 8, 10, 11  …  72, 74, 75, 76, 77, 78, 79, 80, 81, 90], [1, 2, 3, 4, 5, 6, 7, 8, 10, 11  …  73, 74, 75, 76, 77, 78, 79, 80, 81, 90], [1, 2, 3, 4, 5, 6, 7, 8, 10, 11  …  73, 74, 75, 76, 77, 78, 79, 80, 81, 90], [1, 2, 3, 4, 5, 6, 7, 8, 10, 11  …  73, 74, 75, 76, 77, 78, 79, 80, 81, 90], [1, 2, 3, 4, 5, 6, 7, 8, 10, 11  …  73, 74, 75, 76, 77, 78, 79, 80, 81, 90], [1, 2, 3, 4, 5, 6, 7, 8, 10, 11  …  73, 74, 75, 76, 77, 78, 79, 80, 81, 90]], [[1, 2, 3, 4, 5, 6, 7, 8, 9, 10  …  3887, 3888, 3889, 3890, 3891, 3892, 3893, 3894, 3895, 3896], [1, 2, 3, 4, 5, 6, 7, 8, 9, 10  …  3887, 3888, 3889, 3890, 3891, 3892, 3893, 3894, 3895, 3896], [1, 2, 3, 4, 5, 6, 7, 8, 9, 10  …  3887, 3888, 3889, 3890, 3891, 3892, 3893, 3894, 3895, 3896], [1, 2, 3, 4, 5, 6, 7, 8, 9, 10  …  3887, 3888, 3889, 3890, 3891, 3892, 3893, 3894, 3895, 3896], [1, 2, 3, 4, 5, 6, 7, 8, 9, 10  …  3887, 3888, 3889, 3890, 3891, 3892, 3893, 3894, 3895, 3896], [1, 2, 3, 4, 5, 6, 7, 8, 9, 10  …  3887, 3888, 3889, 3890, 3891, 3892, 3893, 3894, 3895, 3896], [1, 2, 3, 5, 6, 7, 8, 9, 10, 11  …  3887, 3888, 3889, 3890, 3891, 3892, 3893, 3894, 3895, 3896], [1, 2, 3, 5, 6, 7, 8, 9, 10, 11  …  3887, 3888, 3889, 3890, 3891, 3892, 3893, 3894, 3895, 3896], [5, 6, 7, 8, 9, 10, 11, 12, 13, 14  …  2789, 2790, 2791, 2792, 2793, 2794, 2795, 2796, 2797, 2798], [1, 2, 3, 4, 5, 6, 7, 8, 9, 10  …  3886, 3887, 3889, 3890, 3891, 3892, 3893, 3894, 3895, 3896]  …  [1, 2, 3, 4, 5, 6, 7, 8, 9, 10  …  3887, 3888, 3889, 3890, 3891, 3892, 3893, 3894, 3895, 3896], [5, 6, 7, 8, 9, 10, 11, 12, 13, 14  …  3408, 3409, 3410, 3411, 3412, 3413, 3414, 3415, 3416, 3417], [5, 6, 7, 8, 9, 10, 11, 12, 13, 14  …  3408, 3409, 3410, 3411, 3412, 3413, 3414, 3415, 3416, 3417], [5, 6, 7, 8, 9, 10, 11, 12, 13, 14  …  3408, 3409, 3410, 3411, 3412, 3413, 3414, 3415, 3416, 3417], [1, 2, 3, 5, 6, 7, 8, 9, 10, 11  …  3746, 3747, 3748, 3749, 3750, 3751, 3752, 3753, 3754, 3756], [1, 2, 3, 5, 6, 7, 8, 9, 10, 11  …  3747, 3748, 3749, 3750, 3751, 3752, 3753, 3754, 3755, 3756], [1, 2, 3, 5, 6, 7, 8, 9, 10, 11  …  3746, 3747, 3748, 3750, 3751, 3752, 3753, 3754, 3755, 3756], [1, 2, 3, 5, 6, 7, 8, 9, 10, 11  …  3747, 3748, 3749, 3750, 3751, 3752, 3753, 3754, 3755, 3756], [1, 2, 3, 5, 6, 7, 8, 9, 10, 11  …  2789, 2790, 2791, 2792, 2793, 2794, 2795, 2796, 2797, 2798], [1, 2, 3, 4, 5, 6, 7, 8, 9, 10  …  3887, 3888, 3889, 3890, 3891, 3892, 3893, 3894, 3895, 3896]], [-0.23118724688606695 -0.6865985236757074 … -0.15567437608887164 -1.7645774902861189; 1.2220951288903348 1.4435500598269446 … 0.7462234540217698 1.8642644075805912], [-0.9006394366668805 -0.24489138008513284 … 2.4051058975363397 1.1942678284939172; -1.3038531053666969 -0.5506341015820192 … 0.6289667269526152 -0.0338059138424077]), [:Extraversion, :Neuroticism, :Lie, :Sociability, :Impulsivity, :ID, :MSQTime, :TOD, :TOD24, :Active  …  :WideAwake, :Alone, :Kindly, :Scornful, :EA, :TA, :PA, :NegAff, :MSQRound, :Condition])"
      ]
     },
     "execution_count": 58,
     "metadata": {},
     "output_type": "execute_result"
    }
   ],
   "source": [
    "glrm, labels = GLRM(df, k)"
   ]
  },
  {
   "cell_type": "code",
   "execution_count": 59,
   "metadata": {},
   "outputs": [
    {
     "name": "stdout",
     "output_type": "stream",
     "text": [
      "Fitting GLRM\n"
     ]
    },
    {
     "ename": "MethodError",
     "evalue": "MethodError: no method matching evaluate(::MultinomialOrdinalLoss, ::Array{Float64,1}, ::Int32)\nClosest candidates are:\n  evaluate(::MultinomialOrdinalLoss, ::Array{Float64,1}, !Matched::Int64) at /Users/kathy908000/.julia/packages/LowRankModels/u9DCY/src/losses.jl:597\n  evaluate(::Loss, ::Array{Float64,1}, !Matched::AbstractArray{T,1} where T) at /Users/kathy908000/.julia/packages/LowRankModels/u9DCY/src/losses.jl:640\n  evaluate(!Matched::MultinomialLoss, ::Array{Float64,1}, !Matched::Int64) at /Users/kathy908000/.julia/packages/LowRankModels/u9DCY/src/losses.jl:373\n  ...",
     "output_type": "error",
     "traceback": [
      "MethodError: no method matching evaluate(::MultinomialOrdinalLoss, ::Array{Float64,1}, ::Int32)\nClosest candidates are:\n  evaluate(::MultinomialOrdinalLoss, ::Array{Float64,1}, !Matched::Int64) at /Users/kathy908000/.julia/packages/LowRankModels/u9DCY/src/losses.jl:597\n  evaluate(::Loss, ::Array{Float64,1}, !Matched::AbstractArray{T,1} where T) at /Users/kathy908000/.julia/packages/LowRankModels/u9DCY/src/losses.jl:640\n  evaluate(!Matched::MultinomialLoss, ::Array{Float64,1}, !Matched::Int64) at /Users/kathy908000/.julia/packages/LowRankModels/u9DCY/src/losses.jl:373\n  ...",
      "",
      "Stacktrace:",
      " [1] objective(::GLRM, ::Array{Float64,2}, ::Array{Float64,2}, ::Array{Float64,2}; yidxs::Array{Union{UnitRange{Int64}, Int64},1}, include_regularization::Bool) at /Users/kathy908000/.julia/packages/LowRankModels/u9DCY/src/evaluate_fit.jl:15",
      " [2] fit!(::GLRM, ::ProxGradParams; ch::ConvergenceHistory, verbose::Bool, kwargs::Base.Iterators.Pairs{Union{},Union{},Tuple{},NamedTuple{(),Tuple{}}}) at /Users/kathy908000/.julia/packages/LowRankModels/u9DCY/src/algorithms/proxgrad.jl:76",
      " [3] fit! at /Users/kathy908000/.julia/packages/LowRankModels/u9DCY/src/algorithms/proxgrad.jl:39 [inlined]",
      " [4] #fit!#63 at /Users/kathy908000/.julia/packages/LowRankModels/u9DCY/src/fit.jl:18 [inlined]",
      " [5] fit!(::GLRM) at /Users/kathy908000/.julia/packages/LowRankModels/u9DCY/src/fit.jl:9",
      " [6] top-level scope at In[59]:1"
     ]
    }
   ],
   "source": [
    "X, Y, ch = fit!(glrm)\n",
    "#glrm empty? "
   ]
  },
  {
   "cell_type": "code",
   "execution_count": null,
   "metadata": {},
   "outputs": [],
   "source": []
  },
  {
   "cell_type": "code",
   "execution_count": null,
   "metadata": {},
   "outputs": [],
   "source": []
  },
  {
   "cell_type": "code",
   "execution_count": null,
   "metadata": {},
   "outputs": [],
   "source": []
  },
  {
   "cell_type": "code",
   "execution_count": null,
   "metadata": {},
   "outputs": [],
   "source": []
  },
  {
   "cell_type": "markdown",
   "metadata": {},
   "source": [
    "# Kmeans"
   ]
  },
  {
   "cell_type": "code",
   "execution_count": 8,
   "metadata": {},
   "outputs": [
    {
     "data": {
      "text/html": [
       "<table class=\"data-frame\"><thead><tr><th></th><th>SUBJECT_ID</th><th>LOS</th><th>HOSPITALIZATION</th><th>ELECTIVE</th><th>EMERGENCY</th><th>NEWBORN</th><th>URGENT</th><th>Government</th></tr><tr><th></th><th>Int64</th><th>Float64</th><th>Int64</th><th>Int64</th><th>Int64</th><th>Int64</th><th>Int64</th><th>Int64</th></tr></thead><tbody><p>10,310 rows × 3,314 columns (omitted printing of 3306 columns)</p><tr><th>1</th><td>21280</td><td>207.131</td><td>8</td><td>0</td><td>1</td><td>0</td><td>0</td><td>0</td></tr><tr><th>2</th><td>19911</td><td>152.732</td><td>3</td><td>0</td><td>1</td><td>0</td><td>0</td><td>0</td></tr><tr><th>3</th><td>78076</td><td>134.16</td><td>5</td><td>1</td><td>1</td><td>0</td><td>0</td><td>0</td></tr><tr><th>4</th><td>22818</td><td>130.3</td><td>2</td><td>0</td><td>1</td><td>0</td><td>0</td><td>0</td></tr><tr><th>5</th><td>26519</td><td>128.96</td><td>4</td><td>0</td><td>1</td><td>0</td><td>0</td><td>0</td></tr><tr><th>6</th><td>2187</td><td>123.024</td><td>7</td><td>0</td><td>1</td><td>0</td><td>1</td><td>0</td></tr><tr><th>7</th><td>27427</td><td>118.817</td><td>5</td><td>0</td><td>1</td><td>0</td><td>0</td><td>0</td></tr><tr><th>8</th><td>2990</td><td>117.026</td><td>4</td><td>0</td><td>1</td><td>0</td><td>1</td><td>0</td></tr><tr><th>9</th><td>15716</td><td>112.922</td><td>5</td><td>0</td><td>1</td><td>0</td><td>0</td><td>0</td></tr><tr><th>10</th><td>3133</td><td>109.724</td><td>4</td><td>0</td><td>1</td><td>0</td><td>0</td><td>0</td></tr><tr><th>11</th><td>17488</td><td>109.338</td><td>2</td><td>0</td><td>1</td><td>0</td><td>0</td><td>0</td></tr><tr><th>12</th><td>18992</td><td>104.248</td><td>1</td><td>0</td><td>1</td><td>0</td><td>0</td><td>0</td></tr><tr><th>13</th><td>13033</td><td>98.2137</td><td>42</td><td>0</td><td>1</td><td>0</td><td>0</td><td>0</td></tr><tr><th>14</th><td>3386</td><td>97.9432</td><td>6</td><td>0</td><td>1</td><td>0</td><td>0</td><td>0</td></tr><tr><th>15</th><td>3868</td><td>95.7718</td><td>4</td><td>0</td><td>1</td><td>0</td><td>1</td><td>0</td></tr><tr><th>16</th><td>20181</td><td>95.6999</td><td>6</td><td>1</td><td>1</td><td>0</td><td>0</td><td>0</td></tr><tr><th>17</th><td>357</td><td>94.8967</td><td>5</td><td>0</td><td>1</td><td>0</td><td>0</td><td>0</td></tr><tr><th>18</th><td>29483</td><td>94.5503</td><td>5</td><td>0</td><td>1</td><td>0</td><td>0</td><td>0</td></tr><tr><th>19</th><td>69745</td><td>90.9013</td><td>4</td><td>0</td><td>1</td><td>0</td><td>0</td><td>0</td></tr><tr><th>20</th><td>49555</td><td>88.909</td><td>2</td><td>0</td><td>1</td><td>0</td><td>0</td><td>0</td></tr><tr><th>21</th><td>29035</td><td>88.3775</td><td>13</td><td>1</td><td>1</td><td>0</td><td>0</td><td>0</td></tr><tr><th>22</th><td>11318</td><td>87.1071</td><td>19</td><td>1</td><td>1</td><td>0</td><td>0</td><td>0</td></tr><tr><th>23</th><td>48872</td><td>86.9965</td><td>4</td><td>1</td><td>1</td><td>0</td><td>0</td><td>0</td></tr><tr><th>24</th><td>18982</td><td>84.9361</td><td>9</td><td>0</td><td>1</td><td>0</td><td>0</td><td>0</td></tr><tr><th>25</th><td>31260</td><td>83.8053</td><td>10</td><td>0</td><td>1</td><td>0</td><td>0</td><td>0</td></tr><tr><th>26</th><td>6145</td><td>82.618</td><td>2</td><td>1</td><td>1</td><td>0</td><td>0</td><td>0</td></tr><tr><th>27</th><td>26139</td><td>82.5228</td><td>5</td><td>0</td><td>1</td><td>0</td><td>0</td><td>0</td></tr><tr><th>28</th><td>12408</td><td>81.9177</td><td>2</td><td>0</td><td>1</td><td>0</td><td>0</td><td>0</td></tr><tr><th>29</th><td>27661</td><td>81.7402</td><td>4</td><td>0</td><td>1</td><td>0</td><td>0</td><td>0</td></tr><tr><th>30</th><td>7391</td><td>81.1493</td><td>4</td><td>1</td><td>1</td><td>0</td><td>0</td><td>0</td></tr><tr><th>&vellip;</th><td>&vellip;</td><td>&vellip;</td><td>&vellip;</td><td>&vellip;</td><td>&vellip;</td><td>&vellip;</td><td>&vellip;</td><td>&vellip;</td></tr></tbody></table>"
      ],
      "text/latex": [
       "\\begin{tabular}{r|ccccccccc}\n",
       "\t& SUBJECT\\_ID & LOS & HOSPITALIZATION & ELECTIVE & EMERGENCY & NEWBORN & URGENT & Government & \\\\\n",
       "\t\\hline\n",
       "\t& Int64 & Float64 & Int64 & Int64 & Int64 & Int64 & Int64 & Int64 & \\\\\n",
       "\t\\hline\n",
       "\t1 & 21280 & 207.131 & 8 & 0 & 1 & 0 & 0 & 0 & $\\dots$ \\\\\n",
       "\t2 & 19911 & 152.732 & 3 & 0 & 1 & 0 & 0 & 0 & $\\dots$ \\\\\n",
       "\t3 & 78076 & 134.16 & 5 & 1 & 1 & 0 & 0 & 0 & $\\dots$ \\\\\n",
       "\t4 & 22818 & 130.3 & 2 & 0 & 1 & 0 & 0 & 0 & $\\dots$ \\\\\n",
       "\t5 & 26519 & 128.96 & 4 & 0 & 1 & 0 & 0 & 0 & $\\dots$ \\\\\n",
       "\t6 & 2187 & 123.024 & 7 & 0 & 1 & 0 & 1 & 0 & $\\dots$ \\\\\n",
       "\t7 & 27427 & 118.817 & 5 & 0 & 1 & 0 & 0 & 0 & $\\dots$ \\\\\n",
       "\t8 & 2990 & 117.026 & 4 & 0 & 1 & 0 & 1 & 0 & $\\dots$ \\\\\n",
       "\t9 & 15716 & 112.922 & 5 & 0 & 1 & 0 & 0 & 0 & $\\dots$ \\\\\n",
       "\t10 & 3133 & 109.724 & 4 & 0 & 1 & 0 & 0 & 0 & $\\dots$ \\\\\n",
       "\t11 & 17488 & 109.338 & 2 & 0 & 1 & 0 & 0 & 0 & $\\dots$ \\\\\n",
       "\t12 & 18992 & 104.248 & 1 & 0 & 1 & 0 & 0 & 0 & $\\dots$ \\\\\n",
       "\t13 & 13033 & 98.2137 & 42 & 0 & 1 & 0 & 0 & 0 & $\\dots$ \\\\\n",
       "\t14 & 3386 & 97.9432 & 6 & 0 & 1 & 0 & 0 & 0 & $\\dots$ \\\\\n",
       "\t15 & 3868 & 95.7718 & 4 & 0 & 1 & 0 & 1 & 0 & $\\dots$ \\\\\n",
       "\t16 & 20181 & 95.6999 & 6 & 1 & 1 & 0 & 0 & 0 & $\\dots$ \\\\\n",
       "\t17 & 357 & 94.8967 & 5 & 0 & 1 & 0 & 0 & 0 & $\\dots$ \\\\\n",
       "\t18 & 29483 & 94.5503 & 5 & 0 & 1 & 0 & 0 & 0 & $\\dots$ \\\\\n",
       "\t19 & 69745 & 90.9013 & 4 & 0 & 1 & 0 & 0 & 0 & $\\dots$ \\\\\n",
       "\t20 & 49555 & 88.909 & 2 & 0 & 1 & 0 & 0 & 0 & $\\dots$ \\\\\n",
       "\t21 & 29035 & 88.3775 & 13 & 1 & 1 & 0 & 0 & 0 & $\\dots$ \\\\\n",
       "\t22 & 11318 & 87.1071 & 19 & 1 & 1 & 0 & 0 & 0 & $\\dots$ \\\\\n",
       "\t23 & 48872 & 86.9965 & 4 & 1 & 1 & 0 & 0 & 0 & $\\dots$ \\\\\n",
       "\t24 & 18982 & 84.9361 & 9 & 0 & 1 & 0 & 0 & 0 & $\\dots$ \\\\\n",
       "\t25 & 31260 & 83.8053 & 10 & 0 & 1 & 0 & 0 & 0 & $\\dots$ \\\\\n",
       "\t26 & 6145 & 82.618 & 2 & 1 & 1 & 0 & 0 & 0 & $\\dots$ \\\\\n",
       "\t27 & 26139 & 82.5228 & 5 & 0 & 1 & 0 & 0 & 0 & $\\dots$ \\\\\n",
       "\t28 & 12408 & 81.9177 & 2 & 0 & 1 & 0 & 0 & 0 & $\\dots$ \\\\\n",
       "\t29 & 27661 & 81.7402 & 4 & 0 & 1 & 0 & 0 & 0 & $\\dots$ \\\\\n",
       "\t30 & 7391 & 81.1493 & 4 & 1 & 1 & 0 & 0 & 0 & $\\dots$ \\\\\n",
       "\t$\\dots$ & $\\dots$ & $\\dots$ & $\\dots$ & $\\dots$ & $\\dots$ & $\\dots$ & $\\dots$ & $\\dots$ &  \\\\\n",
       "\\end{tabular}\n"
      ],
      "text/plain": [
       "10310×3314 DataFrame. Omitted printing of 3309 columns\n",
       "│ Row   │ SUBJECT_ID │ LOS     │ HOSPITALIZATION │ ELECTIVE │ EMERGENCY │\n",
       "│       │ \u001b[90mInt64\u001b[39m      │ \u001b[90mFloat64\u001b[39m │ \u001b[90mInt64\u001b[39m           │ \u001b[90mInt64\u001b[39m    │ \u001b[90mInt64\u001b[39m     │\n",
       "├───────┼────────────┼─────────┼─────────────────┼──────────┼───────────┤\n",
       "│ 1     │ 21280      │ 207.131 │ 8               │ 0        │ 1         │\n",
       "│ 2     │ 19911      │ 152.732 │ 3               │ 0        │ 1         │\n",
       "│ 3     │ 78076      │ 134.16  │ 5               │ 1        │ 1         │\n",
       "│ 4     │ 22818      │ 130.3   │ 2               │ 0        │ 1         │\n",
       "│ 5     │ 26519      │ 128.96  │ 4               │ 0        │ 1         │\n",
       "│ 6     │ 2187       │ 123.024 │ 7               │ 0        │ 1         │\n",
       "│ 7     │ 27427      │ 118.817 │ 5               │ 0        │ 1         │\n",
       "│ 8     │ 2990       │ 117.026 │ 4               │ 0        │ 1         │\n",
       "│ 9     │ 15716      │ 112.922 │ 5               │ 0        │ 1         │\n",
       "│ 10    │ 3133       │ 109.724 │ 4               │ 0        │ 1         │\n",
       "⋮\n",
       "│ 10300 │ 8294       │ 0.0914  │ 1               │ 0        │ 1         │\n",
       "│ 10301 │ 17243      │ 0.0792  │ 1               │ 0        │ 0         │\n",
       "│ 10302 │ 27015      │ 0.0713  │ 1               │ 1        │ 0         │\n",
       "│ 10303 │ 49274      │ 0.0679  │ 1               │ 0        │ 1         │\n",
       "│ 10304 │ 70147      │ 0.0605  │ 1               │ 0        │ 1         │\n",
       "│ 10305 │ 19987      │ 0.0566  │ 1               │ 0        │ 1         │\n",
       "│ 10306 │ 20960      │ 0.0431  │ 1               │ 0        │ 1         │\n",
       "│ 10307 │ 235        │ 0.0394  │ 1               │ 0        │ 1         │\n",
       "│ 10308 │ 6963       │ 0.0281  │ 1               │ 1        │ 0         │\n",
       "│ 10309 │ 26509      │ 0.0164  │ 1               │ 1        │ 0         │\n",
       "│ 10310 │ 29285      │ 0.0006  │ 1               │ 1        │ 0         │"
      ]
     },
     "execution_count": 8,
     "metadata": {},
     "output_type": "execute_result"
    }
   ],
   "source": [
    "A = df"
   ]
  },
  {
   "cell_type": "code",
   "execution_count": 21,
   "metadata": {},
   "outputs": [
    {
     "data": {
      "text/plain": [
       "5"
      ]
     },
     "execution_count": 21,
     "metadata": {},
     "output_type": "execute_result"
    }
   ],
   "source": [
    "\n",
    "#tabular data(dataframe) A with m rows and n columns\n",
    "m= 10310 #row \n",
    "n =3314   #column\n",
    "k=5"
   ]
  },
  {
   "cell_type": "code",
   "execution_count": null,
   "metadata": {},
   "outputs": [],
   "source": []
  },
  {
   "cell_type": "code",
   "execution_count": 17,
   "metadata": {},
   "outputs": [
    {
     "data": {
      "text/plain": [
       "QuadLoss(1.0, RealDomain())"
      ]
     },
     "execution_count": 17,
     "metadata": {},
     "output_type": "execute_result"
    }
   ],
   "source": [
    "losses = QuadLoss()\n",
    "#losses = HingeLoss() # minimize squared distance to cluster centroids\n"
   ]
  },
  {
   "cell_type": "code",
   "execution_count": 18,
   "metadata": {},
   "outputs": [
    {
     "data": {
      "text/plain": [
       "ZeroReg()"
      ]
     },
     "execution_count": 18,
     "metadata": {},
     "output_type": "execute_result"
    }
   ],
   "source": [
    "rx = UnitOneSparseConstraint() # each row is assigned to exactly one cluster\n",
    "ry = ZeroReg() # no regularization on the cluster centroids\n"
   ]
  },
  {
   "cell_type": "code",
   "execution_count": 19,
   "metadata": {},
   "outputs": [
    {
     "ename": "TypeError",
     "evalue": "TypeError: non-boolean (Missing) used in boolean context",
     "output_type": "error",
     "traceback": [
      "TypeError: non-boolean (Missing) used in boolean context",
      "",
      "Stacktrace:",
      " [1] GLRM(::DataFrame, ::Array{Loss,1}, ::Array{Regularizer,1}, ::Array{Regularizer,1}, ::Int64; X::Array{Float64,2}, Y::Array{Float64,2}, obs::Nothing, observed_features::Array{UnitRange{Int64},1}, observed_examples::Array{UnitRange{Int64},1}, offset::Bool, scale::Bool, checknan::Bool, sparse_na::Bool) at /Users/kathy908000/.julia/packages/LowRankModels/u9DCY/src/glrm.jl:66",
      " [2] GLRM(::DataFrame, ::Array{Loss,1}, ::Array{Regularizer,1}, ::Array{Regularizer,1}, ::Int64) at /Users/kathy908000/.julia/packages/LowRankModels/u9DCY/src/glrm.jl:38",
      " [3] GLRM(::DataFrame, ::QuadLoss, ::UnitOneSparseConstraint, ::ZeroReg, ::Int64; kwargs::Base.Iterators.Pairs{Union{},Union{},Tuple{},NamedTuple{(),Tuple{}}}) at /Users/kathy908000/.julia/packages/LowRankModels/u9DCY/src/utilities/conveniencemethods.jl:48",
      " [4] GLRM(::DataFrame, ::QuadLoss, ::UnitOneSparseConstraint, ::ZeroReg, ::Int64) at /Users/kathy908000/.julia/packages/LowRankModels/u9DCY/src/utilities/conveniencemethods.jl:48",
      " [5] top-level scope at In[19]:1"
     ]
    }
   ],
   "source": [
    "glrm = GLRM(A,losses,rx,ry,k)"
   ]
  },
  {
   "cell_type": "code",
   "execution_count": 9,
   "metadata": {},
   "outputs": [
    {
     "ename": "TypeError",
     "evalue": "TypeError: non-boolean (Missing) used in boolean context",
     "output_type": "error",
     "traceback": [
      "TypeError: non-boolean (Missing) used in boolean context",
      "",
      "Stacktrace:",
      " [1] GLRM(::DataFrame, ::Array{Loss,1}, ::Array{Regularizer,1}, ::Array{Regularizer,1}, ::Int64; X::Array{Float64,2}, Y::Array{Float64,2}, obs::Nothing, observed_features::Array{UnitRange{Int64},1}, observed_examples::Array{UnitRange{Int64},1}, offset::Bool, scale::Bool, checknan::Bool, sparse_na::Bool) at /Users/kathy908000/.julia/packages/LowRankModels/u9DCY/src/glrm.jl:66",
      " [2] GLRM(::DataFrame, ::Array{Loss,1}, ::Array{Regularizer,1}, ::Array{Regularizer,1}, ::Int64) at /Users/kathy908000/.julia/packages/LowRankModels/u9DCY/src/glrm.jl:38",
      " [3] GLRM(::DataFrame, ::QuadLoss, ::UnitOneSparseConstraint, ::ZeroReg, ::Int64; kwargs::Base.Iterators.Pairs{Union{},Union{},Tuple{},NamedTuple{(),Tuple{}}}) at /Users/kathy908000/.julia/packages/LowRankModels/u9DCY/src/utilities/conveniencemethods.jl:48",
      " [4] GLRM(::DataFrame, ::QuadLoss, ::UnitOneSparseConstraint, ::ZeroReg, ::Int64) at /Users/kathy908000/.julia/packages/LowRankModels/u9DCY/src/utilities/conveniencemethods.jl:48",
      " [5] top-level scope at In[9]:8"
     ]
    }
   ],
   "source": [
    "A = df\n",
    "#tabular data(dataframe) A with m rows and n columns\n",
    "m,n,k = 100,100,5\n",
    "losses = QuadLoss()\n",
    "#losses = HingeLoss() # minimize squared distance to cluster centroids\n",
    "rx = UnitOneSparseConstraint() # each row is assigned to exactly one cluster\n",
    "ry = ZeroReg() # no regularization on the cluster centroids\n",
    "glrm = GLRM(A,losses,rx,ry,k)"
   ]
  },
  {
   "cell_type": "code",
   "execution_count": 20,
   "metadata": {},
   "outputs": [
    {
     "ename": "UndefVarError",
     "evalue": "UndefVarError: glrm not defined",
     "output_type": "error",
     "traceback": [
      "UndefVarError: glrm not defined",
      "",
      "Stacktrace:",
      " [1] top-level scope at In[20]:1"
     ]
    }
   ],
   "source": [
    "X,Y,ch = fit!(glrm)"
   ]
  },
  {
   "cell_type": "code",
   "execution_count": 1,
   "metadata": {},
   "outputs": [
    {
     "ename": "UndefVarError",
     "evalue": "UndefVarError: GLRM not defined",
     "output_type": "error",
     "traceback": [
      "UndefVarError: GLRM not defined",
      "",
      "Stacktrace:",
      " [1] top-level scope at In[1]:1"
     ]
    }
   ],
   "source": [
    "glrm = GLRM(A,losses,rx,ry,k, offset=true, scale=true)"
   ]
  },
  {
   "cell_type": "code",
   "execution_count": null,
   "metadata": {},
   "outputs": [],
   "source": []
  }
 ],
 "metadata": {
  "kernelspec": {
   "display_name": "Julia 1.4.2",
   "language": "julia",
   "name": "julia-1.4"
  },
  "language_info": {
   "file_extension": ".jl",
   "mimetype": "application/julia",
   "name": "julia",
   "version": "1.4.2"
  }
 },
 "nbformat": 4,
 "nbformat_minor": 2
}
