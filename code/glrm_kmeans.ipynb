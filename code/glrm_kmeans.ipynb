{
 "cells": [
  {
   "cell_type": "code",
   "execution_count": 28,
   "metadata": {},
   "outputs": [],
   "source": [
    "#import Pkg; Pkg.add(\"DataArrays\")\n",
    "#Pkg.add(\"CSV\")\n",
    "#Pkg.add(\"StatsBase\")"
   ]
  },
  {
   "cell_type": "code",
   "execution_count": 29,
   "metadata": {
    "scrolled": false
   },
   "outputs": [],
   "source": [
    "using LowRankModels\n",
    "using CSV\n",
    "using DataFrames\n",
    "using Pkg\n",
    "using StatsBase\n",
    "\n",
    "using Random, SparseArrays\n",
    "#using DataArrays"
   ]
  },
  {
   "cell_type": "code",
   "execution_count": 30,
   "metadata": {
    "scrolled": true
   },
   "outputs": [
    {
     "data": {
      "text/html": [
       "<table class=\"data-frame\"><thead><tr><th></th><th>SUBJECT_ID</th><th>LOS</th><th>HOSPITALIZATION</th><th>ORDINAL_AGE</th><th>ELECTIVE</th><th>EMERGENCY</th><th>NEWBORN</th></tr><tr><th></th><th>Int64</th><th>Float64</th><th>Int64</th><th>Int64</th><th>Int64</th><th>Int64</th><th>Int64</th></tr></thead><tbody><p>10,310 rows × 921 columns (omitted printing of 914 columns)</p><tr><th>1</th><td>13</td><td>3.666</td><td>1</td><td>4</td><td>0</td><td>1</td><td>0</td></tr><tr><th>2</th><td>18</td><td>1.2885</td><td>1</td><td>6</td><td>0</td><td>1</td><td>0</td></tr><tr><th>3</th><td>20</td><td>1.0508</td><td>1</td><td>8</td><td>1</td><td>0</td><td>0</td></tr><tr><th>4</th><td>21</td><td>14.2664</td><td>2</td><td>9</td><td>0</td><td>1</td><td>0</td></tr><tr><th>5</th><td>24</td><td>0.5124</td><td>1</td><td>4</td><td>0</td><td>1</td><td>0</td></tr><tr><th>6</th><td>25</td><td>3.5466</td><td>1</td><td>6</td><td>0</td><td>1</td><td>0</td></tr><tr><th>7</th><td>28</td><td>1.1224</td><td>1</td><td>8</td><td>1</td><td>0</td><td>0</td></tr><tr><th>8</th><td>35</td><td>5.3757</td><td>1</td><td>7</td><td>1</td><td>0</td><td>0</td></tr><tr><th>9</th><td>37</td><td>1.1397</td><td>1</td><td>7</td><td>0</td><td>1</td><td>0</td></tr><tr><th>10</th><td>55</td><td>1.9138</td><td>1</td><td>7</td><td>0</td><td>1</td><td>0</td></tr><tr><th>11</th><td>59</td><td>2.2017</td><td>1</td><td>9</td><td>0</td><td>1</td><td>0</td></tr><tr><th>12</th><td>75</td><td>1.2469</td><td>1</td><td>8</td><td>1</td><td>0</td><td>0</td></tr><tr><th>13</th><td>83</td><td>2.3141</td><td>1</td><td>7</td><td>0</td><td>0</td><td>0</td></tr><tr><th>14</th><td>117</td><td>14.5181</td><td>2</td><td>5</td><td>0</td><td>1</td><td>0</td></tr><tr><th>15</th><td>123</td><td>1.4941</td><td>1</td><td>6</td><td>0</td><td>1</td><td>0</td></tr><tr><th>16</th><td>130</td><td>17.4592</td><td>2</td><td>7</td><td>0</td><td>1</td><td>0</td></tr><tr><th>17</th><td>135</td><td>1.346</td><td>2</td><td>6</td><td>1</td><td>1</td><td>0</td></tr><tr><th>18</th><td>137</td><td>5.1326</td><td>1</td><td>8</td><td>0</td><td>1</td><td>0</td></tr><tr><th>19</th><td>141</td><td>3.4765</td><td>1</td><td>9</td><td>0</td><td>1</td><td>0</td></tr><tr><th>20</th><td>157</td><td>6.1813</td><td>2</td><td>9</td><td>0</td><td>1</td><td>0</td></tr><tr><th>21</th><td>173</td><td>1.3722</td><td>1</td><td>7</td><td>1</td><td>0</td><td>0</td></tr><tr><th>22</th><td>184</td><td>5.0941</td><td>2</td><td>6</td><td>0</td><td>1</td><td>0</td></tr><tr><th>23</th><td>186</td><td>3.7078</td><td>1</td><td>8</td><td>0</td><td>1</td><td>0</td></tr><tr><th>24</th><td>188</td><td>26.919</td><td>7</td><td>6</td><td>0</td><td>1</td><td>0</td></tr><tr><th>25</th><td>191</td><td>10.1558</td><td>2</td><td>8</td><td>0</td><td>1</td><td>0</td></tr><tr><th>26</th><td>192</td><td>1.084</td><td>1</td><td>7</td><td>1</td><td>0</td><td>0</td></tr><tr><th>27</th><td>199</td><td>7.1739</td><td>2</td><td>5</td><td>0</td><td>1</td><td>0</td></tr><tr><th>28</th><td>205</td><td>2.9076</td><td>1</td><td>8</td><td>0</td><td>0</td><td>0</td></tr><tr><th>29</th><td>209</td><td>8.3211</td><td>2</td><td>8</td><td>0</td><td>1</td><td>0</td></tr><tr><th>30</th><td>210</td><td>1.0253</td><td>1</td><td>6</td><td>0</td><td>1</td><td>0</td></tr><tr><th>&vellip;</th><td>&vellip;</td><td>&vellip;</td><td>&vellip;</td><td>&vellip;</td><td>&vellip;</td><td>&vellip;</td><td>&vellip;</td></tr></tbody></table>"
      ],
      "text/latex": [
       "\\begin{tabular}{r|cccccccc}\n",
       "\t& SUBJECT\\_ID & LOS & HOSPITALIZATION & ORDINAL\\_AGE & ELECTIVE & EMERGENCY & NEWBORN & \\\\\n",
       "\t\\hline\n",
       "\t& Int64 & Float64 & Int64 & Int64 & Int64 & Int64 & Int64 & \\\\\n",
       "\t\\hline\n",
       "\t1 & 13 & 3.666 & 1 & 4 & 0 & 1 & 0 & $\\dots$ \\\\\n",
       "\t2 & 18 & 1.2885 & 1 & 6 & 0 & 1 & 0 & $\\dots$ \\\\\n",
       "\t3 & 20 & 1.0508 & 1 & 8 & 1 & 0 & 0 & $\\dots$ \\\\\n",
       "\t4 & 21 & 14.2664 & 2 & 9 & 0 & 1 & 0 & $\\dots$ \\\\\n",
       "\t5 & 24 & 0.5124 & 1 & 4 & 0 & 1 & 0 & $\\dots$ \\\\\n",
       "\t6 & 25 & 3.5466 & 1 & 6 & 0 & 1 & 0 & $\\dots$ \\\\\n",
       "\t7 & 28 & 1.1224 & 1 & 8 & 1 & 0 & 0 & $\\dots$ \\\\\n",
       "\t8 & 35 & 5.3757 & 1 & 7 & 1 & 0 & 0 & $\\dots$ \\\\\n",
       "\t9 & 37 & 1.1397 & 1 & 7 & 0 & 1 & 0 & $\\dots$ \\\\\n",
       "\t10 & 55 & 1.9138 & 1 & 7 & 0 & 1 & 0 & $\\dots$ \\\\\n",
       "\t11 & 59 & 2.2017 & 1 & 9 & 0 & 1 & 0 & $\\dots$ \\\\\n",
       "\t12 & 75 & 1.2469 & 1 & 8 & 1 & 0 & 0 & $\\dots$ \\\\\n",
       "\t13 & 83 & 2.3141 & 1 & 7 & 0 & 0 & 0 & $\\dots$ \\\\\n",
       "\t14 & 117 & 14.5181 & 2 & 5 & 0 & 1 & 0 & $\\dots$ \\\\\n",
       "\t15 & 123 & 1.4941 & 1 & 6 & 0 & 1 & 0 & $\\dots$ \\\\\n",
       "\t16 & 130 & 17.4592 & 2 & 7 & 0 & 1 & 0 & $\\dots$ \\\\\n",
       "\t17 & 135 & 1.346 & 2 & 6 & 1 & 1 & 0 & $\\dots$ \\\\\n",
       "\t18 & 137 & 5.1326 & 1 & 8 & 0 & 1 & 0 & $\\dots$ \\\\\n",
       "\t19 & 141 & 3.4765 & 1 & 9 & 0 & 1 & 0 & $\\dots$ \\\\\n",
       "\t20 & 157 & 6.1813 & 2 & 9 & 0 & 1 & 0 & $\\dots$ \\\\\n",
       "\t21 & 173 & 1.3722 & 1 & 7 & 1 & 0 & 0 & $\\dots$ \\\\\n",
       "\t22 & 184 & 5.0941 & 2 & 6 & 0 & 1 & 0 & $\\dots$ \\\\\n",
       "\t23 & 186 & 3.7078 & 1 & 8 & 0 & 1 & 0 & $\\dots$ \\\\\n",
       "\t24 & 188 & 26.919 & 7 & 6 & 0 & 1 & 0 & $\\dots$ \\\\\n",
       "\t25 & 191 & 10.1558 & 2 & 8 & 0 & 1 & 0 & $\\dots$ \\\\\n",
       "\t26 & 192 & 1.084 & 1 & 7 & 1 & 0 & 0 & $\\dots$ \\\\\n",
       "\t27 & 199 & 7.1739 & 2 & 5 & 0 & 1 & 0 & $\\dots$ \\\\\n",
       "\t28 & 205 & 2.9076 & 1 & 8 & 0 & 0 & 0 & $\\dots$ \\\\\n",
       "\t29 & 209 & 8.3211 & 2 & 8 & 0 & 1 & 0 & $\\dots$ \\\\\n",
       "\t30 & 210 & 1.0253 & 1 & 6 & 0 & 1 & 0 & $\\dots$ \\\\\n",
       "\t$\\dots$ & $\\dots$ & $\\dots$ & $\\dots$ & $\\dots$ & $\\dots$ & $\\dots$ & $\\dots$ &  \\\\\n",
       "\\end{tabular}\n"
      ],
      "text/plain": [
       "10310×921 DataFrame. Omitted printing of 916 columns\n",
       "│ Row   │ SUBJECT_ID │ LOS     │ HOSPITALIZATION │ ORDINAL_AGE │ ELECTIVE │\n",
       "│       │ \u001b[90mInt64\u001b[39m      │ \u001b[90mFloat64\u001b[39m │ \u001b[90mInt64\u001b[39m           │ \u001b[90mInt64\u001b[39m       │ \u001b[90mInt64\u001b[39m    │\n",
       "├───────┼────────────┼─────────┼─────────────────┼─────────────┼──────────┤\n",
       "│ 1     │ 13         │ 3.666   │ 1               │ 4           │ 0        │\n",
       "│ 2     │ 18         │ 1.2885  │ 1               │ 6           │ 0        │\n",
       "│ 3     │ 20         │ 1.0508  │ 1               │ 8           │ 1        │\n",
       "│ 4     │ 21         │ 14.2664 │ 2               │ 9           │ 0        │\n",
       "│ 5     │ 24         │ 0.5124  │ 1               │ 4           │ 0        │\n",
       "│ 6     │ 25         │ 3.5466  │ 1               │ 6           │ 0        │\n",
       "│ 7     │ 28         │ 1.1224  │ 1               │ 8           │ 1        │\n",
       "│ 8     │ 35         │ 5.3757  │ 1               │ 7           │ 1        │\n",
       "│ 9     │ 37         │ 1.1397  │ 1               │ 7           │ 0        │\n",
       "│ 10    │ 55         │ 1.9138  │ 1               │ 7           │ 0        │\n",
       "⋮\n",
       "│ 10300 │ 99899      │ 9.1439  │ 1               │ 9           │ 0        │\n",
       "│ 10301 │ 99901      │ 6.1242  │ 1               │ 7           │ 0        │\n",
       "│ 10302 │ 99903      │ 1.0388  │ 1               │ 6           │ 0        │\n",
       "│ 10303 │ 99913      │ 3.1669  │ 1               │ 8           │ 0        │\n",
       "│ 10304 │ 99928      │ 0.9902  │ 1               │ 3           │ 0        │\n",
       "│ 10305 │ 99938      │ 7.2813  │ 1               │ 9           │ 0        │\n",
       "│ 10306 │ 99955      │ 5.6719  │ 1               │ 7           │ 0        │\n",
       "│ 10307 │ 99957      │ 2.8684  │ 1               │ 7           │ 0        │\n",
       "│ 10308 │ 99991      │ 3.1426  │ 1               │ 5           │ 1        │\n",
       "│ 10309 │ 99995      │ 2.1615  │ 1               │ 9           │ 1        │\n",
       "│ 10310 │ 99999      │ 1.1242  │ 1               │ 7           │ 1        │"
      ]
     },
     "execution_count": 30,
     "metadata": {},
     "output_type": "execute_result"
    }
   ],
   "source": [
    "df3 = CSV.read(\"../data/Diabetes_Numerical.csv\")\n",
    "df3"
   ]
  },
  {
   "cell_type": "code",
   "execution_count": 31,
   "metadata": {
    "scrolled": true
   },
   "outputs": [
    {
     "data": {
      "text/html": [
       "<table class=\"data-frame\"><thead><tr><th></th><th>LOS</th><th>HOSPITALIZATION</th><th>ORDINAL_AGE</th><th>ELECTIVE</th><th>EMERGENCY</th><th>NEWBORN</th><th>URGENT</th><th>Government</th></tr><tr><th></th><th>Float64</th><th>Int64</th><th>Int64</th><th>Int64</th><th>Int64</th><th>Int64</th><th>Int64</th><th>Int64</th></tr></thead><tbody><p>10,310 rows × 920 columns (omitted printing of 912 columns)</p><tr><th>1</th><td>3.666</td><td>1</td><td>4</td><td>0</td><td>1</td><td>0</td><td>0</td><td>0</td></tr><tr><th>2</th><td>1.2885</td><td>1</td><td>6</td><td>0</td><td>1</td><td>0</td><td>0</td><td>0</td></tr><tr><th>3</th><td>1.0508</td><td>1</td><td>8</td><td>1</td><td>0</td><td>0</td><td>0</td><td>0</td></tr><tr><th>4</th><td>14.2664</td><td>2</td><td>9</td><td>0</td><td>1</td><td>0</td><td>0</td><td>0</td></tr><tr><th>5</th><td>0.5124</td><td>1</td><td>4</td><td>0</td><td>1</td><td>0</td><td>0</td><td>0</td></tr><tr><th>6</th><td>3.5466</td><td>1</td><td>6</td><td>0</td><td>1</td><td>0</td><td>0</td><td>0</td></tr><tr><th>7</th><td>1.1224</td><td>1</td><td>8</td><td>1</td><td>0</td><td>0</td><td>0</td><td>0</td></tr><tr><th>8</th><td>5.3757</td><td>1</td><td>7</td><td>1</td><td>0</td><td>0</td><td>0</td><td>0</td></tr><tr><th>9</th><td>1.1397</td><td>1</td><td>7</td><td>0</td><td>1</td><td>0</td><td>0</td><td>0</td></tr><tr><th>10</th><td>1.9138</td><td>1</td><td>7</td><td>0</td><td>1</td><td>0</td><td>0</td><td>0</td></tr><tr><th>11</th><td>2.2017</td><td>1</td><td>9</td><td>0</td><td>1</td><td>0</td><td>0</td><td>0</td></tr><tr><th>12</th><td>1.2469</td><td>1</td><td>8</td><td>1</td><td>0</td><td>0</td><td>0</td><td>0</td></tr><tr><th>13</th><td>2.3141</td><td>1</td><td>7</td><td>0</td><td>0</td><td>0</td><td>1</td><td>0</td></tr><tr><th>14</th><td>14.5181</td><td>2</td><td>5</td><td>0</td><td>1</td><td>0</td><td>0</td><td>0</td></tr><tr><th>15</th><td>1.4941</td><td>1</td><td>6</td><td>0</td><td>1</td><td>0</td><td>0</td><td>1</td></tr><tr><th>16</th><td>17.4592</td><td>2</td><td>7</td><td>0</td><td>1</td><td>0</td><td>0</td><td>0</td></tr><tr><th>17</th><td>1.346</td><td>2</td><td>6</td><td>1</td><td>1</td><td>0</td><td>0</td><td>0</td></tr><tr><th>18</th><td>5.1326</td><td>1</td><td>8</td><td>0</td><td>1</td><td>0</td><td>0</td><td>0</td></tr><tr><th>19</th><td>3.4765</td><td>1</td><td>9</td><td>0</td><td>1</td><td>0</td><td>0</td><td>0</td></tr><tr><th>20</th><td>6.1813</td><td>2</td><td>9</td><td>0</td><td>1</td><td>0</td><td>0</td><td>0</td></tr><tr><th>21</th><td>1.3722</td><td>1</td><td>7</td><td>1</td><td>0</td><td>0</td><td>0</td><td>0</td></tr><tr><th>22</th><td>5.0941</td><td>2</td><td>6</td><td>0</td><td>1</td><td>0</td><td>0</td><td>0</td></tr><tr><th>23</th><td>3.7078</td><td>1</td><td>8</td><td>0</td><td>1</td><td>0</td><td>0</td><td>0</td></tr><tr><th>24</th><td>26.919</td><td>7</td><td>6</td><td>0</td><td>1</td><td>0</td><td>0</td><td>0</td></tr><tr><th>25</th><td>10.1558</td><td>2</td><td>8</td><td>0</td><td>1</td><td>0</td><td>0</td><td>0</td></tr><tr><th>26</th><td>1.084</td><td>1</td><td>7</td><td>1</td><td>0</td><td>0</td><td>0</td><td>0</td></tr><tr><th>27</th><td>7.1739</td><td>2</td><td>5</td><td>0</td><td>1</td><td>0</td><td>1</td><td>1</td></tr><tr><th>28</th><td>2.9076</td><td>1</td><td>8</td><td>0</td><td>0</td><td>0</td><td>1</td><td>0</td></tr><tr><th>29</th><td>8.3211</td><td>2</td><td>8</td><td>0</td><td>1</td><td>0</td><td>0</td><td>0</td></tr><tr><th>30</th><td>1.0253</td><td>1</td><td>6</td><td>0</td><td>1</td><td>0</td><td>0</td><td>0</td></tr><tr><th>&vellip;</th><td>&vellip;</td><td>&vellip;</td><td>&vellip;</td><td>&vellip;</td><td>&vellip;</td><td>&vellip;</td><td>&vellip;</td><td>&vellip;</td></tr></tbody></table>"
      ],
      "text/latex": [
       "\\begin{tabular}{r|ccccccccc}\n",
       "\t& LOS & HOSPITALIZATION & ORDINAL\\_AGE & ELECTIVE & EMERGENCY & NEWBORN & URGENT & Government & \\\\\n",
       "\t\\hline\n",
       "\t& Float64 & Int64 & Int64 & Int64 & Int64 & Int64 & Int64 & Int64 & \\\\\n",
       "\t\\hline\n",
       "\t1 & 3.666 & 1 & 4 & 0 & 1 & 0 & 0 & 0 & $\\dots$ \\\\\n",
       "\t2 & 1.2885 & 1 & 6 & 0 & 1 & 0 & 0 & 0 & $\\dots$ \\\\\n",
       "\t3 & 1.0508 & 1 & 8 & 1 & 0 & 0 & 0 & 0 & $\\dots$ \\\\\n",
       "\t4 & 14.2664 & 2 & 9 & 0 & 1 & 0 & 0 & 0 & $\\dots$ \\\\\n",
       "\t5 & 0.5124 & 1 & 4 & 0 & 1 & 0 & 0 & 0 & $\\dots$ \\\\\n",
       "\t6 & 3.5466 & 1 & 6 & 0 & 1 & 0 & 0 & 0 & $\\dots$ \\\\\n",
       "\t7 & 1.1224 & 1 & 8 & 1 & 0 & 0 & 0 & 0 & $\\dots$ \\\\\n",
       "\t8 & 5.3757 & 1 & 7 & 1 & 0 & 0 & 0 & 0 & $\\dots$ \\\\\n",
       "\t9 & 1.1397 & 1 & 7 & 0 & 1 & 0 & 0 & 0 & $\\dots$ \\\\\n",
       "\t10 & 1.9138 & 1 & 7 & 0 & 1 & 0 & 0 & 0 & $\\dots$ \\\\\n",
       "\t11 & 2.2017 & 1 & 9 & 0 & 1 & 0 & 0 & 0 & $\\dots$ \\\\\n",
       "\t12 & 1.2469 & 1 & 8 & 1 & 0 & 0 & 0 & 0 & $\\dots$ \\\\\n",
       "\t13 & 2.3141 & 1 & 7 & 0 & 0 & 0 & 1 & 0 & $\\dots$ \\\\\n",
       "\t14 & 14.5181 & 2 & 5 & 0 & 1 & 0 & 0 & 0 & $\\dots$ \\\\\n",
       "\t15 & 1.4941 & 1 & 6 & 0 & 1 & 0 & 0 & 1 & $\\dots$ \\\\\n",
       "\t16 & 17.4592 & 2 & 7 & 0 & 1 & 0 & 0 & 0 & $\\dots$ \\\\\n",
       "\t17 & 1.346 & 2 & 6 & 1 & 1 & 0 & 0 & 0 & $\\dots$ \\\\\n",
       "\t18 & 5.1326 & 1 & 8 & 0 & 1 & 0 & 0 & 0 & $\\dots$ \\\\\n",
       "\t19 & 3.4765 & 1 & 9 & 0 & 1 & 0 & 0 & 0 & $\\dots$ \\\\\n",
       "\t20 & 6.1813 & 2 & 9 & 0 & 1 & 0 & 0 & 0 & $\\dots$ \\\\\n",
       "\t21 & 1.3722 & 1 & 7 & 1 & 0 & 0 & 0 & 0 & $\\dots$ \\\\\n",
       "\t22 & 5.0941 & 2 & 6 & 0 & 1 & 0 & 0 & 0 & $\\dots$ \\\\\n",
       "\t23 & 3.7078 & 1 & 8 & 0 & 1 & 0 & 0 & 0 & $\\dots$ \\\\\n",
       "\t24 & 26.919 & 7 & 6 & 0 & 1 & 0 & 0 & 0 & $\\dots$ \\\\\n",
       "\t25 & 10.1558 & 2 & 8 & 0 & 1 & 0 & 0 & 0 & $\\dots$ \\\\\n",
       "\t26 & 1.084 & 1 & 7 & 1 & 0 & 0 & 0 & 0 & $\\dots$ \\\\\n",
       "\t27 & 7.1739 & 2 & 5 & 0 & 1 & 0 & 1 & 1 & $\\dots$ \\\\\n",
       "\t28 & 2.9076 & 1 & 8 & 0 & 0 & 0 & 1 & 0 & $\\dots$ \\\\\n",
       "\t29 & 8.3211 & 2 & 8 & 0 & 1 & 0 & 0 & 0 & $\\dots$ \\\\\n",
       "\t30 & 1.0253 & 1 & 6 & 0 & 1 & 0 & 0 & 0 & $\\dots$ \\\\\n",
       "\t$\\dots$ & $\\dots$ & $\\dots$ & $\\dots$ & $\\dots$ & $\\dots$ & $\\dots$ & $\\dots$ & $\\dots$ &  \\\\\n",
       "\\end{tabular}\n"
      ],
      "text/plain": [
       "10310×920 DataFrame. Omitted printing of 915 columns\n",
       "│ Row   │ LOS     │ HOSPITALIZATION │ ORDINAL_AGE │ ELECTIVE │ EMERGENCY │\n",
       "│       │ \u001b[90mFloat64\u001b[39m │ \u001b[90mInt64\u001b[39m           │ \u001b[90mInt64\u001b[39m       │ \u001b[90mInt64\u001b[39m    │ \u001b[90mInt64\u001b[39m     │\n",
       "├───────┼─────────┼─────────────────┼─────────────┼──────────┼───────────┤\n",
       "│ 1     │ 3.666   │ 1               │ 4           │ 0        │ 1         │\n",
       "│ 2     │ 1.2885  │ 1               │ 6           │ 0        │ 1         │\n",
       "│ 3     │ 1.0508  │ 1               │ 8           │ 1        │ 0         │\n",
       "│ 4     │ 14.2664 │ 2               │ 9           │ 0        │ 1         │\n",
       "│ 5     │ 0.5124  │ 1               │ 4           │ 0        │ 1         │\n",
       "│ 6     │ 3.5466  │ 1               │ 6           │ 0        │ 1         │\n",
       "│ 7     │ 1.1224  │ 1               │ 8           │ 1        │ 0         │\n",
       "│ 8     │ 5.3757  │ 1               │ 7           │ 1        │ 0         │\n",
       "│ 9     │ 1.1397  │ 1               │ 7           │ 0        │ 1         │\n",
       "│ 10    │ 1.9138  │ 1               │ 7           │ 0        │ 1         │\n",
       "⋮\n",
       "│ 10300 │ 9.1439  │ 1               │ 9           │ 0        │ 1         │\n",
       "│ 10301 │ 6.1242  │ 1               │ 7           │ 0        │ 1         │\n",
       "│ 10302 │ 1.0388  │ 1               │ 6           │ 0        │ 1         │\n",
       "│ 10303 │ 3.1669  │ 1               │ 8           │ 0        │ 1         │\n",
       "│ 10304 │ 0.9902  │ 1               │ 3           │ 0        │ 1         │\n",
       "│ 10305 │ 7.2813  │ 1               │ 9           │ 0        │ 1         │\n",
       "│ 10306 │ 5.6719  │ 1               │ 7           │ 0        │ 1         │\n",
       "│ 10307 │ 2.8684  │ 1               │ 7           │ 0        │ 0         │\n",
       "│ 10308 │ 3.1426  │ 1               │ 5           │ 1        │ 0         │\n",
       "│ 10309 │ 2.1615  │ 1               │ 9           │ 1        │ 0         │\n",
       "│ 10310 │ 1.1242  │ 1               │ 7           │ 1        │ 0         │"
      ]
     },
     "execution_count": 31,
     "metadata": {},
     "output_type": "execute_result"
    }
   ],
   "source": [
    "#drop columns\n",
    "#df3 = select!(df3, Not(:Column1))\n",
    "df3 = select!(df3, Not(:SUBJECT_ID )) \n",
    "df3"
   ]
  },
  {
   "cell_type": "code",
   "execution_count": 32,
   "metadata": {
    "scrolled": true
   },
   "outputs": [
    {
     "name": "stdout",
     "output_type": "stream",
     "text": [
      ":LOS, :HOSPITALIZATION, :ORDINAL_AGE, :ELECTIVE, :EMERGENCY, :NEWBORN, :URGENT, :Government, :Medicaid, :Medicare, :Private, :Self Pay, :DIVORCED, :LIFE PARTNER, :MARRIED, :NAN, :SEPARATED, :SINGLE, :UNKNOWN, :WIDOWED, :GENDER, :3, :4, :5, :7, :8, :9, :10, :11, :12, :13, :14, :18, :27, :31, :32, :34, :35, :38, :39, :40, :41, :42, :46, :47, :48, :49, :52, :53, :54, :57, :58, :66, :70, :75, :78, :79, :82, :86, :88, :94, :96, :97, :110, :111, :112, :117, :120, :121, :127, :130, :131, :135, :136, :137, :138, :139, :140, :141, :142, :144, :145, :146, :147, :148, :149, :150, :151, :152, :153, :154, :155, :156, :157, :158, :159, :161, :162, :163, :164, :171, :172, :173, :174, :175, :176, :180, :182, :183, :184, :185, :186, :187, :188, :189, :191, :192, :193, :194, :195, :196, :197, :198, :199, :200, :201, :202, :203, :204, :205, :207, :208, :209, :210, :211, :212, :213, :214, :215, :216, :217, :218, :220, :221, :223, :225, :226, :227, :228, :229, :230, :232, :233, :235, :236, :237, :238, :239, :240, :241, :242, :244, :245, :246, :249, :250, :251, :252, :253, :254, :255, :256, :257, :258, :259, :261, :262, :263, :265, :266, :268, :269, :270, :271, :272, :273, :274, :275, :276, :277, :278, :279, :280, :281, :282, :283, :284, :285, :286, :287, :288, :289, :290, :291, :292, :293, :294, :295, :296, :297, :298, :299, :300, :301, :303, :304, :305, :306, :307, :308, :309, :310, :311, :312, :313, :314, :315, :317, :318, :319, :320, :321, :322, :323, :324, :325, :327, :331, :332, :333, :334, :335, :336, :337, :338, :339, :340, :341, :342, :343, :344, :345, :346, :347, :348, :349, :350, :351, :352, :353, :354, :355, :356, :357, :358, :359, :360, :361, :362, :363, :364, :365, :366, :367, :368, :369, :370, :371, :372, :373, :374, :375, :376, :377, :378, :379, :380, :382, :383, :385, :386, :387, :388, :389, :390, :391, :394, :395, :396, :397, :398, :401, :402, :403, :404, :405, :410, :411, :412, :413, :414, :415, :416, :417, :420, :421, :422, :423, :424, :425, :426, :427, :428, :429, :430, :431, :432, :433, :434, :435, :436, :437, :438, :440, :441, :442, :443, :444, :445, :446, :447, :448, :449, :451, :452, :453, :454, :455, :456, :457, :458, :459, :461, :462, :463, :464, :465, :466, :471, :472, :473, :475, :477, :478, :480, :481, :482, :483, :484, :485, :486, :487, :488, :490, :491, :492, :493, :494, :495, :496, :500, :501, :502, :506, :507, :508, :510, :511, :512, :513, :514, :515, :516, :517, :518, :519, :520, :521, :522, :523, :524, :525, :526, :527, :528, :529, :530, :531, :532, :533, :534, :535, :536, :537, :538, :540, :541, :542, :543, :550, :551, :552, :553, :555, :556, :557, :558, :560, :562, :564, :565, :566, :567, :568, :569, :570, :571, :572, :573, :574, :575, :576, :577, :578, :579, :580, :581, :582, :583, :584, :585, :586, :587, :588, :590, :591, :592, :593, :594, :595, :596, :597, :598, :599, :600, :601, :602, :603, :604, :605, :607, :608, :611, :614, :615, :616, :617, :618, :619, :620, :621, :622, :623, :624, :625, :626, :627, :628, :629, :632, :633, :634, :642, :644, :646, :647, :648, :649, :652, :654, :666, :670, :674, :680, :681, :682, :683, :684, :685, :686, :690, :692, :693, :694, :695, :696, :697, :698, :700, :701, :702, :703, :704, :705, :706, :707, :708, :709, :710, :711, :712, :713, :714, :715, :716, :718, :719, :720, :721, :722, :723, :724, :725, :726, :727, :728, :729, :730, :731, :732, :733, :734, :735, :736, :737, :738, :741, :742, :745, :746, :747, :748, :750, :751, :752, :753, :754, :755, :756, :757, :758, :759, :765, :766, :770, :774, :775, :780, :781, :782, :783, :784, :785, :786, :787, :788, :789, :790, :791, :792, :793, :794, :795, :796, :799, :800, :801, :802, :803, :804, :805, :806, :807, :808, :810, :811, :812, :813, :814, :815, :816, :817, :820, :821, :822, :823, :824, :825, :826, :830, :831, :833, :834, :835, :836, :839, :840, :842, :845, :846, :847, :850, :851, :852, :853, :854, :860, :861, :862, :863, :864, :865, :866, :867, :868, :869, :870, :872, :873, :874, :875, :879, :880, :881, :882, :883, :884, :886, :887, :890, :891, :892, :893, :894, :896, :897, :900, :901, :902, :903, :904, :905, :906, :907, :908, :909, :910, :911, :912, :913, :914, :916, :917, :918, :919, :920, :921, :922, :923, :924, :926, :927, :933, :934, :935, :936, :937, :939, :941, :942, :944, :945, :947, :948, :950, :951, :952, :953, :954, :955, :956, :958, :959, :961, :962, :964, :965, :966, :967, :968, :969, :970, :971, :972, :974, :975, :977, :983, :987, :989, :990, :991, :992, :994, :995, :996, :997, :998, :999, :E812, :E813, :E814, :E815, :E816, :E817, :E818, :E819, :E821, :E822, :E823, :E824, :E825, :E826, :E838, :E848, :E849, :E850, :E851, :E852, :E853, :E854, :E855, :E857, :E858, :E866, :E869, :E870, :E871, :E874, :E876, :E878, :E879, :E880, :E881, :E882, :E884, :E885, :E887, :E888, :E890, :E899, :E900, :E901, :E906, :E910, :E911, :E912, :E915, :E916, :E917, :E918, :E920, :E922, :E924, :E927, :E928, :E929, :E930, :E931, :E932, :E933, :E934, :E935, :E936, :E937, :E938, :E939, :E940, :E941, :E942, :E943, :E944, :E945, :E946, :E947, :E950, :E953, :E955, :E956, :E957, :E958, :E960, :E965, :E966, :E967, :E968, :E969, :E980, :E988, :E989, :V01, :V02, :V03, :V04, :V05, :V06, :V07, :V08, :V09, :V10, :V11, :V12, :V13, :V14, :V15, :V16, :V17, :V18, :V19, :V23, :V26, :V27, :V29, :V30, :V42, :V43, :V44, :V45, :V46, :V49, :V50, :V53, :V54, :V55, :V56, :V58, :V60, :V61, :V62, :V63, :V64, :V65, :V66, :V69, :V70, :V72, :V74, :V76, :DEAD, :ASIAN, :WHITE, :UNKNOWN/NOT SPECIFIED, :BLACK/AFRICAN AMERICAN, :PATIENT DECLINED TO ANSWER, :OTHER, :HISPANIC OR LATINO, :HISPANIC/LATINO - GUATEMALAN, :ASIAN - CHINESE, :HISPANIC/LATINO - PUERTO RICAN, :ASIAN - ASIAN INDIAN, :ASIAN - VIETNAMESE, :MULTI RACE ETHNICITY, :HISPANIC/LATINO - DOMINICAN, :AMERICAN INDIAN/ALASKA NATIVE, :WHITE - RUSSIAN, :BLACK/AFRICAN, :HISPANIC/LATINO - SALVADORAN, :UNABLE TO OBTAIN, :BLACK/CAPE VERDEAN, :BLACK/HAITIAN, :WHITE - OTHER EUROPEAN, :PORTUGUESE, :ASIAN - CAMBODIAN, :SOUTH AMERICAN, :WHITE - EASTERN EUROPEAN, :ASIAN - FILIPINO, :CARIBBEAN ISLAND, :ASIAN - KOREAN, :HISPANIC/LATINO - COLOMBIAN, :WHITE - BRAZILIAN, :NATIVE HAWAIIAN OR OTHER PACIFIC ISLANDER, :HISPANIC/LATINO - CENTRAL AMERICAN (OTHER), :ASIAN - JAPANESE, :ASIAN - THAI, :HISPANIC/LATINO - HONDURAN, :HISPANIC/LATINO - CUBAN, :MIDDLE EASTERN, :ASIAN - OTHER, :HISPANIC/LATINO - MEXICAN, :AMERICAN INDIAN/ALASKA NATIVE FEDERALLY RECOGNIZED TRIBE, "
     ]
    }
   ],
   "source": [
    "#column names\n",
    "   for name in names(df3)\n",
    "       print(\":\", name, \", \")\n",
    "   end\n"
   ]
  },
  {
   "cell_type": "code",
   "execution_count": 33,
   "metadata": {
    "scrolled": true
   },
   "outputs": [
    {
     "data": {
      "text/html": [
       "<table class=\"data-frame\"><thead><tr><th></th><th>variable</th><th>mean</th><th>min</th><th>median</th><th>max</th><th>nunique</th><th>nmissing</th><th>eltype</th></tr><tr><th></th><th>Symbol</th><th>Float64</th><th>Real</th><th>Float64</th><th>Real</th><th>Nothing</th><th>Nothing</th><th>DataType</th></tr></thead><tbody><p>920 rows × 8 columns</p><tr><th>1</th><td>LOS</td><td>6.70283</td><td>0.0006</td><td>3.0851</td><td>207.131</td><td></td><td></td><td>Float64</td></tr><tr><th>2</th><td>HOSPITALIZATION</td><td>1.50621</td><td>1</td><td>1.0</td><td>42</td><td></td><td></td><td>Int64</td></tr><tr><th>3</th><td>ORDINAL_AGE</td><td>7.27886</td><td>1</td><td>7.0</td><td>10</td><td></td><td></td><td>Int64</td></tr><tr><th>4</th><td>ELECTIVE</td><td>0.186712</td><td>0</td><td>0.0</td><td>1</td><td></td><td></td><td>Int64</td></tr><tr><th>5</th><td>EMERGENCY</td><td>0.850921</td><td>0</td><td>1.0</td><td>1</td><td></td><td></td><td>Int64</td></tr><tr><th>6</th><td>NEWBORN</td><td>9.69932e-5</td><td>0</td><td>0.0</td><td>1</td><td></td><td></td><td>Int64</td></tr><tr><th>7</th><td>URGENT</td><td>0.0393792</td><td>0</td><td>0.0</td><td>1</td><td></td><td></td><td>Int64</td></tr><tr><th>8</th><td>Government</td><td>0.0244423</td><td>0</td><td>0.0</td><td>1</td><td></td><td></td><td>Int64</td></tr><tr><th>9</th><td>Medicaid</td><td>0.0791465</td><td>0</td><td>0.0</td><td>1</td><td></td><td></td><td>Int64</td></tr><tr><th>10</th><td>Medicare</td><td>0.650533</td><td>0</td><td>1.0</td><td>1</td><td></td><td></td><td>Int64</td></tr><tr><th>11</th><td>Private</td><td>0.275849</td><td>0</td><td>0.0</td><td>1</td><td></td><td></td><td>Int64</td></tr><tr><th>12</th><td>Self Pay</td><td>0.00688652</td><td>0</td><td>0.0</td><td>1</td><td></td><td></td><td>Int64</td></tr><tr><th>13</th><td>DIVORCED</td><td>0.0677983</td><td>0</td><td>0.0</td><td>1</td><td></td><td></td><td>Int64</td></tr><tr><th>14</th><td>LIFE PARTNER</td><td>9.69932e-5</td><td>0</td><td>0.0</td><td>1</td><td></td><td></td><td>Int64</td></tr><tr><th>15</th><td>MARRIED</td><td>0.50291</td><td>0</td><td>1.0</td><td>1</td><td></td><td></td><td>Int64</td></tr><tr><th>16</th><td>NAN</td><td>0.0417071</td><td>0</td><td>0.0</td><td>1</td><td></td><td></td><td>Int64</td></tr><tr><th>17</th><td>SEPARATED</td><td>0.0129971</td><td>0</td><td>0.0</td><td>1</td><td></td><td></td><td>Int64</td></tr><tr><th>18</th><td>SINGLE</td><td>0.217459</td><td>0</td><td>0.0</td><td>1</td><td></td><td></td><td>Int64</td></tr><tr><th>19</th><td>UNKNOWN</td><td>0.00892338</td><td>0</td><td>0.0</td><td>1</td><td></td><td></td><td>Int64</td></tr><tr><th>20</th><td>WIDOWED</td><td>0.159748</td><td>0</td><td>0.0</td><td>1</td><td></td><td></td><td>Int64</td></tr><tr><th>21</th><td>GENDER</td><td>0.571678</td><td>0</td><td>1.0</td><td>1</td><td></td><td></td><td>Int64</td></tr><tr><th>22</th><td>3</td><td>9.69932e-5</td><td>0</td><td>0.0</td><td>1</td><td></td><td></td><td>Int64</td></tr><tr><th>23</th><td>4</td><td>9.69932e-5</td><td>0</td><td>0.0</td><td>1</td><td></td><td></td><td>Int64</td></tr><tr><th>24</th><td>5</td><td>9.69932e-5</td><td>0</td><td>0.0</td><td>1</td><td></td><td></td><td>Int64</td></tr><tr><th>25</th><td>7</td><td>9.69932e-5</td><td>0</td><td>0.0</td><td>1</td><td></td><td></td><td>Int64</td></tr><tr><th>26</th><td>8</td><td>0.0502425</td><td>0</td><td>0.0</td><td>1</td><td></td><td></td><td>Int64</td></tr><tr><th>27</th><td>9</td><td>0.0014549</td><td>0</td><td>0.0</td><td>1</td><td></td><td></td><td>Int64</td></tr><tr><th>28</th><td>10</td><td>9.69932e-5</td><td>0</td><td>0.0</td><td>1</td><td></td><td></td><td>Int64</td></tr><tr><th>29</th><td>11</td><td>0.000387973</td><td>0</td><td>0.0</td><td>1</td><td></td><td></td><td>Int64</td></tr><tr><th>30</th><td>12</td><td>9.69932e-5</td><td>0</td><td>0.0</td><td>1</td><td></td><td></td><td>Int64</td></tr><tr><th>&vellip;</th><td>&vellip;</td><td>&vellip;</td><td>&vellip;</td><td>&vellip;</td><td>&vellip;</td><td>&vellip;</td><td>&vellip;</td><td>&vellip;</td></tr></tbody></table>"
      ],
      "text/latex": [
       "\\begin{tabular}{r|cccccccc}\n",
       "\t& variable & mean & min & median & max & nunique & nmissing & eltype\\\\\n",
       "\t\\hline\n",
       "\t& Symbol & Float64 & Real & Float64 & Real & Nothing & Nothing & DataType\\\\\n",
       "\t\\hline\n",
       "\t1 & LOS & 6.70283 & 0.0006 & 3.0851 & 207.131 &  &  & Float64 \\\\\n",
       "\t2 & HOSPITALIZATION & 1.50621 & 1 & 1.0 & 42 &  &  & Int64 \\\\\n",
       "\t3 & ORDINAL\\_AGE & 7.27886 & 1 & 7.0 & 10 &  &  & Int64 \\\\\n",
       "\t4 & ELECTIVE & 0.186712 & 0 & 0.0 & 1 &  &  & Int64 \\\\\n",
       "\t5 & EMERGENCY & 0.850921 & 0 & 1.0 & 1 &  &  & Int64 \\\\\n",
       "\t6 & NEWBORN & 9.69932e-5 & 0 & 0.0 & 1 &  &  & Int64 \\\\\n",
       "\t7 & URGENT & 0.0393792 & 0 & 0.0 & 1 &  &  & Int64 \\\\\n",
       "\t8 & Government & 0.0244423 & 0 & 0.0 & 1 &  &  & Int64 \\\\\n",
       "\t9 & Medicaid & 0.0791465 & 0 & 0.0 & 1 &  &  & Int64 \\\\\n",
       "\t10 & Medicare & 0.650533 & 0 & 1.0 & 1 &  &  & Int64 \\\\\n",
       "\t11 & Private & 0.275849 & 0 & 0.0 & 1 &  &  & Int64 \\\\\n",
       "\t12 & Self Pay & 0.00688652 & 0 & 0.0 & 1 &  &  & Int64 \\\\\n",
       "\t13 & DIVORCED & 0.0677983 & 0 & 0.0 & 1 &  &  & Int64 \\\\\n",
       "\t14 & LIFE PARTNER & 9.69932e-5 & 0 & 0.0 & 1 &  &  & Int64 \\\\\n",
       "\t15 & MARRIED & 0.50291 & 0 & 1.0 & 1 &  &  & Int64 \\\\\n",
       "\t16 & NAN & 0.0417071 & 0 & 0.0 & 1 &  &  & Int64 \\\\\n",
       "\t17 & SEPARATED & 0.0129971 & 0 & 0.0 & 1 &  &  & Int64 \\\\\n",
       "\t18 & SINGLE & 0.217459 & 0 & 0.0 & 1 &  &  & Int64 \\\\\n",
       "\t19 & UNKNOWN & 0.00892338 & 0 & 0.0 & 1 &  &  & Int64 \\\\\n",
       "\t20 & WIDOWED & 0.159748 & 0 & 0.0 & 1 &  &  & Int64 \\\\\n",
       "\t21 & GENDER & 0.571678 & 0 & 1.0 & 1 &  &  & Int64 \\\\\n",
       "\t22 & 3 & 9.69932e-5 & 0 & 0.0 & 1 &  &  & Int64 \\\\\n",
       "\t23 & 4 & 9.69932e-5 & 0 & 0.0 & 1 &  &  & Int64 \\\\\n",
       "\t24 & 5 & 9.69932e-5 & 0 & 0.0 & 1 &  &  & Int64 \\\\\n",
       "\t25 & 7 & 9.69932e-5 & 0 & 0.0 & 1 &  &  & Int64 \\\\\n",
       "\t26 & 8 & 0.0502425 & 0 & 0.0 & 1 &  &  & Int64 \\\\\n",
       "\t27 & 9 & 0.0014549 & 0 & 0.0 & 1 &  &  & Int64 \\\\\n",
       "\t28 & 10 & 9.69932e-5 & 0 & 0.0 & 1 &  &  & Int64 \\\\\n",
       "\t29 & 11 & 0.000387973 & 0 & 0.0 & 1 &  &  & Int64 \\\\\n",
       "\t30 & 12 & 9.69932e-5 & 0 & 0.0 & 1 &  &  & Int64 \\\\\n",
       "\t$\\dots$ & $\\dots$ & $\\dots$ & $\\dots$ & $\\dots$ & $\\dots$ & $\\dots$ & $\\dots$ & $\\dots$ \\\\\n",
       "\\end{tabular}\n"
      ],
      "text/plain": [
       "920×8 DataFrame. Omitted printing of 6 columns\n",
       "│ Row │ variable                                                 │ mean        │\n",
       "│     │ \u001b[90mSymbol\u001b[39m                                                   │ \u001b[90mFloat64\u001b[39m     │\n",
       "├─────┼──────────────────────────────────────────────────────────┼─────────────┤\n",
       "│ 1   │ LOS                                                      │ 6.70283     │\n",
       "│ 2   │ HOSPITALIZATION                                          │ 1.50621     │\n",
       "│ 3   │ ORDINAL_AGE                                              │ 7.27886     │\n",
       "│ 4   │ ELECTIVE                                                 │ 0.186712    │\n",
       "│ 5   │ EMERGENCY                                                │ 0.850921    │\n",
       "│ 6   │ NEWBORN                                                  │ 9.69932e-5  │\n",
       "│ 7   │ URGENT                                                   │ 0.0393792   │\n",
       "│ 8   │ Government                                               │ 0.0244423   │\n",
       "│ 9   │ Medicaid                                                 │ 0.0791465   │\n",
       "│ 10  │ Medicare                                                 │ 0.650533    │\n",
       "⋮\n",
       "│ 910 │ WHITE - BRAZILIAN                                        │ 0.000484966 │\n",
       "│ 911 │ NATIVE HAWAIIAN OR OTHER PACIFIC ISLANDER                │ 0.000193986 │\n",
       "│ 912 │ HISPANIC/LATINO - CENTRAL AMERICAN (OTHER)               │ 0.000581959 │\n",
       "│ 913 │ ASIAN - JAPANESE                                         │ 0.000193986 │\n",
       "│ 914 │ ASIAN - THAI                                             │ 9.69932e-5  │\n",
       "│ 915 │ HISPANIC/LATINO - HONDURAN                               │ 0.0         │\n",
       "│ 916 │ HISPANIC/LATINO - CUBAN                                  │ 0.000581959 │\n",
       "│ 917 │ MIDDLE EASTERN                                           │ 0.000775946 │\n",
       "│ 918 │ ASIAN - OTHER                                            │ 0.000387973 │\n",
       "│ 919 │ HISPANIC/LATINO - MEXICAN                                │ 0.00029098  │\n",
       "│ 920 │ AMERICAN INDIAN/ALASKA NATIVE FEDERALLY RECOGNIZED TRIBE │ 0.0         │"
      ]
     },
     "execution_count": 33,
     "metadata": {},
     "output_type": "execute_result"
    }
   ],
   "source": [
    "describe(df3)"
   ]
  },
  {
   "cell_type": "code",
   "execution_count": 34,
   "metadata": {
    "scrolled": false
   },
   "outputs": [
    {
     "data": {
      "text/html": [
       "<table class=\"data-frame\"><thead><tr><th></th><th>Column1</th><th>%IncMSE</th><th>IncNodePurity</th></tr><tr><th></th><th>String</th><th>Float64</th><th>Float64</th></tr></thead><tbody><p>919 rows × 3 columns</p><tr><th>1</th><td>HOSPITALIZATION</td><td>3.23314</td><td>29429.1</td></tr><tr><th>2</th><td>ORDINAL_AGE</td><td>0.30524</td><td>5012.23</td></tr><tr><th>3</th><td>ELECTIVE</td><td>0.191691</td><td>1835.33</td></tr><tr><th>4</th><td>EMERGENCY</td><td>0.228631</td><td>1620.93</td></tr><tr><th>5</th><td>NEWBORN</td><td>0.0</td><td>0.79248</td></tr><tr><th>6</th><td>URGENT</td><td>0.0943459</td><td>1676.42</td></tr><tr><th>7</th><td>Government</td><td>0.0012362</td><td>320.536</td></tr><tr><th>8</th><td>Medicaid</td><td>-0.0291991</td><td>2072.1</td></tr><tr><th>9</th><td>Medicare</td><td>0.171314</td><td>1549.21</td></tr><tr><th>10</th><td>Private</td><td>0.204474</td><td>1781.15</td></tr><tr><th>11</th><td>Self.Pay</td><td>-0.00374605</td><td>193.301</td></tr><tr><th>12</th><td>DIVORCED</td><td>0.008138</td><td>954.676</td></tr><tr><th>13</th><td>LIFE.PARTNER</td><td>0.0</td><td>1.69523</td></tr><tr><th>14</th><td>MARRIED</td><td>0.050776</td><td>1715.11</td></tr><tr><th>15</th><td>NAN</td><td>-0.00774838</td><td>558.663</td></tr><tr><th>16</th><td>SEPARATED</td><td>-0.0112565</td><td>448.511</td></tr><tr><th>17</th><td>SINGLE</td><td>-0.0428076</td><td>1405.71</td></tr><tr><th>18</th><td>UNKNOWN</td><td>0.00400692</td><td>572.005</td></tr><tr><th>19</th><td>WIDOWED</td><td>0.0996021</td><td>988.705</td></tr><tr><th>20</th><td>GENDER</td><td>0.0198447</td><td>1722.33</td></tr><tr><th>21</th><td>X3</td><td>0.0</td><td>1.04769</td></tr><tr><th>22</th><td>X4</td><td>0.0</td><td>0.103577</td></tr><tr><th>23</th><td>X5</td><td>0.0</td><td>8.26532</td></tr><tr><th>24</th><td>X7</td><td>0.0</td><td>58.821</td></tr><tr><th>25</th><td>X8</td><td>0.401887</td><td>6641.47</td></tr><tr><th>26</th><td>X9</td><td>0.000618412</td><td>18.3981</td></tr><tr><th>27</th><td>X10</td><td>0.0</td><td>609.665</td></tr><tr><th>28</th><td>X11</td><td>0.0027859</td><td>83.1408</td></tr><tr><th>29</th><td>X12</td><td>0.0</td><td>14.5081</td></tr><tr><th>30</th><td>X13</td><td>2.96182e-5</td><td>2.54468</td></tr><tr><th>&vellip;</th><td>&vellip;</td><td>&vellip;</td><td>&vellip;</td></tr></tbody></table>"
      ],
      "text/latex": [
       "\\begin{tabular}{r|ccc}\n",
       "\t& Column1 & \\%IncMSE & IncNodePurity\\\\\n",
       "\t\\hline\n",
       "\t& String & Float64 & Float64\\\\\n",
       "\t\\hline\n",
       "\t1 & HOSPITALIZATION & 3.23314 & 29429.1 \\\\\n",
       "\t2 & ORDINAL\\_AGE & 0.30524 & 5012.23 \\\\\n",
       "\t3 & ELECTIVE & 0.191691 & 1835.33 \\\\\n",
       "\t4 & EMERGENCY & 0.228631 & 1620.93 \\\\\n",
       "\t5 & NEWBORN & 0.0 & 0.79248 \\\\\n",
       "\t6 & URGENT & 0.0943459 & 1676.42 \\\\\n",
       "\t7 & Government & 0.0012362 & 320.536 \\\\\n",
       "\t8 & Medicaid & -0.0291991 & 2072.1 \\\\\n",
       "\t9 & Medicare & 0.171314 & 1549.21 \\\\\n",
       "\t10 & Private & 0.204474 & 1781.15 \\\\\n",
       "\t11 & Self.Pay & -0.00374605 & 193.301 \\\\\n",
       "\t12 & DIVORCED & 0.008138 & 954.676 \\\\\n",
       "\t13 & LIFE.PARTNER & 0.0 & 1.69523 \\\\\n",
       "\t14 & MARRIED & 0.050776 & 1715.11 \\\\\n",
       "\t15 & NAN & -0.00774838 & 558.663 \\\\\n",
       "\t16 & SEPARATED & -0.0112565 & 448.511 \\\\\n",
       "\t17 & SINGLE & -0.0428076 & 1405.71 \\\\\n",
       "\t18 & UNKNOWN & 0.00400692 & 572.005 \\\\\n",
       "\t19 & WIDOWED & 0.0996021 & 988.705 \\\\\n",
       "\t20 & GENDER & 0.0198447 & 1722.33 \\\\\n",
       "\t21 & X3 & 0.0 & 1.04769 \\\\\n",
       "\t22 & X4 & 0.0 & 0.103577 \\\\\n",
       "\t23 & X5 & 0.0 & 8.26532 \\\\\n",
       "\t24 & X7 & 0.0 & 58.821 \\\\\n",
       "\t25 & X8 & 0.401887 & 6641.47 \\\\\n",
       "\t26 & X9 & 0.000618412 & 18.3981 \\\\\n",
       "\t27 & X10 & 0.0 & 609.665 \\\\\n",
       "\t28 & X11 & 0.0027859 & 83.1408 \\\\\n",
       "\t29 & X12 & 0.0 & 14.5081 \\\\\n",
       "\t30 & X13 & 2.96182e-5 & 2.54468 \\\\\n",
       "\t$\\dots$ & $\\dots$ & $\\dots$ & $\\dots$ \\\\\n",
       "\\end{tabular}\n"
      ],
      "text/plain": [
       "919×3 DataFrame. Omitted printing of 2 columns\n",
       "│ Row │ Column1                                                  │\n",
       "│     │ \u001b[90mString\u001b[39m                                                   │\n",
       "├─────┼──────────────────────────────────────────────────────────┤\n",
       "│ 1   │ HOSPITALIZATION                                          │\n",
       "│ 2   │ ORDINAL_AGE                                              │\n",
       "│ 3   │ ELECTIVE                                                 │\n",
       "│ 4   │ EMERGENCY                                                │\n",
       "│ 5   │ NEWBORN                                                  │\n",
       "│ 6   │ URGENT                                                   │\n",
       "│ 7   │ Government                                               │\n",
       "│ 8   │ Medicaid                                                 │\n",
       "│ 9   │ Medicare                                                 │\n",
       "│ 10  │ Private                                                  │\n",
       "⋮\n",
       "│ 909 │ WHITE...BRAZILIAN                                        │\n",
       "│ 910 │ NATIVE.HAWAIIAN.OR.OTHER.PACIFIC.ISLANDER                │\n",
       "│ 911 │ HISPANIC.LATINO...CENTRAL.AMERICAN..OTHER.               │\n",
       "│ 912 │ ASIAN...JAPANESE                                         │\n",
       "│ 913 │ ASIAN...THAI                                             │\n",
       "│ 914 │ HISPANIC.LATINO...HONDURAN                               │\n",
       "│ 915 │ HISPANIC.LATINO...CUBAN                                  │\n",
       "│ 916 │ MIDDLE.EASTERN                                           │\n",
       "│ 917 │ ASIAN...OTHER                                            │\n",
       "│ 918 │ HISPANIC.LATINO...MEXICAN                                │\n",
       "│ 919 │ AMERICAN.INDIAN.ALASKA.NATIVE.FEDERALLY.RECOGNIZED.TRIBE │"
      ]
     },
     "execution_count": 34,
     "metadata": {},
     "output_type": "execute_result"
    }
   ],
   "source": [
    "imp = CSV.read(\"../data/Random_Forest_Importance.csv\")\n",
    "imp"
   ]
  },
  {
   "cell_type": "markdown",
   "metadata": {},
   "source": [
    "# K-means With inner iteration = 40"
   ]
  },
  {
   "cell_type": "code",
   "execution_count": 1,
   "metadata": {
    "scrolled": true
   },
   "outputs": [
    {
     "ename": "UndefVarError",
     "evalue": "UndefVarError: HuberLoss not defined",
     "output_type": "error",
     "traceback": [
      "UndefVarError: HuberLoss not defined",
      "",
      "Stacktrace:",
      " [1] top-level scope at In[1]:1"
     ]
    }
   ],
   "source": [
    "loss1 = fill(HuberLoss(),2)\n",
    "loss2 = fill(HingeLoss(), 917)\n",
    "loss3 = fill(OrdinalHingeLoss(), 1)\n",
    "losses = [loss1; loss3; loss2]\n",
    "\n",
    "losses"
   ]
  },
  {
   "cell_type": "markdown",
   "metadata": {},
   "source": [
    "###### k = 7\n",
    "A= df3\n",
    "rx = UnitOneSparseConstraint()\n",
    "ry = ZeroReg()\n",
    "glrm7 = GLRM(A,losses,rx,ry,k)\n",
    "params7 = ProxGradParams(inner_iter_Y=100)\n",
    "X7,Y7,ch7 = fit!(glrm7, params7)"
   ]
  },
  {
   "cell_type": "code",
   "execution_count": 25,
   "metadata": {
    "scrolled": true
   },
   "outputs": [
    {
     "name": "stdout",
     "output_type": "stream",
     "text": [
      "Fitting GLRM\n",
      "Iteration 10: objective value = 455586.3300457709\n"
     ]
    },
    {
     "data": {
      "text/plain": [
       "([0.0 1.0 … 0.0 0.0; 0.0 0.0 … 0.0 0.0; … ; 0.0 0.0 … 0.0 0.0; 0.0 0.0 … 0.0 0.0], [2.891401019255788 1.284647977777654 … -1.0000003485855393 -1.201684890925261; 3.0472118483057886 1.3019132138356035 … -1.054510468064438 -1.3203688977059513; … ; 3.0014550786000904 1.2768594556466304 … -1.1530029427806434 -1.0655229446433998; 3.042416092591336 1.2506347420467852 … -1.0002717324856651 -1.1643981186670789], ConvergenceHistory(\"ProxGradGLRM\", [Inf, 456816.440335322, 455663.05238130275, 455619.15154361044, 455604.71384979086, 455599.1661339887, 455595.5450104161, 455592.62139858556, 455590.0949900498, 455588.0714520461, 455586.3300457709, 455584.80367816816], Float64[], [0.0, 0.0, 0.0, 0.0, 0.0, 0.0, 0.0, 0.0, 0.0, 0.0, 0.0, 0.0], [0.0, 0.0, 0.0, 0.0, 0.0, 0.0, 0.0, 0.0, 0.0, 0.0, 0.0, 0.0], [0.0, 211.11720514297485, 449.2978570461273, 726.6846570968628, 984.5985560417175, 1234.489140033722, 1481.4453201293945, 1727.8016421794891, 1974.2346062660217, 2224.085343360901, 2475.9831013679504, 2721.22523522377], [0.0, 0.0, 0.0, 0.0, 0.0, 0.0, 0.0, 0.0, 0.0, 0.0, 0.0, 0.0], 0))"
      ]
     },
     "execution_count": 25,
     "metadata": {},
     "output_type": "execute_result"
    }
   ],
   "source": [
    "\"\"\"\n",
    "k = 7\n",
    "A= df3\n",
    "rx = UnitOneSparseConstraint()\n",
    "ry = ZeroReg()\n",
    "glrm7 = GLRM(A,losses,rx,ry,k)\n",
    "params7 = ProxGradParams(inner_iter_Y=40)\n",
    "X7,Y7,ch7 = fit!(glrm7, params7)\n",
    "\"\"\""
   ]
  },
  {
   "cell_type": "code",
   "execution_count": 10,
   "metadata": {},
   "outputs": [
    {
     "data": {
      "text/plain": [
       "7×10310 Array{Float64,2}:\n",
       " 0.0  0.0  1.0  0.0  1.0  0.0  0.0  0.0  …  0.0  0.0  1.0  0.0  0.0  0.0  0.0\n",
       " 0.0  1.0  0.0  0.0  0.0  0.0  0.0  0.0     0.0  0.0  0.0  0.0  0.0  1.0  0.0\n",
       " 0.0  0.0  0.0  0.0  0.0  0.0  0.0  1.0     1.0  0.0  0.0  0.0  0.0  0.0  0.0\n",
       " 1.0  0.0  0.0  0.0  0.0  0.0  0.0  0.0     0.0  0.0  0.0  0.0  0.0  0.0  0.0\n",
       " 0.0  0.0  0.0  0.0  0.0  1.0  0.0  0.0     0.0  1.0  0.0  0.0  0.0  0.0  0.0\n",
       " 0.0  0.0  0.0  0.0  0.0  0.0  0.0  0.0  …  0.0  0.0  0.0  1.0  1.0  0.0  1.0\n",
       " 0.0  0.0  0.0  1.0  0.0  0.0  1.0  0.0     0.0  0.0  0.0  0.0  0.0  0.0  0.0"
      ]
     },
     "execution_count": 10,
     "metadata": {},
     "output_type": "execute_result"
    }
   ],
   "source": [
    "X7"
   ]
  },
  {
   "cell_type": "code",
   "execution_count": 11,
   "metadata": {},
   "outputs": [
    {
     "name": "stdout",
     "output_type": "stream",
     "text": [
      "Computing cross validation error for each fold\n",
      "flattening observations\n",
      "computing CV folds\n",
      "\n",
      "forming train and test GLRM for fold 1\n",
      "training model on 4742124 samples and testing on 4743076\n",
      "fitting train GLRM for fold 1\n",
      "Fitting GLRM\n",
      "Iteration 10: objective value = 226781.71437389767\n",
      "computing train and test error for fold 1:\n",
      "\ttrain error: 0.04782224217856629\n",
      "\ttest error:  0.04813035228638062\n",
      "\n",
      "forming train and test GLRM for fold 2\n",
      "training model on 4743076 samples and testing on 4742124\n",
      "fitting train GLRM for fold 2\n",
      "Fitting GLRM\n",
      "Iteration 10: objective value = 228273.7717253448\n",
      "computing train and test error for fold 2:\n",
      "\ttrain error: 0.04812738528291502\n",
      "\ttest error:  0.04782559310411637\n"
     ]
    },
    {
     "data": {
      "text/html": [
       "<table class=\"data-frame\"><thead><tr><th></th><th>train_error</th><th>test_error</th></tr><tr><th></th><th>Float64</th><th>Float64</th></tr></thead><tbody><p>2 rows × 2 columns</p><tr><th>1</th><td>0.0478222</td><td>0.0481304</td></tr><tr><th>2</th><td>0.0481274</td><td>0.0478256</td></tr></tbody></table>"
      ],
      "text/latex": [
       "\\begin{tabular}{r|cc}\n",
       "\t& train\\_error & test\\_error\\\\\n",
       "\t\\hline\n",
       "\t& Float64 & Float64\\\\\n",
       "\t\\hline\n",
       "\t1 & 0.0478222 & 0.0481304 \\\\\n",
       "\t2 & 0.0481274 & 0.0478256 \\\\\n",
       "\\end{tabular}\n"
      ],
      "text/plain": [
       "2×2 DataFrame\n",
       "│ Row │ train_error │ test_error │\n",
       "│     │ \u001b[90mFloat64\u001b[39m     │ \u001b[90mFloat64\u001b[39m    │\n",
       "├─────┼─────────────┼────────────┤\n",
       "│ 1   │ 0.0478222   │ 0.0481304  │\n",
       "│ 2   │ 0.0481274   │ 0.0478256  │"
      ]
     },
     "execution_count": 11,
     "metadata": {},
     "output_type": "execute_result"
    }
   ],
   "source": [
    "println(\"Computing cross validation error for each fold\")\n",
    "params = Params(1.0, max_iter=100, abs_tol=0.0, min_stepsize=.001)\n",
    "train_error, test_error, train_glrms, test_glrms = cross_validate(glrm7, nfolds=2, params=params)\n",
    "df = DataFrame(train_error = train_error, test_error = test_error)"
   ]
  },
  {
   "cell_type": "code",
   "execution_count": null,
   "metadata": {},
   "outputs": [],
   "source": []
  },
  {
   "cell_type": "code",
   "execution_count": 12,
   "metadata": {},
   "outputs": [
    {
     "data": {
      "text/html": [
       "<table class=\"data-frame\"><thead><tr><th></th><th>x1</th><th>x2</th><th>x3</th><th>x4</th><th>x5</th><th>x6</th><th>x7</th><th>x8</th><th>x9</th></tr><tr><th></th><th>Float64</th><th>Float64</th><th>Float64</th><th>Float64</th><th>Float64</th><th>Float64</th><th>Float64</th><th>Float64</th><th>Float64</th></tr></thead><tbody><p>7 rows × 10,310 columns (omitted printing of 10301 columns)</p><tr><th>1</th><td>0.0</td><td>0.0</td><td>1.0</td><td>0.0</td><td>1.0</td><td>0.0</td><td>0.0</td><td>0.0</td><td>0.0</td></tr><tr><th>2</th><td>0.0</td><td>1.0</td><td>0.0</td><td>0.0</td><td>0.0</td><td>0.0</td><td>0.0</td><td>0.0</td><td>0.0</td></tr><tr><th>3</th><td>0.0</td><td>0.0</td><td>0.0</td><td>0.0</td><td>0.0</td><td>0.0</td><td>0.0</td><td>1.0</td><td>0.0</td></tr><tr><th>4</th><td>1.0</td><td>0.0</td><td>0.0</td><td>0.0</td><td>0.0</td><td>0.0</td><td>0.0</td><td>0.0</td><td>1.0</td></tr><tr><th>5</th><td>0.0</td><td>0.0</td><td>0.0</td><td>0.0</td><td>0.0</td><td>1.0</td><td>0.0</td><td>0.0</td><td>0.0</td></tr><tr><th>6</th><td>0.0</td><td>0.0</td><td>0.0</td><td>0.0</td><td>0.0</td><td>0.0</td><td>0.0</td><td>0.0</td><td>0.0</td></tr><tr><th>7</th><td>0.0</td><td>0.0</td><td>0.0</td><td>1.0</td><td>0.0</td><td>0.0</td><td>1.0</td><td>0.0</td><td>0.0</td></tr></tbody></table>"
      ],
      "text/latex": [
       "\\begin{tabular}{r|cccccccccc}\n",
       "\t& x1 & x2 & x3 & x4 & x5 & x6 & x7 & x8 & x9 & \\\\\n",
       "\t\\hline\n",
       "\t& Float64 & Float64 & Float64 & Float64 & Float64 & Float64 & Float64 & Float64 & Float64 & \\\\\n",
       "\t\\hline\n",
       "\t1 & 0.0 & 0.0 & 1.0 & 0.0 & 1.0 & 0.0 & 0.0 & 0.0 & 0.0 & $\\dots$ \\\\\n",
       "\t2 & 0.0 & 1.0 & 0.0 & 0.0 & 0.0 & 0.0 & 0.0 & 0.0 & 0.0 & $\\dots$ \\\\\n",
       "\t3 & 0.0 & 0.0 & 0.0 & 0.0 & 0.0 & 0.0 & 0.0 & 1.0 & 0.0 & $\\dots$ \\\\\n",
       "\t4 & 1.0 & 0.0 & 0.0 & 0.0 & 0.0 & 0.0 & 0.0 & 0.0 & 1.0 & $\\dots$ \\\\\n",
       "\t5 & 0.0 & 0.0 & 0.0 & 0.0 & 0.0 & 1.0 & 0.0 & 0.0 & 0.0 & $\\dots$ \\\\\n",
       "\t6 & 0.0 & 0.0 & 0.0 & 0.0 & 0.0 & 0.0 & 0.0 & 0.0 & 0.0 & $\\dots$ \\\\\n",
       "\t7 & 0.0 & 0.0 & 0.0 & 1.0 & 0.0 & 0.0 & 1.0 & 0.0 & 0.0 & $\\dots$ \\\\\n",
       "\\end{tabular}\n"
      ],
      "text/plain": [
       "7×10310 DataFrame. Omitted printing of 10303 columns\n",
       "│ Row │ x1      │ x2      │ x3      │ x4      │ x5      │ x6      │ x7      │\n",
       "│     │ \u001b[90mFloat64\u001b[39m │ \u001b[90mFloat64\u001b[39m │ \u001b[90mFloat64\u001b[39m │ \u001b[90mFloat64\u001b[39m │ \u001b[90mFloat64\u001b[39m │ \u001b[90mFloat64\u001b[39m │ \u001b[90mFloat64\u001b[39m │\n",
       "├─────┼─────────┼─────────┼─────────┼─────────┼─────────┼─────────┼─────────┤\n",
       "│ 1   │ 0.0     │ 0.0     │ 1.0     │ 0.0     │ 1.0     │ 0.0     │ 0.0     │\n",
       "│ 2   │ 0.0     │ 1.0     │ 0.0     │ 0.0     │ 0.0     │ 0.0     │ 0.0     │\n",
       "│ 3   │ 0.0     │ 0.0     │ 0.0     │ 0.0     │ 0.0     │ 0.0     │ 0.0     │\n",
       "│ 4   │ 1.0     │ 0.0     │ 0.0     │ 0.0     │ 0.0     │ 0.0     │ 0.0     │\n",
       "│ 5   │ 0.0     │ 0.0     │ 0.0     │ 0.0     │ 0.0     │ 1.0     │ 0.0     │\n",
       "│ 6   │ 0.0     │ 0.0     │ 0.0     │ 0.0     │ 0.0     │ 0.0     │ 0.0     │\n",
       "│ 7   │ 0.0     │ 0.0     │ 0.0     │ 1.0     │ 0.0     │ 0.0     │ 1.0     │"
      ]
     },
     "execution_count": 12,
     "metadata": {},
     "output_type": "execute_result"
    }
   ],
   "source": [
    "hingek7 = convert(DataFrame, X7) "
   ]
  },
  {
   "cell_type": "code",
   "execution_count": 13,
   "metadata": {},
   "outputs": [
    {
     "data": {
      "text/html": [
       "<table class=\"data-frame\"><thead><tr><th></th><th>x1</th><th>x2</th><th>x3</th><th>x4</th><th>x5</th><th>x6</th><th>x7</th><th>x8</th><th>x9</th></tr><tr><th></th><th>Float64</th><th>Float64</th><th>Float64</th><th>Float64</th><th>Float64</th><th>Float64</th><th>Float64</th><th>Float64</th><th>Float64</th></tr></thead><tbody><p>7 rows × 10,310 columns (omitted printing of 10301 columns)</p><tr><th>1</th><td>0.0</td><td>0.0</td><td>1.0</td><td>0.0</td><td>1.0</td><td>0.0</td><td>0.0</td><td>0.0</td><td>0.0</td></tr><tr><th>2</th><td>0.0</td><td>1.0</td><td>0.0</td><td>0.0</td><td>0.0</td><td>0.0</td><td>0.0</td><td>0.0</td><td>0.0</td></tr><tr><th>3</th><td>0.0</td><td>0.0</td><td>0.0</td><td>0.0</td><td>0.0</td><td>0.0</td><td>0.0</td><td>1.0</td><td>0.0</td></tr><tr><th>4</th><td>1.0</td><td>0.0</td><td>0.0</td><td>0.0</td><td>0.0</td><td>0.0</td><td>0.0</td><td>0.0</td><td>1.0</td></tr><tr><th>5</th><td>0.0</td><td>0.0</td><td>0.0</td><td>0.0</td><td>0.0</td><td>1.0</td><td>0.0</td><td>0.0</td><td>0.0</td></tr><tr><th>6</th><td>0.0</td><td>0.0</td><td>0.0</td><td>0.0</td><td>0.0</td><td>0.0</td><td>0.0</td><td>0.0</td><td>0.0</td></tr><tr><th>7</th><td>0.0</td><td>0.0</td><td>0.0</td><td>1.0</td><td>0.0</td><td>0.0</td><td>1.0</td><td>0.0</td><td>0.0</td></tr></tbody></table>"
      ],
      "text/latex": [
       "\\begin{tabular}{r|cccccccccc}\n",
       "\t& x1 & x2 & x3 & x4 & x5 & x6 & x7 & x8 & x9 & \\\\\n",
       "\t\\hline\n",
       "\t& Float64 & Float64 & Float64 & Float64 & Float64 & Float64 & Float64 & Float64 & Float64 & \\\\\n",
       "\t\\hline\n",
       "\t1 & 0.0 & 0.0 & 1.0 & 0.0 & 1.0 & 0.0 & 0.0 & 0.0 & 0.0 & $\\dots$ \\\\\n",
       "\t2 & 0.0 & 1.0 & 0.0 & 0.0 & 0.0 & 0.0 & 0.0 & 0.0 & 0.0 & $\\dots$ \\\\\n",
       "\t3 & 0.0 & 0.0 & 0.0 & 0.0 & 0.0 & 0.0 & 0.0 & 1.0 & 0.0 & $\\dots$ \\\\\n",
       "\t4 & 1.0 & 0.0 & 0.0 & 0.0 & 0.0 & 0.0 & 0.0 & 0.0 & 1.0 & $\\dots$ \\\\\n",
       "\t5 & 0.0 & 0.0 & 0.0 & 0.0 & 0.0 & 1.0 & 0.0 & 0.0 & 0.0 & $\\dots$ \\\\\n",
       "\t6 & 0.0 & 0.0 & 0.0 & 0.0 & 0.0 & 0.0 & 0.0 & 0.0 & 0.0 & $\\dots$ \\\\\n",
       "\t7 & 0.0 & 0.0 & 0.0 & 1.0 & 0.0 & 0.0 & 1.0 & 0.0 & 0.0 & $\\dots$ \\\\\n",
       "\\end{tabular}\n"
      ],
      "text/plain": [
       "7×10310 DataFrame. Omitted printing of 10303 columns\n",
       "│ Row │ x1      │ x2      │ x3      │ x4      │ x5      │ x6      │ x7      │\n",
       "│     │ \u001b[90mFloat64\u001b[39m │ \u001b[90mFloat64\u001b[39m │ \u001b[90mFloat64\u001b[39m │ \u001b[90mFloat64\u001b[39m │ \u001b[90mFloat64\u001b[39m │ \u001b[90mFloat64\u001b[39m │ \u001b[90mFloat64\u001b[39m │\n",
       "├─────┼─────────┼─────────┼─────────┼─────────┼─────────┼─────────┼─────────┤\n",
       "│ 1   │ 0.0     │ 0.0     │ 1.0     │ 0.0     │ 1.0     │ 0.0     │ 0.0     │\n",
       "│ 2   │ 0.0     │ 1.0     │ 0.0     │ 0.0     │ 0.0     │ 0.0     │ 0.0     │\n",
       "│ 3   │ 0.0     │ 0.0     │ 0.0     │ 0.0     │ 0.0     │ 0.0     │ 0.0     │\n",
       "│ 4   │ 1.0     │ 0.0     │ 0.0     │ 0.0     │ 0.0     │ 0.0     │ 0.0     │\n",
       "│ 5   │ 0.0     │ 0.0     │ 0.0     │ 0.0     │ 0.0     │ 1.0     │ 0.0     │\n",
       "│ 6   │ 0.0     │ 0.0     │ 0.0     │ 0.0     │ 0.0     │ 0.0     │ 0.0     │\n",
       "│ 7   │ 0.0     │ 0.0     │ 0.0     │ 1.0     │ 0.0     │ 0.0     │ 1.0     │"
      ]
     },
     "execution_count": 13,
     "metadata": {},
     "output_type": "execute_result"
    }
   ],
   "source": [
    "CSV.write(\"/Users/kathy908000/github/health-care-research/data/hingeparam100.7.csv\",  hingek7)\n",
    "CSV.read(\"/Users/kathy908000/github/health-care-research/data/hingeparam100.7.csv\")\n"
   ]
  },
  {
   "cell_type": "code",
   "execution_count": 29,
   "metadata": {
    "scrolled": true
   },
   "outputs": [
    {
     "data": {
      "text/html": [
       "<table class=\"data-frame\"><thead><tr><th></th><th>x1</th><th>x2</th><th>x3</th><th>x4</th><th>x5</th><th>x6</th><th>x7</th><th>x8</th><th>x9</th></tr><tr><th></th><th>Float64</th><th>Float64</th><th>Float64</th><th>Float64</th><th>Float64</th><th>Float64</th><th>Float64</th><th>Float64</th><th>Float64</th></tr></thead><tbody><p>7 rows × 10,310 columns (omitted printing of 10301 columns)</p><tr><th>1</th><td>0.0</td><td>1.0</td><td>0.0</td><td>0.0</td><td>0.0</td><td>0.0</td><td>1.0</td><td>0.0</td><td>0.0</td></tr><tr><th>2</th><td>0.0</td><td>0.0</td><td>1.0</td><td>0.0</td><td>1.0</td><td>1.0</td><td>0.0</td><td>0.0</td><td>0.0</td></tr><tr><th>3</th><td>0.0</td><td>0.0</td><td>0.0</td><td>0.0</td><td>0.0</td><td>0.0</td><td>0.0</td><td>0.0</td><td>0.0</td></tr><tr><th>4</th><td>1.0</td><td>0.0</td><td>0.0</td><td>1.0</td><td>0.0</td><td>0.0</td><td>0.0</td><td>0.0</td><td>1.0</td></tr><tr><th>5</th><td>0.0</td><td>0.0</td><td>0.0</td><td>0.0</td><td>0.0</td><td>0.0</td><td>0.0</td><td>1.0</td><td>0.0</td></tr><tr><th>6</th><td>0.0</td><td>0.0</td><td>0.0</td><td>0.0</td><td>0.0</td><td>0.0</td><td>0.0</td><td>0.0</td><td>0.0</td></tr><tr><th>7</th><td>0.0</td><td>0.0</td><td>0.0</td><td>0.0</td><td>0.0</td><td>0.0</td><td>0.0</td><td>0.0</td><td>0.0</td></tr></tbody></table>"
      ],
      "text/latex": [
       "\\begin{tabular}{r|cccccccccc}\n",
       "\t& x1 & x2 & x3 & x4 & x5 & x6 & x7 & x8 & x9 & \\\\\n",
       "\t\\hline\n",
       "\t& Float64 & Float64 & Float64 & Float64 & Float64 & Float64 & Float64 & Float64 & Float64 & \\\\\n",
       "\t\\hline\n",
       "\t1 & 0.0 & 1.0 & 0.0 & 0.0 & 0.0 & 0.0 & 1.0 & 0.0 & 0.0 & $\\dots$ \\\\\n",
       "\t2 & 0.0 & 0.0 & 1.0 & 0.0 & 1.0 & 1.0 & 0.0 & 0.0 & 0.0 & $\\dots$ \\\\\n",
       "\t3 & 0.0 & 0.0 & 0.0 & 0.0 & 0.0 & 0.0 & 0.0 & 0.0 & 0.0 & $\\dots$ \\\\\n",
       "\t4 & 1.0 & 0.0 & 0.0 & 1.0 & 0.0 & 0.0 & 0.0 & 0.0 & 1.0 & $\\dots$ \\\\\n",
       "\t5 & 0.0 & 0.0 & 0.0 & 0.0 & 0.0 & 0.0 & 0.0 & 1.0 & 0.0 & $\\dots$ \\\\\n",
       "\t6 & 0.0 & 0.0 & 0.0 & 0.0 & 0.0 & 0.0 & 0.0 & 0.0 & 0.0 & $\\dots$ \\\\\n",
       "\t7 & 0.0 & 0.0 & 0.0 & 0.0 & 0.0 & 0.0 & 0.0 & 0.0 & 0.0 & $\\dots$ \\\\\n",
       "\\end{tabular}\n"
      ],
      "text/plain": [
       "7×10310 DataFrame. Omitted printing of 10303 columns\n",
       "│ Row │ x1      │ x2      │ x3      │ x4      │ x5      │ x6      │ x7      │\n",
       "│     │ \u001b[90mFloat64\u001b[39m │ \u001b[90mFloat64\u001b[39m │ \u001b[90mFloat64\u001b[39m │ \u001b[90mFloat64\u001b[39m │ \u001b[90mFloat64\u001b[39m │ \u001b[90mFloat64\u001b[39m │ \u001b[90mFloat64\u001b[39m │\n",
       "├─────┼─────────┼─────────┼─────────┼─────────┼─────────┼─────────┼─────────┤\n",
       "│ 1   │ 0.0     │ 1.0     │ 0.0     │ 0.0     │ 0.0     │ 0.0     │ 1.0     │\n",
       "│ 2   │ 0.0     │ 0.0     │ 1.0     │ 0.0     │ 1.0     │ 1.0     │ 0.0     │\n",
       "│ 3   │ 0.0     │ 0.0     │ 0.0     │ 0.0     │ 0.0     │ 0.0     │ 0.0     │\n",
       "│ 4   │ 1.0     │ 0.0     │ 0.0     │ 1.0     │ 0.0     │ 0.0     │ 0.0     │\n",
       "│ 5   │ 0.0     │ 0.0     │ 0.0     │ 0.0     │ 0.0     │ 0.0     │ 0.0     │\n",
       "│ 6   │ 0.0     │ 0.0     │ 0.0     │ 0.0     │ 0.0     │ 0.0     │ 0.0     │\n",
       "│ 7   │ 0.0     │ 0.0     │ 0.0     │ 0.0     │ 0.0     │ 0.0     │ 0.0     │"
      ]
     },
     "execution_count": 29,
     "metadata": {},
     "output_type": "execute_result"
    }
   ],
   "source": [
    "CSV.write(\"/Users/kathy908000/github/health-care-research/data/hingeparam7.csv\",  hingek7)\n",
    "CSV.read(\"/Users/kathy908000/github/health-care-research/data/hingeparam7.csv\")\n"
   ]
  },
  {
   "cell_type": "code",
   "execution_count": 30,
   "metadata": {},
   "outputs": [],
   "source": [
    "#k=6"
   ]
  },
  {
   "cell_type": "code",
   "execution_count": 25,
   "metadata": {
    "scrolled": true
   },
   "outputs": [
    {
     "data": {
      "text/plain": [
       "920-element Array{Loss,1}:\n",
       " HuberLoss(1.0, RealDomain(), 1.0)\n",
       " HuberLoss(1.0, RealDomain(), 1.0)\n",
       " OrdinalHingeLoss(1, 10, 1.0, OrdinalDomain(1, 10))\n",
       " WeightedHingeLoss(1.0, BoolDomain(), 1.0)\n",
       " WeightedHingeLoss(1.0, BoolDomain(), 1.0)\n",
       " WeightedHingeLoss(1.0, BoolDomain(), 1.0)\n",
       " WeightedHingeLoss(1.0, BoolDomain(), 1.0)\n",
       " WeightedHingeLoss(1.0, BoolDomain(), 1.0)\n",
       " WeightedHingeLoss(1.0, BoolDomain(), 1.0)\n",
       " WeightedHingeLoss(1.0, BoolDomain(), 1.0)\n",
       " WeightedHingeLoss(1.0, BoolDomain(), 1.0)\n",
       " WeightedHingeLoss(1.0, BoolDomain(), 1.0)\n",
       " WeightedHingeLoss(1.0, BoolDomain(), 1.0)\n",
       " ⋮\n",
       " WeightedHingeLoss(1.0, BoolDomain(), 1.0)\n",
       " WeightedHingeLoss(1.0, BoolDomain(), 1.0)\n",
       " WeightedHingeLoss(1.0, BoolDomain(), 1.0)\n",
       " WeightedHingeLoss(1.0, BoolDomain(), 1.0)\n",
       " WeightedHingeLoss(1.0, BoolDomain(), 1.0)\n",
       " WeightedHingeLoss(1.0, BoolDomain(), 1.0)\n",
       " WeightedHingeLoss(1.0, BoolDomain(), 1.0)\n",
       " WeightedHingeLoss(1.0, BoolDomain(), 1.0)\n",
       " WeightedHingeLoss(1.0, BoolDomain(), 1.0)\n",
       " WeightedHingeLoss(1.0, BoolDomain(), 1.0)\n",
       " WeightedHingeLoss(1.0, BoolDomain(), 1.0)\n",
       " WeightedHingeLoss(1.0, BoolDomain(), 1.0)"
      ]
     },
     "execution_count": 25,
     "metadata": {},
     "output_type": "execute_result"
    }
   ],
   "source": [
    "loss1 = fill(HuberLoss(),2)\n",
    "loss2 = fill(HingeLoss(), 917)\n",
    "loss3 = fill(OrdinalHingeLoss(), 1)\n",
    "losses = [loss1; loss3; loss2]\n",
    "losses"
   ]
  },
  {
   "cell_type": "code",
   "execution_count": 26,
   "metadata": {},
   "outputs": [
    {
     "name": "stdout",
     "output_type": "stream",
     "text": [
      "Fitting GLRM\n",
      "Iteration 10: objective value = 458147.6334159647\n"
     ]
    },
    {
     "data": {
      "text/plain": [
       "([0.0 0.0 … 0.0 0.0; 0.0 0.0 … 0.0 0.0; … ; 0.0 0.0 … 0.0 0.0; 0.0 0.0 … 0.0 0.0], [2.862139646112679 1.2882879242529348 … -1.4142629657705146 -1.0953637622419514; 3.120776367275652 1.321049766273326 … -1.0094524446793753 -1.0795313884425397; … ; 3.0049082038353023 1.2792889112368235 … -1.1812218381940358 -1.325774051714759; 3.019549514314535 1.2672591030708074 … -1.0458303459879459 -1.0459889046099078], ConvergenceHistory(\"ProxGradGLRM\", [Inf, 458761.2946550906, 458222.3481236272, 458186.0534051756, 458173.4583447895, 458165.5477371825, 458159.4926408788, 458155.17257049057, 458151.9948982341, 458149.5871506245, 458147.6334159647, 458146.0088561262], Float64[], [0.0, 0.0, 0.0, 0.0, 0.0, 0.0, 0.0, 0.0, 0.0, 0.0, 0.0, 0.0], [0.0, 0.0, 0.0, 0.0, 0.0, 0.0, 0.0, 0.0, 0.0, 0.0, 0.0, 0.0], [0.0, 227.18541502952576, 482.83217000961304, 737.7277908325195, 1094.9590647220612, 1361.526443719864, 1637.1732137203217, 1887.304390668869, 2192.9811835289, 2474.447030544281, 2737.5539355278015, 3042.6763784885406], [0.0, 0.0, 0.0, 0.0, 0.0, 0.0, 0.0, 0.0, 0.0, 0.0, 0.0, 0.0], 0))"
      ]
     },
     "execution_count": 26,
     "metadata": {},
     "output_type": "execute_result"
    }
   ],
   "source": [
    "k = 6\n",
    "A= df3\n",
    "rx = UnitOneSparseConstraint()\n",
    "ry = ZeroReg()\n",
    "glrm640 = GLRM(A,losses,rx,ry,k)\n",
    "params640 = ProxGradParams(inner_iter_Y=40)\n",
    "X640,Y640,ch640 = fit!(glrm640, params640)\n"
   ]
  },
  {
   "cell_type": "code",
   "execution_count": 27,
   "metadata": {
    "scrolled": true
   },
   "outputs": [
    {
     "data": {
      "text/plain": [
       "6×10310 Array{Float64,2}:\n",
       " 0.0  0.0  0.0  0.0  0.0  0.0  0.0  0.0  …  0.0  0.0  0.0  0.0  0.0  0.0  0.0\n",
       " 0.0  0.0  0.0  1.0  0.0  1.0  0.0  0.0     0.0  1.0  0.0  0.0  0.0  0.0  0.0\n",
       " 0.0  1.0  0.0  0.0  0.0  0.0  0.0  0.0     0.0  0.0  0.0  0.0  0.0  1.0  1.0\n",
       " 1.0  0.0  1.0  0.0  0.0  0.0  0.0  1.0     1.0  0.0  0.0  1.0  1.0  0.0  0.0\n",
       " 0.0  0.0  0.0  0.0  1.0  0.0  1.0  0.0     0.0  0.0  1.0  0.0  0.0  0.0  0.0\n",
       " 0.0  0.0  0.0  0.0  0.0  0.0  0.0  0.0  …  0.0  0.0  0.0  0.0  0.0  0.0  0.0"
      ]
     },
     "execution_count": 27,
     "metadata": {},
     "output_type": "execute_result"
    }
   ],
   "source": [
    "X640"
   ]
  },
  {
   "cell_type": "code",
   "execution_count": 28,
   "metadata": {},
   "outputs": [
    {
     "name": "stdout",
     "output_type": "stream",
     "text": [
      "Computing training and testing error as a function of iteration number\n",
      " train error  test error        time\n",
      "  4.0928e+05  4.7922e-02  1.1685e+02\n"
     ]
    },
    {
     "data": {
      "text/html": [
       "<table class=\"data-frame\"><thead><tr><th></th><th>train_error</th><th>test_error</th></tr><tr><th></th><th>Float64</th><th>Float64</th></tr></thead><tbody><p>1 rows × 2 columns</p><tr><th>1</th><td>409279.0</td><td>0.0479225</td></tr></tbody></table>"
      ],
      "text/latex": [
       "\\begin{tabular}{r|cc}\n",
       "\t& train\\_error & test\\_error\\\\\n",
       "\t\\hline\n",
       "\t& Float64 & Float64\\\\\n",
       "\t\\hline\n",
       "\t1 & 409279.0 & 0.0479225 \\\\\n",
       "\\end{tabular}\n"
      ],
      "text/plain": [
       "1×2 DataFrame\n",
       "│ Row │ train_error │ test_error │\n",
       "│     │ \u001b[90mFloat64\u001b[39m     │ \u001b[90mFloat64\u001b[39m    │\n",
       "├─────┼─────────────┼────────────┤\n",
       "│ 1   │ 409279.0    │ 0.0479225  │"
      ]
     },
     "execution_count": 28,
     "metadata": {},
     "output_type": "execute_result"
    }
   ],
   "source": [
    "println(\"Computing training and testing error as a function of iteration number\")\n",
    "train_error, test_error = cv_by_iter(glrm640)\n",
    "df = DataFrame(train_error = train_error, test_error = test_error)"
   ]
  },
  {
   "cell_type": "code",
   "execution_count": null,
   "metadata": {},
   "outputs": [],
   "source": []
  },
  {
   "cell_type": "code",
   "execution_count": 29,
   "metadata": {},
   "outputs": [
    {
     "name": "stdout",
     "output_type": "stream",
     "text": [
      "Computing cross validation error for each fold\n",
      "flattening observations\n",
      "computing CV folds\n",
      "\n",
      "forming train and test GLRM for fold 1\n",
      "training model on 7112747 samples and testing on 2372453\n",
      "fitting train GLRM for fold 1\n",
      "Fitting GLRM\n",
      "Iteration 10: objective value = 343988.0881832769\n",
      "computing train and test error for fold 1:\n",
      "\ttrain error: 0.048361706353199606\n",
      "\ttest error:  0.04809075449192487\n",
      "\n",
      "forming train and test GLRM for fold 2\n",
      "training model on 7115248 samples and testing on 2369952\n",
      "fitting train GLRM for fold 2\n",
      "Fitting GLRM\n",
      "Iteration 10: objective value = 343450.4746718845\n",
      "computing train and test error for fold 2:\n",
      "\ttrain error: 0.04826922832553974\n",
      "\ttest error:  0.048368865825785305\n",
      "\n",
      "forming train and test GLRM for fold 3\n",
      "training model on 7115369 samples and testing on 2369831\n",
      "fitting train GLRM for fold 3\n",
      "Fitting GLRM\n",
      "Iteration 10: objective value = 343848.67574424023\n",
      "computing train and test error for fold 3:\n",
      "\ttrain error: 0.04832435294669485\n",
      "\ttest error:  0.04820023153056868\n",
      "\n",
      "forming train and test GLRM for fold 4\n",
      "training model on 7112236 samples and testing on 2372964\n",
      "fitting train GLRM for fold 4\n",
      "Fitting GLRM\n",
      "Iteration 10: objective value = 342932.8791761192\n",
      "computing train and test error for fold 4:\n",
      "\ttrain error: 0.0482166392469988\n",
      "\ttest error:  0.048521283259040815\n"
     ]
    },
    {
     "data": {
      "text/html": [
       "<table class=\"data-frame\"><thead><tr><th></th><th>train_error</th><th>test_error</th></tr><tr><th></th><th>Float64</th><th>Float64</th></tr></thead><tbody><p>4 rows × 2 columns</p><tr><th>1</th><td>0.0483617</td><td>0.0480908</td></tr><tr><th>2</th><td>0.0482692</td><td>0.0483689</td></tr><tr><th>3</th><td>0.0483244</td><td>0.0482002</td></tr><tr><th>4</th><td>0.0482166</td><td>0.0485213</td></tr></tbody></table>"
      ],
      "text/latex": [
       "\\begin{tabular}{r|cc}\n",
       "\t& train\\_error & test\\_error\\\\\n",
       "\t\\hline\n",
       "\t& Float64 & Float64\\\\\n",
       "\t\\hline\n",
       "\t1 & 0.0483617 & 0.0480908 \\\\\n",
       "\t2 & 0.0482692 & 0.0483689 \\\\\n",
       "\t3 & 0.0483244 & 0.0482002 \\\\\n",
       "\t4 & 0.0482166 & 0.0485213 \\\\\n",
       "\\end{tabular}\n"
      ],
      "text/plain": [
       "4×2 DataFrame\n",
       "│ Row │ train_error │ test_error │\n",
       "│     │ \u001b[90mFloat64\u001b[39m     │ \u001b[90mFloat64\u001b[39m    │\n",
       "├─────┼─────────────┼────────────┤\n",
       "│ 1   │ 0.0483617   │ 0.0480908  │\n",
       "│ 2   │ 0.0482692   │ 0.0483689  │\n",
       "│ 3   │ 0.0483244   │ 0.0482002  │\n",
       "│ 4   │ 0.0482166   │ 0.0485213  │"
      ]
     },
     "execution_count": 29,
     "metadata": {},
     "output_type": "execute_result"
    }
   ],
   "source": [
    "println(\"Computing cross validation error for each fold\")\n",
    "params = Params(1.0, max_iter=100, abs_tol=0.0, min_stepsize=.001)\n",
    "train_error, test_error, train_glrms, test_glrms = cross_validate(glrm640, nfolds=4, params=params)\n",
    "df = DataFrame(train_error = train_error, test_error = test_error)"
   ]
  },
  {
   "cell_type": "code",
   "execution_count": null,
   "metadata": {},
   "outputs": [],
   "source": []
  },
  {
   "cell_type": "code",
   "execution_count": 30,
   "metadata": {},
   "outputs": [
    {
     "data": {
      "text/html": [
       "<table class=\"data-frame\"><thead><tr><th></th><th>x1</th><th>x2</th><th>x3</th><th>x4</th><th>x5</th><th>x6</th><th>x7</th><th>x8</th><th>x9</th></tr><tr><th></th><th>Float64</th><th>Float64</th><th>Float64</th><th>Float64</th><th>Float64</th><th>Float64</th><th>Float64</th><th>Float64</th><th>Float64</th></tr></thead><tbody><p>6 rows × 10,310 columns (omitted printing of 10301 columns)</p><tr><th>1</th><td>0.0</td><td>0.0</td><td>0.0</td><td>0.0</td><td>0.0</td><td>0.0</td><td>0.0</td><td>0.0</td><td>0.0</td></tr><tr><th>2</th><td>0.0</td><td>0.0</td><td>0.0</td><td>1.0</td><td>0.0</td><td>1.0</td><td>0.0</td><td>0.0</td><td>0.0</td></tr><tr><th>3</th><td>0.0</td><td>1.0</td><td>0.0</td><td>0.0</td><td>0.0</td><td>0.0</td><td>0.0</td><td>0.0</td><td>0.0</td></tr><tr><th>4</th><td>1.0</td><td>0.0</td><td>1.0</td><td>0.0</td><td>0.0</td><td>0.0</td><td>0.0</td><td>1.0</td><td>0.0</td></tr><tr><th>5</th><td>0.0</td><td>0.0</td><td>0.0</td><td>0.0</td><td>1.0</td><td>0.0</td><td>1.0</td><td>0.0</td><td>1.0</td></tr><tr><th>6</th><td>0.0</td><td>0.0</td><td>0.0</td><td>0.0</td><td>0.0</td><td>0.0</td><td>0.0</td><td>0.0</td><td>0.0</td></tr></tbody></table>"
      ],
      "text/latex": [
       "\\begin{tabular}{r|cccccccccc}\n",
       "\t& x1 & x2 & x3 & x4 & x5 & x6 & x7 & x8 & x9 & \\\\\n",
       "\t\\hline\n",
       "\t& Float64 & Float64 & Float64 & Float64 & Float64 & Float64 & Float64 & Float64 & Float64 & \\\\\n",
       "\t\\hline\n",
       "\t1 & 0.0 & 0.0 & 0.0 & 0.0 & 0.0 & 0.0 & 0.0 & 0.0 & 0.0 & $\\dots$ \\\\\n",
       "\t2 & 0.0 & 0.0 & 0.0 & 1.0 & 0.0 & 1.0 & 0.0 & 0.0 & 0.0 & $\\dots$ \\\\\n",
       "\t3 & 0.0 & 1.0 & 0.0 & 0.0 & 0.0 & 0.0 & 0.0 & 0.0 & 0.0 & $\\dots$ \\\\\n",
       "\t4 & 1.0 & 0.0 & 1.0 & 0.0 & 0.0 & 0.0 & 0.0 & 1.0 & 0.0 & $\\dots$ \\\\\n",
       "\t5 & 0.0 & 0.0 & 0.0 & 0.0 & 1.0 & 0.0 & 1.0 & 0.0 & 1.0 & $\\dots$ \\\\\n",
       "\t6 & 0.0 & 0.0 & 0.0 & 0.0 & 0.0 & 0.0 & 0.0 & 0.0 & 0.0 & $\\dots$ \\\\\n",
       "\\end{tabular}\n"
      ],
      "text/plain": [
       "6×10310 DataFrame. Omitted printing of 10303 columns\n",
       "│ Row │ x1      │ x2      │ x3      │ x4      │ x5      │ x6      │ x7      │\n",
       "│     │ \u001b[90mFloat64\u001b[39m │ \u001b[90mFloat64\u001b[39m │ \u001b[90mFloat64\u001b[39m │ \u001b[90mFloat64\u001b[39m │ \u001b[90mFloat64\u001b[39m │ \u001b[90mFloat64\u001b[39m │ \u001b[90mFloat64\u001b[39m │\n",
       "├─────┼─────────┼─────────┼─────────┼─────────┼─────────┼─────────┼─────────┤\n",
       "│ 1   │ 0.0     │ 0.0     │ 0.0     │ 0.0     │ 0.0     │ 0.0     │ 0.0     │\n",
       "│ 2   │ 0.0     │ 0.0     │ 0.0     │ 1.0     │ 0.0     │ 1.0     │ 0.0     │\n",
       "│ 3   │ 0.0     │ 1.0     │ 0.0     │ 0.0     │ 0.0     │ 0.0     │ 0.0     │\n",
       "│ 4   │ 1.0     │ 0.0     │ 1.0     │ 0.0     │ 0.0     │ 0.0     │ 0.0     │\n",
       "│ 5   │ 0.0     │ 0.0     │ 0.0     │ 0.0     │ 1.0     │ 0.0     │ 1.0     │\n",
       "│ 6   │ 0.0     │ 0.0     │ 0.0     │ 0.0     │ 0.0     │ 0.0     │ 0.0     │"
      ]
     },
     "execution_count": 30,
     "metadata": {},
     "output_type": "execute_result"
    }
   ],
   "source": [
    "X640 = convert(DataFrame, X640) "
   ]
  },
  {
   "cell_type": "code",
   "execution_count": 31,
   "metadata": {},
   "outputs": [
    {
     "data": {
      "text/html": [
       "<table class=\"data-frame\"><thead><tr><th></th><th>x1</th><th>x2</th><th>x3</th><th>x4</th><th>x5</th><th>x6</th><th>x7</th><th>x8</th><th>x9</th></tr><tr><th></th><th>Float64</th><th>Float64</th><th>Float64</th><th>Float64</th><th>Float64</th><th>Float64</th><th>Float64</th><th>Float64</th><th>Float64</th></tr></thead><tbody><p>6 rows × 10,310 columns (omitted printing of 10301 columns)</p><tr><th>1</th><td>0.0</td><td>0.0</td><td>0.0</td><td>0.0</td><td>0.0</td><td>0.0</td><td>0.0</td><td>0.0</td><td>0.0</td></tr><tr><th>2</th><td>0.0</td><td>0.0</td><td>0.0</td><td>1.0</td><td>0.0</td><td>1.0</td><td>0.0</td><td>0.0</td><td>0.0</td></tr><tr><th>3</th><td>0.0</td><td>1.0</td><td>0.0</td><td>0.0</td><td>0.0</td><td>0.0</td><td>0.0</td><td>0.0</td><td>0.0</td></tr><tr><th>4</th><td>1.0</td><td>0.0</td><td>1.0</td><td>0.0</td><td>0.0</td><td>0.0</td><td>0.0</td><td>1.0</td><td>0.0</td></tr><tr><th>5</th><td>0.0</td><td>0.0</td><td>0.0</td><td>0.0</td><td>1.0</td><td>0.0</td><td>1.0</td><td>0.0</td><td>1.0</td></tr><tr><th>6</th><td>0.0</td><td>0.0</td><td>0.0</td><td>0.0</td><td>0.0</td><td>0.0</td><td>0.0</td><td>0.0</td><td>0.0</td></tr></tbody></table>"
      ],
      "text/latex": [
       "\\begin{tabular}{r|cccccccccc}\n",
       "\t& x1 & x2 & x3 & x4 & x5 & x6 & x7 & x8 & x9 & \\\\\n",
       "\t\\hline\n",
       "\t& Float64 & Float64 & Float64 & Float64 & Float64 & Float64 & Float64 & Float64 & Float64 & \\\\\n",
       "\t\\hline\n",
       "\t1 & 0.0 & 0.0 & 0.0 & 0.0 & 0.0 & 0.0 & 0.0 & 0.0 & 0.0 & $\\dots$ \\\\\n",
       "\t2 & 0.0 & 0.0 & 0.0 & 1.0 & 0.0 & 1.0 & 0.0 & 0.0 & 0.0 & $\\dots$ \\\\\n",
       "\t3 & 0.0 & 1.0 & 0.0 & 0.0 & 0.0 & 0.0 & 0.0 & 0.0 & 0.0 & $\\dots$ \\\\\n",
       "\t4 & 1.0 & 0.0 & 1.0 & 0.0 & 0.0 & 0.0 & 0.0 & 1.0 & 0.0 & $\\dots$ \\\\\n",
       "\t5 & 0.0 & 0.0 & 0.0 & 0.0 & 1.0 & 0.0 & 1.0 & 0.0 & 1.0 & $\\dots$ \\\\\n",
       "\t6 & 0.0 & 0.0 & 0.0 & 0.0 & 0.0 & 0.0 & 0.0 & 0.0 & 0.0 & $\\dots$ \\\\\n",
       "\\end{tabular}\n"
      ],
      "text/plain": [
       "6×10310 DataFrame. Omitted printing of 10303 columns\n",
       "│ Row │ x1      │ x2      │ x3      │ x4      │ x5      │ x6      │ x7      │\n",
       "│     │ \u001b[90mFloat64\u001b[39m │ \u001b[90mFloat64\u001b[39m │ \u001b[90mFloat64\u001b[39m │ \u001b[90mFloat64\u001b[39m │ \u001b[90mFloat64\u001b[39m │ \u001b[90mFloat64\u001b[39m │ \u001b[90mFloat64\u001b[39m │\n",
       "├─────┼─────────┼─────────┼─────────┼─────────┼─────────┼─────────┼─────────┤\n",
       "│ 1   │ 0.0     │ 0.0     │ 0.0     │ 0.0     │ 0.0     │ 0.0     │ 0.0     │\n",
       "│ 2   │ 0.0     │ 0.0     │ 0.0     │ 1.0     │ 0.0     │ 1.0     │ 0.0     │\n",
       "│ 3   │ 0.0     │ 1.0     │ 0.0     │ 0.0     │ 0.0     │ 0.0     │ 0.0     │\n",
       "│ 4   │ 1.0     │ 0.0     │ 1.0     │ 0.0     │ 0.0     │ 0.0     │ 0.0     │\n",
       "│ 5   │ 0.0     │ 0.0     │ 0.0     │ 0.0     │ 1.0     │ 0.0     │ 1.0     │\n",
       "│ 6   │ 0.0     │ 0.0     │ 0.0     │ 0.0     │ 0.0     │ 0.0     │ 0.0     │"
      ]
     },
     "execution_count": 31,
     "metadata": {},
     "output_type": "execute_result"
    }
   ],
   "source": [
    "CSV.write(\"/Users/kathy908000/github/health-care-research/data/X640.csv\",  X640)\n",
    "CSV.read(\"/Users/kathy908000/github/health-care-research/data/X640.csv\")\n"
   ]
  },
  {
   "cell_type": "code",
   "execution_count": 32,
   "metadata": {},
   "outputs": [
    {
     "data": {
      "text/plain": [
       "6×920 Array{Float64,2}:\n",
       " 2.86214  1.28829  7.0      -1.0186    …  -1.22457  -1.41426  -1.09536\n",
       " 3.12078  1.32105  7.00912  -0.999717     -1.08495  -1.00945  -1.07953\n",
       " 3.03042  1.28319  7.03633  -1.00014      -1.0      -1.0      -1.15889\n",
       " 2.94126  1.23686  7.10748  -1.00195      -1.12952  -1.07489  -1.1381\n",
       " 3.00491  1.27929  7.00035  -1.06292      -1.01068  -1.18122  -1.32577\n",
       " 3.01955  1.26726  7.00253  -0.999951  …  -1.03943  -1.04583  -1.04599"
      ]
     },
     "execution_count": 32,
     "metadata": {},
     "output_type": "execute_result"
    }
   ],
   "source": [
    "Y640"
   ]
  },
  {
   "cell_type": "code",
   "execution_count": 36,
   "metadata": {},
   "outputs": [
    {
     "data": {
      "text/plain": [
       "6×920 Array{Number,2}:\n",
       " 2.86214  1.28829  7  false  true  …  false  false  false  false  false\n",
       " 3.12078  1.32105  7  false  true     false  false  false  false  false\n",
       " 3.03042  1.28319  7  false  true     false  false  false  false  false\n",
       " 2.94126  1.23686  7  false  true     false  false  false  false  false\n",
       " 3.00491  1.27929  7  false  true     false  false  false  false  false\n",
       " 3.01955  1.26726  7  false  true  …  false  false  false  false  false"
      ]
     },
     "execution_count": 36,
     "metadata": {},
     "output_type": "execute_result"
    }
   ],
   "source": [
    "imputey640 = impute(losses, Y640) \n",
    "imputey640"
   ]
  },
  {
   "cell_type": "code",
   "execution_count": 45,
   "metadata": {
    "scrolled": true
   },
   "outputs": [
    {
     "name": "stdout",
     "output_type": "stream",
     "text": [
      "Number[2.862139646112679, 1.2882879242529348, 7, false, true, false, false, false, false, true, false, false, false, false, true, false, false, false, false, false, true, false, false, false, false, false, false, false, false, false, false, false, false, false, false, false, false, false, false, false, false, false, false, false, false, false, false, false, false, false, false, false, false, false, false, false, false, false, false, false, false, false, false, false, false, false, false, false, false, false, false, false, false, false, false, false, false, false, false, false, false, false, false, false, false, false, false, false, false, false, false, false, false, false, false, false, false, false, false, false, false, false, false, false, false, false, false, false, false, false, false, false, false, false, false, false, false, false, false, false, false, false, false, false, false, false, false, false, false, false, false, false, false, false, false, false, false, false, false, false, false, false, false, false, false, false, false, false, false, false, false, false, false, false, false, false, false, false, false, false, false, false, false, false, false, true, false, false, false, false, false, false, false, false, false, false, false, false, false, false, false, false, false, false, false, false, false, false, false, false, false, false, false, false, false, false, false, false, false, false, false, false, false, false, false, false, false, false, false, false, false, false, false, false, false, false, false, false, false, false, false, false, false, false, false, false, false, false, false, false, false, false, false, false, false, false, false, false, false, false, false, false, false, false, false, false, false, false, false, false, false, false, false, false, false, false, false, false, false, false, false, false, false, false, false, false, false, false, false, false, false, false, false, false, false, false, false, false, false, false, false, false, false, false, false, false, false, false, false, false, false, false, false, false, false, false, false, false, false, false, false, false, false, false, false, false, false, false, false, false, false, false, false, false, false, false, false, false, false, false, false, false, false, false, false, false, false, false, false, false, false, false, false, false, false, false, false, false, false, false, false, false, false, false, false, false, false, false, false, false, false, false, false, false, false, false, false, false, false, false, false, false, false, false, false, false, false, false, false, false, false, false, false, false, false, false, false, false, false, false, false, false, false, false, false, false, false, false, false, false, false, false, false, false, false, false, false, false, false, false, false, false, false, false, false, false, false, false, false, false, false, false, false, false, false, false, false, false, false, false, false, false, false, false, false, false, false, false, false, false, false, false, false, false, false, false, false, false, false, false, false, false, false, false, false, false, false, false, false, false, false, false, false, false, false, false, false, false, false, false, false, false, false, false, false, false, false, false, false, false, false, false, false, false, false, false, false, false, false, false, false, false, false, false, false, false, false, false, false, false, false, false, false, false, false, false, false, false, false, false, false, false, false, false, false, false, false, false, false, false, false, false, false, false, false, false, false, false, false, false, false, false, false, false, false, false, false, false, false, false, false, false, false, false, false, false, false, false, false, false, false, false, false, false, false, false, false, false, false, false, false, false, false, false, false, false, false, false, false, false, false, false, false, false, false, false, false, false, false, false, false, false, false, false, false, false, false, false, false, false, false, false, false, false, false, false, false, false, false, false, false, false, false, false, false, false, false, false, false, false, false, false, false, false, false, false, false, false, false, false, false, false, false, false, false, false, false, false, false, false, false, false, false, false, false, false, false, false, false, false, false, false, false, false, false, false, false, false, false, false, false, false, false, false, false, false, false, false, false, false, false, false, false, false, false, false, false, false, false, false, false, false, false, false, false, false, false, false, false, false, false, false, false, false, false, false, false, false, false, false, false, false, false, false, false, false, false, false, false, false, false, false, false, false, false, false, false, false, false, false, false, false, false, false, false, false, false, false, false, false, false, false, false, false, false, false, false, false, false, false, false, false, false, false, false, false, false, false, false, false, false, false, false, false, false, false, false, false, false, false, false, false, false, false, false, false, false, false, false, false, false, false, false, false, false, false, false, false, false, false, false, false, false, false, false, false, false, false, false, false, false, false, false, false, false, false, false, false, false, false, false, false, false, false, false, false, false, false, false, false, false, false, false, false, false, false, false, false, false, false, false, false, false, false, false, false, false, false, false, false, false, false, false, false, false, false, false, false, false, false, false, false, false, false, false, false, false, false, false, false, false, false, false, false, false, false, false, false, false, false, false, false, false, false, false, false, false, false, false, false, false, false, false, false, false, false, false, false, false, false, false, false, false, false, false, false, false, false, false, false, false, false, false, false, false, false, false, false, false, false, true, false, false, false, false, false, false, false, false, false, false, false, false, false, false, false, false, false, false, false, false, false, false, false, false, false, false, false, false, false, false, false, false, false, false, false, false, false, false, false]"
     ]
    }
   ],
   "source": [
    "#imputey640[1, :]\n",
    "print(imputey640[1, :])"
   ]
  },
  {
   "cell_type": "code",
   "execution_count": 46,
   "metadata": {
    "scrolled": true
   },
   "outputs": [
    {
     "name": "stdout",
     "output_type": "stream",
     "text": [
      "Number[3.120776367275652, 1.321049766273326, 7, false, true, false, false, false, false, true, false, false, false, false, false, false, false, false, false, false, true, false, false, false, false, false, false, false, false, false, false, false, false, false, false, false, false, false, false, false, false, false, false, false, false, false, false, false, false, false, false, false, false, false, false, false, false, false, false, false, false, false, false, false, false, false, false, false, false, false, false, false, false, false, false, false, false, false, false, false, false, false, false, false, false, false, false, false, false, false, false, false, false, false, false, false, false, false, false, false, false, false, false, false, false, false, false, false, false, false, false, false, false, false, false, false, false, false, false, false, false, false, false, false, false, false, false, false, false, false, false, false, false, false, false, false, false, false, false, false, false, false, false, false, false, false, false, false, false, false, false, false, false, false, false, false, false, false, false, false, false, false, false, false, false, true, false, false, false, false, false, false, false, false, false, false, false, false, false, false, false, false, false, false, true, false, false, false, false, false, false, false, false, false, false, false, false, false, false, false, false, false, false, false, false, false, false, false, false, false, false, false, false, false, false, false, false, false, false, false, false, false, false, false, false, false, false, false, false, false, false, false, false, false, false, false, false, false, false, false, false, false, false, false, false, false, false, false, false, false, false, false, false, false, false, false, false, false, false, false, false, false, false, false, false, false, false, false, false, false, false, false, false, false, false, false, false, false, false, false, false, false, false, false, false, false, false, false, false, false, false, false, false, false, false, false, false, false, false, false, false, true, false, false, false, false, false, false, false, false, false, false, false, false, false, false, false, false, false, false, false, false, false, false, false, false, false, false, false, false, false, false, false, false, false, false, false, false, false, false, false, false, false, false, false, false, false, false, false, false, false, false, false, false, false, false, false, false, false, false, false, false, false, false, false, false, false, false, false, false, false, false, false, false, false, false, false, false, false, false, false, false, false, false, false, false, false, false, false, false, false, false, false, false, false, false, false, false, false, false, false, false, false, false, false, false, false, false, false, false, false, false, false, false, false, false, false, false, false, false, false, false, false, false, false, false, false, false, false, false, false, false, false, false, false, false, false, false, false, false, false, false, false, false, false, false, false, false, false, false, false, false, false, false, false, false, false, false, false, false, false, false, false, false, false, false, false, false, false, false, false, false, false, false, false, false, false, false, false, false, false, false, false, false, false, false, false, false, false, false, false, false, false, false, false, false, false, false, false, false, false, false, false, false, false, false, false, false, false, false, false, false, false, false, false, false, false, false, false, false, false, false, false, false, false, false, false, false, false, false, false, false, false, false, false, false, false, false, false, false, false, false, false, false, false, false, false, false, false, false, false, false, false, false, false, false, false, false, false, false, false, false, false, false, false, false, false, false, false, false, false, false, false, false, false, false, false, false, false, false, false, false, false, false, false, false, false, false, false, false, false, false, false, false, false, false, false, false, false, false, false, false, false, false, false, false, false, false, false, false, false, false, false, false, false, false, false, false, false, false, false, false, false, false, false, false, false, false, false, false, false, false, false, false, false, false, false, false, false, false, false, false, false, false, false, false, false, false, false, false, false, false, false, false, false, false, false, false, false, false, false, false, false, false, false, false, false, false, false, false, false, false, false, false, false, false, false, false, false, false, false, false, false, false, false, false, false, false, false, false, false, false, false, false, false, false, false, false, false, false, false, false, false, false, false, false, false, false, false, false, false, false, false, false, false, false, false, false, false, false, false, false, false, false, false, false, false, false, false, false, false, false, false, false, false, false, false, false, false, false, false, false, false, false, false, false, false, false, false, false, false, false, false, false, false, false, false, false, false, false, false, false, false, false, false, false, false, false, false, false, false, false, false, false, false, false, false, false, false, false, false, false, false, false, false, false, false, false, false, false, false, false, false, false, false, false, false, false, false, false, false, false, false, false, false, false, false, false, false, false, false, false, false, false, false, false, false, false, false, false, false, false, false, false, false, false, false, false, false, false, false, false, false, false, false, false, false, false, false, false, false, false, false, false, false, false, false, false, false, false, false, false, false, false, false, false, false, false, false, false, false, false, false, false, false, false, false, false, false, false, false, false, false, false, false, false, false, false, false, false, true, false, false, false, false, false, false, false, false, false, false, false, false, false, false, false, false, false, false, false, false, false, false, false, false, false, false, false, false, false, false, false, false, false, false, false, false, false, false, false]"
     ]
    }
   ],
   "source": [
    "print(imputey640[2, :])"
   ]
  },
  {
   "cell_type": "code",
   "execution_count": 43,
   "metadata": {},
   "outputs": [
    {
     "data": {
      "text/plain": [
       "920-element Array{Number,1}:\n",
       "     3.0304232000566076\n",
       "     1.2831909654040727\n",
       "     7\n",
       " false\n",
       "  true\n",
       " false\n",
       " false\n",
       " false\n",
       " false\n",
       "  true\n",
       " false\n",
       " false\n",
       " false\n",
       "     ⋮\n",
       " false\n",
       " false\n",
       " false\n",
       " false\n",
       " false\n",
       " false\n",
       " false\n",
       " false\n",
       " false\n",
       " false\n",
       " false\n",
       " false"
      ]
     },
     "execution_count": 43,
     "metadata": {},
     "output_type": "execute_result"
    }
   ],
   "source": [
    "imputey640[3, :]"
   ]
  },
  {
   "cell_type": "code",
   "execution_count": 44,
   "metadata": {
    "scrolled": true
   },
   "outputs": [
    {
     "data": {
      "text/plain": [
       "920-element Array{Number,1}:\n",
       "     2.941260297782753\n",
       "     1.23685752815993\n",
       "     7\n",
       " false\n",
       "  true\n",
       " false\n",
       " false\n",
       " false\n",
       " false\n",
       "  true\n",
       " false\n",
       " false\n",
       " false\n",
       "     ⋮\n",
       " false\n",
       " false\n",
       " false\n",
       " false\n",
       " false\n",
       " false\n",
       " false\n",
       " false\n",
       " false\n",
       " false\n",
       " false\n",
       " false"
      ]
     },
     "execution_count": 44,
     "metadata": {},
     "output_type": "execute_result"
    }
   ],
   "source": [
    "imputey640[4, :]"
   ]
  },
  {
   "cell_type": "code",
   "execution_count": null,
   "metadata": {},
   "outputs": [],
   "source": [
    "imputey640"
   ]
  },
  {
   "cell_type": "code",
   "execution_count": 47,
   "metadata": {},
   "outputs": [
    {
     "data": {
      "text/plain": [
       "false"
      ]
     },
     "execution_count": 47,
     "metadata": {},
     "output_type": "execute_result"
    }
   ],
   "source": [
    "imputey640[1, :] == imputey640[2, :]"
   ]
  },
  {
   "cell_type": "code",
   "execution_count": 48,
   "metadata": {},
   "outputs": [
    {
     "data": {
      "text/plain": [
       "false"
      ]
     },
     "execution_count": 48,
     "metadata": {},
     "output_type": "execute_result"
    }
   ],
   "source": [
    "[1,2] == [1,3]"
   ]
  },
  {
   "cell_type": "code",
   "execution_count": 49,
   "metadata": {},
   "outputs": [
    {
     "data": {
      "text/plain": [
       "true"
      ]
     },
     "execution_count": 49,
     "metadata": {},
     "output_type": "execute_result"
    }
   ],
   "source": [
    "[1,1,1] == [1,1,1]"
   ]
  },
  {
   "cell_type": "code",
   "execution_count": 62,
   "metadata": {},
   "outputs": [
    {
     "data": {
      "text/plain": [
       "2×3 Array{Int64,2}:\n",
       " 1  2  3\n",
       " 4  5  6"
      ]
     },
     "execution_count": 62,
     "metadata": {},
     "output_type": "execute_result"
    }
   ],
   "source": [
    "x = [1 2 3;4 5 6]"
   ]
  },
  {
   "cell_type": "code",
   "execution_count": 58,
   "metadata": {},
   "outputs": [
    {
     "name": "stdout",
     "output_type": "stream",
     "text": [
      "142536"
     ]
    }
   ],
   "source": [
    "for n in eachindex(x), m in eachindex(x[n])\n",
    "    print(x[n][m])\n",
    "end"
   ]
  },
  {
   "cell_type": "code",
   "execution_count": null,
   "metadata": {},
   "outputs": [],
   "source": [
    "for n in eachindex(imputey640[1, :]), m in eachindex(imputey640[1, :][n])\n",
    "    if imputey640[1, :][n][m] != \n",
    "end"
   ]
  },
  {
   "cell_type": "code",
   "execution_count": 27,
   "metadata": {},
   "outputs": [],
   "source": [
    "#k=5"
   ]
  },
  {
   "cell_type": "code",
   "execution_count": 10,
   "metadata": {},
   "outputs": [
    {
     "data": {
      "text/plain": [
       "920-element Array{Loss,1}:\n",
       " HuberLoss(1.0, RealDomain(), 1.0)\n",
       " HuberLoss(1.0, RealDomain(), 1.0)\n",
       " OrdinalHingeLoss(1, 10, 1.0, OrdinalDomain(1, 10))\n",
       " WeightedHingeLoss(1.0, BoolDomain(), 1.0)\n",
       " WeightedHingeLoss(1.0, BoolDomain(), 1.0)\n",
       " WeightedHingeLoss(1.0, BoolDomain(), 1.0)\n",
       " WeightedHingeLoss(1.0, BoolDomain(), 1.0)\n",
       " WeightedHingeLoss(1.0, BoolDomain(), 1.0)\n",
       " WeightedHingeLoss(1.0, BoolDomain(), 1.0)\n",
       " WeightedHingeLoss(1.0, BoolDomain(), 1.0)\n",
       " WeightedHingeLoss(1.0, BoolDomain(), 1.0)\n",
       " WeightedHingeLoss(1.0, BoolDomain(), 1.0)\n",
       " WeightedHingeLoss(1.0, BoolDomain(), 1.0)\n",
       " ⋮\n",
       " WeightedHingeLoss(1.0, BoolDomain(), 1.0)\n",
       " WeightedHingeLoss(1.0, BoolDomain(), 1.0)\n",
       " WeightedHingeLoss(1.0, BoolDomain(), 1.0)\n",
       " WeightedHingeLoss(1.0, BoolDomain(), 1.0)\n",
       " WeightedHingeLoss(1.0, BoolDomain(), 1.0)\n",
       " WeightedHingeLoss(1.0, BoolDomain(), 1.0)\n",
       " WeightedHingeLoss(1.0, BoolDomain(), 1.0)\n",
       " WeightedHingeLoss(1.0, BoolDomain(), 1.0)\n",
       " WeightedHingeLoss(1.0, BoolDomain(), 1.0)\n",
       " WeightedHingeLoss(1.0, BoolDomain(), 1.0)\n",
       " WeightedHingeLoss(1.0, BoolDomain(), 1.0)\n",
       " WeightedHingeLoss(1.0, BoolDomain(), 1.0)"
      ]
     },
     "execution_count": 10,
     "metadata": {},
     "output_type": "execute_result"
    }
   ],
   "source": [
    "loss1 = fill(HuberLoss(),2)\n",
    "loss2 = fill(HingeLoss(), 917)\n",
    "loss3 = fill(OrdinalHingeLoss(), 1)\n",
    "losses = [loss1; loss3; loss2]\n",
    "losses"
   ]
  },
  {
   "cell_type": "code",
   "execution_count": null,
   "metadata": {
    "scrolled": true
   },
   "outputs": [],
   "source": [
    "k = 5\n",
    "A= df3\n",
    "rx = UnitOneSparseConstraint()\n",
    "ry = ZeroReg()\n",
    "glrm540 = GLRM(A,losses,rx,ry,k)\n",
    "params540 = ProxGradParams(inner_iter_Y=40)\n",
    "X540,Y540,ch540 = fit!(glrm540, params540)"
   ]
  },
  {
   "cell_type": "code",
   "execution_count": null,
   "metadata": {},
   "outputs": [],
   "source": [
    "println(\"Computing cross validation error for each fold\")\n",
    "params = Params(1.0, max_iter=100, abs_tol=0.0, min_stepsize=.001)\n",
    "train_error, test_error, train_glrms, test_glrms = cross_validate(glrm540, nfolds=4, params=params)\n",
    "df = DataFrame(train_error = train_error, test_error = test_error)\n",
    "\n"
   ]
  },
  {
   "cell_type": "code",
   "execution_count": null,
   "metadata": {},
   "outputs": [],
   "source": [
    "X540 = convert(DataFrame, X540) "
   ]
  },
  {
   "cell_type": "code",
   "execution_count": null,
   "metadata": {},
   "outputs": [],
   "source": [
    "CSV.write(\"/Users/kathy908000/github/health-care-research/data/X540.csv\",  X540)\n",
    "CSV.read(\"/Users/kathy908000/github/health-care-research/data/X540.csv\")\n"
   ]
  },
  {
   "cell_type": "code",
   "execution_count": null,
   "metadata": {},
   "outputs": [],
   "source": [
    "Y540"
   ]
  },
  {
   "cell_type": "code",
   "execution_count": null,
   "metadata": {},
   "outputs": [],
   "source": [
    "imputey540 = impute(losses, Y540) \n",
    "CSV.write(\"/Users/kathy908000/github/health-care-research/data/iy540.csv\",  imputey540)\n",
    "CSV.read(\"/Users/kathy908000/github/health-care-research/data/iy540.csv\")"
   ]
  },
  {
   "cell_type": "code",
   "execution_count": null,
   "metadata": {},
   "outputs": [],
   "source": [
    "#k=4 original"
   ]
  },
  {
   "cell_type": "code",
   "execution_count": null,
   "metadata": {},
   "outputs": [],
   "source": [
    "loss1 = fill(HuberLoss(),2)\n",
    "loss2 = fill(HingeLoss(), 917)\n",
    "loss3 = fill(OrdinalHingeLoss(), 1)\n",
    "losses = [loss1; loss3; loss2]\n",
    "losses"
   ]
  },
  {
   "cell_type": "code",
   "execution_count": null,
   "metadata": {},
   "outputs": [],
   "source": [
    "k = 4\n",
    "A= df3\n",
    "rx = UnitOneSparseConstraint()\n",
    "ry = ZeroReg()\n",
    "glrm440 = GLRM(A,losses,rx,ry,k)\n",
    "params440 = ProxGradParams(inner_iter_Y=40)"
   ]
  },
  {
   "cell_type": "code",
   "execution_count": null,
   "metadata": {},
   "outputs": [],
   "source": [
    "X440,Y440,ch440 = fit!(glrm440, params440)"
   ]
  },
  {
   "cell_type": "code",
   "execution_count": null,
   "metadata": {},
   "outputs": [],
   "source": [
    "println(\"Computing cross validation error for each fold\")\n",
    "params = Params(1.0, max_iter=100, abs_tol=0.0, min_stepsize=.001)\n",
    "train_error, test_error, train_glrms, test_glrms = cross_validate(glrm440, nfolds=4, params=params)\n",
    "df = DataFrame(train_error = train_error, test_error = test_error)"
   ]
  },
  {
   "cell_type": "code",
   "execution_count": null,
   "metadata": {},
   "outputs": [],
   "source": [
    "X440 = convert(DataFrame, X440) \n",
    "CSV.write(\"/Users/kathy908000/github/health-care-research/data/X440.csv\",  X440)\n",
    "CSV.read(\"/Users/kathy908000/github/health-care-research/data/X440.csv\")\n"
   ]
  },
  {
   "cell_type": "code",
   "execution_count": null,
   "metadata": {},
   "outputs": [],
   "source": [
    "Y440"
   ]
  },
  {
   "cell_type": "code",
   "execution_count": null,
   "metadata": {},
   "outputs": [],
   "source": [
    "imputey440 = impute(losses, Y440) \n",
    "CSV.write(\"/Users/kathy908000/github/health-care-research/data/iy440.csv\",  imputey440)\n",
    "CSV.read(\"/Users/kathy908000/github/health-care-research/data/iy440.csv\")"
   ]
  },
  {
   "cell_type": "code",
   "execution_count": null,
   "metadata": {},
   "outputs": [],
   "source": [
    "#k=3"
   ]
  },
  {
   "cell_type": "code",
   "execution_count": 4,
   "metadata": {
    "scrolled": true
   },
   "outputs": [
    {
     "data": {
      "text/plain": [
       "920-element Array{Loss,1}:\n",
       " HuberLoss(1.0, RealDomain(), 1.0)\n",
       " HuberLoss(1.0, RealDomain(), 1.0)\n",
       " OrdinalHingeLoss(1, 10, 1.0, OrdinalDomain(1, 10))\n",
       " WeightedHingeLoss(1.0, BoolDomain(), 1.0)\n",
       " WeightedHingeLoss(1.0, BoolDomain(), 1.0)\n",
       " WeightedHingeLoss(1.0, BoolDomain(), 1.0)\n",
       " WeightedHingeLoss(1.0, BoolDomain(), 1.0)\n",
       " WeightedHingeLoss(1.0, BoolDomain(), 1.0)\n",
       " WeightedHingeLoss(1.0, BoolDomain(), 1.0)\n",
       " WeightedHingeLoss(1.0, BoolDomain(), 1.0)\n",
       " WeightedHingeLoss(1.0, BoolDomain(), 1.0)\n",
       " WeightedHingeLoss(1.0, BoolDomain(), 1.0)\n",
       " WeightedHingeLoss(1.0, BoolDomain(), 1.0)\n",
       " ⋮\n",
       " WeightedHingeLoss(1.0, BoolDomain(), 1.0)\n",
       " WeightedHingeLoss(1.0, BoolDomain(), 1.0)\n",
       " WeightedHingeLoss(1.0, BoolDomain(), 1.0)\n",
       " WeightedHingeLoss(1.0, BoolDomain(), 1.0)\n",
       " WeightedHingeLoss(1.0, BoolDomain(), 1.0)\n",
       " WeightedHingeLoss(1.0, BoolDomain(), 1.0)\n",
       " WeightedHingeLoss(1.0, BoolDomain(), 1.0)\n",
       " WeightedHingeLoss(1.0, BoolDomain(), 1.0)\n",
       " WeightedHingeLoss(1.0, BoolDomain(), 1.0)\n",
       " WeightedHingeLoss(1.0, BoolDomain(), 1.0)\n",
       " WeightedHingeLoss(1.0, BoolDomain(), 1.0)\n",
       " WeightedHingeLoss(1.0, BoolDomain(), 1.0)"
      ]
     },
     "execution_count": 4,
     "metadata": {},
     "output_type": "execute_result"
    }
   ],
   "source": [
    "loss1 = fill(HuberLoss(),2)\n",
    "loss2 = fill(HingeLoss(), 917)\n",
    "loss3 = fill(OrdinalHingeLoss(), 1)\n",
    "losses = [loss1; loss3; loss2]\n",
    "losses"
   ]
  },
  {
   "cell_type": "code",
   "execution_count": 6,
   "metadata": {},
   "outputs": [
    {
     "data": {
      "text/plain": [
       "ProxGradParams(1.0, 100, 1, 40, 1.0e-5, 0.0001, 0.01)"
      ]
     },
     "execution_count": 6,
     "metadata": {},
     "output_type": "execute_result"
    }
   ],
   "source": [
    "k = 3\n",
    "A= df3\n",
    "rx = UnitOneSparseConstraint()\n",
    "ry = ZeroReg()\n",
    "glrm340 = GLRM(A,losses,rx,ry,k)\n",
    "params340 = ProxGradParams(inner_iter_Y=40)\n"
   ]
  },
  {
   "cell_type": "code",
   "execution_count": 7,
   "metadata": {},
   "outputs": [
    {
     "name": "stdout",
     "output_type": "stream",
     "text": [
      "Fitting GLRM\n",
      "Iteration 10: objective value = 460455.0771161948\n"
     ]
    },
    {
     "data": {
      "text/plain": [
       "([0.0 1.0 … 0.0 0.0; 0.0 0.0 … 1.0 1.0; 1.0 0.0 … 0.0 0.0], [3.147805880019738 1.2376816867033162 … -1.15905630764086 -1.383198064261709; 2.871124633823481 1.2444539172584015 … -1.239819813135892 -1.291888072071956; 3.0523080928026833 1.2614522511491024 … -1.0000080851156525 -1.0408613450497213], ConvergenceHistory(\"ProxGradGLRM\", [Inf, 462137.940573622, 461364.56644663285, 460970.7127084627, 460521.45564141974, 460501.43166199565, 460485.6681927925, 460474.10536701046, 460465.70805219136, 460459.6498293013, 460455.0771161948, 460451.4619882424], Float64[], [0.0, 0.0, 0.0, 0.0, 0.0, 0.0, 0.0, 0.0, 0.0, 0.0, 0.0, 0.0], [0.0, 0.0, 0.0, 0.0, 0.0, 0.0, 0.0, 0.0, 0.0, 0.0, 0.0, 0.0], [0.0, 171.87946009635925, 372.6581370830536, 572.042307138443, 775.2450821399689, 995.1492972373962, 1228.0673682689667, 1455.9715762138367, 1688.2711172103882, 1904.46892619133, 2117.194132089615, 2324.4776699543], [0.0, 0.0, 0.0, 0.0, 0.0, 0.0, 0.0, 0.0, 0.0, 0.0, 0.0, 0.0], 0))"
      ]
     },
     "execution_count": 7,
     "metadata": {},
     "output_type": "execute_result"
    }
   ],
   "source": [
    "X340,Y340,ch340 = fit!(glrm340, params340)"
   ]
  },
  {
   "cell_type": "code",
   "execution_count": 8,
   "metadata": {},
   "outputs": [
    {
     "name": "stdout",
     "output_type": "stream",
     "text": [
      "Computing cross validation error for each fold\n",
      "flattening observations\n",
      "computing CV folds\n",
      "\n",
      "forming train and test GLRM for fold 1\n",
      "training model on 7112389 samples and testing on 2372811\n",
      "fitting train GLRM for fold 1\n",
      "Fitting GLRM\n",
      "Iteration 10: objective value = 345467.09580262064\n",
      "computing train and test error for fold 1:\n",
      "\ttrain error: 0.04857212751618507\n",
      "\ttest error:  0.048407673083230005\n",
      "\n",
      "forming train and test GLRM for fold 2\n",
      "training model on 7115593 samples and testing on 2369607\n",
      "fitting train GLRM for fold 2\n",
      "Fitting GLRM\n",
      "Iteration 10: objective value = 344412.3265595404\n",
      "computing train and test error for fold 2:\n",
      "\ttrain error: 0.04840209799381357\n",
      "\ttest error:  0.04892117592870752\n",
      "\n",
      "forming train and test GLRM for fold 3\n",
      "training model on 7115171 samples and testing on 2370029\n",
      "fitting train GLRM for fold 3\n",
      "Fitting GLRM\n",
      "Iteration 10: objective value = 345790.48890368384\n",
      "computing train and test error for fold 3:\n",
      "\ttrain error: 0.04859847015262049\n",
      "\ttest error:  0.048334133182781645\n",
      "\n",
      "forming train and test GLRM for fold 4\n",
      "training model on 7112447 samples and testing on 2372753\n",
      "fitting train GLRM for fold 4\n",
      "Fitting GLRM\n",
      "Iteration 10: objective value = 345324.303312989\n",
      "computing train and test error for fold 4:\n",
      "\ttrain error: 0.04855153786722632\n",
      "\ttest error:  0.04847025626131807\n"
     ]
    },
    {
     "data": {
      "text/html": [
       "<table class=\"data-frame\"><thead><tr><th></th><th>train_error</th><th>test_error</th></tr><tr><th></th><th>Float64</th><th>Float64</th></tr></thead><tbody><p>4 rows × 2 columns</p><tr><th>1</th><td>0.0485721</td><td>0.0484077</td></tr><tr><th>2</th><td>0.0484021</td><td>0.0489212</td></tr><tr><th>3</th><td>0.0485985</td><td>0.0483341</td></tr><tr><th>4</th><td>0.0485515</td><td>0.0484703</td></tr></tbody></table>"
      ],
      "text/latex": [
       "\\begin{tabular}{r|cc}\n",
       "\t& train\\_error & test\\_error\\\\\n",
       "\t\\hline\n",
       "\t& Float64 & Float64\\\\\n",
       "\t\\hline\n",
       "\t1 & 0.0485721 & 0.0484077 \\\\\n",
       "\t2 & 0.0484021 & 0.0489212 \\\\\n",
       "\t3 & 0.0485985 & 0.0483341 \\\\\n",
       "\t4 & 0.0485515 & 0.0484703 \\\\\n",
       "\\end{tabular}\n"
      ],
      "text/plain": [
       "4×2 DataFrame\n",
       "│ Row │ train_error │ test_error │\n",
       "│     │ \u001b[90mFloat64\u001b[39m     │ \u001b[90mFloat64\u001b[39m    │\n",
       "├─────┼─────────────┼────────────┤\n",
       "│ 1   │ 0.0485721   │ 0.0484077  │\n",
       "│ 2   │ 0.0484021   │ 0.0489212  │\n",
       "│ 3   │ 0.0485985   │ 0.0483341  │\n",
       "│ 4   │ 0.0485515   │ 0.0484703  │"
      ]
     },
     "execution_count": 8,
     "metadata": {},
     "output_type": "execute_result"
    }
   ],
   "source": [
    "println(\"Computing cross validation error for each fold\")\n",
    "params = Params(1.0, max_iter=100, abs_tol=0.0, min_stepsize=.001)\n",
    "train_error, test_error, train_glrms, test_glrms = cross_validate(glrm340, nfolds=4, params=params)\n",
    "df = DataFrame(train_error = train_error, test_error = test_error)"
   ]
  },
  {
   "cell_type": "code",
   "execution_count": 9,
   "metadata": {},
   "outputs": [
    {
     "data": {
      "text/html": [
       "<table class=\"data-frame\"><thead><tr><th></th><th>x1</th><th>x2</th><th>x3</th><th>x4</th><th>x5</th><th>x6</th><th>x7</th><th>x8</th><th>x9</th></tr><tr><th></th><th>Float64</th><th>Float64</th><th>Float64</th><th>Float64</th><th>Float64</th><th>Float64</th><th>Float64</th><th>Float64</th><th>Float64</th></tr></thead><tbody><p>3 rows × 10,310 columns (omitted printing of 10301 columns)</p><tr><th>1</th><td>0.0</td><td>1.0</td><td>0.0</td><td>0.0</td><td>0.0</td><td>1.0</td><td>1.0</td><td>0.0</td><td>1.0</td></tr><tr><th>2</th><td>0.0</td><td>0.0</td><td>0.0</td><td>1.0</td><td>0.0</td><td>0.0</td><td>0.0</td><td>0.0</td><td>0.0</td></tr><tr><th>3</th><td>1.0</td><td>0.0</td><td>1.0</td><td>0.0</td><td>1.0</td><td>0.0</td><td>0.0</td><td>1.0</td><td>0.0</td></tr></tbody></table>"
      ],
      "text/latex": [
       "\\begin{tabular}{r|cccccccccc}\n",
       "\t& x1 & x2 & x3 & x4 & x5 & x6 & x7 & x8 & x9 & \\\\\n",
       "\t\\hline\n",
       "\t& Float64 & Float64 & Float64 & Float64 & Float64 & Float64 & Float64 & Float64 & Float64 & \\\\\n",
       "\t\\hline\n",
       "\t1 & 0.0 & 1.0 & 0.0 & 0.0 & 0.0 & 1.0 & 1.0 & 0.0 & 1.0 & $\\dots$ \\\\\n",
       "\t2 & 0.0 & 0.0 & 0.0 & 1.0 & 0.0 & 0.0 & 0.0 & 0.0 & 0.0 & $\\dots$ \\\\\n",
       "\t3 & 1.0 & 0.0 & 1.0 & 0.0 & 1.0 & 0.0 & 0.0 & 1.0 & 0.0 & $\\dots$ \\\\\n",
       "\\end{tabular}\n"
      ],
      "text/plain": [
       "3×10310 DataFrame. Omitted printing of 10303 columns\n",
       "│ Row │ x1      │ x2      │ x3      │ x4      │ x5      │ x6      │ x7      │\n",
       "│     │ \u001b[90mFloat64\u001b[39m │ \u001b[90mFloat64\u001b[39m │ \u001b[90mFloat64\u001b[39m │ \u001b[90mFloat64\u001b[39m │ \u001b[90mFloat64\u001b[39m │ \u001b[90mFloat64\u001b[39m │ \u001b[90mFloat64\u001b[39m │\n",
       "├─────┼─────────┼─────────┼─────────┼─────────┼─────────┼─────────┼─────────┤\n",
       "│ 1   │ 0.0     │ 1.0     │ 0.0     │ 0.0     │ 0.0     │ 1.0     │ 1.0     │\n",
       "│ 2   │ 0.0     │ 0.0     │ 0.0     │ 1.0     │ 0.0     │ 0.0     │ 0.0     │\n",
       "│ 3   │ 1.0     │ 0.0     │ 1.0     │ 0.0     │ 1.0     │ 0.0     │ 0.0     │"
      ]
     },
     "execution_count": 9,
     "metadata": {},
     "output_type": "execute_result"
    }
   ],
   "source": [
    "X340 = convert(DataFrame, X340) \n",
    "CSV.write(\"/Users/kathy908000/github/health-care-research/data/X340.csv\",  X340)\n",
    "CSV.read(\"/Users/kathy908000/github/health-care-research/data/X340.csv\")\n"
   ]
  },
  {
   "cell_type": "code",
   "execution_count": 10,
   "metadata": {
    "scrolled": true
   },
   "outputs": [
    {
     "data": {
      "text/plain": [
       "3×920 Array{Float64,2}:\n",
       " 3.14781  1.23768  7.08981  -1.00192  …  -1.0      -1.15906  -1.3832\n",
       " 2.87112  1.24445  6.9996   -1.00003     -1.01627  -1.23982  -1.29189\n",
       " 3.05231  1.26145  7.29001  -1.01071     -1.10831  -1.00001  -1.04086"
      ]
     },
     "execution_count": 10,
     "metadata": {},
     "output_type": "execute_result"
    }
   ],
   "source": [
    "Y340"
   ]
  },
  {
   "cell_type": "code",
   "execution_count": 12,
   "metadata": {},
   "outputs": [
    {
     "data": {
      "text/plain": [
       "3×920 Array{Number,2}:\n",
       " 3.14781  1.23768  7  false  true  …  false  false  false  false  false\n",
       " 2.87112  1.24445  7  false  true     false  false  false  false  false\n",
       " 3.05231  1.26145  7  false  true     false  false  false  false  false"
      ]
     },
     "execution_count": 12,
     "metadata": {},
     "output_type": "execute_result"
    }
   ],
   "source": [
    "imputey340 = impute(losses, Y340) "
   ]
  },
  {
   "cell_type": "code",
   "execution_count": 13,
   "metadata": {},
   "outputs": [
    {
     "data": {
      "text/html": [
       "<table class=\"data-frame\"><thead><tr><th></th><th>x1</th><th>x2</th><th>x3</th><th>x4</th><th>x5</th><th>x6</th><th>x7</th><th>x8</th><th>x9</th><th>x10</th><th>x11</th><th>x12</th><th>x13</th></tr><tr><th></th><th>Float64</th><th>Float64</th><th>Int64</th><th>Bool</th><th>Bool</th><th>Bool</th><th>Bool</th><th>Bool</th><th>Bool</th><th>Bool</th><th>Bool</th><th>Bool</th><th>Bool</th></tr></thead><tbody><p>3 rows × 920 columns (omitted printing of 907 columns)</p><tr><th>1</th><td>3.14781</td><td>1.23768</td><td>7</td><td>0</td><td>1</td><td>0</td><td>0</td><td>0</td><td>0</td><td>1</td><td>0</td><td>0</td><td>0</td></tr><tr><th>2</th><td>2.87112</td><td>1.24445</td><td>7</td><td>0</td><td>1</td><td>0</td><td>0</td><td>0</td><td>0</td><td>1</td><td>0</td><td>0</td><td>0</td></tr><tr><th>3</th><td>3.05231</td><td>1.26145</td><td>7</td><td>0</td><td>1</td><td>0</td><td>0</td><td>0</td><td>0</td><td>1</td><td>0</td><td>0</td><td>0</td></tr></tbody></table>"
      ],
      "text/latex": [
       "\\begin{tabular}{r|cccccccccccccc}\n",
       "\t& x1 & x2 & x3 & x4 & x5 & x6 & x7 & x8 & x9 & x10 & x11 & x12 & x13 & \\\\\n",
       "\t\\hline\n",
       "\t& Float64 & Float64 & Int64 & Bool & Bool & Bool & Bool & Bool & Bool & Bool & Bool & Bool & Bool & \\\\\n",
       "\t\\hline\n",
       "\t1 & 3.14781 & 1.23768 & 7 & 0 & 1 & 0 & 0 & 0 & 0 & 1 & 0 & 0 & 0 & $\\dots$ \\\\\n",
       "\t2 & 2.87112 & 1.24445 & 7 & 0 & 1 & 0 & 0 & 0 & 0 & 1 & 0 & 0 & 0 & $\\dots$ \\\\\n",
       "\t3 & 3.05231 & 1.26145 & 7 & 0 & 1 & 0 & 0 & 0 & 0 & 1 & 0 & 0 & 0 & $\\dots$ \\\\\n",
       "\\end{tabular}\n"
      ],
      "text/plain": [
       "3×920 DataFrame. Omitted printing of 911 columns\n",
       "│ Row │ x1      │ x2      │ x3    │ x4   │ x5   │ x6   │ x7   │ x8   │ x9   │\n",
       "│     │ \u001b[90mFloat64\u001b[39m │ \u001b[90mFloat64\u001b[39m │ \u001b[90mInt64\u001b[39m │ \u001b[90mBool\u001b[39m │ \u001b[90mBool\u001b[39m │ \u001b[90mBool\u001b[39m │ \u001b[90mBool\u001b[39m │ \u001b[90mBool\u001b[39m │ \u001b[90mBool\u001b[39m │\n",
       "├─────┼─────────┼─────────┼───────┼──────┼──────┼──────┼──────┼──────┼──────┤\n",
       "│ 1   │ 3.14781 │ 1.23768 │ 7     │ 0    │ 1    │ 0    │ 0    │ 0    │ 0    │\n",
       "│ 2   │ 2.87112 │ 1.24445 │ 7     │ 0    │ 1    │ 0    │ 0    │ 0    │ 0    │\n",
       "│ 3   │ 3.05231 │ 1.26145 │ 7     │ 0    │ 1    │ 0    │ 0    │ 0    │ 0    │"
      ]
     },
     "execution_count": 13,
     "metadata": {},
     "output_type": "execute_result"
    }
   ],
   "source": [
    "imputey340d  = convert(DataFrame, imputey340) \n",
    "CSV.write(\"/Users/kathy908000/github/health-care-research/data/iy340.csv\",  imputey340d)\n",
    "CSV.read(\"/Users/kathy908000/github/health-care-research/data/iy340.csv\")"
   ]
  },
  {
   "cell_type": "markdown",
   "metadata": {},
   "source": [
    "# GLRM k-means with ProxGradParams"
   ]
  },
  {
   "cell_type": "code",
   "execution_count": null,
   "metadata": {},
   "outputs": [],
   "source": [
    "#k=3"
   ]
  },
  {
   "cell_type": "code",
   "execution_count": null,
   "metadata": {},
   "outputs": [],
   "source": [
    "loss1 = fill(HuberLoss(),2)\n",
    "loss2 = fill(HingeLoss(), 917)\n",
    "loss3 = fill(OrdinalHingeLoss(), 1)\n",
    "losses = [loss1; loss3; loss2]"
   ]
  },
  {
   "cell_type": "code",
   "execution_count": null,
   "metadata": {},
   "outputs": [],
   "source": [
    "k = 3\n",
    "A= df3\n",
    "rx = UnitOneSparseConstraint()\n",
    "ry = ZeroReg()\n",
    "glrm03 = GLRM(A,losses,rx,ry,k)\n",
    "X03,Y03,ch03 = fit!(glrm03)"
   ]
  },
  {
   "cell_type": "code",
   "execution_count": null,
   "metadata": {},
   "outputs": [],
   "source": [
    "println(\"Computing cross validation error for each fold\")\n",
    "params = Params(1.0, max_iter=100, abs_tol=0.0, min_stepsize=.001)\n",
    "train_error, test_error, train_glrms, test_glrms = cross_validate(glrm03, nfolds=2, params=params)\n",
    "df = DataFrame(train_error = train_error, test_error = test_error)"
   ]
  },
  {
   "cell_type": "code",
   "execution_count": null,
   "metadata": {},
   "outputs": [],
   "source": [
    "hingek3= convert(DataFrame, X03) "
   ]
  },
  {
   "cell_type": "code",
   "execution_count": null,
   "metadata": {},
   "outputs": [],
   "source": [
    "CSV.write(\"/Users/kathy908000/github/health-care-research/data/hinge100.3.csv\",  hingek3)\n",
    "CSV.read(\"/Users/kathy908000/github/health-care-research/data/hinge100.3.csv\")"
   ]
  },
  {
   "cell_type": "code",
   "execution_count": null,
   "metadata": {},
   "outputs": [],
   "source": []
  },
  {
   "cell_type": "code",
   "execution_count": null,
   "metadata": {},
   "outputs": [],
   "source": []
  },
  {
   "cell_type": "code",
   "execution_count": null,
   "metadata": {},
   "outputs": [],
   "source": [
    "#k=4"
   ]
  },
  {
   "cell_type": "code",
   "execution_count": 20,
   "metadata": {},
   "outputs": [
    {
     "data": {
      "text/plain": [
       "920-element Array{Loss,1}:\n",
       " HuberLoss(1.0, RealDomain(), 1.0)\n",
       " HuberLoss(1.0, RealDomain(), 1.0)\n",
       " OrdinalHingeLoss(1, 10, 1.0, OrdinalDomain(1, 10))\n",
       " WeightedHingeLoss(1.0, BoolDomain(), 1.0)\n",
       " WeightedHingeLoss(1.0, BoolDomain(), 1.0)\n",
       " WeightedHingeLoss(1.0, BoolDomain(), 1.0)\n",
       " WeightedHingeLoss(1.0, BoolDomain(), 1.0)\n",
       " WeightedHingeLoss(1.0, BoolDomain(), 1.0)\n",
       " WeightedHingeLoss(1.0, BoolDomain(), 1.0)\n",
       " WeightedHingeLoss(1.0, BoolDomain(), 1.0)\n",
       " WeightedHingeLoss(1.0, BoolDomain(), 1.0)\n",
       " WeightedHingeLoss(1.0, BoolDomain(), 1.0)\n",
       " WeightedHingeLoss(1.0, BoolDomain(), 1.0)\n",
       " ⋮\n",
       " WeightedHingeLoss(1.0, BoolDomain(), 1.0)\n",
       " WeightedHingeLoss(1.0, BoolDomain(), 1.0)\n",
       " WeightedHingeLoss(1.0, BoolDomain(), 1.0)\n",
       " WeightedHingeLoss(1.0, BoolDomain(), 1.0)\n",
       " WeightedHingeLoss(1.0, BoolDomain(), 1.0)\n",
       " WeightedHingeLoss(1.0, BoolDomain(), 1.0)\n",
       " WeightedHingeLoss(1.0, BoolDomain(), 1.0)\n",
       " WeightedHingeLoss(1.0, BoolDomain(), 1.0)\n",
       " WeightedHingeLoss(1.0, BoolDomain(), 1.0)\n",
       " WeightedHingeLoss(1.0, BoolDomain(), 1.0)\n",
       " WeightedHingeLoss(1.0, BoolDomain(), 1.0)\n",
       " WeightedHingeLoss(1.0, BoolDomain(), 1.0)"
      ]
     },
     "execution_count": 20,
     "metadata": {},
     "output_type": "execute_result"
    }
   ],
   "source": [
    "loss1 = fill(HuberLoss(),2)\n",
    "loss2 = fill(HingeLoss(), 917)\n",
    "loss3 = fill(OrdinalHingeLoss(), 1)\n",
    "losses = [loss1; loss3; loss2]"
   ]
  },
  {
   "cell_type": "code",
   "execution_count": 21,
   "metadata": {},
   "outputs": [
    {
     "name": "stdout",
     "output_type": "stream",
     "text": [
      "Fitting GLRM\n",
      "Iteration 10: objective value = 537407.4487488646\n",
      "Iteration 20: objective value = 462547.6199124506\n",
      "Iteration 30: objective value = 458896.69003507175\n"
     ]
    },
    {
     "data": {
      "text/plain": [
       "([0.0 0.0 … 0.0 0.0; 1.0 0.0 … 0.0 1.0; 0.0 0.0 … 1.0 0.0; 0.0 1.0 … 0.0 0.0], [2.9828000694528636 1.2204171367551768 … -1.1514563826085844 -1.0308207110916516; 3.0106621399640954 1.2977860722664145 … -1.157062914811369 -1.0534307474036388; 2.978116811851487 1.2589967427517725 … -1.082091790448259 -1.1358451397776328; 3.0093505083151264 1.2875273696465004 … -1.0037683678169946 -1.1605119293080857], ConvergenceHistory(\"ProxGradGLRM\", [Inf, 8.637681448302025e6, 6.854029108531327e6, 5.243988229351777e6, 3.8527715065720095e6, 2.708772851390638e6, 1.8397248807976234e6, 1.2288638433747625e6, 852498.0491710943, 640500.3263282396  …  460876.44186960126, 460322.13001681806, 460081.3390710598, 459747.6050152302, 459512.38438202126, 459290.04356924247, 459040.24689866847, 458896.69003507175, 458778.65373038687, 458696.93631901866], Float64[], [0.0, 0.0, 0.0, 0.0, 0.0, 0.0, 0.0, 0.0, 0.0, 0.0  …  0.0, 0.0, 0.0, 0.0, 0.0, 0.0, 0.0, 0.0, 0.0, 0.0], [0.0, 0.0, 0.0, 0.0, 0.0, 0.0, 0.0, 0.0, 0.0, 0.0  …  0.0, 0.0, 0.0, 0.0, 0.0, 0.0, 0.0, 0.0, 0.0, 0.0], [0.0, 12.44625186920166, 58.128952741622925, 70.65592765808105, 83.18264365196228, 95.59802150726318, 108.30743646621704, 121.49197244644165, 134.21409726142883, 147.25407934188843  …  326.49251914024353, 338.0446252822876, 349.872807264328, 361.99365520477295, 373.94460129737854, 385.5827853679657, 397.52379727363586, 410.198123216629, 423.8191020488739, 436.82206106185913], [0.0, 0.0, 0.0, 0.0, 0.0, 0.0, 0.0, 0.0, 0.0, 0.0  …  0.0, 0.0, 0.0, 0.0, 0.0, 0.0, 0.0, 0.0, 0.0, 0.0], 0))"
      ]
     },
     "execution_count": 21,
     "metadata": {},
     "output_type": "execute_result"
    }
   ],
   "source": [
    "k = 4\n",
    "A= df3\n",
    "rx = UnitOneSparseConstraint()\n",
    "ry = ZeroReg()\n",
    "glrm04 = GLRM(A,losses,rx,ry,k)\n",
    "params04 = ProxGradParams(inner_iter_Y=100)\n",
    "X04,Y04,ch04 = fit!(glrm04)"
   ]
  },
  {
   "cell_type": "code",
   "execution_count": 22,
   "metadata": {},
   "outputs": [
    {
     "name": "stdout",
     "output_type": "stream",
     "text": [
      "Computing cross validation error for each fold\n",
      "flattening observations\n",
      "computing CV folds\n",
      "\n",
      "forming train and test GLRM for fold 1\n",
      "training model on 4741723 samples and testing on 4743477\n",
      "fitting train GLRM for fold 1\n",
      "Fitting GLRM\n",
      "Iteration 10: objective value = 228060.43770086323\n",
      "computing train and test error for fold 1:\n",
      "\ttrain error: 0.04809381023022364\n",
      "\ttest error:  0.04851448646387651\n",
      "\n",
      "forming train and test GLRM for fold 2\n",
      "training model on 4743477 samples and testing on 4741723\n",
      "fitting train GLRM for fold 2\n",
      "Fitting GLRM\n",
      "Iteration 10: objective value = 230014.1457948012\n",
      "computing train and test error for fold 2:\n",
      "\ttrain error: 0.04847290167495832\n",
      "\ttest error:  0.04806949338658676\n"
     ]
    },
    {
     "data": {
      "text/html": [
       "<table class=\"data-frame\"><thead><tr><th></th><th>train_error</th><th>test_error</th></tr><tr><th></th><th>Float64</th><th>Float64</th></tr></thead><tbody><p>2 rows × 2 columns</p><tr><th>1</th><td>0.0480938</td><td>0.0485145</td></tr><tr><th>2</th><td>0.0484729</td><td>0.0480695</td></tr></tbody></table>"
      ],
      "text/latex": [
       "\\begin{tabular}{r|cc}\n",
       "\t& train\\_error & test\\_error\\\\\n",
       "\t\\hline\n",
       "\t& Float64 & Float64\\\\\n",
       "\t\\hline\n",
       "\t1 & 0.0480938 & 0.0485145 \\\\\n",
       "\t2 & 0.0484729 & 0.0480695 \\\\\n",
       "\\end{tabular}\n"
      ],
      "text/plain": [
       "2×2 DataFrame\n",
       "│ Row │ train_error │ test_error │\n",
       "│     │ \u001b[90mFloat64\u001b[39m     │ \u001b[90mFloat64\u001b[39m    │\n",
       "├─────┼─────────────┼────────────┤\n",
       "│ 1   │ 0.0480938   │ 0.0485145  │\n",
       "│ 2   │ 0.0484729   │ 0.0480695  │"
      ]
     },
     "execution_count": 22,
     "metadata": {},
     "output_type": "execute_result"
    }
   ],
   "source": [
    "println(\"Computing cross validation error for each fold\")\n",
    "params = Params(1.0, max_iter=100, abs_tol=0.0, min_stepsize=.001)\n",
    "train_error, test_error, train_glrms, test_glrms = cross_validate(glrm04, nfolds=2, params=params)\n",
    "df = DataFrame(train_error = train_error, test_error = test_error)"
   ]
  },
  {
   "cell_type": "code",
   "execution_count": 23,
   "metadata": {},
   "outputs": [
    {
     "data": {
      "text/html": [
       "<table class=\"data-frame\"><thead><tr><th></th><th>x1</th><th>x2</th><th>x3</th><th>x4</th><th>x5</th><th>x6</th><th>x7</th><th>x8</th><th>x9</th></tr><tr><th></th><th>Float64</th><th>Float64</th><th>Float64</th><th>Float64</th><th>Float64</th><th>Float64</th><th>Float64</th><th>Float64</th><th>Float64</th></tr></thead><tbody><p>4 rows × 10,310 columns (omitted printing of 10301 columns)</p><tr><th>1</th><td>0.0</td><td>0.0</td><td>0.0</td><td>0.0</td><td>1.0</td><td>0.0</td><td>0.0</td><td>0.0</td><td>1.0</td></tr><tr><th>2</th><td>1.0</td><td>0.0</td><td>0.0</td><td>0.0</td><td>0.0</td><td>1.0</td><td>0.0</td><td>0.0</td><td>0.0</td></tr><tr><th>3</th><td>0.0</td><td>0.0</td><td>1.0</td><td>0.0</td><td>0.0</td><td>0.0</td><td>0.0</td><td>0.0</td><td>0.0</td></tr><tr><th>4</th><td>0.0</td><td>1.0</td><td>0.0</td><td>1.0</td><td>0.0</td><td>0.0</td><td>1.0</td><td>1.0</td><td>0.0</td></tr></tbody></table>"
      ],
      "text/latex": [
       "\\begin{tabular}{r|cccccccccc}\n",
       "\t& x1 & x2 & x3 & x4 & x5 & x6 & x7 & x8 & x9 & \\\\\n",
       "\t\\hline\n",
       "\t& Float64 & Float64 & Float64 & Float64 & Float64 & Float64 & Float64 & Float64 & Float64 & \\\\\n",
       "\t\\hline\n",
       "\t1 & 0.0 & 0.0 & 0.0 & 0.0 & 1.0 & 0.0 & 0.0 & 0.0 & 1.0 & $\\dots$ \\\\\n",
       "\t2 & 1.0 & 0.0 & 0.0 & 0.0 & 0.0 & 1.0 & 0.0 & 0.0 & 0.0 & $\\dots$ \\\\\n",
       "\t3 & 0.0 & 0.0 & 1.0 & 0.0 & 0.0 & 0.0 & 0.0 & 0.0 & 0.0 & $\\dots$ \\\\\n",
       "\t4 & 0.0 & 1.0 & 0.0 & 1.0 & 0.0 & 0.0 & 1.0 & 1.0 & 0.0 & $\\dots$ \\\\\n",
       "\\end{tabular}\n"
      ],
      "text/plain": [
       "4×10310 DataFrame. Omitted printing of 10303 columns\n",
       "│ Row │ x1      │ x2      │ x3      │ x4      │ x5      │ x6      │ x7      │\n",
       "│     │ \u001b[90mFloat64\u001b[39m │ \u001b[90mFloat64\u001b[39m │ \u001b[90mFloat64\u001b[39m │ \u001b[90mFloat64\u001b[39m │ \u001b[90mFloat64\u001b[39m │ \u001b[90mFloat64\u001b[39m │ \u001b[90mFloat64\u001b[39m │\n",
       "├─────┼─────────┼─────────┼─────────┼─────────┼─────────┼─────────┼─────────┤\n",
       "│ 1   │ 0.0     │ 0.0     │ 0.0     │ 0.0     │ 1.0     │ 0.0     │ 0.0     │\n",
       "│ 2   │ 1.0     │ 0.0     │ 0.0     │ 0.0     │ 0.0     │ 1.0     │ 0.0     │\n",
       "│ 3   │ 0.0     │ 0.0     │ 1.0     │ 0.0     │ 0.0     │ 0.0     │ 0.0     │\n",
       "│ 4   │ 0.0     │ 1.0     │ 0.0     │ 1.0     │ 0.0     │ 0.0     │ 1.0     │"
      ]
     },
     "execution_count": 23,
     "metadata": {},
     "output_type": "execute_result"
    }
   ],
   "source": [
    "hingek4 = convert(DataFrame, X04) "
   ]
  },
  {
   "cell_type": "code",
   "execution_count": 24,
   "metadata": {},
   "outputs": [
    {
     "data": {
      "text/html": [
       "<table class=\"data-frame\"><thead><tr><th></th><th>x1</th><th>x2</th><th>x3</th><th>x4</th><th>x5</th><th>x6</th><th>x7</th><th>x8</th><th>x9</th></tr><tr><th></th><th>Float64</th><th>Float64</th><th>Float64</th><th>Float64</th><th>Float64</th><th>Float64</th><th>Float64</th><th>Float64</th><th>Float64</th></tr></thead><tbody><p>4 rows × 10,310 columns (omitted printing of 10301 columns)</p><tr><th>1</th><td>0.0</td><td>0.0</td><td>0.0</td><td>0.0</td><td>1.0</td><td>0.0</td><td>0.0</td><td>0.0</td><td>1.0</td></tr><tr><th>2</th><td>1.0</td><td>0.0</td><td>0.0</td><td>0.0</td><td>0.0</td><td>1.0</td><td>0.0</td><td>0.0</td><td>0.0</td></tr><tr><th>3</th><td>0.0</td><td>0.0</td><td>1.0</td><td>0.0</td><td>0.0</td><td>0.0</td><td>0.0</td><td>0.0</td><td>0.0</td></tr><tr><th>4</th><td>0.0</td><td>1.0</td><td>0.0</td><td>1.0</td><td>0.0</td><td>0.0</td><td>1.0</td><td>1.0</td><td>0.0</td></tr></tbody></table>"
      ],
      "text/latex": [
       "\\begin{tabular}{r|cccccccccc}\n",
       "\t& x1 & x2 & x3 & x4 & x5 & x6 & x7 & x8 & x9 & \\\\\n",
       "\t\\hline\n",
       "\t& Float64 & Float64 & Float64 & Float64 & Float64 & Float64 & Float64 & Float64 & Float64 & \\\\\n",
       "\t\\hline\n",
       "\t1 & 0.0 & 0.0 & 0.0 & 0.0 & 1.0 & 0.0 & 0.0 & 0.0 & 1.0 & $\\dots$ \\\\\n",
       "\t2 & 1.0 & 0.0 & 0.0 & 0.0 & 0.0 & 1.0 & 0.0 & 0.0 & 0.0 & $\\dots$ \\\\\n",
       "\t3 & 0.0 & 0.0 & 1.0 & 0.0 & 0.0 & 0.0 & 0.0 & 0.0 & 0.0 & $\\dots$ \\\\\n",
       "\t4 & 0.0 & 1.0 & 0.0 & 1.0 & 0.0 & 0.0 & 1.0 & 1.0 & 0.0 & $\\dots$ \\\\\n",
       "\\end{tabular}\n"
      ],
      "text/plain": [
       "4×10310 DataFrame. Omitted printing of 10303 columns\n",
       "│ Row │ x1      │ x2      │ x3      │ x4      │ x5      │ x6      │ x7      │\n",
       "│     │ \u001b[90mFloat64\u001b[39m │ \u001b[90mFloat64\u001b[39m │ \u001b[90mFloat64\u001b[39m │ \u001b[90mFloat64\u001b[39m │ \u001b[90mFloat64\u001b[39m │ \u001b[90mFloat64\u001b[39m │ \u001b[90mFloat64\u001b[39m │\n",
       "├─────┼─────────┼─────────┼─────────┼─────────┼─────────┼─────────┼─────────┤\n",
       "│ 1   │ 0.0     │ 0.0     │ 0.0     │ 0.0     │ 1.0     │ 0.0     │ 0.0     │\n",
       "│ 2   │ 1.0     │ 0.0     │ 0.0     │ 0.0     │ 0.0     │ 1.0     │ 0.0     │\n",
       "│ 3   │ 0.0     │ 0.0     │ 1.0     │ 0.0     │ 0.0     │ 0.0     │ 0.0     │\n",
       "│ 4   │ 0.0     │ 1.0     │ 0.0     │ 1.0     │ 0.0     │ 0.0     │ 1.0     │"
      ]
     },
     "execution_count": 24,
     "metadata": {},
     "output_type": "execute_result"
    }
   ],
   "source": [
    "CSV.write(\"/Users/kathy908000/github/health-care-research/data/hingeparam100.4.csv\",  hingek4)\n",
    "CSV.read(\"/Users/kathy908000/github/health-care-research/data/hingeparam100.4.csv\")\n"
   ]
  },
  {
   "cell_type": "code",
   "execution_count": null,
   "metadata": {},
   "outputs": [],
   "source": []
  },
  {
   "cell_type": "code",
   "execution_count": null,
   "metadata": {},
   "outputs": [],
   "source": []
  },
  {
   "cell_type": "markdown",
   "metadata": {},
   "source": [
    "# Loss Function Weight"
   ]
  },
  {
   "cell_type": "code",
   "execution_count": 35,
   "metadata": {
    "scrolled": false
   },
   "outputs": [
    {
     "name": "stderr",
     "output_type": "stream",
     "text": [
      "┌ Warning: `getindex(df::DataFrame, col_ind::ColumnIndex)` is deprecated, use `df[!, col_ind]` instead.\n",
      "│   caller = top-level scope at In[35]:1\n",
      "└ @ Core In[35]:1\n"
     ]
    },
    {
     "data": {
      "text/plain": [
       "919-element CSV.Column{Float64,Float64}:\n",
       "  3.23314405094993\n",
       "  0.305240399359121\n",
       "  0.191690978259395\n",
       "  0.228630900907381\n",
       "  0.0\n",
       "  0.0943458778402859\n",
       "  0.00123620398033306\n",
       " -0.029199136051568\n",
       "  0.17131381206672\n",
       "  0.204473992997767\n",
       " -0.00374605067380904\n",
       "  0.00813799726256531\n",
       "  0.0\n",
       "  ⋮\n",
       "  0.0\n",
       " -0.000953901568101591\n",
       " -0.000116459293364649\n",
       " -1.42113840586784e-6\n",
       "  0.0\n",
       "  0.0\n",
       "  0.0\n",
       "  0.0003585214421575\n",
       "  3.8851872006022e-5\n",
       "  0.00140895223637941\n",
       "  0.0\n",
       "  0.0"
      ]
     },
     "execution_count": 35,
     "metadata": {},
     "output_type": "execute_result"
    }
   ],
   "source": [
    "imp[2]"
   ]
  },
  {
   "cell_type": "code",
   "execution_count": 12,
   "metadata": {
    "scrolled": true
   },
   "outputs": [
    {
     "name": "stderr",
     "output_type": "stream",
     "text": [
      "┌ Warning: `getindex(df::DataFrame, col_ind::ColumnIndex)` is deprecated, use `df[!, col_ind]` instead.\n",
      "│   caller = top-level scope at In[12]:1\n",
      "└ @ Core In[12]:1\n"
     ]
    },
    {
     "data": {
      "text/plain": [
       "0.305240399359121"
      ]
     },
     "execution_count": 12,
     "metadata": {},
     "output_type": "execute_result"
    }
   ],
   "source": [
    "imp[2][2]"
   ]
  },
  {
   "cell_type": "code",
   "execution_count": null,
   "metadata": {},
   "outputs": [],
   "source": [
    "#k=6"
   ]
  },
  {
   "cell_type": "code",
   "execution_count": 13,
   "metadata": {
    "scrolled": false
   },
   "outputs": [
    {
     "data": {
      "text/plain": [
       "3.666"
      ]
     },
     "execution_count": 13,
     "metadata": {},
     "output_type": "execute_result"
    }
   ],
   "source": [
    "df3[1, 1]"
   ]
  },
  {
   "cell_type": "code",
   "execution_count": 13,
   "metadata": {
    "scrolled": true
   },
   "outputs": [
    {
     "data": {
      "text/html": [
       "<table class=\"data-frame\"><thead><tr><th></th><th>Column1</th><th>%IncMSE</th><th>IncNodePurity</th></tr><tr><th></th><th>String</th><th>Float64</th><th>Float64</th></tr></thead><tbody><p>919 rows × 3 columns</p><tr><th>1</th><td>HOSPITALIZATION</td><td>3.23314</td><td>29429.1</td></tr><tr><th>2</th><td>ORDINAL_AGE</td><td>0.30524</td><td>5012.23</td></tr><tr><th>3</th><td>ELECTIVE</td><td>0.191691</td><td>1835.33</td></tr><tr><th>4</th><td>EMERGENCY</td><td>0.228631</td><td>1620.93</td></tr><tr><th>5</th><td>NEWBORN</td><td>0.0</td><td>0.79248</td></tr><tr><th>6</th><td>URGENT</td><td>0.0943459</td><td>1676.42</td></tr><tr><th>7</th><td>Government</td><td>0.0012362</td><td>320.536</td></tr><tr><th>8</th><td>Medicaid</td><td>-0.0291991</td><td>2072.1</td></tr><tr><th>9</th><td>Medicare</td><td>0.171314</td><td>1549.21</td></tr><tr><th>10</th><td>Private</td><td>0.204474</td><td>1781.15</td></tr><tr><th>11</th><td>Self.Pay</td><td>-0.00374605</td><td>193.301</td></tr><tr><th>12</th><td>DIVORCED</td><td>0.008138</td><td>954.676</td></tr><tr><th>13</th><td>LIFE.PARTNER</td><td>0.0</td><td>1.69523</td></tr><tr><th>14</th><td>MARRIED</td><td>0.050776</td><td>1715.11</td></tr><tr><th>15</th><td>NAN</td><td>-0.00774838</td><td>558.663</td></tr><tr><th>16</th><td>SEPARATED</td><td>-0.0112565</td><td>448.511</td></tr><tr><th>17</th><td>SINGLE</td><td>-0.0428076</td><td>1405.71</td></tr><tr><th>18</th><td>UNKNOWN</td><td>0.00400692</td><td>572.005</td></tr><tr><th>19</th><td>WIDOWED</td><td>0.0996021</td><td>988.705</td></tr><tr><th>20</th><td>GENDER</td><td>0.0198447</td><td>1722.33</td></tr><tr><th>21</th><td>X3</td><td>0.0</td><td>1.04769</td></tr><tr><th>22</th><td>X4</td><td>0.0</td><td>0.103577</td></tr><tr><th>23</th><td>X5</td><td>0.0</td><td>8.26532</td></tr><tr><th>24</th><td>X7</td><td>0.0</td><td>58.821</td></tr><tr><th>25</th><td>X8</td><td>0.401887</td><td>6641.47</td></tr><tr><th>26</th><td>X9</td><td>0.000618412</td><td>18.3981</td></tr><tr><th>27</th><td>X10</td><td>0.0</td><td>609.665</td></tr><tr><th>28</th><td>X11</td><td>0.0027859</td><td>83.1408</td></tr><tr><th>29</th><td>X12</td><td>0.0</td><td>14.5081</td></tr><tr><th>30</th><td>X13</td><td>2.96182e-5</td><td>2.54468</td></tr><tr><th>&vellip;</th><td>&vellip;</td><td>&vellip;</td><td>&vellip;</td></tr></tbody></table>"
      ],
      "text/latex": [
       "\\begin{tabular}{r|ccc}\n",
       "\t& Column1 & \\%IncMSE & IncNodePurity\\\\\n",
       "\t\\hline\n",
       "\t& String & Float64 & Float64\\\\\n",
       "\t\\hline\n",
       "\t1 & HOSPITALIZATION & 3.23314 & 29429.1 \\\\\n",
       "\t2 & ORDINAL\\_AGE & 0.30524 & 5012.23 \\\\\n",
       "\t3 & ELECTIVE & 0.191691 & 1835.33 \\\\\n",
       "\t4 & EMERGENCY & 0.228631 & 1620.93 \\\\\n",
       "\t5 & NEWBORN & 0.0 & 0.79248 \\\\\n",
       "\t6 & URGENT & 0.0943459 & 1676.42 \\\\\n",
       "\t7 & Government & 0.0012362 & 320.536 \\\\\n",
       "\t8 & Medicaid & -0.0291991 & 2072.1 \\\\\n",
       "\t9 & Medicare & 0.171314 & 1549.21 \\\\\n",
       "\t10 & Private & 0.204474 & 1781.15 \\\\\n",
       "\t11 & Self.Pay & -0.00374605 & 193.301 \\\\\n",
       "\t12 & DIVORCED & 0.008138 & 954.676 \\\\\n",
       "\t13 & LIFE.PARTNER & 0.0 & 1.69523 \\\\\n",
       "\t14 & MARRIED & 0.050776 & 1715.11 \\\\\n",
       "\t15 & NAN & -0.00774838 & 558.663 \\\\\n",
       "\t16 & SEPARATED & -0.0112565 & 448.511 \\\\\n",
       "\t17 & SINGLE & -0.0428076 & 1405.71 \\\\\n",
       "\t18 & UNKNOWN & 0.00400692 & 572.005 \\\\\n",
       "\t19 & WIDOWED & 0.0996021 & 988.705 \\\\\n",
       "\t20 & GENDER & 0.0198447 & 1722.33 \\\\\n",
       "\t21 & X3 & 0.0 & 1.04769 \\\\\n",
       "\t22 & X4 & 0.0 & 0.103577 \\\\\n",
       "\t23 & X5 & 0.0 & 8.26532 \\\\\n",
       "\t24 & X7 & 0.0 & 58.821 \\\\\n",
       "\t25 & X8 & 0.401887 & 6641.47 \\\\\n",
       "\t26 & X9 & 0.000618412 & 18.3981 \\\\\n",
       "\t27 & X10 & 0.0 & 609.665 \\\\\n",
       "\t28 & X11 & 0.0027859 & 83.1408 \\\\\n",
       "\t29 & X12 & 0.0 & 14.5081 \\\\\n",
       "\t30 & X13 & 2.96182e-5 & 2.54468 \\\\\n",
       "\t$\\dots$ & $\\dots$ & $\\dots$ & $\\dots$ \\\\\n",
       "\\end{tabular}\n"
      ],
      "text/plain": [
       "919×3 DataFrame. Omitted printing of 2 columns\n",
       "│ Row │ Column1                                                  │\n",
       "│     │ \u001b[90mString\u001b[39m                                                   │\n",
       "├─────┼──────────────────────────────────────────────────────────┤\n",
       "│ 1   │ HOSPITALIZATION                                          │\n",
       "│ 2   │ ORDINAL_AGE                                              │\n",
       "│ 3   │ ELECTIVE                                                 │\n",
       "│ 4   │ EMERGENCY                                                │\n",
       "│ 5   │ NEWBORN                                                  │\n",
       "│ 6   │ URGENT                                                   │\n",
       "│ 7   │ Government                                               │\n",
       "│ 8   │ Medicaid                                                 │\n",
       "│ 9   │ Medicare                                                 │\n",
       "│ 10  │ Private                                                  │\n",
       "⋮\n",
       "│ 909 │ WHITE...BRAZILIAN                                        │\n",
       "│ 910 │ NATIVE.HAWAIIAN.OR.OTHER.PACIFIC.ISLANDER                │\n",
       "│ 911 │ HISPANIC.LATINO...CENTRAL.AMERICAN..OTHER.               │\n",
       "│ 912 │ ASIAN...JAPANESE                                         │\n",
       "│ 913 │ ASIAN...THAI                                             │\n",
       "│ 914 │ HISPANIC.LATINO...HONDURAN                               │\n",
       "│ 915 │ HISPANIC.LATINO...CUBAN                                  │\n",
       "│ 916 │ MIDDLE.EASTERN                                           │\n",
       "│ 917 │ ASIAN...OTHER                                            │\n",
       "│ 918 │ HISPANIC.LATINO...MEXICAN                                │\n",
       "│ 919 │ AMERICAN.INDIAN.ALASKA.NATIVE.FEDERALLY.RECOGNIZED.TRIBE │"
      ]
     },
     "execution_count": 13,
     "metadata": {},
     "output_type": "execute_result"
    }
   ],
   "source": [
    "imp"
   ]
  },
  {
   "cell_type": "code",
   "execution_count": 20,
   "metadata": {},
   "outputs": [
    {
     "data": {
      "text/plain": [
       "920-element Array{QuadLoss,1}:\n",
       " QuadLoss(1.0, RealDomain())\n",
       " QuadLoss(1.0, RealDomain())\n",
       " QuadLoss(1.0, RealDomain())\n",
       " QuadLoss(1.0, RealDomain())\n",
       " QuadLoss(1.0, RealDomain())\n",
       " QuadLoss(1.0, RealDomain())\n",
       " QuadLoss(1.0, RealDomain())\n",
       " QuadLoss(1.0, RealDomain())\n",
       " QuadLoss(1.0, RealDomain())\n",
       " QuadLoss(1.0, RealDomain())\n",
       " QuadLoss(1.0, RealDomain())\n",
       " QuadLoss(1.0, RealDomain())\n",
       " QuadLoss(1.0, RealDomain())\n",
       " ⋮\n",
       " QuadLoss(1.0, RealDomain())\n",
       " QuadLoss(1.0, RealDomain())\n",
       " QuadLoss(1.0, RealDomain())\n",
       " QuadLoss(1.0, RealDomain())\n",
       " QuadLoss(1.0, RealDomain())\n",
       " QuadLoss(1.0, RealDomain())\n",
       " QuadLoss(1.0, RealDomain())\n",
       " QuadLoss(1.0, RealDomain())\n",
       " QuadLoss(1.0, RealDomain())\n",
       " QuadLoss(1.0, RealDomain())\n",
       " QuadLoss(1.0, RealDomain())\n",
       " QuadLoss(1.0, RealDomain())"
      ]
     },
     "execution_count": 20,
     "metadata": {},
     "output_type": "execute_result"
    }
   ],
   "source": [
    "losses = fill(QuadLoss(),920)\n"
   ]
  },
  {
   "cell_type": "code",
   "execution_count": 22,
   "metadata": {
    "scrolled": true
   },
   "outputs": [
    {
     "ename": "BoundsError",
     "evalue": "BoundsError: attempt to access 0-element Array{Any,1} at index [1]",
     "output_type": "error",
     "traceback": [
      "BoundsError: attempt to access 0-element Array{Any,1} at index [1]",
      "",
      "Stacktrace:",
      " [1] setindex!(::Array{Any,1}, ::Any, ::Int64) at ./essentials.jl:454",
      " [2] top-level scope at In[22]:2"
     ]
    }
   ],
   "source": [
    "losses = []\n",
    "losses[1] = HuberLoss()  #LOS\n",
    "losses[2] = HuberLoss(3.233144) #Hospital\n",
    "losses[3] = HuberLoss(3.233144)  #ordinalage\n",
    "lossesb = [HuberLoss(), HuberLoss(3.233144), OrdinalHingeLoss(1.2885)]\n",
    "lossesb = Loss[HuberLoss(), HuberLoss(3.233144), OrdinalHingeLoss(1.2885) ]"
   ]
  },
  {
   "cell_type": "code",
   "execution_count": 27,
   "metadata": {},
   "outputs": [
    {
     "ename": "UndefVarError",
     "evalue": "UndefVarError: warn not defined",
     "output_type": "error",
     "traceback": [
      "UndefVarError: warn not defined",
      "",
      "Stacktrace:",
      " [1] OrdinalDomain(::Int64, ::Float64) at /Users/kathy908000/.julia/packages/LowRankModels/uhtB9/src/domains.jl:40",
      " [2] OrdinalHingeLoss(::Float64) at /Users/kathy908000/.julia/packages/LowRankModels/uhtB9/src/losses.jl:256",
      " [3] top-level scope at In[27]:3"
     ]
    }
   ],
   "source": [
    "loss1 = fill(HuberLoss(),1)\n",
    "lohos = fill(HuberLoss(3.233144),1)\n",
    "loss3 = fill(OrdinalHingeLoss(0.30524), 1)\n",
    "losses = [loss1; lohos; loss3]"
   ]
  },
  {
   "cell_type": "code",
   "execution_count": null,
   "metadata": {},
   "outputs": [],
   "source": [
    "losses[1] = HuberLoss()  #LOS\n",
    "losses[2] = HuberLoss(3.233144) #Hospital\n",
    "losses[3] = OrdinalHingeLoss(1.2885)  #Ordinalage\n",
    "for i in range(4: 920): \n",
    "    loss = fill(HingeLoss(imp[2][i]),1)\n",
    "    \n",
    "    \n",
    "    \n",
    "    \n",
    "    #losses[i] = HuberLoss(imp[2][i])\n",
    "    "
   ]
  },
  {
   "cell_type": "code",
   "execution_count": null,
   "metadata": {},
   "outputs": [],
   "source": []
  },
  {
   "cell_type": "markdown",
   "metadata": {},
   "source": [
    "# Loss Function Weight 1"
   ]
  },
  {
   "cell_type": "code",
   "execution_count": null,
   "metadata": {},
   "outputs": [],
   "source": [
    "#k=6"
   ]
  },
  {
   "cell_type": "code",
   "execution_count": 27,
   "metadata": {
    "scrolled": true
   },
   "outputs": [
    {
     "data": {
      "text/plain": [
       "920-element Array{Loss,1}:\n",
       " HuberLoss(1.0, RealDomain(), 1.0)\n",
       " HuberLoss(3.233144, RealDomain(), 1.0)\n",
       " OrdinalHingeLoss(1, 10, 1.0, OrdinalDomain(1, 10))\n",
       " WeightedHingeLoss(1.0, BoolDomain(), 1.0)\n",
       " WeightedHingeLoss(1.0, BoolDomain(), 1.0)\n",
       " WeightedHingeLoss(1.0, BoolDomain(), 1.0)\n",
       " WeightedHingeLoss(1.0, BoolDomain(), 1.0)\n",
       " WeightedHingeLoss(1.0, BoolDomain(), 1.0)\n",
       " WeightedHingeLoss(1.0, BoolDomain(), 1.0)\n",
       " WeightedHingeLoss(1.0, BoolDomain(), 1.0)\n",
       " WeightedHingeLoss(1.0, BoolDomain(), 1.0)\n",
       " WeightedHingeLoss(1.0, BoolDomain(), 1.0)\n",
       " WeightedHingeLoss(1.0, BoolDomain(), 1.0)\n",
       " ⋮\n",
       " WeightedHingeLoss(1.0, BoolDomain(), 1.0)\n",
       " WeightedHingeLoss(1.0, BoolDomain(), 1.0)\n",
       " WeightedHingeLoss(1.0, BoolDomain(), 1.0)\n",
       " WeightedHingeLoss(1.0, BoolDomain(), 1.0)\n",
       " WeightedHingeLoss(1.0, BoolDomain(), 1.0)\n",
       " WeightedHingeLoss(1.0, BoolDomain(), 1.0)\n",
       " WeightedHingeLoss(1.0, BoolDomain(), 1.0)\n",
       " WeightedHingeLoss(1.0, BoolDomain(), 1.0)\n",
       " WeightedHingeLoss(1.0, BoolDomain(), 1.0)\n",
       " WeightedHingeLoss(1.0, BoolDomain(), 1.0)\n",
       " WeightedHingeLoss(1.0, BoolDomain(), 1.0)\n",
       " WeightedHingeLoss(1.0, BoolDomain(), 1.0)"
      ]
     },
     "execution_count": 27,
     "metadata": {},
     "output_type": "execute_result"
    }
   ],
   "source": [
    "#trial\n",
    "loss1 = fill(HuberLoss(),1)\n",
    "lohos = fill(HuberLoss(3.233144),1)\n",
    "\n",
    "loss3 = fill(OrdinalHingeLoss(0.30524), 1)\n",
    "loss2 = fill(HingeLoss(), 917)\n",
    "\n",
    "losses = [loss1; lohos; loss3; loss2]"
   ]
  },
  {
   "cell_type": "code",
   "execution_count": 33,
   "metadata": {
    "scrolled": false
   },
   "outputs": [
    {
     "data": {
      "text/plain": [
       "920-element Array{Loss,1}:\n",
       " HuberLoss(1.0, RealDomain(), 1.0)\n",
       " HuberLoss(3.233144, RealDomain(), 1.0)\n",
       " OrdinalHingeLoss(1, 10, 1.0, OrdinalDomain(1, 10))\n",
       " WeightedHingeLoss(1.0, BoolDomain(), 1.0)\n",
       " WeightedHingeLoss(1.0, BoolDomain(), 1.0)\n",
       " WeightedHingeLoss(1.0, BoolDomain(), 1.0)\n",
       " WeightedHingeLoss(1.0, BoolDomain(), 1.0)\n",
       " WeightedHingeLoss(1.0, BoolDomain(), 1.0)\n",
       " WeightedHingeLoss(1.0, BoolDomain(), 1.0)\n",
       " WeightedHingeLoss(1.0, BoolDomain(), 1.0)\n",
       " WeightedHingeLoss(1.0, BoolDomain(), 1.0)\n",
       " WeightedHingeLoss(1.0, BoolDomain(), 1.0)\n",
       " WeightedHingeLoss(1.0, BoolDomain(), 1.0)\n",
       " ⋮\n",
       " WeightedHingeLoss(1.0, BoolDomain(), 1.0)\n",
       " WeightedHingeLoss(1.0, BoolDomain(), 1.0)\n",
       " WeightedHingeLoss(1.0, BoolDomain(), 1.0)\n",
       " WeightedHingeLoss(1.0, BoolDomain(), 1.0)\n",
       " WeightedHingeLoss(1.0, BoolDomain(), 1.0)\n",
       " WeightedHingeLoss(1.0, BoolDomain(), 1.0)\n",
       " WeightedHingeLoss(1.0, BoolDomain(), 1.0)\n",
       " WeightedHingeLoss(1.0, BoolDomain(), 1.0)\n",
       " WeightedHingeLoss(1.0, BoolDomain(), 1.0)\n",
       " WeightedHingeLoss(1.0, BoolDomain(), 1.0)\n",
       " WeightedHingeLoss(1.0, BoolDomain(), 1.0)\n",
       " WeightedHingeLoss(1.0, BoolDomain(), 1.0)"
      ]
     },
     "execution_count": 33,
     "metadata": {},
     "output_type": "execute_result"
    }
   ],
   "source": [
    "loss1 = fill(HuberLoss(),1)\n",
    "lohos = fill(HuberLoss(3.233144),1)\n",
    "lossord = fill(OrdinalHingeLoss(), 1)\n",
    "\n",
    "loss2 = fill(HingeLoss(), 363) \n",
    "lo482 = fill(HingeLoss(3.741448),1)\n",
    "loss3 = fill(HingeLoss(), 27)\n",
    "\n",
    "lo518 = fill(HingeLoss(4.550890),1)\n",
    "loss4 = fill(HingeLoss(), 525)\n",
    "\n",
    "losses = [loss1; lohos ; lossord; loss2; lo482; loss3; lo518; loss4]\n",
    "losses\n",
    "\n"
   ]
  },
  {
   "cell_type": "code",
   "execution_count": null,
   "metadata": {},
   "outputs": [],
   "source": [
    "\"\"\"\n",
    "\n",
    "363 vs 364\n",
    "522 vs 525\n",
    "loss1 = fill(HuberLoss(),2)\n",
    "loss2 = fill(HingeLoss(), 917)\n",
    "loss3 = fill(OrdinalHingeLoss(), 1)\n",
    "losses = [loss1; loss3; loss2]\n",
    "\n",
    "\n",
    "loss = HuberLoss()           # huber loss (less sensitive to outliers)\n",
    "reg = QuadReg(.1) \n",
    "\n",
    "rw = Regularizer[QuadReg(1), QuadReg(10), OneReg()]\n",
    "\n",
    "\"\"\""
   ]
  },
  {
   "cell_type": "code",
   "execution_count": 28,
   "metadata": {
    "scrolled": true
   },
   "outputs": [
    {
     "name": "stdout",
     "output_type": "stream",
     "text": [
      "Fitting GLRM\n",
      "Iteration 10: objective value = 466598.25682628475\n"
     ]
    },
    {
     "data": {
      "text/plain": [
       "([0.0 0.0 … 0.0 0.0; 0.0 1.0 … 0.0 0.0; … ; 0.0 0.0 … 0.0 0.0; 0.0 0.0 … 1.0 1.0], [2.9770882818858904 1.2804007285673809 … -1.183800716669909 -1.0384439606171014; 3.1172674969606278 1.241707870812449 … -1.0000006671973083 -1.133115696871406; … ; 3.10101656639586 1.2876206196478086 … -1.1316762147737625 -1.1035173307883128; 3.0102824962612873 1.288822822189657 … -1.388533278374337 -1.069622281158969], ConvergenceHistory(\"ProxGradGLRM\", [Inf, 467353.44286933384, 466700.1488484397, 466639.8533474493, 466621.63106305304, 466614.9265981597, 466609.90797033784, 466605.75168105646, 466602.4985922603, 466600.01270393835, 466598.25682628475, 466596.86185538466], Float64[], [0.0, 0.0, 0.0, 0.0, 0.0, 0.0, 0.0, 0.0, 0.0, 0.0, 0.0, 0.0], [0.0, 0.0, 0.0, 0.0, 0.0, 0.0, 0.0, 0.0, 0.0, 0.0, 0.0, 0.0], [0.0, 172.5205750465393, 363.9417209625244, 547.51176404953, 741.3716750144958, 933.4653699398041, 1139.7797400951385, 1348.3490951061249, 1554.2208800315857, 1782.4406850337982, 2013.0789170265198, 2253.166221141815], [0.0, 0.0, 0.0, 0.0, 0.0, 0.0, 0.0, 0.0, 0.0, 0.0, 0.0, 0.0], 0))"
      ]
     },
     "execution_count": 28,
     "metadata": {},
     "output_type": "execute_result"
    }
   ],
   "source": [
    "\"\"\"\n",
    "#trial\n",
    "k = 6\n",
    "A= df3\n",
    "rx = UnitOneSparseConstraint()\n",
    "ry = ZeroReg()\n",
    "glrm16 = GLRM(A,losses,rx,ry,k)\n",
    "params16 = ProxGradParams(inner_iter_Y=40)\n",
    "X16,Y16,ch16 = fit!(glrm16, params16)\n",
    "\"\"\""
   ]
  },
  {
   "cell_type": "code",
   "execution_count": 34,
   "metadata": {},
   "outputs": [
    {
     "name": "stdout",
     "output_type": "stream",
     "text": [
      "Fitting GLRM\n",
      "Iteration 10: objective value = 494203.70528993657\n"
     ]
    },
    {
     "data": {
      "text/plain": [
       "([1.0 1.0 … 0.0 0.0; 0.0 0.0 … 0.0 0.0; … ; 0.0 0.0 … 0.0 0.0; 0.0 0.0 … 1.0 1.0], [3.0301154423659775 1.2993950968867956 … -1.1771018004235585 -1.0797573241904719; 3.052168138883155 1.286757542665937 … -1.0000001861730303 -1.1256432123610263; … ; 2.9665761561024633 1.2837515652466398 … -1.1600151721901724 -1.133846493942793; 2.940502811442605 1.2206336136199574 … -1.1767382265756343 -1.097417708221005], ConvergenceHistory(\"ProxGradGLRM\", [Inf, 494893.49593696755, 494264.1494332819, 494243.07135554013, 494230.92200232757, 494222.30215330044, 494216.0735041194, 494211.39867085754, 494207.9378009061, 494205.5808379143, 494203.70528993657, 494202.0874259203], Float64[], [0.0, 0.0, 0.0, 0.0, 0.0, 0.0, 0.0, 0.0, 0.0, 0.0, 0.0, 0.0], [0.0, 0.0, 0.0, 0.0, 0.0, 0.0, 0.0, 0.0, 0.0, 0.0, 0.0, 0.0], [0.0, 178.34174418449402, 419.09685921669006, 702.7339763641357, 995.1654183864594, 1277.095243215561, 1508.5089192390442, 1741.5377442836761, 1974.9520373344421, 2187.935818195343, 2395.6134121418, 2608.3093230724335], [0.0, 0.0, 0.0, 0.0, 0.0, 0.0, 0.0, 0.0, 0.0, 0.0, 0.0, 0.0], 0))"
      ]
     },
     "execution_count": 34,
     "metadata": {},
     "output_type": "execute_result"
    }
   ],
   "source": [
    "k = 6\n",
    "A= df3\n",
    "rx = UnitOneSparseConstraint()\n",
    "ry = ZeroReg()\n",
    "glrm16 = GLRM(A,losses,rx,ry,k)\n",
    "params16 = ProxGradParams(inner_iter_Y=40)\n",
    "X16,Y16,ch16 = fit!(glrm16, params16)"
   ]
  },
  {
   "cell_type": "code",
   "execution_count": 35,
   "metadata": {},
   "outputs": [
    {
     "name": "stdout",
     "output_type": "stream",
     "text": [
      "Computing cross validation error for each fold\n",
      "flattening observations\n",
      "computing CV folds\n",
      "\n",
      "forming train and test GLRM for fold 1\n",
      "training model on 4741286 samples and testing on 4743914\n",
      "fitting train GLRM for fold 1\n",
      "Fitting GLRM\n",
      "Iteration 10: objective value = 247549.246094666\n",
      "computing train and test error for fold 1:\n",
      "\ttrain error: 0.052210814757208485\n",
      "\ttest error:  0.05197320572864283\n",
      "\n",
      "forming train and test GLRM for fold 2\n",
      "training model on 4743914 samples and testing on 4741286\n",
      "fitting train GLRM for fold 2\n",
      "Fitting GLRM\n",
      "Iteration 10: objective value = 246389.7475373678\n",
      "computing train and test error for fold 2:\n",
      "\ttrain error: 0.05193306609131719\n",
      "\ttest error:  0.052193415774825835\n"
     ]
    },
    {
     "data": {
      "text/html": [
       "<table class=\"data-frame\"><thead><tr><th></th><th>train_error</th><th>test_error</th></tr><tr><th></th><th>Float64</th><th>Float64</th></tr></thead><tbody><p>2 rows × 2 columns</p><tr><th>1</th><td>0.0522108</td><td>0.0519732</td></tr><tr><th>2</th><td>0.0519331</td><td>0.0521934</td></tr></tbody></table>"
      ],
      "text/latex": [
       "\\begin{tabular}{r|cc}\n",
       "\t& train\\_error & test\\_error\\\\\n",
       "\t\\hline\n",
       "\t& Float64 & Float64\\\\\n",
       "\t\\hline\n",
       "\t1 & 0.0522108 & 0.0519732 \\\\\n",
       "\t2 & 0.0519331 & 0.0521934 \\\\\n",
       "\\end{tabular}\n"
      ],
      "text/plain": [
       "2×2 DataFrame\n",
       "│ Row │ train_error │ test_error │\n",
       "│     │ \u001b[90mFloat64\u001b[39m     │ \u001b[90mFloat64\u001b[39m    │\n",
       "├─────┼─────────────┼────────────┤\n",
       "│ 1   │ 0.0522108   │ 0.0519732  │\n",
       "│ 2   │ 0.0519331   │ 0.0521934  │"
      ]
     },
     "execution_count": 35,
     "metadata": {},
     "output_type": "execute_result"
    }
   ],
   "source": [
    "println(\"Computing cross validation error for each fold\")\n",
    "params = Params(1.0, max_iter=100, abs_tol=0.0, min_stepsize=.001)\n",
    "train_error, test_error, train_glrms, test_glrms = cross_validate(glrm16, nfolds=2, params=params)\n",
    "df = DataFrame(train_error = train_error, test_error = test_error)"
   ]
  },
  {
   "cell_type": "code",
   "execution_count": 36,
   "metadata": {},
   "outputs": [
    {
     "data": {
      "text/html": [
       "<table class=\"data-frame\"><thead><tr><th></th><th>x1</th><th>x2</th><th>x3</th><th>x4</th><th>x5</th><th>x6</th><th>x7</th><th>x8</th><th>x9</th></tr><tr><th></th><th>Float64</th><th>Float64</th><th>Float64</th><th>Float64</th><th>Float64</th><th>Float64</th><th>Float64</th><th>Float64</th><th>Float64</th></tr></thead><tbody><p>6 rows × 10,310 columns (omitted printing of 10301 columns)</p><tr><th>1</th><td>1.0</td><td>1.0</td><td>0.0</td><td>0.0</td><td>0.0</td><td>1.0</td><td>0.0</td><td>0.0</td><td>0.0</td></tr><tr><th>2</th><td>0.0</td><td>0.0</td><td>1.0</td><td>1.0</td><td>0.0</td><td>0.0</td><td>0.0</td><td>1.0</td><td>0.0</td></tr><tr><th>3</th><td>0.0</td><td>0.0</td><td>0.0</td><td>0.0</td><td>1.0</td><td>0.0</td><td>0.0</td><td>0.0</td><td>0.0</td></tr><tr><th>4</th><td>0.0</td><td>0.0</td><td>0.0</td><td>0.0</td><td>0.0</td><td>0.0</td><td>0.0</td><td>0.0</td><td>0.0</td></tr><tr><th>5</th><td>0.0</td><td>0.0</td><td>0.0</td><td>0.0</td><td>0.0</td><td>0.0</td><td>1.0</td><td>0.0</td><td>0.0</td></tr><tr><th>6</th><td>0.0</td><td>0.0</td><td>0.0</td><td>0.0</td><td>0.0</td><td>0.0</td><td>0.0</td><td>0.0</td><td>1.0</td></tr></tbody></table>"
      ],
      "text/latex": [
       "\\begin{tabular}{r|cccccccccc}\n",
       "\t& x1 & x2 & x3 & x4 & x5 & x6 & x7 & x8 & x9 & \\\\\n",
       "\t\\hline\n",
       "\t& Float64 & Float64 & Float64 & Float64 & Float64 & Float64 & Float64 & Float64 & Float64 & \\\\\n",
       "\t\\hline\n",
       "\t1 & 1.0 & 1.0 & 0.0 & 0.0 & 0.0 & 1.0 & 0.0 & 0.0 & 0.0 & $\\dots$ \\\\\n",
       "\t2 & 0.0 & 0.0 & 1.0 & 1.0 & 0.0 & 0.0 & 0.0 & 1.0 & 0.0 & $\\dots$ \\\\\n",
       "\t3 & 0.0 & 0.0 & 0.0 & 0.0 & 1.0 & 0.0 & 0.0 & 0.0 & 0.0 & $\\dots$ \\\\\n",
       "\t4 & 0.0 & 0.0 & 0.0 & 0.0 & 0.0 & 0.0 & 0.0 & 0.0 & 0.0 & $\\dots$ \\\\\n",
       "\t5 & 0.0 & 0.0 & 0.0 & 0.0 & 0.0 & 0.0 & 1.0 & 0.0 & 0.0 & $\\dots$ \\\\\n",
       "\t6 & 0.0 & 0.0 & 0.0 & 0.0 & 0.0 & 0.0 & 0.0 & 0.0 & 1.0 & $\\dots$ \\\\\n",
       "\\end{tabular}\n"
      ],
      "text/plain": [
       "6×10310 DataFrame. Omitted printing of 10303 columns\n",
       "│ Row │ x1      │ x2      │ x3      │ x4      │ x5      │ x6      │ x7      │\n",
       "│     │ \u001b[90mFloat64\u001b[39m │ \u001b[90mFloat64\u001b[39m │ \u001b[90mFloat64\u001b[39m │ \u001b[90mFloat64\u001b[39m │ \u001b[90mFloat64\u001b[39m │ \u001b[90mFloat64\u001b[39m │ \u001b[90mFloat64\u001b[39m │\n",
       "├─────┼─────────┼─────────┼─────────┼─────────┼─────────┼─────────┼─────────┤\n",
       "│ 1   │ 1.0     │ 1.0     │ 0.0     │ 0.0     │ 0.0     │ 1.0     │ 0.0     │\n",
       "│ 2   │ 0.0     │ 0.0     │ 1.0     │ 1.0     │ 0.0     │ 0.0     │ 0.0     │\n",
       "│ 3   │ 0.0     │ 0.0     │ 0.0     │ 0.0     │ 1.0     │ 0.0     │ 0.0     │\n",
       "│ 4   │ 0.0     │ 0.0     │ 0.0     │ 0.0     │ 0.0     │ 0.0     │ 0.0     │\n",
       "│ 5   │ 0.0     │ 0.0     │ 0.0     │ 0.0     │ 0.0     │ 0.0     │ 1.0     │\n",
       "│ 6   │ 0.0     │ 0.0     │ 0.0     │ 0.0     │ 0.0     │ 0.0     │ 0.0     │"
      ]
     },
     "execution_count": 36,
     "metadata": {},
     "output_type": "execute_result"
    }
   ],
   "source": [
    "rfik6 = convert(DataFrame, X16) "
   ]
  },
  {
   "cell_type": "code",
   "execution_count": 37,
   "metadata": {},
   "outputs": [
    {
     "data": {
      "text/html": [
       "<table class=\"data-frame\"><thead><tr><th></th><th>x1</th><th>x2</th><th>x3</th><th>x4</th><th>x5</th><th>x6</th><th>x7</th><th>x8</th><th>x9</th></tr><tr><th></th><th>Float64</th><th>Float64</th><th>Float64</th><th>Float64</th><th>Float64</th><th>Float64</th><th>Float64</th><th>Float64</th><th>Float64</th></tr></thead><tbody><p>6 rows × 10,310 columns (omitted printing of 10301 columns)</p><tr><th>1</th><td>1.0</td><td>1.0</td><td>0.0</td><td>0.0</td><td>0.0</td><td>1.0</td><td>0.0</td><td>0.0</td><td>0.0</td></tr><tr><th>2</th><td>0.0</td><td>0.0</td><td>1.0</td><td>1.0</td><td>0.0</td><td>0.0</td><td>0.0</td><td>1.0</td><td>0.0</td></tr><tr><th>3</th><td>0.0</td><td>0.0</td><td>0.0</td><td>0.0</td><td>1.0</td><td>0.0</td><td>0.0</td><td>0.0</td><td>0.0</td></tr><tr><th>4</th><td>0.0</td><td>0.0</td><td>0.0</td><td>0.0</td><td>0.0</td><td>0.0</td><td>0.0</td><td>0.0</td><td>0.0</td></tr><tr><th>5</th><td>0.0</td><td>0.0</td><td>0.0</td><td>0.0</td><td>0.0</td><td>0.0</td><td>1.0</td><td>0.0</td><td>0.0</td></tr><tr><th>6</th><td>0.0</td><td>0.0</td><td>0.0</td><td>0.0</td><td>0.0</td><td>0.0</td><td>0.0</td><td>0.0</td><td>1.0</td></tr></tbody></table>"
      ],
      "text/latex": [
       "\\begin{tabular}{r|cccccccccc}\n",
       "\t& x1 & x2 & x3 & x4 & x5 & x6 & x7 & x8 & x9 & \\\\\n",
       "\t\\hline\n",
       "\t& Float64 & Float64 & Float64 & Float64 & Float64 & Float64 & Float64 & Float64 & Float64 & \\\\\n",
       "\t\\hline\n",
       "\t1 & 1.0 & 1.0 & 0.0 & 0.0 & 0.0 & 1.0 & 0.0 & 0.0 & 0.0 & $\\dots$ \\\\\n",
       "\t2 & 0.0 & 0.0 & 1.0 & 1.0 & 0.0 & 0.0 & 0.0 & 1.0 & 0.0 & $\\dots$ \\\\\n",
       "\t3 & 0.0 & 0.0 & 0.0 & 0.0 & 1.0 & 0.0 & 0.0 & 0.0 & 0.0 & $\\dots$ \\\\\n",
       "\t4 & 0.0 & 0.0 & 0.0 & 0.0 & 0.0 & 0.0 & 0.0 & 0.0 & 0.0 & $\\dots$ \\\\\n",
       "\t5 & 0.0 & 0.0 & 0.0 & 0.0 & 0.0 & 0.0 & 1.0 & 0.0 & 0.0 & $\\dots$ \\\\\n",
       "\t6 & 0.0 & 0.0 & 0.0 & 0.0 & 0.0 & 0.0 & 0.0 & 0.0 & 1.0 & $\\dots$ \\\\\n",
       "\\end{tabular}\n"
      ],
      "text/plain": [
       "6×10310 DataFrame. Omitted printing of 10303 columns\n",
       "│ Row │ x1      │ x2      │ x3      │ x4      │ x5      │ x6      │ x7      │\n",
       "│     │ \u001b[90mFloat64\u001b[39m │ \u001b[90mFloat64\u001b[39m │ \u001b[90mFloat64\u001b[39m │ \u001b[90mFloat64\u001b[39m │ \u001b[90mFloat64\u001b[39m │ \u001b[90mFloat64\u001b[39m │ \u001b[90mFloat64\u001b[39m │\n",
       "├─────┼─────────┼─────────┼─────────┼─────────┼─────────┼─────────┼─────────┤\n",
       "│ 1   │ 1.0     │ 1.0     │ 0.0     │ 0.0     │ 0.0     │ 1.0     │ 0.0     │\n",
       "│ 2   │ 0.0     │ 0.0     │ 1.0     │ 1.0     │ 0.0     │ 0.0     │ 0.0     │\n",
       "│ 3   │ 0.0     │ 0.0     │ 0.0     │ 0.0     │ 1.0     │ 0.0     │ 0.0     │\n",
       "│ 4   │ 0.0     │ 0.0     │ 0.0     │ 0.0     │ 0.0     │ 0.0     │ 0.0     │\n",
       "│ 5   │ 0.0     │ 0.0     │ 0.0     │ 0.0     │ 0.0     │ 0.0     │ 1.0     │\n",
       "│ 6   │ 0.0     │ 0.0     │ 0.0     │ 0.0     │ 0.0     │ 0.0     │ 0.0     │"
      ]
     },
     "execution_count": 37,
     "metadata": {},
     "output_type": "execute_result"
    }
   ],
   "source": [
    "CSV.write(\"/Users/kathy908000/github/health-care-research/data/rfik6.csv\",  rfik6)\n",
    "CSV.read(\"/Users/kathy908000/github/health-care-research/data/rfik6.csv\")"
   ]
  },
  {
   "cell_type": "code",
   "execution_count": 38,
   "metadata": {},
   "outputs": [
    {
     "data": {
      "text/plain": [
       "6×10310 Array{Float64,2}:\n",
       " 1.0  1.0  0.0  0.0  0.0  1.0  0.0  0.0  …  0.0  0.0  0.0  0.0  0.0  0.0  0.0\n",
       " 0.0  0.0  1.0  1.0  0.0  0.0  0.0  1.0     0.0  0.0  0.0  0.0  0.0  0.0  0.0\n",
       " 0.0  0.0  0.0  0.0  1.0  0.0  0.0  0.0     0.0  0.0  0.0  0.0  0.0  0.0  0.0\n",
       " 0.0  0.0  0.0  0.0  0.0  0.0  0.0  0.0     1.0  0.0  0.0  0.0  0.0  0.0  0.0\n",
       " 0.0  0.0  0.0  0.0  0.0  0.0  1.0  0.0     0.0  0.0  1.0  1.0  0.0  0.0  0.0\n",
       " 0.0  0.0  0.0  0.0  0.0  0.0  0.0  0.0  …  0.0  1.0  0.0  0.0  1.0  1.0  1.0"
      ]
     },
     "execution_count": 38,
     "metadata": {},
     "output_type": "execute_result"
    }
   ],
   "source": [
    "X16"
   ]
  },
  {
   "cell_type": "code",
   "execution_count": 39,
   "metadata": {},
   "outputs": [
    {
     "data": {
      "text/plain": [
       "6×920 Array{Float64,2}:\n",
       " 3.03012  1.2994   7.00028  -1.015     …  -1.00308  -1.1771   -1.07976\n",
       " 3.05217  1.28676  7.00277  -1.00346      -1.10874  -1.0      -1.12564\n",
       " 2.92978  1.28515  7.00258  -1.00386      -1.2034   -1.04479  -1.24224\n",
       " 3.07711  1.30714  7.00273  -1.00001      -1.15799  -1.09157  -2.22247\n",
       " 2.96658  1.28375  7.00422  -0.999862     -1.07344  -1.16002  -1.13385\n",
       " 2.9405   1.22063  7.00004  -1.00321   …  -1.0      -1.17674  -1.09742"
      ]
     },
     "execution_count": 39,
     "metadata": {},
     "output_type": "execute_result"
    }
   ],
   "source": [
    "Y16"
   ]
  },
  {
   "cell_type": "code",
   "execution_count": null,
   "metadata": {},
   "outputs": [],
   "source": []
  }
 ],
 "metadata": {
  "kernelspec": {
   "display_name": "Julia 1.4.2",
   "language": "julia",
   "name": "julia-1.4"
  },
  "language_info": {
   "file_extension": ".jl",
   "mimetype": "application/julia",
   "name": "julia",
   "version": "1.4.2"
  }
 },
 "nbformat": 4,
 "nbformat_minor": 2
}
