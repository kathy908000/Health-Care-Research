{
 "cells": [
  {
   "cell_type": "code",
   "execution_count": 7,
   "metadata": {
    "scrolled": true
   },
   "outputs": [
    {
     "ename": "ModuleNotFoundError",
     "evalue": "No module named 'em.expectation_maximization'; 'em' is not a package",
     "output_type": "error",
     "traceback": [
      "\u001b[0;31m---------------------------------------------------------------------------\u001b[0m",
      "\u001b[0;31mModuleNotFoundError\u001b[0m                       Traceback (most recent call last)",
      "\u001b[0;32m<ipython-input-7-231c4d776b60>\u001b[0m in \u001b[0;36m<module>\u001b[0;34m\u001b[0m\n\u001b[1;32m      1\u001b[0m \u001b[0;32mimport\u001b[0m \u001b[0mnumpy\u001b[0m \u001b[0;32mas\u001b[0m \u001b[0mnp\u001b[0m\u001b[0;34m\u001b[0m\u001b[0;34m\u001b[0m\u001b[0m\n\u001b[1;32m      2\u001b[0m \u001b[0;32mimport\u001b[0m \u001b[0mem\u001b[0m\u001b[0;34m\u001b[0m\u001b[0;34m\u001b[0m\u001b[0m\n\u001b[0;32m----> 3\u001b[0;31m \u001b[0;32mfrom\u001b[0m \u001b[0mem\u001b[0m\u001b[0;34m.\u001b[0m\u001b[0mexpectation_maximization\u001b[0m \u001b[0;32mimport\u001b[0m \u001b[0mExpectationMaximization\u001b[0m\u001b[0;34m\u001b[0m\u001b[0;34m\u001b[0m\u001b[0m\n\u001b[0m\u001b[1;32m      4\u001b[0m \u001b[0;32mfrom\u001b[0m \u001b[0mscipy\u001b[0m\u001b[0;34m.\u001b[0m\u001b[0mstats\u001b[0m \u001b[0;32mimport\u001b[0m \u001b[0mrandom_correlation\u001b[0m\u001b[0;34m,\u001b[0m \u001b[0mnorm\u001b[0m\u001b[0;34m,\u001b[0m \u001b[0mexpon\u001b[0m\u001b[0;34m\u001b[0m\u001b[0;34m\u001b[0m\u001b[0m\n\u001b[1;32m      5\u001b[0m \u001b[0;32mfrom\u001b[0m \u001b[0mevaluation\u001b[0m\u001b[0;34m.\u001b[0m\u001b[0mhelpers\u001b[0m \u001b[0;32mimport\u001b[0m \u001b[0;34m*\u001b[0m\u001b[0;34m\u001b[0m\u001b[0;34m\u001b[0m\u001b[0m\n",
      "\u001b[0;31mModuleNotFoundError\u001b[0m: No module named 'em.expectation_maximization'; 'em' is not a package"
     ]
    }
   ],
   "source": [
    "import numpy as np\n",
    "from em.expectation_maximization import ExpectationMaximization\n",
    "from scipy.stats import random_correlation, norm, expon\n",
    "from evaluation.helpers import *\n",
    "import pandas as pd\n",
    "import time"
   ]
  },
  {
   "cell_type": "code",
   "execution_count": 9,
   "metadata": {},
   "outputs": [
    {
     "ename": "ModuleNotFoundError",
     "evalue": "No module named 'em.online_expectation_maximization'; 'em' is not a package",
     "output_type": "error",
     "traceback": [
      "\u001b[0;31m---------------------------------------------------------------------------\u001b[0m",
      "\u001b[0;31mModuleNotFoundError\u001b[0m                       Traceback (most recent call last)",
      "\u001b[0;32m<ipython-input-9-864d064ae69a>\u001b[0m in \u001b[0;36m<module>\u001b[0;34m\u001b[0m\n\u001b[1;32m      1\u001b[0m \u001b[0;32mimport\u001b[0m \u001b[0mnumpy\u001b[0m \u001b[0;32mas\u001b[0m \u001b[0mnp\u001b[0m\u001b[0;34m\u001b[0m\u001b[0;34m\u001b[0m\u001b[0m\n\u001b[0;32m----> 2\u001b[0;31m \u001b[0;32mfrom\u001b[0m \u001b[0mem\u001b[0m\u001b[0;34m.\u001b[0m\u001b[0monline_expectation_maximization\u001b[0m \u001b[0;32mimport\u001b[0m \u001b[0mOnlineExpectationMaximization\u001b[0m\u001b[0;34m\u001b[0m\u001b[0;34m\u001b[0m\u001b[0m\n\u001b[0m\u001b[1;32m      3\u001b[0m \u001b[0;32mfrom\u001b[0m \u001b[0mscipy\u001b[0m\u001b[0;34m.\u001b[0m\u001b[0mstats\u001b[0m \u001b[0;32mimport\u001b[0m \u001b[0mrandom_correlation\u001b[0m\u001b[0;34m,\u001b[0m \u001b[0mnorm\u001b[0m\u001b[0;34m,\u001b[0m \u001b[0mexpon\u001b[0m\u001b[0;34m\u001b[0m\u001b[0;34m\u001b[0m\u001b[0m\n\u001b[1;32m      4\u001b[0m \u001b[0;32mfrom\u001b[0m \u001b[0mevaluation\u001b[0m\u001b[0;34m.\u001b[0m\u001b[0mhelpers\u001b[0m \u001b[0;32mimport\u001b[0m \u001b[0;34m*\u001b[0m\u001b[0;34m\u001b[0m\u001b[0;34m\u001b[0m\u001b[0m\n\u001b[1;32m      5\u001b[0m \u001b[0;32mimport\u001b[0m \u001b[0mtime\u001b[0m\u001b[0;34m\u001b[0m\u001b[0;34m\u001b[0m\u001b[0m\n",
      "\u001b[0;31mModuleNotFoundError\u001b[0m: No module named 'em.online_expectation_maximization'; 'em' is not a package"
     ]
    }
   ],
   "source": [
    "import numpy as np\n",
    "from em.online_expectation_maximization import OnlineExpectationMaximization\n",
    "from scipy.stats import random_correlation, norm, expon\n",
    "from evaluation.helpers import *\n",
    "import time"
   ]
  },
  {
   "cell_type": "code",
   "execution_count": 8,
   "metadata": {},
   "outputs": [
    {
     "name": "stdout",
     "output_type": "stream",
     "text": [
      "starting epoch: 1\n",
      "\n",
      "\n"
     ]
    },
    {
     "ename": "NameError",
     "evalue": "name 'expon' is not defined",
     "output_type": "error",
     "traceback": [
      "\u001b[0;31m---------------------------------------------------------------------------\u001b[0m",
      "\u001b[0;31mNameError\u001b[0m                                 Traceback (most recent call last)",
      "\u001b[0;32m<ipython-input-8-ba6ced9a3a35>\u001b[0m in \u001b[0;36m<module>\u001b[0;34m\u001b[0m\n\u001b[1;32m     22\u001b[0m         \u001b[0mmean\u001b[0m \u001b[0;34m=\u001b[0m \u001b[0mnp\u001b[0m\u001b[0;34m.\u001b[0m\u001b[0mzeros\u001b[0m\u001b[0;34m(\u001b[0m\u001b[0msigma\u001b[0m\u001b[0;34m.\u001b[0m\u001b[0mshape\u001b[0m\u001b[0;34m[\u001b[0m\u001b[0;36m0\u001b[0m\u001b[0;34m]\u001b[0m\u001b[0;34m)\u001b[0m\u001b[0;34m\u001b[0m\u001b[0;34m\u001b[0m\u001b[0m\n\u001b[1;32m     23\u001b[0m         \u001b[0mX\u001b[0m \u001b[0;34m=\u001b[0m \u001b[0mnp\u001b[0m\u001b[0;34m.\u001b[0m\u001b[0mrandom\u001b[0m\u001b[0;34m.\u001b[0m\u001b[0mmultivariate_normal\u001b[0m\u001b[0;34m(\u001b[0m\u001b[0mmean\u001b[0m\u001b[0;34m,\u001b[0m \u001b[0msigma\u001b[0m\u001b[0;34m,\u001b[0m \u001b[0msize\u001b[0m\u001b[0;34m=\u001b[0m\u001b[0;36m2000\u001b[0m\u001b[0;34m)\u001b[0m\u001b[0;34m\u001b[0m\u001b[0;34m\u001b[0m\u001b[0m\n\u001b[0;32m---> 24\u001b[0;31m         \u001b[0mX\u001b[0m\u001b[0;34m[\u001b[0m\u001b[0;34m:\u001b[0m\u001b[0;34m,\u001b[0m\u001b[0;34m:\u001b[0m\u001b[0;36m5\u001b[0m\u001b[0;34m]\u001b[0m \u001b[0;34m=\u001b[0m \u001b[0mexpon\u001b[0m\u001b[0;34m.\u001b[0m\u001b[0mppf\u001b[0m\u001b[0;34m(\u001b[0m\u001b[0mnorm\u001b[0m\u001b[0;34m.\u001b[0m\u001b[0mcdf\u001b[0m\u001b[0;34m(\u001b[0m\u001b[0mX\u001b[0m\u001b[0;34m[\u001b[0m\u001b[0;34m:\u001b[0m\u001b[0;34m,\u001b[0m\u001b[0;34m:\u001b[0m\u001b[0;36m5\u001b[0m\u001b[0;34m]\u001b[0m\u001b[0;34m)\u001b[0m\u001b[0;34m,\u001b[0m \u001b[0mscale\u001b[0m \u001b[0;34m=\u001b[0m \u001b[0;36m3\u001b[0m\u001b[0;34m)\u001b[0m\u001b[0;34m\u001b[0m\u001b[0;34m\u001b[0m\u001b[0m\n\u001b[0m\u001b[1;32m     25\u001b[0m         \u001b[0mX\u001b[0m\u001b[0;34m[\u001b[0m\u001b[0;34m:\u001b[0m\u001b[0;34m,\u001b[0m\u001b[0;36m5\u001b[0m\u001b[0;34m]\u001b[0m \u001b[0;34m=\u001b[0m \u001b[0mcont_to_binary\u001b[0m\u001b[0;34m(\u001b[0m\u001b[0mX\u001b[0m\u001b[0;34m[\u001b[0m\u001b[0;34m:\u001b[0m\u001b[0;34m,\u001b[0m\u001b[0;36m5\u001b[0m\u001b[0;34m]\u001b[0m\u001b[0;34m)\u001b[0m\u001b[0;34m\u001b[0m\u001b[0;34m\u001b[0m\u001b[0m\n\u001b[1;32m     26\u001b[0m         \u001b[0mX\u001b[0m\u001b[0;34m[\u001b[0m\u001b[0;34m:\u001b[0m\u001b[0;34m,\u001b[0m\u001b[0;36m6\u001b[0m\u001b[0;34m]\u001b[0m \u001b[0;34m=\u001b[0m \u001b[0mcont_to_binary\u001b[0m\u001b[0;34m(\u001b[0m\u001b[0mX\u001b[0m\u001b[0;34m[\u001b[0m\u001b[0;34m:\u001b[0m\u001b[0;34m,\u001b[0m\u001b[0;36m6\u001b[0m\u001b[0;34m]\u001b[0m\u001b[0;34m)\u001b[0m\u001b[0;34m\u001b[0m\u001b[0;34m\u001b[0m\u001b[0m\n",
      "\u001b[0;31mNameError\u001b[0m: name 'expon' is not defined"
     ]
    }
   ],
   "source": [
    "def generate_sigma():\n",
    "    W = np.random.normal(size=(15,15))\n",
    "    covariance = np.matmul(W,W.T)\n",
    "    D = np.diagonal(covariance)\n",
    "    D_neg_half = np.diag(1.0/np.sqrt(D))\n",
    "    return np.matmul(np.matmul(D_neg_half, covariance), D_neg_half)\n",
    "\n",
    "if __name__ == \"__main__\":\n",
    "    # Note: the results of this experiement vary slightly from the analagous experiment presented in Landgrebe, E., Zhao, Y., and Udell, M. Online Mixed Missing Value Imputation Using Gaussian Copula, 2020.\n",
    "    scaled_errors = []\n",
    "    smaes = []\n",
    "    rmses = []\n",
    "    NUM_STEPS = 10\n",
    "    BATCH_SIZE = 40\n",
    "    MAX_ITER = 100\n",
    "    runtimes = []\n",
    "    for i in range(1,NUM_STEPS+1):\n",
    "        np.random.seed(i)\n",
    "        print(\"starting epoch: \" + str(i))\n",
    "        print(\"\\n\")\n",
    "        sigma = generate_sigma()\n",
    "        mean = np.zeros(sigma.shape[0])\n",
    "        X = np.random.multivariate_normal(mean, sigma, size=2000)\n",
    "        X[:,:5] = expon.ppf(norm.cdf(X[:,:5]), scale = 3)\n",
    "        X[:,5] = cont_to_binary(X[:,5])\n",
    "        X[:,6] = cont_to_binary(X[:,6])\n",
    "        X[:,7] = cont_to_binary(X[:,7])\n",
    "        X[:,8] = cont_to_binary(X[:,8])\n",
    "        X[:,9] = cont_to_binary(X[:,9])\n",
    "        X[:,10] = cont_to_ord(X[:,10], k=5)\n",
    "        X[:,11] = cont_to_ord(X[:,11], k=5)\n",
    "        X[:,12] = cont_to_ord(X[:,12], k=5)\n",
    "        X[:,13] = cont_to_ord(X[:,13], k=5)\n",
    "        X[:,14] = cont_to_ord(X[:,14], k=5)\n",
    "        # mask a given % of entries\n",
    "        MASK_FRACTION = 0.3\n",
    "        X_masked, mask_indices = mask(X, MASK_FRACTION)\n",
    "        bem = BatchExpectationMaximization()\n",
    "        start_time = time.time()\n",
    "        X_imp, sigma_imp = bem.impute_missing(X_masked, max_iter=MAX_ITER, batch_size=BATCH_SIZE, max_workers=None)\n",
    "        end_time = time.time()\n",
    "        runtimes.append(end_time - start_time)\n",
    "        scaled_error = get_scaled_error(sigma_imp, sigma)\n",
    "        smae = get_smae(X_imp, X, X_masked)\n",
    "        # update error to be normalized\n",
    "        rmse = get_scaled_error(X_imp[:,:5], X[:,:5])\n",
    "        scaled_errors.append(scaled_error)\n",
    "        smaes.append(smae)\n",
    "        rmses.append(rmse)\n",
    "    print(\"mean of scaled errors is: \")\n",
    "    print(np.mean(np.array(scaled_errors)))\n",
    "    print(\"std deviation of scaled errors is: \")\n",
    "    print(np.std(np.array(scaled_errors)))\n",
    "    print(\"\\n\")\n",
    "    mean_smaes = np.mean(np.array(smaes),axis=0)\n",
    "    print(\"mean cont smaes are: \")\n",
    "    print(np.mean(mean_smaes[:5]))\n",
    "    print(\"mean bin smaes are: \")\n",
    "    print(np.mean(mean_smaes[5:10]))\n",
    "    print(\"mean ord smaes are: \")\n",
    "    print(np.mean(mean_smaes[10:]))\n",
    "    print(\"\\n\")\n",
    "    std_dev_smaes = np.std(np.array(smaes),axis=0)\n",
    "    print(\"std dev cont smaes are: \")\n",
    "    print(np.mean(std_dev_smaes[:5]))\n",
    "    print(\"std dev bin smaes are: \")\n",
    "    print(np.mean(std_dev_smaes[5:10]))\n",
    "    print(\"std dev ord smaes are: \")\n",
    "    print(np.mean(std_dev_smaes[10:]))\n",
    "    print(\"\\n\")\n",
    "    print(\"mean of rmses is: \")\n",
    "    print(np.mean(np.array(rmses),axis=0))\n",
    "    print(\"std deviation of rmses is: \")\n",
    "    print(np.std(np.array(rmses),axis=0))\n",
    "    print(\"\\n\")\n",
    "    print(\"mean time for run is: \")\n",
    "    print(np.mean(np.array(runtimes)))"
   ]
  },
  {
   "cell_type": "code",
   "execution_count": null,
   "metadata": {},
   "outputs": [],
   "source": []
  }
 ],
 "metadata": {
  "kernelspec": {
   "display_name": "Python 3",
   "language": "python",
   "name": "python3"
  },
  "language_info": {
   "codemirror_mode": {
    "name": "ipython",
    "version": 3
   },
   "file_extension": ".py",
   "mimetype": "text/x-python",
   "name": "python",
   "nbconvert_exporter": "python",
   "pygments_lexer": "ipython3",
   "version": "3.7.2"
  }
 },
 "nbformat": 4,
 "nbformat_minor": 2
}
