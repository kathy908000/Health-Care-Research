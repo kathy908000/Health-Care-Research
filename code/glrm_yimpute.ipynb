{
 "cells": [
  {
   "cell_type": "code",
   "execution_count": 1,
   "metadata": {
    "scrolled": false
   },
   "outputs": [],
   "source": [
    "using LowRankModels\n",
    "using CSV\n",
    "using DataFrames\n",
    "using Pkg\n",
    "using StatsBase\n",
    "using Random, SparseArrays"
   ]
  },
  {
   "cell_type": "code",
   "execution_count": 2,
   "metadata": {},
   "outputs": [
    {
     "data": {
      "text/plain": [
       "WeightedHingeLoss(1.0, BoolDomain(), 1.0)"
      ]
     },
     "execution_count": 2,
     "metadata": {},
     "output_type": "execute_result"
    }
   ],
   "source": [
    "HingeLoss()"
   ]
  },
  {
   "cell_type": "code",
   "execution_count": 3,
   "metadata": {
    "scrolled": true
   },
   "outputs": [
    {
     "data": {
      "text/html": [
       "<table class=\"data-frame\"><thead><tr><th></th><th>SUBJECT_ID</th><th>LOS</th><th>HOSPITALIZATION</th><th>ORDINAL_AGE</th><th>ELECTIVE</th><th>EMERGENCY</th><th>NEWBORN</th></tr><tr><th></th><th>Int64</th><th>Float64</th><th>Int64</th><th>Int64</th><th>Int64</th><th>Int64</th><th>Int64</th></tr></thead><tbody><p>10,310 rows × 921 columns (omitted printing of 914 columns)</p><tr><th>1</th><td>13</td><td>3.666</td><td>1</td><td>4</td><td>0</td><td>1</td><td>0</td></tr><tr><th>2</th><td>18</td><td>1.2885</td><td>1</td><td>6</td><td>0</td><td>1</td><td>0</td></tr><tr><th>3</th><td>20</td><td>1.0508</td><td>1</td><td>8</td><td>1</td><td>0</td><td>0</td></tr><tr><th>4</th><td>21</td><td>14.2664</td><td>2</td><td>9</td><td>0</td><td>1</td><td>0</td></tr><tr><th>5</th><td>24</td><td>0.5124</td><td>1</td><td>4</td><td>0</td><td>1</td><td>0</td></tr><tr><th>6</th><td>25</td><td>3.5466</td><td>1</td><td>6</td><td>0</td><td>1</td><td>0</td></tr><tr><th>7</th><td>28</td><td>1.1224</td><td>1</td><td>8</td><td>1</td><td>0</td><td>0</td></tr><tr><th>8</th><td>35</td><td>5.3757</td><td>1</td><td>7</td><td>1</td><td>0</td><td>0</td></tr><tr><th>9</th><td>37</td><td>1.1397</td><td>1</td><td>7</td><td>0</td><td>1</td><td>0</td></tr><tr><th>10</th><td>55</td><td>1.9138</td><td>1</td><td>7</td><td>0</td><td>1</td><td>0</td></tr><tr><th>11</th><td>59</td><td>2.2017</td><td>1</td><td>9</td><td>0</td><td>1</td><td>0</td></tr><tr><th>12</th><td>75</td><td>1.2469</td><td>1</td><td>8</td><td>1</td><td>0</td><td>0</td></tr><tr><th>13</th><td>83</td><td>2.3141</td><td>1</td><td>7</td><td>0</td><td>0</td><td>0</td></tr><tr><th>14</th><td>117</td><td>14.5181</td><td>2</td><td>5</td><td>0</td><td>1</td><td>0</td></tr><tr><th>15</th><td>123</td><td>1.4941</td><td>1</td><td>6</td><td>0</td><td>1</td><td>0</td></tr><tr><th>16</th><td>130</td><td>17.4592</td><td>2</td><td>7</td><td>0</td><td>1</td><td>0</td></tr><tr><th>17</th><td>135</td><td>1.346</td><td>2</td><td>6</td><td>1</td><td>1</td><td>0</td></tr><tr><th>18</th><td>137</td><td>5.1326</td><td>1</td><td>8</td><td>0</td><td>1</td><td>0</td></tr><tr><th>19</th><td>141</td><td>3.4765</td><td>1</td><td>9</td><td>0</td><td>1</td><td>0</td></tr><tr><th>20</th><td>157</td><td>6.1813</td><td>2</td><td>9</td><td>0</td><td>1</td><td>0</td></tr><tr><th>21</th><td>173</td><td>1.3722</td><td>1</td><td>7</td><td>1</td><td>0</td><td>0</td></tr><tr><th>22</th><td>184</td><td>5.0941</td><td>2</td><td>6</td><td>0</td><td>1</td><td>0</td></tr><tr><th>23</th><td>186</td><td>3.7078</td><td>1</td><td>8</td><td>0</td><td>1</td><td>0</td></tr><tr><th>24</th><td>188</td><td>26.919</td><td>7</td><td>6</td><td>0</td><td>1</td><td>0</td></tr><tr><th>25</th><td>191</td><td>10.1558</td><td>2</td><td>8</td><td>0</td><td>1</td><td>0</td></tr><tr><th>26</th><td>192</td><td>1.084</td><td>1</td><td>7</td><td>1</td><td>0</td><td>0</td></tr><tr><th>27</th><td>199</td><td>7.1739</td><td>2</td><td>5</td><td>0</td><td>1</td><td>0</td></tr><tr><th>28</th><td>205</td><td>2.9076</td><td>1</td><td>8</td><td>0</td><td>0</td><td>0</td></tr><tr><th>29</th><td>209</td><td>8.3211</td><td>2</td><td>8</td><td>0</td><td>1</td><td>0</td></tr><tr><th>30</th><td>210</td><td>1.0253</td><td>1</td><td>6</td><td>0</td><td>1</td><td>0</td></tr><tr><th>&vellip;</th><td>&vellip;</td><td>&vellip;</td><td>&vellip;</td><td>&vellip;</td><td>&vellip;</td><td>&vellip;</td><td>&vellip;</td></tr></tbody></table>"
      ],
      "text/latex": [
       "\\begin{tabular}{r|cccccccc}\n",
       "\t& SUBJECT\\_ID & LOS & HOSPITALIZATION & ORDINAL\\_AGE & ELECTIVE & EMERGENCY & NEWBORN & \\\\\n",
       "\t\\hline\n",
       "\t& Int64 & Float64 & Int64 & Int64 & Int64 & Int64 & Int64 & \\\\\n",
       "\t\\hline\n",
       "\t1 & 13 & 3.666 & 1 & 4 & 0 & 1 & 0 & $\\dots$ \\\\\n",
       "\t2 & 18 & 1.2885 & 1 & 6 & 0 & 1 & 0 & $\\dots$ \\\\\n",
       "\t3 & 20 & 1.0508 & 1 & 8 & 1 & 0 & 0 & $\\dots$ \\\\\n",
       "\t4 & 21 & 14.2664 & 2 & 9 & 0 & 1 & 0 & $\\dots$ \\\\\n",
       "\t5 & 24 & 0.5124 & 1 & 4 & 0 & 1 & 0 & $\\dots$ \\\\\n",
       "\t6 & 25 & 3.5466 & 1 & 6 & 0 & 1 & 0 & $\\dots$ \\\\\n",
       "\t7 & 28 & 1.1224 & 1 & 8 & 1 & 0 & 0 & $\\dots$ \\\\\n",
       "\t8 & 35 & 5.3757 & 1 & 7 & 1 & 0 & 0 & $\\dots$ \\\\\n",
       "\t9 & 37 & 1.1397 & 1 & 7 & 0 & 1 & 0 & $\\dots$ \\\\\n",
       "\t10 & 55 & 1.9138 & 1 & 7 & 0 & 1 & 0 & $\\dots$ \\\\\n",
       "\t11 & 59 & 2.2017 & 1 & 9 & 0 & 1 & 0 & $\\dots$ \\\\\n",
       "\t12 & 75 & 1.2469 & 1 & 8 & 1 & 0 & 0 & $\\dots$ \\\\\n",
       "\t13 & 83 & 2.3141 & 1 & 7 & 0 & 0 & 0 & $\\dots$ \\\\\n",
       "\t14 & 117 & 14.5181 & 2 & 5 & 0 & 1 & 0 & $\\dots$ \\\\\n",
       "\t15 & 123 & 1.4941 & 1 & 6 & 0 & 1 & 0 & $\\dots$ \\\\\n",
       "\t16 & 130 & 17.4592 & 2 & 7 & 0 & 1 & 0 & $\\dots$ \\\\\n",
       "\t17 & 135 & 1.346 & 2 & 6 & 1 & 1 & 0 & $\\dots$ \\\\\n",
       "\t18 & 137 & 5.1326 & 1 & 8 & 0 & 1 & 0 & $\\dots$ \\\\\n",
       "\t19 & 141 & 3.4765 & 1 & 9 & 0 & 1 & 0 & $\\dots$ \\\\\n",
       "\t20 & 157 & 6.1813 & 2 & 9 & 0 & 1 & 0 & $\\dots$ \\\\\n",
       "\t21 & 173 & 1.3722 & 1 & 7 & 1 & 0 & 0 & $\\dots$ \\\\\n",
       "\t22 & 184 & 5.0941 & 2 & 6 & 0 & 1 & 0 & $\\dots$ \\\\\n",
       "\t23 & 186 & 3.7078 & 1 & 8 & 0 & 1 & 0 & $\\dots$ \\\\\n",
       "\t24 & 188 & 26.919 & 7 & 6 & 0 & 1 & 0 & $\\dots$ \\\\\n",
       "\t25 & 191 & 10.1558 & 2 & 8 & 0 & 1 & 0 & $\\dots$ \\\\\n",
       "\t26 & 192 & 1.084 & 1 & 7 & 1 & 0 & 0 & $\\dots$ \\\\\n",
       "\t27 & 199 & 7.1739 & 2 & 5 & 0 & 1 & 0 & $\\dots$ \\\\\n",
       "\t28 & 205 & 2.9076 & 1 & 8 & 0 & 0 & 0 & $\\dots$ \\\\\n",
       "\t29 & 209 & 8.3211 & 2 & 8 & 0 & 1 & 0 & $\\dots$ \\\\\n",
       "\t30 & 210 & 1.0253 & 1 & 6 & 0 & 1 & 0 & $\\dots$ \\\\\n",
       "\t$\\dots$ & $\\dots$ & $\\dots$ & $\\dots$ & $\\dots$ & $\\dots$ & $\\dots$ & $\\dots$ &  \\\\\n",
       "\\end{tabular}\n"
      ],
      "text/plain": [
       "10310×921 DataFrame. Omitted printing of 916 columns\n",
       "│ Row   │ SUBJECT_ID │ LOS     │ HOSPITALIZATION │ ORDINAL_AGE │ ELECTIVE │\n",
       "│       │ \u001b[90mInt64\u001b[39m      │ \u001b[90mFloat64\u001b[39m │ \u001b[90mInt64\u001b[39m           │ \u001b[90mInt64\u001b[39m       │ \u001b[90mInt64\u001b[39m    │\n",
       "├───────┼────────────┼─────────┼─────────────────┼─────────────┼──────────┤\n",
       "│ 1     │ 13         │ 3.666   │ 1               │ 4           │ 0        │\n",
       "│ 2     │ 18         │ 1.2885  │ 1               │ 6           │ 0        │\n",
       "│ 3     │ 20         │ 1.0508  │ 1               │ 8           │ 1        │\n",
       "│ 4     │ 21         │ 14.2664 │ 2               │ 9           │ 0        │\n",
       "│ 5     │ 24         │ 0.5124  │ 1               │ 4           │ 0        │\n",
       "│ 6     │ 25         │ 3.5466  │ 1               │ 6           │ 0        │\n",
       "│ 7     │ 28         │ 1.1224  │ 1               │ 8           │ 1        │\n",
       "│ 8     │ 35         │ 5.3757  │ 1               │ 7           │ 1        │\n",
       "│ 9     │ 37         │ 1.1397  │ 1               │ 7           │ 0        │\n",
       "│ 10    │ 55         │ 1.9138  │ 1               │ 7           │ 0        │\n",
       "⋮\n",
       "│ 10300 │ 99899      │ 9.1439  │ 1               │ 9           │ 0        │\n",
       "│ 10301 │ 99901      │ 6.1242  │ 1               │ 7           │ 0        │\n",
       "│ 10302 │ 99903      │ 1.0388  │ 1               │ 6           │ 0        │\n",
       "│ 10303 │ 99913      │ 3.1669  │ 1               │ 8           │ 0        │\n",
       "│ 10304 │ 99928      │ 0.9902  │ 1               │ 3           │ 0        │\n",
       "│ 10305 │ 99938      │ 7.2813  │ 1               │ 9           │ 0        │\n",
       "│ 10306 │ 99955      │ 5.6719  │ 1               │ 7           │ 0        │\n",
       "│ 10307 │ 99957      │ 2.8684  │ 1               │ 7           │ 0        │\n",
       "│ 10308 │ 99991      │ 3.1426  │ 1               │ 5           │ 1        │\n",
       "│ 10309 │ 99995      │ 2.1615  │ 1               │ 9           │ 1        │\n",
       "│ 10310 │ 99999      │ 1.1242  │ 1               │ 7           │ 1        │"
      ]
     },
     "execution_count": 3,
     "metadata": {},
     "output_type": "execute_result"
    }
   ],
   "source": [
    "df3 = CSV.read(\"/Users/kathy908000/github/health-care-research/data/Diabetes_Numerical.csv\")\n",
    "df3\n",
    "#first 3 col numerical\n",
    "#other col boolean"
   ]
  },
  {
   "cell_type": "code",
   "execution_count": 8,
   "metadata": {
    "scrolled": false
   },
   "outputs": [
    {
     "data": {
      "text/html": [
       "<table class=\"data-frame\"><thead><tr><th></th><th>LOS</th><th>HOSPITALIZATION</th><th>ORDINAL_AGE</th><th>ELECTIVE</th><th>EMERGENCY</th><th>NEWBORN</th><th>URGENT</th><th>Government</th></tr><tr><th></th><th>Float64</th><th>Int64</th><th>Int64</th><th>Int64</th><th>Int64</th><th>Int64</th><th>Int64</th><th>Int64</th></tr></thead><tbody><p>10,310 rows × 920 columns (omitted printing of 912 columns)</p><tr><th>1</th><td>3.666</td><td>1</td><td>4</td><td>0</td><td>1</td><td>0</td><td>0</td><td>0</td></tr><tr><th>2</th><td>1.2885</td><td>1</td><td>6</td><td>0</td><td>1</td><td>0</td><td>0</td><td>0</td></tr><tr><th>3</th><td>1.0508</td><td>1</td><td>8</td><td>1</td><td>0</td><td>0</td><td>0</td><td>0</td></tr><tr><th>4</th><td>14.2664</td><td>2</td><td>9</td><td>0</td><td>1</td><td>0</td><td>0</td><td>0</td></tr><tr><th>5</th><td>0.5124</td><td>1</td><td>4</td><td>0</td><td>1</td><td>0</td><td>0</td><td>0</td></tr><tr><th>6</th><td>3.5466</td><td>1</td><td>6</td><td>0</td><td>1</td><td>0</td><td>0</td><td>0</td></tr><tr><th>7</th><td>1.1224</td><td>1</td><td>8</td><td>1</td><td>0</td><td>0</td><td>0</td><td>0</td></tr><tr><th>8</th><td>5.3757</td><td>1</td><td>7</td><td>1</td><td>0</td><td>0</td><td>0</td><td>0</td></tr><tr><th>9</th><td>1.1397</td><td>1</td><td>7</td><td>0</td><td>1</td><td>0</td><td>0</td><td>0</td></tr><tr><th>10</th><td>1.9138</td><td>1</td><td>7</td><td>0</td><td>1</td><td>0</td><td>0</td><td>0</td></tr><tr><th>11</th><td>2.2017</td><td>1</td><td>9</td><td>0</td><td>1</td><td>0</td><td>0</td><td>0</td></tr><tr><th>12</th><td>1.2469</td><td>1</td><td>8</td><td>1</td><td>0</td><td>0</td><td>0</td><td>0</td></tr><tr><th>13</th><td>2.3141</td><td>1</td><td>7</td><td>0</td><td>0</td><td>0</td><td>1</td><td>0</td></tr><tr><th>14</th><td>14.5181</td><td>2</td><td>5</td><td>0</td><td>1</td><td>0</td><td>0</td><td>0</td></tr><tr><th>15</th><td>1.4941</td><td>1</td><td>6</td><td>0</td><td>1</td><td>0</td><td>0</td><td>1</td></tr><tr><th>16</th><td>17.4592</td><td>2</td><td>7</td><td>0</td><td>1</td><td>0</td><td>0</td><td>0</td></tr><tr><th>17</th><td>1.346</td><td>2</td><td>6</td><td>1</td><td>1</td><td>0</td><td>0</td><td>0</td></tr><tr><th>18</th><td>5.1326</td><td>1</td><td>8</td><td>0</td><td>1</td><td>0</td><td>0</td><td>0</td></tr><tr><th>19</th><td>3.4765</td><td>1</td><td>9</td><td>0</td><td>1</td><td>0</td><td>0</td><td>0</td></tr><tr><th>20</th><td>6.1813</td><td>2</td><td>9</td><td>0</td><td>1</td><td>0</td><td>0</td><td>0</td></tr><tr><th>21</th><td>1.3722</td><td>1</td><td>7</td><td>1</td><td>0</td><td>0</td><td>0</td><td>0</td></tr><tr><th>22</th><td>5.0941</td><td>2</td><td>6</td><td>0</td><td>1</td><td>0</td><td>0</td><td>0</td></tr><tr><th>23</th><td>3.7078</td><td>1</td><td>8</td><td>0</td><td>1</td><td>0</td><td>0</td><td>0</td></tr><tr><th>24</th><td>26.919</td><td>7</td><td>6</td><td>0</td><td>1</td><td>0</td><td>0</td><td>0</td></tr><tr><th>25</th><td>10.1558</td><td>2</td><td>8</td><td>0</td><td>1</td><td>0</td><td>0</td><td>0</td></tr><tr><th>26</th><td>1.084</td><td>1</td><td>7</td><td>1</td><td>0</td><td>0</td><td>0</td><td>0</td></tr><tr><th>27</th><td>7.1739</td><td>2</td><td>5</td><td>0</td><td>1</td><td>0</td><td>1</td><td>1</td></tr><tr><th>28</th><td>2.9076</td><td>1</td><td>8</td><td>0</td><td>0</td><td>0</td><td>1</td><td>0</td></tr><tr><th>29</th><td>8.3211</td><td>2</td><td>8</td><td>0</td><td>1</td><td>0</td><td>0</td><td>0</td></tr><tr><th>30</th><td>1.0253</td><td>1</td><td>6</td><td>0</td><td>1</td><td>0</td><td>0</td><td>0</td></tr><tr><th>&vellip;</th><td>&vellip;</td><td>&vellip;</td><td>&vellip;</td><td>&vellip;</td><td>&vellip;</td><td>&vellip;</td><td>&vellip;</td><td>&vellip;</td></tr></tbody></table>"
      ],
      "text/latex": [
       "\\begin{tabular}{r|ccccccccc}\n",
       "\t& LOS & HOSPITALIZATION & ORDINAL\\_AGE & ELECTIVE & EMERGENCY & NEWBORN & URGENT & Government & \\\\\n",
       "\t\\hline\n",
       "\t& Float64 & Int64 & Int64 & Int64 & Int64 & Int64 & Int64 & Int64 & \\\\\n",
       "\t\\hline\n",
       "\t1 & 3.666 & 1 & 4 & 0 & 1 & 0 & 0 & 0 & $\\dots$ \\\\\n",
       "\t2 & 1.2885 & 1 & 6 & 0 & 1 & 0 & 0 & 0 & $\\dots$ \\\\\n",
       "\t3 & 1.0508 & 1 & 8 & 1 & 0 & 0 & 0 & 0 & $\\dots$ \\\\\n",
       "\t4 & 14.2664 & 2 & 9 & 0 & 1 & 0 & 0 & 0 & $\\dots$ \\\\\n",
       "\t5 & 0.5124 & 1 & 4 & 0 & 1 & 0 & 0 & 0 & $\\dots$ \\\\\n",
       "\t6 & 3.5466 & 1 & 6 & 0 & 1 & 0 & 0 & 0 & $\\dots$ \\\\\n",
       "\t7 & 1.1224 & 1 & 8 & 1 & 0 & 0 & 0 & 0 & $\\dots$ \\\\\n",
       "\t8 & 5.3757 & 1 & 7 & 1 & 0 & 0 & 0 & 0 & $\\dots$ \\\\\n",
       "\t9 & 1.1397 & 1 & 7 & 0 & 1 & 0 & 0 & 0 & $\\dots$ \\\\\n",
       "\t10 & 1.9138 & 1 & 7 & 0 & 1 & 0 & 0 & 0 & $\\dots$ \\\\\n",
       "\t11 & 2.2017 & 1 & 9 & 0 & 1 & 0 & 0 & 0 & $\\dots$ \\\\\n",
       "\t12 & 1.2469 & 1 & 8 & 1 & 0 & 0 & 0 & 0 & $\\dots$ \\\\\n",
       "\t13 & 2.3141 & 1 & 7 & 0 & 0 & 0 & 1 & 0 & $\\dots$ \\\\\n",
       "\t14 & 14.5181 & 2 & 5 & 0 & 1 & 0 & 0 & 0 & $\\dots$ \\\\\n",
       "\t15 & 1.4941 & 1 & 6 & 0 & 1 & 0 & 0 & 1 & $\\dots$ \\\\\n",
       "\t16 & 17.4592 & 2 & 7 & 0 & 1 & 0 & 0 & 0 & $\\dots$ \\\\\n",
       "\t17 & 1.346 & 2 & 6 & 1 & 1 & 0 & 0 & 0 & $\\dots$ \\\\\n",
       "\t18 & 5.1326 & 1 & 8 & 0 & 1 & 0 & 0 & 0 & $\\dots$ \\\\\n",
       "\t19 & 3.4765 & 1 & 9 & 0 & 1 & 0 & 0 & 0 & $\\dots$ \\\\\n",
       "\t20 & 6.1813 & 2 & 9 & 0 & 1 & 0 & 0 & 0 & $\\dots$ \\\\\n",
       "\t21 & 1.3722 & 1 & 7 & 1 & 0 & 0 & 0 & 0 & $\\dots$ \\\\\n",
       "\t22 & 5.0941 & 2 & 6 & 0 & 1 & 0 & 0 & 0 & $\\dots$ \\\\\n",
       "\t23 & 3.7078 & 1 & 8 & 0 & 1 & 0 & 0 & 0 & $\\dots$ \\\\\n",
       "\t24 & 26.919 & 7 & 6 & 0 & 1 & 0 & 0 & 0 & $\\dots$ \\\\\n",
       "\t25 & 10.1558 & 2 & 8 & 0 & 1 & 0 & 0 & 0 & $\\dots$ \\\\\n",
       "\t26 & 1.084 & 1 & 7 & 1 & 0 & 0 & 0 & 0 & $\\dots$ \\\\\n",
       "\t27 & 7.1739 & 2 & 5 & 0 & 1 & 0 & 1 & 1 & $\\dots$ \\\\\n",
       "\t28 & 2.9076 & 1 & 8 & 0 & 0 & 0 & 1 & 0 & $\\dots$ \\\\\n",
       "\t29 & 8.3211 & 2 & 8 & 0 & 1 & 0 & 0 & 0 & $\\dots$ \\\\\n",
       "\t30 & 1.0253 & 1 & 6 & 0 & 1 & 0 & 0 & 0 & $\\dots$ \\\\\n",
       "\t$\\dots$ & $\\dots$ & $\\dots$ & $\\dots$ & $\\dots$ & $\\dots$ & $\\dots$ & $\\dots$ & $\\dots$ &  \\\\\n",
       "\\end{tabular}\n"
      ],
      "text/plain": [
       "10310×920 DataFrame. Omitted printing of 915 columns\n",
       "│ Row   │ LOS     │ HOSPITALIZATION │ ORDINAL_AGE │ ELECTIVE │ EMERGENCY │\n",
       "│       │ \u001b[90mFloat64\u001b[39m │ \u001b[90mInt64\u001b[39m           │ \u001b[90mInt64\u001b[39m       │ \u001b[90mInt64\u001b[39m    │ \u001b[90mInt64\u001b[39m     │\n",
       "├───────┼─────────┼─────────────────┼─────────────┼──────────┼───────────┤\n",
       "│ 1     │ 3.666   │ 1               │ 4           │ 0        │ 1         │\n",
       "│ 2     │ 1.2885  │ 1               │ 6           │ 0        │ 1         │\n",
       "│ 3     │ 1.0508  │ 1               │ 8           │ 1        │ 0         │\n",
       "│ 4     │ 14.2664 │ 2               │ 9           │ 0        │ 1         │\n",
       "│ 5     │ 0.5124  │ 1               │ 4           │ 0        │ 1         │\n",
       "│ 6     │ 3.5466  │ 1               │ 6           │ 0        │ 1         │\n",
       "│ 7     │ 1.1224  │ 1               │ 8           │ 1        │ 0         │\n",
       "│ 8     │ 5.3757  │ 1               │ 7           │ 1        │ 0         │\n",
       "│ 9     │ 1.1397  │ 1               │ 7           │ 0        │ 1         │\n",
       "│ 10    │ 1.9138  │ 1               │ 7           │ 0        │ 1         │\n",
       "⋮\n",
       "│ 10300 │ 9.1439  │ 1               │ 9           │ 0        │ 1         │\n",
       "│ 10301 │ 6.1242  │ 1               │ 7           │ 0        │ 1         │\n",
       "│ 10302 │ 1.0388  │ 1               │ 6           │ 0        │ 1         │\n",
       "│ 10303 │ 3.1669  │ 1               │ 8           │ 0        │ 1         │\n",
       "│ 10304 │ 0.9902  │ 1               │ 3           │ 0        │ 1         │\n",
       "│ 10305 │ 7.2813  │ 1               │ 9           │ 0        │ 1         │\n",
       "│ 10306 │ 5.6719  │ 1               │ 7           │ 0        │ 1         │\n",
       "│ 10307 │ 2.8684  │ 1               │ 7           │ 0        │ 0         │\n",
       "│ 10308 │ 3.1426  │ 1               │ 5           │ 1        │ 0         │\n",
       "│ 10309 │ 2.1615  │ 1               │ 9           │ 1        │ 0         │\n",
       "│ 10310 │ 1.1242  │ 1               │ 7           │ 1        │ 0         │"
      ]
     },
     "execution_count": 8,
     "metadata": {},
     "output_type": "execute_result"
    }
   ],
   "source": [
    "#drop columns\n",
    "#df3 = select!(df3, Not(:Column1))\n",
    "df3 = select!(df3, Not(:SUBJECT_ID )) \n",
    "df3"
   ]
  },
  {
   "cell_type": "code",
   "execution_count": 20,
   "metadata": {},
   "outputs": [],
   "source": [
    "#k=6"
   ]
  },
  {
   "cell_type": "code",
   "execution_count": 11,
   "metadata": {},
   "outputs": [
    {
     "data": {
      "text/plain": [
       "920-element Array{Loss,1}:\n",
       " HuberLoss(1.0, RealDomain(), 1.0)\n",
       " HuberLoss(1.0, RealDomain(), 1.0)\n",
       " OrdinalHingeLoss(1, 10, 1.0, OrdinalDomain(1, 10))\n",
       " WeightedHingeLoss(1.0, BoolDomain(), 1.0)\n",
       " WeightedHingeLoss(1.0, BoolDomain(), 1.0)\n",
       " WeightedHingeLoss(1.0, BoolDomain(), 1.0)\n",
       " WeightedHingeLoss(1.0, BoolDomain(), 1.0)\n",
       " WeightedHingeLoss(1.0, BoolDomain(), 1.0)\n",
       " WeightedHingeLoss(1.0, BoolDomain(), 1.0)\n",
       " WeightedHingeLoss(1.0, BoolDomain(), 1.0)\n",
       " WeightedHingeLoss(1.0, BoolDomain(), 1.0)\n",
       " WeightedHingeLoss(1.0, BoolDomain(), 1.0)\n",
       " WeightedHingeLoss(1.0, BoolDomain(), 1.0)\n",
       " ⋮\n",
       " WeightedHingeLoss(1.0, BoolDomain(), 1.0)\n",
       " WeightedHingeLoss(1.0, BoolDomain(), 1.0)\n",
       " WeightedHingeLoss(1.0, BoolDomain(), 1.0)\n",
       " WeightedHingeLoss(1.0, BoolDomain(), 1.0)\n",
       " WeightedHingeLoss(1.0, BoolDomain(), 1.0)\n",
       " WeightedHingeLoss(1.0, BoolDomain(), 1.0)\n",
       " WeightedHingeLoss(1.0, BoolDomain(), 1.0)\n",
       " WeightedHingeLoss(1.0, BoolDomain(), 1.0)\n",
       " WeightedHingeLoss(1.0, BoolDomain(), 1.0)\n",
       " WeightedHingeLoss(1.0, BoolDomain(), 1.0)\n",
       " WeightedHingeLoss(1.0, BoolDomain(), 1.0)\n",
       " WeightedHingeLoss(1.0, BoolDomain(), 1.0)"
      ]
     },
     "execution_count": 11,
     "metadata": {},
     "output_type": "execute_result"
    }
   ],
   "source": [
    "loss1 = fill(HuberLoss(),2)\n",
    "loss2 = fill(HingeLoss(), 917)\n",
    "loss3 = fill(OrdinalHingeLoss(), 1)\n",
    "losses = [loss1; loss3; loss2]\n",
    "losses"
   ]
  },
  {
   "cell_type": "code",
   "execution_count": 12,
   "metadata": {},
   "outputs": [
    {
     "name": "stdout",
     "output_type": "stream",
     "text": [
      "Fitting GLRM\n",
      "Iteration 10: objective value = 1.2358809590389237e6\n",
      "Iteration 20: objective value = 467863.6837298325\n",
      "Iteration 30: objective value = 460131.0032340185\n",
      "Iteration 40: objective value = 458166.17883389874\n"
     ]
    },
    {
     "data": {
      "text/plain": [
       "([0.0 0.0 … 0.0 0.0; 0.0 0.0 … 0.0 0.0; … ; 0.0 1.0 … 1.0 1.0; 0.0 0.0 … 0.0 0.0], [3.0341833701471033 1.26773761141311 … -1.1523364782875667 -1.1304504458498537; 2.96400576529314 1.2663371979590115 … -1.2074235485901295 -1.1766318805564684; … ; 3.057614574974197 1.2328879585477708 … -1.072302064836926 -1.042230979797023; 3.2224287177686866 1.3234592433833166 … -1.0428207080928356 -1.0999365306313769], ConvergenceHistory(\"ProxGradGLRM\", [Inf, 9.45741176845789e6, 8.188791081082007e6, 6.963971326735926e6, 5.801918714053964e6, 4.721280265183693e6, 3.7382619554868536e6, 2.8949541317370883e6, 2.203161101773608e6, 1.6554570768934921e6  …  459451.1557345492, 459246.0739777007, 459044.06078413624, 458883.7866358956, 458690.7826032172, 458549.52579626086, 458449.87060531304, 458325.4149884006, 458166.17883389874, 458079.99813387636], Float64[], [0.0, 0.0, 0.0, 0.0, 0.0, 0.0, 0.0, 0.0, 0.0, 0.0  …  0.0, 0.0, 0.0, 0.0, 0.0, 0.0, 0.0, 0.0, 0.0, 0.0], [0.0, 0.0, 0.0, 0.0, 0.0, 0.0, 0.0, 0.0, 0.0, 0.0  …  0.0, 0.0, 0.0, 0.0, 0.0, 0.0, 0.0, 0.0, 0.0, 0.0], [0.0, 14.300639867782593, 55.61220979690552, 67.13360476493835, 78.74707889556885, 90.76497292518616, 103.03918290138245, 116.16771173477173, 128.38973569869995, 140.1252167224884  …  431.9639849662781, 444.39462089538574, 456.9446668624878, 470.00043988227844, 482.9444100856781, 495.5984470844269, 508.75897002220154, 519.9409260749817, 530.7270019054413, 541.8108270168304], [0.0, 0.0, 0.0, 0.0, 0.0, 0.0, 0.0, 0.0, 0.0, 0.0  …  0.0, 0.0, 0.0, 0.0, 0.0, 0.0, 0.0, 0.0, 0.0, 0.0], 0))"
      ]
     },
     "execution_count": 12,
     "metadata": {},
     "output_type": "execute_result"
    }
   ],
   "source": [
    "k = 6\n",
    "A= df3\n",
    "rx = UnitOneSparseConstraint()\n",
    "ry = ZeroReg()\n",
    "glrm16 = GLRM(A,losses,rx,ry,k)\n",
    "X16,Y16,ch16 = fit!(glrm16)"
   ]
  },
  {
   "cell_type": "code",
   "execution_count": 13,
   "metadata": {
    "scrolled": true
   },
   "outputs": [
    {
     "data": {
      "text/plain": [
       "6×920 Array{Float64,2}:\n",
       " 3.03418  1.26774  7.0001   -1.00011  …  -1.0959   -1.15234  -1.13045\n",
       " 2.96401  1.26634  7.02226  -1.00017     -1.0      -1.20742  -1.17663\n",
       " 2.95308  1.28353  6.99977  -1.00118     -1.16977  -1.05262  -1.10441\n",
       " 2.95152  1.32192  7.00331  -1.00001     -1.21888  -1.00229  -1.19015\n",
       " 3.05761  1.23289  7.00145  -1.00057     -1.12334  -1.0723   -1.04223\n",
       " 3.22243  1.32346  7.00224  -1.00021  …  -2.3115   -1.04282  -1.09994"
      ]
     },
     "execution_count": 13,
     "metadata": {},
     "output_type": "execute_result"
    }
   ],
   "source": [
    "Y16"
   ]
  },
  {
   "cell_type": "code",
   "execution_count": 14,
   "metadata": {},
   "outputs": [
    {
     "data": {
      "text/html": [
       "<table class=\"data-frame\"><thead><tr><th></th><th>x1</th><th>x2</th><th>x3</th><th>x4</th><th>x5</th><th>x6</th><th>x7</th><th>x8</th><th>x9</th><th>x10</th><th>x11</th><th>x12</th><th>x13</th></tr><tr><th></th><th>Float64</th><th>Float64</th><th>Int64</th><th>Bool</th><th>Bool</th><th>Bool</th><th>Bool</th><th>Bool</th><th>Bool</th><th>Bool</th><th>Bool</th><th>Bool</th><th>Bool</th></tr></thead><tbody><p>6 rows × 920 columns (omitted printing of 907 columns)</p><tr><th>1</th><td>3.03418</td><td>1.26774</td><td>7</td><td>0</td><td>1</td><td>0</td><td>0</td><td>0</td><td>0</td><td>1</td><td>0</td><td>0</td><td>0</td></tr><tr><th>2</th><td>2.96401</td><td>1.26634</td><td>7</td><td>0</td><td>1</td><td>0</td><td>0</td><td>0</td><td>0</td><td>1</td><td>0</td><td>0</td><td>0</td></tr><tr><th>3</th><td>2.95308</td><td>1.28353</td><td>7</td><td>0</td><td>1</td><td>0</td><td>0</td><td>0</td><td>0</td><td>1</td><td>0</td><td>0</td><td>0</td></tr><tr><th>4</th><td>2.95152</td><td>1.32192</td><td>7</td><td>0</td><td>1</td><td>0</td><td>0</td><td>0</td><td>0</td><td>1</td><td>0</td><td>0</td><td>0</td></tr><tr><th>5</th><td>3.05761</td><td>1.23289</td><td>7</td><td>0</td><td>1</td><td>0</td><td>0</td><td>0</td><td>0</td><td>1</td><td>0</td><td>0</td><td>0</td></tr><tr><th>6</th><td>3.22243</td><td>1.32346</td><td>7</td><td>0</td><td>1</td><td>0</td><td>0</td><td>0</td><td>0</td><td>1</td><td>0</td><td>0</td><td>0</td></tr></tbody></table>"
      ],
      "text/latex": [
       "\\begin{tabular}{r|cccccccccccccc}\n",
       "\t& x1 & x2 & x3 & x4 & x5 & x6 & x7 & x8 & x9 & x10 & x11 & x12 & x13 & \\\\\n",
       "\t\\hline\n",
       "\t& Float64 & Float64 & Int64 & Bool & Bool & Bool & Bool & Bool & Bool & Bool & Bool & Bool & Bool & \\\\\n",
       "\t\\hline\n",
       "\t1 & 3.03418 & 1.26774 & 7 & 0 & 1 & 0 & 0 & 0 & 0 & 1 & 0 & 0 & 0 & $\\dots$ \\\\\n",
       "\t2 & 2.96401 & 1.26634 & 7 & 0 & 1 & 0 & 0 & 0 & 0 & 1 & 0 & 0 & 0 & $\\dots$ \\\\\n",
       "\t3 & 2.95308 & 1.28353 & 7 & 0 & 1 & 0 & 0 & 0 & 0 & 1 & 0 & 0 & 0 & $\\dots$ \\\\\n",
       "\t4 & 2.95152 & 1.32192 & 7 & 0 & 1 & 0 & 0 & 0 & 0 & 1 & 0 & 0 & 0 & $\\dots$ \\\\\n",
       "\t5 & 3.05761 & 1.23289 & 7 & 0 & 1 & 0 & 0 & 0 & 0 & 1 & 0 & 0 & 0 & $\\dots$ \\\\\n",
       "\t6 & 3.22243 & 1.32346 & 7 & 0 & 1 & 0 & 0 & 0 & 0 & 1 & 0 & 0 & 0 & $\\dots$ \\\\\n",
       "\\end{tabular}\n"
      ],
      "text/plain": [
       "6×920 DataFrame. Omitted printing of 911 columns\n",
       "│ Row │ x1      │ x2      │ x3    │ x4   │ x5   │ x6   │ x7   │ x8   │ x9   │\n",
       "│     │ \u001b[90mFloat64\u001b[39m │ \u001b[90mFloat64\u001b[39m │ \u001b[90mInt64\u001b[39m │ \u001b[90mBool\u001b[39m │ \u001b[90mBool\u001b[39m │ \u001b[90mBool\u001b[39m │ \u001b[90mBool\u001b[39m │ \u001b[90mBool\u001b[39m │ \u001b[90mBool\u001b[39m │\n",
       "├─────┼─────────┼─────────┼───────┼──────┼──────┼──────┼──────┼──────┼──────┤\n",
       "│ 1   │ 3.03418 │ 1.26774 │ 7     │ 0    │ 1    │ 0    │ 0    │ 0    │ 0    │\n",
       "│ 2   │ 2.96401 │ 1.26634 │ 7     │ 0    │ 1    │ 0    │ 0    │ 0    │ 0    │\n",
       "│ 3   │ 2.95308 │ 1.28353 │ 7     │ 0    │ 1    │ 0    │ 0    │ 0    │ 0    │\n",
       "│ 4   │ 2.95152 │ 1.32192 │ 7     │ 0    │ 1    │ 0    │ 0    │ 0    │ 0    │\n",
       "│ 5   │ 3.05761 │ 1.23289 │ 7     │ 0    │ 1    │ 0    │ 0    │ 0    │ 0    │\n",
       "│ 6   │ 3.22243 │ 1.32346 │ 7     │ 0    │ 1    │ 0    │ 0    │ 0    │ 0    │"
      ]
     },
     "execution_count": 14,
     "metadata": {},
     "output_type": "execute_result"
    }
   ],
   "source": [
    "imputey6 = impute(losses, Y16) \n",
    "imputey6d  = convert(DataFrame, imputey6) \n",
    "CSV.write(\"/Users/kathy908000/github/health-care-research/data/iy6.csv\",  imputey6d)\n",
    "CSV.read(\"/Users/kathy908000/github/health-care-research/data/iy6.csv\")"
   ]
  },
  {
   "cell_type": "code",
   "execution_count": 24,
   "metadata": {},
   "outputs": [
    {
     "name": "stdout",
     "output_type": "stream",
     "text": [
      "Computing cross validation error for each fold\n",
      "flattening observations\n",
      "computing CV folds\n",
      "\n",
      "forming train and test GLRM for fold 1\n",
      "training model on 4741735 samples and testing on 4743465\n",
      "fitting train GLRM for fold 1\n",
      "Fitting GLRM\n",
      "Iteration 10: objective value = 228479.22564116726\n",
      "computing train and test error for fold 1:\n",
      "\ttrain error: 0.048181994985229216\n",
      "\ttest error:  0.047844071938552835\n",
      "\n",
      "forming train and test GLRM for fold 2\n",
      "training model on 4743465 samples and testing on 4741735\n",
      "fitting train GLRM for fold 2\n",
      "Fitting GLRM\n",
      "Iteration 10: objective value = 226939.5290506657\n",
      "computing train and test error for fold 2:\n",
      "\ttrain error: 0.047839298777992895\n",
      "\ttest error:  0.048187109942916286\n"
     ]
    },
    {
     "data": {
      "text/html": [
       "<table class=\"data-frame\"><thead><tr><th></th><th>train_error</th><th>test_error</th></tr><tr><th></th><th>Float64</th><th>Float64</th></tr></thead><tbody><p>2 rows × 2 columns</p><tr><th>1</th><td>0.048182</td><td>0.0478441</td></tr><tr><th>2</th><td>0.0478393</td><td>0.0481871</td></tr></tbody></table>"
      ],
      "text/latex": [
       "\\begin{tabular}{r|cc}\n",
       "\t& train\\_error & test\\_error\\\\\n",
       "\t\\hline\n",
       "\t& Float64 & Float64\\\\\n",
       "\t\\hline\n",
       "\t1 & 0.048182 & 0.0478441 \\\\\n",
       "\t2 & 0.0478393 & 0.0481871 \\\\\n",
       "\\end{tabular}\n"
      ],
      "text/plain": [
       "2×2 DataFrame\n",
       "│ Row │ train_error │ test_error │\n",
       "│     │ \u001b[90mFloat64\u001b[39m     │ \u001b[90mFloat64\u001b[39m    │\n",
       "├─────┼─────────────┼────────────┤\n",
       "│ 1   │ 0.048182    │ 0.0478441  │\n",
       "│ 2   │ 0.0478393   │ 0.0481871  │"
      ]
     },
     "execution_count": 24,
     "metadata": {},
     "output_type": "execute_result"
    }
   ],
   "source": [
    "println(\"Computing cross validation error for each fold\")\n",
    "params = Params(1.0, max_iter=100, abs_tol=0.0, min_stepsize=.001)\n",
    "train_error, test_error, train_glrms, test_glrms = cross_validate(glrm16, nfolds=2, params=params)\n",
    "df = DataFrame(train_error = train_error, test_error = test_error)"
   ]
  },
  {
   "cell_type": "code",
   "execution_count": 25,
   "metadata": {},
   "outputs": [
    {
     "data": {
      "text/html": [
       "<table class=\"data-frame\"><thead><tr><th></th><th>x1</th><th>x2</th><th>x3</th><th>x4</th><th>x5</th><th>x6</th><th>x7</th><th>x8</th><th>x9</th></tr><tr><th></th><th>Float64</th><th>Float64</th><th>Float64</th><th>Float64</th><th>Float64</th><th>Float64</th><th>Float64</th><th>Float64</th><th>Float64</th></tr></thead><tbody><p>6 rows × 10,310 columns (omitted printing of 10301 columns)</p><tr><th>1</th><td>0.0</td><td>0.0</td><td>0.0</td><td>1.0</td><td>0.0</td><td>0.0</td><td>1.0</td><td>0.0</td><td>0.0</td></tr><tr><th>2</th><td>0.0</td><td>0.0</td><td>0.0</td><td>0.0</td><td>0.0</td><td>0.0</td><td>0.0</td><td>1.0</td><td>0.0</td></tr><tr><th>3</th><td>0.0</td><td>0.0</td><td>0.0</td><td>0.0</td><td>0.0</td><td>0.0</td><td>0.0</td><td>0.0</td><td>1.0</td></tr><tr><th>4</th><td>1.0</td><td>1.0</td><td>1.0</td><td>0.0</td><td>0.0</td><td>0.0</td><td>0.0</td><td>0.0</td><td>0.0</td></tr><tr><th>5</th><td>0.0</td><td>0.0</td><td>0.0</td><td>0.0</td><td>0.0</td><td>1.0</td><td>0.0</td><td>0.0</td><td>0.0</td></tr><tr><th>6</th><td>0.0</td><td>0.0</td><td>0.0</td><td>0.0</td><td>1.0</td><td>0.0</td><td>0.0</td><td>0.0</td><td>0.0</td></tr></tbody></table>"
      ],
      "text/latex": [
       "\\begin{tabular}{r|cccccccccc}\n",
       "\t& x1 & x2 & x3 & x4 & x5 & x6 & x7 & x8 & x9 & \\\\\n",
       "\t\\hline\n",
       "\t& Float64 & Float64 & Float64 & Float64 & Float64 & Float64 & Float64 & Float64 & Float64 & \\\\\n",
       "\t\\hline\n",
       "\t1 & 0.0 & 0.0 & 0.0 & 1.0 & 0.0 & 0.0 & 1.0 & 0.0 & 0.0 & $\\dots$ \\\\\n",
       "\t2 & 0.0 & 0.0 & 0.0 & 0.0 & 0.0 & 0.0 & 0.0 & 1.0 & 0.0 & $\\dots$ \\\\\n",
       "\t3 & 0.0 & 0.0 & 0.0 & 0.0 & 0.0 & 0.0 & 0.0 & 0.0 & 1.0 & $\\dots$ \\\\\n",
       "\t4 & 1.0 & 1.0 & 1.0 & 0.0 & 0.0 & 0.0 & 0.0 & 0.0 & 0.0 & $\\dots$ \\\\\n",
       "\t5 & 0.0 & 0.0 & 0.0 & 0.0 & 0.0 & 1.0 & 0.0 & 0.0 & 0.0 & $\\dots$ \\\\\n",
       "\t6 & 0.0 & 0.0 & 0.0 & 0.0 & 1.0 & 0.0 & 0.0 & 0.0 & 0.0 & $\\dots$ \\\\\n",
       "\\end{tabular}\n"
      ],
      "text/plain": [
       "6×10310 DataFrame. Omitted printing of 10303 columns\n",
       "│ Row │ x1      │ x2      │ x3      │ x4      │ x5      │ x6      │ x7      │\n",
       "│     │ \u001b[90mFloat64\u001b[39m │ \u001b[90mFloat64\u001b[39m │ \u001b[90mFloat64\u001b[39m │ \u001b[90mFloat64\u001b[39m │ \u001b[90mFloat64\u001b[39m │ \u001b[90mFloat64\u001b[39m │ \u001b[90mFloat64\u001b[39m │\n",
       "├─────┼─────────┼─────────┼─────────┼─────────┼─────────┼─────────┼─────────┤\n",
       "│ 1   │ 0.0     │ 0.0     │ 0.0     │ 1.0     │ 0.0     │ 0.0     │ 1.0     │\n",
       "│ 2   │ 0.0     │ 0.0     │ 0.0     │ 0.0     │ 0.0     │ 0.0     │ 0.0     │\n",
       "│ 3   │ 0.0     │ 0.0     │ 0.0     │ 0.0     │ 0.0     │ 0.0     │ 0.0     │\n",
       "│ 4   │ 1.0     │ 1.0     │ 1.0     │ 0.0     │ 0.0     │ 0.0     │ 0.0     │\n",
       "│ 5   │ 0.0     │ 0.0     │ 0.0     │ 0.0     │ 0.0     │ 1.0     │ 0.0     │\n",
       "│ 6   │ 0.0     │ 0.0     │ 0.0     │ 0.0     │ 1.0     │ 0.0     │ 0.0     │"
      ]
     },
     "execution_count": 25,
     "metadata": {},
     "output_type": "execute_result"
    }
   ],
   "source": [
    "hingek6 = convert(DataFrame, X16) "
   ]
  },
  {
   "cell_type": "code",
   "execution_count": 26,
   "metadata": {},
   "outputs": [
    {
     "data": {
      "text/html": [
       "<table class=\"data-frame\"><thead><tr><th></th><th>x1</th><th>x2</th><th>x3</th><th>x4</th><th>x5</th><th>x6</th><th>x7</th><th>x8</th><th>x9</th></tr><tr><th></th><th>Float64</th><th>Float64</th><th>Float64</th><th>Float64</th><th>Float64</th><th>Float64</th><th>Float64</th><th>Float64</th><th>Float64</th></tr></thead><tbody><p>6 rows × 10,310 columns (omitted printing of 10301 columns)</p><tr><th>1</th><td>0.0</td><td>0.0</td><td>0.0</td><td>1.0</td><td>0.0</td><td>0.0</td><td>1.0</td><td>0.0</td><td>0.0</td></tr><tr><th>2</th><td>0.0</td><td>0.0</td><td>0.0</td><td>0.0</td><td>0.0</td><td>0.0</td><td>0.0</td><td>1.0</td><td>0.0</td></tr><tr><th>3</th><td>0.0</td><td>0.0</td><td>0.0</td><td>0.0</td><td>0.0</td><td>0.0</td><td>0.0</td><td>0.0</td><td>1.0</td></tr><tr><th>4</th><td>1.0</td><td>1.0</td><td>1.0</td><td>0.0</td><td>0.0</td><td>0.0</td><td>0.0</td><td>0.0</td><td>0.0</td></tr><tr><th>5</th><td>0.0</td><td>0.0</td><td>0.0</td><td>0.0</td><td>0.0</td><td>1.0</td><td>0.0</td><td>0.0</td><td>0.0</td></tr><tr><th>6</th><td>0.0</td><td>0.0</td><td>0.0</td><td>0.0</td><td>1.0</td><td>0.0</td><td>0.0</td><td>0.0</td><td>0.0</td></tr></tbody></table>"
      ],
      "text/latex": [
       "\\begin{tabular}{r|cccccccccc}\n",
       "\t& x1 & x2 & x3 & x4 & x5 & x6 & x7 & x8 & x9 & \\\\\n",
       "\t\\hline\n",
       "\t& Float64 & Float64 & Float64 & Float64 & Float64 & Float64 & Float64 & Float64 & Float64 & \\\\\n",
       "\t\\hline\n",
       "\t1 & 0.0 & 0.0 & 0.0 & 1.0 & 0.0 & 0.0 & 1.0 & 0.0 & 0.0 & $\\dots$ \\\\\n",
       "\t2 & 0.0 & 0.0 & 0.0 & 0.0 & 0.0 & 0.0 & 0.0 & 1.0 & 0.0 & $\\dots$ \\\\\n",
       "\t3 & 0.0 & 0.0 & 0.0 & 0.0 & 0.0 & 0.0 & 0.0 & 0.0 & 1.0 & $\\dots$ \\\\\n",
       "\t4 & 1.0 & 1.0 & 1.0 & 0.0 & 0.0 & 0.0 & 0.0 & 0.0 & 0.0 & $\\dots$ \\\\\n",
       "\t5 & 0.0 & 0.0 & 0.0 & 0.0 & 0.0 & 1.0 & 0.0 & 0.0 & 0.0 & $\\dots$ \\\\\n",
       "\t6 & 0.0 & 0.0 & 0.0 & 0.0 & 1.0 & 0.0 & 0.0 & 0.0 & 0.0 & $\\dots$ \\\\\n",
       "\\end{tabular}\n"
      ],
      "text/plain": [
       "6×10310 DataFrame. Omitted printing of 10303 columns\n",
       "│ Row │ x1      │ x2      │ x3      │ x4      │ x5      │ x6      │ x7      │\n",
       "│     │ \u001b[90mFloat64\u001b[39m │ \u001b[90mFloat64\u001b[39m │ \u001b[90mFloat64\u001b[39m │ \u001b[90mFloat64\u001b[39m │ \u001b[90mFloat64\u001b[39m │ \u001b[90mFloat64\u001b[39m │ \u001b[90mFloat64\u001b[39m │\n",
       "├─────┼─────────┼─────────┼─────────┼─────────┼─────────┼─────────┼─────────┤\n",
       "│ 1   │ 0.0     │ 0.0     │ 0.0     │ 1.0     │ 0.0     │ 0.0     │ 1.0     │\n",
       "│ 2   │ 0.0     │ 0.0     │ 0.0     │ 0.0     │ 0.0     │ 0.0     │ 0.0     │\n",
       "│ 3   │ 0.0     │ 0.0     │ 0.0     │ 0.0     │ 0.0     │ 0.0     │ 0.0     │\n",
       "│ 4   │ 1.0     │ 1.0     │ 1.0     │ 0.0     │ 0.0     │ 0.0     │ 0.0     │\n",
       "│ 5   │ 0.0     │ 0.0     │ 0.0     │ 0.0     │ 0.0     │ 1.0     │ 0.0     │\n",
       "│ 6   │ 0.0     │ 0.0     │ 0.0     │ 0.0     │ 1.0     │ 0.0     │ 0.0     │"
      ]
     },
     "execution_count": 26,
     "metadata": {},
     "output_type": "execute_result"
    }
   ],
   "source": [
    "CSV.write(\"/Users/kathy908000/github/health-care-research/data/hingek6.csv\",  hingek6)\n",
    "CSV.read(\"/Users/kathy908000/github/health-care-research/data/hingek6.csv\")\n"
   ]
  },
  {
   "cell_type": "code",
   "execution_count": 27,
   "metadata": {},
   "outputs": [],
   "source": [
    "#k=5"
   ]
  },
  {
   "cell_type": "code",
   "execution_count": 28,
   "metadata": {},
   "outputs": [
    {
     "data": {
      "text/plain": [
       "920-element Array{Loss,1}:\n",
       " HuberLoss(1.0, RealDomain(), 1.0)\n",
       " HuberLoss(1.0, RealDomain(), 1.0)\n",
       " OrdinalHingeLoss(1, 10, 1.0, OrdinalDomain(1, 10))\n",
       " WeightedHingeLoss(1.0, BoolDomain(), 1.0)\n",
       " WeightedHingeLoss(1.0, BoolDomain(), 1.0)\n",
       " WeightedHingeLoss(1.0, BoolDomain(), 1.0)\n",
       " WeightedHingeLoss(1.0, BoolDomain(), 1.0)\n",
       " WeightedHingeLoss(1.0, BoolDomain(), 1.0)\n",
       " WeightedHingeLoss(1.0, BoolDomain(), 1.0)\n",
       " WeightedHingeLoss(1.0, BoolDomain(), 1.0)\n",
       " WeightedHingeLoss(1.0, BoolDomain(), 1.0)\n",
       " WeightedHingeLoss(1.0, BoolDomain(), 1.0)\n",
       " WeightedHingeLoss(1.0, BoolDomain(), 1.0)\n",
       " ⋮\n",
       " WeightedHingeLoss(1.0, BoolDomain(), 1.0)\n",
       " WeightedHingeLoss(1.0, BoolDomain(), 1.0)\n",
       " WeightedHingeLoss(1.0, BoolDomain(), 1.0)\n",
       " WeightedHingeLoss(1.0, BoolDomain(), 1.0)\n",
       " WeightedHingeLoss(1.0, BoolDomain(), 1.0)\n",
       " WeightedHingeLoss(1.0, BoolDomain(), 1.0)\n",
       " WeightedHingeLoss(1.0, BoolDomain(), 1.0)\n",
       " WeightedHingeLoss(1.0, BoolDomain(), 1.0)\n",
       " WeightedHingeLoss(1.0, BoolDomain(), 1.0)\n",
       " WeightedHingeLoss(1.0, BoolDomain(), 1.0)\n",
       " WeightedHingeLoss(1.0, BoolDomain(), 1.0)\n",
       " WeightedHingeLoss(1.0, BoolDomain(), 1.0)"
      ]
     },
     "execution_count": 28,
     "metadata": {},
     "output_type": "execute_result"
    }
   ],
   "source": [
    "loss1 = fill(HuberLoss(),2)\n",
    "loss2 = fill(HingeLoss(), 917)\n",
    "loss3 = fill(OrdinalHingeLoss(), 1)\n",
    "losses = [loss1; loss3; loss2]\n",
    "losses"
   ]
  },
  {
   "cell_type": "code",
   "execution_count": 29,
   "metadata": {},
   "outputs": [
    {
     "name": "stdout",
     "output_type": "stream",
     "text": [
      "Fitting GLRM\n",
      "Iteration 10: objective value = 785742.1835691773\n",
      "Iteration 20: objective value = 464382.6973364457\n",
      "Iteration 30: objective value = 458976.40695412154\n"
     ]
    },
    {
     "data": {
      "text/plain": [
       "([0.0 0.0 … 1.0 1.0; 0.0 0.0 … 0.0 0.0; … ; 0.0 1.0 … 0.0 0.0; 0.0 0.0 … 0.0 0.0], [3.0438699090695214 1.2190745202970292 … -1.1476688477673724 -1.1875806068055965; 3.070655940227776 1.2805376728741802 … -1.1112362103123397 -1.0725763698211597; … ; 3.085735626224026 1.2959990948628408 … -1.0221085405728578 -1.003942657973069; 2.8556297748416637 1.267715142929081 … -1.635254380404446 -1.1576591530418048], ConvergenceHistory(\"ProxGradGLRM\", [Inf, 9.229352802910212e6, 7.715683671581579e6, 6.285400685113965e6, 4.980678349513673e6, 3.8275609943980626e6, 2.844701641404502e6, 2.0547237964759464e6, 1.4659329203738922e6, 1.0502594019564886e6  …  461119.6792584686, 460364.1836527265, 459997.1796645072, 459568.4350020009, 459315.99595636333, 459141.2873410248, 458976.40695412154, 458793.5628206643, 458641.82994953723, 458556.1529098767], Float64[], [0.0, 0.0, 0.0, 0.0, 0.0, 0.0, 0.0, 0.0, 0.0, 0.0  …  0.0, 0.0, 0.0, 0.0, 0.0, 0.0, 0.0, 0.0, 0.0, 0.0], [0.0, 0.0, 0.0, 0.0, 0.0, 0.0, 0.0, 0.0, 0.0, 0.0  …  0.0, 0.0, 0.0, 0.0, 0.0, 0.0, 0.0, 0.0, 0.0, 0.0], [0.0, 13.352878093719482, 61.50787711143494, 74.77503228187561, 87.13949632644653, 99.44829154014587, 112.79381465911865, 126.50444769859314, 138.88998556137085, 151.5044264793396  …  344.74397253990173, 357.47625255584717, 370.2339766025543, 382.7882466316223, 395.501633644104, 408.0121605396271, 420.4918875694275, 433.3157036304474, 446.06629180908203, 458.7102687358856], [0.0, 0.0, 0.0, 0.0, 0.0, 0.0, 0.0, 0.0, 0.0, 0.0  …  0.0, 0.0, 0.0, 0.0, 0.0, 0.0, 0.0, 0.0, 0.0, 0.0], 0))"
      ]
     },
     "execution_count": 29,
     "metadata": {},
     "output_type": "execute_result"
    }
   ],
   "source": [
    "k = 5\n",
    "A= df3\n",
    "rx = UnitOneSparseConstraint()\n",
    "ry = ZeroReg()\n",
    "glrm05 = GLRM(A,losses,rx,ry,k)\n",
    "X05,Y05,ch05 = fit!(glrm05)"
   ]
  },
  {
   "cell_type": "code",
   "execution_count": 30,
   "metadata": {},
   "outputs": [
    {
     "data": {
      "text/plain": [
       "5×10310 Array{Float64,2}:\n",
       " 0.0  0.0  0.0  0.0  0.0  0.0  1.0  0.0  …  0.0  0.0  0.0  0.0  0.0  1.0  1.0\n",
       " 0.0  0.0  1.0  0.0  1.0  0.0  0.0  0.0     0.0  0.0  0.0  0.0  0.0  0.0  0.0\n",
       " 1.0  0.0  0.0  0.0  0.0  1.0  0.0  0.0     0.0  0.0  1.0  0.0  0.0  0.0  0.0\n",
       " 0.0  1.0  0.0  0.0  0.0  0.0  0.0  0.0     1.0  1.0  0.0  0.0  1.0  0.0  0.0\n",
       " 0.0  0.0  0.0  1.0  0.0  0.0  0.0  1.0     0.0  0.0  0.0  1.0  0.0  0.0  0.0"
      ]
     },
     "execution_count": 30,
     "metadata": {},
     "output_type": "execute_result"
    }
   ],
   "source": [
    "X05"
   ]
  },
  {
   "cell_type": "code",
   "execution_count": 31,
   "metadata": {},
   "outputs": [
    {
     "name": "stdout",
     "output_type": "stream",
     "text": [
      "Computing cross validation error for each fold\n",
      "flattening observations\n",
      "computing CV folds\n",
      "\n",
      "forming train and test GLRM for fold 1\n",
      "training model on 4744508 samples and testing on 4740692\n",
      "fitting train GLRM for fold 1\n",
      "Fitting GLRM\n",
      "Iteration 10: objective value = 229062.5706120421\n",
      "computing train and test error for fold 1:\n",
      "\ttrain error: 0.048277291933473014\n",
      "\ttest error:  0.04829102720400767\n",
      "\n",
      "forming train and test GLRM for fold 2\n",
      "training model on 4740692 samples and testing on 4744508\n",
      "fitting train GLRM for fold 2\n",
      "Fitting GLRM\n",
      "Iteration 10: objective value = 228924.74098281117\n",
      "computing train and test error for fold 2:\n",
      "\ttrain error: 0.04828692790486687\n",
      "\ttest error:  0.048286842386987175\n"
     ]
    },
    {
     "data": {
      "text/html": [
       "<table class=\"data-frame\"><thead><tr><th></th><th>train_error</th><th>test_error</th></tr><tr><th></th><th>Float64</th><th>Float64</th></tr></thead><tbody><p>2 rows × 2 columns</p><tr><th>1</th><td>0.0482773</td><td>0.048291</td></tr><tr><th>2</th><td>0.0482869</td><td>0.0482868</td></tr></tbody></table>"
      ],
      "text/latex": [
       "\\begin{tabular}{r|cc}\n",
       "\t& train\\_error & test\\_error\\\\\n",
       "\t\\hline\n",
       "\t& Float64 & Float64\\\\\n",
       "\t\\hline\n",
       "\t1 & 0.0482773 & 0.048291 \\\\\n",
       "\t2 & 0.0482869 & 0.0482868 \\\\\n",
       "\\end{tabular}\n"
      ],
      "text/plain": [
       "2×2 DataFrame\n",
       "│ Row │ train_error │ test_error │\n",
       "│     │ \u001b[90mFloat64\u001b[39m     │ \u001b[90mFloat64\u001b[39m    │\n",
       "├─────┼─────────────┼────────────┤\n",
       "│ 1   │ 0.0482773   │ 0.048291   │\n",
       "│ 2   │ 0.0482869   │ 0.0482868  │"
      ]
     },
     "execution_count": 31,
     "metadata": {},
     "output_type": "execute_result"
    }
   ],
   "source": [
    "println(\"Computing cross validation error for each fold\")\n",
    "params = Params(1.0, max_iter=100, abs_tol=0.0, min_stepsize=.001)\n",
    "train_error, test_error, train_glrms, test_glrms = cross_validate(glrm05, nfolds=2, params=params)\n",
    "df = DataFrame(train_error = train_error, test_error = test_error)"
   ]
  },
  {
   "cell_type": "code",
   "execution_count": 32,
   "metadata": {},
   "outputs": [
    {
     "data": {
      "text/html": [
       "<table class=\"data-frame\"><thead><tr><th></th><th>x1</th><th>x2</th><th>x3</th><th>x4</th><th>x5</th><th>x6</th><th>x7</th><th>x8</th><th>x9</th></tr><tr><th></th><th>Float64</th><th>Float64</th><th>Float64</th><th>Float64</th><th>Float64</th><th>Float64</th><th>Float64</th><th>Float64</th><th>Float64</th></tr></thead><tbody><p>5 rows × 10,310 columns (omitted printing of 10301 columns)</p><tr><th>1</th><td>0.0</td><td>0.0</td><td>0.0</td><td>0.0</td><td>0.0</td><td>0.0</td><td>1.0</td><td>0.0</td><td>0.0</td></tr><tr><th>2</th><td>0.0</td><td>0.0</td><td>1.0</td><td>0.0</td><td>1.0</td><td>0.0</td><td>0.0</td><td>0.0</td><td>1.0</td></tr><tr><th>3</th><td>1.0</td><td>0.0</td><td>0.0</td><td>0.0</td><td>0.0</td><td>1.0</td><td>0.0</td><td>0.0</td><td>0.0</td></tr><tr><th>4</th><td>0.0</td><td>1.0</td><td>0.0</td><td>0.0</td><td>0.0</td><td>0.0</td><td>0.0</td><td>0.0</td><td>0.0</td></tr><tr><th>5</th><td>0.0</td><td>0.0</td><td>0.0</td><td>1.0</td><td>0.0</td><td>0.0</td><td>0.0</td><td>1.0</td><td>0.0</td></tr></tbody></table>"
      ],
      "text/latex": [
       "\\begin{tabular}{r|cccccccccc}\n",
       "\t& x1 & x2 & x3 & x4 & x5 & x6 & x7 & x8 & x9 & \\\\\n",
       "\t\\hline\n",
       "\t& Float64 & Float64 & Float64 & Float64 & Float64 & Float64 & Float64 & Float64 & Float64 & \\\\\n",
       "\t\\hline\n",
       "\t1 & 0.0 & 0.0 & 0.0 & 0.0 & 0.0 & 0.0 & 1.0 & 0.0 & 0.0 & $\\dots$ \\\\\n",
       "\t2 & 0.0 & 0.0 & 1.0 & 0.0 & 1.0 & 0.0 & 0.0 & 0.0 & 1.0 & $\\dots$ \\\\\n",
       "\t3 & 1.0 & 0.0 & 0.0 & 0.0 & 0.0 & 1.0 & 0.0 & 0.0 & 0.0 & $\\dots$ \\\\\n",
       "\t4 & 0.0 & 1.0 & 0.0 & 0.0 & 0.0 & 0.0 & 0.0 & 0.0 & 0.0 & $\\dots$ \\\\\n",
       "\t5 & 0.0 & 0.0 & 0.0 & 1.0 & 0.0 & 0.0 & 0.0 & 1.0 & 0.0 & $\\dots$ \\\\\n",
       "\\end{tabular}\n"
      ],
      "text/plain": [
       "5×10310 DataFrame. Omitted printing of 10303 columns\n",
       "│ Row │ x1      │ x2      │ x3      │ x4      │ x5      │ x6      │ x7      │\n",
       "│     │ \u001b[90mFloat64\u001b[39m │ \u001b[90mFloat64\u001b[39m │ \u001b[90mFloat64\u001b[39m │ \u001b[90mFloat64\u001b[39m │ \u001b[90mFloat64\u001b[39m │ \u001b[90mFloat64\u001b[39m │ \u001b[90mFloat64\u001b[39m │\n",
       "├─────┼─────────┼─────────┼─────────┼─────────┼─────────┼─────────┼─────────┤\n",
       "│ 1   │ 0.0     │ 0.0     │ 0.0     │ 0.0     │ 0.0     │ 0.0     │ 1.0     │\n",
       "│ 2   │ 0.0     │ 0.0     │ 1.0     │ 0.0     │ 1.0     │ 0.0     │ 0.0     │\n",
       "│ 3   │ 1.0     │ 0.0     │ 0.0     │ 0.0     │ 0.0     │ 1.0     │ 0.0     │\n",
       "│ 4   │ 0.0     │ 1.0     │ 0.0     │ 0.0     │ 0.0     │ 0.0     │ 0.0     │\n",
       "│ 5   │ 0.0     │ 0.0     │ 0.0     │ 1.0     │ 0.0     │ 0.0     │ 0.0     │"
      ]
     },
     "execution_count": 32,
     "metadata": {},
     "output_type": "execute_result"
    }
   ],
   "source": [
    "hingek5 = convert(DataFrame, X05) "
   ]
  },
  {
   "cell_type": "code",
   "execution_count": 33,
   "metadata": {},
   "outputs": [
    {
     "data": {
      "text/html": [
       "<table class=\"data-frame\"><thead><tr><th></th><th>x1</th><th>x2</th><th>x3</th><th>x4</th><th>x5</th><th>x6</th><th>x7</th><th>x8</th><th>x9</th></tr><tr><th></th><th>Float64</th><th>Float64</th><th>Float64</th><th>Float64</th><th>Float64</th><th>Float64</th><th>Float64</th><th>Float64</th><th>Float64</th></tr></thead><tbody><p>5 rows × 10,310 columns (omitted printing of 10301 columns)</p><tr><th>1</th><td>0.0</td><td>0.0</td><td>0.0</td><td>0.0</td><td>0.0</td><td>0.0</td><td>1.0</td><td>0.0</td><td>0.0</td></tr><tr><th>2</th><td>0.0</td><td>0.0</td><td>1.0</td><td>0.0</td><td>1.0</td><td>0.0</td><td>0.0</td><td>0.0</td><td>1.0</td></tr><tr><th>3</th><td>1.0</td><td>0.0</td><td>0.0</td><td>0.0</td><td>0.0</td><td>1.0</td><td>0.0</td><td>0.0</td><td>0.0</td></tr><tr><th>4</th><td>0.0</td><td>1.0</td><td>0.0</td><td>0.0</td><td>0.0</td><td>0.0</td><td>0.0</td><td>0.0</td><td>0.0</td></tr><tr><th>5</th><td>0.0</td><td>0.0</td><td>0.0</td><td>1.0</td><td>0.0</td><td>0.0</td><td>0.0</td><td>1.0</td><td>0.0</td></tr></tbody></table>"
      ],
      "text/latex": [
       "\\begin{tabular}{r|cccccccccc}\n",
       "\t& x1 & x2 & x3 & x4 & x5 & x6 & x7 & x8 & x9 & \\\\\n",
       "\t\\hline\n",
       "\t& Float64 & Float64 & Float64 & Float64 & Float64 & Float64 & Float64 & Float64 & Float64 & \\\\\n",
       "\t\\hline\n",
       "\t1 & 0.0 & 0.0 & 0.0 & 0.0 & 0.0 & 0.0 & 1.0 & 0.0 & 0.0 & $\\dots$ \\\\\n",
       "\t2 & 0.0 & 0.0 & 1.0 & 0.0 & 1.0 & 0.0 & 0.0 & 0.0 & 1.0 & $\\dots$ \\\\\n",
       "\t3 & 1.0 & 0.0 & 0.0 & 0.0 & 0.0 & 1.0 & 0.0 & 0.0 & 0.0 & $\\dots$ \\\\\n",
       "\t4 & 0.0 & 1.0 & 0.0 & 0.0 & 0.0 & 0.0 & 0.0 & 0.0 & 0.0 & $\\dots$ \\\\\n",
       "\t5 & 0.0 & 0.0 & 0.0 & 1.0 & 0.0 & 0.0 & 0.0 & 1.0 & 0.0 & $\\dots$ \\\\\n",
       "\\end{tabular}\n"
      ],
      "text/plain": [
       "5×10310 DataFrame. Omitted printing of 10303 columns\n",
       "│ Row │ x1      │ x2      │ x3      │ x4      │ x5      │ x6      │ x7      │\n",
       "│     │ \u001b[90mFloat64\u001b[39m │ \u001b[90mFloat64\u001b[39m │ \u001b[90mFloat64\u001b[39m │ \u001b[90mFloat64\u001b[39m │ \u001b[90mFloat64\u001b[39m │ \u001b[90mFloat64\u001b[39m │ \u001b[90mFloat64\u001b[39m │\n",
       "├─────┼─────────┼─────────┼─────────┼─────────┼─────────┼─────────┼─────────┤\n",
       "│ 1   │ 0.0     │ 0.0     │ 0.0     │ 0.0     │ 0.0     │ 0.0     │ 1.0     │\n",
       "│ 2   │ 0.0     │ 0.0     │ 1.0     │ 0.0     │ 1.0     │ 0.0     │ 0.0     │\n",
       "│ 3   │ 1.0     │ 0.0     │ 0.0     │ 0.0     │ 0.0     │ 1.0     │ 0.0     │\n",
       "│ 4   │ 0.0     │ 1.0     │ 0.0     │ 0.0     │ 0.0     │ 0.0     │ 0.0     │\n",
       "│ 5   │ 0.0     │ 0.0     │ 0.0     │ 1.0     │ 0.0     │ 0.0     │ 0.0     │"
      ]
     },
     "execution_count": 33,
     "metadata": {},
     "output_type": "execute_result"
    }
   ],
   "source": [
    "CSV.write(\"/Users/kathy908000/github/health-care-research/data/hingek5.csv\",  hingek5)\n",
    "CSV.read(\"/Users/kathy908000/github/health-care-research/data/hingek5.csv\")\n"
   ]
  },
  {
   "cell_type": "code",
   "execution_count": 34,
   "metadata": {},
   "outputs": [],
   "source": [
    "#k=4"
   ]
  },
  {
   "cell_type": "code",
   "execution_count": 35,
   "metadata": {},
   "outputs": [
    {
     "data": {
      "text/plain": [
       "920-element Array{Loss,1}:\n",
       " HuberLoss(1.0, RealDomain(), 1.0)\n",
       " HuberLoss(1.0, RealDomain(), 1.0)\n",
       " OrdinalHingeLoss(1, 10, 1.0, OrdinalDomain(1, 10))\n",
       " WeightedHingeLoss(1.0, BoolDomain(), 1.0)\n",
       " WeightedHingeLoss(1.0, BoolDomain(), 1.0)\n",
       " WeightedHingeLoss(1.0, BoolDomain(), 1.0)\n",
       " WeightedHingeLoss(1.0, BoolDomain(), 1.0)\n",
       " WeightedHingeLoss(1.0, BoolDomain(), 1.0)\n",
       " WeightedHingeLoss(1.0, BoolDomain(), 1.0)\n",
       " WeightedHingeLoss(1.0, BoolDomain(), 1.0)\n",
       " WeightedHingeLoss(1.0, BoolDomain(), 1.0)\n",
       " WeightedHingeLoss(1.0, BoolDomain(), 1.0)\n",
       " WeightedHingeLoss(1.0, BoolDomain(), 1.0)\n",
       " ⋮\n",
       " WeightedHingeLoss(1.0, BoolDomain(), 1.0)\n",
       " WeightedHingeLoss(1.0, BoolDomain(), 1.0)\n",
       " WeightedHingeLoss(1.0, BoolDomain(), 1.0)\n",
       " WeightedHingeLoss(1.0, BoolDomain(), 1.0)\n",
       " WeightedHingeLoss(1.0, BoolDomain(), 1.0)\n",
       " WeightedHingeLoss(1.0, BoolDomain(), 1.0)\n",
       " WeightedHingeLoss(1.0, BoolDomain(), 1.0)\n",
       " WeightedHingeLoss(1.0, BoolDomain(), 1.0)\n",
       " WeightedHingeLoss(1.0, BoolDomain(), 1.0)\n",
       " WeightedHingeLoss(1.0, BoolDomain(), 1.0)\n",
       " WeightedHingeLoss(1.0, BoolDomain(), 1.0)\n",
       " WeightedHingeLoss(1.0, BoolDomain(), 1.0)"
      ]
     },
     "execution_count": 35,
     "metadata": {},
     "output_type": "execute_result"
    }
   ],
   "source": [
    "loss1 = fill(HuberLoss(),2)\n",
    "loss2 = fill(HingeLoss(), 917)\n",
    "loss3 = fill(OrdinalHingeLoss(), 1)\n",
    "losses = [loss1; loss3; loss2]\n",
    "losses"
   ]
  },
  {
   "cell_type": "code",
   "execution_count": 36,
   "metadata": {},
   "outputs": [
    {
     "name": "stdout",
     "output_type": "stream",
     "text": [
      "Fitting GLRM\n",
      "Iteration 10: objective value = 547044.3289933192\n",
      "Iteration 20: objective value = 461629.06711909064\n",
      "Iteration 30: objective value = 458055.4999498729\n"
     ]
    },
    {
     "data": {
      "text/plain": [
       "([0.0 1.0 … 0.0 0.0; 0.0 0.0 … 1.0 1.0; 1.0 0.0 … 0.0 0.0; 0.0 0.0 … 0.0 0.0], [3.0236190926115536 1.2829358647705784 … -1.043216123036991 -1.2278324505200806; 3.054939247945164 1.2396055453378858 … -1.1214212177473875 -1.064811375785501; 2.9587691312733218 1.2444846227643045 … -1.1055352091988093 -1.661344278156245; 3.0301126552384474 1.2554976849661785 … -1.1061066642349748 -1.2708967200992287], ConvergenceHistory(\"ProxGradGLRM\", [Inf, 8.809639344280688e6, 7.009860164855971e6, 5.369642737167674e6, 3.9478870062831566e6, 2.7911244754224205e6, 1.9063565008885416e6, 1.2830803117652684e6, 883661.1726983065, 658002.8247476513  …  459224.2372739171, 458932.7565060489, 458730.8953080178, 458543.30483791104, 458348.26080058375, 458184.4547892782, 458055.4999498729, 457941.25347550143, 457754.05841062596, 457689.0568375702], Float64[], [0.0, 0.0, 0.0, 0.0, 0.0, 0.0, 0.0, 0.0, 0.0, 0.0  …  0.0, 0.0, 0.0, 0.0, 0.0, 0.0, 0.0, 0.0, 0.0, 0.0], [0.0, 0.0, 0.0, 0.0, 0.0, 0.0, 0.0, 0.0, 0.0, 0.0  …  0.0, 0.0, 0.0, 0.0, 0.0, 0.0, 0.0, 0.0, 0.0, 0.0], [0.0, 12.707508087158203, 58.62587809562683, 71.22119402885437, 83.97893500328064, 96.7210009098053, 109.45852780342102, 122.15004062652588, 134.71933960914612, 147.13381576538086  …  342.73901653289795, 355.22218656539917, 367.79220747947693, 380.49677538871765, 393.16300225257874, 405.55572509765625, 417.9323241710663, 430.3013541698456, 442.64092230796814, 455.19175934791565], [0.0, 0.0, 0.0, 0.0, 0.0, 0.0, 0.0, 0.0, 0.0, 0.0  …  0.0, 0.0, 0.0, 0.0, 0.0, 0.0, 0.0, 0.0, 0.0, 0.0], 0))"
      ]
     },
     "execution_count": 36,
     "metadata": {},
     "output_type": "execute_result"
    }
   ],
   "source": [
    "k = 4\n",
    "A= df3\n",
    "rx = UnitOneSparseConstraint()\n",
    "ry = ZeroReg()\n",
    "glrm04 = GLRM(A,losses,rx,ry,k)\n",
    "X04,Y04,ch04 = fit!(glrm04)"
   ]
  },
  {
   "cell_type": "code",
   "execution_count": 37,
   "metadata": {},
   "outputs": [
    {
     "data": {
      "text/plain": [
       "4×10310 Array{Float64,2}:\n",
       " 0.0  1.0  0.0  0.0  0.0  1.0  0.0  1.0  …  0.0  0.0  0.0  0.0  0.0  0.0  0.0\n",
       " 0.0  0.0  0.0  1.0  1.0  0.0  1.0  0.0     1.0  0.0  0.0  0.0  0.0  1.0  1.0\n",
       " 1.0  0.0  0.0  0.0  0.0  0.0  0.0  0.0     0.0  0.0  1.0  1.0  1.0  0.0  0.0\n",
       " 0.0  0.0  1.0  0.0  0.0  0.0  0.0  0.0     0.0  1.0  0.0  0.0  0.0  0.0  0.0"
      ]
     },
     "execution_count": 37,
     "metadata": {},
     "output_type": "execute_result"
    }
   ],
   "source": [
    "X04"
   ]
  },
  {
   "cell_type": "code",
   "execution_count": 38,
   "metadata": {},
   "outputs": [
    {
     "name": "stdout",
     "output_type": "stream",
     "text": [
      "Computing cross validation error for each fold\n",
      "flattening observations\n",
      "computing CV folds\n",
      "\n",
      "forming train and test GLRM for fold 1\n",
      "training model on 4743656 samples and testing on 4741544\n",
      "fitting train GLRM for fold 1\n",
      "Fitting GLRM\n",
      "Iteration 10: objective value = 228460.42915155916\n",
      "computing train and test error for fold 1:\n",
      "\ttrain error: 0.04815914775906654\n",
      "\ttest error:  0.0482536951830532\n",
      "\n",
      "forming train and test GLRM for fold 2\n",
      "training model on 4741544 samples and testing on 4743656\n",
      "fitting train GLRM for fold 2\n",
      "Fitting GLRM\n",
      "Iteration 10: objective value = 228764.8008313564\n",
      "computing train and test error for fold 2:\n",
      "\ttrain error: 0.04824349877870011\n",
      "\ttest error:  0.04816388872824073\n"
     ]
    },
    {
     "data": {
      "text/html": [
       "<table class=\"data-frame\"><thead><tr><th></th><th>train_error</th><th>test_error</th></tr><tr><th></th><th>Float64</th><th>Float64</th></tr></thead><tbody><p>2 rows × 2 columns</p><tr><th>1</th><td>0.0481591</td><td>0.0482537</td></tr><tr><th>2</th><td>0.0482435</td><td>0.0481639</td></tr></tbody></table>"
      ],
      "text/latex": [
       "\\begin{tabular}{r|cc}\n",
       "\t& train\\_error & test\\_error\\\\\n",
       "\t\\hline\n",
       "\t& Float64 & Float64\\\\\n",
       "\t\\hline\n",
       "\t1 & 0.0481591 & 0.0482537 \\\\\n",
       "\t2 & 0.0482435 & 0.0481639 \\\\\n",
       "\\end{tabular}\n"
      ],
      "text/plain": [
       "2×2 DataFrame\n",
       "│ Row │ train_error │ test_error │\n",
       "│     │ \u001b[90mFloat64\u001b[39m     │ \u001b[90mFloat64\u001b[39m    │\n",
       "├─────┼─────────────┼────────────┤\n",
       "│ 1   │ 0.0481591   │ 0.0482537  │\n",
       "│ 2   │ 0.0482435   │ 0.0481639  │"
      ]
     },
     "execution_count": 38,
     "metadata": {},
     "output_type": "execute_result"
    }
   ],
   "source": [
    "println(\"Computing cross validation error for each fold\")\n",
    "params = Params(1.0, max_iter=100, abs_tol=0.0, min_stepsize=.001)\n",
    "train_error, test_error, train_glrms, test_glrms = cross_validate(glrm04, nfolds=2, params=params)\n",
    "df = DataFrame(train_error = train_error, test_error = test_error)"
   ]
  },
  {
   "cell_type": "code",
   "execution_count": 39,
   "metadata": {},
   "outputs": [
    {
     "data": {
      "text/html": [
       "<table class=\"data-frame\"><thead><tr><th></th><th>x1</th><th>x2</th><th>x3</th><th>x4</th><th>x5</th><th>x6</th><th>x7</th><th>x8</th><th>x9</th></tr><tr><th></th><th>Float64</th><th>Float64</th><th>Float64</th><th>Float64</th><th>Float64</th><th>Float64</th><th>Float64</th><th>Float64</th><th>Float64</th></tr></thead><tbody><p>4 rows × 10,310 columns (omitted printing of 10301 columns)</p><tr><th>1</th><td>0.0</td><td>1.0</td><td>0.0</td><td>0.0</td><td>0.0</td><td>1.0</td><td>0.0</td><td>1.0</td><td>1.0</td></tr><tr><th>2</th><td>0.0</td><td>0.0</td><td>0.0</td><td>1.0</td><td>1.0</td><td>0.0</td><td>1.0</td><td>0.0</td><td>0.0</td></tr><tr><th>3</th><td>1.0</td><td>0.0</td><td>0.0</td><td>0.0</td><td>0.0</td><td>0.0</td><td>0.0</td><td>0.0</td><td>0.0</td></tr><tr><th>4</th><td>0.0</td><td>0.0</td><td>1.0</td><td>0.0</td><td>0.0</td><td>0.0</td><td>0.0</td><td>0.0</td><td>0.0</td></tr></tbody></table>"
      ],
      "text/latex": [
       "\\begin{tabular}{r|cccccccccc}\n",
       "\t& x1 & x2 & x3 & x4 & x5 & x6 & x7 & x8 & x9 & \\\\\n",
       "\t\\hline\n",
       "\t& Float64 & Float64 & Float64 & Float64 & Float64 & Float64 & Float64 & Float64 & Float64 & \\\\\n",
       "\t\\hline\n",
       "\t1 & 0.0 & 1.0 & 0.0 & 0.0 & 0.0 & 1.0 & 0.0 & 1.0 & 1.0 & $\\dots$ \\\\\n",
       "\t2 & 0.0 & 0.0 & 0.0 & 1.0 & 1.0 & 0.0 & 1.0 & 0.0 & 0.0 & $\\dots$ \\\\\n",
       "\t3 & 1.0 & 0.0 & 0.0 & 0.0 & 0.0 & 0.0 & 0.0 & 0.0 & 0.0 & $\\dots$ \\\\\n",
       "\t4 & 0.0 & 0.0 & 1.0 & 0.0 & 0.0 & 0.0 & 0.0 & 0.0 & 0.0 & $\\dots$ \\\\\n",
       "\\end{tabular}\n"
      ],
      "text/plain": [
       "4×10310 DataFrame. Omitted printing of 10303 columns\n",
       "│ Row │ x1      │ x2      │ x3      │ x4      │ x5      │ x6      │ x7      │\n",
       "│     │ \u001b[90mFloat64\u001b[39m │ \u001b[90mFloat64\u001b[39m │ \u001b[90mFloat64\u001b[39m │ \u001b[90mFloat64\u001b[39m │ \u001b[90mFloat64\u001b[39m │ \u001b[90mFloat64\u001b[39m │ \u001b[90mFloat64\u001b[39m │\n",
       "├─────┼─────────┼─────────┼─────────┼─────────┼─────────┼─────────┼─────────┤\n",
       "│ 1   │ 0.0     │ 1.0     │ 0.0     │ 0.0     │ 0.0     │ 1.0     │ 0.0     │\n",
       "│ 2   │ 0.0     │ 0.0     │ 0.0     │ 1.0     │ 1.0     │ 0.0     │ 1.0     │\n",
       "│ 3   │ 1.0     │ 0.0     │ 0.0     │ 0.0     │ 0.0     │ 0.0     │ 0.0     │\n",
       "│ 4   │ 0.0     │ 0.0     │ 1.0     │ 0.0     │ 0.0     │ 0.0     │ 0.0     │"
      ]
     },
     "execution_count": 39,
     "metadata": {},
     "output_type": "execute_result"
    }
   ],
   "source": [
    "hingek4 = convert(DataFrame, X04) "
   ]
  },
  {
   "cell_type": "code",
   "execution_count": 40,
   "metadata": {},
   "outputs": [
    {
     "data": {
      "text/html": [
       "<table class=\"data-frame\"><thead><tr><th></th><th>x1</th><th>x2</th><th>x3</th><th>x4</th><th>x5</th><th>x6</th><th>x7</th><th>x8</th><th>x9</th></tr><tr><th></th><th>Float64</th><th>Float64</th><th>Float64</th><th>Float64</th><th>Float64</th><th>Float64</th><th>Float64</th><th>Float64</th><th>Float64</th></tr></thead><tbody><p>4 rows × 10,310 columns (omitted printing of 10301 columns)</p><tr><th>1</th><td>0.0</td><td>1.0</td><td>0.0</td><td>0.0</td><td>0.0</td><td>1.0</td><td>0.0</td><td>1.0</td><td>1.0</td></tr><tr><th>2</th><td>0.0</td><td>0.0</td><td>0.0</td><td>1.0</td><td>1.0</td><td>0.0</td><td>1.0</td><td>0.0</td><td>0.0</td></tr><tr><th>3</th><td>1.0</td><td>0.0</td><td>0.0</td><td>0.0</td><td>0.0</td><td>0.0</td><td>0.0</td><td>0.0</td><td>0.0</td></tr><tr><th>4</th><td>0.0</td><td>0.0</td><td>1.0</td><td>0.0</td><td>0.0</td><td>0.0</td><td>0.0</td><td>0.0</td><td>0.0</td></tr></tbody></table>"
      ],
      "text/latex": [
       "\\begin{tabular}{r|cccccccccc}\n",
       "\t& x1 & x2 & x3 & x4 & x5 & x6 & x7 & x8 & x9 & \\\\\n",
       "\t\\hline\n",
       "\t& Float64 & Float64 & Float64 & Float64 & Float64 & Float64 & Float64 & Float64 & Float64 & \\\\\n",
       "\t\\hline\n",
       "\t1 & 0.0 & 1.0 & 0.0 & 0.0 & 0.0 & 1.0 & 0.0 & 1.0 & 1.0 & $\\dots$ \\\\\n",
       "\t2 & 0.0 & 0.0 & 0.0 & 1.0 & 1.0 & 0.0 & 1.0 & 0.0 & 0.0 & $\\dots$ \\\\\n",
       "\t3 & 1.0 & 0.0 & 0.0 & 0.0 & 0.0 & 0.0 & 0.0 & 0.0 & 0.0 & $\\dots$ \\\\\n",
       "\t4 & 0.0 & 0.0 & 1.0 & 0.0 & 0.0 & 0.0 & 0.0 & 0.0 & 0.0 & $\\dots$ \\\\\n",
       "\\end{tabular}\n"
      ],
      "text/plain": [
       "4×10310 DataFrame. Omitted printing of 10303 columns\n",
       "│ Row │ x1      │ x2      │ x3      │ x4      │ x5      │ x6      │ x7      │\n",
       "│     │ \u001b[90mFloat64\u001b[39m │ \u001b[90mFloat64\u001b[39m │ \u001b[90mFloat64\u001b[39m │ \u001b[90mFloat64\u001b[39m │ \u001b[90mFloat64\u001b[39m │ \u001b[90mFloat64\u001b[39m │ \u001b[90mFloat64\u001b[39m │\n",
       "├─────┼─────────┼─────────┼─────────┼─────────┼─────────┼─────────┼─────────┤\n",
       "│ 1   │ 0.0     │ 1.0     │ 0.0     │ 0.0     │ 0.0     │ 1.0     │ 0.0     │\n",
       "│ 2   │ 0.0     │ 0.0     │ 0.0     │ 1.0     │ 1.0     │ 0.0     │ 1.0     │\n",
       "│ 3   │ 1.0     │ 0.0     │ 0.0     │ 0.0     │ 0.0     │ 0.0     │ 0.0     │\n",
       "│ 4   │ 0.0     │ 0.0     │ 1.0     │ 0.0     │ 0.0     │ 0.0     │ 0.0     │"
      ]
     },
     "execution_count": 40,
     "metadata": {},
     "output_type": "execute_result"
    }
   ],
   "source": [
    "CSV.write(\"/Users/kathy908000/github/health-care-research/data/hingek4.csv\",  hingek4)\n",
    "CSV.read(\"/Users/kathy908000/github/health-care-research/data/hingek4.csv\")\n"
   ]
  },
  {
   "cell_type": "code",
   "execution_count": 41,
   "metadata": {},
   "outputs": [],
   "source": [
    "#k=3"
   ]
  },
  {
   "cell_type": "code",
   "execution_count": 4,
   "metadata": {},
   "outputs": [
    {
     "data": {
      "text/plain": [
       "920-element Array{Loss,1}:\n",
       " HuberLoss(1.0, RealDomain(), 1.0)\n",
       " HuberLoss(1.0, RealDomain(), 1.0)\n",
       " OrdinalHingeLoss(1, 10, 1.0, OrdinalDomain(1, 10))\n",
       " WeightedHingeLoss(1.0, BoolDomain(), 1.0)\n",
       " WeightedHingeLoss(1.0, BoolDomain(), 1.0)\n",
       " WeightedHingeLoss(1.0, BoolDomain(), 1.0)\n",
       " WeightedHingeLoss(1.0, BoolDomain(), 1.0)\n",
       " WeightedHingeLoss(1.0, BoolDomain(), 1.0)\n",
       " WeightedHingeLoss(1.0, BoolDomain(), 1.0)\n",
       " WeightedHingeLoss(1.0, BoolDomain(), 1.0)\n",
       " WeightedHingeLoss(1.0, BoolDomain(), 1.0)\n",
       " WeightedHingeLoss(1.0, BoolDomain(), 1.0)\n",
       " WeightedHingeLoss(1.0, BoolDomain(), 1.0)\n",
       " ⋮\n",
       " WeightedHingeLoss(1.0, BoolDomain(), 1.0)\n",
       " WeightedHingeLoss(1.0, BoolDomain(), 1.0)\n",
       " WeightedHingeLoss(1.0, BoolDomain(), 1.0)\n",
       " WeightedHingeLoss(1.0, BoolDomain(), 1.0)\n",
       " WeightedHingeLoss(1.0, BoolDomain(), 1.0)\n",
       " WeightedHingeLoss(1.0, BoolDomain(), 1.0)\n",
       " WeightedHingeLoss(1.0, BoolDomain(), 1.0)\n",
       " WeightedHingeLoss(1.0, BoolDomain(), 1.0)\n",
       " WeightedHingeLoss(1.0, BoolDomain(), 1.0)\n",
       " WeightedHingeLoss(1.0, BoolDomain(), 1.0)\n",
       " WeightedHingeLoss(1.0, BoolDomain(), 1.0)\n",
       " WeightedHingeLoss(1.0, BoolDomain(), 1.0)"
      ]
     },
     "execution_count": 4,
     "metadata": {},
     "output_type": "execute_result"
    }
   ],
   "source": [
    "loss1 = fill(HuberLoss(),2)\n",
    "loss2 = fill(HingeLoss(), 917)\n",
    "loss3 = fill(OrdinalHingeLoss(), 1)\n",
    "losses = [loss1; loss3; loss2]\n",
    "losses"
   ]
  },
  {
   "cell_type": "code",
   "execution_count": 5,
   "metadata": {
    "scrolled": true
   },
   "outputs": [
    {
     "name": "stdout",
     "output_type": "stream",
     "text": [
      "Fitting GLRM\n",
      "Iteration 10: objective value = 482563.07654725574\n",
      "Iteration 20: objective value = 461330.2897421785\n"
     ]
    },
    {
     "data": {
      "text/plain": [
       "([0.0 0.0 … 0.0 0.0; 0.0 1.0 … 0.0 0.0; 1.0 0.0 … 1.0 1.0], [2.9919505998550506 1.2469042536748358 … -1.0965651640812017 -1.5749765002517004; 3.074003062673055 1.2923864122797606 … -1.3052402261447096 -1.0442307116316778; 2.922126418113742 1.231171241626767 … -1.6986662000030162 -2.4770274108621764], ConvergenceHistory(\"ProxGradGLRM\", [Inf, 8.195791819949925e6, 5.956078499382302e6, 4.09231203441685e6, 2.6373012411984527e6, 1.6296923590188506e6, 1.0317402669532349e6, 716974.3799924289, 568354.8996308036, 506051.28120063554  …  460918.8549846397, 460638.88095666555, 460424.4809877514, 460234.35882961215, 460043.5937028405, 459826.0279343162, 459693.47326735355, 459535.9454037331, 459416.3547054248, 459332.00595671055], Float64[], [0.0, 0.0, 0.0, 0.0, 0.0, 0.0, 0.0, 0.0, 0.0, 0.0  …  0.0, 0.0, 0.0, 0.0, 0.0, 0.0, 0.0, 0.0, 0.0, 0.0], [0.0, 0.0, 0.0, 0.0, 0.0, 0.0, 0.0, 0.0, 0.0, 0.0  …  0.0, 0.0, 0.0, 0.0, 0.0, 0.0, 0.0, 0.0, 0.0, 0.0], [0.0, 16.01642417907715, 65.3450939655304, 80.59241104125977, 94.65644788742065, 107.28193783760071, 119.82031989097595, 132.9749870300293, 145.27193903923035, 157.42435383796692  …  309.30906915664673, 324.2982223033905, 337.43755626678467, 351.18830823898315, 364.3164050579071, 379.5311689376831, 392.82578206062317, 405.12210607528687, 416.9654061794281, 428.71490120887756], [0.0, 0.0, 0.0, 0.0, 0.0, 0.0, 0.0, 0.0, 0.0, 0.0  …  0.0, 0.0, 0.0, 0.0, 0.0, 0.0, 0.0, 0.0, 0.0, 0.0], 0))"
      ]
     },
     "execution_count": 5,
     "metadata": {},
     "output_type": "execute_result"
    }
   ],
   "source": [
    "k = 3\n",
    "A= df3\n",
    "rx = UnitOneSparseConstraint()\n",
    "ry = ZeroReg()\n",
    "glrm03 = GLRM(A,losses,rx,ry,k)\n",
    "X03,Y03,ch03 = fit!(glrm03)"
   ]
  },
  {
   "cell_type": "code",
   "execution_count": 6,
   "metadata": {},
   "outputs": [
    {
     "data": {
      "text/plain": [
       "3×920 Array{Float64,2}:\n",
       " 2.99195  1.2469   7.04899  -1.00119   …  -1.17109  -1.09657  -1.57498\n",
       " 3.074    1.29239  7.0002   -0.999838     -1.21881  -1.30524  -1.04423\n",
       " 2.92213  1.23117  7.00079  -1.02169      -1.17105  -1.69867  -2.47703"
      ]
     },
     "execution_count": 6,
     "metadata": {},
     "output_type": "execute_result"
    }
   ],
   "source": [
    "Y03"
   ]
  },
  {
   "cell_type": "code",
   "execution_count": 8,
   "metadata": {},
   "outputs": [
    {
     "data": {
      "text/html": [
       "<table class=\"data-frame\"><thead><tr><th></th><th>x1</th><th>x2</th><th>x3</th><th>x4</th><th>x5</th><th>x6</th><th>x7</th><th>x8</th><th>x9</th><th>x10</th><th>x11</th><th>x12</th><th>x13</th></tr><tr><th></th><th>Float64</th><th>Float64</th><th>Int64</th><th>Bool</th><th>Bool</th><th>Bool</th><th>Bool</th><th>Bool</th><th>Bool</th><th>Bool</th><th>Bool</th><th>Bool</th><th>Bool</th></tr></thead><tbody><p>3 rows × 920 columns (omitted printing of 907 columns)</p><tr><th>1</th><td>2.99195</td><td>1.2469</td><td>7</td><td>0</td><td>1</td><td>0</td><td>0</td><td>0</td><td>0</td><td>1</td><td>0</td><td>0</td><td>0</td></tr><tr><th>2</th><td>3.074</td><td>1.29239</td><td>7</td><td>0</td><td>1</td><td>0</td><td>0</td><td>0</td><td>0</td><td>1</td><td>0</td><td>0</td><td>0</td></tr><tr><th>3</th><td>2.92213</td><td>1.23117</td><td>7</td><td>0</td><td>1</td><td>0</td><td>0</td><td>0</td><td>0</td><td>1</td><td>0</td><td>0</td><td>0</td></tr></tbody></table>"
      ],
      "text/latex": [
       "\\begin{tabular}{r|cccccccccccccc}\n",
       "\t& x1 & x2 & x3 & x4 & x5 & x6 & x7 & x8 & x9 & x10 & x11 & x12 & x13 & \\\\\n",
       "\t\\hline\n",
       "\t& Float64 & Float64 & Int64 & Bool & Bool & Bool & Bool & Bool & Bool & Bool & Bool & Bool & Bool & \\\\\n",
       "\t\\hline\n",
       "\t1 & 2.99195 & 1.2469 & 7 & 0 & 1 & 0 & 0 & 0 & 0 & 1 & 0 & 0 & 0 & $\\dots$ \\\\\n",
       "\t2 & 3.074 & 1.29239 & 7 & 0 & 1 & 0 & 0 & 0 & 0 & 1 & 0 & 0 & 0 & $\\dots$ \\\\\n",
       "\t3 & 2.92213 & 1.23117 & 7 & 0 & 1 & 0 & 0 & 0 & 0 & 1 & 0 & 0 & 0 & $\\dots$ \\\\\n",
       "\\end{tabular}\n"
      ],
      "text/plain": [
       "3×920 DataFrame. Omitted printing of 911 columns\n",
       "│ Row │ x1      │ x2      │ x3    │ x4   │ x5   │ x6   │ x7   │ x8   │ x9   │\n",
       "│     │ \u001b[90mFloat64\u001b[39m │ \u001b[90mFloat64\u001b[39m │ \u001b[90mInt64\u001b[39m │ \u001b[90mBool\u001b[39m │ \u001b[90mBool\u001b[39m │ \u001b[90mBool\u001b[39m │ \u001b[90mBool\u001b[39m │ \u001b[90mBool\u001b[39m │ \u001b[90mBool\u001b[39m │\n",
       "├─────┼─────────┼─────────┼───────┼──────┼──────┼──────┼──────┼──────┼──────┤\n",
       "│ 1   │ 2.99195 │ 1.2469  │ 7     │ 0    │ 1    │ 0    │ 0    │ 0    │ 0    │\n",
       "│ 2   │ 3.074   │ 1.29239 │ 7     │ 0    │ 1    │ 0    │ 0    │ 0    │ 0    │\n",
       "│ 3   │ 2.92213 │ 1.23117 │ 7     │ 0    │ 1    │ 0    │ 0    │ 0    │ 0    │"
      ]
     },
     "execution_count": 8,
     "metadata": {},
     "output_type": "execute_result"
    }
   ],
   "source": [
    "imputey3 = impute(losses, Y03) \n",
    "imputey3d  = convert(DataFrame, imputey3) \n",
    "CSV.write(\"/Users/kathy908000/github/health-care-research/data/iy3.csv\",  imputey3d)\n",
    "CSV.read(\"/Users/kathy908000/github/health-care-research/data/iy3.csv\")"
   ]
  },
  {
   "cell_type": "code",
   "execution_count": 9,
   "metadata": {},
   "outputs": [
    {
     "data": {
      "text/html": [
       "<table class=\"data-frame\"><thead><tr><th></th><th>x1</th><th>x2</th><th>x3</th><th>x4</th><th>x5</th><th>x6</th><th>x7</th><th>x8</th><th>x9</th></tr><tr><th></th><th>Float64</th><th>Float64</th><th>Float64</th><th>Float64</th><th>Float64</th><th>Float64</th><th>Float64</th><th>Float64</th><th>Float64</th></tr></thead><tbody><p>3 rows × 10,310 columns (omitted printing of 10301 columns)</p><tr><th>1</th><td>0.0</td><td>0.0</td><td>0.0</td><td>1.0</td><td>1.0</td><td>0.0</td><td>0.0</td><td>1.0</td><td>1.0</td></tr><tr><th>2</th><td>0.0</td><td>1.0</td><td>0.0</td><td>0.0</td><td>0.0</td><td>1.0</td><td>1.0</td><td>0.0</td><td>0.0</td></tr><tr><th>3</th><td>1.0</td><td>0.0</td><td>1.0</td><td>0.0</td><td>0.0</td><td>0.0</td><td>0.0</td><td>0.0</td><td>0.0</td></tr></tbody></table>"
      ],
      "text/latex": [
       "\\begin{tabular}{r|cccccccccc}\n",
       "\t& x1 & x2 & x3 & x4 & x5 & x6 & x7 & x8 & x9 & \\\\\n",
       "\t\\hline\n",
       "\t& Float64 & Float64 & Float64 & Float64 & Float64 & Float64 & Float64 & Float64 & Float64 & \\\\\n",
       "\t\\hline\n",
       "\t1 & 0.0 & 0.0 & 0.0 & 1.0 & 1.0 & 0.0 & 0.0 & 1.0 & 1.0 & $\\dots$ \\\\\n",
       "\t2 & 0.0 & 1.0 & 0.0 & 0.0 & 0.0 & 1.0 & 1.0 & 0.0 & 0.0 & $\\dots$ \\\\\n",
       "\t3 & 1.0 & 0.0 & 1.0 & 0.0 & 0.0 & 0.0 & 0.0 & 0.0 & 0.0 & $\\dots$ \\\\\n",
       "\\end{tabular}\n"
      ],
      "text/plain": [
       "3×10310 DataFrame. Omitted printing of 10303 columns\n",
       "│ Row │ x1      │ x2      │ x3      │ x4      │ x5      │ x6      │ x7      │\n",
       "│     │ \u001b[90mFloat64\u001b[39m │ \u001b[90mFloat64\u001b[39m │ \u001b[90mFloat64\u001b[39m │ \u001b[90mFloat64\u001b[39m │ \u001b[90mFloat64\u001b[39m │ \u001b[90mFloat64\u001b[39m │ \u001b[90mFloat64\u001b[39m │\n",
       "├─────┼─────────┼─────────┼─────────┼─────────┼─────────┼─────────┼─────────┤\n",
       "│ 1   │ 0.0     │ 0.0     │ 0.0     │ 1.0     │ 1.0     │ 0.0     │ 0.0     │\n",
       "│ 2   │ 0.0     │ 1.0     │ 0.0     │ 0.0     │ 0.0     │ 1.0     │ 1.0     │\n",
       "│ 3   │ 1.0     │ 0.0     │ 1.0     │ 0.0     │ 0.0     │ 0.0     │ 0.0     │"
      ]
     },
     "execution_count": 9,
     "metadata": {},
     "output_type": "execute_result"
    }
   ],
   "source": [
    "hingek3= convert(DataFrame, X03) "
   ]
  },
  {
   "cell_type": "code",
   "execution_count": 10,
   "metadata": {
    "scrolled": true
   },
   "outputs": [
    {
     "data": {
      "text/html": [
       "<table class=\"data-frame\"><thead><tr><th></th><th>x1</th><th>x2</th><th>x3</th><th>x4</th><th>x5</th><th>x6</th><th>x7</th><th>x8</th><th>x9</th></tr><tr><th></th><th>Float64</th><th>Float64</th><th>Float64</th><th>Float64</th><th>Float64</th><th>Float64</th><th>Float64</th><th>Float64</th><th>Float64</th></tr></thead><tbody><p>3 rows × 10,310 columns (omitted printing of 10301 columns)</p><tr><th>1</th><td>0.0</td><td>0.0</td><td>0.0</td><td>1.0</td><td>1.0</td><td>0.0</td><td>0.0</td><td>1.0</td><td>1.0</td></tr><tr><th>2</th><td>0.0</td><td>1.0</td><td>0.0</td><td>0.0</td><td>0.0</td><td>1.0</td><td>1.0</td><td>0.0</td><td>0.0</td></tr><tr><th>3</th><td>1.0</td><td>0.0</td><td>1.0</td><td>0.0</td><td>0.0</td><td>0.0</td><td>0.0</td><td>0.0</td><td>0.0</td></tr></tbody></table>"
      ],
      "text/latex": [
       "\\begin{tabular}{r|cccccccccc}\n",
       "\t& x1 & x2 & x3 & x4 & x5 & x6 & x7 & x8 & x9 & \\\\\n",
       "\t\\hline\n",
       "\t& Float64 & Float64 & Float64 & Float64 & Float64 & Float64 & Float64 & Float64 & Float64 & \\\\\n",
       "\t\\hline\n",
       "\t1 & 0.0 & 0.0 & 0.0 & 1.0 & 1.0 & 0.0 & 0.0 & 1.0 & 1.0 & $\\dots$ \\\\\n",
       "\t2 & 0.0 & 1.0 & 0.0 & 0.0 & 0.0 & 1.0 & 1.0 & 0.0 & 0.0 & $\\dots$ \\\\\n",
       "\t3 & 1.0 & 0.0 & 1.0 & 0.0 & 0.0 & 0.0 & 0.0 & 0.0 & 0.0 & $\\dots$ \\\\\n",
       "\\end{tabular}\n"
      ],
      "text/plain": [
       "3×10310 DataFrame. Omitted printing of 10303 columns\n",
       "│ Row │ x1      │ x2      │ x3      │ x4      │ x5      │ x6      │ x7      │\n",
       "│     │ \u001b[90mFloat64\u001b[39m │ \u001b[90mFloat64\u001b[39m │ \u001b[90mFloat64\u001b[39m │ \u001b[90mFloat64\u001b[39m │ \u001b[90mFloat64\u001b[39m │ \u001b[90mFloat64\u001b[39m │ \u001b[90mFloat64\u001b[39m │\n",
       "├─────┼─────────┼─────────┼─────────┼─────────┼─────────┼─────────┼─────────┤\n",
       "│ 1   │ 0.0     │ 0.0     │ 0.0     │ 1.0     │ 1.0     │ 0.0     │ 0.0     │\n",
       "│ 2   │ 0.0     │ 1.0     │ 0.0     │ 0.0     │ 0.0     │ 1.0     │ 1.0     │\n",
       "│ 3   │ 1.0     │ 0.0     │ 1.0     │ 0.0     │ 0.0     │ 0.0     │ 0.0     │"
      ]
     },
     "execution_count": 10,
     "metadata": {},
     "output_type": "execute_result"
    }
   ],
   "source": [
    "CSV.write(\"/Users/kathy908000/github/health-care-research/data/hingek3_2.csv\",  hingek3)\n",
    "CSV.read(\"/Users/kathy908000/github/health-care-research/data/hingek3_2.csv\")\n"
   ]
  },
  {
   "cell_type": "markdown",
   "metadata": {},
   "source": [
    "# initialize.jl kmeans++"
   ]
  },
  {
   "cell_type": "code",
   "execution_count": null,
   "metadata": {},
   "outputs": [],
   "source": [
    "#attemp3"
   ]
  },
  {
   "cell_type": "code",
   "execution_count": 72,
   "metadata": {
    "scrolled": true
   },
   "outputs": [
    {
     "data": {
      "text/html": [
       "<table class=\"data-frame\"><thead><tr><th></th><th>LOS</th><th>HOSPITALIZATION</th><th>ORDINAL_AGE</th><th>ELECTIVE</th><th>EMERGENCY</th><th>NEWBORN</th><th>URGENT</th><th>Government</th></tr><tr><th></th><th>Float64</th><th>Int64</th><th>Int64</th><th>Int64</th><th>Int64</th><th>Int64</th><th>Int64</th><th>Int64</th></tr></thead><tbody><p>50 rows × 920 columns (omitted printing of 912 columns)</p><tr><th>1</th><td>43.8179</td><td>2</td><td>7</td><td>0</td><td>1</td><td>0</td><td>0</td><td>0</td></tr><tr><th>2</th><td>4.7908</td><td>3</td><td>6</td><td>0</td><td>1</td><td>0</td><td>0</td><td>0</td></tr><tr><th>3</th><td>6.4518</td><td>2</td><td>7</td><td>0</td><td>1</td><td>0</td><td>0</td><td>0</td></tr><tr><th>4</th><td>7.8062</td><td>4</td><td>8</td><td>0</td><td>1</td><td>0</td><td>0</td><td>0</td></tr><tr><th>5</th><td>10.2089</td><td>2</td><td>5</td><td>0</td><td>1</td><td>0</td><td>0</td><td>0</td></tr><tr><th>6</th><td>9.7863</td><td>2</td><td>10</td><td>0</td><td>1</td><td>0</td><td>0</td><td>0</td></tr><tr><th>7</th><td>2.9162</td><td>1</td><td>9</td><td>0</td><td>1</td><td>0</td><td>0</td><td>0</td></tr><tr><th>8</th><td>0.8526</td><td>1</td><td>9</td><td>0</td><td>1</td><td>0</td><td>0</td><td>0</td></tr><tr><th>9</th><td>2.2097</td><td>1</td><td>8</td><td>0</td><td>1</td><td>0</td><td>0</td><td>0</td></tr><tr><th>10</th><td>15.7045</td><td>3</td><td>5</td><td>1</td><td>1</td><td>0</td><td>0</td><td>0</td></tr><tr><th>11</th><td>8.888</td><td>1</td><td>8</td><td>0</td><td>1</td><td>0</td><td>0</td><td>0</td></tr><tr><th>12</th><td>0.8438</td><td>1</td><td>8</td><td>1</td><td>0</td><td>0</td><td>0</td><td>0</td></tr><tr><th>13</th><td>15.6374</td><td>1</td><td>5</td><td>0</td><td>1</td><td>0</td><td>0</td><td>0</td></tr><tr><th>14</th><td>1.0439</td><td>1</td><td>7</td><td>0</td><td>1</td><td>0</td><td>0</td><td>0</td></tr><tr><th>15</th><td>5.2938</td><td>2</td><td>8</td><td>1</td><td>1</td><td>0</td><td>0</td><td>0</td></tr><tr><th>16</th><td>1.0458</td><td>1</td><td>9</td><td>0</td><td>1</td><td>0</td><td>0</td><td>0</td></tr><tr><th>17</th><td>0.645</td><td>2</td><td>4</td><td>1</td><td>1</td><td>0</td><td>0</td><td>0</td></tr><tr><th>18</th><td>3.452</td><td>1</td><td>8</td><td>0</td><td>1</td><td>0</td><td>0</td><td>0</td></tr><tr><th>19</th><td>3.2075</td><td>1</td><td>8</td><td>0</td><td>1</td><td>0</td><td>0</td><td>0</td></tr><tr><th>20</th><td>1.955</td><td>1</td><td>9</td><td>0</td><td>1</td><td>0</td><td>0</td><td>0</td></tr><tr><th>21</th><td>1.8111</td><td>1</td><td>4</td><td>0</td><td>1</td><td>0</td><td>0</td><td>0</td></tr><tr><th>22</th><td>2.2496</td><td>1</td><td>7</td><td>0</td><td>1</td><td>0</td><td>0</td><td>0</td></tr><tr><th>23</th><td>7.3587</td><td>3</td><td>6</td><td>0</td><td>1</td><td>0</td><td>0</td><td>0</td></tr><tr><th>24</th><td>3.2361</td><td>1</td><td>7</td><td>1</td><td>0</td><td>0</td><td>0</td><td>0</td></tr><tr><th>25</th><td>2.266</td><td>1</td><td>9</td><td>0</td><td>1</td><td>0</td><td>0</td><td>0</td></tr><tr><th>26</th><td>9.1206</td><td>2</td><td>9</td><td>0</td><td>1</td><td>0</td><td>0</td><td>0</td></tr><tr><th>27</th><td>3.1407</td><td>1</td><td>4</td><td>0</td><td>1</td><td>0</td><td>0</td><td>0</td></tr><tr><th>28</th><td>3.89</td><td>1</td><td>6</td><td>0</td><td>1</td><td>0</td><td>0</td><td>0</td></tr><tr><th>29</th><td>9.036</td><td>1</td><td>7</td><td>0</td><td>1</td><td>0</td><td>0</td><td>0</td></tr><tr><th>30</th><td>0.898</td><td>2</td><td>8</td><td>1</td><td>1</td><td>0</td><td>0</td><td>0</td></tr><tr><th>&vellip;</th><td>&vellip;</td><td>&vellip;</td><td>&vellip;</td><td>&vellip;</td><td>&vellip;</td><td>&vellip;</td><td>&vellip;</td><td>&vellip;</td></tr></tbody></table>"
      ],
      "text/latex": [
       "\\begin{tabular}{r|ccccccccc}\n",
       "\t& LOS & HOSPITALIZATION & ORDINAL\\_AGE & ELECTIVE & EMERGENCY & NEWBORN & URGENT & Government & \\\\\n",
       "\t\\hline\n",
       "\t& Float64 & Int64 & Int64 & Int64 & Int64 & Int64 & Int64 & Int64 & \\\\\n",
       "\t\\hline\n",
       "\t1 & 43.8179 & 2 & 7 & 0 & 1 & 0 & 0 & 0 & $\\dots$ \\\\\n",
       "\t2 & 4.7908 & 3 & 6 & 0 & 1 & 0 & 0 & 0 & $\\dots$ \\\\\n",
       "\t3 & 6.4518 & 2 & 7 & 0 & 1 & 0 & 0 & 0 & $\\dots$ \\\\\n",
       "\t4 & 7.8062 & 4 & 8 & 0 & 1 & 0 & 0 & 0 & $\\dots$ \\\\\n",
       "\t5 & 10.2089 & 2 & 5 & 0 & 1 & 0 & 0 & 0 & $\\dots$ \\\\\n",
       "\t6 & 9.7863 & 2 & 10 & 0 & 1 & 0 & 0 & 0 & $\\dots$ \\\\\n",
       "\t7 & 2.9162 & 1 & 9 & 0 & 1 & 0 & 0 & 0 & $\\dots$ \\\\\n",
       "\t8 & 0.8526 & 1 & 9 & 0 & 1 & 0 & 0 & 0 & $\\dots$ \\\\\n",
       "\t9 & 2.2097 & 1 & 8 & 0 & 1 & 0 & 0 & 0 & $\\dots$ \\\\\n",
       "\t10 & 15.7045 & 3 & 5 & 1 & 1 & 0 & 0 & 0 & $\\dots$ \\\\\n",
       "\t11 & 8.888 & 1 & 8 & 0 & 1 & 0 & 0 & 0 & $\\dots$ \\\\\n",
       "\t12 & 0.8438 & 1 & 8 & 1 & 0 & 0 & 0 & 0 & $\\dots$ \\\\\n",
       "\t13 & 15.6374 & 1 & 5 & 0 & 1 & 0 & 0 & 0 & $\\dots$ \\\\\n",
       "\t14 & 1.0439 & 1 & 7 & 0 & 1 & 0 & 0 & 0 & $\\dots$ \\\\\n",
       "\t15 & 5.2938 & 2 & 8 & 1 & 1 & 0 & 0 & 0 & $\\dots$ \\\\\n",
       "\t16 & 1.0458 & 1 & 9 & 0 & 1 & 0 & 0 & 0 & $\\dots$ \\\\\n",
       "\t17 & 0.645 & 2 & 4 & 1 & 1 & 0 & 0 & 0 & $\\dots$ \\\\\n",
       "\t18 & 3.452 & 1 & 8 & 0 & 1 & 0 & 0 & 0 & $\\dots$ \\\\\n",
       "\t19 & 3.2075 & 1 & 8 & 0 & 1 & 0 & 0 & 0 & $\\dots$ \\\\\n",
       "\t20 & 1.955 & 1 & 9 & 0 & 1 & 0 & 0 & 0 & $\\dots$ \\\\\n",
       "\t21 & 1.8111 & 1 & 4 & 0 & 1 & 0 & 0 & 0 & $\\dots$ \\\\\n",
       "\t22 & 2.2496 & 1 & 7 & 0 & 1 & 0 & 0 & 0 & $\\dots$ \\\\\n",
       "\t23 & 7.3587 & 3 & 6 & 0 & 1 & 0 & 0 & 0 & $\\dots$ \\\\\n",
       "\t24 & 3.2361 & 1 & 7 & 1 & 0 & 0 & 0 & 0 & $\\dots$ \\\\\n",
       "\t25 & 2.266 & 1 & 9 & 0 & 1 & 0 & 0 & 0 & $\\dots$ \\\\\n",
       "\t26 & 9.1206 & 2 & 9 & 0 & 1 & 0 & 0 & 0 & $\\dots$ \\\\\n",
       "\t27 & 3.1407 & 1 & 4 & 0 & 1 & 0 & 0 & 0 & $\\dots$ \\\\\n",
       "\t28 & 3.89 & 1 & 6 & 0 & 1 & 0 & 0 & 0 & $\\dots$ \\\\\n",
       "\t29 & 9.036 & 1 & 7 & 0 & 1 & 0 & 0 & 0 & $\\dots$ \\\\\n",
       "\t30 & 0.898 & 2 & 8 & 1 & 1 & 0 & 0 & 0 & $\\dots$ \\\\\n",
       "\t$\\dots$ & $\\dots$ & $\\dots$ & $\\dots$ & $\\dots$ & $\\dots$ & $\\dots$ & $\\dots$ & $\\dots$ &  \\\\\n",
       "\\end{tabular}\n"
      ],
      "text/plain": [
       "50×920 DataFrame. Omitted printing of 915 columns\n",
       "│ Row │ LOS     │ HOSPITALIZATION │ ORDINAL_AGE │ ELECTIVE │ EMERGENCY │\n",
       "│     │ \u001b[90mFloat64\u001b[39m │ \u001b[90mInt64\u001b[39m           │ \u001b[90mInt64\u001b[39m       │ \u001b[90mInt64\u001b[39m    │ \u001b[90mInt64\u001b[39m     │\n",
       "├─────┼─────────┼─────────────────┼─────────────┼──────────┼───────────┤\n",
       "│ 1   │ 43.8179 │ 2               │ 7           │ 0        │ 1         │\n",
       "│ 2   │ 4.7908  │ 3               │ 6           │ 0        │ 1         │\n",
       "│ 3   │ 6.4518  │ 2               │ 7           │ 0        │ 1         │\n",
       "│ 4   │ 7.8062  │ 4               │ 8           │ 0        │ 1         │\n",
       "│ 5   │ 10.2089 │ 2               │ 5           │ 0        │ 1         │\n",
       "│ 6   │ 9.7863  │ 2               │ 10          │ 0        │ 1         │\n",
       "│ 7   │ 2.9162  │ 1               │ 9           │ 0        │ 1         │\n",
       "│ 8   │ 0.8526  │ 1               │ 9           │ 0        │ 1         │\n",
       "│ 9   │ 2.2097  │ 1               │ 8           │ 0        │ 1         │\n",
       "│ 10  │ 15.7045 │ 3               │ 5           │ 1        │ 1         │\n",
       "⋮\n",
       "│ 40  │ 1.2885  │ 1               │ 7           │ 1        │ 0         │\n",
       "│ 41  │ 3.9331  │ 1               │ 7           │ 0        │ 1         │\n",
       "│ 42  │ 1.2145  │ 1               │ 7           │ 1        │ 0         │\n",
       "│ 43  │ 0.9416  │ 1               │ 7           │ 0        │ 1         │\n",
       "│ 44  │ 1.1296  │ 1               │ 5           │ 0        │ 1         │\n",
       "│ 45  │ 0.8597  │ 1               │ 10          │ 1        │ 0         │\n",
       "│ 46  │ 6.5555  │ 1               │ 9           │ 0        │ 1         │\n",
       "│ 47  │ 3.9931  │ 1               │ 7           │ 1        │ 0         │\n",
       "│ 48  │ 10.3884 │ 1               │ 6           │ 0        │ 1         │\n",
       "│ 49  │ 1.6226  │ 1               │ 9           │ 0        │ 1         │\n",
       "│ 50  │ 1.4593  │ 1               │ 7           │ 0        │ 1         │"
      ]
     },
     "execution_count": 72,
     "metadata": {},
     "output_type": "execute_result"
    }
   ],
   "source": [
    "sdf3 = df3[sample(axes(df3, 1), 50; replace = false, ordered = true), :]"
   ]
  },
  {
   "cell_type": "code",
   "execution_count": 74,
   "metadata": {},
   "outputs": [
    {
     "data": {
      "text/plain": [
       "GLRM(50×920 DataFrame. Omitted printing of 915 columns\n",
       "│ Row │ LOS     │ HOSPITALIZATION │ ORDINAL_AGE │ ELECTIVE │ EMERGENCY │\n",
       "│     │ \u001b[90mFloat64\u001b[39m │ \u001b[90mInt64\u001b[39m           │ \u001b[90mInt64\u001b[39m       │ \u001b[90mInt64\u001b[39m    │ \u001b[90mInt64\u001b[39m     │\n",
       "├─────┼─────────┼─────────────────┼─────────────┼──────────┼───────────┤\n",
       "│ 1   │ 43.8179 │ 2               │ 7           │ 0        │ 1         │\n",
       "│ 2   │ 4.7908  │ 3               │ 6           │ 0        │ 1         │\n",
       "│ 3   │ 6.4518  │ 2               │ 7           │ 0        │ 1         │\n",
       "│ 4   │ 7.8062  │ 4               │ 8           │ 0        │ 1         │\n",
       "│ 5   │ 10.2089 │ 2               │ 5           │ 0        │ 1         │\n",
       "│ 6   │ 9.7863  │ 2               │ 10          │ 0        │ 1         │\n",
       "│ 7   │ 2.9162  │ 1               │ 9           │ 0        │ 1         │\n",
       "│ 8   │ 0.8526  │ 1               │ 9           │ 0        │ 1         │\n",
       "│ 9   │ 2.2097  │ 1               │ 8           │ 0        │ 1         │\n",
       "│ 10  │ 15.7045 │ 3               │ 5           │ 1        │ 1         │\n",
       "⋮\n",
       "│ 40  │ 1.2885  │ 1               │ 7           │ 1        │ 0         │\n",
       "│ 41  │ 3.9331  │ 1               │ 7           │ 0        │ 1         │\n",
       "│ 42  │ 1.2145  │ 1               │ 7           │ 1        │ 0         │\n",
       "│ 43  │ 0.9416  │ 1               │ 7           │ 0        │ 1         │\n",
       "│ 44  │ 1.1296  │ 1               │ 5           │ 0        │ 1         │\n",
       "│ 45  │ 0.8597  │ 1               │ 10          │ 1        │ 0         │\n",
       "│ 46  │ 6.5555  │ 1               │ 9           │ 0        │ 1         │\n",
       "│ 47  │ 3.9931  │ 1               │ 7           │ 1        │ 0         │\n",
       "│ 48  │ 10.3884 │ 1               │ 6           │ 0        │ 1         │\n",
       "│ 49  │ 1.6226  │ 1               │ 9           │ 0        │ 1         │\n",
       "│ 50  │ 1.4593  │ 1               │ 7           │ 0        │ 1         │, Loss[QuadLoss(1.0, RealDomain()), QuadLoss(1.0, RealDomain()), QuadLoss(1.0, RealDomain()), QuadLoss(1.0, RealDomain()), QuadLoss(1.0, RealDomain()), QuadLoss(1.0, RealDomain()), QuadLoss(1.0, RealDomain()), QuadLoss(1.0, RealDomain()), QuadLoss(1.0, RealDomain()), QuadLoss(1.0, RealDomain())  …  QuadLoss(1.0, RealDomain()), QuadLoss(1.0, RealDomain()), QuadLoss(1.0, RealDomain()), QuadLoss(1.0, RealDomain()), QuadLoss(1.0, RealDomain()), QuadLoss(1.0, RealDomain()), QuadLoss(1.0, RealDomain()), QuadLoss(1.0, RealDomain()), QuadLoss(1.0, RealDomain()), QuadLoss(1.0, RealDomain())], Regularizer[UnitOneSparseConstraint(), UnitOneSparseConstraint(), UnitOneSparseConstraint(), UnitOneSparseConstraint(), UnitOneSparseConstraint(), UnitOneSparseConstraint(), UnitOneSparseConstraint(), UnitOneSparseConstraint(), UnitOneSparseConstraint(), UnitOneSparseConstraint()  …  UnitOneSparseConstraint(), UnitOneSparseConstraint(), UnitOneSparseConstraint(), UnitOneSparseConstraint(), UnitOneSparseConstraint(), UnitOneSparseConstraint(), UnitOneSparseConstraint(), UnitOneSparseConstraint(), UnitOneSparseConstraint(), UnitOneSparseConstraint()], Regularizer[ZeroReg(), ZeroReg(), ZeroReg(), ZeroReg(), ZeroReg(), ZeroReg(), ZeroReg(), ZeroReg(), ZeroReg(), ZeroReg()  …  ZeroReg(), ZeroReg(), ZeroReg(), ZeroReg(), ZeroReg(), ZeroReg(), ZeroReg(), ZeroReg(), ZeroReg(), ZeroReg()], 3, UnitRange{Int64}[1:920, 1:920, 1:920, 1:920, 1:920, 1:920, 1:920, 1:920, 1:920, 1:920  …  1:920, 1:920, 1:920, 1:920, 1:920, 1:920, 1:920, 1:920, 1:920, 1:920], UnitRange{Int64}[1:50, 1:50, 1:50, 1:50, 1:50, 1:50, 1:50, 1:50, 1:50, 1:50  …  1:50, 1:50, 1:50, 1:50, 1:50, 1:50, 1:50, 1:50, 1:50, 1:50], [0.30887596402643197 0.04980920440616662 … -0.45093530318567737 0.12998337684456518; 0.9217911026229918 -0.6212196235625963 … 0.6372477224649967 -2.227681930121021; -1.145852043030402 -0.2701562372627583 … -1.3481632372016255 0.7930961367885965], [-1.6815835309744143 1.183442656187243 … -1.186891516484011 0.6864676635335901; -0.4742958813107629 1.2366635354461035 … 0.02014966285203646 1.0912201716636531; -0.14076518586445455 0.5197373192415015 … 0.13653896667947688 0.2722535622461632])"
      ]
     },
     "execution_count": 74,
     "metadata": {},
     "output_type": "execute_result"
    }
   ],
   "source": [
    "k=3\n",
    "A= sdf3\n",
    "losses = QuadLoss() # minimize squared distance to cluster centroids\n",
    "rx = UnitOneSparseConstraint() # each row is assigned to exactly one cluster\n",
    "ry = ZeroReg() # no regularization on the cluster centroids\n",
    "glrm = GLRM(A,losses,rx,ry,k)"
   ]
  },
  {
   "cell_type": "code",
   "execution_count": 75,
   "metadata": {},
   "outputs": [
    {
     "ename": "ArgumentError",
     "evalue": "ArgumentError: indexed assignment with a single value to many locations is not supported; perhaps use broadcasting `.=` instead?",
     "output_type": "error",
     "traceback": [
      "ArgumentError: indexed assignment with a single value to many locations is not supported; perhaps use broadcasting `.=` instead?",
      "",
      "Stacktrace:",
      " [1] setindex_shape_check(::DataFrameRow{DataFrame,DataFrames.SubIndex{DataFrames.Index,UnitRange{Int64},UnitRange{Int64}}}, ::Int64, ::Int64) at ./indices.jl:258",
      " [2] macro expansion at ./multidimensional.jl:779 [inlined]",
      " [3] _unsafe_setindex!(::IndexLinear, ::Array{Float64,2}, ::DataFrameRow{DataFrame,DataFrames.SubIndex{DataFrames.Index,UnitRange{Int64},UnitRange{Int64}}}, ::Int64, ::UnitRange{Int64}) at ./multidimensional.jl:774",
      " [4] _setindex! at ./multidimensional.jl:769 [inlined]",
      " [5] setindex!(::Array{Float64,2}, ::DataFrameRow{DataFrame,DataFrames.SubIndex{DataFrames.Index,UnitRange{Int64},UnitRange{Int64}}}, ::Int64, ::UnitRange{Int64}) at ./abstractarray.jl:1073",
      " [6] init_kmeanspp!(::GLRM) at /Users/kathy908000/.julia/packages/LowRankModels/uhtB9/src/initialize.jl:16",
      " [7] top-level scope at In[75]:1"
     ]
    }
   ],
   "source": [
    "init_kmeanspp!(glrm)"
   ]
  },
  {
   "cell_type": "code",
   "execution_count": null,
   "metadata": {},
   "outputs": [],
   "source": []
  },
  {
   "cell_type": "code",
   "execution_count": null,
   "metadata": {},
   "outputs": [],
   "source": []
  },
  {
   "cell_type": "code",
   "execution_count": null,
   "metadata": {},
   "outputs": [],
   "source": [
    "#attempt2 simple kmeans"
   ]
  },
  {
   "cell_type": "code",
   "execution_count": 61,
   "metadata": {},
   "outputs": [],
   "source": [
    "m=50 \n",
    "n=50\n",
    "k= 10\n",
    "Y = randn(k,n)\n",
    "A = zeros(m,n)\n",
    "for i=1:m\n",
    "    A[i,:] = Y[mod(i,k)+1,:]\n",
    "end"
   ]
  },
  {
   "cell_type": "code",
   "execution_count": 62,
   "metadata": {
    "scrolled": true
   },
   "outputs": [
    {
     "data": {
      "text/plain": [
       "50×50 Array{Float64,2}:\n",
       " -1.46038    0.0716149   0.215283   …  -0.641722  -1.30737     2.49672\n",
       " -1.15556    1.22535     1.19426        0.387614   0.781833    0.285371\n",
       "  0.875566   0.112523   -0.205976      -1.49142   -1.9964      0.411763\n",
       "  0.171155   1.3145      0.83486       -0.244444  -0.323442    1.76746\n",
       " -1.45253   -2.37038    -1.77734        1.53572    0.351065   -1.88741\n",
       " -0.322257   0.554184   -0.205239   …  -0.533002   0.690718    0.978565\n",
       " -2.24775   -0.129263    1.84563        0.786283  -0.86104    -2.10057\n",
       "  0.240279   0.522688    0.0203872      0.182569  -0.0850715  -1.06866\n",
       " -0.285488  -1.11542    -1.3234        -0.301695   2.15077     0.246177\n",
       " -1.13708    0.944109    0.541157       0.05824    1.19009    -0.661212\n",
       " -1.46038    0.0716149   0.215283   …  -0.641722  -1.30737     2.49672\n",
       " -1.15556    1.22535     1.19426        0.387614   0.781833    0.285371\n",
       "  0.875566   0.112523   -0.205976      -1.49142   -1.9964      0.411763\n",
       "  ⋮                                 ⋱                         \n",
       " -0.285488  -1.11542    -1.3234        -0.301695   2.15077     0.246177\n",
       " -1.13708    0.944109    0.541157       0.05824    1.19009    -0.661212\n",
       " -1.46038    0.0716149   0.215283   …  -0.641722  -1.30737     2.49672\n",
       " -1.15556    1.22535     1.19426        0.387614   0.781833    0.285371\n",
       "  0.875566   0.112523   -0.205976      -1.49142   -1.9964      0.411763\n",
       "  0.171155   1.3145      0.83486       -0.244444  -0.323442    1.76746\n",
       " -1.45253   -2.37038    -1.77734        1.53572    0.351065   -1.88741\n",
       " -0.322257   0.554184   -0.205239   …  -0.533002   0.690718    0.978565\n",
       " -2.24775   -0.129263    1.84563        0.786283  -0.86104    -2.10057\n",
       "  0.240279   0.522688    0.0203872      0.182569  -0.0850715  -1.06866\n",
       " -0.285488  -1.11542    -1.3234        -0.301695   2.15077     0.246177\n",
       " -1.13708    0.944109    0.541157       0.05824    1.19009    -0.661212"
      ]
     },
     "execution_count": 62,
     "metadata": {},
     "output_type": "execute_result"
    }
   ],
   "source": [
    "A"
   ]
  },
  {
   "cell_type": "code",
   "execution_count": 63,
   "metadata": {
    "collapsed": true
   },
   "outputs": [
    {
     "data": {
      "text/plain": [
       "GLRM([-1.4603847136505699 0.07161494715171025 … -1.3073674528522583 2.4967164641041895; -1.1555632856820286 1.22534633566474 … 0.7818326084832043 0.28537127875724194; … ; -0.28548771807588347 -1.1154168641368734 … 2.1507732486701703 0.24617685125348845; -1.1370826694305518 0.9441087218239596 … 1.1900938216756183 -0.6612122030710992], Loss[QuadLoss(1.0, RealDomain()), QuadLoss(1.0, RealDomain()), QuadLoss(1.0, RealDomain()), QuadLoss(1.0, RealDomain()), QuadLoss(1.0, RealDomain()), QuadLoss(1.0, RealDomain()), QuadLoss(1.0, RealDomain()), QuadLoss(1.0, RealDomain()), QuadLoss(1.0, RealDomain()), QuadLoss(1.0, RealDomain())  …  QuadLoss(1.0, RealDomain()), QuadLoss(1.0, RealDomain()), QuadLoss(1.0, RealDomain()), QuadLoss(1.0, RealDomain()), QuadLoss(1.0, RealDomain()), QuadLoss(1.0, RealDomain()), QuadLoss(1.0, RealDomain()), QuadLoss(1.0, RealDomain()), QuadLoss(1.0, RealDomain()), QuadLoss(1.0, RealDomain())], Regularizer[UnitOneSparseConstraint(), UnitOneSparseConstraint(), UnitOneSparseConstraint(), UnitOneSparseConstraint(), UnitOneSparseConstraint(), UnitOneSparseConstraint(), UnitOneSparseConstraint(), UnitOneSparseConstraint(), UnitOneSparseConstraint(), UnitOneSparseConstraint()  …  UnitOneSparseConstraint(), UnitOneSparseConstraint(), UnitOneSparseConstraint(), UnitOneSparseConstraint(), UnitOneSparseConstraint(), UnitOneSparseConstraint(), UnitOneSparseConstraint(), UnitOneSparseConstraint(), UnitOneSparseConstraint(), UnitOneSparseConstraint()], Regularizer[ZeroReg(), ZeroReg(), ZeroReg(), ZeroReg(), ZeroReg(), ZeroReg(), ZeroReg(), ZeroReg(), ZeroReg(), ZeroReg()  …  ZeroReg(), ZeroReg(), ZeroReg(), ZeroReg(), ZeroReg(), ZeroReg(), ZeroReg(), ZeroReg(), ZeroReg(), ZeroReg()], 10, UnitRange{Int64}[1:50, 1:50, 1:50, 1:50, 1:50, 1:50, 1:50, 1:50, 1:50, 1:50  …  1:50, 1:50, 1:50, 1:50, 1:50, 1:50, 1:50, 1:50, 1:50, 1:50], UnitRange{Int64}[1:50, 1:50, 1:50, 1:50, 1:50, 1:50, 1:50, 1:50, 1:50, 1:50  …  1:50, 1:50, 1:50, 1:50, 1:50, 1:50, 1:50, 1:50, 1:50, 1:50], [-0.8762324554863393 -0.5269355575205072 … 1.4396593489244955 -0.024797141445122996; 1.1848629154198993 -0.5203825227273542 … 1.1175327353737914 0.1634395521350247; … ; -0.24878459897556188 -1.4866038192188138 … -0.09902127819565319 0.5254171990334904; -0.7762959246758622 1.047646072834493 … 1.3923327630061768 -0.7419567643282904], [-0.39476277355048295 -0.057717278362892734 … 1.062448611676178 -1.3402716699258912; 0.24664132232324276 0.5947149770090906 … 0.3535735467395432 -0.6916892196801109; … ; 0.15837161178961176 -0.1590695195012442 … -0.4229189790965184 0.7917908683491467; -1.1630379964695732 -1.0686651574850075 … 0.26275202737065834 1.9680913436230631])"
      ]
     },
     "execution_count": 63,
     "metadata": {},
     "output_type": "execute_result"
    }
   ],
   "source": [
    "\n",
    "losses = QuadLoss() # minimize squared distance to cluster centroids\n",
    "rx = UnitOneSparseConstraint() # each row is assigned to exactly one cluster\n",
    "ry = ZeroReg() # no regularization on the cluster centroids\n",
    "glrm = GLRM(A,losses,rx,ry,k)"
   ]
  },
  {
   "cell_type": "code",
   "execution_count": 64,
   "metadata": {
    "scrolled": true
   },
   "outputs": [
    {
     "data": {
      "text/plain": [
       "GLRM([-1.4603847136505699 0.07161494715171025 … -1.3073674528522583 2.4967164641041895; -1.1555632856820286 1.22534633566474 … 0.7818326084832043 0.28537127875724194; … ; -0.28548771807588347 -1.1154168641368734 … 2.1507732486701703 0.24617685125348845; -1.1370826694305518 0.9441087218239596 … 1.1900938216756183 -0.6612122030710992], Loss[QuadLoss(1.0, RealDomain()), QuadLoss(1.0, RealDomain()), QuadLoss(1.0, RealDomain()), QuadLoss(1.0, RealDomain()), QuadLoss(1.0, RealDomain()), QuadLoss(1.0, RealDomain()), QuadLoss(1.0, RealDomain()), QuadLoss(1.0, RealDomain()), QuadLoss(1.0, RealDomain()), QuadLoss(1.0, RealDomain())  …  QuadLoss(1.0, RealDomain()), QuadLoss(1.0, RealDomain()), QuadLoss(1.0, RealDomain()), QuadLoss(1.0, RealDomain()), QuadLoss(1.0, RealDomain()), QuadLoss(1.0, RealDomain()), QuadLoss(1.0, RealDomain()), QuadLoss(1.0, RealDomain()), QuadLoss(1.0, RealDomain()), QuadLoss(1.0, RealDomain())], Regularizer[UnitOneSparseConstraint(), UnitOneSparseConstraint(), UnitOneSparseConstraint(), UnitOneSparseConstraint(), UnitOneSparseConstraint(), UnitOneSparseConstraint(), UnitOneSparseConstraint(), UnitOneSparseConstraint(), UnitOneSparseConstraint(), UnitOneSparseConstraint()  …  UnitOneSparseConstraint(), UnitOneSparseConstraint(), UnitOneSparseConstraint(), UnitOneSparseConstraint(), UnitOneSparseConstraint(), UnitOneSparseConstraint(), UnitOneSparseConstraint(), UnitOneSparseConstraint(), UnitOneSparseConstraint(), UnitOneSparseConstraint()], Regularizer[ZeroReg(), ZeroReg(), ZeroReg(), ZeroReg(), ZeroReg(), ZeroReg(), ZeroReg(), ZeroReg(), ZeroReg(), ZeroReg()  …  ZeroReg(), ZeroReg(), ZeroReg(), ZeroReg(), ZeroReg(), ZeroReg(), ZeroReg(), ZeroReg(), ZeroReg(), ZeroReg()], 10, UnitRange{Int64}[1:50, 1:50, 1:50, 1:50, 1:50, 1:50, 1:50, 1:50, 1:50, 1:50  …  1:50, 1:50, 1:50, 1:50, 1:50, 1:50, 1:50, 1:50, 1:50, 1:50], UnitRange{Int64}[1:50, 1:50, 1:50, 1:50, 1:50, 1:50, 1:50, 1:50, 1:50, 1:50  …  1:50, 1:50, 1:50, 1:50, 1:50, 1:50, 1:50, 1:50, 1:50, 1:50], [-0.8762324554863393 -0.5269355575205072 … 1.4396593489244955 -0.024797141445122996; 1.1848629154198993 -0.5203825227273542 … 1.1175327353737914 0.1634395521350247; … ; -0.24878459897556188 -1.4866038192188138 … -0.09902127819565319 0.5254171990334904; -0.7762959246758622 1.047646072834493 … 1.3923327630061768 -0.7419567643282904], [0.8755657363367185 0.11252275852758829 … -1.9963954479595951 0.4117628182854951; -2.247745929380828 -0.12926268972967603 … -0.861039847564556 -2.1005713849401957; … ; 0.1711545685105905 1.314502346394928 … -0.32344246891568373 1.767462109089268; -0.28548771807588347 -1.1154168641368734 … 2.1507732486701703 0.24617685125348845])"
      ]
     },
     "execution_count": 64,
     "metadata": {},
     "output_type": "execute_result"
    }
   ],
   "source": [
    "init_kmeanspp!(glrm)"
   ]
  },
  {
   "cell_type": "code",
   "execution_count": 65,
   "metadata": {
    "scrolled": true
   },
   "outputs": [
    {
     "name": "stdout",
     "output_type": "stream",
     "text": [
      "Fitting GLRM\n",
      "Iteration 10: objective value = 0.5047399392835104\n"
     ]
    },
    {
     "data": {
      "text/plain": [
       "([0.0 0.0 … 0.0 0.0; 0.0 0.0 … 0.0 0.0; … ; 0.0 0.0 … 0.0 0.0; 0.0 0.0 … 1.0 0.0], [0.8749132058189126 0.11288026971331007 … -1.9955029007247318 0.41172221311672413; -2.2421531846867007 -0.1280096887100205 … -0.8597964414659038 -2.0939729686285924; … ; 0.17073427776931688 1.3143833519140196 … -0.32295622278916447 1.7666818612126851; -0.2861181228176851 -1.1151000473876238 … 2.1498056587544556 0.2454229233517536], ConvergenceHistory(\"ProxGradGLRM\", [Inf, 2117.2141025096753, 60.56326569069566, 37.208818310562364, 22.23419395776697, 12.898817308920727, 7.250723597659083, 3.9408925472237293, 2.066280308933127, 1.0425007031047788, 0.5047399392835104, 0.23380990996413606, 0.10328446490407157, 0.04335233546290238, 0.017221013451909184, 0.00644535116075181], Float64[], [0.0, 0.0, 0.0, 0.0, 0.0, 0.0, 0.0, 0.0, 0.0, 0.0, 0.0, 0.0, 0.0, 0.0, 0.0, 0.0], [0.0, 0.0, 0.0, 0.0, 0.0, 0.0, 0.0, 0.0, 0.0, 0.0, 0.0, 0.0, 0.0, 0.0, 0.0, 0.0], [0.0, 0.003641843795776367, 0.012935638427734375, 0.0216217041015625, 0.025081634521484375, 0.02847146987915039, 0.03171539306640625, 0.03500843048095703, 0.038315534591674805, 0.04155755043029785, 0.04511737823486328, 0.050327301025390625, 0.0547642707824707, 0.05890846252441406, 0.06289958953857422, 0.06686139106750488], [0.0, 0.0, 0.0, 0.0, 0.0, 0.0, 0.0, 0.0, 0.0, 0.0, 0.0, 0.0, 0.0, 0.0, 0.0, 0.0], 0))"
      ]
     },
     "execution_count": 65,
     "metadata": {},
     "output_type": "execute_result"
    }
   ],
   "source": [
    "X,Y,ch = fit!(glrm)"
   ]
  },
  {
   "cell_type": "code",
   "execution_count": null,
   "metadata": {},
   "outputs": [],
   "source": []
  },
  {
   "cell_type": "code",
   "execution_count": null,
   "metadata": {},
   "outputs": [],
   "source": []
  },
  {
   "cell_type": "code",
   "execution_count": null,
   "metadata": {},
   "outputs": [],
   "source": []
  },
  {
   "cell_type": "code",
   "execution_count": null,
   "metadata": {},
   "outputs": [],
   "source": [
    "#attempt 1"
   ]
  },
  {
   "cell_type": "code",
   "execution_count": null,
   "metadata": {},
   "outputs": [],
   "source": [
    "init_kmeanspp!(glrm03p)"
   ]
  },
  {
   "cell_type": "code",
   "execution_count": null,
   "metadata": {},
   "outputs": [],
   "source": [
    "k = 3\n",
    "A= df3\n",
    "rx = UnitOneSparseConstraint()\n",
    "ry = ZeroReg()\n",
    "glrm03p = GLRM(A,losses,rx,ry,k)"
   ]
  },
  {
   "cell_type": "code",
   "execution_count": null,
   "metadata": {},
   "outputs": [],
   "source": [
    "init_kmeanspp!(glrm03p)"
   ]
  },
  {
   "cell_type": "code",
   "execution_count": null,
   "metadata": {},
   "outputs": [],
   "source": [
    "X03p,Y03p,ch03p = fit!(glrm03p, params03p)"
   ]
  },
  {
   "cell_type": "code",
   "execution_count": null,
   "metadata": {},
   "outputs": [],
   "source": []
  },
  {
   "cell_type": "code",
   "execution_count": null,
   "metadata": {},
   "outputs": [],
   "source": []
  },
  {
   "cell_type": "code",
   "execution_count": null,
   "metadata": {},
   "outputs": [],
   "source": []
  },
  {
   "cell_type": "code",
   "execution_count": null,
   "metadata": {},
   "outputs": [],
   "source": [
    "#k = 3"
   ]
  },
  {
   "cell_type": "code",
   "execution_count": 66,
   "metadata": {},
   "outputs": [
    {
     "data": {
      "text/plain": [
       "920-element Array{Loss,1}:\n",
       " HuberLoss(1.0, RealDomain(), 1.0)\n",
       " HuberLoss(1.0, RealDomain(), 1.0)\n",
       " OrdinalHingeLoss(1, 10, 1.0, OrdinalDomain(1, 10))\n",
       " WeightedHingeLoss(1.0, BoolDomain(), 1.0)\n",
       " WeightedHingeLoss(1.0, BoolDomain(), 1.0)\n",
       " WeightedHingeLoss(1.0, BoolDomain(), 1.0)\n",
       " WeightedHingeLoss(1.0, BoolDomain(), 1.0)\n",
       " WeightedHingeLoss(1.0, BoolDomain(), 1.0)\n",
       " WeightedHingeLoss(1.0, BoolDomain(), 1.0)\n",
       " WeightedHingeLoss(1.0, BoolDomain(), 1.0)\n",
       " WeightedHingeLoss(1.0, BoolDomain(), 1.0)\n",
       " WeightedHingeLoss(1.0, BoolDomain(), 1.0)\n",
       " WeightedHingeLoss(1.0, BoolDomain(), 1.0)\n",
       " ⋮\n",
       " WeightedHingeLoss(1.0, BoolDomain(), 1.0)\n",
       " WeightedHingeLoss(1.0, BoolDomain(), 1.0)\n",
       " WeightedHingeLoss(1.0, BoolDomain(), 1.0)\n",
       " WeightedHingeLoss(1.0, BoolDomain(), 1.0)\n",
       " WeightedHingeLoss(1.0, BoolDomain(), 1.0)\n",
       " WeightedHingeLoss(1.0, BoolDomain(), 1.0)\n",
       " WeightedHingeLoss(1.0, BoolDomain(), 1.0)\n",
       " WeightedHingeLoss(1.0, BoolDomain(), 1.0)\n",
       " WeightedHingeLoss(1.0, BoolDomain(), 1.0)\n",
       " WeightedHingeLoss(1.0, BoolDomain(), 1.0)\n",
       " WeightedHingeLoss(1.0, BoolDomain(), 1.0)\n",
       " WeightedHingeLoss(1.0, BoolDomain(), 1.0)"
      ]
     },
     "execution_count": 66,
     "metadata": {},
     "output_type": "execute_result"
    }
   ],
   "source": [
    "loss1 = fill(HuberLoss(),2)\n",
    "loss2 = fill(HingeLoss(), 917)\n",
    "loss3 = fill(OrdinalHingeLoss(), 1)\n",
    "losses = [loss1; loss3; loss2]\n",
    "losses"
   ]
  },
  {
   "cell_type": "code",
   "execution_count": 69,
   "metadata": {
    "scrolled": true
   },
   "outputs": [
    {
     "data": {
      "text/plain": [
       "GLRM(10310×920 DataFrame. Omitted printing of 915 columns\n",
       "│ Row   │ LOS     │ HOSPITALIZATION │ ORDINAL_AGE │ ELECTIVE │ EMERGENCY │\n",
       "│       │ \u001b[90mFloat64\u001b[39m │ \u001b[90mInt64\u001b[39m           │ \u001b[90mInt64\u001b[39m       │ \u001b[90mInt64\u001b[39m    │ \u001b[90mInt64\u001b[39m     │\n",
       "├───────┼─────────┼─────────────────┼─────────────┼──────────┼───────────┤\n",
       "│ 1     │ 3.666   │ 1               │ 4           │ 0        │ 1         │\n",
       "│ 2     │ 1.2885  │ 1               │ 6           │ 0        │ 1         │\n",
       "│ 3     │ 1.0508  │ 1               │ 8           │ 1        │ 0         │\n",
       "│ 4     │ 14.2664 │ 2               │ 9           │ 0        │ 1         │\n",
       "│ 5     │ 0.5124  │ 1               │ 4           │ 0        │ 1         │\n",
       "│ 6     │ 3.5466  │ 1               │ 6           │ 0        │ 1         │\n",
       "│ 7     │ 1.1224  │ 1               │ 8           │ 1        │ 0         │\n",
       "│ 8     │ 5.3757  │ 1               │ 7           │ 1        │ 0         │\n",
       "│ 9     │ 1.1397  │ 1               │ 7           │ 0        │ 1         │\n",
       "│ 10    │ 1.9138  │ 1               │ 7           │ 0        │ 1         │\n",
       "⋮\n",
       "│ 10300 │ 9.1439  │ 1               │ 9           │ 0        │ 1         │\n",
       "│ 10301 │ 6.1242  │ 1               │ 7           │ 0        │ 1         │\n",
       "│ 10302 │ 1.0388  │ 1               │ 6           │ 0        │ 1         │\n",
       "│ 10303 │ 3.1669  │ 1               │ 8           │ 0        │ 1         │\n",
       "│ 10304 │ 0.9902  │ 1               │ 3           │ 0        │ 1         │\n",
       "│ 10305 │ 7.2813  │ 1               │ 9           │ 0        │ 1         │\n",
       "│ 10306 │ 5.6719  │ 1               │ 7           │ 0        │ 1         │\n",
       "│ 10307 │ 2.8684  │ 1               │ 7           │ 0        │ 0         │\n",
       "│ 10308 │ 3.1426  │ 1               │ 5           │ 1        │ 0         │\n",
       "│ 10309 │ 2.1615  │ 1               │ 9           │ 1        │ 0         │\n",
       "│ 10310 │ 1.1242  │ 1               │ 7           │ 1        │ 0         │, Loss[QuadLoss(1.0, RealDomain()), QuadLoss(1.0, RealDomain()), QuadLoss(1.0, RealDomain()), QuadLoss(1.0, RealDomain()), QuadLoss(1.0, RealDomain()), QuadLoss(1.0, RealDomain()), QuadLoss(1.0, RealDomain()), QuadLoss(1.0, RealDomain()), QuadLoss(1.0, RealDomain()), QuadLoss(1.0, RealDomain())  …  QuadLoss(1.0, RealDomain()), QuadLoss(1.0, RealDomain()), QuadLoss(1.0, RealDomain()), QuadLoss(1.0, RealDomain()), QuadLoss(1.0, RealDomain()), QuadLoss(1.0, RealDomain()), QuadLoss(1.0, RealDomain()), QuadLoss(1.0, RealDomain()), QuadLoss(1.0, RealDomain()), QuadLoss(1.0, RealDomain())], Regularizer[UnitOneSparseConstraint(), UnitOneSparseConstraint(), UnitOneSparseConstraint(), UnitOneSparseConstraint(), UnitOneSparseConstraint(), UnitOneSparseConstraint(), UnitOneSparseConstraint(), UnitOneSparseConstraint(), UnitOneSparseConstraint(), UnitOneSparseConstraint()  …  UnitOneSparseConstraint(), UnitOneSparseConstraint(), UnitOneSparseConstraint(), UnitOneSparseConstraint(), UnitOneSparseConstraint(), UnitOneSparseConstraint(), UnitOneSparseConstraint(), UnitOneSparseConstraint(), UnitOneSparseConstraint(), UnitOneSparseConstraint()], Regularizer[ZeroReg(), ZeroReg(), ZeroReg(), ZeroReg(), ZeroReg(), ZeroReg(), ZeroReg(), ZeroReg(), ZeroReg(), ZeroReg()  …  ZeroReg(), ZeroReg(), ZeroReg(), ZeroReg(), ZeroReg(), ZeroReg(), ZeroReg(), ZeroReg(), ZeroReg(), ZeroReg()], 3, UnitRange{Int64}[1:920, 1:920, 1:920, 1:920, 1:920, 1:920, 1:920, 1:920, 1:920, 1:920  …  1:920, 1:920, 1:920, 1:920, 1:920, 1:920, 1:920, 1:920, 1:920, 1:920], UnitRange{Int64}[1:10310, 1:10310, 1:10310, 1:10310, 1:10310, 1:10310, 1:10310, 1:10310, 1:10310, 1:10310  …  1:10310, 1:10310, 1:10310, 1:10310, 1:10310, 1:10310, 1:10310, 1:10310, 1:10310, 1:10310], [0.12857656127666053 -1.4697679223159654 … 1.3932961905465824 0.26013298799091294; 0.6561398816430299 -0.17488756775446385 … 0.2869267590360827 -1.1244035073502743; 0.9291454497901621 2.4840432568489312 … -1.9042784474810417 -0.41656074058114656], [-0.21971004301348557 1.097343916957387 … 0.27992470134727 -1.3826024499495277; -1.109117793160412 -1.1421392390983403 … 0.022049558536492823 -0.7698883532091831; -0.8773304114876818 -0.4256396530977499 … -1.345444229859993 -1.9517946617748825])"
      ]
     },
     "execution_count": 69,
     "metadata": {},
     "output_type": "execute_result"
    }
   ],
   "source": [
    "losses = QuadLoss() \n",
    "k = 3\n",
    "A= df3\n",
    "rx = UnitOneSparseConstraint()\n",
    "ry = ZeroReg()\n",
    "glrm03p = GLRM(A,losses,rx,ry,k)\n",
    "#params03p = ProxGradParams(inner_iter_Y=40)"
   ]
  },
  {
   "cell_type": "code",
   "execution_count": 70,
   "metadata": {},
   "outputs": [
    {
     "ename": "ArgumentError",
     "evalue": "ArgumentError: indexed assignment with a single value to many locations is not supported; perhaps use broadcasting `.=` instead?",
     "output_type": "error",
     "traceback": [
      "ArgumentError: indexed assignment with a single value to many locations is not supported; perhaps use broadcasting `.=` instead?",
      "",
      "Stacktrace:",
      " [1] setindex_shape_check(::DataFrameRow{DataFrame,DataFrames.SubIndex{DataFrames.Index,UnitRange{Int64},UnitRange{Int64}}}, ::Int64, ::Int64) at ./indices.jl:258",
      " [2] macro expansion at ./multidimensional.jl:779 [inlined]",
      " [3] _unsafe_setindex!(::IndexLinear, ::Array{Float64,2}, ::DataFrameRow{DataFrame,DataFrames.SubIndex{DataFrames.Index,UnitRange{Int64},UnitRange{Int64}}}, ::Int64, ::UnitRange{Int64}) at ./multidimensional.jl:774",
      " [4] _setindex! at ./multidimensional.jl:769 [inlined]",
      " [5] setindex!(::Array{Float64,2}, ::DataFrameRow{DataFrame,DataFrames.SubIndex{DataFrames.Index,UnitRange{Int64},UnitRange{Int64}}}, ::Int64, ::UnitRange{Int64}) at ./abstractarray.jl:1073",
      " [6] init_kmeanspp!(::GLRM) at /Users/kathy908000/.julia/packages/LowRankModels/uhtB9/src/initialize.jl:16",
      " [7] top-level scope at In[70]:1"
     ]
    }
   ],
   "source": [
    "init_kmeanspp!(glrm03p)"
   ]
  },
  {
   "cell_type": "code",
   "execution_count": 12,
   "metadata": {},
   "outputs": [
    {
     "name": "stdout",
     "output_type": "stream",
     "text": [
      "Fitting GLRM\n"
     ]
    },
    {
     "ename": "InterruptException",
     "evalue": "InterruptException:",
     "output_type": "error",
     "traceback": [
      "InterruptException:",
      "",
      "Stacktrace:",
      " [1] iterate at ./range.jl:597 [inlined]",
      " [2] fit!(::GLRM, ::ProxGradParams; ch::ConvergenceHistory, verbose::Bool, kwargs::Base.Iterators.Pairs{Union{},Union{},Tuple{},NamedTuple{(),Tuple{}}}) at /Users/kathy908000/.julia/packages/LowRankModels/uhtB9/src/algorithms/proxgrad.jl:157",
      " [3] fit!(::GLRM, ::ProxGradParams) at /Users/kathy908000/.julia/packages/LowRankModels/uhtB9/src/algorithms/proxgrad.jl:39",
      " [4] top-level scope at In[12]:1"
     ]
    }
   ],
   "source": [
    "X03p,Y03p,ch03p = fit!(glrm03p, params03p)"
   ]
  },
  {
   "cell_type": "code",
   "execution_count": 13,
   "metadata": {},
   "outputs": [
    {
     "name": "stdout",
     "output_type": "stream",
     "text": [
      "final objective is 1.3207302397914084e6\n"
     ]
    }
   ],
   "source": [
    "println(\"final objective is \", objective(glrm03p))"
   ]
  },
  {
   "cell_type": "code",
   "execution_count": 14,
   "metadata": {},
   "outputs": [
    {
     "ename": "UndefVarError",
     "evalue": "UndefVarError: Y03p not defined",
     "output_type": "error",
     "traceback": [
      "UndefVarError: Y03p not defined",
      "",
      "Stacktrace:",
      " [1] top-level scope at In[14]:1"
     ]
    }
   ],
   "source": [
    "Y03p"
   ]
  },
  {
   "cell_type": "code",
   "execution_count": 15,
   "metadata": {},
   "outputs": [
    {
     "ename": "UndefVarError",
     "evalue": "UndefVarError: Y03p not defined",
     "output_type": "error",
     "traceback": [
      "UndefVarError: Y03p not defined",
      "",
      "Stacktrace:",
      " [1] top-level scope at In[15]:1"
     ]
    }
   ],
   "source": [
    "imputey3p = impute(losses, Y03p) \n",
    "imputey3pd  = convert(DataFrame, imputey3p) \n",
    "CSV.write(\"/Users/kathy908000/github/health-care-research/data/iyp3.csv\",  imputey3pd)\n",
    "CSV.read(\"/Users/kathy908000/github/health-care-research/data/iyp3.csv\")"
   ]
  },
  {
   "cell_type": "code",
   "execution_count": 16,
   "metadata": {},
   "outputs": [
    {
     "ename": "UndefVarError",
     "evalue": "UndefVarError: X03p not defined",
     "output_type": "error",
     "traceback": [
      "UndefVarError: X03p not defined",
      "",
      "Stacktrace:",
      " [1] top-level scope at In[16]:1"
     ]
    }
   ],
   "source": [
    "X03p = convert(DataFrame, X03p) \n",
    "CSV.write(\"/Users/kathy908000/github/health-care-research/data/X03p.csv\",  X03p)\n",
    "CSV.read(\"/Users/kathy908000/github/health-care-research/data/X03p.csv\")\n"
   ]
  },
  {
   "cell_type": "code",
   "execution_count": null,
   "metadata": {},
   "outputs": [],
   "source": []
  }
 ],
 "metadata": {
  "kernelspec": {
   "display_name": "Julia 1.4.2",
   "language": "julia",
   "name": "julia-1.4"
  },
  "language_info": {
   "file_extension": ".jl",
   "mimetype": "application/julia",
   "name": "julia",
   "version": "1.4.2"
  }
 },
 "nbformat": 4,
 "nbformat_minor": 2
}
