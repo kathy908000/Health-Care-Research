{
 "cells": [
  {
   "cell_type": "code",
   "execution_count": 1,
   "metadata": {
    "scrolled": false
   },
   "outputs": [],
   "source": [
    "using LowRankModels\n",
    "using CSV\n",
    "using DataFrames\n",
    "using Pkg\n",
    "using StatsBase\n",
    "using Random, SparseArrays"
   ]
  },
  {
   "cell_type": "code",
   "execution_count": null,
   "metadata": {},
   "outputs": [],
   "source": []
  },
  {
   "cell_type": "code",
   "execution_count": 2,
   "metadata": {
    "scrolled": true
   },
   "outputs": [
    {
     "data": {
      "text/html": [
       "<table class=\"data-frame\"><thead><tr><th></th><th>SUBJECT_ID</th><th>LOS</th><th>HOSPITALIZATION</th><th>ORDINAL_AGE</th><th>ELECTIVE</th><th>EMERGENCY</th><th>NEWBORN</th></tr><tr><th></th><th>Int64</th><th>Float64</th><th>Int64</th><th>Int64</th><th>Int64</th><th>Int64</th><th>Int64</th></tr></thead><tbody><p>10,310 rows × 921 columns (omitted printing of 914 columns)</p><tr><th>1</th><td>13</td><td>3.666</td><td>1</td><td>4</td><td>0</td><td>1</td><td>0</td></tr><tr><th>2</th><td>18</td><td>1.2885</td><td>1</td><td>6</td><td>0</td><td>1</td><td>0</td></tr><tr><th>3</th><td>20</td><td>1.0508</td><td>1</td><td>8</td><td>1</td><td>0</td><td>0</td></tr><tr><th>4</th><td>21</td><td>14.2664</td><td>2</td><td>9</td><td>0</td><td>1</td><td>0</td></tr><tr><th>5</th><td>24</td><td>0.5124</td><td>1</td><td>4</td><td>0</td><td>1</td><td>0</td></tr><tr><th>6</th><td>25</td><td>3.5466</td><td>1</td><td>6</td><td>0</td><td>1</td><td>0</td></tr><tr><th>7</th><td>28</td><td>1.1224</td><td>1</td><td>8</td><td>1</td><td>0</td><td>0</td></tr><tr><th>8</th><td>35</td><td>5.3757</td><td>1</td><td>7</td><td>1</td><td>0</td><td>0</td></tr><tr><th>9</th><td>37</td><td>1.1397</td><td>1</td><td>7</td><td>0</td><td>1</td><td>0</td></tr><tr><th>10</th><td>55</td><td>1.9138</td><td>1</td><td>7</td><td>0</td><td>1</td><td>0</td></tr><tr><th>11</th><td>59</td><td>2.2017</td><td>1</td><td>9</td><td>0</td><td>1</td><td>0</td></tr><tr><th>12</th><td>75</td><td>1.2469</td><td>1</td><td>8</td><td>1</td><td>0</td><td>0</td></tr><tr><th>13</th><td>83</td><td>2.3141</td><td>1</td><td>7</td><td>0</td><td>0</td><td>0</td></tr><tr><th>14</th><td>117</td><td>14.5181</td><td>2</td><td>5</td><td>0</td><td>1</td><td>0</td></tr><tr><th>15</th><td>123</td><td>1.4941</td><td>1</td><td>6</td><td>0</td><td>1</td><td>0</td></tr><tr><th>16</th><td>130</td><td>17.4592</td><td>2</td><td>7</td><td>0</td><td>1</td><td>0</td></tr><tr><th>17</th><td>135</td><td>1.346</td><td>2</td><td>6</td><td>1</td><td>1</td><td>0</td></tr><tr><th>18</th><td>137</td><td>5.1326</td><td>1</td><td>8</td><td>0</td><td>1</td><td>0</td></tr><tr><th>19</th><td>141</td><td>3.4765</td><td>1</td><td>9</td><td>0</td><td>1</td><td>0</td></tr><tr><th>20</th><td>157</td><td>6.1813</td><td>2</td><td>9</td><td>0</td><td>1</td><td>0</td></tr><tr><th>21</th><td>173</td><td>1.3722</td><td>1</td><td>7</td><td>1</td><td>0</td><td>0</td></tr><tr><th>22</th><td>184</td><td>5.0941</td><td>2</td><td>6</td><td>0</td><td>1</td><td>0</td></tr><tr><th>23</th><td>186</td><td>3.7078</td><td>1</td><td>8</td><td>0</td><td>1</td><td>0</td></tr><tr><th>24</th><td>188</td><td>26.919</td><td>7</td><td>6</td><td>0</td><td>1</td><td>0</td></tr><tr><th>25</th><td>191</td><td>10.1558</td><td>2</td><td>8</td><td>0</td><td>1</td><td>0</td></tr><tr><th>26</th><td>192</td><td>1.084</td><td>1</td><td>7</td><td>1</td><td>0</td><td>0</td></tr><tr><th>27</th><td>199</td><td>7.1739</td><td>2</td><td>5</td><td>0</td><td>1</td><td>0</td></tr><tr><th>28</th><td>205</td><td>2.9076</td><td>1</td><td>8</td><td>0</td><td>0</td><td>0</td></tr><tr><th>29</th><td>209</td><td>8.3211</td><td>2</td><td>8</td><td>0</td><td>1</td><td>0</td></tr><tr><th>30</th><td>210</td><td>1.0253</td><td>1</td><td>6</td><td>0</td><td>1</td><td>0</td></tr><tr><th>&vellip;</th><td>&vellip;</td><td>&vellip;</td><td>&vellip;</td><td>&vellip;</td><td>&vellip;</td><td>&vellip;</td><td>&vellip;</td></tr></tbody></table>"
      ],
      "text/latex": [
       "\\begin{tabular}{r|cccccccc}\n",
       "\t& SUBJECT\\_ID & LOS & HOSPITALIZATION & ORDINAL\\_AGE & ELECTIVE & EMERGENCY & NEWBORN & \\\\\n",
       "\t\\hline\n",
       "\t& Int64 & Float64 & Int64 & Int64 & Int64 & Int64 & Int64 & \\\\\n",
       "\t\\hline\n",
       "\t1 & 13 & 3.666 & 1 & 4 & 0 & 1 & 0 & $\\dots$ \\\\\n",
       "\t2 & 18 & 1.2885 & 1 & 6 & 0 & 1 & 0 & $\\dots$ \\\\\n",
       "\t3 & 20 & 1.0508 & 1 & 8 & 1 & 0 & 0 & $\\dots$ \\\\\n",
       "\t4 & 21 & 14.2664 & 2 & 9 & 0 & 1 & 0 & $\\dots$ \\\\\n",
       "\t5 & 24 & 0.5124 & 1 & 4 & 0 & 1 & 0 & $\\dots$ \\\\\n",
       "\t6 & 25 & 3.5466 & 1 & 6 & 0 & 1 & 0 & $\\dots$ \\\\\n",
       "\t7 & 28 & 1.1224 & 1 & 8 & 1 & 0 & 0 & $\\dots$ \\\\\n",
       "\t8 & 35 & 5.3757 & 1 & 7 & 1 & 0 & 0 & $\\dots$ \\\\\n",
       "\t9 & 37 & 1.1397 & 1 & 7 & 0 & 1 & 0 & $\\dots$ \\\\\n",
       "\t10 & 55 & 1.9138 & 1 & 7 & 0 & 1 & 0 & $\\dots$ \\\\\n",
       "\t11 & 59 & 2.2017 & 1 & 9 & 0 & 1 & 0 & $\\dots$ \\\\\n",
       "\t12 & 75 & 1.2469 & 1 & 8 & 1 & 0 & 0 & $\\dots$ \\\\\n",
       "\t13 & 83 & 2.3141 & 1 & 7 & 0 & 0 & 0 & $\\dots$ \\\\\n",
       "\t14 & 117 & 14.5181 & 2 & 5 & 0 & 1 & 0 & $\\dots$ \\\\\n",
       "\t15 & 123 & 1.4941 & 1 & 6 & 0 & 1 & 0 & $\\dots$ \\\\\n",
       "\t16 & 130 & 17.4592 & 2 & 7 & 0 & 1 & 0 & $\\dots$ \\\\\n",
       "\t17 & 135 & 1.346 & 2 & 6 & 1 & 1 & 0 & $\\dots$ \\\\\n",
       "\t18 & 137 & 5.1326 & 1 & 8 & 0 & 1 & 0 & $\\dots$ \\\\\n",
       "\t19 & 141 & 3.4765 & 1 & 9 & 0 & 1 & 0 & $\\dots$ \\\\\n",
       "\t20 & 157 & 6.1813 & 2 & 9 & 0 & 1 & 0 & $\\dots$ \\\\\n",
       "\t21 & 173 & 1.3722 & 1 & 7 & 1 & 0 & 0 & $\\dots$ \\\\\n",
       "\t22 & 184 & 5.0941 & 2 & 6 & 0 & 1 & 0 & $\\dots$ \\\\\n",
       "\t23 & 186 & 3.7078 & 1 & 8 & 0 & 1 & 0 & $\\dots$ \\\\\n",
       "\t24 & 188 & 26.919 & 7 & 6 & 0 & 1 & 0 & $\\dots$ \\\\\n",
       "\t25 & 191 & 10.1558 & 2 & 8 & 0 & 1 & 0 & $\\dots$ \\\\\n",
       "\t26 & 192 & 1.084 & 1 & 7 & 1 & 0 & 0 & $\\dots$ \\\\\n",
       "\t27 & 199 & 7.1739 & 2 & 5 & 0 & 1 & 0 & $\\dots$ \\\\\n",
       "\t28 & 205 & 2.9076 & 1 & 8 & 0 & 0 & 0 & $\\dots$ \\\\\n",
       "\t29 & 209 & 8.3211 & 2 & 8 & 0 & 1 & 0 & $\\dots$ \\\\\n",
       "\t30 & 210 & 1.0253 & 1 & 6 & 0 & 1 & 0 & $\\dots$ \\\\\n",
       "\t$\\dots$ & $\\dots$ & $\\dots$ & $\\dots$ & $\\dots$ & $\\dots$ & $\\dots$ & $\\dots$ &  \\\\\n",
       "\\end{tabular}\n"
      ],
      "text/plain": [
       "10310×921 DataFrame. Omitted printing of 916 columns\n",
       "│ Row   │ SUBJECT_ID │ LOS     │ HOSPITALIZATION │ ORDINAL_AGE │ ELECTIVE │\n",
       "│       │ \u001b[90mInt64\u001b[39m      │ \u001b[90mFloat64\u001b[39m │ \u001b[90mInt64\u001b[39m           │ \u001b[90mInt64\u001b[39m       │ \u001b[90mInt64\u001b[39m    │\n",
       "├───────┼────────────┼─────────┼─────────────────┼─────────────┼──────────┤\n",
       "│ 1     │ 13         │ 3.666   │ 1               │ 4           │ 0        │\n",
       "│ 2     │ 18         │ 1.2885  │ 1               │ 6           │ 0        │\n",
       "│ 3     │ 20         │ 1.0508  │ 1               │ 8           │ 1        │\n",
       "│ 4     │ 21         │ 14.2664 │ 2               │ 9           │ 0        │\n",
       "│ 5     │ 24         │ 0.5124  │ 1               │ 4           │ 0        │\n",
       "│ 6     │ 25         │ 3.5466  │ 1               │ 6           │ 0        │\n",
       "│ 7     │ 28         │ 1.1224  │ 1               │ 8           │ 1        │\n",
       "│ 8     │ 35         │ 5.3757  │ 1               │ 7           │ 1        │\n",
       "│ 9     │ 37         │ 1.1397  │ 1               │ 7           │ 0        │\n",
       "│ 10    │ 55         │ 1.9138  │ 1               │ 7           │ 0        │\n",
       "⋮\n",
       "│ 10300 │ 99899      │ 9.1439  │ 1               │ 9           │ 0        │\n",
       "│ 10301 │ 99901      │ 6.1242  │ 1               │ 7           │ 0        │\n",
       "│ 10302 │ 99903      │ 1.0388  │ 1               │ 6           │ 0        │\n",
       "│ 10303 │ 99913      │ 3.1669  │ 1               │ 8           │ 0        │\n",
       "│ 10304 │ 99928      │ 0.9902  │ 1               │ 3           │ 0        │\n",
       "│ 10305 │ 99938      │ 7.2813  │ 1               │ 9           │ 0        │\n",
       "│ 10306 │ 99955      │ 5.6719  │ 1               │ 7           │ 0        │\n",
       "│ 10307 │ 99957      │ 2.8684  │ 1               │ 7           │ 0        │\n",
       "│ 10308 │ 99991      │ 3.1426  │ 1               │ 5           │ 1        │\n",
       "│ 10309 │ 99995      │ 2.1615  │ 1               │ 9           │ 1        │\n",
       "│ 10310 │ 99999      │ 1.1242  │ 1               │ 7           │ 1        │"
      ]
     },
     "execution_count": 2,
     "metadata": {},
     "output_type": "execute_result"
    }
   ],
   "source": [
    "df3 = CSV.read(\"/Users/kathy908000/github/health-care-research/data/Diabetes_Numerical.csv\")\n",
    "df3\n",
    "#first 3 col numerical\n",
    "#other col boolean"
   ]
  },
  {
   "cell_type": "code",
   "execution_count": 3,
   "metadata": {
    "scrolled": false
   },
   "outputs": [
    {
     "data": {
      "text/html": [
       "<table class=\"data-frame\"><thead><tr><th></th><th>LOS</th><th>HOSPITALIZATION</th><th>ORDINAL_AGE</th><th>ELECTIVE</th><th>EMERGENCY</th><th>NEWBORN</th><th>URGENT</th><th>Government</th></tr><tr><th></th><th>Float64</th><th>Int64</th><th>Int64</th><th>Int64</th><th>Int64</th><th>Int64</th><th>Int64</th><th>Int64</th></tr></thead><tbody><p>10,310 rows × 920 columns (omitted printing of 912 columns)</p><tr><th>1</th><td>3.666</td><td>1</td><td>4</td><td>0</td><td>1</td><td>0</td><td>0</td><td>0</td></tr><tr><th>2</th><td>1.2885</td><td>1</td><td>6</td><td>0</td><td>1</td><td>0</td><td>0</td><td>0</td></tr><tr><th>3</th><td>1.0508</td><td>1</td><td>8</td><td>1</td><td>0</td><td>0</td><td>0</td><td>0</td></tr><tr><th>4</th><td>14.2664</td><td>2</td><td>9</td><td>0</td><td>1</td><td>0</td><td>0</td><td>0</td></tr><tr><th>5</th><td>0.5124</td><td>1</td><td>4</td><td>0</td><td>1</td><td>0</td><td>0</td><td>0</td></tr><tr><th>6</th><td>3.5466</td><td>1</td><td>6</td><td>0</td><td>1</td><td>0</td><td>0</td><td>0</td></tr><tr><th>7</th><td>1.1224</td><td>1</td><td>8</td><td>1</td><td>0</td><td>0</td><td>0</td><td>0</td></tr><tr><th>8</th><td>5.3757</td><td>1</td><td>7</td><td>1</td><td>0</td><td>0</td><td>0</td><td>0</td></tr><tr><th>9</th><td>1.1397</td><td>1</td><td>7</td><td>0</td><td>1</td><td>0</td><td>0</td><td>0</td></tr><tr><th>10</th><td>1.9138</td><td>1</td><td>7</td><td>0</td><td>1</td><td>0</td><td>0</td><td>0</td></tr><tr><th>11</th><td>2.2017</td><td>1</td><td>9</td><td>0</td><td>1</td><td>0</td><td>0</td><td>0</td></tr><tr><th>12</th><td>1.2469</td><td>1</td><td>8</td><td>1</td><td>0</td><td>0</td><td>0</td><td>0</td></tr><tr><th>13</th><td>2.3141</td><td>1</td><td>7</td><td>0</td><td>0</td><td>0</td><td>1</td><td>0</td></tr><tr><th>14</th><td>14.5181</td><td>2</td><td>5</td><td>0</td><td>1</td><td>0</td><td>0</td><td>0</td></tr><tr><th>15</th><td>1.4941</td><td>1</td><td>6</td><td>0</td><td>1</td><td>0</td><td>0</td><td>1</td></tr><tr><th>16</th><td>17.4592</td><td>2</td><td>7</td><td>0</td><td>1</td><td>0</td><td>0</td><td>0</td></tr><tr><th>17</th><td>1.346</td><td>2</td><td>6</td><td>1</td><td>1</td><td>0</td><td>0</td><td>0</td></tr><tr><th>18</th><td>5.1326</td><td>1</td><td>8</td><td>0</td><td>1</td><td>0</td><td>0</td><td>0</td></tr><tr><th>19</th><td>3.4765</td><td>1</td><td>9</td><td>0</td><td>1</td><td>0</td><td>0</td><td>0</td></tr><tr><th>20</th><td>6.1813</td><td>2</td><td>9</td><td>0</td><td>1</td><td>0</td><td>0</td><td>0</td></tr><tr><th>21</th><td>1.3722</td><td>1</td><td>7</td><td>1</td><td>0</td><td>0</td><td>0</td><td>0</td></tr><tr><th>22</th><td>5.0941</td><td>2</td><td>6</td><td>0</td><td>1</td><td>0</td><td>0</td><td>0</td></tr><tr><th>23</th><td>3.7078</td><td>1</td><td>8</td><td>0</td><td>1</td><td>0</td><td>0</td><td>0</td></tr><tr><th>24</th><td>26.919</td><td>7</td><td>6</td><td>0</td><td>1</td><td>0</td><td>0</td><td>0</td></tr><tr><th>25</th><td>10.1558</td><td>2</td><td>8</td><td>0</td><td>1</td><td>0</td><td>0</td><td>0</td></tr><tr><th>26</th><td>1.084</td><td>1</td><td>7</td><td>1</td><td>0</td><td>0</td><td>0</td><td>0</td></tr><tr><th>27</th><td>7.1739</td><td>2</td><td>5</td><td>0</td><td>1</td><td>0</td><td>1</td><td>1</td></tr><tr><th>28</th><td>2.9076</td><td>1</td><td>8</td><td>0</td><td>0</td><td>0</td><td>1</td><td>0</td></tr><tr><th>29</th><td>8.3211</td><td>2</td><td>8</td><td>0</td><td>1</td><td>0</td><td>0</td><td>0</td></tr><tr><th>30</th><td>1.0253</td><td>1</td><td>6</td><td>0</td><td>1</td><td>0</td><td>0</td><td>0</td></tr><tr><th>&vellip;</th><td>&vellip;</td><td>&vellip;</td><td>&vellip;</td><td>&vellip;</td><td>&vellip;</td><td>&vellip;</td><td>&vellip;</td><td>&vellip;</td></tr></tbody></table>"
      ],
      "text/latex": [
       "\\begin{tabular}{r|ccccccccc}\n",
       "\t& LOS & HOSPITALIZATION & ORDINAL\\_AGE & ELECTIVE & EMERGENCY & NEWBORN & URGENT & Government & \\\\\n",
       "\t\\hline\n",
       "\t& Float64 & Int64 & Int64 & Int64 & Int64 & Int64 & Int64 & Int64 & \\\\\n",
       "\t\\hline\n",
       "\t1 & 3.666 & 1 & 4 & 0 & 1 & 0 & 0 & 0 & $\\dots$ \\\\\n",
       "\t2 & 1.2885 & 1 & 6 & 0 & 1 & 0 & 0 & 0 & $\\dots$ \\\\\n",
       "\t3 & 1.0508 & 1 & 8 & 1 & 0 & 0 & 0 & 0 & $\\dots$ \\\\\n",
       "\t4 & 14.2664 & 2 & 9 & 0 & 1 & 0 & 0 & 0 & $\\dots$ \\\\\n",
       "\t5 & 0.5124 & 1 & 4 & 0 & 1 & 0 & 0 & 0 & $\\dots$ \\\\\n",
       "\t6 & 3.5466 & 1 & 6 & 0 & 1 & 0 & 0 & 0 & $\\dots$ \\\\\n",
       "\t7 & 1.1224 & 1 & 8 & 1 & 0 & 0 & 0 & 0 & $\\dots$ \\\\\n",
       "\t8 & 5.3757 & 1 & 7 & 1 & 0 & 0 & 0 & 0 & $\\dots$ \\\\\n",
       "\t9 & 1.1397 & 1 & 7 & 0 & 1 & 0 & 0 & 0 & $\\dots$ \\\\\n",
       "\t10 & 1.9138 & 1 & 7 & 0 & 1 & 0 & 0 & 0 & $\\dots$ \\\\\n",
       "\t11 & 2.2017 & 1 & 9 & 0 & 1 & 0 & 0 & 0 & $\\dots$ \\\\\n",
       "\t12 & 1.2469 & 1 & 8 & 1 & 0 & 0 & 0 & 0 & $\\dots$ \\\\\n",
       "\t13 & 2.3141 & 1 & 7 & 0 & 0 & 0 & 1 & 0 & $\\dots$ \\\\\n",
       "\t14 & 14.5181 & 2 & 5 & 0 & 1 & 0 & 0 & 0 & $\\dots$ \\\\\n",
       "\t15 & 1.4941 & 1 & 6 & 0 & 1 & 0 & 0 & 1 & $\\dots$ \\\\\n",
       "\t16 & 17.4592 & 2 & 7 & 0 & 1 & 0 & 0 & 0 & $\\dots$ \\\\\n",
       "\t17 & 1.346 & 2 & 6 & 1 & 1 & 0 & 0 & 0 & $\\dots$ \\\\\n",
       "\t18 & 5.1326 & 1 & 8 & 0 & 1 & 0 & 0 & 0 & $\\dots$ \\\\\n",
       "\t19 & 3.4765 & 1 & 9 & 0 & 1 & 0 & 0 & 0 & $\\dots$ \\\\\n",
       "\t20 & 6.1813 & 2 & 9 & 0 & 1 & 0 & 0 & 0 & $\\dots$ \\\\\n",
       "\t21 & 1.3722 & 1 & 7 & 1 & 0 & 0 & 0 & 0 & $\\dots$ \\\\\n",
       "\t22 & 5.0941 & 2 & 6 & 0 & 1 & 0 & 0 & 0 & $\\dots$ \\\\\n",
       "\t23 & 3.7078 & 1 & 8 & 0 & 1 & 0 & 0 & 0 & $\\dots$ \\\\\n",
       "\t24 & 26.919 & 7 & 6 & 0 & 1 & 0 & 0 & 0 & $\\dots$ \\\\\n",
       "\t25 & 10.1558 & 2 & 8 & 0 & 1 & 0 & 0 & 0 & $\\dots$ \\\\\n",
       "\t26 & 1.084 & 1 & 7 & 1 & 0 & 0 & 0 & 0 & $\\dots$ \\\\\n",
       "\t27 & 7.1739 & 2 & 5 & 0 & 1 & 0 & 1 & 1 & $\\dots$ \\\\\n",
       "\t28 & 2.9076 & 1 & 8 & 0 & 0 & 0 & 1 & 0 & $\\dots$ \\\\\n",
       "\t29 & 8.3211 & 2 & 8 & 0 & 1 & 0 & 0 & 0 & $\\dots$ \\\\\n",
       "\t30 & 1.0253 & 1 & 6 & 0 & 1 & 0 & 0 & 0 & $\\dots$ \\\\\n",
       "\t$\\dots$ & $\\dots$ & $\\dots$ & $\\dots$ & $\\dots$ & $\\dots$ & $\\dots$ & $\\dots$ & $\\dots$ &  \\\\\n",
       "\\end{tabular}\n"
      ],
      "text/plain": [
       "10310×920 DataFrame. Omitted printing of 915 columns\n",
       "│ Row   │ LOS     │ HOSPITALIZATION │ ORDINAL_AGE │ ELECTIVE │ EMERGENCY │\n",
       "│       │ \u001b[90mFloat64\u001b[39m │ \u001b[90mInt64\u001b[39m           │ \u001b[90mInt64\u001b[39m       │ \u001b[90mInt64\u001b[39m    │ \u001b[90mInt64\u001b[39m     │\n",
       "├───────┼─────────┼─────────────────┼─────────────┼──────────┼───────────┤\n",
       "│ 1     │ 3.666   │ 1               │ 4           │ 0        │ 1         │\n",
       "│ 2     │ 1.2885  │ 1               │ 6           │ 0        │ 1         │\n",
       "│ 3     │ 1.0508  │ 1               │ 8           │ 1        │ 0         │\n",
       "│ 4     │ 14.2664 │ 2               │ 9           │ 0        │ 1         │\n",
       "│ 5     │ 0.5124  │ 1               │ 4           │ 0        │ 1         │\n",
       "│ 6     │ 3.5466  │ 1               │ 6           │ 0        │ 1         │\n",
       "│ 7     │ 1.1224  │ 1               │ 8           │ 1        │ 0         │\n",
       "│ 8     │ 5.3757  │ 1               │ 7           │ 1        │ 0         │\n",
       "│ 9     │ 1.1397  │ 1               │ 7           │ 0        │ 1         │\n",
       "│ 10    │ 1.9138  │ 1               │ 7           │ 0        │ 1         │\n",
       "⋮\n",
       "│ 10300 │ 9.1439  │ 1               │ 9           │ 0        │ 1         │\n",
       "│ 10301 │ 6.1242  │ 1               │ 7           │ 0        │ 1         │\n",
       "│ 10302 │ 1.0388  │ 1               │ 6           │ 0        │ 1         │\n",
       "│ 10303 │ 3.1669  │ 1               │ 8           │ 0        │ 1         │\n",
       "│ 10304 │ 0.9902  │ 1               │ 3           │ 0        │ 1         │\n",
       "│ 10305 │ 7.2813  │ 1               │ 9           │ 0        │ 1         │\n",
       "│ 10306 │ 5.6719  │ 1               │ 7           │ 0        │ 1         │\n",
       "│ 10307 │ 2.8684  │ 1               │ 7           │ 0        │ 0         │\n",
       "│ 10308 │ 3.1426  │ 1               │ 5           │ 1        │ 0         │\n",
       "│ 10309 │ 2.1615  │ 1               │ 9           │ 1        │ 0         │\n",
       "│ 10310 │ 1.1242  │ 1               │ 7           │ 1        │ 0         │"
      ]
     },
     "execution_count": 3,
     "metadata": {},
     "output_type": "execute_result"
    }
   ],
   "source": [
    "#drop columns\n",
    "#df3 = select!(df3, Not(:Column1))\n",
    "df3 = select!(df3, Not(:SUBJECT_ID )) \n",
    "df3"
   ]
  },
  {
   "cell_type": "code",
   "execution_count": 20,
   "metadata": {},
   "outputs": [],
   "source": [
    "#k=6"
   ]
  },
  {
   "cell_type": "code",
   "execution_count": 11,
   "metadata": {},
   "outputs": [
    {
     "data": {
      "text/plain": [
       "920-element Array{Loss,1}:\n",
       " HuberLoss(1.0, RealDomain(), 1.0)\n",
       " HuberLoss(1.0, RealDomain(), 1.0)\n",
       " OrdinalHingeLoss(1, 10, 1.0, OrdinalDomain(1, 10))\n",
       " WeightedHingeLoss(1.0, BoolDomain(), 1.0)\n",
       " WeightedHingeLoss(1.0, BoolDomain(), 1.0)\n",
       " WeightedHingeLoss(1.0, BoolDomain(), 1.0)\n",
       " WeightedHingeLoss(1.0, BoolDomain(), 1.0)\n",
       " WeightedHingeLoss(1.0, BoolDomain(), 1.0)\n",
       " WeightedHingeLoss(1.0, BoolDomain(), 1.0)\n",
       " WeightedHingeLoss(1.0, BoolDomain(), 1.0)\n",
       " WeightedHingeLoss(1.0, BoolDomain(), 1.0)\n",
       " WeightedHingeLoss(1.0, BoolDomain(), 1.0)\n",
       " WeightedHingeLoss(1.0, BoolDomain(), 1.0)\n",
       " ⋮\n",
       " WeightedHingeLoss(1.0, BoolDomain(), 1.0)\n",
       " WeightedHingeLoss(1.0, BoolDomain(), 1.0)\n",
       " WeightedHingeLoss(1.0, BoolDomain(), 1.0)\n",
       " WeightedHingeLoss(1.0, BoolDomain(), 1.0)\n",
       " WeightedHingeLoss(1.0, BoolDomain(), 1.0)\n",
       " WeightedHingeLoss(1.0, BoolDomain(), 1.0)\n",
       " WeightedHingeLoss(1.0, BoolDomain(), 1.0)\n",
       " WeightedHingeLoss(1.0, BoolDomain(), 1.0)\n",
       " WeightedHingeLoss(1.0, BoolDomain(), 1.0)\n",
       " WeightedHingeLoss(1.0, BoolDomain(), 1.0)\n",
       " WeightedHingeLoss(1.0, BoolDomain(), 1.0)\n",
       " WeightedHingeLoss(1.0, BoolDomain(), 1.0)"
      ]
     },
     "execution_count": 11,
     "metadata": {},
     "output_type": "execute_result"
    }
   ],
   "source": [
    "loss1 = fill(HuberLoss(),2)\n",
    "loss2 = fill(HingeLoss(), 917)\n",
    "loss3 = fill(OrdinalHingeLoss(), 1)\n",
    "losses = [loss1; loss3; loss2]\n",
    "losses"
   ]
  },
  {
   "cell_type": "code",
   "execution_count": 12,
   "metadata": {},
   "outputs": [
    {
     "name": "stdout",
     "output_type": "stream",
     "text": [
      "Fitting GLRM\n",
      "Iteration 10: objective value = 1.2358809590389237e6\n",
      "Iteration 20: objective value = 467863.6837298325\n",
      "Iteration 30: objective value = 460131.0032340185\n",
      "Iteration 40: objective value = 458166.17883389874\n"
     ]
    },
    {
     "data": {
      "text/plain": [
       "([0.0 0.0 … 0.0 0.0; 0.0 0.0 … 0.0 0.0; … ; 0.0 1.0 … 1.0 1.0; 0.0 0.0 … 0.0 0.0], [3.0341833701471033 1.26773761141311 … -1.1523364782875667 -1.1304504458498537; 2.96400576529314 1.2663371979590115 … -1.2074235485901295 -1.1766318805564684; … ; 3.057614574974197 1.2328879585477708 … -1.072302064836926 -1.042230979797023; 3.2224287177686866 1.3234592433833166 … -1.0428207080928356 -1.0999365306313769], ConvergenceHistory(\"ProxGradGLRM\", [Inf, 9.45741176845789e6, 8.188791081082007e6, 6.963971326735926e6, 5.801918714053964e6, 4.721280265183693e6, 3.7382619554868536e6, 2.8949541317370883e6, 2.203161101773608e6, 1.6554570768934921e6  …  459451.1557345492, 459246.0739777007, 459044.06078413624, 458883.7866358956, 458690.7826032172, 458549.52579626086, 458449.87060531304, 458325.4149884006, 458166.17883389874, 458079.99813387636], Float64[], [0.0, 0.0, 0.0, 0.0, 0.0, 0.0, 0.0, 0.0, 0.0, 0.0  …  0.0, 0.0, 0.0, 0.0, 0.0, 0.0, 0.0, 0.0, 0.0, 0.0], [0.0, 0.0, 0.0, 0.0, 0.0, 0.0, 0.0, 0.0, 0.0, 0.0  …  0.0, 0.0, 0.0, 0.0, 0.0, 0.0, 0.0, 0.0, 0.0, 0.0], [0.0, 14.300639867782593, 55.61220979690552, 67.13360476493835, 78.74707889556885, 90.76497292518616, 103.03918290138245, 116.16771173477173, 128.38973569869995, 140.1252167224884  …  431.9639849662781, 444.39462089538574, 456.9446668624878, 470.00043988227844, 482.9444100856781, 495.5984470844269, 508.75897002220154, 519.9409260749817, 530.7270019054413, 541.8108270168304], [0.0, 0.0, 0.0, 0.0, 0.0, 0.0, 0.0, 0.0, 0.0, 0.0  …  0.0, 0.0, 0.0, 0.0, 0.0, 0.0, 0.0, 0.0, 0.0, 0.0], 0))"
      ]
     },
     "execution_count": 12,
     "metadata": {},
     "output_type": "execute_result"
    }
   ],
   "source": [
    "k = 6\n",
    "A= df3\n",
    "rx = UnitOneSparseConstraint()\n",
    "ry = ZeroReg()\n",
    "glrm16 = GLRM(A,losses,rx,ry,k)\n",
    "X16,Y16,ch16 = fit!(glrm16)"
   ]
  },
  {
   "cell_type": "code",
   "execution_count": 13,
   "metadata": {
    "scrolled": true
   },
   "outputs": [
    {
     "data": {
      "text/plain": [
       "6×920 Array{Float64,2}:\n",
       " 3.03418  1.26774  7.0001   -1.00011  …  -1.0959   -1.15234  -1.13045\n",
       " 2.96401  1.26634  7.02226  -1.00017     -1.0      -1.20742  -1.17663\n",
       " 2.95308  1.28353  6.99977  -1.00118     -1.16977  -1.05262  -1.10441\n",
       " 2.95152  1.32192  7.00331  -1.00001     -1.21888  -1.00229  -1.19015\n",
       " 3.05761  1.23289  7.00145  -1.00057     -1.12334  -1.0723   -1.04223\n",
       " 3.22243  1.32346  7.00224  -1.00021  …  -2.3115   -1.04282  -1.09994"
      ]
     },
     "execution_count": 13,
     "metadata": {},
     "output_type": "execute_result"
    }
   ],
   "source": [
    "Y16"
   ]
  },
  {
   "cell_type": "code",
   "execution_count": 14,
   "metadata": {},
   "outputs": [
    {
     "data": {
      "text/html": [
       "<table class=\"data-frame\"><thead><tr><th></th><th>x1</th><th>x2</th><th>x3</th><th>x4</th><th>x5</th><th>x6</th><th>x7</th><th>x8</th><th>x9</th><th>x10</th><th>x11</th><th>x12</th><th>x13</th></tr><tr><th></th><th>Float64</th><th>Float64</th><th>Int64</th><th>Bool</th><th>Bool</th><th>Bool</th><th>Bool</th><th>Bool</th><th>Bool</th><th>Bool</th><th>Bool</th><th>Bool</th><th>Bool</th></tr></thead><tbody><p>6 rows × 920 columns (omitted printing of 907 columns)</p><tr><th>1</th><td>3.03418</td><td>1.26774</td><td>7</td><td>0</td><td>1</td><td>0</td><td>0</td><td>0</td><td>0</td><td>1</td><td>0</td><td>0</td><td>0</td></tr><tr><th>2</th><td>2.96401</td><td>1.26634</td><td>7</td><td>0</td><td>1</td><td>0</td><td>0</td><td>0</td><td>0</td><td>1</td><td>0</td><td>0</td><td>0</td></tr><tr><th>3</th><td>2.95308</td><td>1.28353</td><td>7</td><td>0</td><td>1</td><td>0</td><td>0</td><td>0</td><td>0</td><td>1</td><td>0</td><td>0</td><td>0</td></tr><tr><th>4</th><td>2.95152</td><td>1.32192</td><td>7</td><td>0</td><td>1</td><td>0</td><td>0</td><td>0</td><td>0</td><td>1</td><td>0</td><td>0</td><td>0</td></tr><tr><th>5</th><td>3.05761</td><td>1.23289</td><td>7</td><td>0</td><td>1</td><td>0</td><td>0</td><td>0</td><td>0</td><td>1</td><td>0</td><td>0</td><td>0</td></tr><tr><th>6</th><td>3.22243</td><td>1.32346</td><td>7</td><td>0</td><td>1</td><td>0</td><td>0</td><td>0</td><td>0</td><td>1</td><td>0</td><td>0</td><td>0</td></tr></tbody></table>"
      ],
      "text/latex": [
       "\\begin{tabular}{r|cccccccccccccc}\n",
       "\t& x1 & x2 & x3 & x4 & x5 & x6 & x7 & x8 & x9 & x10 & x11 & x12 & x13 & \\\\\n",
       "\t\\hline\n",
       "\t& Float64 & Float64 & Int64 & Bool & Bool & Bool & Bool & Bool & Bool & Bool & Bool & Bool & Bool & \\\\\n",
       "\t\\hline\n",
       "\t1 & 3.03418 & 1.26774 & 7 & 0 & 1 & 0 & 0 & 0 & 0 & 1 & 0 & 0 & 0 & $\\dots$ \\\\\n",
       "\t2 & 2.96401 & 1.26634 & 7 & 0 & 1 & 0 & 0 & 0 & 0 & 1 & 0 & 0 & 0 & $\\dots$ \\\\\n",
       "\t3 & 2.95308 & 1.28353 & 7 & 0 & 1 & 0 & 0 & 0 & 0 & 1 & 0 & 0 & 0 & $\\dots$ \\\\\n",
       "\t4 & 2.95152 & 1.32192 & 7 & 0 & 1 & 0 & 0 & 0 & 0 & 1 & 0 & 0 & 0 & $\\dots$ \\\\\n",
       "\t5 & 3.05761 & 1.23289 & 7 & 0 & 1 & 0 & 0 & 0 & 0 & 1 & 0 & 0 & 0 & $\\dots$ \\\\\n",
       "\t6 & 3.22243 & 1.32346 & 7 & 0 & 1 & 0 & 0 & 0 & 0 & 1 & 0 & 0 & 0 & $\\dots$ \\\\\n",
       "\\end{tabular}\n"
      ],
      "text/plain": [
       "6×920 DataFrame. Omitted printing of 911 columns\n",
       "│ Row │ x1      │ x2      │ x3    │ x4   │ x5   │ x6   │ x7   │ x8   │ x9   │\n",
       "│     │ \u001b[90mFloat64\u001b[39m │ \u001b[90mFloat64\u001b[39m │ \u001b[90mInt64\u001b[39m │ \u001b[90mBool\u001b[39m │ \u001b[90mBool\u001b[39m │ \u001b[90mBool\u001b[39m │ \u001b[90mBool\u001b[39m │ \u001b[90mBool\u001b[39m │ \u001b[90mBool\u001b[39m │\n",
       "├─────┼─────────┼─────────┼───────┼──────┼──────┼──────┼──────┼──────┼──────┤\n",
       "│ 1   │ 3.03418 │ 1.26774 │ 7     │ 0    │ 1    │ 0    │ 0    │ 0    │ 0    │\n",
       "│ 2   │ 2.96401 │ 1.26634 │ 7     │ 0    │ 1    │ 0    │ 0    │ 0    │ 0    │\n",
       "│ 3   │ 2.95308 │ 1.28353 │ 7     │ 0    │ 1    │ 0    │ 0    │ 0    │ 0    │\n",
       "│ 4   │ 2.95152 │ 1.32192 │ 7     │ 0    │ 1    │ 0    │ 0    │ 0    │ 0    │\n",
       "│ 5   │ 3.05761 │ 1.23289 │ 7     │ 0    │ 1    │ 0    │ 0    │ 0    │ 0    │\n",
       "│ 6   │ 3.22243 │ 1.32346 │ 7     │ 0    │ 1    │ 0    │ 0    │ 0    │ 0    │"
      ]
     },
     "execution_count": 14,
     "metadata": {},
     "output_type": "execute_result"
    }
   ],
   "source": [
    "imputey6 = impute(losses, Y16) \n",
    "imputey6d  = convert(DataFrame, imputey6) \n",
    "CSV.write(\"/Users/kathy908000/github/health-care-research/data/iy6.csv\",  imputey6d)\n",
    "CSV.read(\"/Users/kathy908000/github/health-care-research/data/iy6.csv\")"
   ]
  },
  {
   "cell_type": "code",
   "execution_count": 24,
   "metadata": {},
   "outputs": [
    {
     "name": "stdout",
     "output_type": "stream",
     "text": [
      "Computing cross validation error for each fold\n",
      "flattening observations\n",
      "computing CV folds\n",
      "\n",
      "forming train and test GLRM for fold 1\n",
      "training model on 4741735 samples and testing on 4743465\n",
      "fitting train GLRM for fold 1\n",
      "Fitting GLRM\n",
      "Iteration 10: objective value = 228479.22564116726\n",
      "computing train and test error for fold 1:\n",
      "\ttrain error: 0.048181994985229216\n",
      "\ttest error:  0.047844071938552835\n",
      "\n",
      "forming train and test GLRM for fold 2\n",
      "training model on 4743465 samples and testing on 4741735\n",
      "fitting train GLRM for fold 2\n",
      "Fitting GLRM\n",
      "Iteration 10: objective value = 226939.5290506657\n",
      "computing train and test error for fold 2:\n",
      "\ttrain error: 0.047839298777992895\n",
      "\ttest error:  0.048187109942916286\n"
     ]
    },
    {
     "data": {
      "text/html": [
       "<table class=\"data-frame\"><thead><tr><th></th><th>train_error</th><th>test_error</th></tr><tr><th></th><th>Float64</th><th>Float64</th></tr></thead><tbody><p>2 rows × 2 columns</p><tr><th>1</th><td>0.048182</td><td>0.0478441</td></tr><tr><th>2</th><td>0.0478393</td><td>0.0481871</td></tr></tbody></table>"
      ],
      "text/latex": [
       "\\begin{tabular}{r|cc}\n",
       "\t& train\\_error & test\\_error\\\\\n",
       "\t\\hline\n",
       "\t& Float64 & Float64\\\\\n",
       "\t\\hline\n",
       "\t1 & 0.048182 & 0.0478441 \\\\\n",
       "\t2 & 0.0478393 & 0.0481871 \\\\\n",
       "\\end{tabular}\n"
      ],
      "text/plain": [
       "2×2 DataFrame\n",
       "│ Row │ train_error │ test_error │\n",
       "│     │ \u001b[90mFloat64\u001b[39m     │ \u001b[90mFloat64\u001b[39m    │\n",
       "├─────┼─────────────┼────────────┤\n",
       "│ 1   │ 0.048182    │ 0.0478441  │\n",
       "│ 2   │ 0.0478393   │ 0.0481871  │"
      ]
     },
     "execution_count": 24,
     "metadata": {},
     "output_type": "execute_result"
    }
   ],
   "source": [
    "println(\"Computing cross validation error for each fold\")\n",
    "params = Params(1.0, max_iter=100, abs_tol=0.0, min_stepsize=.001)\n",
    "train_error, test_error, train_glrms, test_glrms = cross_validate(glrm16, nfolds=2, params=params)\n",
    "df = DataFrame(train_error = train_error, test_error = test_error)"
   ]
  },
  {
   "cell_type": "code",
   "execution_count": 25,
   "metadata": {},
   "outputs": [
    {
     "data": {
      "text/html": [
       "<table class=\"data-frame\"><thead><tr><th></th><th>x1</th><th>x2</th><th>x3</th><th>x4</th><th>x5</th><th>x6</th><th>x7</th><th>x8</th><th>x9</th></tr><tr><th></th><th>Float64</th><th>Float64</th><th>Float64</th><th>Float64</th><th>Float64</th><th>Float64</th><th>Float64</th><th>Float64</th><th>Float64</th></tr></thead><tbody><p>6 rows × 10,310 columns (omitted printing of 10301 columns)</p><tr><th>1</th><td>0.0</td><td>0.0</td><td>0.0</td><td>1.0</td><td>0.0</td><td>0.0</td><td>1.0</td><td>0.0</td><td>0.0</td></tr><tr><th>2</th><td>0.0</td><td>0.0</td><td>0.0</td><td>0.0</td><td>0.0</td><td>0.0</td><td>0.0</td><td>1.0</td><td>0.0</td></tr><tr><th>3</th><td>0.0</td><td>0.0</td><td>0.0</td><td>0.0</td><td>0.0</td><td>0.0</td><td>0.0</td><td>0.0</td><td>1.0</td></tr><tr><th>4</th><td>1.0</td><td>1.0</td><td>1.0</td><td>0.0</td><td>0.0</td><td>0.0</td><td>0.0</td><td>0.0</td><td>0.0</td></tr><tr><th>5</th><td>0.0</td><td>0.0</td><td>0.0</td><td>0.0</td><td>0.0</td><td>1.0</td><td>0.0</td><td>0.0</td><td>0.0</td></tr><tr><th>6</th><td>0.0</td><td>0.0</td><td>0.0</td><td>0.0</td><td>1.0</td><td>0.0</td><td>0.0</td><td>0.0</td><td>0.0</td></tr></tbody></table>"
      ],
      "text/latex": [
       "\\begin{tabular}{r|cccccccccc}\n",
       "\t& x1 & x2 & x3 & x4 & x5 & x6 & x7 & x8 & x9 & \\\\\n",
       "\t\\hline\n",
       "\t& Float64 & Float64 & Float64 & Float64 & Float64 & Float64 & Float64 & Float64 & Float64 & \\\\\n",
       "\t\\hline\n",
       "\t1 & 0.0 & 0.0 & 0.0 & 1.0 & 0.0 & 0.0 & 1.0 & 0.0 & 0.0 & $\\dots$ \\\\\n",
       "\t2 & 0.0 & 0.0 & 0.0 & 0.0 & 0.0 & 0.0 & 0.0 & 1.0 & 0.0 & $\\dots$ \\\\\n",
       "\t3 & 0.0 & 0.0 & 0.0 & 0.0 & 0.0 & 0.0 & 0.0 & 0.0 & 1.0 & $\\dots$ \\\\\n",
       "\t4 & 1.0 & 1.0 & 1.0 & 0.0 & 0.0 & 0.0 & 0.0 & 0.0 & 0.0 & $\\dots$ \\\\\n",
       "\t5 & 0.0 & 0.0 & 0.0 & 0.0 & 0.0 & 1.0 & 0.0 & 0.0 & 0.0 & $\\dots$ \\\\\n",
       "\t6 & 0.0 & 0.0 & 0.0 & 0.0 & 1.0 & 0.0 & 0.0 & 0.0 & 0.0 & $\\dots$ \\\\\n",
       "\\end{tabular}\n"
      ],
      "text/plain": [
       "6×10310 DataFrame. Omitted printing of 10303 columns\n",
       "│ Row │ x1      │ x2      │ x3      │ x4      │ x5      │ x6      │ x7      │\n",
       "│     │ \u001b[90mFloat64\u001b[39m │ \u001b[90mFloat64\u001b[39m │ \u001b[90mFloat64\u001b[39m │ \u001b[90mFloat64\u001b[39m │ \u001b[90mFloat64\u001b[39m │ \u001b[90mFloat64\u001b[39m │ \u001b[90mFloat64\u001b[39m │\n",
       "├─────┼─────────┼─────────┼─────────┼─────────┼─────────┼─────────┼─────────┤\n",
       "│ 1   │ 0.0     │ 0.0     │ 0.0     │ 1.0     │ 0.0     │ 0.0     │ 1.0     │\n",
       "│ 2   │ 0.0     │ 0.0     │ 0.0     │ 0.0     │ 0.0     │ 0.0     │ 0.0     │\n",
       "│ 3   │ 0.0     │ 0.0     │ 0.0     │ 0.0     │ 0.0     │ 0.0     │ 0.0     │\n",
       "│ 4   │ 1.0     │ 1.0     │ 1.0     │ 0.0     │ 0.0     │ 0.0     │ 0.0     │\n",
       "│ 5   │ 0.0     │ 0.0     │ 0.0     │ 0.0     │ 0.0     │ 1.0     │ 0.0     │\n",
       "│ 6   │ 0.0     │ 0.0     │ 0.0     │ 0.0     │ 1.0     │ 0.0     │ 0.0     │"
      ]
     },
     "execution_count": 25,
     "metadata": {},
     "output_type": "execute_result"
    }
   ],
   "source": [
    "hingek6 = convert(DataFrame, X16) "
   ]
  },
  {
   "cell_type": "code",
   "execution_count": 26,
   "metadata": {},
   "outputs": [
    {
     "data": {
      "text/html": [
       "<table class=\"data-frame\"><thead><tr><th></th><th>x1</th><th>x2</th><th>x3</th><th>x4</th><th>x5</th><th>x6</th><th>x7</th><th>x8</th><th>x9</th></tr><tr><th></th><th>Float64</th><th>Float64</th><th>Float64</th><th>Float64</th><th>Float64</th><th>Float64</th><th>Float64</th><th>Float64</th><th>Float64</th></tr></thead><tbody><p>6 rows × 10,310 columns (omitted printing of 10301 columns)</p><tr><th>1</th><td>0.0</td><td>0.0</td><td>0.0</td><td>1.0</td><td>0.0</td><td>0.0</td><td>1.0</td><td>0.0</td><td>0.0</td></tr><tr><th>2</th><td>0.0</td><td>0.0</td><td>0.0</td><td>0.0</td><td>0.0</td><td>0.0</td><td>0.0</td><td>1.0</td><td>0.0</td></tr><tr><th>3</th><td>0.0</td><td>0.0</td><td>0.0</td><td>0.0</td><td>0.0</td><td>0.0</td><td>0.0</td><td>0.0</td><td>1.0</td></tr><tr><th>4</th><td>1.0</td><td>1.0</td><td>1.0</td><td>0.0</td><td>0.0</td><td>0.0</td><td>0.0</td><td>0.0</td><td>0.0</td></tr><tr><th>5</th><td>0.0</td><td>0.0</td><td>0.0</td><td>0.0</td><td>0.0</td><td>1.0</td><td>0.0</td><td>0.0</td><td>0.0</td></tr><tr><th>6</th><td>0.0</td><td>0.0</td><td>0.0</td><td>0.0</td><td>1.0</td><td>0.0</td><td>0.0</td><td>0.0</td><td>0.0</td></tr></tbody></table>"
      ],
      "text/latex": [
       "\\begin{tabular}{r|cccccccccc}\n",
       "\t& x1 & x2 & x3 & x4 & x5 & x6 & x7 & x8 & x9 & \\\\\n",
       "\t\\hline\n",
       "\t& Float64 & Float64 & Float64 & Float64 & Float64 & Float64 & Float64 & Float64 & Float64 & \\\\\n",
       "\t\\hline\n",
       "\t1 & 0.0 & 0.0 & 0.0 & 1.0 & 0.0 & 0.0 & 1.0 & 0.0 & 0.0 & $\\dots$ \\\\\n",
       "\t2 & 0.0 & 0.0 & 0.0 & 0.0 & 0.0 & 0.0 & 0.0 & 1.0 & 0.0 & $\\dots$ \\\\\n",
       "\t3 & 0.0 & 0.0 & 0.0 & 0.0 & 0.0 & 0.0 & 0.0 & 0.0 & 1.0 & $\\dots$ \\\\\n",
       "\t4 & 1.0 & 1.0 & 1.0 & 0.0 & 0.0 & 0.0 & 0.0 & 0.0 & 0.0 & $\\dots$ \\\\\n",
       "\t5 & 0.0 & 0.0 & 0.0 & 0.0 & 0.0 & 1.0 & 0.0 & 0.0 & 0.0 & $\\dots$ \\\\\n",
       "\t6 & 0.0 & 0.0 & 0.0 & 0.0 & 1.0 & 0.0 & 0.0 & 0.0 & 0.0 & $\\dots$ \\\\\n",
       "\\end{tabular}\n"
      ],
      "text/plain": [
       "6×10310 DataFrame. Omitted printing of 10303 columns\n",
       "│ Row │ x1      │ x2      │ x3      │ x4      │ x5      │ x6      │ x7      │\n",
       "│     │ \u001b[90mFloat64\u001b[39m │ \u001b[90mFloat64\u001b[39m │ \u001b[90mFloat64\u001b[39m │ \u001b[90mFloat64\u001b[39m │ \u001b[90mFloat64\u001b[39m │ \u001b[90mFloat64\u001b[39m │ \u001b[90mFloat64\u001b[39m │\n",
       "├─────┼─────────┼─────────┼─────────┼─────────┼─────────┼─────────┼─────────┤\n",
       "│ 1   │ 0.0     │ 0.0     │ 0.0     │ 1.0     │ 0.0     │ 0.0     │ 1.0     │\n",
       "│ 2   │ 0.0     │ 0.0     │ 0.0     │ 0.0     │ 0.0     │ 0.0     │ 0.0     │\n",
       "│ 3   │ 0.0     │ 0.0     │ 0.0     │ 0.0     │ 0.0     │ 0.0     │ 0.0     │\n",
       "│ 4   │ 1.0     │ 1.0     │ 1.0     │ 0.0     │ 0.0     │ 0.0     │ 0.0     │\n",
       "│ 5   │ 0.0     │ 0.0     │ 0.0     │ 0.0     │ 0.0     │ 1.0     │ 0.0     │\n",
       "│ 6   │ 0.0     │ 0.0     │ 0.0     │ 0.0     │ 1.0     │ 0.0     │ 0.0     │"
      ]
     },
     "execution_count": 26,
     "metadata": {},
     "output_type": "execute_result"
    }
   ],
   "source": [
    "CSV.write(\"/Users/kathy908000/github/health-care-research/data/hingek6.csv\",  hingek6)\n",
    "CSV.read(\"/Users/kathy908000/github/health-care-research/data/hingek6.csv\")\n"
   ]
  },
  {
   "cell_type": "code",
   "execution_count": 27,
   "metadata": {},
   "outputs": [],
   "source": [
    "#k=5"
   ]
  },
  {
   "cell_type": "code",
   "execution_count": 28,
   "metadata": {},
   "outputs": [
    {
     "data": {
      "text/plain": [
       "920-element Array{Loss,1}:\n",
       " HuberLoss(1.0, RealDomain(), 1.0)\n",
       " HuberLoss(1.0, RealDomain(), 1.0)\n",
       " OrdinalHingeLoss(1, 10, 1.0, OrdinalDomain(1, 10))\n",
       " WeightedHingeLoss(1.0, BoolDomain(), 1.0)\n",
       " WeightedHingeLoss(1.0, BoolDomain(), 1.0)\n",
       " WeightedHingeLoss(1.0, BoolDomain(), 1.0)\n",
       " WeightedHingeLoss(1.0, BoolDomain(), 1.0)\n",
       " WeightedHingeLoss(1.0, BoolDomain(), 1.0)\n",
       " WeightedHingeLoss(1.0, BoolDomain(), 1.0)\n",
       " WeightedHingeLoss(1.0, BoolDomain(), 1.0)\n",
       " WeightedHingeLoss(1.0, BoolDomain(), 1.0)\n",
       " WeightedHingeLoss(1.0, BoolDomain(), 1.0)\n",
       " WeightedHingeLoss(1.0, BoolDomain(), 1.0)\n",
       " ⋮\n",
       " WeightedHingeLoss(1.0, BoolDomain(), 1.0)\n",
       " WeightedHingeLoss(1.0, BoolDomain(), 1.0)\n",
       " WeightedHingeLoss(1.0, BoolDomain(), 1.0)\n",
       " WeightedHingeLoss(1.0, BoolDomain(), 1.0)\n",
       " WeightedHingeLoss(1.0, BoolDomain(), 1.0)\n",
       " WeightedHingeLoss(1.0, BoolDomain(), 1.0)\n",
       " WeightedHingeLoss(1.0, BoolDomain(), 1.0)\n",
       " WeightedHingeLoss(1.0, BoolDomain(), 1.0)\n",
       " WeightedHingeLoss(1.0, BoolDomain(), 1.0)\n",
       " WeightedHingeLoss(1.0, BoolDomain(), 1.0)\n",
       " WeightedHingeLoss(1.0, BoolDomain(), 1.0)\n",
       " WeightedHingeLoss(1.0, BoolDomain(), 1.0)"
      ]
     },
     "execution_count": 28,
     "metadata": {},
     "output_type": "execute_result"
    }
   ],
   "source": [
    "loss1 = fill(HuberLoss(),2)\n",
    "loss2 = fill(HingeLoss(), 917)\n",
    "loss3 = fill(OrdinalHingeLoss(), 1)\n",
    "losses = [loss1; loss3; loss2]\n",
    "losses"
   ]
  },
  {
   "cell_type": "code",
   "execution_count": 29,
   "metadata": {},
   "outputs": [
    {
     "name": "stdout",
     "output_type": "stream",
     "text": [
      "Fitting GLRM\n",
      "Iteration 10: objective value = 785742.1835691773\n",
      "Iteration 20: objective value = 464382.6973364457\n",
      "Iteration 30: objective value = 458976.40695412154\n"
     ]
    },
    {
     "data": {
      "text/plain": [
       "([0.0 0.0 … 1.0 1.0; 0.0 0.0 … 0.0 0.0; … ; 0.0 1.0 … 0.0 0.0; 0.0 0.0 … 0.0 0.0], [3.0438699090695214 1.2190745202970292 … -1.1476688477673724 -1.1875806068055965; 3.070655940227776 1.2805376728741802 … -1.1112362103123397 -1.0725763698211597; … ; 3.085735626224026 1.2959990948628408 … -1.0221085405728578 -1.003942657973069; 2.8556297748416637 1.267715142929081 … -1.635254380404446 -1.1576591530418048], ConvergenceHistory(\"ProxGradGLRM\", [Inf, 9.229352802910212e6, 7.715683671581579e6, 6.285400685113965e6, 4.980678349513673e6, 3.8275609943980626e6, 2.844701641404502e6, 2.0547237964759464e6, 1.4659329203738922e6, 1.0502594019564886e6  …  461119.6792584686, 460364.1836527265, 459997.1796645072, 459568.4350020009, 459315.99595636333, 459141.2873410248, 458976.40695412154, 458793.5628206643, 458641.82994953723, 458556.1529098767], Float64[], [0.0, 0.0, 0.0, 0.0, 0.0, 0.0, 0.0, 0.0, 0.0, 0.0  …  0.0, 0.0, 0.0, 0.0, 0.0, 0.0, 0.0, 0.0, 0.0, 0.0], [0.0, 0.0, 0.0, 0.0, 0.0, 0.0, 0.0, 0.0, 0.0, 0.0  …  0.0, 0.0, 0.0, 0.0, 0.0, 0.0, 0.0, 0.0, 0.0, 0.0], [0.0, 13.352878093719482, 61.50787711143494, 74.77503228187561, 87.13949632644653, 99.44829154014587, 112.79381465911865, 126.50444769859314, 138.88998556137085, 151.5044264793396  …  344.74397253990173, 357.47625255584717, 370.2339766025543, 382.7882466316223, 395.501633644104, 408.0121605396271, 420.4918875694275, 433.3157036304474, 446.06629180908203, 458.7102687358856], [0.0, 0.0, 0.0, 0.0, 0.0, 0.0, 0.0, 0.0, 0.0, 0.0  …  0.0, 0.0, 0.0, 0.0, 0.0, 0.0, 0.0, 0.0, 0.0, 0.0], 0))"
      ]
     },
     "execution_count": 29,
     "metadata": {},
     "output_type": "execute_result"
    }
   ],
   "source": [
    "k = 5\n",
    "A= df3\n",
    "rx = UnitOneSparseConstraint()\n",
    "ry = ZeroReg()\n",
    "glrm05 = GLRM(A,losses,rx,ry,k)\n",
    "X05,Y05,ch05 = fit!(glrm05)"
   ]
  },
  {
   "cell_type": "code",
   "execution_count": 30,
   "metadata": {},
   "outputs": [
    {
     "data": {
      "text/plain": [
       "5×10310 Array{Float64,2}:\n",
       " 0.0  0.0  0.0  0.0  0.0  0.0  1.0  0.0  …  0.0  0.0  0.0  0.0  0.0  1.0  1.0\n",
       " 0.0  0.0  1.0  0.0  1.0  0.0  0.0  0.0     0.0  0.0  0.0  0.0  0.0  0.0  0.0\n",
       " 1.0  0.0  0.0  0.0  0.0  1.0  0.0  0.0     0.0  0.0  1.0  0.0  0.0  0.0  0.0\n",
       " 0.0  1.0  0.0  0.0  0.0  0.0  0.0  0.0     1.0  1.0  0.0  0.0  1.0  0.0  0.0\n",
       " 0.0  0.0  0.0  1.0  0.0  0.0  0.0  1.0     0.0  0.0  0.0  1.0  0.0  0.0  0.0"
      ]
     },
     "execution_count": 30,
     "metadata": {},
     "output_type": "execute_result"
    }
   ],
   "source": [
    "X05"
   ]
  },
  {
   "cell_type": "code",
   "execution_count": 31,
   "metadata": {},
   "outputs": [
    {
     "name": "stdout",
     "output_type": "stream",
     "text": [
      "Computing cross validation error for each fold\n",
      "flattening observations\n",
      "computing CV folds\n",
      "\n",
      "forming train and test GLRM for fold 1\n",
      "training model on 4744508 samples and testing on 4740692\n",
      "fitting train GLRM for fold 1\n",
      "Fitting GLRM\n",
      "Iteration 10: objective value = 229062.5706120421\n",
      "computing train and test error for fold 1:\n",
      "\ttrain error: 0.048277291933473014\n",
      "\ttest error:  0.04829102720400767\n",
      "\n",
      "forming train and test GLRM for fold 2\n",
      "training model on 4740692 samples and testing on 4744508\n",
      "fitting train GLRM for fold 2\n",
      "Fitting GLRM\n",
      "Iteration 10: objective value = 228924.74098281117\n",
      "computing train and test error for fold 2:\n",
      "\ttrain error: 0.04828692790486687\n",
      "\ttest error:  0.048286842386987175\n"
     ]
    },
    {
     "data": {
      "text/html": [
       "<table class=\"data-frame\"><thead><tr><th></th><th>train_error</th><th>test_error</th></tr><tr><th></th><th>Float64</th><th>Float64</th></tr></thead><tbody><p>2 rows × 2 columns</p><tr><th>1</th><td>0.0482773</td><td>0.048291</td></tr><tr><th>2</th><td>0.0482869</td><td>0.0482868</td></tr></tbody></table>"
      ],
      "text/latex": [
       "\\begin{tabular}{r|cc}\n",
       "\t& train\\_error & test\\_error\\\\\n",
       "\t\\hline\n",
       "\t& Float64 & Float64\\\\\n",
       "\t\\hline\n",
       "\t1 & 0.0482773 & 0.048291 \\\\\n",
       "\t2 & 0.0482869 & 0.0482868 \\\\\n",
       "\\end{tabular}\n"
      ],
      "text/plain": [
       "2×2 DataFrame\n",
       "│ Row │ train_error │ test_error │\n",
       "│     │ \u001b[90mFloat64\u001b[39m     │ \u001b[90mFloat64\u001b[39m    │\n",
       "├─────┼─────────────┼────────────┤\n",
       "│ 1   │ 0.0482773   │ 0.048291   │\n",
       "│ 2   │ 0.0482869   │ 0.0482868  │"
      ]
     },
     "execution_count": 31,
     "metadata": {},
     "output_type": "execute_result"
    }
   ],
   "source": [
    "println(\"Computing cross validation error for each fold\")\n",
    "params = Params(1.0, max_iter=100, abs_tol=0.0, min_stepsize=.001)\n",
    "train_error, test_error, train_glrms, test_glrms = cross_validate(glrm05, nfolds=2, params=params)\n",
    "df = DataFrame(train_error = train_error, test_error = test_error)"
   ]
  },
  {
   "cell_type": "code",
   "execution_count": 32,
   "metadata": {},
   "outputs": [
    {
     "data": {
      "text/html": [
       "<table class=\"data-frame\"><thead><tr><th></th><th>x1</th><th>x2</th><th>x3</th><th>x4</th><th>x5</th><th>x6</th><th>x7</th><th>x8</th><th>x9</th></tr><tr><th></th><th>Float64</th><th>Float64</th><th>Float64</th><th>Float64</th><th>Float64</th><th>Float64</th><th>Float64</th><th>Float64</th><th>Float64</th></tr></thead><tbody><p>5 rows × 10,310 columns (omitted printing of 10301 columns)</p><tr><th>1</th><td>0.0</td><td>0.0</td><td>0.0</td><td>0.0</td><td>0.0</td><td>0.0</td><td>1.0</td><td>0.0</td><td>0.0</td></tr><tr><th>2</th><td>0.0</td><td>0.0</td><td>1.0</td><td>0.0</td><td>1.0</td><td>0.0</td><td>0.0</td><td>0.0</td><td>1.0</td></tr><tr><th>3</th><td>1.0</td><td>0.0</td><td>0.0</td><td>0.0</td><td>0.0</td><td>1.0</td><td>0.0</td><td>0.0</td><td>0.0</td></tr><tr><th>4</th><td>0.0</td><td>1.0</td><td>0.0</td><td>0.0</td><td>0.0</td><td>0.0</td><td>0.0</td><td>0.0</td><td>0.0</td></tr><tr><th>5</th><td>0.0</td><td>0.0</td><td>0.0</td><td>1.0</td><td>0.0</td><td>0.0</td><td>0.0</td><td>1.0</td><td>0.0</td></tr></tbody></table>"
      ],
      "text/latex": [
       "\\begin{tabular}{r|cccccccccc}\n",
       "\t& x1 & x2 & x3 & x4 & x5 & x6 & x7 & x8 & x9 & \\\\\n",
       "\t\\hline\n",
       "\t& Float64 & Float64 & Float64 & Float64 & Float64 & Float64 & Float64 & Float64 & Float64 & \\\\\n",
       "\t\\hline\n",
       "\t1 & 0.0 & 0.0 & 0.0 & 0.0 & 0.0 & 0.0 & 1.0 & 0.0 & 0.0 & $\\dots$ \\\\\n",
       "\t2 & 0.0 & 0.0 & 1.0 & 0.0 & 1.0 & 0.0 & 0.0 & 0.0 & 1.0 & $\\dots$ \\\\\n",
       "\t3 & 1.0 & 0.0 & 0.0 & 0.0 & 0.0 & 1.0 & 0.0 & 0.0 & 0.0 & $\\dots$ \\\\\n",
       "\t4 & 0.0 & 1.0 & 0.0 & 0.0 & 0.0 & 0.0 & 0.0 & 0.0 & 0.0 & $\\dots$ \\\\\n",
       "\t5 & 0.0 & 0.0 & 0.0 & 1.0 & 0.0 & 0.0 & 0.0 & 1.0 & 0.0 & $\\dots$ \\\\\n",
       "\\end{tabular}\n"
      ],
      "text/plain": [
       "5×10310 DataFrame. Omitted printing of 10303 columns\n",
       "│ Row │ x1      │ x2      │ x3      │ x4      │ x5      │ x6      │ x7      │\n",
       "│     │ \u001b[90mFloat64\u001b[39m │ \u001b[90mFloat64\u001b[39m │ \u001b[90mFloat64\u001b[39m │ \u001b[90mFloat64\u001b[39m │ \u001b[90mFloat64\u001b[39m │ \u001b[90mFloat64\u001b[39m │ \u001b[90mFloat64\u001b[39m │\n",
       "├─────┼─────────┼─────────┼─────────┼─────────┼─────────┼─────────┼─────────┤\n",
       "│ 1   │ 0.0     │ 0.0     │ 0.0     │ 0.0     │ 0.0     │ 0.0     │ 1.0     │\n",
       "│ 2   │ 0.0     │ 0.0     │ 1.0     │ 0.0     │ 1.0     │ 0.0     │ 0.0     │\n",
       "│ 3   │ 1.0     │ 0.0     │ 0.0     │ 0.0     │ 0.0     │ 1.0     │ 0.0     │\n",
       "│ 4   │ 0.0     │ 1.0     │ 0.0     │ 0.0     │ 0.0     │ 0.0     │ 0.0     │\n",
       "│ 5   │ 0.0     │ 0.0     │ 0.0     │ 1.0     │ 0.0     │ 0.0     │ 0.0     │"
      ]
     },
     "execution_count": 32,
     "metadata": {},
     "output_type": "execute_result"
    }
   ],
   "source": [
    "hingek5 = convert(DataFrame, X05) "
   ]
  },
  {
   "cell_type": "code",
   "execution_count": 33,
   "metadata": {},
   "outputs": [
    {
     "data": {
      "text/html": [
       "<table class=\"data-frame\"><thead><tr><th></th><th>x1</th><th>x2</th><th>x3</th><th>x4</th><th>x5</th><th>x6</th><th>x7</th><th>x8</th><th>x9</th></tr><tr><th></th><th>Float64</th><th>Float64</th><th>Float64</th><th>Float64</th><th>Float64</th><th>Float64</th><th>Float64</th><th>Float64</th><th>Float64</th></tr></thead><tbody><p>5 rows × 10,310 columns (omitted printing of 10301 columns)</p><tr><th>1</th><td>0.0</td><td>0.0</td><td>0.0</td><td>0.0</td><td>0.0</td><td>0.0</td><td>1.0</td><td>0.0</td><td>0.0</td></tr><tr><th>2</th><td>0.0</td><td>0.0</td><td>1.0</td><td>0.0</td><td>1.0</td><td>0.0</td><td>0.0</td><td>0.0</td><td>1.0</td></tr><tr><th>3</th><td>1.0</td><td>0.0</td><td>0.0</td><td>0.0</td><td>0.0</td><td>1.0</td><td>0.0</td><td>0.0</td><td>0.0</td></tr><tr><th>4</th><td>0.0</td><td>1.0</td><td>0.0</td><td>0.0</td><td>0.0</td><td>0.0</td><td>0.0</td><td>0.0</td><td>0.0</td></tr><tr><th>5</th><td>0.0</td><td>0.0</td><td>0.0</td><td>1.0</td><td>0.0</td><td>0.0</td><td>0.0</td><td>1.0</td><td>0.0</td></tr></tbody></table>"
      ],
      "text/latex": [
       "\\begin{tabular}{r|cccccccccc}\n",
       "\t& x1 & x2 & x3 & x4 & x5 & x6 & x7 & x8 & x9 & \\\\\n",
       "\t\\hline\n",
       "\t& Float64 & Float64 & Float64 & Float64 & Float64 & Float64 & Float64 & Float64 & Float64 & \\\\\n",
       "\t\\hline\n",
       "\t1 & 0.0 & 0.0 & 0.0 & 0.0 & 0.0 & 0.0 & 1.0 & 0.0 & 0.0 & $\\dots$ \\\\\n",
       "\t2 & 0.0 & 0.0 & 1.0 & 0.0 & 1.0 & 0.0 & 0.0 & 0.0 & 1.0 & $\\dots$ \\\\\n",
       "\t3 & 1.0 & 0.0 & 0.0 & 0.0 & 0.0 & 1.0 & 0.0 & 0.0 & 0.0 & $\\dots$ \\\\\n",
       "\t4 & 0.0 & 1.0 & 0.0 & 0.0 & 0.0 & 0.0 & 0.0 & 0.0 & 0.0 & $\\dots$ \\\\\n",
       "\t5 & 0.0 & 0.0 & 0.0 & 1.0 & 0.0 & 0.0 & 0.0 & 1.0 & 0.0 & $\\dots$ \\\\\n",
       "\\end{tabular}\n"
      ],
      "text/plain": [
       "5×10310 DataFrame. Omitted printing of 10303 columns\n",
       "│ Row │ x1      │ x2      │ x3      │ x4      │ x5      │ x6      │ x7      │\n",
       "│     │ \u001b[90mFloat64\u001b[39m │ \u001b[90mFloat64\u001b[39m │ \u001b[90mFloat64\u001b[39m │ \u001b[90mFloat64\u001b[39m │ \u001b[90mFloat64\u001b[39m │ \u001b[90mFloat64\u001b[39m │ \u001b[90mFloat64\u001b[39m │\n",
       "├─────┼─────────┼─────────┼─────────┼─────────┼─────────┼─────────┼─────────┤\n",
       "│ 1   │ 0.0     │ 0.0     │ 0.0     │ 0.0     │ 0.0     │ 0.0     │ 1.0     │\n",
       "│ 2   │ 0.0     │ 0.0     │ 1.0     │ 0.0     │ 1.0     │ 0.0     │ 0.0     │\n",
       "│ 3   │ 1.0     │ 0.0     │ 0.0     │ 0.0     │ 0.0     │ 1.0     │ 0.0     │\n",
       "│ 4   │ 0.0     │ 1.0     │ 0.0     │ 0.0     │ 0.0     │ 0.0     │ 0.0     │\n",
       "│ 5   │ 0.0     │ 0.0     │ 0.0     │ 1.0     │ 0.0     │ 0.0     │ 0.0     │"
      ]
     },
     "execution_count": 33,
     "metadata": {},
     "output_type": "execute_result"
    }
   ],
   "source": [
    "CSV.write(\"/Users/kathy908000/github/health-care-research/data/hingek5.csv\",  hingek5)\n",
    "CSV.read(\"/Users/kathy908000/github/health-care-research/data/hingek5.csv\")\n"
   ]
  },
  {
   "cell_type": "code",
   "execution_count": 34,
   "metadata": {},
   "outputs": [],
   "source": [
    "#k=4"
   ]
  },
  {
   "cell_type": "code",
   "execution_count": 35,
   "metadata": {},
   "outputs": [
    {
     "data": {
      "text/plain": [
       "920-element Array{Loss,1}:\n",
       " HuberLoss(1.0, RealDomain(), 1.0)\n",
       " HuberLoss(1.0, RealDomain(), 1.0)\n",
       " OrdinalHingeLoss(1, 10, 1.0, OrdinalDomain(1, 10))\n",
       " WeightedHingeLoss(1.0, BoolDomain(), 1.0)\n",
       " WeightedHingeLoss(1.0, BoolDomain(), 1.0)\n",
       " WeightedHingeLoss(1.0, BoolDomain(), 1.0)\n",
       " WeightedHingeLoss(1.0, BoolDomain(), 1.0)\n",
       " WeightedHingeLoss(1.0, BoolDomain(), 1.0)\n",
       " WeightedHingeLoss(1.0, BoolDomain(), 1.0)\n",
       " WeightedHingeLoss(1.0, BoolDomain(), 1.0)\n",
       " WeightedHingeLoss(1.0, BoolDomain(), 1.0)\n",
       " WeightedHingeLoss(1.0, BoolDomain(), 1.0)\n",
       " WeightedHingeLoss(1.0, BoolDomain(), 1.0)\n",
       " ⋮\n",
       " WeightedHingeLoss(1.0, BoolDomain(), 1.0)\n",
       " WeightedHingeLoss(1.0, BoolDomain(), 1.0)\n",
       " WeightedHingeLoss(1.0, BoolDomain(), 1.0)\n",
       " WeightedHingeLoss(1.0, BoolDomain(), 1.0)\n",
       " WeightedHingeLoss(1.0, BoolDomain(), 1.0)\n",
       " WeightedHingeLoss(1.0, BoolDomain(), 1.0)\n",
       " WeightedHingeLoss(1.0, BoolDomain(), 1.0)\n",
       " WeightedHingeLoss(1.0, BoolDomain(), 1.0)\n",
       " WeightedHingeLoss(1.0, BoolDomain(), 1.0)\n",
       " WeightedHingeLoss(1.0, BoolDomain(), 1.0)\n",
       " WeightedHingeLoss(1.0, BoolDomain(), 1.0)\n",
       " WeightedHingeLoss(1.0, BoolDomain(), 1.0)"
      ]
     },
     "execution_count": 35,
     "metadata": {},
     "output_type": "execute_result"
    }
   ],
   "source": [
    "loss1 = fill(HuberLoss(),2)\n",
    "loss2 = fill(HingeLoss(), 917)\n",
    "loss3 = fill(OrdinalHingeLoss(), 1)\n",
    "losses = [loss1; loss3; loss2]\n",
    "losses"
   ]
  },
  {
   "cell_type": "code",
   "execution_count": 36,
   "metadata": {},
   "outputs": [
    {
     "name": "stdout",
     "output_type": "stream",
     "text": [
      "Fitting GLRM\n",
      "Iteration 10: objective value = 547044.3289933192\n",
      "Iteration 20: objective value = 461629.06711909064\n",
      "Iteration 30: objective value = 458055.4999498729\n"
     ]
    },
    {
     "data": {
      "text/plain": [
       "([0.0 1.0 … 0.0 0.0; 0.0 0.0 … 1.0 1.0; 1.0 0.0 … 0.0 0.0; 0.0 0.0 … 0.0 0.0], [3.0236190926115536 1.2829358647705784 … -1.043216123036991 -1.2278324505200806; 3.054939247945164 1.2396055453378858 … -1.1214212177473875 -1.064811375785501; 2.9587691312733218 1.2444846227643045 … -1.1055352091988093 -1.661344278156245; 3.0301126552384474 1.2554976849661785 … -1.1061066642349748 -1.2708967200992287], ConvergenceHistory(\"ProxGradGLRM\", [Inf, 8.809639344280688e6, 7.009860164855971e6, 5.369642737167674e6, 3.9478870062831566e6, 2.7911244754224205e6, 1.9063565008885416e6, 1.2830803117652684e6, 883661.1726983065, 658002.8247476513  …  459224.2372739171, 458932.7565060489, 458730.8953080178, 458543.30483791104, 458348.26080058375, 458184.4547892782, 458055.4999498729, 457941.25347550143, 457754.05841062596, 457689.0568375702], Float64[], [0.0, 0.0, 0.0, 0.0, 0.0, 0.0, 0.0, 0.0, 0.0, 0.0  …  0.0, 0.0, 0.0, 0.0, 0.0, 0.0, 0.0, 0.0, 0.0, 0.0], [0.0, 0.0, 0.0, 0.0, 0.0, 0.0, 0.0, 0.0, 0.0, 0.0  …  0.0, 0.0, 0.0, 0.0, 0.0, 0.0, 0.0, 0.0, 0.0, 0.0], [0.0, 12.707508087158203, 58.62587809562683, 71.22119402885437, 83.97893500328064, 96.7210009098053, 109.45852780342102, 122.15004062652588, 134.71933960914612, 147.13381576538086  …  342.73901653289795, 355.22218656539917, 367.79220747947693, 380.49677538871765, 393.16300225257874, 405.55572509765625, 417.9323241710663, 430.3013541698456, 442.64092230796814, 455.19175934791565], [0.0, 0.0, 0.0, 0.0, 0.0, 0.0, 0.0, 0.0, 0.0, 0.0  …  0.0, 0.0, 0.0, 0.0, 0.0, 0.0, 0.0, 0.0, 0.0, 0.0], 0))"
      ]
     },
     "execution_count": 36,
     "metadata": {},
     "output_type": "execute_result"
    }
   ],
   "source": [
    "k = 4\n",
    "A= df3\n",
    "rx = UnitOneSparseConstraint()\n",
    "ry = ZeroReg()\n",
    "glrm04 = GLRM(A,losses,rx,ry,k)\n",
    "X04,Y04,ch04 = fit!(glrm04)"
   ]
  },
  {
   "cell_type": "code",
   "execution_count": 37,
   "metadata": {},
   "outputs": [
    {
     "data": {
      "text/plain": [
       "4×10310 Array{Float64,2}:\n",
       " 0.0  1.0  0.0  0.0  0.0  1.0  0.0  1.0  …  0.0  0.0  0.0  0.0  0.0  0.0  0.0\n",
       " 0.0  0.0  0.0  1.0  1.0  0.0  1.0  0.0     1.0  0.0  0.0  0.0  0.0  1.0  1.0\n",
       " 1.0  0.0  0.0  0.0  0.0  0.0  0.0  0.0     0.0  0.0  1.0  1.0  1.0  0.0  0.0\n",
       " 0.0  0.0  1.0  0.0  0.0  0.0  0.0  0.0     0.0  1.0  0.0  0.0  0.0  0.0  0.0"
      ]
     },
     "execution_count": 37,
     "metadata": {},
     "output_type": "execute_result"
    }
   ],
   "source": [
    "X04"
   ]
  },
  {
   "cell_type": "code",
   "execution_count": 38,
   "metadata": {},
   "outputs": [
    {
     "name": "stdout",
     "output_type": "stream",
     "text": [
      "Computing cross validation error for each fold\n",
      "flattening observations\n",
      "computing CV folds\n",
      "\n",
      "forming train and test GLRM for fold 1\n",
      "training model on 4743656 samples and testing on 4741544\n",
      "fitting train GLRM for fold 1\n",
      "Fitting GLRM\n",
      "Iteration 10: objective value = 228460.42915155916\n",
      "computing train and test error for fold 1:\n",
      "\ttrain error: 0.04815914775906654\n",
      "\ttest error:  0.0482536951830532\n",
      "\n",
      "forming train and test GLRM for fold 2\n",
      "training model on 4741544 samples and testing on 4743656\n",
      "fitting train GLRM for fold 2\n",
      "Fitting GLRM\n",
      "Iteration 10: objective value = 228764.8008313564\n",
      "computing train and test error for fold 2:\n",
      "\ttrain error: 0.04824349877870011\n",
      "\ttest error:  0.04816388872824073\n"
     ]
    },
    {
     "data": {
      "text/html": [
       "<table class=\"data-frame\"><thead><tr><th></th><th>train_error</th><th>test_error</th></tr><tr><th></th><th>Float64</th><th>Float64</th></tr></thead><tbody><p>2 rows × 2 columns</p><tr><th>1</th><td>0.0481591</td><td>0.0482537</td></tr><tr><th>2</th><td>0.0482435</td><td>0.0481639</td></tr></tbody></table>"
      ],
      "text/latex": [
       "\\begin{tabular}{r|cc}\n",
       "\t& train\\_error & test\\_error\\\\\n",
       "\t\\hline\n",
       "\t& Float64 & Float64\\\\\n",
       "\t\\hline\n",
       "\t1 & 0.0481591 & 0.0482537 \\\\\n",
       "\t2 & 0.0482435 & 0.0481639 \\\\\n",
       "\\end{tabular}\n"
      ],
      "text/plain": [
       "2×2 DataFrame\n",
       "│ Row │ train_error │ test_error │\n",
       "│     │ \u001b[90mFloat64\u001b[39m     │ \u001b[90mFloat64\u001b[39m    │\n",
       "├─────┼─────────────┼────────────┤\n",
       "│ 1   │ 0.0481591   │ 0.0482537  │\n",
       "│ 2   │ 0.0482435   │ 0.0481639  │"
      ]
     },
     "execution_count": 38,
     "metadata": {},
     "output_type": "execute_result"
    }
   ],
   "source": [
    "println(\"Computing cross validation error for each fold\")\n",
    "params = Params(1.0, max_iter=100, abs_tol=0.0, min_stepsize=.001)\n",
    "train_error, test_error, train_glrms, test_glrms = cross_validate(glrm04, nfolds=2, params=params)\n",
    "df = DataFrame(train_error = train_error, test_error = test_error)"
   ]
  },
  {
   "cell_type": "code",
   "execution_count": 39,
   "metadata": {},
   "outputs": [
    {
     "data": {
      "text/html": [
       "<table class=\"data-frame\"><thead><tr><th></th><th>x1</th><th>x2</th><th>x3</th><th>x4</th><th>x5</th><th>x6</th><th>x7</th><th>x8</th><th>x9</th></tr><tr><th></th><th>Float64</th><th>Float64</th><th>Float64</th><th>Float64</th><th>Float64</th><th>Float64</th><th>Float64</th><th>Float64</th><th>Float64</th></tr></thead><tbody><p>4 rows × 10,310 columns (omitted printing of 10301 columns)</p><tr><th>1</th><td>0.0</td><td>1.0</td><td>0.0</td><td>0.0</td><td>0.0</td><td>1.0</td><td>0.0</td><td>1.0</td><td>1.0</td></tr><tr><th>2</th><td>0.0</td><td>0.0</td><td>0.0</td><td>1.0</td><td>1.0</td><td>0.0</td><td>1.0</td><td>0.0</td><td>0.0</td></tr><tr><th>3</th><td>1.0</td><td>0.0</td><td>0.0</td><td>0.0</td><td>0.0</td><td>0.0</td><td>0.0</td><td>0.0</td><td>0.0</td></tr><tr><th>4</th><td>0.0</td><td>0.0</td><td>1.0</td><td>0.0</td><td>0.0</td><td>0.0</td><td>0.0</td><td>0.0</td><td>0.0</td></tr></tbody></table>"
      ],
      "text/latex": [
       "\\begin{tabular}{r|cccccccccc}\n",
       "\t& x1 & x2 & x3 & x4 & x5 & x6 & x7 & x8 & x9 & \\\\\n",
       "\t\\hline\n",
       "\t& Float64 & Float64 & Float64 & Float64 & Float64 & Float64 & Float64 & Float64 & Float64 & \\\\\n",
       "\t\\hline\n",
       "\t1 & 0.0 & 1.0 & 0.0 & 0.0 & 0.0 & 1.0 & 0.0 & 1.0 & 1.0 & $\\dots$ \\\\\n",
       "\t2 & 0.0 & 0.0 & 0.0 & 1.0 & 1.0 & 0.0 & 1.0 & 0.0 & 0.0 & $\\dots$ \\\\\n",
       "\t3 & 1.0 & 0.0 & 0.0 & 0.0 & 0.0 & 0.0 & 0.0 & 0.0 & 0.0 & $\\dots$ \\\\\n",
       "\t4 & 0.0 & 0.0 & 1.0 & 0.0 & 0.0 & 0.0 & 0.0 & 0.0 & 0.0 & $\\dots$ \\\\\n",
       "\\end{tabular}\n"
      ],
      "text/plain": [
       "4×10310 DataFrame. Omitted printing of 10303 columns\n",
       "│ Row │ x1      │ x2      │ x3      │ x4      │ x5      │ x6      │ x7      │\n",
       "│     │ \u001b[90mFloat64\u001b[39m │ \u001b[90mFloat64\u001b[39m │ \u001b[90mFloat64\u001b[39m │ \u001b[90mFloat64\u001b[39m │ \u001b[90mFloat64\u001b[39m │ \u001b[90mFloat64\u001b[39m │ \u001b[90mFloat64\u001b[39m │\n",
       "├─────┼─────────┼─────────┼─────────┼─────────┼─────────┼─────────┼─────────┤\n",
       "│ 1   │ 0.0     │ 1.0     │ 0.0     │ 0.0     │ 0.0     │ 1.0     │ 0.0     │\n",
       "│ 2   │ 0.0     │ 0.0     │ 0.0     │ 1.0     │ 1.0     │ 0.0     │ 1.0     │\n",
       "│ 3   │ 1.0     │ 0.0     │ 0.0     │ 0.0     │ 0.0     │ 0.0     │ 0.0     │\n",
       "│ 4   │ 0.0     │ 0.0     │ 1.0     │ 0.0     │ 0.0     │ 0.0     │ 0.0     │"
      ]
     },
     "execution_count": 39,
     "metadata": {},
     "output_type": "execute_result"
    }
   ],
   "source": [
    "hingek4 = convert(DataFrame, X04) "
   ]
  },
  {
   "cell_type": "code",
   "execution_count": 40,
   "metadata": {},
   "outputs": [
    {
     "data": {
      "text/html": [
       "<table class=\"data-frame\"><thead><tr><th></th><th>x1</th><th>x2</th><th>x3</th><th>x4</th><th>x5</th><th>x6</th><th>x7</th><th>x8</th><th>x9</th></tr><tr><th></th><th>Float64</th><th>Float64</th><th>Float64</th><th>Float64</th><th>Float64</th><th>Float64</th><th>Float64</th><th>Float64</th><th>Float64</th></tr></thead><tbody><p>4 rows × 10,310 columns (omitted printing of 10301 columns)</p><tr><th>1</th><td>0.0</td><td>1.0</td><td>0.0</td><td>0.0</td><td>0.0</td><td>1.0</td><td>0.0</td><td>1.0</td><td>1.0</td></tr><tr><th>2</th><td>0.0</td><td>0.0</td><td>0.0</td><td>1.0</td><td>1.0</td><td>0.0</td><td>1.0</td><td>0.0</td><td>0.0</td></tr><tr><th>3</th><td>1.0</td><td>0.0</td><td>0.0</td><td>0.0</td><td>0.0</td><td>0.0</td><td>0.0</td><td>0.0</td><td>0.0</td></tr><tr><th>4</th><td>0.0</td><td>0.0</td><td>1.0</td><td>0.0</td><td>0.0</td><td>0.0</td><td>0.0</td><td>0.0</td><td>0.0</td></tr></tbody></table>"
      ],
      "text/latex": [
       "\\begin{tabular}{r|cccccccccc}\n",
       "\t& x1 & x2 & x3 & x4 & x5 & x6 & x7 & x8 & x9 & \\\\\n",
       "\t\\hline\n",
       "\t& Float64 & Float64 & Float64 & Float64 & Float64 & Float64 & Float64 & Float64 & Float64 & \\\\\n",
       "\t\\hline\n",
       "\t1 & 0.0 & 1.0 & 0.0 & 0.0 & 0.0 & 1.0 & 0.0 & 1.0 & 1.0 & $\\dots$ \\\\\n",
       "\t2 & 0.0 & 0.0 & 0.0 & 1.0 & 1.0 & 0.0 & 1.0 & 0.0 & 0.0 & $\\dots$ \\\\\n",
       "\t3 & 1.0 & 0.0 & 0.0 & 0.0 & 0.0 & 0.0 & 0.0 & 0.0 & 0.0 & $\\dots$ \\\\\n",
       "\t4 & 0.0 & 0.0 & 1.0 & 0.0 & 0.0 & 0.0 & 0.0 & 0.0 & 0.0 & $\\dots$ \\\\\n",
       "\\end{tabular}\n"
      ],
      "text/plain": [
       "4×10310 DataFrame. Omitted printing of 10303 columns\n",
       "│ Row │ x1      │ x2      │ x3      │ x4      │ x5      │ x6      │ x7      │\n",
       "│     │ \u001b[90mFloat64\u001b[39m │ \u001b[90mFloat64\u001b[39m │ \u001b[90mFloat64\u001b[39m │ \u001b[90mFloat64\u001b[39m │ \u001b[90mFloat64\u001b[39m │ \u001b[90mFloat64\u001b[39m │ \u001b[90mFloat64\u001b[39m │\n",
       "├─────┼─────────┼─────────┼─────────┼─────────┼─────────┼─────────┼─────────┤\n",
       "│ 1   │ 0.0     │ 1.0     │ 0.0     │ 0.0     │ 0.0     │ 1.0     │ 0.0     │\n",
       "│ 2   │ 0.0     │ 0.0     │ 0.0     │ 1.0     │ 1.0     │ 0.0     │ 1.0     │\n",
       "│ 3   │ 1.0     │ 0.0     │ 0.0     │ 0.0     │ 0.0     │ 0.0     │ 0.0     │\n",
       "│ 4   │ 0.0     │ 0.0     │ 1.0     │ 0.0     │ 0.0     │ 0.0     │ 0.0     │"
      ]
     },
     "execution_count": 40,
     "metadata": {},
     "output_type": "execute_result"
    }
   ],
   "source": [
    "CSV.write(\"/Users/kathy908000/github/health-care-research/data/hingek4.csv\",  hingek4)\n",
    "CSV.read(\"/Users/kathy908000/github/health-care-research/data/hingek4.csv\")\n"
   ]
  },
  {
   "cell_type": "code",
   "execution_count": 41,
   "metadata": {},
   "outputs": [],
   "source": [
    "#k=3"
   ]
  },
  {
   "cell_type": "code",
   "execution_count": 4,
   "metadata": {},
   "outputs": [
    {
     "data": {
      "text/plain": [
       "920-element Array{Loss,1}:\n",
       " HuberLoss(1.0, RealDomain(), 1.0)\n",
       " HuberLoss(1.0, RealDomain(), 1.0)\n",
       " OrdinalHingeLoss(1, 10, 1.0, OrdinalDomain(1, 10))\n",
       " WeightedHingeLoss(1.0, BoolDomain(), 1.0)\n",
       " WeightedHingeLoss(1.0, BoolDomain(), 1.0)\n",
       " WeightedHingeLoss(1.0, BoolDomain(), 1.0)\n",
       " WeightedHingeLoss(1.0, BoolDomain(), 1.0)\n",
       " WeightedHingeLoss(1.0, BoolDomain(), 1.0)\n",
       " WeightedHingeLoss(1.0, BoolDomain(), 1.0)\n",
       " WeightedHingeLoss(1.0, BoolDomain(), 1.0)\n",
       " WeightedHingeLoss(1.0, BoolDomain(), 1.0)\n",
       " WeightedHingeLoss(1.0, BoolDomain(), 1.0)\n",
       " WeightedHingeLoss(1.0, BoolDomain(), 1.0)\n",
       " ⋮\n",
       " WeightedHingeLoss(1.0, BoolDomain(), 1.0)\n",
       " WeightedHingeLoss(1.0, BoolDomain(), 1.0)\n",
       " WeightedHingeLoss(1.0, BoolDomain(), 1.0)\n",
       " WeightedHingeLoss(1.0, BoolDomain(), 1.0)\n",
       " WeightedHingeLoss(1.0, BoolDomain(), 1.0)\n",
       " WeightedHingeLoss(1.0, BoolDomain(), 1.0)\n",
       " WeightedHingeLoss(1.0, BoolDomain(), 1.0)\n",
       " WeightedHingeLoss(1.0, BoolDomain(), 1.0)\n",
       " WeightedHingeLoss(1.0, BoolDomain(), 1.0)\n",
       " WeightedHingeLoss(1.0, BoolDomain(), 1.0)\n",
       " WeightedHingeLoss(1.0, BoolDomain(), 1.0)\n",
       " WeightedHingeLoss(1.0, BoolDomain(), 1.0)"
      ]
     },
     "execution_count": 4,
     "metadata": {},
     "output_type": "execute_result"
    }
   ],
   "source": [
    "loss1 = fill(HuberLoss(),2)\n",
    "loss2 = fill(HingeLoss(), 917)\n",
    "loss3 = fill(OrdinalHingeLoss(), 1)\n",
    "losses = [loss1; loss3; loss2]\n",
    "losses"
   ]
  },
  {
   "cell_type": "code",
   "execution_count": 5,
   "metadata": {
    "scrolled": true
   },
   "outputs": [
    {
     "name": "stdout",
     "output_type": "stream",
     "text": [
      "Fitting GLRM\n",
      "Iteration 10: objective value = 482563.07654725574\n",
      "Iteration 20: objective value = 461330.2897421785\n"
     ]
    },
    {
     "data": {
      "text/plain": [
       "([0.0 0.0 … 0.0 0.0; 0.0 1.0 … 0.0 0.0; 1.0 0.0 … 1.0 1.0], [2.9919505998550506 1.2469042536748358 … -1.0965651640812017 -1.5749765002517004; 3.074003062673055 1.2923864122797606 … -1.3052402261447096 -1.0442307116316778; 2.922126418113742 1.231171241626767 … -1.6986662000030162 -2.4770274108621764], ConvergenceHistory(\"ProxGradGLRM\", [Inf, 8.195791819949925e6, 5.956078499382302e6, 4.09231203441685e6, 2.6373012411984527e6, 1.6296923590188506e6, 1.0317402669532349e6, 716974.3799924289, 568354.8996308036, 506051.28120063554  …  460918.8549846397, 460638.88095666555, 460424.4809877514, 460234.35882961215, 460043.5937028405, 459826.0279343162, 459693.47326735355, 459535.9454037331, 459416.3547054248, 459332.00595671055], Float64[], [0.0, 0.0, 0.0, 0.0, 0.0, 0.0, 0.0, 0.0, 0.0, 0.0  …  0.0, 0.0, 0.0, 0.0, 0.0, 0.0, 0.0, 0.0, 0.0, 0.0], [0.0, 0.0, 0.0, 0.0, 0.0, 0.0, 0.0, 0.0, 0.0, 0.0  …  0.0, 0.0, 0.0, 0.0, 0.0, 0.0, 0.0, 0.0, 0.0, 0.0], [0.0, 16.01642417907715, 65.3450939655304, 80.59241104125977, 94.65644788742065, 107.28193783760071, 119.82031989097595, 132.9749870300293, 145.27193903923035, 157.42435383796692  …  309.30906915664673, 324.2982223033905, 337.43755626678467, 351.18830823898315, 364.3164050579071, 379.5311689376831, 392.82578206062317, 405.12210607528687, 416.9654061794281, 428.71490120887756], [0.0, 0.0, 0.0, 0.0, 0.0, 0.0, 0.0, 0.0, 0.0, 0.0  …  0.0, 0.0, 0.0, 0.0, 0.0, 0.0, 0.0, 0.0, 0.0, 0.0], 0))"
      ]
     },
     "execution_count": 5,
     "metadata": {},
     "output_type": "execute_result"
    }
   ],
   "source": [
    "k = 3\n",
    "A= df3\n",
    "rx = UnitOneSparseConstraint()\n",
    "ry = ZeroReg()\n",
    "glrm03 = GLRM(A,losses,rx,ry,k)\n",
    "X03,Y03,ch03 = fit!(glrm03)"
   ]
  },
  {
   "cell_type": "code",
   "execution_count": 6,
   "metadata": {},
   "outputs": [
    {
     "data": {
      "text/plain": [
       "3×920 Array{Float64,2}:\n",
       " 2.99195  1.2469   7.04899  -1.00119   …  -1.17109  -1.09657  -1.57498\n",
       " 3.074    1.29239  7.0002   -0.999838     -1.21881  -1.30524  -1.04423\n",
       " 2.92213  1.23117  7.00079  -1.02169      -1.17105  -1.69867  -2.47703"
      ]
     },
     "execution_count": 6,
     "metadata": {},
     "output_type": "execute_result"
    }
   ],
   "source": [
    "Y03"
   ]
  },
  {
   "cell_type": "code",
   "execution_count": 8,
   "metadata": {},
   "outputs": [
    {
     "data": {
      "text/html": [
       "<table class=\"data-frame\"><thead><tr><th></th><th>x1</th><th>x2</th><th>x3</th><th>x4</th><th>x5</th><th>x6</th><th>x7</th><th>x8</th><th>x9</th><th>x10</th><th>x11</th><th>x12</th><th>x13</th></tr><tr><th></th><th>Float64</th><th>Float64</th><th>Int64</th><th>Bool</th><th>Bool</th><th>Bool</th><th>Bool</th><th>Bool</th><th>Bool</th><th>Bool</th><th>Bool</th><th>Bool</th><th>Bool</th></tr></thead><tbody><p>3 rows × 920 columns (omitted printing of 907 columns)</p><tr><th>1</th><td>2.99195</td><td>1.2469</td><td>7</td><td>0</td><td>1</td><td>0</td><td>0</td><td>0</td><td>0</td><td>1</td><td>0</td><td>0</td><td>0</td></tr><tr><th>2</th><td>3.074</td><td>1.29239</td><td>7</td><td>0</td><td>1</td><td>0</td><td>0</td><td>0</td><td>0</td><td>1</td><td>0</td><td>0</td><td>0</td></tr><tr><th>3</th><td>2.92213</td><td>1.23117</td><td>7</td><td>0</td><td>1</td><td>0</td><td>0</td><td>0</td><td>0</td><td>1</td><td>0</td><td>0</td><td>0</td></tr></tbody></table>"
      ],
      "text/latex": [
       "\\begin{tabular}{r|cccccccccccccc}\n",
       "\t& x1 & x2 & x3 & x4 & x5 & x6 & x7 & x8 & x9 & x10 & x11 & x12 & x13 & \\\\\n",
       "\t\\hline\n",
       "\t& Float64 & Float64 & Int64 & Bool & Bool & Bool & Bool & Bool & Bool & Bool & Bool & Bool & Bool & \\\\\n",
       "\t\\hline\n",
       "\t1 & 2.99195 & 1.2469 & 7 & 0 & 1 & 0 & 0 & 0 & 0 & 1 & 0 & 0 & 0 & $\\dots$ \\\\\n",
       "\t2 & 3.074 & 1.29239 & 7 & 0 & 1 & 0 & 0 & 0 & 0 & 1 & 0 & 0 & 0 & $\\dots$ \\\\\n",
       "\t3 & 2.92213 & 1.23117 & 7 & 0 & 1 & 0 & 0 & 0 & 0 & 1 & 0 & 0 & 0 & $\\dots$ \\\\\n",
       "\\end{tabular}\n"
      ],
      "text/plain": [
       "3×920 DataFrame. Omitted printing of 911 columns\n",
       "│ Row │ x1      │ x2      │ x3    │ x4   │ x5   │ x6   │ x7   │ x8   │ x9   │\n",
       "│     │ \u001b[90mFloat64\u001b[39m │ \u001b[90mFloat64\u001b[39m │ \u001b[90mInt64\u001b[39m │ \u001b[90mBool\u001b[39m │ \u001b[90mBool\u001b[39m │ \u001b[90mBool\u001b[39m │ \u001b[90mBool\u001b[39m │ \u001b[90mBool\u001b[39m │ \u001b[90mBool\u001b[39m │\n",
       "├─────┼─────────┼─────────┼───────┼──────┼──────┼──────┼──────┼──────┼──────┤\n",
       "│ 1   │ 2.99195 │ 1.2469  │ 7     │ 0    │ 1    │ 0    │ 0    │ 0    │ 0    │\n",
       "│ 2   │ 3.074   │ 1.29239 │ 7     │ 0    │ 1    │ 0    │ 0    │ 0    │ 0    │\n",
       "│ 3   │ 2.92213 │ 1.23117 │ 7     │ 0    │ 1    │ 0    │ 0    │ 0    │ 0    │"
      ]
     },
     "execution_count": 8,
     "metadata": {},
     "output_type": "execute_result"
    }
   ],
   "source": [
    "imputey3 = impute(losses, Y03) \n",
    "imputey3d  = convert(DataFrame, imputey3) \n",
    "CSV.write(\"/Users/kathy908000/github/health-care-research/data/iy3.csv\",  imputey3d)\n",
    "CSV.read(\"/Users/kathy908000/github/health-care-research/data/iy3.csv\")"
   ]
  },
  {
   "cell_type": "code",
   "execution_count": 9,
   "metadata": {},
   "outputs": [
    {
     "data": {
      "text/html": [
       "<table class=\"data-frame\"><thead><tr><th></th><th>x1</th><th>x2</th><th>x3</th><th>x4</th><th>x5</th><th>x6</th><th>x7</th><th>x8</th><th>x9</th></tr><tr><th></th><th>Float64</th><th>Float64</th><th>Float64</th><th>Float64</th><th>Float64</th><th>Float64</th><th>Float64</th><th>Float64</th><th>Float64</th></tr></thead><tbody><p>3 rows × 10,310 columns (omitted printing of 10301 columns)</p><tr><th>1</th><td>0.0</td><td>0.0</td><td>0.0</td><td>1.0</td><td>1.0</td><td>0.0</td><td>0.0</td><td>1.0</td><td>1.0</td></tr><tr><th>2</th><td>0.0</td><td>1.0</td><td>0.0</td><td>0.0</td><td>0.0</td><td>1.0</td><td>1.0</td><td>0.0</td><td>0.0</td></tr><tr><th>3</th><td>1.0</td><td>0.0</td><td>1.0</td><td>0.0</td><td>0.0</td><td>0.0</td><td>0.0</td><td>0.0</td><td>0.0</td></tr></tbody></table>"
      ],
      "text/latex": [
       "\\begin{tabular}{r|cccccccccc}\n",
       "\t& x1 & x2 & x3 & x4 & x5 & x6 & x7 & x8 & x9 & \\\\\n",
       "\t\\hline\n",
       "\t& Float64 & Float64 & Float64 & Float64 & Float64 & Float64 & Float64 & Float64 & Float64 & \\\\\n",
       "\t\\hline\n",
       "\t1 & 0.0 & 0.0 & 0.0 & 1.0 & 1.0 & 0.0 & 0.0 & 1.0 & 1.0 & $\\dots$ \\\\\n",
       "\t2 & 0.0 & 1.0 & 0.0 & 0.0 & 0.0 & 1.0 & 1.0 & 0.0 & 0.0 & $\\dots$ \\\\\n",
       "\t3 & 1.0 & 0.0 & 1.0 & 0.0 & 0.0 & 0.0 & 0.0 & 0.0 & 0.0 & $\\dots$ \\\\\n",
       "\\end{tabular}\n"
      ],
      "text/plain": [
       "3×10310 DataFrame. Omitted printing of 10303 columns\n",
       "│ Row │ x1      │ x2      │ x3      │ x4      │ x5      │ x6      │ x7      │\n",
       "│     │ \u001b[90mFloat64\u001b[39m │ \u001b[90mFloat64\u001b[39m │ \u001b[90mFloat64\u001b[39m │ \u001b[90mFloat64\u001b[39m │ \u001b[90mFloat64\u001b[39m │ \u001b[90mFloat64\u001b[39m │ \u001b[90mFloat64\u001b[39m │\n",
       "├─────┼─────────┼─────────┼─────────┼─────────┼─────────┼─────────┼─────────┤\n",
       "│ 1   │ 0.0     │ 0.0     │ 0.0     │ 1.0     │ 1.0     │ 0.0     │ 0.0     │\n",
       "│ 2   │ 0.0     │ 1.0     │ 0.0     │ 0.0     │ 0.0     │ 1.0     │ 1.0     │\n",
       "│ 3   │ 1.0     │ 0.0     │ 1.0     │ 0.0     │ 0.0     │ 0.0     │ 0.0     │"
      ]
     },
     "execution_count": 9,
     "metadata": {},
     "output_type": "execute_result"
    }
   ],
   "source": [
    "hingek3= convert(DataFrame, X03) "
   ]
  },
  {
   "cell_type": "code",
   "execution_count": 10,
   "metadata": {
    "scrolled": true
   },
   "outputs": [
    {
     "data": {
      "text/html": [
       "<table class=\"data-frame\"><thead><tr><th></th><th>x1</th><th>x2</th><th>x3</th><th>x4</th><th>x5</th><th>x6</th><th>x7</th><th>x8</th><th>x9</th></tr><tr><th></th><th>Float64</th><th>Float64</th><th>Float64</th><th>Float64</th><th>Float64</th><th>Float64</th><th>Float64</th><th>Float64</th><th>Float64</th></tr></thead><tbody><p>3 rows × 10,310 columns (omitted printing of 10301 columns)</p><tr><th>1</th><td>0.0</td><td>0.0</td><td>0.0</td><td>1.0</td><td>1.0</td><td>0.0</td><td>0.0</td><td>1.0</td><td>1.0</td></tr><tr><th>2</th><td>0.0</td><td>1.0</td><td>0.0</td><td>0.0</td><td>0.0</td><td>1.0</td><td>1.0</td><td>0.0</td><td>0.0</td></tr><tr><th>3</th><td>1.0</td><td>0.0</td><td>1.0</td><td>0.0</td><td>0.0</td><td>0.0</td><td>0.0</td><td>0.0</td><td>0.0</td></tr></tbody></table>"
      ],
      "text/latex": [
       "\\begin{tabular}{r|cccccccccc}\n",
       "\t& x1 & x2 & x3 & x4 & x5 & x6 & x7 & x8 & x9 & \\\\\n",
       "\t\\hline\n",
       "\t& Float64 & Float64 & Float64 & Float64 & Float64 & Float64 & Float64 & Float64 & Float64 & \\\\\n",
       "\t\\hline\n",
       "\t1 & 0.0 & 0.0 & 0.0 & 1.0 & 1.0 & 0.0 & 0.0 & 1.0 & 1.0 & $\\dots$ \\\\\n",
       "\t2 & 0.0 & 1.0 & 0.0 & 0.0 & 0.0 & 1.0 & 1.0 & 0.0 & 0.0 & $\\dots$ \\\\\n",
       "\t3 & 1.0 & 0.0 & 1.0 & 0.0 & 0.0 & 0.0 & 0.0 & 0.0 & 0.0 & $\\dots$ \\\\\n",
       "\\end{tabular}\n"
      ],
      "text/plain": [
       "3×10310 DataFrame. Omitted printing of 10303 columns\n",
       "│ Row │ x1      │ x2      │ x3      │ x4      │ x5      │ x6      │ x7      │\n",
       "│     │ \u001b[90mFloat64\u001b[39m │ \u001b[90mFloat64\u001b[39m │ \u001b[90mFloat64\u001b[39m │ \u001b[90mFloat64\u001b[39m │ \u001b[90mFloat64\u001b[39m │ \u001b[90mFloat64\u001b[39m │ \u001b[90mFloat64\u001b[39m │\n",
       "├─────┼─────────┼─────────┼─────────┼─────────┼─────────┼─────────┼─────────┤\n",
       "│ 1   │ 0.0     │ 0.0     │ 0.0     │ 1.0     │ 1.0     │ 0.0     │ 0.0     │\n",
       "│ 2   │ 0.0     │ 1.0     │ 0.0     │ 0.0     │ 0.0     │ 1.0     │ 1.0     │\n",
       "│ 3   │ 1.0     │ 0.0     │ 1.0     │ 0.0     │ 0.0     │ 0.0     │ 0.0     │"
      ]
     },
     "execution_count": 10,
     "metadata": {},
     "output_type": "execute_result"
    }
   ],
   "source": [
    "CSV.write(\"/Users/kathy908000/github/health-care-research/data/hingek3_2.csv\",  hingek3)\n",
    "CSV.read(\"/Users/kathy908000/github/health-care-research/data/hingek3_2.csv\")\n"
   ]
  },
  {
   "cell_type": "code",
   "execution_count": null,
   "metadata": {},
   "outputs": [],
   "source": []
  },
  {
   "cell_type": "markdown",
   "metadata": {},
   "source": [
    "# NNMF"
   ]
  },
  {
   "cell_type": "code",
   "execution_count": 8,
   "metadata": {},
   "outputs": [
    {
     "name": "stdout",
     "output_type": "stream",
     "text": [
      "Fitting GLRM\n",
      "Iteration 10: objective value = 764537.0790768476\n",
      "Iteration 20: objective value = 189334.73924219978\n",
      "Iteration 30: objective value = 161362.85257062083\n",
      "Iteration 40: objective value = 157023.18324285527\n",
      "Iteration 50: objective value = 151069.50439275693\n",
      "Iteration 60: objective value = 145188.07084500446\n",
      "Iteration 70: objective value = 141302.76335271215\n",
      "Iteration 80: objective value = 139114.99790250554\n",
      "Iteration 90: objective value = 137963.30744522018\n",
      "Convergence history:[Inf, 8.130553586995648e7, 2.398761303180184e6, 2.1148184233406405e6, 2.0232038206393218e6, 1.8252981416761943e6, 1.6932783623200082e6, 1.437978115467547e6, 1.2151400185981703e6, 956005.9864030329, 764537.0790768476, 620886.7172769974, 530063.5752974483, 466363.65305628296, 412671.1453068042, 359283.87048848683, 307650.7349968916, 262058.0281492326, 227402.07294989645, 203927.00288718744, 189334.73924219978, 180378.50478425293, 174673.72917126463, 170740.8323234377, 167997.60647421083, 166046.3546136129, 164621.75685415327, 163529.2332954866, 162661.1368957251, 161960.12877117083, 161362.85257062083, 160854.73306966797, 160396.83364265697, 159982.62053613618, 159586.84412799068, 159201.8383224868, 158810.93700287535, 158400.69456063665, 157959.7037231417, 157472.04989482538, 157023.18324285527, 156563.17713802983, 156083.95072206957, 155577.1324719729, 155035.85445182424, 154455.84095392757, 153834.75289148584, 153182.63067273787, 152494.98600683076, 151788.54036580186, 151069.50439275693, 150347.25140722474, 149632.36274963012, 148950.69192185078, 148294.75574038943, 147661.62345621575, 147079.64690000648, 146520.65132804847, 146048.6237407977, 145640.13099568215, 145188.07084500446, 144757.98095704635, 144378.03315153066, 143968.7752082212, 143606.52748027653, 143192.19209121628, 142860.6169571874, 142447.0429281798, 142066.6602262235, 141647.03235115221, 141302.76335271215, 140930.5556106124, 140642.68383901916, 140347.71485754356, 140098.88154246355, 139867.09549063316, 139699.11861219053, 139528.88127888774, 139397.2180525947, 139241.5931784428, 139114.99790250554, 138973.714601994, 138857.59756593427, 138726.48001152, 138616.42421221273, 138486.620055713, 138380.4334556064, 138266.02204297754, 138167.5362182238, 138058.77677924768, 137963.30744522018, 137866.7049280426, 137770.54153546388, 137670.98045784823, 137574.97649389558, 137476.22055398693, 137381.7000427251]\n"
     ]
    }
   ],
   "source": [
    "# minimize_{X>=0, Y>=0} ||A - XY||^2\n",
    "\n",
    "k = 10\n",
    "A = df3\n",
    "loss = QuadLoss()\n",
    "r = NonNegConstraint()\n",
    "glrm = GLRM(A,loss,r,r,k)\n",
    "X,Y,ch = fit!(glrm)\n",
    "println(\"Convergence history:\",ch.objective)\n",
    "    "
   ]
  },
  {
   "cell_type": "code",
   "execution_count": 9,
   "metadata": {},
   "outputs": [
    {
     "data": {
      "text/plain": [
       "10×10310 Array{Float64,2}:\n",
       " 0.00746376  0.0158258    0.0         …  0.0819388   0.0478082    0.0\n",
       " 0.0159935   0.00320387   0.00810761     0.00432487  0.0          0.0\n",
       " 0.0         0.0221281    0.0            0.00324694  0.0          0.0117319\n",
       " 0.0         0.0          0.0            0.0125264   0.00883234   0.0\n",
       " 0.0         0.0          0.0            0.0         0.000113913  0.0\n",
       " 0.0906721   0.139666     0.082231    …  0.0913632   0.105025     0.0234399\n",
       " 0.0         0.000331621  0.0            0.0         0.0          0.0\n",
       " 0.119204    0.012094     0.0331585      0.0290805   0.0276679    0.0311856\n",
       " 0.128364    0.184366     0.295133       0.148516    0.317999     0.270158\n",
       " 0.0         0.0          0.0            0.0259988   0.0178199    0.0172448"
      ]
     },
     "execution_count": 9,
     "metadata": {},
     "output_type": "execute_result"
    }
   ],
   "source": [
    "X"
   ]
  },
  {
   "cell_type": "code",
   "execution_count": 10,
   "metadata": {
    "scrolled": false
   },
   "outputs": [
    {
     "name": "stdout",
     "output_type": "stream",
     "text": [
      "Computing cross validation error for each fold\n",
      "flattening observations\n",
      "computing CV folds\n",
      "\n",
      "forming train and test GLRM for fold 1\n",
      "training model on 7587682 samples and testing on 1897518\n",
      "fitting train GLRM for fold 1\n",
      "Fitting GLRM\n",
      "Iteration 10: objective value = 108646.87673280195\n",
      "Iteration 20: objective value = 108233.82956817739\n",
      "Iteration 30: objective value = 107878.62086500217\n",
      "Iteration 40: objective value = 107478.83032595043\n",
      "Iteration 50: objective value = 106965.49226451431\n",
      "Iteration 60: objective value = 106329.57067913972\n",
      "Iteration 70: objective value = 105681.31173824564\n",
      "Iteration 80: objective value = 105125.48956562344\n",
      "Iteration 90: objective value = 104489.58431235782\n",
      "Iteration 100: objective value = 103539.33470941114\n",
      "computing train and test error for fold 1:\n",
      "\ttrain error: 0.01364571350109242\n",
      "\ttest error:  0.03605815738829553\n",
      "\n",
      "forming train and test GLRM for fold 2\n",
      "training model on 7587945 samples and testing on 1897255\n",
      "fitting train GLRM for fold 2\n",
      "Fitting GLRM\n",
      "Iteration 10: objective value = 108561.43348353573\n",
      "Iteration 20: objective value = 108147.98431345486\n",
      "Iteration 30: objective value = 107785.61821047057\n",
      "Iteration 40: objective value = 107378.07128670959\n",
      "Iteration 50: objective value = 106858.22218424961\n",
      "Iteration 60: objective value = 106212.25695256719\n",
      "Iteration 70: objective value = 105562.77597834576\n",
      "Iteration 80: objective value = 105026.39841988424\n",
      "Iteration 90: objective value = 104406.93563557009\n",
      "Iteration 100: objective value = 103496.78834830946\n",
      "computing train and test error for fold 2:\n",
      "\ttrain error: 0.013639633438077047\n",
      "\ttest error:  0.03781680108143324\n",
      "\n",
      "forming train and test GLRM for fold 3\n",
      "training model on 7588981 samples and testing on 1896219\n",
      "fitting train GLRM for fold 3\n",
      "Fitting GLRM\n",
      "Iteration 10: objective value = 108578.99348862258\n",
      "Iteration 20: objective value = 108175.11439534252\n",
      "Iteration 30: objective value = 107820.92660752726\n",
      "Iteration 40: objective value = 107418.36815762849\n",
      "Iteration 50: objective value = 106903.22592033587\n",
      "Iteration 60: objective value = 106257.45580721209\n",
      "Iteration 70: objective value = 105607.7924882627\n",
      "Iteration 80: objective value = 105065.58232312526\n",
      "Iteration 90: objective value = 104450.03166279942\n",
      "Iteration 100: objective value = 103535.21117919227\n",
      "computing train and test error for fold 3:\n",
      "\ttrain error: 0.013642834417317312\n",
      "\ttest error:  0.033869261817241085\n",
      "\n",
      "forming train and test GLRM for fold 4\n",
      "training model on 7588612 samples and testing on 1896588\n",
      "fitting train GLRM for fold 4\n",
      "Fitting GLRM\n",
      "Iteration 10: objective value = 108519.12782171185\n",
      "Iteration 20: objective value = 108097.31078845107\n",
      "Iteration 30: objective value = 107724.35250965202\n",
      "Iteration 40: objective value = 107300.19847784998\n",
      "Iteration 50: objective value = 106756.67567703486\n",
      "Iteration 60: objective value = 106081.99206613317\n",
      "Iteration 70: objective value = 105411.47350629319\n",
      "Iteration 80: objective value = 104855.44626328781\n",
      "Iteration 90: objective value = 104194.8438926028\n",
      "Iteration 100: objective value = 103205.36088860813\n",
      "computing train and test error for fold 4:\n",
      "\ttrain error: 0.013600031321746222\n",
      "\ttest error:  0.036789949246316594\n",
      "\n",
      "forming train and test GLRM for fold 5\n",
      "training model on 7587580 samples and testing on 1897620\n",
      "fitting train GLRM for fold 5\n",
      "Fitting GLRM\n",
      "Iteration 10: objective value = 108720.07496293925\n",
      "Iteration 20: objective value = 108258.76268275468\n",
      "Iteration 30: objective value = 107855.4823431078\n",
      "Iteration 40: objective value = 107412.36761034686\n",
      "Iteration 50: objective value = 106872.54575680585\n",
      "Iteration 60: objective value = 106227.0279717503\n",
      "Iteration 70: objective value = 105571.91301449272\n",
      "Iteration 80: objective value = 105008.59982551419\n",
      "Iteration 90: objective value = 104355.61996300358\n",
      "Iteration 100: objective value = 103419.4655912952\n",
      "computing train and test error for fold 5:\n",
      "\ttrain error: 0.013630098870952283\n",
      "\ttest error:  0.05852172109430766\n"
     ]
    },
    {
     "data": {
      "text/html": [
       "<table class=\"data-frame\"><thead><tr><th></th><th>train_error</th><th>test_error</th></tr><tr><th></th><th>Float64</th><th>Float64</th></tr></thead><tbody><p>5 rows × 2 columns</p><tr><th>1</th><td>0.0136457</td><td>0.0360582</td></tr><tr><th>2</th><td>0.0136396</td><td>0.0378168</td></tr><tr><th>3</th><td>0.0136428</td><td>0.0338693</td></tr><tr><th>4</th><td>0.0136</td><td>0.0367899</td></tr><tr><th>5</th><td>0.0136301</td><td>0.0585217</td></tr></tbody></table>"
      ],
      "text/latex": [
       "\\begin{tabular}{r|cc}\n",
       "\t& train\\_error & test\\_error\\\\\n",
       "\t\\hline\n",
       "\t& Float64 & Float64\\\\\n",
       "\t\\hline\n",
       "\t1 & 0.0136457 & 0.0360582 \\\\\n",
       "\t2 & 0.0136396 & 0.0378168 \\\\\n",
       "\t3 & 0.0136428 & 0.0338693 \\\\\n",
       "\t4 & 0.0136 & 0.0367899 \\\\\n",
       "\t5 & 0.0136301 & 0.0585217 \\\\\n",
       "\\end{tabular}\n"
      ],
      "text/plain": [
       "5×2 DataFrame\n",
       "│ Row │ train_error │ test_error │\n",
       "│     │ \u001b[90mFloat64\u001b[39m     │ \u001b[90mFloat64\u001b[39m    │\n",
       "├─────┼─────────────┼────────────┤\n",
       "│ 1   │ 0.0136457   │ 0.0360582  │\n",
       "│ 2   │ 0.0136396   │ 0.0378168  │\n",
       "│ 3   │ 0.0136428   │ 0.0338693  │\n",
       "│ 4   │ 0.0136      │ 0.0367899  │\n",
       "│ 5   │ 0.0136301   │ 0.0585217  │"
      ]
     },
     "execution_count": 10,
     "metadata": {},
     "output_type": "execute_result"
    }
   ],
   "source": [
    "println(\"Computing cross validation error for each fold\")\n",
    "params = Params(1.0, max_iter=100, abs_tol=0.0, min_stepsize=.001)\n",
    "#max_iter=70\n",
    "train_error, test_error, train_glrms, test_glrms = cross_validate(glrm, nfolds=5, params=params)\n",
    "df = DataFrame(train_error = train_error, test_error = test_error)"
   ]
  },
  {
   "cell_type": "code",
   "execution_count": null,
   "metadata": {},
   "outputs": [],
   "source": []
  },
  {
   "cell_type": "code",
   "execution_count": null,
   "metadata": {},
   "outputs": [],
   "source": []
  },
  {
   "cell_type": "code",
   "execution_count": null,
   "metadata": {},
   "outputs": [],
   "source": []
  },
  {
   "cell_type": "code",
   "execution_count": null,
   "metadata": {},
   "outputs": [],
   "source": []
  },
  {
   "cell_type": "code",
   "execution_count": null,
   "metadata": {},
   "outputs": [],
   "source": []
  }
 ],
 "metadata": {
  "kernelspec": {
   "display_name": "Julia 1.4.2",
   "language": "julia",
   "name": "julia-1.4"
  },
  "language_info": {
   "file_extension": ".jl",
   "mimetype": "application/julia",
   "name": "julia",
   "version": "1.4.2"
  }
 },
 "nbformat": 4,
 "nbformat_minor": 2
}
