{
 "cells": [
  {
   "cell_type": "code",
   "execution_count": 55,
   "metadata": {},
   "outputs": [],
   "source": [
    "import pandas as pd  \n",
    "import numpy as np  \n",
    "import matplotlib.pyplot as plt  \n",
    "import seaborn as seabornInstance \n",
    "from sklearn.model_selection import train_test_split \n",
    "from sklearn.linear_model import LinearRegression\n",
    "from sklearn import metrics\n",
    "%matplotlib inline\n",
    "import json\n",
    "import datetime\n",
    "\n",
    "\n",
    "from scipy.cluster.hierarchy import dendrogram, linkage\n",
    "\n",
    "from sklearn.cluster import AgglomerativeClustering\n",
    "#import scipy.cluster.hierarchy as sch\n",
    "\n"
   ]
  },
  {
   "cell_type": "code",
   "execution_count": 57,
   "metadata": {
    "scrolled": true
   },
   "outputs": [
    {
     "name": "stdout",
     "output_type": "stream",
     "text": [
      "       ROW_ID  SUBJECT_ID GENDER                  DOB                  DOD  \\\n",
      "0         234         249      F  2075-03-13 00:00:00                  NaN   \n",
      "1         235         250      F  2164-12-27 00:00:00  2188-11-22 00:00:00   \n",
      "2         236         251      M  2090-03-15 00:00:00                  NaN   \n",
      "3         237         252      M  2078-03-06 00:00:00                  NaN   \n",
      "4         238         253      F  2089-11-26 00:00:00                  NaN   \n",
      "...       ...         ...    ...                  ...                  ...   \n",
      "46515   31840       44089      M  2026-05-25 00:00:00                  NaN   \n",
      "46516   31841       44115      F  2124-07-27 00:00:00                  NaN   \n",
      "46517   31842       44123      F  2049-11-26 00:00:00  2135-01-12 00:00:00   \n",
      "46518   31843       44126      F  2076-07-25 00:00:00                  NaN   \n",
      "46519   31844       44128      M  2098-07-25 00:00:00                  NaN   \n",
      "\n",
      "                  DOD_HOSP DOD_SSN  EXPIRE_FLAG  \n",
      "0                      NaN     NaN            0  \n",
      "1      2188-11-22 00:00:00     NaN            1  \n",
      "2                      NaN     NaN            0  \n",
      "3                      NaN     NaN            0  \n",
      "4                      NaN     NaN            0  \n",
      "...                    ...     ...          ...  \n",
      "46515                  NaN     NaN            0  \n",
      "46516                  NaN     NaN            0  \n",
      "46517  2135-01-12 00:00:00     NaN            1  \n",
      "46518                  NaN     NaN            0  \n",
      "46519                  NaN     NaN            0  \n",
      "\n",
      "[46520 rows x 8 columns]\n"
     ]
    }
   ],
   "source": [
    "data = pd.read_csv('diagnose_merged.csv')\n",
    "data.head()\n",
    "#print(data)\n",
    "\n",
    "data2 = pd.read_csv('PATIENTS.csv')\n",
    "data2.head()\n",
    "print(data2)"
   ]
  },
  {
   "cell_type": "code",
   "execution_count": 58,
   "metadata": {},
   "outputs": [
    {
     "data": {
      "text/html": [
       "<div>\n",
       "<style scoped>\n",
       "    .dataframe tbody tr th:only-of-type {\n",
       "        vertical-align: middle;\n",
       "    }\n",
       "\n",
       "    .dataframe tbody tr th {\n",
       "        vertical-align: top;\n",
       "    }\n",
       "\n",
       "    .dataframe thead th {\n",
       "        text-align: right;\n",
       "    }\n",
       "</style>\n",
       "<table border=\"1\" class=\"dataframe\">\n",
       "  <thead>\n",
       "    <tr style=\"text-align: right;\">\n",
       "      <th></th>\n",
       "      <th>Unnamed: 0</th>\n",
       "      <th>SUBJECT_ID</th>\n",
       "      <th>HADM_ID</th>\n",
       "      <th>SEQ_NUM</th>\n",
       "      <th>ICD9_CODE</th>\n",
       "      <th>SHORT_TITLE</th>\n",
       "      <th>LONG_TITLE</th>\n",
       "      <th>ROW_ID</th>\n",
       "      <th>GENDER</th>\n",
       "      <th>DOB</th>\n",
       "      <th>DOD</th>\n",
       "      <th>DOD_HOSP</th>\n",
       "      <th>DOD_SSN</th>\n",
       "      <th>EXPIRE_FLAG</th>\n",
       "    </tr>\n",
       "  </thead>\n",
       "  <tbody>\n",
       "    <tr>\n",
       "      <th>0</th>\n",
       "      <td>0</td>\n",
       "      <td>2</td>\n",
       "      <td>163353</td>\n",
       "      <td>1.0</td>\n",
       "      <td>V3001</td>\n",
       "      <td>Single lb in-hosp w cs</td>\n",
       "      <td>Single liveborn, born in hospital, delivered b...</td>\n",
       "      <td>1</td>\n",
       "      <td>M</td>\n",
       "      <td>2138-07-17 00:00:00</td>\n",
       "      <td>NaN</td>\n",
       "      <td>NaN</td>\n",
       "      <td>NaN</td>\n",
       "      <td>0</td>\n",
       "    </tr>\n",
       "    <tr>\n",
       "      <th>1</th>\n",
       "      <td>1</td>\n",
       "      <td>2</td>\n",
       "      <td>163353</td>\n",
       "      <td>2.0</td>\n",
       "      <td>V053</td>\n",
       "      <td>Need prphyl vc vrl hepat</td>\n",
       "      <td>Need for prophylactic vaccination and inoculat...</td>\n",
       "      <td>1</td>\n",
       "      <td>M</td>\n",
       "      <td>2138-07-17 00:00:00</td>\n",
       "      <td>NaN</td>\n",
       "      <td>NaN</td>\n",
       "      <td>NaN</td>\n",
       "      <td>0</td>\n",
       "    </tr>\n",
       "    <tr>\n",
       "      <th>2</th>\n",
       "      <td>2</td>\n",
       "      <td>2</td>\n",
       "      <td>163353</td>\n",
       "      <td>3.0</td>\n",
       "      <td>V290</td>\n",
       "      <td>NB obsrv suspct infect</td>\n",
       "      <td>Observation for suspected infectious condition</td>\n",
       "      <td>1</td>\n",
       "      <td>M</td>\n",
       "      <td>2138-07-17 00:00:00</td>\n",
       "      <td>NaN</td>\n",
       "      <td>NaN</td>\n",
       "      <td>NaN</td>\n",
       "      <td>0</td>\n",
       "    </tr>\n",
       "    <tr>\n",
       "      <th>3</th>\n",
       "      <td>3</td>\n",
       "      <td>3</td>\n",
       "      <td>145834</td>\n",
       "      <td>9.0</td>\n",
       "      <td>2639</td>\n",
       "      <td>Protein-cal malnutr NOS</td>\n",
       "      <td>Unspecified protein-calorie malnutrition</td>\n",
       "      <td>2</td>\n",
       "      <td>M</td>\n",
       "      <td>2025-04-11 00:00:00</td>\n",
       "      <td>2102-06-14 00:00:00</td>\n",
       "      <td>NaN</td>\n",
       "      <td>2102-06-14 00:00:00</td>\n",
       "      <td>1</td>\n",
       "    </tr>\n",
       "    <tr>\n",
       "      <th>4</th>\n",
       "      <td>4</td>\n",
       "      <td>3</td>\n",
       "      <td>145834</td>\n",
       "      <td>7.0</td>\n",
       "      <td>6826</td>\n",
       "      <td>Cellulitis of leg</td>\n",
       "      <td>Cellulitis and abscess of leg, except foot</td>\n",
       "      <td>2</td>\n",
       "      <td>M</td>\n",
       "      <td>2025-04-11 00:00:00</td>\n",
       "      <td>2102-06-14 00:00:00</td>\n",
       "      <td>NaN</td>\n",
       "      <td>2102-06-14 00:00:00</td>\n",
       "      <td>1</td>\n",
       "    </tr>\n",
       "  </tbody>\n",
       "</table>\n",
       "</div>"
      ],
      "text/plain": [
       "   Unnamed: 0  SUBJECT_ID  HADM_ID  SEQ_NUM ICD9_CODE  \\\n",
       "0           0           2   163353      1.0     V3001   \n",
       "1           1           2   163353      2.0      V053   \n",
       "2           2           2   163353      3.0      V290   \n",
       "3           3           3   145834      9.0      2639   \n",
       "4           4           3   145834      7.0      6826   \n",
       "\n",
       "                SHORT_TITLE  \\\n",
       "0    Single lb in-hosp w cs   \n",
       "1  Need prphyl vc vrl hepat   \n",
       "2    NB obsrv suspct infect   \n",
       "3   Protein-cal malnutr NOS   \n",
       "4         Cellulitis of leg   \n",
       "\n",
       "                                          LONG_TITLE  ROW_ID GENDER  \\\n",
       "0  Single liveborn, born in hospital, delivered b...       1      M   \n",
       "1  Need for prophylactic vaccination and inoculat...       1      M   \n",
       "2     Observation for suspected infectious condition       1      M   \n",
       "3           Unspecified protein-calorie malnutrition       2      M   \n",
       "4         Cellulitis and abscess of leg, except foot       2      M   \n",
       "\n",
       "                   DOB                  DOD DOD_HOSP              DOD_SSN  \\\n",
       "0  2138-07-17 00:00:00                  NaN      NaN                  NaN   \n",
       "1  2138-07-17 00:00:00                  NaN      NaN                  NaN   \n",
       "2  2138-07-17 00:00:00                  NaN      NaN                  NaN   \n",
       "3  2025-04-11 00:00:00  2102-06-14 00:00:00      NaN  2102-06-14 00:00:00   \n",
       "4  2025-04-11 00:00:00  2102-06-14 00:00:00      NaN  2102-06-14 00:00:00   \n",
       "\n",
       "   EXPIRE_FLAG  \n",
       "0            0  \n",
       "1            0  \n",
       "2            0  \n",
       "3            1  \n",
       "4            1  "
      ]
     },
     "execution_count": 58,
     "metadata": {},
     "output_type": "execute_result"
    }
   ],
   "source": [
    "merged = pd.merge(data, data2, how='inner', on=['SUBJECT_ID'])\n",
    "merged.head()\n",
    "#print(merged)"
   ]
  },
  {
   "cell_type": "code",
   "execution_count": 59,
   "metadata": {},
   "outputs": [],
   "source": [
    "#X = 'ICD9_CODE'\n",
    "#dendrogram = sch.dendrogram(sch.linkage('X', method='ward'))\n",
    "\n",
    "#X = 'ICD9_CODE'\n",
    "#linked = linkage(X, 'complete')"
   ]
  },
  {
   "cell_type": "code",
   "execution_count": 60,
   "metadata": {},
   "outputs": [],
   "source": [
    "# patient and diagnosis \n",
    "# x = diagnosis group \n",
    "#correlation or covariate= corx  \n",
    "\n",
    "#cluster = AgglomerativeClustering(n_clusters=2, affinity='euclidean', linkage='complete')\n",
    "#cluster.fit_predict(X)"
   ]
  },
  {
   "cell_type": "code",
   "execution_count": 61,
   "metadata": {},
   "outputs": [],
   "source": [
    "#import scipy.cluster.hierarchy as shc\n",
    "#plt.figure(figsize=(10, 7))  \n",
    "#plt.title(\"Dendrograms\")  \n",
    "#dend = shc.dendrogram(shc.linkage(data, method='complete'))\n"
   ]
  },
  {
   "cell_type": "code",
   "execution_count": 69,
   "metadata": {},
   "outputs": [],
   "source": [
    "## compute correlation distance \n",
    "dist = merged.corr()"
   ]
  },
  {
   "cell_type": "code",
   "execution_count": 72,
   "metadata": {
    "scrolled": true
   },
   "outputs": [
    {
     "data": {
      "image/png": "[encoded data removed]",
      "text/plain": [
       "<Figure size 720x504 with 1 Axes>"
      ]
     },
     "metadata": {
      "needs_background": "light"
     },
     "output_type": "display_data"
    }
   ],
   "source": [
    "import scipy.cluster.hierarchy as shc\n",
    "\n",
    "plt.figure(figsize=(10, 7))\n",
    "plt.title(\"Customer Dendograms\")\n",
    "#dist= shc.distance.pdist(merged.corr(), 'hamming')\n",
    "dend = shc.dendrogram(shc.linkage(dist, method='complete'))\n",
    "#dend = shc.dendrogram(shc.linkage(d, merged, method='complete'))"
   ]
  },
  {
   "cell_type": "code",
   "execution_count": 74,
   "metadata": {},
   "outputs": [
    {
     "data": {
      "text/plain": [
       "array([3, 5, 4, 1, 2, 0])"
      ]
     },
     "execution_count": 74,
     "metadata": {},
     "output_type": "execute_result"
    }
   ],
   "source": [
    "\n",
    "from sklearn.cluster import AgglomerativeClustering\n",
    "#cluster = AgglomerativeClustering(n_clusters=6, affinity='euclidean', linkage='=complete')\n",
    "cluster = AgglomerativeClustering(n_clusters=6, affinity='precomputed',linkage='complete')  \n",
    "cluster.fit_predict(dist)"
   ]
  },
  {
   "cell_type": "code",
   "execution_count": 76,
   "metadata": {},
   "outputs": [
    {
     "ename": "TypeError",
     "evalue": "'(slice(None, None, None), 0)' is an invalid key",
     "output_type": "error",
     "traceback": [
      "\u001b[0;31m---------------------------------------------------------------------------\u001b[0m",
      "\u001b[0;31mTypeError\u001b[0m                                 Traceback (most recent call last)",
      "\u001b[0;32m<ipython-input-76-dc6da61f50e2>\u001b[0m in \u001b[0;36m<module>\u001b[0;34m\u001b[0m\n\u001b[1;32m      1\u001b[0m \u001b[0;31m#plt.figure(figsize=(10, 7))\u001b[0m\u001b[0;34m\u001b[0m\u001b[0;34m\u001b[0m\u001b[0;34m\u001b[0m\u001b[0m\n\u001b[0;32m----> 2\u001b[0;31m \u001b[0mplt\u001b[0m\u001b[0;34m.\u001b[0m\u001b[0mscatter\u001b[0m\u001b[0;34m(\u001b[0m\u001b[0mdist\u001b[0m\u001b[0;34m[\u001b[0m\u001b[0;34m:\u001b[0m\u001b[0;34m,\u001b[0m\u001b[0;36m0\u001b[0m\u001b[0;34m]\u001b[0m\u001b[0;34m,\u001b[0m \u001b[0mdist\u001b[0m\u001b[0;34m[\u001b[0m\u001b[0;34m:\u001b[0m\u001b[0;34m,\u001b[0m\u001b[0;36m1\u001b[0m\u001b[0;34m]\u001b[0m\u001b[0;34m,\u001b[0m \u001b[0mc\u001b[0m\u001b[0;34m=\u001b[0m\u001b[0mcluster\u001b[0m\u001b[0;34m.\u001b[0m\u001b[0mlabels_\u001b[0m\u001b[0;34m,\u001b[0m \u001b[0mcmap\u001b[0m\u001b[0;34m=\u001b[0m\u001b[0;34m'rainbow'\u001b[0m\u001b[0;34m)\u001b[0m\u001b[0;34m\u001b[0m\u001b[0;34m\u001b[0m\u001b[0m\n\u001b[0m",
      "\u001b[0;32m~/anaconda3/lib/python3.7/site-packages/pandas/core/frame.py\u001b[0m in \u001b[0;36m__getitem__\u001b[0;34m(self, key)\u001b[0m\n\u001b[1;32m   2798\u001b[0m             \u001b[0;32mif\u001b[0m \u001b[0mself\u001b[0m\u001b[0;34m.\u001b[0m\u001b[0mcolumns\u001b[0m\u001b[0;34m.\u001b[0m\u001b[0mnlevels\u001b[0m \u001b[0;34m>\u001b[0m \u001b[0;36m1\u001b[0m\u001b[0;34m:\u001b[0m\u001b[0;34m\u001b[0m\u001b[0;34m\u001b[0m\u001b[0m\n\u001b[1;32m   2799\u001b[0m                 \u001b[0;32mreturn\u001b[0m \u001b[0mself\u001b[0m\u001b[0;34m.\u001b[0m\u001b[0m_getitem_multilevel\u001b[0m\u001b[0;34m(\u001b[0m\u001b[0mkey\u001b[0m\u001b[0;34m)\u001b[0m\u001b[0;34m\u001b[0m\u001b[0;34m\u001b[0m\u001b[0m\n\u001b[0;32m-> 2800\u001b[0;31m             \u001b[0mindexer\u001b[0m \u001b[0;34m=\u001b[0m \u001b[0mself\u001b[0m\u001b[0;34m.\u001b[0m\u001b[0mcolumns\u001b[0m\u001b[0;34m.\u001b[0m\u001b[0mget_loc\u001b[0m\u001b[0;34m(\u001b[0m\u001b[0mkey\u001b[0m\u001b[0;34m)\u001b[0m\u001b[0;34m\u001b[0m\u001b[0;34m\u001b[0m\u001b[0m\n\u001b[0m\u001b[1;32m   2801\u001b[0m             \u001b[0;32mif\u001b[0m \u001b[0mis_integer\u001b[0m\u001b[0;34m(\u001b[0m\u001b[0mindexer\u001b[0m\u001b[0;34m)\u001b[0m\u001b[0;34m:\u001b[0m\u001b[0;34m\u001b[0m\u001b[0;34m\u001b[0m\u001b[0m\n\u001b[1;32m   2802\u001b[0m                 \u001b[0mindexer\u001b[0m \u001b[0;34m=\u001b[0m \u001b[0;34m[\u001b[0m\u001b[0mindexer\u001b[0m\u001b[0;34m]\u001b[0m\u001b[0;34m\u001b[0m\u001b[0;34m\u001b[0m\u001b[0m\n",
      "\u001b[0;32m~/anaconda3/lib/python3.7/site-packages/pandas/core/indexes/base.py\u001b[0m in \u001b[0;36mget_loc\u001b[0;34m(self, key, method, tolerance)\u001b[0m\n\u001b[1;32m   2644\u001b[0m                 )\n\u001b[1;32m   2645\u001b[0m             \u001b[0;32mtry\u001b[0m\u001b[0;34m:\u001b[0m\u001b[0;34m\u001b[0m\u001b[0;34m\u001b[0m\u001b[0m\n\u001b[0;32m-> 2646\u001b[0;31m                 \u001b[0;32mreturn\u001b[0m \u001b[0mself\u001b[0m\u001b[0;34m.\u001b[0m\u001b[0m_engine\u001b[0m\u001b[0;34m.\u001b[0m\u001b[0mget_loc\u001b[0m\u001b[0;34m(\u001b[0m\u001b[0mkey\u001b[0m\u001b[0;34m)\u001b[0m\u001b[0;34m\u001b[0m\u001b[0;34m\u001b[0m\u001b[0m\n\u001b[0m\u001b[1;32m   2647\u001b[0m             \u001b[0;32mexcept\u001b[0m \u001b[0mKeyError\u001b[0m\u001b[0;34m:\u001b[0m\u001b[0;34m\u001b[0m\u001b[0;34m\u001b[0m\u001b[0m\n\u001b[1;32m   2648\u001b[0m                 \u001b[0;32mreturn\u001b[0m \u001b[0mself\u001b[0m\u001b[0;34m.\u001b[0m\u001b[0m_engine\u001b[0m\u001b[0;34m.\u001b[0m\u001b[0mget_loc\u001b[0m\u001b[0;34m(\u001b[0m\u001b[0mself\u001b[0m\u001b[0;34m.\u001b[0m\u001b[0m_maybe_cast_indexer\u001b[0m\u001b[0;34m(\u001b[0m\u001b[0mkey\u001b[0m\u001b[0;34m)\u001b[0m\u001b[0;34m)\u001b[0m\u001b[0;34m\u001b[0m\u001b[0;34m\u001b[0m\u001b[0m\n",
      "\u001b[0;32mpandas/_libs/index.pyx\u001b[0m in \u001b[0;36mpandas._libs.index.IndexEngine.get_loc\u001b[0;34m()\u001b[0m\n",
      "\u001b[0;32mpandas/_libs/index.pyx\u001b[0m in \u001b[0;36mpandas._libs.index.IndexEngine.get_loc\u001b[0;34m()\u001b[0m\n",
      "\u001b[0;31mTypeError\u001b[0m: '(slice(None, None, None), 0)' is an invalid key"
     ]
    }
   ],
   "source": [
    "#plt.figure(figsize=(10, 7))\n",
    "plt.scatter(dist[:,0], dist[:,1], c=cluster.labels_, cmap='rainbow')"
   ]
  },
  {
   "cell_type": "code",
   "execution_count": null,
   "metadata": {},
   "outputs": [],
   "source": []
  },
  {
   "cell_type": "code",
   "execution_count": null,
   "metadata": {},
   "outputs": [],
   "source": []
  },
  {
   "cell_type": "code",
   "execution_count": null,
   "metadata": {},
   "outputs": [],
   "source": []
  },
  {
   "cell_type": "code",
   "execution_count": null,
   "metadata": {},
   "outputs": [],
   "source": []
  },
  {
   "cell_type": "code",
   "execution_count": null,
   "metadata": {},
   "outputs": [],
   "source": []
  },
  {
   "cell_type": "code",
   "execution_count": 45,
   "metadata": {
    "scrolled": true
   },
   "outputs": [],
   "source": [
    "## gender. male female\n",
    "\n",
    "# X  is ndarray\n",
    "#An m by n array of m original observations in an n-dimensional space.\n",
    "\n",
    "#X = 'GENDER'\n",
    "#correlation matrix\n",
    "d = sch.distance.pdist(merged.corr(), 'hamming')\n",
    "L = sch.linkage(d, method='complete')\n",
    "##corrleation distance for binary category var gender \n",
    "#d = sch.distance.pdist(X, lambda u, v: u != v)"
   ]
  },
  {
   "cell_type": "code",
   "execution_count": null,
   "metadata": {},
   "outputs": [],
   "source": []
  },
  {
   "cell_type": "code",
   "execution_count": null,
   "metadata": {},
   "outputs": [],
   "source": [
    "from sklearn.cluster import AgglomerativeClustering\n",
    "cluster = AgglomerativeClustering(n_clusters=5, affinity='euclidean', linkage='ward')\n",
    "cluster.fit_predict(data)"
   ]
  },
  {
   "cell_type": "code",
   "execution_count": null,
   "metadata": {},
   "outputs": [],
   "source": []
  }
 ],
 "metadata": {
  "kernelspec": {
   "display_name": "Python 3",
   "language": "python",
   "name": "python3"
  },
  "language_info": {
   "codemirror_mode": {
    "name": "ipython",
    "version": 3
   },
   "file_extension": ".py",
   "mimetype": "text/x-python",
   "name": "python",
   "nbconvert_exporter": "python",
   "pygments_lexer": "ipython3",
   "version": "3.7.2"
  }
 },
 "nbformat": 4,
 "nbformat_minor": 2
}
