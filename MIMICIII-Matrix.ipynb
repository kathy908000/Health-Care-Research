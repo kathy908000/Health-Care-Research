{
 "cells": [
  {
   "cell_type": "code",
   "execution_count": 35,
   "metadata": {},
   "outputs": [],
   "source": [
    "import pandas as pd  \n",
    "import numpy as np  \n",
    "import matplotlib.pyplot as plt  \n",
    "import seaborn as seabornInstance \n",
    "from sklearn.model_selection import train_test_split \n",
    "from sklearn.linear_model import LinearRegression\n",
    "from sklearn import metrics\n",
    "%matplotlib inline\n",
    "import json\n",
    "import datetime\n",
    "\n",
    "\n",
    "from scipy.cluster.hierarchy import dendrogram, linkage\n",
    "\n",
    "from sklearn.cluster import AgglomerativeClustering\n",
    "#import scipy.cluster.hierarchy as sch\n",
    "\n",
    "#import April12.ipynb\n",
    "#%store -r icd_grouped \n",
    "import statsmodels.api as sm\n",
    "from patsy import dmatrices \n",
    "\n",
    "# model selection\n",
    "from sklearn.model_selection import train_test_split\n",
    "from sklearn.feature_selection import SelectFromModel\n",
    "from sklearn.linear_model import LassoCV\n",
    "\n",
    "import seaborn"
   ]
  },
  {
   "cell_type": "code",
   "execution_count": 36,
   "metadata": {
    "scrolled": true
   },
   "outputs": [
    {
     "name": "stderr",
     "output_type": "stream",
     "text": [
      "/Users/kathy908000/anaconda3/lib/python3.7/site-packages/IPython/core/interactiveshell.py:3020: DtypeWarning: Columns (1,4,6) have mixed types.Specify dtype option on import or set low_memory=False.\n",
      "  interactivity=interactivity, compiler=compiler, result=result)\n"
     ]
    },
    {
     "data": {
      "text/plain": [
       "(634709, 35)"
      ]
     },
     "execution_count": 36,
     "metadata": {},
     "output_type": "execute_result"
    }
   ],
   "source": [
    "data= pd.read_csv('group19gender.csv')\n",
    "data.shape # doesn't have empty rows\n",
    "#data.head()\n",
    "#data['SUBJECT_ID'].head(10)\n"
   ]
  },
  {
   "cell_type": "code",
   "execution_count": 37,
   "metadata": {
    "scrolled": true
   },
   "outputs": [
    {
     "data": {
      "text/html": [
       "<div>\n",
       "<style scoped>\n",
       "    .dataframe tbody tr th:only-of-type {\n",
       "        vertical-align: middle;\n",
       "    }\n",
       "\n",
       "    .dataframe tbody tr th {\n",
       "        vertical-align: top;\n",
       "    }\n",
       "\n",
       "    .dataframe thead th {\n",
       "        text-align: right;\n",
       "    }\n",
       "</style>\n",
       "<table border=\"1\" class=\"dataframe\">\n",
       "  <thead>\n",
       "    <tr style=\"text-align: right;\">\n",
       "      <th></th>\n",
       "      <th>ROW_ID_x</th>\n",
       "      <th>ICD9_CODE</th>\n",
       "      <th>SHORT_TITLE_x</th>\n",
       "      <th>LONG_TITLE_x</th>\n",
       "      <th>group</th>\n",
       "      <th>group2</th>\n",
       "      <th>lv.1_code</th>\n",
       "      <th>lv.2_code</th>\n",
       "      <th>lv.1_group</th>\n",
       "      <th>lv.2_group</th>\n",
       "      <th>...</th>\n",
       "      <th>bg10</th>\n",
       "      <th>bg11</th>\n",
       "      <th>bg12</th>\n",
       "      <th>bg13</th>\n",
       "      <th>bg14</th>\n",
       "      <th>bg15</th>\n",
       "      <th>bg16</th>\n",
       "      <th>bg17</th>\n",
       "      <th>bg18</th>\n",
       "      <th>bg19</th>\n",
       "    </tr>\n",
       "  </thead>\n",
       "  <tbody>\n",
       "    <tr>\n",
       "      <th>6</th>\n",
       "      <td>252.0</td>\n",
       "      <td>41</td>\n",
       "      <td>Shigella flexneri</td>\n",
       "      <td>Shigella flexneri</td>\n",
       "      <td>0</td>\n",
       "      <td>1.0</td>\n",
       "      <td>001-009</td>\n",
       "      <td>4.0</td>\n",
       "      <td>INTESTINAL INFECTIOUS DISEASES</td>\n",
       "      <td>Shigellosis</td>\n",
       "      <td>...</td>\n",
       "      <td>0</td>\n",
       "      <td>0</td>\n",
       "      <td>0</td>\n",
       "      <td>0</td>\n",
       "      <td>0</td>\n",
       "      <td>0</td>\n",
       "      <td>0</td>\n",
       "      <td>0</td>\n",
       "      <td>0</td>\n",
       "      <td>0</td>\n",
       "    </tr>\n",
       "    <tr>\n",
       "      <th>7</th>\n",
       "      <td>252.0</td>\n",
       "      <td>41</td>\n",
       "      <td>Shigella flexneri</td>\n",
       "      <td>Shigella flexneri</td>\n",
       "      <td>0</td>\n",
       "      <td>1.0</td>\n",
       "      <td>001-009</td>\n",
       "      <td>4.0</td>\n",
       "      <td>INTESTINAL INFECTIOUS DISEASES</td>\n",
       "      <td>Shigellosis</td>\n",
       "      <td>...</td>\n",
       "      <td>0</td>\n",
       "      <td>0</td>\n",
       "      <td>0</td>\n",
       "      <td>0</td>\n",
       "      <td>0</td>\n",
       "      <td>0</td>\n",
       "      <td>0</td>\n",
       "      <td>0</td>\n",
       "      <td>0</td>\n",
       "      <td>0</td>\n",
       "    </tr>\n",
       "    <tr>\n",
       "      <th>8</th>\n",
       "      <td>252.0</td>\n",
       "      <td>41</td>\n",
       "      <td>Shigella flexneri</td>\n",
       "      <td>Shigella flexneri</td>\n",
       "      <td>0</td>\n",
       "      <td>1.0</td>\n",
       "      <td>001-009</td>\n",
       "      <td>4.0</td>\n",
       "      <td>INTESTINAL INFECTIOUS DISEASES</td>\n",
       "      <td>Shigellosis</td>\n",
       "      <td>...</td>\n",
       "      <td>0</td>\n",
       "      <td>0</td>\n",
       "      <td>0</td>\n",
       "      <td>0</td>\n",
       "      <td>0</td>\n",
       "      <td>0</td>\n",
       "      <td>0</td>\n",
       "      <td>0</td>\n",
       "      <td>0</td>\n",
       "      <td>0</td>\n",
       "    </tr>\n",
       "    <tr>\n",
       "      <th>9</th>\n",
       "      <td>255.0</td>\n",
       "      <td>48</td>\n",
       "      <td>Shigella infection NEC</td>\n",
       "      <td>Other specified shigella infections</td>\n",
       "      <td>0</td>\n",
       "      <td>1.0</td>\n",
       "      <td>001-009</td>\n",
       "      <td>4.0</td>\n",
       "      <td>INTESTINAL INFECTIOUS DISEASES</td>\n",
       "      <td>Shigellosis</td>\n",
       "      <td>...</td>\n",
       "      <td>0</td>\n",
       "      <td>0</td>\n",
       "      <td>0</td>\n",
       "      <td>0</td>\n",
       "      <td>0</td>\n",
       "      <td>0</td>\n",
       "      <td>0</td>\n",
       "      <td>0</td>\n",
       "      <td>0</td>\n",
       "      <td>0</td>\n",
       "    </tr>\n",
       "    <tr>\n",
       "      <th>10</th>\n",
       "      <td>256.0</td>\n",
       "      <td>49</td>\n",
       "      <td>Shigellosis NOS</td>\n",
       "      <td>Shigellosis, unspecified</td>\n",
       "      <td>0</td>\n",
       "      <td>1.0</td>\n",
       "      <td>001-009</td>\n",
       "      <td>4.0</td>\n",
       "      <td>INTESTINAL INFECTIOUS DISEASES</td>\n",
       "      <td>Shigellosis</td>\n",
       "      <td>...</td>\n",
       "      <td>0</td>\n",
       "      <td>0</td>\n",
       "      <td>0</td>\n",
       "      <td>0</td>\n",
       "      <td>0</td>\n",
       "      <td>0</td>\n",
       "      <td>0</td>\n",
       "      <td>0</td>\n",
       "      <td>0</td>\n",
       "      <td>0</td>\n",
       "    </tr>\n",
       "    <tr>\n",
       "      <th>11</th>\n",
       "      <td>258.0</td>\n",
       "      <td>51</td>\n",
       "      <td>Botulism food poisoning</td>\n",
       "      <td>Botulism food poisoning</td>\n",
       "      <td>0</td>\n",
       "      <td>1.0</td>\n",
       "      <td>001-009</td>\n",
       "      <td>5.0</td>\n",
       "      <td>INTESTINAL INFECTIOUS DISEASES</td>\n",
       "      <td>Other food poisoning (bacterial)</td>\n",
       "      <td>...</td>\n",
       "      <td>0</td>\n",
       "      <td>0</td>\n",
       "      <td>0</td>\n",
       "      <td>0</td>\n",
       "      <td>0</td>\n",
       "      <td>0</td>\n",
       "      <td>0</td>\n",
       "      <td>0</td>\n",
       "      <td>0</td>\n",
       "      <td>0</td>\n",
       "    </tr>\n",
       "  </tbody>\n",
       "</table>\n",
       "<p>6 rows × 35 columns</p>\n",
       "</div>"
      ],
      "text/plain": [
       "    ROW_ID_x ICD9_CODE            SHORT_TITLE_x  \\\n",
       "6      252.0        41        Shigella flexneri   \n",
       "7      252.0        41        Shigella flexneri   \n",
       "8      252.0        41        Shigella flexneri   \n",
       "9      255.0        48   Shigella infection NEC   \n",
       "10     256.0        49          Shigellosis NOS   \n",
       "11     258.0        51  Botulism food poisoning   \n",
       "\n",
       "                           LONG_TITLE_x group  group2 lv.1_code  lv.2_code  \\\n",
       "6                     Shigella flexneri     0     1.0   001-009        4.0   \n",
       "7                     Shigella flexneri     0     1.0   001-009        4.0   \n",
       "8                     Shigella flexneri     0     1.0   001-009        4.0   \n",
       "9   Other specified shigella infections     0     1.0   001-009        4.0   \n",
       "10             Shigellosis, unspecified     0     1.0   001-009        4.0   \n",
       "11              Botulism food poisoning     0     1.0   001-009        5.0   \n",
       "\n",
       "                         lv.1_group                        lv.2_group  ...  \\\n",
       "6   INTESTINAL INFECTIOUS DISEASES                        Shigellosis  ...   \n",
       "7   INTESTINAL INFECTIOUS DISEASES                        Shigellosis  ...   \n",
       "8   INTESTINAL INFECTIOUS DISEASES                        Shigellosis  ...   \n",
       "9   INTESTINAL INFECTIOUS DISEASES                        Shigellosis  ...   \n",
       "10  INTESTINAL INFECTIOUS DISEASES                        Shigellosis  ...   \n",
       "11  INTESTINAL INFECTIOUS DISEASES   Other food poisoning (bacterial)  ...   \n",
       "\n",
       "    bg10  bg11  bg12 bg13  bg14 bg15  bg16  bg17  bg18  bg19  \n",
       "6      0     0     0    0     0    0     0     0     0     0  \n",
       "7      0     0     0    0     0    0     0     0     0     0  \n",
       "8      0     0     0    0     0    0     0     0     0     0  \n",
       "9      0     0     0    0     0    0     0     0     0     0  \n",
       "10     0     0     0    0     0    0     0     0     0     0  \n",
       "11     0     0     0    0     0    0     0     0     0     0  \n",
       "\n",
       "[6 rows x 35 columns]"
      ]
     },
     "execution_count": 37,
     "metadata": {},
     "output_type": "execute_result"
    }
   ],
   "source": [
    "data.loc[6:11].head(10)"
   ]
  },
  {
   "cell_type": "code",
   "execution_count": 38,
   "metadata": {},
   "outputs": [
    {
     "data": {
      "text/plain": [
       "(634649, 35)"
      ]
     },
     "execution_count": 38,
     "metadata": {},
     "output_type": "execute_result"
    }
   ],
   "source": [
    "data = data.drop_duplicates(subset=None, keep='first', inplace=False)\n",
    "data.shape"
   ]
  },
  {
   "cell_type": "markdown",
   "metadata": {},
   "source": [
    "# Each Row Patient"
   ]
  },
  {
   "cell_type": "code",
   "execution_count": 39,
   "metadata": {},
   "outputs": [],
   "source": [
    "#data['group2'] = data['group2'].astype(str)\n",
    "data = data.astype({'group2': str })     # ['group2'].astype(str)\n",
    "data = data.astype ({'ICD9_CODE': str }) "
   ]
  },
  {
   "cell_type": "code",
   "execution_count": 40,
   "metadata": {},
   "outputs": [
    {
     "data": {
      "text/plain": [
       "ROW_ID_x         float64\n",
       "ICD9_CODE         object\n",
       "SHORT_TITLE_x     object\n",
       "LONG_TITLE_x      object\n",
       "group             object\n",
       "group2            object\n",
       "lv.1_code         object\n",
       "lv.2_code        float64\n",
       "lv.1_group        object\n",
       "lv.2_group        object\n",
       "SUBJECT_ID       float64\n",
       "HADM_ID          float64\n",
       "GENDER             int64\n",
       "DOB               object\n",
       "DOD              float64\n",
       "DOD_HOSP          object\n",
       "bg1                int64\n",
       "bg2                int64\n",
       "bg3                int64\n",
       "bg4                int64\n",
       "bg5                int64\n",
       "bg6                int64\n",
       "bg7                int64\n",
       "bg8                int64\n",
       "bg9                int64\n",
       "bg10               int64\n",
       "bg11               int64\n",
       "bg12               int64\n",
       "bg13               int64\n",
       "bg14               int64\n",
       "bg15               int64\n",
       "bg16               int64\n",
       "bg17               int64\n",
       "bg18               int64\n",
       "bg19               int64\n",
       "dtype: object"
      ]
     },
     "execution_count": 40,
     "metadata": {},
     "output_type": "execute_result"
    }
   ],
   "source": [
    "data.dtypes"
   ]
  },
  {
   "cell_type": "code",
   "execution_count": 41,
   "metadata": {},
   "outputs": [],
   "source": [
    "#group by groupconcacat\n",
    "#data = data.groupby('SUBJECT_ID').agg({'group2' : lambda x: ', '.join(x)})\n",
    "#data = data.groupby('SUBJECT_ID').agg({'group2' : lambda x: ', '.join(x)}, {'ICD9_CODE' :lambda x: ', '.join(x) })\n",
    "\n",
    "#data = data.groupby('SUBJECT_ID').agg({'group2' : lambda x: ', '.join(x), 'ICD9_CODE' :lambda x: ', '.join(x) })\n",
    "#data.head()"
   ]
  },
  {
   "cell_type": "code",
   "execution_count": 42,
   "metadata": {},
   "outputs": [
    {
     "data": {
      "text/html": [
       "<div>\n",
       "<style scoped>\n",
       "    .dataframe tbody tr th:only-of-type {\n",
       "        vertical-align: middle;\n",
       "    }\n",
       "\n",
       "    .dataframe tbody tr th {\n",
       "        vertical-align: top;\n",
       "    }\n",
       "\n",
       "    .dataframe thead th {\n",
       "        text-align: right;\n",
       "    }\n",
       "</style>\n",
       "<table border=\"1\" class=\"dataframe\">\n",
       "  <thead>\n",
       "    <tr style=\"text-align: right;\">\n",
       "      <th></th>\n",
       "      <th>SUBJECT_ID</th>\n",
       "      <th>ICD9_CODE</th>\n",
       "    </tr>\n",
       "  </thead>\n",
       "  <tbody>\n",
       "    <tr>\n",
       "      <th>0</th>\n",
       "      <td>2.0</td>\n",
       "      <td>[V053, V290, V3001]</td>\n",
       "    </tr>\n",
       "    <tr>\n",
       "      <th>1</th>\n",
       "      <td>3.0</td>\n",
       "      <td>[389, 2639, 41071, 4254, 4275, 4280, 5849, 682...</td>\n",
       "    </tr>\n",
       "    <tr>\n",
       "      <th>2</th>\n",
       "      <td>4.0</td>\n",
       "      <td>[4111, 42, 1363, 2763, 5715, 7994, 7907, E9317...</td>\n",
       "    </tr>\n",
       "    <tr>\n",
       "      <th>3</th>\n",
       "      <td>5.0</td>\n",
       "      <td>[V053, V290, V3000]</td>\n",
       "    </tr>\n",
       "    <tr>\n",
       "      <th>4</th>\n",
       "      <td>6.0</td>\n",
       "      <td>[2753, 2767, 2859, 40391, 9972, V1582]</td>\n",
       "    </tr>\n",
       "    <tr>\n",
       "      <th>5</th>\n",
       "      <td>7.0</td>\n",
       "      <td>[V053, V290, V3001]</td>\n",
       "    </tr>\n",
       "    <tr>\n",
       "      <th>6</th>\n",
       "      <td>8.0</td>\n",
       "      <td>[7706, 7746, V053, V290, V3001, V502]</td>\n",
       "    </tr>\n",
       "    <tr>\n",
       "      <th>7</th>\n",
       "      <td>9.0</td>\n",
       "      <td>[4019, 4280, 431, 5070, 5849]</td>\n",
       "    </tr>\n",
       "    <tr>\n",
       "      <th>8</th>\n",
       "      <td>10.0</td>\n",
       "      <td>[76525, 76515, 7742, V290, V3000]</td>\n",
       "    </tr>\n",
       "    <tr>\n",
       "      <th>9</th>\n",
       "      <td>11.0</td>\n",
       "      <td>[1913]</td>\n",
       "    </tr>\n",
       "  </tbody>\n",
       "</table>\n",
       "</div>"
      ],
      "text/plain": [
       "   SUBJECT_ID                                          ICD9_CODE\n",
       "0         2.0                                [V053, V290, V3001]\n",
       "1         3.0  [389, 2639, 41071, 4254, 4275, 4280, 5849, 682...\n",
       "2         4.0  [4111, 42, 1363, 2763, 5715, 7994, 7907, E9317...\n",
       "3         5.0                                [V053, V290, V3000]\n",
       "4         6.0             [2753, 2767, 2859, 40391, 9972, V1582]\n",
       "5         7.0                                [V053, V290, V3001]\n",
       "6         8.0              [7706, 7746, V053, V290, V3001, V502]\n",
       "7         9.0                      [4019, 4280, 431, 5070, 5849]\n",
       "8        10.0                  [76525, 76515, 7742, V290, V3000]\n",
       "9        11.0                                             [1913]"
      ]
     },
     "execution_count": 42,
     "metadata": {},
     "output_type": "execute_result"
    }
   ],
   "source": [
    "pdata = data.groupby('SUBJECT_ID')['ICD9_CODE'].apply(lambda group_series: group_series.tolist()).reset_index()\n",
    "pdata.head(10)\n"
   ]
  },
  {
   "cell_type": "code",
   "execution_count": 43,
   "metadata": {},
   "outputs": [],
   "source": [
    "#to group based on ICD9-code, one hot encoding each category first 2 digits\n",
    "\n",
    "#pdata['2dgroup'] = list(map(lambda x: x[0:2], list(pdata['ICD9_CODE'])))\n",
    "#pdata.head()\n",
    "\n",
    "# find all diagnoses of single patient, make a list, make new dataframe"
   ]
  },
  {
   "cell_type": "code",
   "execution_count": 44,
   "metadata": {},
   "outputs": [
    {
     "data": {
      "text/plain": [
       "0                                      [V053, V290, V3001]\n",
       "1        [389, 2639, 41071, 4254, 4275, 4280, 5849, 682...\n",
       "2        [4111, 42, 1363, 2763, 5715, 7994, 7907, E9317...\n",
       "3                                      [V053, V290, V3000]\n",
       "4                   [2753, 2767, 2859, 40391, 9972, V1582]\n",
       "                               ...                        \n",
       "46512    [389, 23871, 2449, 2724, 2859, 48241, 4870, 51...\n",
       "46513    [389, 25000, 27651, 40291, 4280, 5538, 5570, 5...\n",
       "46514    [2721, 2851, 3004, 4019, 53081, 56881, 5699, 5...\n",
       "46515    [25000, 2724, 2851, 41401, 4241, 4280, 42833, ...\n",
       "46516                     [25000, 4019, 4139, 75612, 7861]\n",
       "Name: ICD9_CODE, Length: 46517, dtype: object"
      ]
     },
     "execution_count": 44,
     "metadata": {},
     "output_type": "execute_result"
    }
   ],
   "source": [
    "icd9 = pdata['ICD9_CODE']\n",
    "icd9"
   ]
  },
  {
   "cell_type": "code",
   "execution_count": 48,
   "metadata": {},
   "outputs": [
    {
     "ename": "IndexError",
     "evalue": "single positional indexer is out-of-bounds",
     "output_type": "error",
     "traceback": [
      "\u001b[0;31m---------------------------------------------------------------------------\u001b[0m",
      "\u001b[0;31mIndexError\u001b[0m                                Traceback (most recent call last)",
      "\u001b[0;32m<ipython-input-48-9ca903b4daf9>\u001b[0m in \u001b[0;36m<module>\u001b[0;34m\u001b[0m\n\u001b[1;32m      4\u001b[0m \u001b[0;34m\u001b[0m\u001b[0m\n\u001b[1;32m      5\u001b[0m \u001b[0;32mfor\u001b[0m \u001b[0mi\u001b[0m \u001b[0;32min\u001b[0m \u001b[0mrange\u001b[0m\u001b[0;34m(\u001b[0m\u001b[0;36m634650\u001b[0m\u001b[0;34m)\u001b[0m\u001b[0;34m:\u001b[0m\u001b[0;34m\u001b[0m\u001b[0;34m\u001b[0m\u001b[0m\n\u001b[0;32m----> 6\u001b[0;31m     \u001b[0;32mfor\u001b[0m \u001b[0mj\u001b[0m \u001b[0;32min\u001b[0m \u001b[0micd9\u001b[0m\u001b[0;34m.\u001b[0m\u001b[0miloc\u001b[0m\u001b[0;34m[\u001b[0m\u001b[0mi\u001b[0m\u001b[0;34m]\u001b[0m\u001b[0;34m:\u001b[0m\u001b[0;34m\u001b[0m\u001b[0;34m\u001b[0m\u001b[0m\n\u001b[0m\u001b[1;32m      7\u001b[0m         \u001b[0mdigit\u001b[0m \u001b[0;34m=\u001b[0m \u001b[0mj\u001b[0m\u001b[0;34m[\u001b[0m\u001b[0;36m0\u001b[0m\u001b[0;34m:\u001b[0m\u001b[0;36m2\u001b[0m\u001b[0;34m]\u001b[0m\u001b[0;34m\u001b[0m\u001b[0;34m\u001b[0m\u001b[0m\n\u001b[1;32m      8\u001b[0m         \u001b[0mrow\u001b[0m\u001b[0;34m.\u001b[0m\u001b[0mappend\u001b[0m\u001b[0;34m(\u001b[0m\u001b[0mdigit\u001b[0m\u001b[0;34m)\u001b[0m\u001b[0;34m\u001b[0m\u001b[0;34m\u001b[0m\u001b[0m\n",
      "\u001b[0;32m~/anaconda3/lib/python3.7/site-packages/pandas/core/indexing.py\u001b[0m in \u001b[0;36m__getitem__\u001b[0;34m(self, key)\u001b[0m\n\u001b[1;32m   1766\u001b[0m \u001b[0;34m\u001b[0m\u001b[0m\n\u001b[1;32m   1767\u001b[0m             \u001b[0mmaybe_callable\u001b[0m \u001b[0;34m=\u001b[0m \u001b[0mcom\u001b[0m\u001b[0;34m.\u001b[0m\u001b[0mapply_if_callable\u001b[0m\u001b[0;34m(\u001b[0m\u001b[0mkey\u001b[0m\u001b[0;34m,\u001b[0m \u001b[0mself\u001b[0m\u001b[0;34m.\u001b[0m\u001b[0mobj\u001b[0m\u001b[0;34m)\u001b[0m\u001b[0;34m\u001b[0m\u001b[0;34m\u001b[0m\u001b[0m\n\u001b[0;32m-> 1768\u001b[0;31m             \u001b[0;32mreturn\u001b[0m \u001b[0mself\u001b[0m\u001b[0;34m.\u001b[0m\u001b[0m_getitem_axis\u001b[0m\u001b[0;34m(\u001b[0m\u001b[0mmaybe_callable\u001b[0m\u001b[0;34m,\u001b[0m \u001b[0maxis\u001b[0m\u001b[0;34m=\u001b[0m\u001b[0maxis\u001b[0m\u001b[0;34m)\u001b[0m\u001b[0;34m\u001b[0m\u001b[0;34m\u001b[0m\u001b[0m\n\u001b[0m\u001b[1;32m   1769\u001b[0m \u001b[0;34m\u001b[0m\u001b[0m\n\u001b[1;32m   1770\u001b[0m     \u001b[0;32mdef\u001b[0m \u001b[0m_is_scalar_access\u001b[0m\u001b[0;34m(\u001b[0m\u001b[0mself\u001b[0m\u001b[0;34m,\u001b[0m \u001b[0mkey\u001b[0m\u001b[0;34m:\u001b[0m \u001b[0mTuple\u001b[0m\u001b[0;34m)\u001b[0m\u001b[0;34m:\u001b[0m\u001b[0;34m\u001b[0m\u001b[0;34m\u001b[0m\u001b[0m\n",
      "\u001b[0;32m~/anaconda3/lib/python3.7/site-packages/pandas/core/indexing.py\u001b[0m in \u001b[0;36m_getitem_axis\u001b[0;34m(self, key, axis)\u001b[0m\n\u001b[1;32m   2136\u001b[0m \u001b[0;34m\u001b[0m\u001b[0m\n\u001b[1;32m   2137\u001b[0m             \u001b[0;31m# validate the location\u001b[0m\u001b[0;34m\u001b[0m\u001b[0;34m\u001b[0m\u001b[0;34m\u001b[0m\u001b[0m\n\u001b[0;32m-> 2138\u001b[0;31m             \u001b[0mself\u001b[0m\u001b[0;34m.\u001b[0m\u001b[0m_validate_integer\u001b[0m\u001b[0;34m(\u001b[0m\u001b[0mkey\u001b[0m\u001b[0;34m,\u001b[0m \u001b[0maxis\u001b[0m\u001b[0;34m)\u001b[0m\u001b[0;34m\u001b[0m\u001b[0;34m\u001b[0m\u001b[0m\n\u001b[0m\u001b[1;32m   2139\u001b[0m \u001b[0;34m\u001b[0m\u001b[0m\n\u001b[1;32m   2140\u001b[0m             \u001b[0;32mreturn\u001b[0m \u001b[0mself\u001b[0m\u001b[0;34m.\u001b[0m\u001b[0m_get_loc\u001b[0m\u001b[0;34m(\u001b[0m\u001b[0mkey\u001b[0m\u001b[0;34m,\u001b[0m \u001b[0maxis\u001b[0m\u001b[0;34m=\u001b[0m\u001b[0maxis\u001b[0m\u001b[0;34m)\u001b[0m\u001b[0;34m\u001b[0m\u001b[0;34m\u001b[0m\u001b[0m\n",
      "\u001b[0;32m~/anaconda3/lib/python3.7/site-packages/pandas/core/indexing.py\u001b[0m in \u001b[0;36m_validate_integer\u001b[0;34m(self, key, axis)\u001b[0m\n\u001b[1;32m   2061\u001b[0m         \u001b[0mlen_axis\u001b[0m \u001b[0;34m=\u001b[0m \u001b[0mlen\u001b[0m\u001b[0;34m(\u001b[0m\u001b[0mself\u001b[0m\u001b[0;34m.\u001b[0m\u001b[0mobj\u001b[0m\u001b[0;34m.\u001b[0m\u001b[0m_get_axis\u001b[0m\u001b[0;34m(\u001b[0m\u001b[0maxis\u001b[0m\u001b[0;34m)\u001b[0m\u001b[0;34m)\u001b[0m\u001b[0;34m\u001b[0m\u001b[0;34m\u001b[0m\u001b[0m\n\u001b[1;32m   2062\u001b[0m         \u001b[0;32mif\u001b[0m \u001b[0mkey\u001b[0m \u001b[0;34m>=\u001b[0m \u001b[0mlen_axis\u001b[0m \u001b[0;32mor\u001b[0m \u001b[0mkey\u001b[0m \u001b[0;34m<\u001b[0m \u001b[0;34m-\u001b[0m\u001b[0mlen_axis\u001b[0m\u001b[0;34m:\u001b[0m\u001b[0;34m\u001b[0m\u001b[0;34m\u001b[0m\u001b[0m\n\u001b[0;32m-> 2063\u001b[0;31m             \u001b[0;32mraise\u001b[0m \u001b[0mIndexError\u001b[0m\u001b[0;34m(\u001b[0m\u001b[0;34m\"single positional indexer is out-of-bounds\"\u001b[0m\u001b[0;34m)\u001b[0m\u001b[0;34m\u001b[0m\u001b[0;34m\u001b[0m\u001b[0m\n\u001b[0m\u001b[1;32m   2064\u001b[0m \u001b[0;34m\u001b[0m\u001b[0m\n\u001b[1;32m   2065\u001b[0m     \u001b[0;32mdef\u001b[0m \u001b[0m_getitem_tuple\u001b[0m\u001b[0;34m(\u001b[0m\u001b[0mself\u001b[0m\u001b[0;34m,\u001b[0m \u001b[0mtup\u001b[0m\u001b[0;34m:\u001b[0m \u001b[0mTuple\u001b[0m\u001b[0;34m)\u001b[0m\u001b[0;34m:\u001b[0m\u001b[0;34m\u001b[0m\u001b[0;34m\u001b[0m\u001b[0m\n",
      "\u001b[0;31mIndexError\u001b[0m: single positional indexer is out-of-bounds"
     ]
    }
   ],
   "source": [
    "digit = []\n",
    "row = []\n",
    "a = []\n",
    "\n",
    "for i in range(634650):\n",
    "    for j in icd9.iloc[i]:\n",
    "        digit = j[0:2]\n",
    "        row.append(digit)\n",
    "    a.append(row)\n",
    "\n",
    "a\n",
    "    \n"
   ]
  },
  {
   "cell_type": "code",
   "execution_count": null,
   "metadata": {},
   "outputs": [],
   "source": [
    "arr1= []\n",
    "for i in range(634709):\n",
    "    if  group2.iloc[i]==1:\n",
    "        arr1.append(1)\n",
    "        \n",
    "    else:\n",
    "        arr1.append(0)\n",
    "\n",
    "grouped['bg1'] = arr1\n",
    "\n",
    "grouped.head()"
   ]
  }
 ],
 "metadata": {
  "kernelspec": {
   "display_name": "Python 3",
   "language": "python",
   "name": "python3"
  },
  "language_info": {
   "codemirror_mode": {
    "name": "ipython",
    "version": 3
   },
   "file_extension": ".py",
   "mimetype": "text/x-python",
   "name": "python",
   "nbconvert_exporter": "python",
   "pygments_lexer": "ipython3",
   "version": "3.7.2"
  }
 },
 "nbformat": 4,
 "nbformat_minor": 2
}
