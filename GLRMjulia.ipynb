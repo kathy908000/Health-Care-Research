{
 "cells": [
  {
   "cell_type": "code",
   "execution_count": 23,
   "metadata": {
    "scrolled": true
   },
   "outputs": [],
   "source": [
    "using LowRankModels\n",
    "using CSV\n",
    "using DataFrames"
   ]
  },
  {
   "cell_type": "code",
   "execution_count": 24,
   "metadata": {},
   "outputs": [
    {
     "ename": "MethodError",
     "evalue": "MethodError: Cannot `convert` an object of type Bool to an object of type String\nClosest candidates are:\n  convert(::Type{String}, !Matched::Union{CategoricalString{R}, CategoricalValue{T,R} where T} where R) at /Users/kathy908000/.julia/packages/CategoricalArrays/dmrjI/src/value.jl:94\n  convert(::Type{String}, !Matched::FilePathsBase.AbstractPath) at /Users/kathy908000/.julia/packages/FilePathsBase/Oyg1p/src/path.jl:83\n  convert(::Type{String}, !Matched::WeakRefStrings.WeakRefString) at /Users/kathy908000/.julia/packages/WeakRefStrings/lqf5B/src/WeakRefStrings.jl:79\n  ...",
     "output_type": "error",
     "traceback": [
      "MethodError: Cannot `convert` an object of type Bool to an object of type String\nClosest candidates are:\n  convert(::Type{String}, !Matched::Union{CategoricalString{R}, CategoricalValue{T,R} where T} where R) at /Users/kathy908000/.julia/packages/CategoricalArrays/dmrjI/src/value.jl:94\n  convert(::Type{String}, !Matched::FilePathsBase.AbstractPath) at /Users/kathy908000/.julia/packages/FilePathsBase/Oyg1p/src/path.jl:83\n  convert(::Type{String}, !Matched::WeakRefStrings.WeakRefString) at /Users/kathy908000/.julia/packages/WeakRefStrings/lqf5B/src/WeakRefStrings.jl:79\n  ...",
      "",
      "Stacktrace:",
      " [1] push!(::Array{String,1}, ::Bool) at ./array.jl:913",
      " [2] Parsers.Options(::Missing, ::UInt8, ::UInt8, ::UInt8, ::UInt8, ::UInt8, ::UInt8, ::UInt8, ::Nothing, ::Nothing, ::Nothing, ::Bool, ::Bool, ::Bool, ::Bool, ::Bool, ::Bool, ::Bool) at /Users/kathy908000/.julia/packages/Parsers/CbiCv/src/Parsers.jl:99",
      " [3] Parsers.Options(::Missing, ::UInt8, ::UInt8, ::UInt8, ::UInt8, ::UInt8, ::UInt8, ::UInt8, ::Nothing, ::Nothing, ::Nothing, ::Bool, ::Bool, ::Bool, ::Bool, ::Bool) at /Users/kathy908000/.julia/packages/Parsers/CbiCv/src/Parsers.jl:62",
      " [4] file(::String, ::Int64, ::Bool, ::Int64, ::Nothing, ::Int64, ::Int64, ::Bool, ::Nothing, ::Bool, ::Bool, ::Array{String,1}, ::String, ::Nothing, ::Bool, ::Char, ::Nothing, ::Nothing, ::Char, ::Nothing, ::UInt8, ::Nothing, ::Nothing, ::Nothing, ::Nothing, ::Dict{Int8,Int8}, ::Bool, ::Float64, ::Bool, ::Bool, ::Nothing, ::Bool, ::Bool, ::Nothing) at /Users/kathy908000/.julia/packages/CSV/4GOjG/src/CSV.jl:384",
      " [5] CSV.File(::String; header::Int64, normalizenames::Bool, datarow::Int64, skipto::Nothing, footerskip::Int64, limit::Int64, transpose::Bool, comment::Nothing, use_mmap::Bool, ignoreemptylines::Bool, missingstrings::Array{String,1}, missingstring::String, delim::Nothing, ignorerepeated::Bool, quotechar::Char, openquotechar::Nothing, closequotechar::Nothing, escapechar::Char, dateformat::Nothing, decimal::UInt8, truestrings::Nothing, falsestrings::Nothing, type::Nothing, types::Nothing, typemap::Dict{Int8,Int8}, categorical::Bool, pool::Float64, strict::Bool, silencewarnings::Bool, threaded::Nothing, debug::Bool, parsingdebug::Bool, allowmissing::Nothing) at /Users/kathy908000/.julia/packages/CSV/4GOjG/src/CSV.jl:260",
      " [6] CSV.File(::String) at /Users/kathy908000/.julia/packages/CSV/4GOjG/src/CSV.jl:260",
      " [7] read(::String; copycols::Bool, kwargs::Base.Iterators.Pairs{Union{},Union{},Tuple{},NamedTuple{(),Tuple{}}}) at /Users/kathy908000/.julia/packages/CSV/4GOjG/src/CSV.jl:1084",
      " [8] read(::String) at /Users/kathy908000/.julia/packages/CSV/4GOjG/src/CSV.jl:1084",
      " [9] top-level scope at In[24]:2"
     ]
    }
   ],
   "source": [
    "df = DataFrame()\n",
    "df = CSV.read(\"diabetesmatrix.csv\")"
   ]
  },
  {
   "cell_type": "code",
   "execution_count": 20,
   "metadata": {},
   "outputs": [
    {
     "ename": "ArgumentError",
     "evalue": "ArgumentError: \"Users\\kathy908000\\github\\Health-Care-Research\\diabetesmatrix.csv\" is not a valid file",
     "output_type": "error",
     "traceback": [
      "ArgumentError: \"Users\\kathy908000\\github\\Health-Care-Research\\diabetesmatrix.csv\" is not a valid file",
      "",
      "Stacktrace:",
      " [1] checkvalidsource at /Users/kathy908000/.julia/packages/CSV/4GOjG/src/CSV.jl:142 [inlined]",
      " [2] file(::String, ::Int64, ::Bool, ::Int64, ::Nothing, ::Int64, ::Int64, ::Bool, ::Nothing, ::Bool, ::Bool, ::Array{String,1}, ::String, ::Nothing, ::Bool, ::Char, ::Nothing, ::Nothing, ::Char, ::Nothing, ::UInt8, ::Nothing, ::Nothing, ::Nothing, ::Nothing, ::Dict{Int8,Int8}, ::Bool, ::Float64, ::Bool, ::Bool, ::Nothing, ::Bool, ::Bool, ::Nothing) at /Users/kathy908000/.julia/packages/CSV/4GOjG/src/CSV.jl:310",
      " [3] CSV.File(::String; header::Int64, normalizenames::Bool, datarow::Int64, skipto::Nothing, footerskip::Int64, limit::Int64, transpose::Bool, comment::Nothing, use_mmap::Bool, ignoreemptylines::Bool, missingstrings::Array{String,1}, missingstring::String, delim::Nothing, ignorerepeated::Bool, quotechar::Char, openquotechar::Nothing, closequotechar::Nothing, escapechar::Char, dateformat::Nothing, decimal::UInt8, truestrings::Nothing, falsestrings::Nothing, type::Nothing, types::Nothing, typemap::Dict{Int8,Int8}, categorical::Bool, pool::Float64, strict::Bool, silencewarnings::Bool, threaded::Nothing, debug::Bool, parsingdebug::Bool, allowmissing::Nothing) at /Users/kathy908000/.julia/packages/CSV/4GOjG/src/CSV.jl:260",
      " [4] CSV.File(::String) at /Users/kathy908000/.julia/packages/CSV/4GOjG/src/CSV.jl:260",
      " [5] read(::String; copycols::Bool, kwargs::Base.Iterators.Pairs{Union{},Union{},Tuple{},NamedTuple{(),Tuple{}}}) at /Users/kathy908000/.julia/packages/CSV/4GOjG/src/CSV.jl:1084",
      " [6] read(::String) at /Users/kathy908000/.julia/packages/CSV/4GOjG/src/CSV.jl:1084",
      " [7] top-level scope at In[20]:1"
     ]
    }
   ],
   "source": [
    "CSV.read(\"C:Users\\\\kathy908000\\\\github\\\\Health-Care-Research\\\\diabetesmatrix.csv\")\n",
    "#CSV.read(\"Users\\\\kathy908000\\\\github\\\\Health-Care-Research\\\\diabetesmatrix.csv\")"
   ]
  },
  {
   "cell_type": "code",
   "execution_count": 13,
   "metadata": {},
   "outputs": [
    {
     "ename": "UndefVarError",
     "evalue": "UndefVarError: df not defined",
     "output_type": "error",
     "traceback": [
      "UndefVarError: df not defined",
      "",
      "Stacktrace:",
      " [1] top-level scope at In[13]:1"
     ]
    }
   ],
   "source": [
    "A = df\n",
    "#tabular data(dataframe) A with m rows and n columns\n",
    "m,n,k = 100,100,5\n",
    "losses = HingeLoss() # minimize squared distance to cluster centroids\n",
    "rx = UnitOneSparseConstraint() # each row is assigned to exactly one cluster\n",
    "ry = ZeroReg() # no regularization on the cluster centroids\n",
    "glrm = GLRM(A,losses,rx,ry,k)"
   ]
  },
  {
   "cell_type": "code",
   "execution_count": 14,
   "metadata": {},
   "outputs": [
    {
     "ename": "UndefVarError",
     "evalue": "UndefVarError: glrm not defined",
     "output_type": "error",
     "traceback": [
      "UndefVarError: glrm not defined",
      "",
      "Stacktrace:",
      " [1] top-level scope at In[14]:1"
     ]
    }
   ],
   "source": [
    "X,Y,ch = fit!(glrm)"
   ]
  },
  {
   "cell_type": "code",
   "execution_count": 1,
   "metadata": {},
   "outputs": [
    {
     "ename": "UndefVarError",
     "evalue": "UndefVarError: GLRM not defined",
     "output_type": "error",
     "traceback": [
      "UndefVarError: GLRM not defined",
      "",
      "Stacktrace:",
      " [1] top-level scope at In[1]:1"
     ]
    }
   ],
   "source": [
    "glrm = GLRM(A,losses,rx,ry,k, offset=true, scale=true)"
   ]
  },
  {
   "cell_type": "code",
   "execution_count": null,
   "metadata": {},
   "outputs": [],
   "source": []
  }
 ],
 "metadata": {
  "kernelspec": {
   "display_name": "Julia 1.4.2",
   "language": "julia",
   "name": "julia-1.4"
  },
  "language_info": {
   "file_extension": ".jl",
   "mimetype": "application/julia",
   "name": "julia",
   "version": "1.4.2"
  }
 },
 "nbformat": 4,
 "nbformat_minor": 2
}
